{
 "cells": [
  {
   "cell_type": "code",
   "execution_count": 1,
   "id": "3b2fa85d",
   "metadata": {},
   "outputs": [],
   "source": [
    "import pandas as pd\n",
    "import spacy\n",
    "from spacy.lang.fr.stop_words import STOP_WORDS\n",
    "from sklearn.feature_extraction.text import TfidfVectorizer\n",
    "from sklearn.metrics.pairwise import cosine_similarity\n",
    "from tqdm.auto import tqdm\n",
    "from nltk.tokenize import word_tokenize"
   ]
  },
  {
   "cell_type": "code",
   "execution_count": 2,
   "id": "d421f9ff",
   "metadata": {},
   "outputs": [],
   "source": [
    "tqdm.pandas()"
   ]
  },
  {
   "cell_type": "code",
   "execution_count": 9,
   "id": "cb05d1a6",
   "metadata": {},
   "outputs": [],
   "source": [
    "df = pd.read_csv('./LeMonde_20211027.csv')"
   ]
  },
  {
   "cell_type": "code",
   "execution_count": 68,
   "id": "b320a2a3",
   "metadata": {},
   "outputs": [],
   "source": [
    "manif = pd.read_csv('./corpus-tidy.csv')\n",
    "manif = manif[['id','date','party','title','text']]\n",
    "party = pd.read_csv('mp_france.csv')\n",
    "id_party = dict(zip(party.party, party.partyname))\n",
    "manif['partyname'] = manif.party.apply(lambda x: id_party[x])\n",
    "manif['annee'] = manif['date'].apply(lambda x: int(str(x)[:4]))"
   ]
  },
  {
   "cell_type": "code",
   "execution_count": 74,
   "id": "d17c868f",
   "metadata": {},
   "outputs": [],
   "source": [
    "def clean(text):\n",
    "    return text.replace('\\r',' ').replace('\\n',' ').replace('\\xa0',' ').replace('\\uf0a0',\" \")"
   ]
  },
  {
   "cell_type": "code",
   "execution_count": 75,
   "id": "7e07256c",
   "metadata": {
    "scrolled": true
   },
   "outputs": [],
   "source": [
    "manif['text'] = manif.text.apply(clean)"
   ]
  },
  {
   "cell_type": "code",
   "execution_count": 223,
   "id": "5f5a58f5",
   "metadata": {},
   "outputs": [],
   "source": [
    "ex_manif = manif[manif['annee']==2012]"
   ]
  },
  {
   "cell_type": "code",
   "execution_count": 224,
   "id": "b7f66d06",
   "metadata": {},
   "outputs": [
    {
     "data": {
      "text/html": [
       "<div>\n",
       "<style scoped>\n",
       "    .dataframe tbody tr th:only-of-type {\n",
       "        vertical-align: middle;\n",
       "    }\n",
       "\n",
       "    .dataframe tbody tr th {\n",
       "        vertical-align: top;\n",
       "    }\n",
       "\n",
       "    .dataframe thead th {\n",
       "        text-align: right;\n",
       "    }\n",
       "</style>\n",
       "<table border=\"1\" class=\"dataframe\">\n",
       "  <thead>\n",
       "    <tr style=\"text-align: right;\">\n",
       "      <th></th>\n",
       "      <th>id</th>\n",
       "      <th>date</th>\n",
       "      <th>party</th>\n",
       "      <th>title</th>\n",
       "      <th>text</th>\n",
       "      <th>partyname</th>\n",
       "      <th>annee</th>\n",
       "    </tr>\n",
       "  </thead>\n",
       "  <tbody>\n",
       "    <tr>\n",
       "      <th>10</th>\n",
       "      <td>31021_201206</td>\n",
       "      <td>201206</td>\n",
       "      <td>31021</td>\n",
       "      <td>L'humain d'abord. Le programme du Front de Gau...</td>\n",
       "      <td>Le programme du Front de Gauche  1. PARTAGER L...</td>\n",
       "      <td>Left Front</td>\n",
       "      <td>2012</td>\n",
       "    </tr>\n",
       "    <tr>\n",
       "      <th>11</th>\n",
       "      <td>31110_201206</td>\n",
       "      <td>201206</td>\n",
       "      <td>31110</td>\n",
       "      <td>Vivre mieux. Vers une société écologique</td>\n",
       "      <td>1. SE LIBERER DE LA DEPENDANCE AUX ÉNERGIES FO...</td>\n",
       "      <td>Europe Ecology - The Greens</td>\n",
       "      <td>2012</td>\n",
       "    </tr>\n",
       "    <tr>\n",
       "      <th>12</th>\n",
       "      <td>31230_201206</td>\n",
       "      <td>201206</td>\n",
       "      <td>31230</td>\n",
       "      <td>L'audace à gauche. 30 propositions pour la France</td>\n",
       "      <td>I. FAIRE FACE À LA CRISE EUROPÉENNE ET MONDIAL...</td>\n",
       "      <td>Left Radical Party</td>\n",
       "      <td>2012</td>\n",
       "    </tr>\n",
       "    <tr>\n",
       "      <th>13</th>\n",
       "      <td>31320_201206</td>\n",
       "      <td>201206</td>\n",
       "      <td>31320</td>\n",
       "      <td>Le changement c'est maintenant. Mes 60 engagem...</td>\n",
       "      <td>Je veux relancer la production, l'emploi et la...</td>\n",
       "      <td>Socialist Party</td>\n",
       "      <td>2012</td>\n",
       "    </tr>\n",
       "    <tr>\n",
       "      <th>14</th>\n",
       "      <td>31421_201206</td>\n",
       "      <td>201206</td>\n",
       "      <td>31421</td>\n",
       "      <td>Le Manifeste du Parti Radical 2012. Pour répon...</td>\n",
       "      <td>1RE PARTIE  Fédérer tous les acteurs pour lanc...</td>\n",
       "      <td>Radical Party</td>\n",
       "      <td>2012</td>\n",
       "    </tr>\n",
       "    <tr>\n",
       "      <th>15</th>\n",
       "      <td>31624_201206</td>\n",
       "      <td>201206</td>\n",
       "      <td>31624</td>\n",
       "      <td>La France solidaire</td>\n",
       "      <td>FRANÇOIS BAYROU  (mouvement démocrate)  LA FRA...</td>\n",
       "      <td>Democratic Movement</td>\n",
       "      <td>2012</td>\n",
       "    </tr>\n",
       "    <tr>\n",
       "      <th>16</th>\n",
       "      <td>31626_201206</td>\n",
       "      <td>201206</td>\n",
       "      <td>31626</td>\n",
       "      <td>Projet 2012. Protéger et préparer l'avenir des...</td>\n",
       "      <td>LE COURAGE  PRODUIRE PLUS ET DEPENSER MOINS  P...</td>\n",
       "      <td>The Republicans</td>\n",
       "      <td>2012</td>\n",
       "    </tr>\n",
       "    <tr>\n",
       "      <th>17</th>\n",
       "      <td>31630_201206</td>\n",
       "      <td>201206</td>\n",
       "      <td>31630</td>\n",
       "      <td>Des idées neuves pour changer la France</td>\n",
       "      <td>Des idées neuves pour changer la France,  PROG...</td>\n",
       "      <td>New Centre</td>\n",
       "      <td>2012</td>\n",
       "    </tr>\n",
       "    <tr>\n",
       "      <th>18</th>\n",
       "      <td>31631_201206</td>\n",
       "      <td>201206</td>\n",
       "      <td>31631</td>\n",
       "      <td>Rassembler tous les centristes. Notre Programme</td>\n",
       "      <td>Alliance centriste  Rassembler tous les centri...</td>\n",
       "      <td>Centrist Alliance</td>\n",
       "      <td>2012</td>\n",
       "    </tr>\n",
       "    <tr>\n",
       "      <th>19</th>\n",
       "      <td>31720_201206</td>\n",
       "      <td>201206</td>\n",
       "      <td>31720</td>\n",
       "      <td>Mon Projet pour la France et les francais. Mar...</td>\n",
       "      <td>POUVOIR D'ACHAT  RELANCE DE L'ÉCONOMIE  ~ Tous...</td>\n",
       "      <td>National Front</td>\n",
       "      <td>2012</td>\n",
       "    </tr>\n",
       "  </tbody>\n",
       "</table>\n",
       "</div>"
      ],
      "text/plain": [
       "              id    date  party  \\\n",
       "10  31021_201206  201206  31021   \n",
       "11  31110_201206  201206  31110   \n",
       "12  31230_201206  201206  31230   \n",
       "13  31320_201206  201206  31320   \n",
       "14  31421_201206  201206  31421   \n",
       "15  31624_201206  201206  31624   \n",
       "16  31626_201206  201206  31626   \n",
       "17  31630_201206  201206  31630   \n",
       "18  31631_201206  201206  31631   \n",
       "19  31720_201206  201206  31720   \n",
       "\n",
       "                                                title  \\\n",
       "10  L'humain d'abord. Le programme du Front de Gau...   \n",
       "11           Vivre mieux. Vers une société écologique   \n",
       "12  L'audace à gauche. 30 propositions pour la France   \n",
       "13  Le changement c'est maintenant. Mes 60 engagem...   \n",
       "14  Le Manifeste du Parti Radical 2012. Pour répon...   \n",
       "15                                La France solidaire   \n",
       "16  Projet 2012. Protéger et préparer l'avenir des...   \n",
       "17            Des idées neuves pour changer la France   \n",
       "18    Rassembler tous les centristes. Notre Programme   \n",
       "19  Mon Projet pour la France et les francais. Mar...   \n",
       "\n",
       "                                                 text  \\\n",
       "10  Le programme du Front de Gauche  1. PARTAGER L...   \n",
       "11  1. SE LIBERER DE LA DEPENDANCE AUX ÉNERGIES FO...   \n",
       "12  I. FAIRE FACE À LA CRISE EUROPÉENNE ET MONDIAL...   \n",
       "13  Je veux relancer la production, l'emploi et la...   \n",
       "14  1RE PARTIE  Fédérer tous les acteurs pour lanc...   \n",
       "15  FRANÇOIS BAYROU  (mouvement démocrate)  LA FRA...   \n",
       "16  LE COURAGE  PRODUIRE PLUS ET DEPENSER MOINS  P...   \n",
       "17  Des idées neuves pour changer la France,  PROG...   \n",
       "18  Alliance centriste  Rassembler tous les centri...   \n",
       "19  POUVOIR D'ACHAT  RELANCE DE L'ÉCONOMIE  ~ Tous...   \n",
       "\n",
       "                      partyname  annee  \n",
       "10                   Left Front   2012  \n",
       "11  Europe Ecology - The Greens   2012  \n",
       "12           Left Radical Party   2012  \n",
       "13              Socialist Party   2012  \n",
       "14                Radical Party   2012  \n",
       "15          Democratic Movement   2012  \n",
       "16              The Republicans   2012  \n",
       "17                   New Centre   2012  \n",
       "18            Centrist Alliance   2012  \n",
       "19               National Front   2012  "
      ]
     },
     "execution_count": 224,
     "metadata": {},
     "output_type": "execute_result"
    }
   ],
   "source": [
    "ex_manif"
   ]
  },
  {
   "cell_type": "code",
   "execution_count": 225,
   "id": "908c06cf",
   "metadata": {},
   "outputs": [],
   "source": [
    "lm2012 = df[df['annee']==2012]\n",
    "lm2013 = df[df['annee']==2013]\n",
    "lm2014 = df[df['annee']==2014]\n",
    "\n",
    "lm = pd.concat([lm2012,lm2013,lm2014])"
   ]
  },
  {
   "cell_type": "code",
   "execution_count": 226,
   "id": "65658cf4",
   "metadata": {},
   "outputs": [],
   "source": [
    "embed = pd.concat([ex_manif[['text','annee','partyname']].rename({'text':'texte'},axis=1), lm[['texte','annee']]],ignore_index=True)\n",
    "embed = embed.fillna('Le Monde')"
   ]
  },
  {
   "cell_type": "code",
   "execution_count": 227,
   "id": "fc2ab846",
   "metadata": {},
   "outputs": [
    {
     "data": {
      "text/plain": [
       "(4227, 3)"
      ]
     },
     "execution_count": 227,
     "metadata": {},
     "output_type": "execute_result"
    }
   ],
   "source": [
    "embed.shape"
   ]
  },
  {
   "cell_type": "code",
   "execution_count": 228,
   "id": "2850a4e0",
   "metadata": {},
   "outputs": [],
   "source": [
    "#!python -m spacy download fr_core_news_sm\n",
    "nlp = spacy.load(\"fr_core_news_sm\")"
   ]
  },
  {
   "cell_type": "code",
   "execution_count": null,
   "id": "3dbb3074",
   "metadata": {
    "scrolled": false
   },
   "outputs": [],
   "source": [
    "%%time\n",
    "\n",
    "docs = nlp.pipe(embed.texte)\n",
    "\n",
    "texts = []\n",
    "for doc in docs:\n",
    "    words = []\n",
    "    for tok in doc:\n",
    "        if tok.pos_ in ['NOUN', 'ADJ']:\n",
    "            words.append(tok.lemma_)\n",
    "    texts.append(\" \".join(words))"
   ]
  },
  {
   "cell_type": "code",
   "execution_count": null,
   "id": "7fa07300",
   "metadata": {},
   "outputs": [],
   "source": [
    "tf_idf_vect = TfidfVectorizer(stop_words=STOP_WORDS)"
   ]
  },
  {
   "cell_type": "code",
   "execution_count": null,
   "id": "f2c5ab8d",
   "metadata": {},
   "outputs": [],
   "source": [
    "vectors = tf_idf_vect.fit_transform(texts)"
   ]
  },
  {
   "cell_type": "code",
   "execution_count": null,
   "id": "3a79ea84",
   "metadata": {},
   "outputs": [],
   "source": [
    "dense = vectors.todense()\n",
    "denselist = dense.tolist()"
   ]
  },
  {
   "cell_type": "code",
   "execution_count": null,
   "id": "4eed812a",
   "metadata": {
    "scrolled": true
   },
   "outputs": [],
   "source": [
    "#feature_names = tf_idf_vect.get_feature_names()"
   ]
  },
  {
   "cell_type": "code",
   "execution_count": null,
   "id": "00f0ee5a",
   "metadata": {},
   "outputs": [],
   "source": [
    "embed['tfidf'] = pd.Series(denselist)"
   ]
  },
  {
   "cell_type": "code",
   "execution_count": null,
   "id": "5fadd3da",
   "metadata": {},
   "outputs": [],
   "source": [
    "len(ex_manif)"
   ]
  },
  {
   "cell_type": "code",
   "execution_count": null,
   "id": "a62cd3ad",
   "metadata": {},
   "outputs": [],
   "source": [
    "dist = cosine_similarity(embed.loc[:len(ex_manif)-1, 'tfidf'].values.tolist(),embed.loc[len(ex_manif):, 'tfidf'].values.tolist())"
   ]
  },
  {
   "cell_type": "code",
   "execution_count": null,
   "id": "a781715d",
   "metadata": {},
   "outputs": [],
   "source": [
    "len(dist)"
   ]
  },
  {
   "cell_type": "code",
   "execution_count": null,
   "id": "38063d6e",
   "metadata": {},
   "outputs": [],
   "source": [
    "for i,partname in enumerate(ex_manif.partyname):\n",
    "    embed.loc[len(ex_manif):,'distance '+partname] = dist[i]"
   ]
  },
  {
   "cell_type": "code",
   "execution_count": null,
   "id": "78cfe3d3",
   "metadata": {},
   "outputs": [],
   "source": [
    "pd.options.plotting.backend = \"plotly\""
   ]
  },
  {
   "cell_type": "code",
   "execution_count": null,
   "id": "b7c82094",
   "metadata": {},
   "outputs": [],
   "source": [
    "fig = embed.dropna().groupby('annee').mean().plot()"
   ]
  },
  {
   "cell_type": "code",
   "execution_count": null,
   "id": "5c4331a3",
   "metadata": {
    "scrolled": false
   },
   "outputs": [],
   "source": [
    "fig.show()"
   ]
  },
  {
   "cell_type": "code",
   "execution_count": 222,
   "id": "6765af5e",
   "metadata": {},
   "outputs": [],
   "source": [
    "fig.write_html('pol_2002.html')"
   ]
  },
  {
   "cell_type": "code",
   "execution_count": null,
   "id": "ae24e728",
   "metadata": {},
   "outputs": [],
   "source": []
  }
 ],
 "metadata": {
  "kernelspec": {
   "display_name": "Python 3",
   "language": "python",
   "name": "python3"
  },
  "language_info": {
   "codemirror_mode": {
    "name": "ipython",
    "version": 3
   },
   "file_extension": ".py",
   "mimetype": "text/x-python",
   "name": "python",
   "nbconvert_exporter": "python",
   "pygments_lexer": "ipython3",
   "version": "3.8.8"
  }
 },
 "nbformat": 4,
 "nbformat_minor": 5
}
