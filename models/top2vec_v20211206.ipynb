{
 "cells": [
  {
   "cell_type": "code",
   "execution_count": 1,
   "id": "c916e4d5",
   "metadata": {},
   "outputs": [],
   "source": [
    "from top2vec import Top2Vec"
   ]
  },
  {
   "cell_type": "code",
   "execution_count": 2,
   "id": "7b1de4ee",
   "metadata": {},
   "outputs": [],
   "source": [
    "import pandas as pd\n",
    "import numpy as np"
   ]
  },
  {
   "cell_type": "code",
   "execution_count": 3,
   "id": "7bb8395e",
   "metadata": {},
   "outputs": [],
   "source": [
    "from nltk.tokenize import sent_tokenize"
   ]
  },
  {
   "cell_type": "code",
   "execution_count": 118,
   "id": "f9e2ea1c",
   "metadata": {},
   "outputs": [],
   "source": [
    "import plotly.express as px\n",
    "import plotly.graph_objects as go"
   ]
  },
  {
   "cell_type": "code",
   "execution_count": 4,
   "id": "835dec20",
   "metadata": {},
   "outputs": [],
   "source": [
    "from tqdm.auto import tqdm"
   ]
  },
  {
   "cell_type": "code",
   "execution_count": 6,
   "id": "79fe221f",
   "metadata": {},
   "outputs": [],
   "source": [
    "tqdm.pandas()"
   ]
  },
  {
   "cell_type": "code",
   "execution_count": 7,
   "id": "6503f2ef",
   "metadata": {},
   "outputs": [],
   "source": [
    "df = pd.read_csv('./manifesto_articles_preprocessed.csv').rename({'index':'id_fichier'},axis=1)"
   ]
  },
  {
   "cell_type": "code",
   "execution_count": 8,
   "id": "b38da02f",
   "metadata": {},
   "outputs": [],
   "source": [
    "manifestos = df[~df.partyname.isin([\"Le Monde\", \"Le Figaro\"])].reset_index(drop=True)"
   ]
  },
  {
   "cell_type": "code",
   "execution_count": 9,
   "id": "cf1e3f27",
   "metadata": {},
   "outputs": [],
   "source": [
    "articles = df[df.partyname.isin([\"Le Monde\", \"Le Figaro\"])].reset_index(drop=True)"
   ]
  },
  {
   "cell_type": "code",
   "execution_count": 10,
   "id": "27933807",
   "metadata": {},
   "outputs": [],
   "source": [
    "manifestos = manifestos.reset_index().rename({'index':'id_manifesto'},axis=1)"
   ]
  },
  {
   "cell_type": "code",
   "execution_count": 11,
   "id": "e5ba56bf",
   "metadata": {},
   "outputs": [],
   "source": [
    "dict_party = {'Socialist Party':'PS',\n",
    "              'Europe Ecology - The Greens':'EELV',\n",
    "              'The Republicans':'RPR/UMP/LR',\n",
    "              'National Front':'FN',\n",
    "              'Democratic Movement':'MoDem/EM',\n",
    "              'Republic Onwards!':'MoDem/EM',\n",
    "              'Left Front':'PCF/PG/LFI',\n",
    "              'Indomitable France':'PCF/PG/LFI',\n",
    "              'French Communist Party':'PCF/PG/LFI'}"
   ]
  },
  {
   "cell_type": "code",
   "execution_count": 12,
   "id": "1c73f129",
   "metadata": {},
   "outputs": [],
   "source": [
    "manifestos.partyname = manifestos.partyname.apply(lambda x: dict_party[x])"
   ]
  },
  {
   "cell_type": "code",
   "execution_count": 13,
   "id": "fb3dfdde",
   "metadata": {},
   "outputs": [],
   "source": [
    "articles = articles.reset_index().rename({'index':'id_article'},axis=1)"
   ]
  },
  {
   "cell_type": "code",
   "execution_count": 14,
   "id": "94df5bc0",
   "metadata": {},
   "outputs": [],
   "source": [
    "manifestos['sents'] = manifestos.text.apply(lambda x: sent_tokenize(x,language='french'))"
   ]
  },
  {
   "cell_type": "code",
   "execution_count": 15,
   "id": "2d670fff",
   "metadata": {},
   "outputs": [],
   "source": [
    "manifestos['sents'] = manifestos.apply(lambda row: [[row['id_manifesto'], sent] for sent in row['sents']], axis=1)"
   ]
  },
  {
   "cell_type": "code",
   "execution_count": 254,
   "id": "eef5cfeb",
   "metadata": {},
   "outputs": [],
   "source": [
    "manifesto_sents = pd.DataFrame([a for b in manifestos.sents for a in b])"
   ]
  },
  {
   "cell_type": "code",
   "execution_count": 255,
   "id": "6058dc89",
   "metadata": {},
   "outputs": [],
   "source": [
    "manifesto_sents.columns = ['id_manifesto','sent']"
   ]
  },
  {
   "cell_type": "code",
   "execution_count": 257,
   "id": "f3a6a446",
   "metadata": {},
   "outputs": [],
   "source": [
    "manifesto_sents = pd.merge(manifesto_sents, manifestos[['id_manifesto','partyname','annee']], on='id_manifesto',how='left')"
   ]
  },
  {
   "cell_type": "code",
   "execution_count": 18,
   "id": "c968ea61",
   "metadata": {},
   "outputs": [
    {
     "data": {
      "text/plain": [
       "16334"
      ]
     },
     "execution_count": 18,
     "metadata": {},
     "output_type": "execute_result"
    }
   ],
   "source": [
    "len(manifesto_sents.sent.tolist())"
   ]
  },
  {
   "cell_type": "code",
   "execution_count": 318,
   "id": "b6e41f93",
   "metadata": {},
   "outputs": [
    {
     "data": {
      "application/vnd.jupyter.widget-view+json": {
       "model_id": "5217b336526846daa334f38b0b173da2",
       "version_major": 2,
       "version_minor": 0
      },
      "text/plain": [
       "  0%|          | 0/23 [00:00<?, ?it/s]"
      ]
     },
     "metadata": {},
     "output_type": "display_data"
    },
    {
     "data": {
      "application/vnd.jupyter.widget-view+json": {
       "model_id": "e00638d7c1a3415b8fcabd462afe5989",
       "version_major": 2,
       "version_minor": 0
      },
      "text/plain": [
       "  0%|          | 0/23 [00:00<?, ?it/s]"
      ]
     },
     "metadata": {},
     "output_type": "display_data"
    }
   ],
   "source": [
    "manifestos.words = manifestos.words.progress_apply(eval).progress_apply(lambda x: [a for a in x if a not in [\"→\",\"”\",\"“\"]])"
   ]
  },
  {
   "cell_type": "code",
   "execution_count": 319,
   "id": "a66ac898",
   "metadata": {},
   "outputs": [],
   "source": [
    "manifestos['chunks'] = manifestos.apply(lambda row: [[row['id_manifesto'], row['words'][x:x+100]] for x in range(0, len(row['words']), 100)], axis=1)"
   ]
  },
  {
   "cell_type": "code",
   "execution_count": 985,
   "id": "bc12a541",
   "metadata": {},
   "outputs": [],
   "source": [
    "chunks_manifesto = pd.DataFrame([a for b in manifestos.chunks for a in b])\n",
    "chunks_manifesto.columns = ['id_manifesto','words']"
   ]
  },
  {
   "cell_type": "code",
   "execution_count": 986,
   "id": "f57a13be",
   "metadata": {},
   "outputs": [],
   "source": [
    "chunks_manifesto['text'] = chunks_manifesto.words.apply(lambda x: \" \".join(x))"
   ]
  },
  {
   "cell_type": "code",
   "execution_count": 987,
   "id": "442bd23c",
   "metadata": {},
   "outputs": [],
   "source": [
    "chunks_manifesto = pd.merge(chunks_manifesto, manifestos[['id_manifesto','partyname','annee']])"
   ]
  },
  {
   "cell_type": "code",
   "execution_count": 37,
   "id": "009da388",
   "metadata": {},
   "outputs": [],
   "source": [
    "from sklearn.datasets import fetch_20newsgroups\n",
    "\n",
    "newsgroups = fetch_20newsgroups(subset='all', remove=('headers', 'footers', 'quotes'))"
   ]
  },
  {
   "cell_type": "code",
   "execution_count": 50,
   "id": "1faee573",
   "metadata": {},
   "outputs": [],
   "source": [
    "\"\"\" Overwrite the constructor of the Top2Vec for reproducibility by adding the parameter random_state.\n",
    "\n",
    "Its value is used to set the parameters seed in Doc2Vec and random_state in umap.    \n",
    "\n",
    "Note that for a fully deterministically-reproducible run, you must also limit the model \n",
    "to a single worker thread (workers=1), to eliminate ordering jitter from OS thread scheduling. \n",
    "\"\"\"\n",
    "\n",
    "\n",
    "\n",
    "\n",
    "import logging\n",
    "import numpy as np\n",
    "import pandas as pd\n",
    "from gensim.models.doc2vec import Doc2Vec, TaggedDocument\n",
    "from gensim.utils import simple_preprocess\n",
    "from gensim.parsing.preprocessing import strip_tags\n",
    "import umap\n",
    "import hdbscan\n",
    "from wordcloud import WordCloud\n",
    "import matplotlib.pyplot as plt\n",
    "from joblib import dump, load\n",
    "from sklearn.cluster import dbscan\n",
    "import tempfile\n",
    "from sklearn.feature_extraction.text import CountVectorizer\n",
    "from sklearn.preprocessing import normalize\n",
    "from scipy.special import softmax\n",
    "\n",
    "try:\n",
    "    import hnswlib\n",
    "\n",
    "    _HAVE_HNSWLIB = True\n",
    "except ImportError:\n",
    "    _HAVE_HNSWLIB = False\n",
    "\n",
    "try:\n",
    "    import tensorflow as tf\n",
    "    import tensorflow_hub as hub\n",
    "    import tensorflow_text\n",
    "\n",
    "    _HAVE_TENSORFLOW = True\n",
    "except ImportError:\n",
    "    _HAVE_TENSORFLOW = False\n",
    "\n",
    "try:\n",
    "    from sentence_transformers import SentenceTransformer\n",
    "\n",
    "    _HAVE_TORCH = True\n",
    "except ImportError:\n",
    "    _HAVE_TORCH = False\n",
    "\n",
    "logger = logging.getLogger('top2vec')\n",
    "logger.setLevel(logging.WARNING)\n",
    "sh = logging.StreamHandler()\n",
    "sh.setFormatter(logging.Formatter('%(asctime)s - %(name)s - %(levelname)s - %(message)s'))\n",
    "logger.addHandler(sh)\n",
    "\n",
    "def default_tokenizer(doc):\n",
    "    \"\"\"Tokenize documents for training and remove too long/short words\"\"\"\n",
    "    return simple_preprocess(strip_tags(doc), deacc=True)\n",
    "\n",
    "class Top2Vec_rep(Top2Vec):\n",
    "    def __init__(self,\n",
    "                 documents,\n",
    "                 min_count=50,\n",
    "                 embedding_model='doc2vec',\n",
    "                 embedding_model_path=None,\n",
    "                 speed='learn',\n",
    "                 use_corpus_file=False,\n",
    "                 document_ids=None,\n",
    "                 keep_documents=True,\n",
    "                 workers=None,\n",
    "                 tokenizer=None,\n",
    "                 use_embedding_model_tokenizer=False,\n",
    "                 umap_args=None,\n",
    "                 hdbscan_args=None,\n",
    "                 verbose=True,\n",
    "                 random_state=42\n",
    "                 ):\n",
    "\n",
    "        if verbose:\n",
    "            logger.setLevel(logging.DEBUG)\n",
    "            self.verbose = True\n",
    "        else:\n",
    "            logger.setLevel(logging.WARNING)\n",
    "            self.verbose = False\n",
    "\n",
    "        if tokenizer is None:\n",
    "            tokenizer = default_tokenizer\n",
    "\n",
    "        # validate documents\n",
    "        if not (isinstance(documents, list) or isinstance(documents, np.ndarray)):\n",
    "            raise ValueError(\"Documents need to be a list of strings\")\n",
    "        if not all((isinstance(doc, str) or isinstance(doc, np.str_)) for doc in documents):\n",
    "            raise ValueError(\"Documents need to be a list of strings\")\n",
    "        if keep_documents:\n",
    "            self.documents = np.array(documents, dtype=\"object\")\n",
    "        else:\n",
    "            self.documents = None\n",
    "\n",
    "        # validate document ids\n",
    "        if document_ids is not None:\n",
    "            if not (isinstance(document_ids, list) or isinstance(document_ids, np.ndarray)):\n",
    "                raise ValueError(\"Documents ids need to be a list of str or int\")\n",
    "\n",
    "            if len(documents) != len(document_ids):\n",
    "                raise ValueError(\"Document ids need to match number of documents\")\n",
    "            elif len(document_ids) != len(set(document_ids)):\n",
    "                raise ValueError(\"Document ids need to be unique\")\n",
    "\n",
    "            if all((isinstance(doc_id, str) or isinstance(doc_id, np.str_)) for doc_id in document_ids):\n",
    "                self.doc_id_type = np.str_\n",
    "            elif all((isinstance(doc_id, int) or isinstance(doc_id, np.int_)) for doc_id in document_ids):\n",
    "                self.doc_id_type = np.int_\n",
    "            else:\n",
    "                raise ValueError(\"Document ids need to be str or int\")\n",
    "\n",
    "            self.document_ids_provided = True\n",
    "            self.document_ids = np.array(document_ids)\n",
    "            self.doc_id2index = dict(zip(document_ids, list(range(0, len(document_ids)))))\n",
    "        else:\n",
    "            self.document_ids_provided = False\n",
    "            self.document_ids = np.array(range(0, len(documents)))\n",
    "            self.doc_id2index = dict(zip(self.document_ids, list(range(0, len(self.document_ids)))))\n",
    "            self.doc_id_type = np.int_\n",
    "\n",
    "        acceptable_embedding_models = [\"universal-sentence-encoder-multilingual\",\n",
    "                                       \"universal-sentence-encoder\",\n",
    "                                       \"distiluse-base-multilingual-cased\"]\n",
    "\n",
    "        self.embedding_model_path = embedding_model_path\n",
    "\n",
    "        if embedding_model == 'doc2vec':\n",
    "\n",
    "            # validate training inputs\n",
    "            if speed == \"fast-learn\":\n",
    "                hs = 0\n",
    "                negative = 5\n",
    "                epochs = 40\n",
    "            elif speed == \"learn\":\n",
    "                hs = 1\n",
    "                negative = 0\n",
    "                epochs = 40\n",
    "            elif speed == \"deep-learn\":\n",
    "                hs = 1\n",
    "                negative = 0\n",
    "                epochs = 400\n",
    "            elif speed == \"test-learn\":\n",
    "                hs = 0\n",
    "                negative = 5\n",
    "                epochs = 1\n",
    "            else:\n",
    "                raise ValueError(\"speed parameter needs to be one of: fast-learn, learn or deep-learn\")\n",
    "\n",
    "            if workers is None:\n",
    "                pass\n",
    "            elif isinstance(workers, int):\n",
    "                pass\n",
    "            else:\n",
    "                raise ValueError(\"workers needs to be an int\")\n",
    "\n",
    "            doc2vec_args = {\"vector_size\": 300,\n",
    "                            \"min_count\": min_count,\n",
    "                            \"window\": 15,\n",
    "                            \"sample\": 1e-5,\n",
    "                            \"negative\": negative,\n",
    "                            \"hs\": hs,\n",
    "                            \"epochs\": epochs,\n",
    "                            \"dm\": 0,\n",
    "                            \"dbow_words\": 1,\n",
    "                            \"seed\": random_state}\n",
    "\n",
    "            if workers is not None:\n",
    "                doc2vec_args[\"workers\"] = workers\n",
    "\n",
    "            logger.info('Pre-processing documents for training')\n",
    "\n",
    "            if use_corpus_file:\n",
    "                processed = [' '.join(tokenizer(doc)) for doc in documents]\n",
    "                lines = \"\\n\".join(processed)\n",
    "                temp = tempfile.NamedTemporaryFile(mode='w+t')\n",
    "                temp.write(lines)\n",
    "                doc2vec_args[\"corpus_file\"] = temp.name\n",
    "\n",
    "\n",
    "            else:\n",
    "                train_corpus = [TaggedDocument(tokenizer(doc), [i]) for i, doc in enumerate(documents)]\n",
    "                doc2vec_args[\"documents\"] = train_corpus\n",
    "\n",
    "            logger.info('Creating joint document/word embedding')\n",
    "            self.embedding_model = 'doc2vec'\n",
    "            self.model = Doc2Vec(**doc2vec_args)\n",
    "\n",
    "            if use_corpus_file:\n",
    "                temp.close()\n",
    "\n",
    "        elif embedding_model in acceptable_embedding_models:\n",
    "\n",
    "            self.embed = None\n",
    "            self.embedding_model = embedding_model\n",
    "\n",
    "            self._check_import_status()\n",
    "\n",
    "            logger.info('Pre-processing documents for training')\n",
    "\n",
    "            # preprocess documents\n",
    "            tokenized_corpus = [tokenizer(doc) for doc in documents]\n",
    "\n",
    "            def return_doc(doc):\n",
    "                return doc\n",
    "\n",
    "            # preprocess vocabulary\n",
    "            vectorizer = CountVectorizer(tokenizer=return_doc, preprocessor=return_doc)\n",
    "            doc_word_counts = vectorizer.fit_transform(tokenized_corpus)\n",
    "            words = vectorizer.get_feature_names()\n",
    "            word_counts = np.array(np.sum(doc_word_counts, axis=0).tolist()[0])\n",
    "            vocab_inds = np.where(word_counts > min_count)[0]\n",
    "\n",
    "            if len(vocab_inds) == 0:\n",
    "                raise ValueError(f\"A min_count of {min_count} results in \"\n",
    "                                 f\"all words being ignored, choose a lower value.\")\n",
    "            self.vocab = [words[ind] for ind in vocab_inds]\n",
    "\n",
    "            self._check_model_status()\n",
    "\n",
    "            logger.info('Creating joint document/word embedding')\n",
    "\n",
    "            # embed words\n",
    "            self.word_indexes = dict(zip(self.vocab, range(len(self.vocab))))\n",
    "            self.word_vectors = self._l2_normalize(np.array(self.embed(self.vocab)))\n",
    "\n",
    "            # embed documents\n",
    "            if use_embedding_model_tokenizer:\n",
    "                self.document_vectors = self._embed_documents(documents)\n",
    "            else:\n",
    "                train_corpus = [' '.join(tokens) for tokens in tokenized_corpus]\n",
    "                self.document_vectors = self._embed_documents(train_corpus)\n",
    "\n",
    "        else:\n",
    "            raise ValueError(f\"{embedding_model} is an invalid embedding model.\")\n",
    "\n",
    "        # create 5D embeddings of documents\n",
    "        logger.info('Creating lower dimension embedding of documents')\n",
    "\n",
    "        if umap_args is None:\n",
    "            umap_args = {'n_neighbors': 15,\n",
    "                         'n_components': 5,\n",
    "                         'metric': 'cosine',\n",
    "                         'random_state':random_state}\n",
    "\n",
    "        umap_model = umap.UMAP(**umap_args).fit(self._get_document_vectors(norm=False))\n",
    "\n",
    "        # find dense areas of document vectors\n",
    "        logger.info('Finding dense areas of documents')\n",
    "\n",
    "        if hdbscan_args is None:\n",
    "            hdbscan_args = {'min_cluster_size': 15,\n",
    "                            'metric': 'euclidean',\n",
    "                            'cluster_selection_method': 'eom'}\n",
    "\n",
    "        cluster = hdbscan.HDBSCAN(**hdbscan_args).fit(umap_model.embedding_)\n",
    "\n",
    "        # calculate topic vectors from dense areas of documents\n",
    "        logger.info('Finding topics')\n",
    "\n",
    "        # create topic vectors\n",
    "        self._create_topic_vectors(cluster.labels_)\n",
    "\n",
    "        # deduplicate topics\n",
    "        self._deduplicate_topics()\n",
    "\n",
    "        # find topic words and scores\n",
    "        self.topic_words, self.topic_word_scores = self._find_topic_words_and_scores(topic_vectors=self.topic_vectors)\n",
    "\n",
    "        # assign documents to topic\n",
    "        self.doc_top, self.doc_dist = self._calculate_documents_topic(self.topic_vectors,\n",
    "                                                                      self._get_document_vectors())\n",
    "\n",
    "        # calculate topic sizes\n",
    "        self.topic_sizes = self._calculate_topic_sizes(hierarchy=False)\n",
    "\n",
    "        # re-order topics\n",
    "        self._reorder_topics(hierarchy=False)\n",
    "\n",
    "        # initialize variables for hierarchical topic reduction\n",
    "        self.topic_vectors_reduced = None\n",
    "        self.doc_top_reduced = None\n",
    "        self.doc_dist_reduced = None\n",
    "        self.topic_sizes_reduced = None\n",
    "        self.topic_words_reduced = None\n",
    "        self.topic_word_scores_reduced = None\n",
    "        self.hierarchy = None\n",
    "\n",
    "        # initialize document indexing variables\n",
    "        self.document_index = None\n",
    "        self.serialized_document_index = None\n",
    "        self.documents_indexed = False\n",
    "        self.index_id2doc_id = None\n",
    "        self.doc_id2index_id = None\n",
    "\n",
    "        # initialize word indexing variables\n",
    "        self.word_index = None\n",
    "        self.serialized_word_index = None\n",
    "        self.words_indexed = False"
   ]
  },
  {
   "cell_type": "code",
   "execution_count": 550,
   "id": "b4e4d0de",
   "metadata": {},
   "outputs": [
    {
     "name": "stderr",
     "output_type": "stream",
     "text": [
      "2021-12-06 14:10:25,863 - top2vec - INFO - Pre-processing documents for training\n",
      "2021-12-06 14:10:25,863 - top2vec - INFO - Pre-processing documents for training\n",
      "2021-12-06 14:10:25,863 - top2vec - INFO - Pre-processing documents for training\n",
      "INFO:top2vec:Pre-processing documents for training\n",
      "2021-12-06 14:10:27,282 - top2vec - INFO - Creating joint document/word embedding\n",
      "2021-12-06 14:10:27,282 - top2vec - INFO - Creating joint document/word embedding\n",
      "2021-12-06 14:10:27,282 - top2vec - INFO - Creating joint document/word embedding\n",
      "INFO:top2vec:Creating joint document/word embedding\n",
      "2021-12-06 14:10:52,216 - top2vec - INFO - Creating lower dimension embedding of documents\n",
      "2021-12-06 14:10:52,216 - top2vec - INFO - Creating lower dimension embedding of documents\n",
      "2021-12-06 14:10:52,216 - top2vec - INFO - Creating lower dimension embedding of documents\n",
      "INFO:top2vec:Creating lower dimension embedding of documents\n",
      "2021-12-06 14:11:06,591 - top2vec - INFO - Finding dense areas of documents\n",
      "2021-12-06 14:11:06,591 - top2vec - INFO - Finding dense areas of documents\n",
      "2021-12-06 14:11:06,591 - top2vec - INFO - Finding dense areas of documents\n",
      "INFO:top2vec:Finding dense areas of documents\n",
      "2021-12-06 14:11:07,403 - top2vec - INFO - Finding topics\n",
      "2021-12-06 14:11:07,403 - top2vec - INFO - Finding topics\n",
      "2021-12-06 14:11:07,403 - top2vec - INFO - Finding topics\n",
      "INFO:top2vec:Finding topics\n"
     ]
    }
   ],
   "source": [
    "d2vmodel = Top2Vec_rep(documents=manifesto_sents.sent.tolist(),\n",
    "                    embedding_model='doc2vec', #universal-sentence-encoder-multilingual, distiluse-base-multilingual-cased\n",
    "                    speed=\"learn\",\n",
    "                    #min_count=0,\n",
    "                    #use_embedding_model_tokenizer=True,\n",
    "                    workers=1,\n",
    "                    random_state=2021)"
   ]
  },
  {
   "cell_type": "code",
   "execution_count": 555,
   "id": "24217313",
   "metadata": {},
   "outputs": [
    {
     "name": "stdout",
     "output_type": "stream",
     "text": [
      "Document: 6655, Score: 0.7180104851722717\n",
      "-----------\n",
      "Sous couvert de lutter contre un “racisme” totalement inexistant en France, comme en témoignent les statistiques de la Commission nationale consultative des droits de l’homme, c’est en réalité au droit des Français à rester maîtres chez eux que s’en prennent ces législations.\n",
      "-----------\n",
      "\n",
      "Document: 4094, Score: 0.709083080291748\n",
      "-----------\n",
      "Il est vrai que la plupart d’entre eux considèrent que la France n’a pas à avoir d’avenir puisqu’elle n’a plus de raison d’exister.\n",
      "-----------\n",
      "\n",
      "Document: 10341, Score: 0.7069998979568481\n",
      "-----------\n",
      "Il faut proposer à nos partenaires européens une mesure de bon sens : adopter un accord institutionnel reprenant les avancées institutionnelles du projet de Constitution qui n’ont été contestées par personne pendant la campagne référendaire et qui seules permettront à l’Europe élargie de fonctionner de nouveau : la Présidence stable de l’Union, le ministre des affaires étrangères, l’extension de la majorité qualifiée et de la codécision sur un certain nombre de matières essentielles, les coopérations renforcées, la plus grande association des Parlements nationaux.\n",
      "-----------\n",
      "\n",
      "Document: 2906, Score: 0.7025744915008545\n",
      "-----------\n",
      "Sous couvert de lutter contre un “racisme” totalement inexistant en France, comme en témoignent les statistiques de la Commission nationale consultative des droits de l’homme, c’est en réalité au droit des Français à rester maîtres chez eux que s’en prennent ces législations.\n",
      "-----------\n",
      "\n",
      "Document: 1922, Score: 0.6962574124336243\n",
      "-----------\n",
      "Elle usera, dans ce sens, de son droit de veto au Conseil de sécurité des Nations Unies.\n",
      "-----------\n",
      "\n"
     ]
    }
   ],
   "source": [
    "documents, document_scores, document_ids = d2vmodel.search_documents_by_keywords(keywords=[\"immigration\"], num_docs=5)\n",
    "for doc, score, doc_id in zip(documents, document_scores, document_ids):\n",
    "    print(f\"Document: {doc_id}, Score: {score}\")\n",
    "    print(\"-----------\")\n",
    "    print(doc)\n",
    "    print(\"-----------\")\n",
    "    print()"
   ]
  },
  {
   "cell_type": "code",
   "execution_count": 594,
   "id": "9737d581",
   "metadata": {},
   "outputs": [
    {
     "data": {
      "text/plain": [
       "partyname   annee\n",
       "FN          2007     350\n",
       "EELV        2007     144\n",
       "RPR/UMP/LR  2007     141\n",
       "FN          2002     125\n",
       "EELV        2012     108\n",
       "PCF/PG/LFI  2017      74\n",
       "MoDem/EM    2002      73\n",
       "            2007      73\n",
       "PCF/PG/LFI  2012      66\n",
       "PS          2007      58\n",
       "PCF/PG/LFI  2007      50\n",
       "RPR/UMP/LR  2012      40\n",
       "MoDem/EM    2012      36\n",
       "FN          2012      23\n",
       "PS          2002      23\n",
       "FN          2017      21\n",
       "MoDem/EM    2017      19\n",
       "RPR/UMP/LR  2017      17\n",
       "PS          2012      16\n",
       "EELV        2017      13\n",
       "            2002      13\n",
       "RPR/UMP/LR  2002      10\n",
       "PS          2017       6\n",
       "dtype: int64"
      ]
     },
     "execution_count": 594,
     "metadata": {},
     "output_type": "execute_result"
    }
   ],
   "source": [
    "chunks_manifesto[['partyname','annee']].value_counts()"
   ]
  },
  {
   "cell_type": "code",
   "execution_count": 888,
   "id": "0c1f997f",
   "metadata": {
    "scrolled": false
   },
   "outputs": [
    {
     "name": "stderr",
     "output_type": "stream",
     "text": [
      "2021-12-06 16:19:04,001 - top2vec - INFO - Pre-processing documents for training\n",
      "2021-12-06 16:19:04,001 - top2vec - INFO - Pre-processing documents for training\n",
      "2021-12-06 16:19:04,001 - top2vec - INFO - Pre-processing documents for training\n",
      "INFO:top2vec:Pre-processing documents for training\n",
      "2021-12-06 16:19:04,990 - top2vec - INFO - Downloading universal-sentence-encoder-multilingual model\n",
      "2021-12-06 16:19:04,990 - top2vec - INFO - Downloading universal-sentence-encoder-multilingual model\n",
      "2021-12-06 16:19:04,990 - top2vec - INFO - Downloading universal-sentence-encoder-multilingual model\n",
      "INFO:top2vec:Downloading universal-sentence-encoder-multilingual model\n",
      "2021-12-06 16:19:13,303 - top2vec - INFO - Creating joint document/word embedding\n",
      "2021-12-06 16:19:13,303 - top2vec - INFO - Creating joint document/word embedding\n",
      "2021-12-06 16:19:13,303 - top2vec - INFO - Creating joint document/word embedding\n",
      "INFO:top2vec:Creating joint document/word embedding\n",
      "2021-12-06 16:19:38,742 - top2vec - INFO - Creating lower dimension embedding of documents\n",
      "2021-12-06 16:19:38,742 - top2vec - INFO - Creating lower dimension embedding of documents\n",
      "2021-12-06 16:19:38,742 - top2vec - INFO - Creating lower dimension embedding of documents\n",
      "INFO:top2vec:Creating lower dimension embedding of documents\n",
      "2021-12-06 16:19:50,755 - top2vec - INFO - Finding dense areas of documents\n",
      "2021-12-06 16:19:50,755 - top2vec - INFO - Finding dense areas of documents\n",
      "2021-12-06 16:19:50,755 - top2vec - INFO - Finding dense areas of documents\n",
      "INFO:top2vec:Finding dense areas of documents\n",
      "2021-12-06 16:19:50,836 - top2vec - INFO - Finding topics\n",
      "2021-12-06 16:19:50,836 - top2vec - INFO - Finding topics\n",
      "2021-12-06 16:19:50,836 - top2vec - INFO - Finding topics\n",
      "INFO:top2vec:Finding topics\n"
     ]
    }
   ],
   "source": [
    "model = Top2Vec_rep(documents=chunks_manifesto.text.tolist(),\n",
    "                    embedding_model='universal-sentence-encoder-multilingual', #universal-sentence-encoder-multilingual, distiluse-base-multilingual-cased\n",
    "                    speed=\"learn\",\n",
    "                    #min_count=0,\n",
    "                    use_embedding_model_tokenizer=True,\n",
    "                    workers=1,\n",
    "                    random_state=2021)"
   ]
  },
  {
   "cell_type": "code",
   "execution_count": 889,
   "id": "07c320a6",
   "metadata": {},
   "outputs": [
    {
     "data": {
      "text/plain": [
       "22"
      ]
     },
     "execution_count": 889,
     "metadata": {},
     "output_type": "execute_result"
    }
   ],
   "source": [
    "model.get_num_topics()"
   ]
  },
  {
   "cell_type": "code",
   "execution_count": 890,
   "id": "5046e15b",
   "metadata": {},
   "outputs": [],
   "source": [
    "umap_args = {'n_neighbors': 15,\n",
    "             'n_components': 5,\n",
    "             'metric': 'cosine',\n",
    "             'random_state':2021}\n",
    "\n",
    "umap_model = umap.UMAP(**umap_args).fit(model._get_document_vectors(norm=False))\n",
    "\n",
    "hdbscan_args = {'min_cluster_size': 15,\n",
    "                'metric': 'euclidean',\n",
    "                'cluster_selection_method': 'eom'}\n",
    "\n",
    "cluster = hdbscan.HDBSCAN(**hdbscan_args).fit(umap_model.embedding_)"
   ]
  },
  {
   "cell_type": "code",
   "execution_count": 809,
   "id": "d6deb308",
   "metadata": {},
   "outputs": [
    {
     "data": {
      "text/plain": [
       "1499"
      ]
     },
     "execution_count": 809,
     "metadata": {},
     "output_type": "execute_result"
    }
   ],
   "source": [
    "len(cluster.labels_==-1)"
   ]
  },
  {
   "cell_type": "code",
   "execution_count": 891,
   "id": "ed43053d",
   "metadata": {},
   "outputs": [],
   "source": [
    "dict_topic = {i:model.topic_words[i][0] for i in range(model.get_num_topics())}"
   ]
  },
  {
   "cell_type": "code",
   "execution_count": 893,
   "id": "7f16af7f",
   "metadata": {},
   "outputs": [],
   "source": [
    "umap_2d = umap.UMAP(n_neighbors=15, n_components=2, metric=\"cosine\",random_state=2021).fit(model._get_document_vectors(norm=False))"
   ]
  },
  {
   "cell_type": "code",
   "execution_count": 903,
   "id": "6bb1640f",
   "metadata": {},
   "outputs": [],
   "source": [
    "topic_embed = umap_2d.transform(model.topic_vectors)\n",
    "\n",
    "umap_embed = pd.DataFrame(umap_2d.embedding_)\n",
    "\n",
    "umap_embed['topic'] = model.doc_top\n",
    "umap_embed['topic'] = umap_embed['topic'].astype('object')\n",
    "\n",
    "#umap_embed = pd.concat([umap_embed,manifesto_sents[['partyname','annee']]],axis=1)\n",
    "umap_embed = pd.concat([umap_embed,chunks_manifesto[['partyname','annee']]],axis=1)\n",
    "\n",
    "umap_embed['party_year'] = umap_embed.partyname + '_' + umap_embed.annee.apply(str)\n",
    "\n",
    "umap_embed['topic_name'] = umap_embed['topic'].apply(lambda x: dict_topic[x])"
   ]
  },
  {
   "cell_type": "code",
   "execution_count": 914,
   "id": "cad57ff2",
   "metadata": {},
   "outputs": [],
   "source": [
    "umap_embed['cluster_label'] = cluster.labels_\n",
    "umap_embed['cluster_label'] = umap_embed['cluster_label'].astype('object')"
   ]
  },
  {
   "cell_type": "code",
   "execution_count": 955,
   "id": "d8cf82da",
   "metadata": {},
   "outputs": [],
   "source": [
    "#remove noises\n",
    "\n",
    "umap_embed = umap_embed[umap_embed['cluster_label']!=-1]"
   ]
  },
  {
   "cell_type": "code",
   "execution_count": 956,
   "id": "1288a6a8",
   "metadata": {},
   "outputs": [],
   "source": [
    "umap_by_manifesto = umap_embed[[0,1,'partyname','annee']].groupby(['partyname','annee']).mean().reset_index()\n",
    "umap_by_manifesto['party_year'] = umap_by_manifesto.partyname + '_' + umap_by_manifesto.annee.apply(str)"
   ]
  },
  {
   "cell_type": "code",
   "execution_count": 991,
   "id": "2bf5cf14",
   "metadata": {},
   "outputs": [],
   "source": [
    "dict_cluster={-1:'noise', 0:'logement',1:'scolaire',2:'culturel',3:'judiciaire',4:'maritime',5:'public',6:'medical',7:'citoyennete',8:'social',9:'familial',10:'regional',11:'parlement',12:'immigration',13:'discrimination',14:'agriculture',15:'environnemental',16:'energie',17:'emploie',18:'fiscal',19:'militaire',20:'europeen',21:'mondialisation'}"
   ]
  },
  {
   "cell_type": "code",
   "execution_count": 941,
   "id": "d0d47c05",
   "metadata": {},
   "outputs": [
    {
     "data": {
      "application/vnd.plotly.v1+json": {
       "config": {
        "plotlyServerURL": "https://plot.ly"
       },
       "data": [
        {
         "customdata": [
          [
           "citoyennete"
          ],
          [
           "citoyennete"
          ],
          [
           "citoyennete"
          ],
          [
           "citoyennete"
          ],
          [
           "citoyennete"
          ],
          [
           "social"
          ],
          [
           "citoyennete"
          ],
          [
           "citoyennete"
          ],
          [
           "citoyennete"
          ],
          [
           "citoyennete"
          ],
          [
           "citoyennete"
          ],
          [
           "citoyennete"
          ],
          [
           "citoyennete"
          ],
          [
           "citoyennete"
          ],
          [
           "citoyennete"
          ],
          [
           "citoyennete"
          ],
          [
           "citoyennete"
          ],
          [
           "citoyennete"
          ],
          [
           "citoyennete"
          ],
          [
           "citoyennete"
          ],
          [
           "citoyennete"
          ],
          [
           "citoyennete"
          ],
          [
           "citoyennete"
          ],
          [
           "citoyennete"
          ],
          [
           "citoyennete"
          ],
          [
           "citoyennete"
          ],
          [
           "citoyennete"
          ],
          [
           "citoyennete"
          ],
          [
           "citoyennete"
          ],
          [
           "citoyennete"
          ],
          [
           "citoyennete"
          ],
          [
           "citoyennete"
          ],
          [
           "discrimination"
          ],
          [
           "citoyennete"
          ],
          [
           "citoyennete"
          ],
          [
           "citoyennete"
          ],
          [
           "citoyennete"
          ],
          [
           "citoyennete"
          ],
          [
           "citoyennete"
          ],
          [
           "citoyennete"
          ],
          [
           "citoyennete"
          ],
          [
           "citoyennete"
          ],
          [
           "citoyennete"
          ],
          [
           "citoyennete"
          ],
          [
           "citoyennete"
          ],
          [
           "citoyennete"
          ]
         ],
         "hovertemplate": "cluster_label=7<br>0=%{x}<br>1=%{y}<br>topic_name=%{customdata[0]}<extra></extra>",
         "legendgroup": "7",
         "marker": {
          "color": "#FD3216",
          "symbol": "circle"
         },
         "mode": "markers",
         "name": "7",
         "showlegend": true,
         "type": "scattergl",
         "x": [
          8.151793479919434,
          8.04996109008789,
          8.0618314743042,
          7.906888961791992,
          7.952371120452881,
          8.013497352600098,
          8.91262149810791,
          8.701518058776855,
          8.716135025024414,
          9.081538200378418,
          8.932520866394043,
          8.82481575012207,
          8.816625595092773,
          8.597710609436035,
          8.887965202331543,
          8.776327133178711,
          8.67109489440918,
          8.611703872680664,
          8.509586334228516,
          9.372039794921875,
          9.265316009521484,
          8.413484573364258,
          7.893679618835449,
          8.54348087310791,
          9.188298225402832,
          7.997786998748779,
          8.06480598449707,
          8.16984748840332,
          7.8720526695251465,
          7.9056477546691895,
          7.793216705322266,
          8.006155014038086,
          8.01376724243164,
          7.943228244781494,
          8.051962852478027,
          8.191089630126953,
          8.020140647888184,
          8.249756813049316,
          8.173470497131348,
          8.259148597717285,
          8.217702865600586,
          7.912448883056641,
          8.245643615722656,
          7.989555358886719,
          7.927748680114746,
          7.910377025604248
         ],
         "xaxis": "x",
         "y": [
          4.497936725616455,
          4.450077533721924,
          4.5966339111328125,
          4.471343517303467,
          5.144280433654785,
          5.094388008117676,
          3.9451076984405518,
          3.949324131011963,
          4.0043511390686035,
          3.8640317916870117,
          4.043670654296875,
          4.125659942626953,
          4.153120517730713,
          4.067629337310791,
          4.113953590393066,
          4.150389671325684,
          4.27609920501709,
          4.094688892364502,
          4.025670051574707,
          4.1182122230529785,
          4.001659870147705,
          4.0191802978515625,
          4.980296611785889,
          4.062341213226318,
          3.945974349975586,
          4.384531021118164,
          4.760521411895752,
          3.981229543685913,
          4.392330169677734,
          4.0756144523620605,
          4.915268421173096,
          4.2970781326293945,
          4.5623955726623535,
          4.300505638122559,
          4.33783483505249,
          4.736603736877441,
          4.885361194610596,
          4.6618194580078125,
          4.433027267456055,
          4.855652809143066,
          4.50933837890625,
          4.199944972991943,
          4.474969863891602,
          4.6284990310668945,
          4.260647296905518,
          4.1384100914001465
         ],
         "yaxis": "y"
        },
        {
         "customdata": [
          [
           "fiscal"
          ],
          [
           "fiscal"
          ],
          [
           "fiscal"
          ],
          [
           "fiscal"
          ],
          [
           "fiscal"
          ],
          [
           "emploi"
          ],
          [
           "fiscal"
          ],
          [
           "fiscal"
          ],
          [
           "fiscal"
          ],
          [
           "fiscal"
          ],
          [
           "fiscal"
          ],
          [
           "fiscal"
          ],
          [
           "fiscal"
          ],
          [
           "fiscal"
          ],
          [
           "fiscal"
          ],
          [
           "fiscal"
          ],
          [
           "fiscal"
          ],
          [
           "fiscal"
          ],
          [
           "fiscal"
          ],
          [
           "fiscal"
          ],
          [
           "fiscal"
          ],
          [
           "fiscal"
          ],
          [
           "fiscal"
          ],
          [
           "fiscal"
          ],
          [
           "fiscal"
          ],
          [
           "emploi"
          ],
          [
           "fiscal"
          ],
          [
           "fiscal"
          ],
          [
           "fiscal"
          ],
          [
           "fiscal"
          ],
          [
           "fiscal"
          ],
          [
           "fiscal"
          ],
          [
           "fiscal"
          ],
          [
           "fiscal"
          ],
          [
           "fiscal"
          ],
          [
           "europeen"
          ],
          [
           "fiscal"
          ],
          [
           "fiscal"
          ],
          [
           "fiscal"
          ],
          [
           "fiscal"
          ],
          [
           "emploi"
          ],
          [
           "fiscal"
          ],
          [
           "fiscal"
          ],
          [
           "fiscal"
          ],
          [
           "fiscal"
          ],
          [
           "fiscal"
          ],
          [
           "fiscal"
          ],
          [
           "fiscal"
          ],
          [
           "fiscal"
          ],
          [
           "fiscal"
          ]
         ],
         "hovertemplate": "cluster_label=18<br>0=%{x}<br>1=%{y}<br>topic_name=%{customdata[0]}<extra></extra>",
         "legendgroup": "18",
         "marker": {
          "color": "#00FE35",
          "symbol": "circle"
         },
         "mode": "markers",
         "name": "18",
         "showlegend": true,
         "type": "scattergl",
         "x": [
          6.383235931396484,
          6.180448532104492,
          6.265092372894287,
          6.365176677703857,
          5.878997802734375,
          5.650201320648193,
          5.981733798980713,
          5.521338939666748,
          5.818974494934082,
          6.235665798187256,
          6.151336669921875,
          6.250068664550781,
          6.326099872589111,
          6.350709438323975,
          6.325880527496338,
          6.259701728820801,
          6.2563066482543945,
          6.244716644287109,
          6.290655612945557,
          5.9111223220825195,
          5.883116722106934,
          5.954251289367676,
          5.652789115905762,
          5.823102951049805,
          5.627557754516602,
          5.321871280670166,
          6.125227928161621,
          6.1740217208862305,
          6.309925079345703,
          6.270094394683838,
          5.402255058288574,
          6.252797603607178,
          5.846022129058838,
          6.017107963562012,
          5.426473617553711,
          5.503620147705078,
          6.311837196350098,
          5.73074197769165,
          6.238466262817383,
          5.466122627258301,
          5.603526592254639,
          5.185323715209961,
          5.584779262542725,
          6.713635444641113,
          6.282306671142578,
          6.025411128997803,
          6.333041191101074,
          6.355465412139893,
          6.416858196258545,
          6.257410049438477
         ],
         "xaxis": "x",
         "y": [
          5.849808216094971,
          5.538475036621094,
          5.690207004547119,
          5.903425216674805,
          5.538245677947998,
          6.107603549957275,
          5.577678203582764,
          5.723703861236572,
          5.304988861083984,
          5.436655521392822,
          5.697887897491455,
          5.736592769622803,
          5.716776371002197,
          5.789439678192139,
          5.750245571136475,
          5.478233814239502,
          5.6430487632751465,
          5.727603912353516,
          5.864896297454834,
          5.451151371002197,
          5.485366344451904,
          5.619783878326416,
          6.061532974243164,
          5.653801441192627,
          5.65410852432251,
          5.6829118728637695,
          5.439957141876221,
          5.7300920486450195,
          5.440232753753662,
          5.72972297668457,
          5.304247856140137,
          5.803260326385498,
          5.557966709136963,
          5.581221103668213,
          5.255692958831787,
          4.832940101623535,
          5.802076816558838,
          5.086288928985596,
          5.655339241027832,
          5.437702655792236,
          5.974810600280762,
          5.5302581787109375,
          5.380245685577393,
          5.9196624755859375,
          5.789958953857422,
          5.633249282836914,
          5.792262554168701,
          5.813872814178467,
          5.678451061248779,
          5.721583366394043
         ],
         "yaxis": "y"
        },
        {
         "customdata": [
          [
           "emploi"
          ],
          [
           "emploi"
          ],
          [
           "emploi"
          ],
          [
           "emploi"
          ],
          [
           "emploi"
          ],
          [
           "emploi"
          ],
          [
           "emploi"
          ],
          [
           "emploi"
          ],
          [
           "emploi"
          ],
          [
           "emploi"
          ],
          [
           "emploi"
          ],
          [
           "emploi"
          ],
          [
           "emploi"
          ],
          [
           "emploi"
          ],
          [
           "emploi"
          ],
          [
           "emploi"
          ],
          [
           "fiscal"
          ],
          [
           "emploi"
          ],
          [
           "emploi"
          ],
          [
           "emploi"
          ],
          [
           "emploi"
          ],
          [
           "emploi"
          ],
          [
           "emploi"
          ],
          [
           "emploi"
          ],
          [
           "emploi"
          ],
          [
           "emploi"
          ],
          [
           "emploi"
          ],
          [
           "emploi"
          ],
          [
           "emploi"
          ],
          [
           "emploi"
          ],
          [
           "emploi"
          ],
          [
           "emploi"
          ],
          [
           "emploi"
          ],
          [
           "emploi"
          ],
          [
           "emploi"
          ],
          [
           "emploi"
          ],
          [
           "emploi"
          ],
          [
           "emploi"
          ],
          [
           "emploi"
          ],
          [
           "emploi"
          ],
          [
           "emploi"
          ],
          [
           "emploi"
          ],
          [
           "emploi"
          ],
          [
           "emploi"
          ],
          [
           "emploi"
          ],
          [
           "emploi"
          ],
          [
           "emploi"
          ],
          [
           "emploi"
          ],
          [
           "emploi"
          ],
          [
           "emploi"
          ],
          [
           "emploi"
          ],
          [
           "emploi"
          ],
          [
           "emploi"
          ],
          [
           "emploi"
          ],
          [
           "emploi"
          ],
          [
           "emploi"
          ],
          [
           "emploi"
          ],
          [
           "emploi"
          ],
          [
           "emploi"
          ],
          [
           "emploi"
          ],
          [
           "emploi"
          ],
          [
           "emploi"
          ],
          [
           "emploi"
          ],
          [
           "emploi"
          ],
          [
           "emploi"
          ],
          [
           "emploi"
          ],
          [
           "emploi"
          ],
          [
           "social"
          ],
          [
           "emploi"
          ],
          [
           "emploi"
          ],
          [
           "emploi"
          ],
          [
           "emploi"
          ],
          [
           "emploi"
          ],
          [
           "emploi"
          ],
          [
           "emploi"
          ],
          [
           "emploi"
          ],
          [
           "emploi"
          ],
          [
           "emploi"
          ],
          [
           "emploi"
          ],
          [
           "emploi"
          ],
          [
           "emploi"
          ],
          [
           "emploi"
          ],
          [
           "emploi"
          ],
          [
           "emploi"
          ],
          [
           "emploi"
          ],
          [
           "emploi"
          ],
          [
           "emploi"
          ],
          [
           "emploi"
          ],
          [
           "emploi"
          ],
          [
           "emploi"
          ],
          [
           "emploi"
          ],
          [
           "emploi"
          ],
          [
           "discrimination"
          ],
          [
           "emploi"
          ],
          [
           "emploi"
          ],
          [
           "emploi"
          ],
          [
           "emploi"
          ]
         ],
         "hovertemplate": "cluster_label=17<br>0=%{x}<br>1=%{y}<br>topic_name=%{customdata[0]}<extra></extra>",
         "legendgroup": "17",
         "marker": {
          "color": "#6A76FC",
          "symbol": "circle"
         },
         "mode": "markers",
         "name": "17",
         "showlegend": true,
         "type": "scattergl",
         "x": [
          6.304250717163086,
          6.372367858886719,
          6.3206939697265625,
          6.604902744293213,
          6.8577880859375,
          5.841412544250488,
          5.974585056304932,
          6.560455322265625,
          6.134737968444824,
          5.933871746063232,
          6.187088489532471,
          6.2571868896484375,
          6.065464019775391,
          6.8826141357421875,
          6.560000419616699,
          6.053703784942627,
          7.303760051727295,
          6.274887561798096,
          6.262834548950195,
          6.224274158477783,
          6.317799091339111,
          6.5856218338012695,
          5.9799041748046875,
          6.154603481292725,
          5.93752384185791,
          6.149160861968994,
          6.212522029876709,
          6.167181968688965,
          6.299973964691162,
          6.3391523361206055,
          6.245961666107178,
          7.177196979522705,
          6.916584014892578,
          6.539063453674316,
          6.054800033569336,
          6.2691216468811035,
          7.2112956047058105,
          6.441394805908203,
          6.640719413757324,
          6.21541166305542,
          6.083262920379639,
          6.325669765472412,
          6.057455062866211,
          6.417850494384766,
          6.442661285400391,
          6.305828094482422,
          6.2735114097595215,
          7.279970169067383,
          6.988791465759277,
          7.017786979675293,
          6.89669132232666,
          7.416991233825684,
          6.582037925720215,
          6.528179168701172,
          6.331668376922607,
          6.407217502593994,
          6.460241794586182,
          6.4220428466796875,
          6.65381383895874,
          6.422798156738281,
          6.486024856567383,
          6.569478988647461,
          6.390050411224365,
          6.644627571105957,
          7.334778785705566,
          6.581448078155518,
          6.441267490386963,
          7.2794575691223145,
          7.078211784362793,
          6.942726135253906,
          7.073184490203857,
          7.139858245849609,
          6.518298625946045,
          6.48006534576416,
          6.4825263023376465,
          6.649520397186279,
          6.523651123046875,
          6.499660968780518,
          6.957170486450195,
          6.524328708648682,
          6.4829020500183105,
          7.159039497375488,
          6.328037738800049,
          6.461955547332764,
          6.463802814483643,
          6.7326250076293945,
          6.363180160522461,
          6.961613655090332,
          7.489007472991943,
          6.449739456176758,
          5.853941440582275,
          6.421530246734619,
          7.276170253753662,
          6.849458694458008,
          6.349503993988037,
          6.721546173095703,
          6.895015239715576
         ],
         "xaxis": "x",
         "y": [
          7.085636615753174,
          7.556538105010986,
          7.444118022918701,
          7.247718811035156,
          6.961400985717773,
          6.629576206207275,
          7.408680438995361,
          7.485451698303223,
          7.253633975982666,
          7.402100086212158,
          7.578383922576904,
          7.5941057205200195,
          7.6675848960876465,
          6.9598236083984375,
          6.761830806732178,
          7.530706405639648,
          6.29193639755249,
          6.857133388519287,
          7.234532833099365,
          7.271559715270996,
          7.109170436859131,
          7.222826957702637,
          7.457930564880371,
          7.319130897521973,
          7.375481128692627,
          7.5778117179870605,
          7.650552272796631,
          7.640754222869873,
          7.0926995277404785,
          7.069136619567871,
          7.094645023345947,
          6.490055561065674,
          6.978865623474121,
          6.747107982635498,
          7.517882823944092,
          7.1101202964782715,
          6.973288536071777,
          7.72036075592041,
          7.026784420013428,
          7.184549808502197,
          7.157520294189453,
          6.970718860626221,
          6.997589588165283,
          7.8011322021484375,
          7.201533317565918,
          6.886787414550781,
          7.469751834869385,
          6.6185479164123535,
          7.024381160736084,
          7.536871910095215,
          7.448685169219971,
          6.846950054168701,
          7.696691036224365,
          7.877138614654541,
          7.237977027893066,
          7.539041519165039,
          7.112823486328125,
          7.872960090637207,
          7.1230597496032715,
          7.360021591186523,
          7.507444381713867,
          7.202150821685791,
          7.518208026885986,
          6.905854225158691,
          6.5437726974487305,
          7.325433731079102,
          7.388838291168213,
          6.55473518371582,
          6.953255653381348,
          7.2155022621154785,
          6.982769012451172,
          6.96075963973999,
          7.736070156097412,
          7.768219947814941,
          7.1247477531433105,
          7.221803665161133,
          7.892261981964111,
          7.82928991317749,
          7.075392246246338,
          7.574798583984375,
          7.713128566741943,
          6.603986740112305,
          7.262665271759033,
          7.85113000869751,
          7.7007951736450195,
          7.550625801086426,
          7.1504998207092285,
          7.065084457397461,
          6.704122066497803,
          7.194812297821045,
          7.141223907470703,
          7.719610691070557,
          6.238053321838379,
          7.3628034591674805,
          7.370506763458252,
          6.701468467712402,
          7.075215816497803
         ],
         "yaxis": "y"
        },
        {
         "customdata": [
          [
           "judiciaire"
          ],
          [
           "judiciaire"
          ],
          [
           "judiciaire"
          ],
          [
           "judiciaire"
          ],
          [
           "judiciaire"
          ],
          [
           "judiciaire"
          ],
          [
           "judiciaire"
          ],
          [
           "judiciaire"
          ],
          [
           "judiciaire"
          ],
          [
           "judiciaire"
          ],
          [
           "judiciaire"
          ],
          [
           "judiciaire"
          ],
          [
           "judiciaire"
          ],
          [
           "judiciaire"
          ],
          [
           "judiciaire"
          ],
          [
           "judiciaire"
          ],
          [
           "judiciaire"
          ],
          [
           "judiciaire"
          ],
          [
           "judiciaire"
          ],
          [
           "judiciaire"
          ],
          [
           "judiciaire"
          ],
          [
           "judiciaire"
          ],
          [
           "judiciaire"
          ],
          [
           "judiciaire"
          ],
          [
           "judiciaire"
          ],
          [
           "judiciaire"
          ],
          [
           "judiciaire"
          ],
          [
           "judiciaire"
          ],
          [
           "judiciaire"
          ],
          [
           "judiciaire"
          ],
          [
           "judiciaire"
          ],
          [
           "judiciaire"
          ],
          [
           "judiciaire"
          ],
          [
           "judiciaire"
          ],
          [
           "judiciaire"
          ],
          [
           "judiciaire"
          ],
          [
           "judiciaire"
          ],
          [
           "judiciaire"
          ],
          [
           "judiciaire"
          ],
          [
           "judiciaire"
          ],
          [
           "judiciaire"
          ],
          [
           "judiciaire"
          ],
          [
           "judiciaire"
          ],
          [
           "agriculture"
          ],
          [
           "judiciaire"
          ],
          [
           "judiciaire"
          ],
          [
           "judiciaire"
          ],
          [
           "judiciaire"
          ],
          [
           "judiciaire"
          ],
          [
           "judiciaire"
          ],
          [
           "judiciaire"
          ],
          [
           "judiciaire"
          ],
          [
           "judiciaire"
          ],
          [
           "judiciaire"
          ],
          [
           "judiciaire"
          ],
          [
           "judiciaire"
          ],
          [
           "judiciaire"
          ],
          [
           "judiciaire"
          ],
          [
           "judiciaire"
          ],
          [
           "judiciaire"
          ],
          [
           "judiciaire"
          ],
          [
           "judiciaire"
          ],
          [
           "judiciaire"
          ],
          [
           "judiciaire"
          ],
          [
           "judiciaire"
          ],
          [
           "judiciaire"
          ],
          [
           "judiciaire"
          ],
          [
           "judiciaire"
          ],
          [
           "judiciaire"
          ],
          [
           "judiciaire"
          ],
          [
           "judiciaire"
          ],
          [
           "judiciaire"
          ],
          [
           "militaire"
          ],
          [
           "judiciaire"
          ]
         ],
         "hovertemplate": "cluster_label=3<br>0=%{x}<br>1=%{y}<br>topic_name=%{customdata[0]}<extra></extra>",
         "legendgroup": "3",
         "marker": {
          "color": "#FED4C4",
          "symbol": "circle"
         },
         "mode": "markers",
         "name": "3",
         "showlegend": true,
         "type": "scattergl",
         "x": [
          9.314896583557129,
          9.41546630859375,
          9.534037590026855,
          9.07889175415039,
          9.201504707336426,
          9.400753021240234,
          8.469271659851074,
          9.33641529083252,
          9.472976684570312,
          8.486032485961914,
          8.432268142700195,
          8.913761138916016,
          9.223745346069336,
          8.707303047180176,
          9.186493873596191,
          9.111654281616211,
          8.967669486999512,
          9.382181167602539,
          9.390100479125977,
          9.401666641235352,
          9.3900728225708,
          9.27700138092041,
          8.499259948730469,
          8.682893753051758,
          8.586838722229004,
          8.70345401763916,
          9.264636039733887,
          9.290274620056152,
          9.417081832885742,
          8.37710189819336,
          8.626567840576172,
          9.323381423950195,
          8.472733497619629,
          9.024603843688965,
          9.121675491333008,
          9.03258991241455,
          8.963695526123047,
          8.5873384475708,
          8.906261444091797,
          9.084283828735352,
          8.304622650146484,
          8.312823295593262,
          8.85924243927002,
          9.105286598205566,
          9.439408302307129,
          9.34801197052002,
          9.497121810913086,
          8.500279426574707,
          8.429651260375977,
          9.288610458374023,
          8.793137550354004,
          8.43825626373291,
          8.543136596679688,
          8.50487232208252,
          8.728899955749512,
          8.563799858093262,
          9.512189865112305,
          9.046587944030762,
          8.287765502929688,
          8.427484512329102,
          9.413375854492188,
          9.312955856323242,
          9.114714622497559,
          9.237601280212402,
          8.576615333557129,
          8.600822448730469,
          8.604751586914062,
          8.87679672241211,
          9.06367015838623,
          9.122334480285645,
          9.3589506149292,
          9.113302230834961,
          8.930350303649902,
          9.302743911743164
         ],
         "xaxis": "x",
         "y": [
          2.4938201904296875,
          2.3934686183929443,
          2.38840389251709,
          2.4855570793151855,
          2.134296417236328,
          2.276160955429077,
          1.662785291671753,
          2.3965957164764404,
          2.346775770187378,
          1.7121130228042603,
          1.6511791944503784,
          1.777169942855835,
          2.0216073989868164,
          1.9119231700897217,
          2.280395746231079,
          2.537888288497925,
          2.5311732292175293,
          2.036168336868286,
          2.041327953338623,
          2.0198278427124023,
          2.0955147743225098,
          1.9343236684799194,
          1.8787864446640015,
          1.755914330482483,
          1.770843744277954,
          1.8544367551803589,
          1.9964276552200317,
          1.9905651807785034,
          2.144818067550659,
          1.691070556640625,
          1.73078191280365,
          2.048311471939087,
          1.883017897605896,
          2.0572659969329834,
          2.433382034301758,
          2.536795139312744,
          2.6262123584747314,
          1.9887703657150269,
          2.0310823917388916,
          2.2539215087890625,
          1.7570562362670898,
          1.738609790802002,
          1.917600154876709,
          2.2454349994659424,
          2.359675168991089,
          2.3844871520996094,
          2.3499529361724854,
          1.6672122478485107,
          1.7667702436447144,
          1.961065411567688,
          1.8530186414718628,
          1.70368492603302,
          1.802868127822876,
          1.70768404006958,
          2.7643449306488037,
          1.6957526206970215,
          2.223102331161499,
          2.557462453842163,
          2.134100914001465,
          1.706871509552002,
          2.36468243598938,
          2.109907865524292,
          2.1380503177642822,
          2.2606916427612305,
          1.7704532146453857,
          1.8111786842346191,
          1.793259620666504,
          2.629565715789795,
          2.479275703430176,
          2.467346668243408,
          2.335815906524658,
          2.1961452960968018,
          2.770122766494751,
          2.2719693183898926
         ],
         "yaxis": "y"
        },
        {
         "customdata": [
          [
           "energie"
          ],
          [
           "energie"
          ],
          [
           "energie"
          ],
          [
           "energie"
          ],
          [
           "energie"
          ],
          [
           "energie"
          ],
          [
           "energie"
          ],
          [
           "energie"
          ],
          [
           "energie"
          ],
          [
           "energie"
          ],
          [
           "energie"
          ],
          [
           "energie"
          ],
          [
           "energie"
          ],
          [
           "energie"
          ],
          [
           "energie"
          ],
          [
           "energie"
          ],
          [
           "energie"
          ],
          [
           "energie"
          ],
          [
           "energie"
          ],
          [
           "energie"
          ],
          [
           "energie"
          ],
          [
           "energie"
          ],
          [
           "energie"
          ],
          [
           "energie"
          ],
          [
           "energie"
          ],
          [
           "energie"
          ],
          [
           "energie"
          ],
          [
           "energie"
          ],
          [
           "energie"
          ],
          [
           "public"
          ],
          [
           "energie"
          ],
          [
           "energie"
          ],
          [
           "energie"
          ],
          [
           "energie"
          ],
          [
           "energie"
          ],
          [
           "energie"
          ],
          [
           "energie"
          ],
          [
           "energie"
          ],
          [
           "energie"
          ],
          [
           "energie"
          ],
          [
           "energie"
          ],
          [
           "energie"
          ],
          [
           "energie"
          ],
          [
           "energie"
          ],
          [
           "energie"
          ],
          [
           "energie"
          ],
          [
           "energie"
          ]
         ],
         "hovertemplate": "cluster_label=16<br>0=%{x}<br>1=%{y}<br>topic_name=%{customdata[0]}<extra></extra>",
         "legendgroup": "16",
         "marker": {
          "color": "#FE00CE",
          "symbol": "circle"
         },
         "mode": "markers",
         "name": "16",
         "showlegend": true,
         "type": "scattergl",
         "x": [
          1.9966233968734741,
          2.0178844928741455,
          1.5866684913635254,
          2.1278064250946045,
          1.998500108718872,
          2.2330944538116455,
          1.9736168384552002,
          2.0007266998291016,
          2.001300811767578,
          2.0520882606506348,
          2.1328420639038086,
          2.003648519515991,
          1.9473249912261963,
          1.888427734375,
          1.8407279253005981,
          2.487196683883667,
          2.048985481262207,
          2.059008836746216,
          1.9224835634231567,
          2.405264377593994,
          2.062429189682007,
          2.0455641746520996,
          1.8372724056243896,
          1.9638659954071045,
          1.9473615884780884,
          1.6322507858276367,
          2.376753568649292,
          2.098281145095825,
          1.8431538343429565,
          1.8582981824874878,
          2.4037466049194336,
          1.8918778896331787,
          1.790414571762085,
          2.0396599769592285,
          1.9373424053192139,
          1.871944546699524,
          2.3888025283813477,
          2.1209590435028076,
          1.9966022968292236,
          1.6377633810043335,
          2.0265145301818848,
          1.9715502262115479,
          2.1100494861602783,
          2.0592429637908936,
          1.8126202821731567,
          2.4539685249328613,
          2.4303712844848633
         ],
         "xaxis": "x",
         "y": [
          3.9468235969543457,
          3.8487861156463623,
          4.520873069763184,
          4.711505889892578,
          3.6779630184173584,
          3.8270413875579834,
          3.817685842514038,
          3.653294563293457,
          3.9184577465057373,
          3.578394889831543,
          3.803290367126465,
          3.6692676544189453,
          3.966475009918213,
          3.9618396759033203,
          3.9740941524505615,
          4.245352268218994,
          4.162611484527588,
          4.202568531036377,
          4.044999122619629,
          4.26857852935791,
          4.004868984222412,
          3.6611523628234863,
          4.153180122375488,
          4.070939540863037,
          4.1397576332092285,
          4.347847938537598,
          3.8453383445739746,
          3.7606232166290283,
          4.558213710784912,
          4.622378826141357,
          4.08916711807251,
          4.01133394241333,
          4.048880577087402,
          3.6902060508728027,
          4.040839195251465,
          3.960512638092041,
          4.5333099365234375,
          4.077601432800293,
          4.048026084899902,
          4.5440802574157715,
          3.6056811809539795,
          4.031407356262207,
          4.171260356903076,
          3.743134021759033,
          4.170999526977539,
          4.044712066650391,
          4.060941219329834
         ],
         "yaxis": "y"
        },
        {
         "customdata": [
          [
           "parlement"
          ],
          [
           "parlement"
          ],
          [
           "parlement"
          ],
          [
           "parlement"
          ],
          [
           "parlement"
          ],
          [
           "parlement"
          ],
          [
           "parlement"
          ],
          [
           "parlement"
          ],
          [
           "parlement"
          ],
          [
           "parlement"
          ],
          [
           "parlement"
          ],
          [
           "parlement"
          ],
          [
           "parlement"
          ],
          [
           "parlement"
          ],
          [
           "parlement"
          ],
          [
           "parlement"
          ],
          [
           "parlement"
          ],
          [
           "parlement"
          ],
          [
           "parlement"
          ],
          [
           "parlement"
          ],
          [
           "parlement"
          ],
          [
           "parlement"
          ],
          [
           "parlement"
          ],
          [
           "parlement"
          ],
          [
           "parlement"
          ],
          [
           "parlement"
          ],
          [
           "parlement"
          ],
          [
           "parlement"
          ],
          [
           "parlement"
          ],
          [
           "parlement"
          ],
          [
           "parlement"
          ],
          [
           "parlement"
          ],
          [
           "parlement"
          ],
          [
           "parlement"
          ],
          [
           "parlement"
          ],
          [
           "parlement"
          ],
          [
           "parlement"
          ],
          [
           "parlement"
          ],
          [
           "parlement"
          ],
          [
           "parlement"
          ],
          [
           "parlement"
          ],
          [
           "parlement"
          ],
          [
           "parlement"
          ],
          [
           "parlement"
          ],
          [
           "parlement"
          ],
          [
           "parlement"
          ],
          [
           "parlement"
          ],
          [
           "parlement"
          ],
          [
           "parlement"
          ],
          [
           "parlement"
          ],
          [
           "parlement"
          ],
          [
           "parlement"
          ],
          [
           "parlement"
          ],
          [
           "parlement"
          ]
         ],
         "hovertemplate": "cluster_label=11<br>0=%{x}<br>1=%{y}<br>topic_name=%{customdata[0]}<extra></extra>",
         "legendgroup": "11",
         "marker": {
          "color": "#0DF9FF",
          "symbol": "circle"
         },
         "mode": "markers",
         "name": "11",
         "showlegend": true,
         "type": "scattergl",
         "x": [
          7.1901960372924805,
          7.26473331451416,
          7.076258659362793,
          7.1886491775512695,
          7.039273262023926,
          7.460936069488525,
          7.8261003494262695,
          7.483206272125244,
          7.589291572570801,
          7.550899028778076,
          7.660960674285889,
          7.88124418258667,
          6.680204391479492,
          6.883716583251953,
          7.1330790519714355,
          7.4691267013549805,
          7.486794948577881,
          7.018395900726318,
          7.028787136077881,
          6.741423606872559,
          7.227465629577637,
          6.8997039794921875,
          7.148898601531982,
          7.032958507537842,
          7.215801239013672,
          7.071173667907715,
          7.062524795532227,
          6.973340034484863,
          7.129894256591797,
          7.290964603424072,
          6.910421848297119,
          6.905150890350342,
          7.007023334503174,
          7.007059574127197,
          7.064774990081787,
          7.115628719329834,
          7.129814624786377,
          7.101682186126709,
          7.4298577308654785,
          7.086361408233643,
          7.36208438873291,
          6.91539192199707,
          6.981507301330566,
          7.5459818840026855,
          7.208105564117432,
          7.094137668609619,
          7.086552619934082,
          7.15741491317749,
          7.179392337799072,
          7.272032260894775,
          7.118144512176514,
          7.9011945724487305,
          7.183044910430908,
          6.921298503875732
         ],
         "xaxis": "x",
         "y": [
          2.6162760257720947,
          2.2108500003814697,
          2.3932039737701416,
          2.3603882789611816,
          2.3815958499908447,
          2.7855122089385986,
          2.718370199203491,
          2.635715961456299,
          2.3961267471313477,
          2.414785861968994,
          2.6727194786071777,
          2.8508622646331787,
          2.562310218811035,
          2.6350698471069336,
          2.4911978244781494,
          2.3561007976531982,
          2.3805246353149414,
          3.005438804626465,
          2.916593074798584,
          2.773104667663574,
          2.526779890060425,
          2.756676435470581,
          2.319322109222412,
          2.736741542816162,
          2.450449228286743,
          2.5982587337493896,
          2.8047125339508057,
          3.0949134826660156,
          2.4396374225616455,
          2.282987117767334,
          2.65187931060791,
          2.501314878463745,
          2.4266321659088135,
          2.856625556945801,
          2.3364181518554688,
          2.2887048721313477,
          2.8520424365997314,
          2.7315597534179688,
          2.4225049018859863,
          2.319976329803467,
          2.278367519378662,
          3.053678274154663,
          2.7958574295043945,
          2.587656021118164,
          2.4244680404663086,
          3.005160331726074,
          2.700456142425537,
          2.5320866107940674,
          2.502182960510254,
          2.6082305908203125,
          2.5190699100494385,
          2.5922884941101074,
          2.23838210105896,
          2.6919891834259033
         ],
         "yaxis": "y"
        },
        {
         "customdata": [
          [
           "regional"
          ],
          [
           "regional"
          ],
          [
           "regional"
          ],
          [
           "regional"
          ],
          [
           "regional"
          ],
          [
           "regional"
          ],
          [
           "regional"
          ],
          [
           "regional"
          ],
          [
           "regional"
          ],
          [
           "regional"
          ],
          [
           "regional"
          ],
          [
           "regional"
          ],
          [
           "regional"
          ],
          [
           "regional"
          ],
          [
           "regional"
          ],
          [
           "regional"
          ],
          [
           "regional"
          ],
          [
           "regional"
          ],
          [
           "regional"
          ],
          [
           "regional"
          ]
         ],
         "hovertemplate": "cluster_label=10<br>0=%{x}<br>1=%{y}<br>topic_name=%{customdata[0]}<extra></extra>",
         "legendgroup": "10",
         "marker": {
          "color": "#F6F926",
          "symbol": "circle"
         },
         "mode": "markers",
         "name": "10",
         "showlegend": true,
         "type": "scattergl",
         "x": [
          6.798958778381348,
          6.915642738342285,
          6.873530864715576,
          6.841412544250488,
          6.88314151763916,
          6.649087429046631,
          6.91536283493042,
          6.78759765625,
          6.754891395568848,
          6.741504669189453,
          6.760261058807373,
          6.787936210632324,
          6.738190174102783,
          6.87156867980957,
          6.932863712310791,
          6.876682758331299,
          6.693808555603027,
          6.91382360458374,
          6.856992721557617,
          6.879737377166748
         ],
         "xaxis": "x",
         "y": [
          3.635728120803833,
          3.394538640975952,
          3.6910879611968994,
          3.652118682861328,
          3.5869150161743164,
          3.859769105911255,
          3.811596155166626,
          3.7296624183654785,
          3.762211561203003,
          3.7350192070007324,
          3.7898311614990234,
          3.7796385288238525,
          3.8103902339935303,
          3.21171236038208,
          3.6339619159698486,
          3.639113426208496,
          3.672440767288208,
          3.5740244388580322,
          3.656135320663452,
          3.6370699405670166
         ],
         "yaxis": "y"
        },
        {
         "customdata": [
          [
           "public"
          ],
          [
           "public"
          ],
          [
           "public"
          ],
          [
           "public"
          ],
          [
           "public"
          ],
          [
           "public"
          ],
          [
           "public"
          ],
          [
           "public"
          ],
          [
           "public"
          ],
          [
           "public"
          ],
          [
           "public"
          ],
          [
           "public"
          ],
          [
           "public"
          ],
          [
           "public"
          ],
          [
           "public"
          ],
          [
           "public"
          ],
          [
           "public"
          ],
          [
           "public"
          ],
          [
           "public"
          ],
          [
           "regional"
          ],
          [
           "public"
          ]
         ],
         "hovertemplate": "cluster_label=5<br>0=%{x}<br>1=%{y}<br>topic_name=%{customdata[0]}<extra></extra>",
         "legendgroup": "5",
         "marker": {
          "color": "#FF9616",
          "symbol": "circle"
         },
         "mode": "markers",
         "name": "5",
         "showlegend": true,
         "type": "scattergl",
         "x": [
          7.073912620544434,
          7.124863147735596,
          7.030696392059326,
          7.036007881164551,
          6.998823642730713,
          6.995437145233154,
          7.063691139221191,
          7.065670013427734,
          7.025674819946289,
          6.995089530944824,
          6.749274730682373,
          7.062314033508301,
          7.006687641143799,
          7.076774597167969,
          7.049218654632568,
          6.993847370147705,
          6.753069877624512,
          7.080233573913574,
          7.128233909606934,
          6.780339241027832,
          7.0291595458984375
         ],
         "xaxis": "x",
         "y": [
          4.7146501541137695,
          4.792705535888672,
          4.515868663787842,
          4.5399489402771,
          4.8366312980651855,
          4.686481952667236,
          4.381306171417236,
          4.495917320251465,
          4.759711742401123,
          4.488455772399902,
          4.729739665985107,
          4.720321178436279,
          4.659897327423096,
          4.7148637771606445,
          4.65599250793457,
          4.659149169921875,
          4.831478118896484,
          4.701191425323486,
          4.728845596313477,
          4.148403644561768,
          4.4104437828063965
         ],
         "yaxis": "y"
        },
        {
         "customdata": [
          [
           "logement"
          ],
          [
           "logement"
          ],
          [
           "logement"
          ],
          [
           "logement"
          ],
          [
           "logement"
          ],
          [
           "logement"
          ],
          [
           "logement"
          ],
          [
           "logement"
          ],
          [
           "logement"
          ],
          [
           "logement"
          ],
          [
           "logement"
          ],
          [
           "logement"
          ],
          [
           "logement"
          ],
          [
           "logement"
          ],
          [
           "logement"
          ],
          [
           "logement"
          ],
          [
           "logement"
          ],
          [
           "logement"
          ],
          [
           "logement"
          ],
          [
           "logement"
          ],
          [
           "logement"
          ],
          [
           "logement"
          ],
          [
           "logement"
          ],
          [
           "logement"
          ],
          [
           "logement"
          ],
          [
           "logement"
          ]
         ],
         "hovertemplate": "cluster_label=0<br>0=%{x}<br>1=%{y}<br>topic_name=%{customdata[0]}<extra></extra>",
         "legendgroup": "0",
         "marker": {
          "color": "#479B55",
          "symbol": "circle"
         },
         "mode": "markers",
         "name": "0",
         "showlegend": true,
         "type": "scattergl",
         "x": [
          7.609043121337891,
          7.294104099273682,
          7.224407196044922,
          7.235465049743652,
          7.335842609405518,
          7.371886730194092,
          7.264286994934082,
          7.318274974822998,
          7.385493755340576,
          7.275740623474121,
          7.563881874084473,
          7.399267196655273,
          7.4726409912109375,
          7.366994857788086,
          7.656976222991943,
          7.36533260345459,
          7.403225898742676,
          7.334150791168213,
          7.340609073638916,
          7.300991535186768,
          7.2742228507995605,
          7.336935520172119,
          7.313146114349365,
          7.41188907623291,
          7.339149475097656,
          7.406494140625
         ],
         "xaxis": "x",
         "y": [
          8.718300819396973,
          9.015061378479004,
          9.031679153442383,
          8.948787689208984,
          8.935020446777344,
          8.902891159057617,
          9.019786834716797,
          8.956734657287598,
          8.927038192749023,
          8.993233680725098,
          8.73405933380127,
          8.893074035644531,
          8.823758125305176,
          8.94441032409668,
          8.56396198272705,
          8.931865692138672,
          8.856884956359863,
          8.925675392150879,
          8.953486442565918,
          8.96699047088623,
          8.872657775878906,
          8.97970962524414,
          8.920197486877441,
          8.968525886535645,
          8.937705993652344,
          8.8345308303833
         ],
         "yaxis": "y"
        },
        {
         "customdata": [
          [
           "scolaire"
          ],
          [
           "scolaire"
          ],
          [
           "scolaire"
          ],
          [
           "scolaire"
          ],
          [
           "scolaire"
          ],
          [
           "scolaire"
          ],
          [
           "scolaire"
          ],
          [
           "scolaire"
          ],
          [
           "familial"
          ],
          [
           "scolaire"
          ],
          [
           "scolaire"
          ],
          [
           "scolaire"
          ],
          [
           "scolaire"
          ],
          [
           "scolaire"
          ],
          [
           "scolaire"
          ],
          [
           "scolaire"
          ],
          [
           "scolaire"
          ],
          [
           "scolaire"
          ],
          [
           "scolaire"
          ],
          [
           "scolaire"
          ],
          [
           "scolaire"
          ],
          [
           "scolaire"
          ],
          [
           "scolaire"
          ],
          [
           "citoyennete"
          ],
          [
           "scolaire"
          ],
          [
           "scolaire"
          ],
          [
           "scolaire"
          ],
          [
           "scolaire"
          ],
          [
           "scolaire"
          ],
          [
           "scolaire"
          ],
          [
           "scolaire"
          ],
          [
           "scolaire"
          ],
          [
           "scolaire"
          ],
          [
           "scolaire"
          ],
          [
           "scolaire"
          ],
          [
           "scolaire"
          ],
          [
           "scolaire"
          ],
          [
           "scolaire"
          ],
          [
           "scolaire"
          ],
          [
           "scolaire"
          ],
          [
           "scolaire"
          ],
          [
           "scolaire"
          ],
          [
           "scolaire"
          ],
          [
           "scolaire"
          ],
          [
           "scolaire"
          ],
          [
           "environnemental"
          ],
          [
           "scolaire"
          ],
          [
           "scolaire"
          ],
          [
           "environnemental"
          ],
          [
           "scolaire"
          ],
          [
           "scolaire"
          ],
          [
           "scolaire"
          ],
          [
           "scolaire"
          ],
          [
           "scolaire"
          ],
          [
           "scolaire"
          ],
          [
           "scolaire"
          ],
          [
           "scolaire"
          ],
          [
           "scolaire"
          ],
          [
           "scolaire"
          ],
          [
           "scolaire"
          ],
          [
           "scolaire"
          ],
          [
           "scolaire"
          ],
          [
           "scolaire"
          ],
          [
           "scolaire"
          ],
          [
           "scolaire"
          ],
          [
           "scolaire"
          ],
          [
           "scolaire"
          ],
          [
           "scolaire"
          ],
          [
           "scolaire"
          ],
          [
           "scolaire"
          ],
          [
           "scolaire"
          ],
          [
           "scolaire"
          ],
          [
           "scolaire"
          ],
          [
           "culturel"
          ],
          [
           "scolaire"
          ],
          [
           "scolaire"
          ],
          [
           "scolaire"
          ],
          [
           "scolaire"
          ],
          [
           "scolaire"
          ],
          [
           "scolaire"
          ],
          [
           "scolaire"
          ],
          [
           "scolaire"
          ],
          [
           "scolaire"
          ],
          [
           "scolaire"
          ],
          [
           "scolaire"
          ],
          [
           "scolaire"
          ],
          [
           "scolaire"
          ],
          [
           "scolaire"
          ],
          [
           "scolaire"
          ],
          [
           "scolaire"
          ],
          [
           "scolaire"
          ],
          [
           "scolaire"
          ],
          [
           "scolaire"
          ],
          [
           "scolaire"
          ],
          [
           "scolaire"
          ],
          [
           "scolaire"
          ],
          [
           "scolaire"
          ],
          [
           "scolaire"
          ],
          [
           "scolaire"
          ],
          [
           "scolaire"
          ],
          [
           "scolaire"
          ],
          [
           "scolaire"
          ],
          [
           "scolaire"
          ],
          [
           "scolaire"
          ],
          [
           "scolaire"
          ],
          [
           "scolaire"
          ],
          [
           "scolaire"
          ],
          [
           "scolaire"
          ],
          [
           "scolaire"
          ],
          [
           "scolaire"
          ],
          [
           "scolaire"
          ],
          [
           "scolaire"
          ],
          [
           "scolaire"
          ],
          [
           "scolaire"
          ],
          [
           "scolaire"
          ],
          [
           "scolaire"
          ]
         ],
         "hovertemplate": "cluster_label=1<br>0=%{x}<br>1=%{y}<br>topic_name=%{customdata[0]}<extra></extra>",
         "legendgroup": "1",
         "marker": {
          "color": "#EEA6FB",
          "symbol": "circle"
         },
         "mode": "markers",
         "name": "1",
         "showlegend": true,
         "type": "scattergl",
         "x": [
          12.096637725830078,
          11.378874778747559,
          11.944426536560059,
          11.810588836669922,
          11.85376262664795,
          11.560636520385742,
          12.245715141296387,
          12.163411140441895,
          11.412293434143066,
          12.06971263885498,
          11.94433307647705,
          11.531231880187988,
          11.905674934387207,
          11.8610258102417,
          11.626051902770996,
          11.398272514343262,
          12.290006637573242,
          12.044716835021973,
          11.6644868850708,
          11.693923950195312,
          12.407480239868164,
          11.423421859741211,
          11.375676155090332,
          11.12822437286377,
          11.604867935180664,
          11.90772819519043,
          11.243621826171875,
          11.918862342834473,
          11.553431510925293,
          11.885470390319824,
          11.786691665649414,
          11.658857345581055,
          11.524165153503418,
          12.280704498291016,
          11.63090705871582,
          11.604863166809082,
          11.71053409576416,
          11.806600570678711,
          11.95335578918457,
          11.470850944519043,
          11.880230903625488,
          11.941308975219727,
          11.639845848083496,
          12.296480178833008,
          12.342568397521973,
          12.1944580078125,
          12.22474479675293,
          11.575820922851562,
          11.9441556930542,
          11.398879051208496,
          11.350462913513184,
          11.545586585998535,
          12.198803901672363,
          12.202651977539062,
          12.31311321258545,
          12.1336030960083,
          12.10521411895752,
          12.136893272399902,
          11.986295700073242,
          11.979177474975586,
          12.186135292053223,
          12.325529098510742,
          11.629242897033691,
          11.543105125427246,
          11.813283920288086,
          11.598040580749512,
          11.527429580688477,
          11.735504150390625,
          11.700384140014648,
          11.623689651489258,
          11.593484878540039,
          11.791354179382324,
          11.672358512878418,
          11.279876708984375,
          11.314220428466797,
          12.254502296447754,
          12.286649703979492,
          12.270848274230957,
          12.135001182556152,
          11.63178825378418,
          11.75183391571045,
          11.41424560546875,
          12.284527778625488,
          12.318859100341797,
          12.109159469604492,
          11.956830024719238,
          11.874893188476562,
          12.262147903442383,
          12.225502967834473,
          12.177696228027344,
          11.748489379882812,
          11.831074714660645,
          11.918375968933105,
          11.915558815002441,
          12.331363677978516,
          12.313506126403809,
          12.213326454162598,
          12.004866600036621,
          11.724143981933594,
          11.711393356323242,
          11.729254722595215,
          12.280852317810059,
          12.279150009155273,
          11.602964401245117,
          11.25610065460205,
          11.903183937072754,
          11.773157119750977,
          11.741199493408203,
          11.301128387451172,
          11.637459754943848,
          11.851792335510254,
          12.314404487609863,
          12.13915729522705,
          12.010355949401855,
          11.511655807495117,
          11.476317405700684
         ],
         "xaxis": "x",
         "y": [
          2.15128231048584,
          2.7866010665893555,
          2.6965677738189697,
          2.6463418006896973,
          2.7798237800598145,
          3.017465353012085,
          1.8784104585647583,
          1.356441617012024,
          2.9941999912261963,
          2.414848804473877,
          2.9499855041503906,
          2.973999500274658,
          3.1420397758483887,
          2.7968335151672363,
          2.952821731567383,
          2.4999747276306152,
          1.7850499153137207,
          2.9656198024749756,
          3.190858840942383,
          3.2602431774139404,
          1.944409728050232,
          2.967644691467285,
          2.912646532058716,
          3.0079400539398193,
          2.9352715015411377,
          3.1273460388183594,
          2.9537487030029297,
          2.911356210708618,
          2.9948079586029053,
          3.0334019660949707,
          2.8041861057281494,
          2.9559319019317627,
          2.588785409927368,
          1.8291327953338623,
          3.192385196685791,
          3.1296908855438232,
          3.254575490951538,
          2.85440993309021,
          2.744683027267456,
          3.0862083435058594,
          2.6707451343536377,
          2.8950960636138916,
          2.9022128582000732,
          1.8762571811676025,
          1.9702531099319458,
          1.4112000465393066,
          1.4091086387634277,
          3.4992024898529053,
          1.3754463195800781,
          2.8900363445281982,
          2.926198959350586,
          3.241610050201416,
          1.9734801054000854,
          1.992583155632019,
          1.8501765727996826,
          1.429750919342041,
          1.909658670425415,
          1.7186943292617798,
          2.8421425819396973,
          2.856926202774048,
          1.482140302658081,
          1.7109262943267822,
          2.903594970703125,
          2.9816503524780273,
          3.2107317447662354,
          3.4818994998931885,
          3.468234062194824,
          3.2950079441070557,
          3.220757246017456,
          3.4327175617218018,
          2.9921414852142334,
          3.0227370262145996,
          3.069779634475708,
          2.8571393489837646,
          2.8797647953033447,
          1.9564847946166992,
          1.811424732208252,
          1.8499622344970703,
          1.4474482536315918,
          3.33233380317688,
          3.064668655395508,
          3.0013413429260254,
          1.9032268524169922,
          1.8062455654144287,
          1.4530870914459229,
          2.83923077583313,
          2.921595335006714,
          1.6207658052444458,
          1.4955997467041016,
          1.4611155986785889,
          3.179274320602417,
          3.1236376762390137,
          2.5875141620635986,
          2.839433193206787,
          1.797555685043335,
          1.7119477987289429,
          1.4302629232406616,
          2.284296989440918,
          2.8858370780944824,
          2.873502016067505,
          2.218682050704956,
          1.7783528566360474,
          1.8104438781738281,
          3.481504440307617,
          2.9401121139526367,
          2.9361000061035156,
          2.7669520378112793,
          3.2659900188446045,
          3.0106582641601562,
          3.0837106704711914,
          2.6125781536102295,
          1.7528398036956787,
          1.8306492567062378,
          2.4806947708129883,
          2.9544873237609863,
          2.91896915435791
         ],
         "yaxis": "y"
        },
        {
         "customdata": [
          [
           "culturel"
          ],
          [
           "culturel"
          ],
          [
           "culturel"
          ],
          [
           "culturel"
          ],
          [
           "culturel"
          ],
          [
           "culturel"
          ],
          [
           "culturel"
          ],
          [
           "culturel"
          ],
          [
           "culturel"
          ],
          [
           "culturel"
          ],
          [
           "culturel"
          ],
          [
           "culturel"
          ],
          [
           "culturel"
          ],
          [
           "culturel"
          ],
          [
           "culturel"
          ],
          [
           "culturel"
          ],
          [
           "culturel"
          ],
          [
           "culturel"
          ],
          [
           "culturel"
          ],
          [
           "culturel"
          ],
          [
           "culturel"
          ],
          [
           "culturel"
          ],
          [
           "culturel"
          ],
          [
           "culturel"
          ],
          [
           "culturel"
          ],
          [
           "culturel"
          ],
          [
           "culturel"
          ],
          [
           "culturel"
          ],
          [
           "culturel"
          ],
          [
           "culturel"
          ],
          [
           "culturel"
          ],
          [
           "culturel"
          ],
          [
           "culturel"
          ],
          [
           "culturel"
          ],
          [
           "culturel"
          ],
          [
           "culturel"
          ],
          [
           "culturel"
          ],
          [
           "culturel"
          ],
          [
           "culturel"
          ],
          [
           "medical"
          ],
          [
           "culturel"
          ],
          [
           "culturel"
          ],
          [
           "culturel"
          ],
          [
           "culturel"
          ],
          [
           "culturel"
          ],
          [
           "culturel"
          ],
          [
           "culturel"
          ],
          [
           "culturel"
          ],
          [
           "culturel"
          ],
          [
           "culturel"
          ],
          [
           "culturel"
          ],
          [
           "culturel"
          ]
         ],
         "hovertemplate": "cluster_label=2<br>0=%{x}<br>1=%{y}<br>topic_name=%{customdata[0]}<extra></extra>",
         "legendgroup": "2",
         "marker": {
          "color": "#DC587D",
          "symbol": "circle"
         },
         "mode": "markers",
         "name": "2",
         "showlegend": true,
         "type": "scattergl",
         "x": [
          10.393672943115234,
          10.226332664489746,
          11.043092727661133,
          10.271242141723633,
          10.154586791992188,
          10.220710754394531,
          10.202559471130371,
          11.010327339172363,
          9.463847160339355,
          10.217276573181152,
          10.24594497680664,
          10.28766918182373,
          10.109624862670898,
          10.192709922790527,
          10.16006088256836,
          10.212088584899902,
          10.175185203552246,
          10.162532806396484,
          10.249656677246094,
          10.218704223632812,
          10.999493598937988,
          10.256559371948242,
          10.266027450561523,
          10.135540008544922,
          10.183247566223145,
          10.023612022399902,
          9.981142044067383,
          10.546205520629883,
          10.094017028808594,
          10.296743392944336,
          9.989721298217773,
          10.19314956665039,
          10.111123085021973,
          10.278899192810059,
          11.040776252746582,
          10.24212646484375,
          10.058430671691895,
          10.067517280578613,
          11.010466575622559,
          11.031538963317871,
          10.060137748718262,
          9.56352710723877,
          10.453436851501465,
          11.025276184082031,
          11.081050872802734,
          10.993946075439453,
          10.027843475341797,
          9.746038436889648,
          10.65216064453125,
          10.773759841918945,
          11.01102352142334,
          10.976410865783691
         ],
         "xaxis": "x",
         "y": [
          0.36120522022247314,
          0.30978575348854065,
          0.08345363289117813,
          0.41498929262161255,
          0.9323279857635498,
          0.9047006964683533,
          0.7794032692909241,
          0.08695482462644577,
          0.7868282794952393,
          0.586097776889801,
          0.4871490001678467,
          0.4977046251296997,
          0.6687235832214355,
          0.7288888096809387,
          0.7220108509063721,
          0.6185867190361023,
          0.39401260018348694,
          0.9049735069274902,
          0.8351647257804871,
          0.7844417691230774,
          0.0850660502910614,
          0.27127912640571594,
          0.2705118656158447,
          0.32722386717796326,
          0.2890649735927582,
          0.4379689693450928,
          0.3719595968723297,
          0.28617092967033386,
          0.42415615916252136,
          0.23101526498794556,
          0.5496475696563721,
          0.2795335650444031,
          0.3791757822036743,
          0.27575981616973877,
          0.08151330053806305,
          0.34946414828300476,
          0.4681868851184845,
          0.46701622009277344,
          0.1226101964712143,
          0.07750175893306732,
          0.4103837311267853,
          0.6800016760826111,
          0.2692424952983856,
          0.08122731000185013,
          0.024256529286503792,
          0.08892209082841873,
          0.4399980902671814,
          0.548424243927002,
          0.21540477871894836,
          0.18928271532058716,
          0.07880157977342606,
          0.13797403872013092
         ],
         "yaxis": "y"
        },
        {
         "customdata": [
          [
           "social"
          ],
          [
           "social"
          ],
          [
           "social"
          ],
          [
           "social"
          ],
          [
           "social"
          ],
          [
           "social"
          ],
          [
           "social"
          ],
          [
           "citoyennete"
          ],
          [
           "social"
          ],
          [
           "social"
          ],
          [
           "social"
          ],
          [
           "social"
          ],
          [
           "social"
          ],
          [
           "social"
          ],
          [
           "social"
          ],
          [
           "social"
          ],
          [
           "social"
          ],
          [
           "social"
          ],
          [
           "social"
          ]
         ],
         "hovertemplate": "cluster_label=8<br>0=%{x}<br>1=%{y}<br>topic_name=%{customdata[0]}<extra></extra>",
         "legendgroup": "8",
         "marker": {
          "color": "#D626FF",
          "symbol": "circle"
         },
         "mode": "markers",
         "name": "8",
         "showlegend": true,
         "type": "scattergl",
         "x": [
          8.149456977844238,
          7.958724021911621,
          7.962220668792725,
          7.864326000213623,
          7.927637577056885,
          7.886861801147461,
          8.044172286987305,
          7.832490921020508,
          7.815556526184082,
          7.778463840484619,
          7.806680679321289,
          8.293013572692871,
          7.743584632873535,
          7.822862148284912,
          7.985710144042969,
          8.139138221740723,
          7.512979030609131,
          7.538695812225342,
          7.762332439422607
         ],
         "xaxis": "x",
         "y": [
          6.068656921386719,
          5.972250938415527,
          5.858627796173096,
          6.039283752441406,
          5.945010662078857,
          6.052537441253662,
          5.830697059631348,
          5.509251117706299,
          5.393265247344971,
          6.078598499298096,
          5.5713114738464355,
          6.083099842071533,
          5.740903854370117,
          5.661418914794922,
          5.805202960968018,
          5.712886333465576,
          5.645305633544922,
          6.071817874908447,
          5.6765336990356445
         ],
         "yaxis": "y"
        },
        {
         "customdata": [
          [
           "agriculture"
          ],
          [
           "agriculture"
          ],
          [
           "agriculture"
          ],
          [
           "agriculture"
          ],
          [
           "agriculture"
          ],
          [
           "maritime"
          ],
          [
           "agriculture"
          ],
          [
           "agriculture"
          ],
          [
           "agriculture"
          ],
          [
           "agriculture"
          ],
          [
           "agriculture"
          ],
          [
           "agriculture"
          ],
          [
           "agriculture"
          ],
          [
           "agriculture"
          ],
          [
           "agriculture"
          ],
          [
           "agriculture"
          ],
          [
           "environnemental"
          ],
          [
           "agriculture"
          ],
          [
           "agriculture"
          ],
          [
           "agriculture"
          ],
          [
           "agriculture"
          ],
          [
           "agriculture"
          ],
          [
           "agriculture"
          ],
          [
           "agriculture"
          ],
          [
           "agriculture"
          ],
          [
           "agriculture"
          ],
          [
           "agriculture"
          ],
          [
           "agriculture"
          ],
          [
           "agriculture"
          ],
          [
           "agriculture"
          ],
          [
           "agriculture"
          ],
          [
           "agriculture"
          ],
          [
           "agriculture"
          ],
          [
           "agriculture"
          ],
          [
           "agriculture"
          ],
          [
           "agriculture"
          ],
          [
           "agriculture"
          ],
          [
           "agriculture"
          ],
          [
           "agriculture"
          ],
          [
           "agriculture"
          ],
          [
           "agriculture"
          ],
          [
           "agriculture"
          ],
          [
           "agriculture"
          ],
          [
           "agriculture"
          ],
          [
           "agriculture"
          ],
          [
           "agriculture"
          ],
          [
           "agriculture"
          ],
          [
           "agriculture"
          ],
          [
           "regional"
          ],
          [
           "agriculture"
          ],
          [
           "agriculture"
          ],
          [
           "agriculture"
          ],
          [
           "agriculture"
          ],
          [
           "agriculture"
          ],
          [
           "agriculture"
          ],
          [
           "agriculture"
          ],
          [
           "agriculture"
          ],
          [
           "agriculture"
          ],
          [
           "agriculture"
          ],
          [
           "agriculture"
          ],
          [
           "agriculture"
          ],
          [
           "agriculture"
          ],
          [
           "agriculture"
          ],
          [
           "agriculture"
          ],
          [
           "agriculture"
          ],
          [
           "environnemental"
          ],
          [
           "agriculture"
          ],
          [
           "agriculture"
          ],
          [
           "agriculture"
          ],
          [
           "agriculture"
          ],
          [
           "agriculture"
          ],
          [
           "agriculture"
          ],
          [
           "agriculture"
          ],
          [
           "agriculture"
          ],
          [
           "energie"
          ],
          [
           "agriculture"
          ],
          [
           "agriculture"
          ],
          [
           "agriculture"
          ],
          [
           "regional"
          ],
          [
           "agriculture"
          ],
          [
           "agriculture"
          ],
          [
           "energie"
          ],
          [
           "agriculture"
          ],
          [
           "agriculture"
          ],
          [
           "agriculture"
          ],
          [
           "agriculture"
          ],
          [
           "agriculture"
          ],
          [
           "agriculture"
          ],
          [
           "agriculture"
          ]
         ],
         "hovertemplate": "cluster_label=14<br>0=%{x}<br>1=%{y}<br>topic_name=%{customdata[0]}<extra></extra>",
         "legendgroup": "14",
         "marker": {
          "color": "#6E899C",
          "symbol": "circle"
         },
         "mode": "markers",
         "name": "14",
         "showlegend": true,
         "type": "scattergl",
         "x": [
          3.1620216369628906,
          2.453765392303467,
          2.303046464920044,
          1.8736990690231323,
          3.0914297103881836,
          2.7608983516693115,
          2.074124574661255,
          1.7708725929260254,
          2.3555030822753906,
          2.428910732269287,
          2.042895555496216,
          2.0304856300354004,
          2.9691872596740723,
          2.446336030960083,
          1.8352994918823242,
          1.8239223957061768,
          1.8421107530593872,
          2.6165504455566406,
          2.8348681926727295,
          2.7297816276550293,
          1.8111284971237183,
          1.767909049987793,
          2.005326747894287,
          2.2041940689086914,
          2.566209077835083,
          2.482583999633789,
          2.461466073989868,
          2.4562041759490967,
          2.1718015670776367,
          2.365831136703491,
          2.1931045055389404,
          1.904239296913147,
          2.1448423862457275,
          2.0572376251220703,
          2.750075101852417,
          1.811306118965149,
          1.9150718450546265,
          2.2300426959991455,
          2.093937635421753,
          2.3737294673919678,
          2.4314348697662354,
          1.8595203161239624,
          2.2179410457611084,
          1.9325648546218872,
          1.9420239925384521,
          2.4678308963775635,
          2.949314832687378,
          2.6016299724578857,
          3.115359306335449,
          2.799025058746338,
          2.2886838912963867,
          2.456855535507202,
          2.4259932041168213,
          2.4028615951538086,
          1.8030011653900146,
          2.3739545345306396,
          2.376831531524658,
          1.9332242012023926,
          2.2284066677093506,
          2.321314573287964,
          2.51324462890625,
          2.472790002822876,
          2.452247142791748,
          1.9443862438201904,
          1.891830563545227,
          2.57320499420166,
          2.2253024578094482,
          2.268932342529297,
          2.5394809246063232,
          2.2431867122650146,
          2.2742581367492676,
          2.9275243282318115,
          2.5523581504821777,
          2.7868683338165283,
          2.483290195465088,
          2.4503915309906006,
          2.3798208236694336,
          2.54911732673645,
          3.2757015228271484,
          1.9070374965667725,
          2.5574557781219482,
          2.2109036445617676,
          1.8591893911361694,
          2.671858787536621,
          2.6964168548583984,
          3.0706706047058105,
          3.266946315765381,
          2.518364906311035,
          2.4409592151641846
         ],
         "xaxis": "x",
         "y": [
          6.0909624099731445,
          6.332152366638184,
          6.17949914932251,
          5.992878437042236,
          6.003632068634033,
          5.203780174255371,
          5.5392165184021,
          5.846473217010498,
          6.333945274353027,
          6.4000020027160645,
          6.1446757316589355,
          6.175050258636475,
          6.103335380554199,
          5.326686859130859,
          6.075755596160889,
          5.998218536376953,
          5.745837211608887,
          5.3163161277771,
          5.461726188659668,
          5.185111999511719,
          5.7799882888793945,
          5.922607421875,
          6.390273094177246,
          6.279919624328613,
          6.278550148010254,
          6.405792236328125,
          6.369018077850342,
          6.404941558837891,
          6.372398853302002,
          6.217503547668457,
          6.427698612213135,
          6.286777973175049,
          6.429345607757568,
          6.29586935043335,
          6.22260856628418,
          6.144838333129883,
          6.152308464050293,
          6.2321977615356445,
          6.210588455200195,
          6.39315128326416,
          6.420679092407227,
          6.090487003326416,
          6.246177673339844,
          6.114397048950195,
          6.06257438659668,
          6.069531440734863,
          6.057868480682373,
          5.108053207397461,
          5.777635097503662,
          5.449347019195557,
          6.253575325012207,
          5.848916053771973,
          6.107147693634033,
          6.108987331390381,
          5.844399929046631,
          6.040096759796143,
          6.105063438415527,
          5.861021995544434,
          6.118721008300781,
          6.111683368682861,
          5.926015377044678,
          6.0701518058776855,
          6.063448905944824,
          5.713442325592041,
          5.7443156242370605,
          5.016243934631348,
          5.887400150299072,
          6.194713115692139,
          6.003407001495361,
          5.7901434898376465,
          5.967795372009277,
          5.968863487243652,
          5.352787494659424,
          5.565764904022217,
          4.90407133102417,
          5.984267711639404,
          6.149069786071777,
          5.667240619659424,
          6.072434425354004,
          5.980106353759766,
          5.669227123260498,
          5.503037929534912,
          5.8469014167785645,
          6.0432820320129395,
          5.105329990386963,
          5.7163405418396,
          6.054163932800293,
          5.420586109161377,
          5.332715034484863
         ],
         "yaxis": "y"
        },
        {
         "customdata": [
          [
           "europeen"
          ],
          [
           "europeen"
          ],
          [
           "europeen"
          ],
          [
           "europeen"
          ],
          [
           "europeen"
          ],
          [
           "europeen"
          ],
          [
           "europeen"
          ],
          [
           "europeen"
          ],
          [
           "europeen"
          ],
          [
           "europeen"
          ],
          [
           "europeen"
          ],
          [
           "europeen"
          ],
          [
           "europeen"
          ],
          [
           "europeen"
          ],
          [
           "europeen"
          ],
          [
           "europeen"
          ],
          [
           "europeen"
          ],
          [
           "europeen"
          ],
          [
           "europeen"
          ],
          [
           "europeen"
          ],
          [
           "europeen"
          ],
          [
           "europeen"
          ],
          [
           "europeen"
          ],
          [
           "europeen"
          ],
          [
           "europeen"
          ],
          [
           "europeen"
          ],
          [
           "europeen"
          ],
          [
           "europeen"
          ],
          [
           "europeen"
          ],
          [
           "europeen"
          ],
          [
           "europeen"
          ],
          [
           "europeen"
          ],
          [
           "europeen"
          ],
          [
           "europeen"
          ],
          [
           "europeen"
          ],
          [
           "europeen"
          ]
         ],
         "hovertemplate": "cluster_label=20<br>0=%{x}<br>1=%{y}<br>topic_name=%{customdata[0]}<extra></extra>",
         "legendgroup": "20",
         "marker": {
          "color": "#00B5F7",
          "symbol": "circle"
         },
         "mode": "markers",
         "name": "20",
         "showlegend": true,
         "type": "scattergl",
         "x": [
          5.752514839172363,
          5.336710453033447,
          5.517147064208984,
          5.238326072692871,
          5.881747722625732,
          5.4843549728393555,
          5.336637020111084,
          5.747872352600098,
          5.5902204513549805,
          5.43662691116333,
          5.718583583831787,
          5.889187335968018,
          5.912303447723389,
          5.476960182189941,
          5.669550895690918,
          5.515365123748779,
          5.43842887878418,
          5.437697887420654,
          5.319965839385986,
          5.371880054473877,
          5.757848262786865,
          5.643797397613525,
          5.397702693939209,
          5.488731861114502,
          5.806168556213379,
          5.1708292961120605,
          6.023783206939697,
          5.659872531890869,
          5.3295512199401855,
          5.418217658996582,
          5.859371662139893,
          5.49061393737793,
          5.359136581420898,
          5.648836135864258,
          5.841269016265869,
          5.780738830566406
         ],
         "xaxis": "x",
         "y": [
          3.3702170848846436,
          3.266247510910034,
          2.7830817699432373,
          3.0509238243103027,
          2.5362915992736816,
          2.878815174102783,
          2.7989726066589355,
          3.210836410522461,
          3.0556297302246094,
          3.5563762187957764,
          3.102715015411377,
          2.864400863647461,
          2.8812074661254883,
          2.9401121139526367,
          3.112197160720825,
          3.2178666591644287,
          3.5351450443267822,
          3.2473835945129395,
          3.2788753509521484,
          3.3850021362304688,
          3.0126218795776367,
          3.174870729446411,
          3.5433764457702637,
          2.978685140609741,
          2.877713441848755,
          3.1529581546783447,
          2.7698605060577393,
          3.219308853149414,
          3.1861417293548584,
          3.4611520767211914,
          2.8699398040771484,
          3.585681676864624,
          3.5524473190307617,
          3.131348133087158,
          3.051931381225586,
          2.973273515701294
         ],
         "yaxis": "y"
        },
        {
         "customdata": [
          [
           "mondialisation"
          ],
          [
           "mondialisation"
          ],
          [
           "mondialisation"
          ],
          [
           "mondialisation"
          ],
          [
           "mondialisation"
          ],
          [
           "mondialisation"
          ],
          [
           "mondialisation"
          ],
          [
           "mondialisation"
          ],
          [
           "mondialisation"
          ],
          [
           "mondialisation"
          ],
          [
           "mondialisation"
          ],
          [
           "mondialisation"
          ],
          [
           "mondialisation"
          ],
          [
           "mondialisation"
          ],
          [
           "mondialisation"
          ],
          [
           "mondialisation"
          ],
          [
           "mondialisation"
          ],
          [
           "mondialisation"
          ],
          [
           "mondialisation"
          ],
          [
           "mondialisation"
          ]
         ],
         "hovertemplate": "cluster_label=21<br>0=%{x}<br>1=%{y}<br>topic_name=%{customdata[0]}<extra></extra>",
         "legendgroup": "21",
         "marker": {
          "color": "#B68E00",
          "symbol": "circle"
         },
         "mode": "markers",
         "name": "21",
         "showlegend": true,
         "type": "scattergl",
         "x": [
          4.578388214111328,
          4.645854473114014,
          4.692641735076904,
          4.433750152587891,
          4.46041202545166,
          4.458035945892334,
          4.534438610076904,
          4.490396976470947,
          4.59016752243042,
          4.543031215667725,
          4.6439995765686035,
          4.705327033996582,
          4.464742183685303,
          4.873534679412842,
          4.574934005737305,
          4.414154052734375,
          4.703784465789795,
          4.578768253326416,
          4.508469581604004,
          4.403683185577393
         ],
         "xaxis": "x",
         "y": [
          3.3599095344543457,
          3.1307332515716553,
          3.448362350463867,
          3.332108974456787,
          3.293274402618408,
          3.156987428665161,
          3.3098831176757812,
          3.3015425205230713,
          3.2224464416503906,
          3.276773691177368,
          3.18454909324646,
          3.1812474727630615,
          3.233473062515259,
          3.08432674407959,
          3.6537744998931885,
          3.3165435791015625,
          3.262277126312256,
          3.222212791442871,
          3.4902443885803223,
          3.259775400161743
         ],
         "yaxis": "y"
        },
        {
         "customdata": [
          [
           "militaire"
          ],
          [
           "militaire"
          ],
          [
           "militaire"
          ],
          [
           "militaire"
          ],
          [
           "militaire"
          ],
          [
           "militaire"
          ],
          [
           "militaire"
          ],
          [
           "militaire"
          ],
          [
           "militaire"
          ],
          [
           "militaire"
          ],
          [
           "militaire"
          ],
          [
           "militaire"
          ],
          [
           "militaire"
          ],
          [
           "militaire"
          ],
          [
           "militaire"
          ],
          [
           "militaire"
          ],
          [
           "militaire"
          ],
          [
           "militaire"
          ],
          [
           "militaire"
          ],
          [
           "militaire"
          ],
          [
           "militaire"
          ],
          [
           "militaire"
          ],
          [
           "militaire"
          ],
          [
           "militaire"
          ],
          [
           "militaire"
          ],
          [
           "militaire"
          ],
          [
           "militaire"
          ],
          [
           "militaire"
          ],
          [
           "militaire"
          ],
          [
           "militaire"
          ],
          [
           "militaire"
          ],
          [
           "militaire"
          ],
          [
           "militaire"
          ],
          [
           "militaire"
          ],
          [
           "militaire"
          ]
         ],
         "hovertemplate": "cluster_label=19<br>0=%{x}<br>1=%{y}<br>topic_name=%{customdata[0]}<extra></extra>",
         "legendgroup": "19",
         "marker": {
          "color": "#C9FBE5",
          "symbol": "circle"
         },
         "mode": "markers",
         "name": "19",
         "showlegend": true,
         "type": "scattergl",
         "x": [
          4.351992607116699,
          4.298165321350098,
          3.972053289413452,
          3.795358896255493,
          3.8766045570373535,
          3.8770437240600586,
          3.9628829956054688,
          3.981567621231079,
          3.940037250518799,
          4.252558708190918,
          3.988746404647827,
          4.27587890625,
          4.021002769470215,
          3.8151094913482666,
          3.9014947414398193,
          3.9094252586364746,
          4.24945592880249,
          3.8907341957092285,
          4.106535911560059,
          4.242221832275391,
          4.131211280822754,
          4.299655914306641,
          4.114866256713867,
          4.165002822875977,
          4.24476957321167,
          4.159577369689941,
          3.889509439468384,
          4.2103986740112305,
          4.182319164276123,
          3.9397425651550293,
          4.253721714019775,
          4.195439338684082,
          4.304358959197998,
          3.835430383682251,
          4.070444583892822
         ],
         "xaxis": "x",
         "y": [
          2.23323655128479,
          1.7795532941818237,
          1.8364843130111694,
          1.8696662187576294,
          1.8003978729248047,
          1.777592420578003,
          1.6695125102996826,
          1.6566565036773682,
          1.6794638633728027,
          1.6915231943130493,
          1.9951198101043701,
          2.069488048553467,
          1.8714178800582886,
          1.8895888328552246,
          1.7656279802322388,
          1.7170547246932983,
          2.2535197734832764,
          1.9811930656433105,
          2.075929641723633,
          2.2152271270751953,
          2.142796516418457,
          2.281325101852417,
          1.931288480758667,
          2.0681610107421875,
          2.188063621520996,
          2.06754732131958,
          2.0615713596343994,
          2.0957720279693604,
          2.104642629623413,
          1.9895415306091309,
          2.018075704574585,
          1.7965648174285889,
          1.8170137405395508,
          1.8204433917999268,
          1.6981102228164673
         ],
         "yaxis": "y"
        },
        {
         "customdata": [
          [
           "familial"
          ],
          [
           "familial"
          ],
          [
           "familial"
          ],
          [
           "familial"
          ],
          [
           "familial"
          ],
          [
           "familial"
          ],
          [
           "familial"
          ],
          [
           "familial"
          ],
          [
           "familial"
          ],
          [
           "familial"
          ],
          [
           "familial"
          ],
          [
           "familial"
          ],
          [
           "familial"
          ],
          [
           "familial"
          ],
          [
           "familial"
          ],
          [
           "familial"
          ],
          [
           "familial"
          ],
          [
           "familial"
          ],
          [
           "familial"
          ],
          [
           "familial"
          ],
          [
           "familial"
          ],
          [
           "familial"
          ],
          [
           "familial"
          ],
          [
           "familial"
          ],
          [
           "familial"
          ],
          [
           "familial"
          ],
          [
           "familial"
          ],
          [
           "familial"
          ],
          [
           "familial"
          ],
          [
           "familial"
          ],
          [
           "familial"
          ],
          [
           "familial"
          ]
         ],
         "hovertemplate": "cluster_label=9<br>0=%{x}<br>1=%{y}<br>topic_name=%{customdata[0]}<extra></extra>",
         "legendgroup": "9",
         "marker": {
          "color": "#FF0092",
          "symbol": "circle"
         },
         "mode": "markers",
         "name": "9",
         "showlegend": true,
         "type": "scattergl",
         "x": [
          9.463165283203125,
          9.48992919921875,
          9.424501419067383,
          9.823217391967773,
          9.385555267333984,
          9.511324882507324,
          9.593192100524902,
          9.48147201538086,
          9.501376152038574,
          9.433043479919434,
          9.81638240814209,
          9.637796401977539,
          9.419320106506348,
          9.53465747833252,
          9.659530639648438,
          9.195428848266602,
          9.44312858581543,
          9.094602584838867,
          9.47419548034668,
          9.404825210571289,
          9.477784156799316,
          9.36133861541748,
          9.24317741394043,
          9.40476131439209,
          9.454376220703125,
          9.239757537841797,
          9.462421417236328,
          9.38687801361084,
          9.35165023803711,
          9.279245376586914,
          9.577641487121582,
          9.54250431060791
         ],
         "xaxis": "x",
         "y": [
          6.762826919555664,
          6.807298183441162,
          6.7896928787231445,
          6.350548267364502,
          6.840037822723389,
          6.711877346038818,
          6.5964765548706055,
          6.659626007080078,
          6.74689245223999,
          6.686473846435547,
          6.237210273742676,
          6.481964111328125,
          6.751499652862549,
          6.633970737457275,
          6.491093635559082,
          6.4448418617248535,
          6.513058185577393,
          6.879753589630127,
          6.774343967437744,
          6.7836198806762695,
          6.839969158172607,
          6.9204888343811035,
          6.29671573638916,
          6.575913906097412,
          6.599564552307129,
          6.248435974121094,
          6.734520435333252,
          6.7964067459106445,
          6.497097015380859,
          6.411839008331299,
          6.741789817810059,
          6.592980861663818
         ],
         "yaxis": "y"
        },
        {
         "customdata": [
          [
           "medical"
          ],
          [
           "medical"
          ],
          [
           "medical"
          ],
          [
           "medical"
          ],
          [
           "medical"
          ],
          [
           "medical"
          ],
          [
           "medical"
          ],
          [
           "medical"
          ],
          [
           "medical"
          ],
          [
           "medical"
          ],
          [
           "medical"
          ],
          [
           "medical"
          ],
          [
           "medical"
          ],
          [
           "medical"
          ],
          [
           "medical"
          ],
          [
           "medical"
          ],
          [
           "medical"
          ],
          [
           "medical"
          ],
          [
           "medical"
          ],
          [
           "medical"
          ],
          [
           "medical"
          ],
          [
           "medical"
          ],
          [
           "medical"
          ],
          [
           "medical"
          ],
          [
           "medical"
          ],
          [
           "medical"
          ],
          [
           "medical"
          ],
          [
           "medical"
          ],
          [
           "medical"
          ],
          [
           "medical"
          ],
          [
           "medical"
          ],
          [
           "medical"
          ],
          [
           "medical"
          ],
          [
           "medical"
          ],
          [
           "medical"
          ],
          [
           "medical"
          ],
          [
           "medical"
          ],
          [
           "medical"
          ],
          [
           "medical"
          ],
          [
           "medical"
          ],
          [
           "medical"
          ],
          [
           "medical"
          ],
          [
           "medical"
          ],
          [
           "medical"
          ],
          [
           "medical"
          ],
          [
           "medical"
          ],
          [
           "medical"
          ],
          [
           "medical"
          ],
          [
           "medical"
          ],
          [
           "medical"
          ],
          [
           "medical"
          ],
          [
           "medical"
          ],
          [
           "medical"
          ],
          [
           "medical"
          ],
          [
           "medical"
          ],
          [
           "medical"
          ],
          [
           "medical"
          ],
          [
           "medical"
          ],
          [
           "medical"
          ],
          [
           "medical"
          ],
          [
           "medical"
          ],
          [
           "medical"
          ],
          [
           "medical"
          ],
          [
           "medical"
          ],
          [
           "medical"
          ],
          [
           "medical"
          ],
          [
           "medical"
          ],
          [
           "medical"
          ],
          [
           "logement"
          ],
          [
           "medical"
          ],
          [
           "medical"
          ],
          [
           "medical"
          ],
          [
           "medical"
          ],
          [
           "medical"
          ],
          [
           "medical"
          ],
          [
           "medical"
          ],
          [
           "medical"
          ],
          [
           "medical"
          ],
          [
           "medical"
          ],
          [
           "medical"
          ],
          [
           "medical"
          ],
          [
           "medical"
          ],
          [
           "medical"
          ],
          [
           "medical"
          ],
          [
           "medical"
          ],
          [
           "medical"
          ],
          [
           "medical"
          ],
          [
           "medical"
          ],
          [
           "medical"
          ],
          [
           "medical"
          ],
          [
           "medical"
          ]
         ],
         "hovertemplate": "cluster_label=6<br>0=%{x}<br>1=%{y}<br>topic_name=%{customdata[0]}<extra></extra>",
         "legendgroup": "6",
         "marker": {
          "color": "#22FFA7",
          "symbol": "circle"
         },
         "mode": "markers",
         "name": "6",
         "showlegend": true,
         "type": "scattergl",
         "x": [
          8.728672981262207,
          8.474069595336914,
          8.642735481262207,
          8.894747734069824,
          8.898978233337402,
          8.812277793884277,
          8.887677192687988,
          8.477051734924316,
          8.620287895202637,
          9.096059799194336,
          9.350967407226562,
          9.258035659790039,
          9.153953552246094,
          9.231826782226562,
          9.467376708984375,
          8.763354301452637,
          8.901756286621094,
          8.471796989440918,
          8.442848205566406,
          8.456977844238281,
          8.469205856323242,
          9.14533519744873,
          8.686517715454102,
          9.433760643005371,
          9.407689094543457,
          9.25104808807373,
          9.247736930847168,
          8.501564025878906,
          8.524941444396973,
          8.998899459838867,
          9.3540620803833,
          9.238425254821777,
          9.129462242126465,
          9.18655014038086,
          9.3714599609375,
          8.943641662597656,
          9.148146629333496,
          8.75493335723877,
          8.895631790161133,
          9.32874870300293,
          8.299405097961426,
          8.460065841674805,
          8.821657180786133,
          8.869794845581055,
          8.849971771240234,
          9.036498069763184,
          9.011710166931152,
          8.58922290802002,
          8.9912691116333,
          8.574529647827148,
          8.976714134216309,
          9.348775863647461,
          9.085227012634277,
          8.52496337890625,
          8.323333740234375,
          9.048794746398926,
          9.256782531738281,
          9.32766056060791,
          9.278818130493164,
          8.542474746704102,
          8.673561096191406,
          9.138325691223145,
          9.034292221069336,
          8.924293518066406,
          8.956518173217773,
          9.068656921386719,
          9.085772514343262,
          8.616817474365234,
          8.188164710998535,
          8.733528137207031,
          8.919268608093262,
          9.03126335144043,
          8.373119354248047,
          9.323643684387207,
          8.652487754821777,
          8.521439552307129,
          9.073881149291992,
          8.270811080932617,
          8.733872413635254,
          8.91572380065918,
          8.894098281860352,
          9.033796310424805,
          9.083818435668945,
          8.812447547912598,
          9.200139999389648,
          9.20640754699707,
          8.871098518371582,
          8.942094802856445,
          8.671106338500977,
          9.08545970916748,
          8.702500343322754
         ],
         "xaxis": "x",
         "y": [
          7.427698135375977,
          7.807957172393799,
          8.451345443725586,
          8.57130241394043,
          8.428472518920898,
          7.512433052062988,
          7.8381853103637695,
          8.291388511657715,
          8.38722038269043,
          8.67050838470459,
          8.879164695739746,
          8.764625549316406,
          8.354355812072754,
          8.56289291381836,
          8.285074234008789,
          7.484567642211914,
          7.990175724029541,
          8.371231079101562,
          8.2443265914917,
          8.315621376037598,
          8.324647903442383,
          8.761919021606445,
          8.273791313171387,
          8.258498191833496,
          8.283381462097168,
          8.369979858398438,
          8.772685050964355,
          8.304231643676758,
          8.325777053833008,
          8.591835021972656,
          8.88106918334961,
          8.812416076660156,
          8.410101890563965,
          8.467649459838867,
          8.340877532958984,
          8.544702529907227,
          8.828764915466309,
          8.596266746520996,
          8.644248962402344,
          8.35810661315918,
          7.821983337402344,
          7.982542514801025,
          8.58126449584961,
          8.378117561340332,
          8.090211868286133,
          8.664554595947266,
          8.691901206970215,
          7.447596073150635,
          8.542137145996094,
          8.086074829101562,
          8.65640926361084,
          8.898496627807617,
          8.661321640014648,
          8.315999031066895,
          7.673120975494385,
          8.679789543151855,
          8.821211814880371,
          8.87713623046875,
          8.83808708190918,
          8.348172187805176,
          8.420589447021484,
          8.752469062805176,
          8.61667251586914,
          8.479008674621582,
          8.732583045959473,
          8.586583137512207,
          8.242207527160645,
          7.828731536865234,
          7.637777805328369,
          7.569441795349121,
          8.459428787231445,
          8.60150146484375,
          7.884387493133545,
          8.875990867614746,
          8.090060234069824,
          7.635623455047607,
          8.7537260055542,
          7.742009162902832,
          8.402477264404297,
          8.533353805541992,
          8.266857147216797,
          8.597641944885254,
          8.68201732635498,
          7.740171909332275,
          8.449764251708984,
          8.780915260314941,
          8.24731159210205,
          8.090963363647461,
          8.143169403076172,
          8.640840530395508,
          7.6862969398498535
         ],
         "yaxis": "y"
        },
        {
         "customdata": [
          [
           "environnemental"
          ],
          [
           "environnemental"
          ],
          [
           "environnemental"
          ],
          [
           "environnemental"
          ],
          [
           "environnemental"
          ],
          [
           "environnemental"
          ],
          [
           "environnemental"
          ],
          [
           "environnemental"
          ],
          [
           "environnemental"
          ],
          [
           "environnemental"
          ],
          [
           "environnemental"
          ],
          [
           "environnemental"
          ],
          [
           "environnemental"
          ],
          [
           "environnemental"
          ],
          [
           "environnemental"
          ],
          [
           "environnemental"
          ],
          [
           "environnemental"
          ],
          [
           "environnemental"
          ],
          [
           "environnemental"
          ],
          [
           "environnemental"
          ],
          [
           "environnemental"
          ],
          [
           "environnemental"
          ],
          [
           "environnemental"
          ],
          [
           "environnemental"
          ],
          [
           "environnemental"
          ],
          [
           "environnemental"
          ]
         ],
         "hovertemplate": "cluster_label=15<br>0=%{x}<br>1=%{y}<br>topic_name=%{customdata[0]}<extra></extra>",
         "legendgroup": "15",
         "marker": {
          "color": "#E3EE9E",
          "symbol": "circle"
         },
         "mode": "markers",
         "name": "15",
         "showlegend": true,
         "type": "scattergl",
         "x": [
          3.0312578678131104,
          3.6043713092803955,
          3.5977134704589844,
          3.1748461723327637,
          3.262054920196533,
          3.6487772464752197,
          3.2944743633270264,
          3.057478666305542,
          3.1803252696990967,
          3.406771659851074,
          3.805264949798584,
          3.15537691116333,
          3.3182365894317627,
          3.3758363723754883,
          3.1393544673919678,
          3.175790309906006,
          3.3144583702087402,
          3.2032058238983154,
          3.29658842086792,
          3.1905646324157715,
          3.4552550315856934,
          3.461729049682617,
          3.7702839374542236,
          3.1188931465148926,
          2.880845069885254,
          2.886159658432007
         ],
         "xaxis": "x",
         "y": [
          4.392865180969238,
          4.554047107696533,
          4.532617568969727,
          4.455334663391113,
          4.499227046966553,
          4.482248306274414,
          4.4151692390441895,
          4.72493839263916,
          4.168829441070557,
          4.593922138214111,
          4.83275842666626,
          4.6487298011779785,
          4.268157958984375,
          4.09922456741333,
          4.378028392791748,
          4.559115409851074,
          4.620086193084717,
          4.322550296783447,
          4.844053745269775,
          4.447403430938721,
          4.348578453063965,
          4.094140529632568,
          4.46536922454834,
          4.284511566162109,
          4.499980449676514,
          4.546444892883301
         ],
         "yaxis": "y"
        },
        {
         "customdata": [
          [
           "maritime"
          ],
          [
           "maritime"
          ],
          [
           "maritime"
          ],
          [
           "maritime"
          ],
          [
           "maritime"
          ],
          [
           "maritime"
          ],
          [
           "maritime"
          ],
          [
           "maritime"
          ],
          [
           "maritime"
          ],
          [
           "maritime"
          ],
          [
           "maritime"
          ],
          [
           "maritime"
          ],
          [
           "maritime"
          ],
          [
           "maritime"
          ],
          [
           "maritime"
          ]
         ],
         "hovertemplate": "cluster_label=4<br>0=%{x}<br>1=%{y}<br>topic_name=%{customdata[0]}<extra></extra>",
         "legendgroup": "4",
         "marker": {
          "color": "#86CE00",
          "symbol": "circle"
         },
         "mode": "markers",
         "name": "4",
         "showlegend": true,
         "type": "scattergl",
         "x": [
          3.288548469543457,
          3.376667022705078,
          3.1696105003356934,
          3.1594369411468506,
          3.3248605728149414,
          3.576385259628296,
          3.2461185455322266,
          3.0845272541046143,
          3.2461228370666504,
          3.0449743270874023,
          3.025458812713623,
          3.086867094039917,
          3.2596282958984375,
          3.0053563117980957,
          3.2171216011047363
         ],
         "xaxis": "x",
         "y": [
          3.12553334236145,
          3.021756649017334,
          3.318206787109375,
          3.433856248855591,
          3.166923999786377,
          3.113497495651245,
          3.22025990486145,
          3.4767141342163086,
          3.196298837661743,
          3.55238676071167,
          3.5748565196990967,
          3.5469889640808105,
          3.2975645065307617,
          3.5767321586608887,
          3.2949447631835938
         ],
         "yaxis": "y"
        },
        {
         "customdata": [
          [
           "immigration"
          ],
          [
           "immigration"
          ],
          [
           "immigration"
          ],
          [
           "immigration"
          ],
          [
           "immigration"
          ],
          [
           "immigration"
          ],
          [
           "immigration"
          ],
          [
           "immigration"
          ],
          [
           "immigration"
          ],
          [
           "immigration"
          ],
          [
           "immigration"
          ],
          [
           "immigration"
          ],
          [
           "immigration"
          ],
          [
           "immigration"
          ],
          [
           "immigration"
          ],
          [
           "immigration"
          ],
          [
           "immigration"
          ],
          [
           "immigration"
          ],
          [
           "immigration"
          ],
          [
           "immigration"
          ],
          [
           "immigration"
          ],
          [
           "immigration"
          ],
          [
           "immigration"
          ],
          [
           "immigration"
          ],
          [
           "immigration"
          ],
          [
           "immigration"
          ],
          [
           "immigration"
          ],
          [
           "immigration"
          ],
          [
           "immigration"
          ],
          [
           "immigration"
          ],
          [
           "discrimination"
          ],
          [
           "immigration"
          ],
          [
           "immigration"
          ],
          [
           "immigration"
          ]
         ],
         "hovertemplate": "cluster_label=12<br>0=%{x}<br>1=%{y}<br>topic_name=%{customdata[0]}<extra></extra>",
         "legendgroup": "12",
         "marker": {
          "color": "#BC7196",
          "symbol": "circle"
         },
         "mode": "markers",
         "name": "12",
         "showlegend": true,
         "type": "scattergl",
         "x": [
          10.211376190185547,
          10.541963577270508,
          10.550660133361816,
          10.524260520935059,
          10.410781860351562,
          10.416804313659668,
          10.421594619750977,
          10.40899658203125,
          10.567112922668457,
          10.516425132751465,
          10.23985481262207,
          10.408896446228027,
          10.33596134185791,
          10.529426574707031,
          10.61363410949707,
          10.48460578918457,
          10.44740104675293,
          10.026824951171875,
          10.473979949951172,
          10.3985013961792,
          10.281871795654297,
          10.129250526428223,
          10.351639747619629,
          10.4378662109375,
          10.330702781677246,
          10.408036231994629,
          10.40691089630127,
          10.268449783325195,
          10.486162185668945,
          10.505658149719238,
          9.563896179199219,
          10.29114818572998,
          10.433196067810059,
          10.518948554992676
         ],
         "xaxis": "x",
         "y": [
          5.758418560028076,
          5.331073760986328,
          5.257383823394775,
          5.38886833190918,
          5.3965959548950195,
          5.632974624633789,
          5.531284809112549,
          5.389394283294678,
          5.284451007843018,
          5.365680694580078,
          5.597489833831787,
          5.499820232391357,
          5.555106163024902,
          5.339090347290039,
          5.187956809997559,
          5.398866176605225,
          5.489898204803467,
          5.417998790740967,
          5.205565452575684,
          5.468362808227539,
          5.433839797973633,
          5.421224117279053,
          5.376983642578125,
          5.437112331390381,
          5.471584796905518,
          5.464677333831787,
          5.4540534019470215,
          5.360855579376221,
          5.381192684173584,
          5.343707084655762,
          5.489087104797363,
          5.348179340362549,
          5.456198692321777,
          5.3353118896484375
         ],
         "yaxis": "y"
        },
        {
         "customdata": [
          [
           "discrimination"
          ],
          [
           "discrimination"
          ],
          [
           "discrimination"
          ],
          [
           "discrimination"
          ],
          [
           "discrimination"
          ],
          [
           "discrimination"
          ],
          [
           "discrimination"
          ],
          [
           "discrimination"
          ],
          [
           "discrimination"
          ],
          [
           "discrimination"
          ],
          [
           "discrimination"
          ],
          [
           "discrimination"
          ],
          [
           "discrimination"
          ],
          [
           "discrimination"
          ],
          [
           "discrimination"
          ],
          [
           "discrimination"
          ],
          [
           "discrimination"
          ],
          [
           "discrimination"
          ],
          [
           "discrimination"
          ],
          [
           "discrimination"
          ],
          [
           "discrimination"
          ],
          [
           "discrimination"
          ]
         ],
         "hovertemplate": "cluster_label=13<br>0=%{x}<br>1=%{y}<br>topic_name=%{customdata[0]}<extra></extra>",
         "legendgroup": "13",
         "marker": {
          "color": "#7E7DCD",
          "symbol": "circle"
         },
         "mode": "markers",
         "name": "13",
         "showlegend": true,
         "type": "scattergl",
         "x": [
          9.210817337036133,
          9.471556663513184,
          9.161432266235352,
          9.21684455871582,
          9.258883476257324,
          9.187260627746582,
          9.480490684509277,
          9.213749885559082,
          9.109685897827148,
          9.074177742004395,
          8.899492263793945,
          8.830998420715332,
          8.872469902038574,
          9.107397079467773,
          9.40690803527832,
          8.961788177490234,
          9.22098445892334,
          8.739177703857422,
          8.795281410217285,
          9.166056632995605,
          8.829581260681152,
          9.292823791503906
         ],
         "xaxis": "x",
         "y": [
          5.677009105682373,
          5.550217628479004,
          5.606904983520508,
          5.728724479675293,
          5.593137264251709,
          5.635810375213623,
          5.439830780029297,
          5.622008323669434,
          5.57227897644043,
          5.548862457275391,
          5.45551061630249,
          5.438549518585205,
          5.373234748840332,
          5.236940383911133,
          5.546783447265625,
          5.430081844329834,
          5.573246479034424,
          5.611085414886475,
          5.48037576675415,
          5.286670684814453,
          5.3829474449157715,
          5.143561363220215
         ],
         "yaxis": "y"
        },
        {
         "marker": {
          "size": 15,
          "symbol": "star"
         },
         "mode": "markers+text",
         "name": "topic vector",
         "text": [
          "emploi",
          "scolaire",
          "agriculture",
          "citoyennete",
          "medical",
          "fiscal",
          "judiciaire",
          "parlement",
          "europeen",
          "environnemental",
          "energie",
          "mondialisation",
          "culturel",
          "social",
          "militaire",
          "public",
          "immigration",
          "familial",
          "logement",
          "regional",
          "discrimination",
          "maritime"
         ],
         "textfont": {
          "color": "Black",
          "family": "sans serif",
          "size": 20
         },
         "type": "scatter",
         "x": [
          6.4943671226501465,
          12.138753890991211,
          2.305198907852173,
          8.23253345489502,
          8.92005729675293,
          6.118252277374268,
          9.097939491271973,
          7.161445140838623,
          5.653763771057129,
          3.197244882583618,
          1.974828839302063,
          4.313600540161133,
          10.134815216064453,
          7.840487957000732,
          4.054792404174805,
          6.863800525665283,
          10.520031929016113,
          9.414239883422852,
          7.285373687744141,
          6.878932476043701,
          9.089238166809082,
          3.1423091888427734
         ],
         "y": [
          7.525529384613037,
          2.7260220050811768,
          6.200584888458252,
          4.399049282073975,
          8.682393074035645,
          5.74211311340332,
          2.1291160583496094,
          2.375234603881836,
          3.0494635105133057,
          4.424289226531982,
          3.927067995071411,
          3.4007930755615234,
          0.24069653451442719,
          5.947299003601074,
          1.749903678894043,
          4.564930438995361,
          5.391000270843506,
          6.770471572875977,
          9.076208114624023,
          3.7885191440582275,
          5.516501426696777,
          3.32462477684021
         ]
        }
       ],
       "layout": {
        "legend": {
         "title": {
          "text": "cluster_label"
         },
         "tracegroupgap": 0
        },
        "margin": {
         "t": 60
        },
        "template": {
         "data": {
          "bar": [
           {
            "error_x": {
             "color": "#2a3f5f"
            },
            "error_y": {
             "color": "#2a3f5f"
            },
            "marker": {
             "line": {
              "color": "#E5ECF6",
              "width": 0.5
             },
             "pattern": {
              "fillmode": "overlay",
              "size": 10,
              "solidity": 0.2
             }
            },
            "type": "bar"
           }
          ],
          "barpolar": [
           {
            "marker": {
             "line": {
              "color": "#E5ECF6",
              "width": 0.5
             },
             "pattern": {
              "fillmode": "overlay",
              "size": 10,
              "solidity": 0.2
             }
            },
            "type": "barpolar"
           }
          ],
          "carpet": [
           {
            "aaxis": {
             "endlinecolor": "#2a3f5f",
             "gridcolor": "white",
             "linecolor": "white",
             "minorgridcolor": "white",
             "startlinecolor": "#2a3f5f"
            },
            "baxis": {
             "endlinecolor": "#2a3f5f",
             "gridcolor": "white",
             "linecolor": "white",
             "minorgridcolor": "white",
             "startlinecolor": "#2a3f5f"
            },
            "type": "carpet"
           }
          ],
          "choropleth": [
           {
            "colorbar": {
             "outlinewidth": 0,
             "ticks": ""
            },
            "type": "choropleth"
           }
          ],
          "contour": [
           {
            "colorbar": {
             "outlinewidth": 0,
             "ticks": ""
            },
            "colorscale": [
             [
              0,
              "#0d0887"
             ],
             [
              0.1111111111111111,
              "#46039f"
             ],
             [
              0.2222222222222222,
              "#7201a8"
             ],
             [
              0.3333333333333333,
              "#9c179e"
             ],
             [
              0.4444444444444444,
              "#bd3786"
             ],
             [
              0.5555555555555556,
              "#d8576b"
             ],
             [
              0.6666666666666666,
              "#ed7953"
             ],
             [
              0.7777777777777778,
              "#fb9f3a"
             ],
             [
              0.8888888888888888,
              "#fdca26"
             ],
             [
              1,
              "#f0f921"
             ]
            ],
            "type": "contour"
           }
          ],
          "contourcarpet": [
           {
            "colorbar": {
             "outlinewidth": 0,
             "ticks": ""
            },
            "type": "contourcarpet"
           }
          ],
          "heatmap": [
           {
            "colorbar": {
             "outlinewidth": 0,
             "ticks": ""
            },
            "colorscale": [
             [
              0,
              "#0d0887"
             ],
             [
              0.1111111111111111,
              "#46039f"
             ],
             [
              0.2222222222222222,
              "#7201a8"
             ],
             [
              0.3333333333333333,
              "#9c179e"
             ],
             [
              0.4444444444444444,
              "#bd3786"
             ],
             [
              0.5555555555555556,
              "#d8576b"
             ],
             [
              0.6666666666666666,
              "#ed7953"
             ],
             [
              0.7777777777777778,
              "#fb9f3a"
             ],
             [
              0.8888888888888888,
              "#fdca26"
             ],
             [
              1,
              "#f0f921"
             ]
            ],
            "type": "heatmap"
           }
          ],
          "heatmapgl": [
           {
            "colorbar": {
             "outlinewidth": 0,
             "ticks": ""
            },
            "colorscale": [
             [
              0,
              "#0d0887"
             ],
             [
              0.1111111111111111,
              "#46039f"
             ],
             [
              0.2222222222222222,
              "#7201a8"
             ],
             [
              0.3333333333333333,
              "#9c179e"
             ],
             [
              0.4444444444444444,
              "#bd3786"
             ],
             [
              0.5555555555555556,
              "#d8576b"
             ],
             [
              0.6666666666666666,
              "#ed7953"
             ],
             [
              0.7777777777777778,
              "#fb9f3a"
             ],
             [
              0.8888888888888888,
              "#fdca26"
             ],
             [
              1,
              "#f0f921"
             ]
            ],
            "type": "heatmapgl"
           }
          ],
          "histogram": [
           {
            "marker": {
             "pattern": {
              "fillmode": "overlay",
              "size": 10,
              "solidity": 0.2
             }
            },
            "type": "histogram"
           }
          ],
          "histogram2d": [
           {
            "colorbar": {
             "outlinewidth": 0,
             "ticks": ""
            },
            "colorscale": [
             [
              0,
              "#0d0887"
             ],
             [
              0.1111111111111111,
              "#46039f"
             ],
             [
              0.2222222222222222,
              "#7201a8"
             ],
             [
              0.3333333333333333,
              "#9c179e"
             ],
             [
              0.4444444444444444,
              "#bd3786"
             ],
             [
              0.5555555555555556,
              "#d8576b"
             ],
             [
              0.6666666666666666,
              "#ed7953"
             ],
             [
              0.7777777777777778,
              "#fb9f3a"
             ],
             [
              0.8888888888888888,
              "#fdca26"
             ],
             [
              1,
              "#f0f921"
             ]
            ],
            "type": "histogram2d"
           }
          ],
          "histogram2dcontour": [
           {
            "colorbar": {
             "outlinewidth": 0,
             "ticks": ""
            },
            "colorscale": [
             [
              0,
              "#0d0887"
             ],
             [
              0.1111111111111111,
              "#46039f"
             ],
             [
              0.2222222222222222,
              "#7201a8"
             ],
             [
              0.3333333333333333,
              "#9c179e"
             ],
             [
              0.4444444444444444,
              "#bd3786"
             ],
             [
              0.5555555555555556,
              "#d8576b"
             ],
             [
              0.6666666666666666,
              "#ed7953"
             ],
             [
              0.7777777777777778,
              "#fb9f3a"
             ],
             [
              0.8888888888888888,
              "#fdca26"
             ],
             [
              1,
              "#f0f921"
             ]
            ],
            "type": "histogram2dcontour"
           }
          ],
          "mesh3d": [
           {
            "colorbar": {
             "outlinewidth": 0,
             "ticks": ""
            },
            "type": "mesh3d"
           }
          ],
          "parcoords": [
           {
            "line": {
             "colorbar": {
              "outlinewidth": 0,
              "ticks": ""
             }
            },
            "type": "parcoords"
           }
          ],
          "pie": [
           {
            "automargin": true,
            "type": "pie"
           }
          ],
          "scatter": [
           {
            "marker": {
             "colorbar": {
              "outlinewidth": 0,
              "ticks": ""
             }
            },
            "type": "scatter"
           }
          ],
          "scatter3d": [
           {
            "line": {
             "colorbar": {
              "outlinewidth": 0,
              "ticks": ""
             }
            },
            "marker": {
             "colorbar": {
              "outlinewidth": 0,
              "ticks": ""
             }
            },
            "type": "scatter3d"
           }
          ],
          "scattercarpet": [
           {
            "marker": {
             "colorbar": {
              "outlinewidth": 0,
              "ticks": ""
             }
            },
            "type": "scattercarpet"
           }
          ],
          "scattergeo": [
           {
            "marker": {
             "colorbar": {
              "outlinewidth": 0,
              "ticks": ""
             }
            },
            "type": "scattergeo"
           }
          ],
          "scattergl": [
           {
            "marker": {
             "colorbar": {
              "outlinewidth": 0,
              "ticks": ""
             }
            },
            "type": "scattergl"
           }
          ],
          "scattermapbox": [
           {
            "marker": {
             "colorbar": {
              "outlinewidth": 0,
              "ticks": ""
             }
            },
            "type": "scattermapbox"
           }
          ],
          "scatterpolar": [
           {
            "marker": {
             "colorbar": {
              "outlinewidth": 0,
              "ticks": ""
             }
            },
            "type": "scatterpolar"
           }
          ],
          "scatterpolargl": [
           {
            "marker": {
             "colorbar": {
              "outlinewidth": 0,
              "ticks": ""
             }
            },
            "type": "scatterpolargl"
           }
          ],
          "scatterternary": [
           {
            "marker": {
             "colorbar": {
              "outlinewidth": 0,
              "ticks": ""
             }
            },
            "type": "scatterternary"
           }
          ],
          "surface": [
           {
            "colorbar": {
             "outlinewidth": 0,
             "ticks": ""
            },
            "colorscale": [
             [
              0,
              "#0d0887"
             ],
             [
              0.1111111111111111,
              "#46039f"
             ],
             [
              0.2222222222222222,
              "#7201a8"
             ],
             [
              0.3333333333333333,
              "#9c179e"
             ],
             [
              0.4444444444444444,
              "#bd3786"
             ],
             [
              0.5555555555555556,
              "#d8576b"
             ],
             [
              0.6666666666666666,
              "#ed7953"
             ],
             [
              0.7777777777777778,
              "#fb9f3a"
             ],
             [
              0.8888888888888888,
              "#fdca26"
             ],
             [
              1,
              "#f0f921"
             ]
            ],
            "type": "surface"
           }
          ],
          "table": [
           {
            "cells": {
             "fill": {
              "color": "#EBF0F8"
             },
             "line": {
              "color": "white"
             }
            },
            "header": {
             "fill": {
              "color": "#C8D4E3"
             },
             "line": {
              "color": "white"
             }
            },
            "type": "table"
           }
          ]
         },
         "layout": {
          "annotationdefaults": {
           "arrowcolor": "#2a3f5f",
           "arrowhead": 0,
           "arrowwidth": 1
          },
          "autotypenumbers": "strict",
          "coloraxis": {
           "colorbar": {
            "outlinewidth": 0,
            "ticks": ""
           }
          },
          "colorscale": {
           "diverging": [
            [
             0,
             "#8e0152"
            ],
            [
             0.1,
             "#c51b7d"
            ],
            [
             0.2,
             "#de77ae"
            ],
            [
             0.3,
             "#f1b6da"
            ],
            [
             0.4,
             "#fde0ef"
            ],
            [
             0.5,
             "#f7f7f7"
            ],
            [
             0.6,
             "#e6f5d0"
            ],
            [
             0.7,
             "#b8e186"
            ],
            [
             0.8,
             "#7fbc41"
            ],
            [
             0.9,
             "#4d9221"
            ],
            [
             1,
             "#276419"
            ]
           ],
           "sequential": [
            [
             0,
             "#0d0887"
            ],
            [
             0.1111111111111111,
             "#46039f"
            ],
            [
             0.2222222222222222,
             "#7201a8"
            ],
            [
             0.3333333333333333,
             "#9c179e"
            ],
            [
             0.4444444444444444,
             "#bd3786"
            ],
            [
             0.5555555555555556,
             "#d8576b"
            ],
            [
             0.6666666666666666,
             "#ed7953"
            ],
            [
             0.7777777777777778,
             "#fb9f3a"
            ],
            [
             0.8888888888888888,
             "#fdca26"
            ],
            [
             1,
             "#f0f921"
            ]
           ],
           "sequentialminus": [
            [
             0,
             "#0d0887"
            ],
            [
             0.1111111111111111,
             "#46039f"
            ],
            [
             0.2222222222222222,
             "#7201a8"
            ],
            [
             0.3333333333333333,
             "#9c179e"
            ],
            [
             0.4444444444444444,
             "#bd3786"
            ],
            [
             0.5555555555555556,
             "#d8576b"
            ],
            [
             0.6666666666666666,
             "#ed7953"
            ],
            [
             0.7777777777777778,
             "#fb9f3a"
            ],
            [
             0.8888888888888888,
             "#fdca26"
            ],
            [
             1,
             "#f0f921"
            ]
           ]
          },
          "colorway": [
           "#636efa",
           "#EF553B",
           "#00cc96",
           "#ab63fa",
           "#FFA15A",
           "#19d3f3",
           "#FF6692",
           "#B6E880",
           "#FF97FF",
           "#FECB52"
          ],
          "font": {
           "color": "#2a3f5f"
          },
          "geo": {
           "bgcolor": "white",
           "lakecolor": "white",
           "landcolor": "#E5ECF6",
           "showlakes": true,
           "showland": true,
           "subunitcolor": "white"
          },
          "hoverlabel": {
           "align": "left"
          },
          "hovermode": "closest",
          "mapbox": {
           "style": "light"
          },
          "paper_bgcolor": "white",
          "plot_bgcolor": "#E5ECF6",
          "polar": {
           "angularaxis": {
            "gridcolor": "white",
            "linecolor": "white",
            "ticks": ""
           },
           "bgcolor": "#E5ECF6",
           "radialaxis": {
            "gridcolor": "white",
            "linecolor": "white",
            "ticks": ""
           }
          },
          "scene": {
           "xaxis": {
            "backgroundcolor": "#E5ECF6",
            "gridcolor": "white",
            "gridwidth": 2,
            "linecolor": "white",
            "showbackground": true,
            "ticks": "",
            "zerolinecolor": "white"
           },
           "yaxis": {
            "backgroundcolor": "#E5ECF6",
            "gridcolor": "white",
            "gridwidth": 2,
            "linecolor": "white",
            "showbackground": true,
            "ticks": "",
            "zerolinecolor": "white"
           },
           "zaxis": {
            "backgroundcolor": "#E5ECF6",
            "gridcolor": "white",
            "gridwidth": 2,
            "linecolor": "white",
            "showbackground": true,
            "ticks": "",
            "zerolinecolor": "white"
           }
          },
          "shapedefaults": {
           "line": {
            "color": "#2a3f5f"
           }
          },
          "ternary": {
           "aaxis": {
            "gridcolor": "white",
            "linecolor": "white",
            "ticks": ""
           },
           "baxis": {
            "gridcolor": "white",
            "linecolor": "white",
            "ticks": ""
           },
           "bgcolor": "#E5ECF6",
           "caxis": {
            "gridcolor": "white",
            "linecolor": "white",
            "ticks": ""
           }
          },
          "title": {
           "x": 0.05
          },
          "xaxis": {
           "automargin": true,
           "gridcolor": "white",
           "linecolor": "white",
           "ticks": "",
           "title": {
            "standoff": 15
           },
           "zerolinecolor": "white",
           "zerolinewidth": 2
          },
          "yaxis": {
           "automargin": true,
           "gridcolor": "white",
           "linecolor": "white",
           "ticks": "",
           "title": {
            "standoff": 15
           },
           "zerolinecolor": "white",
           "zerolinewidth": 2
          }
         }
        },
        "xaxis": {
         "anchor": "y",
         "domain": [
          0,
          1
         ],
         "title": {
          "text": "0"
         }
        },
        "yaxis": {
         "anchor": "x",
         "domain": [
          0,
          1
         ],
         "title": {
          "text": "1"
         }
        }
       }
      },
      "text/html": [
       "<div>                            <div id=\"2b197e05-c095-48aa-9a2d-09b2caabbe67\" class=\"plotly-graph-div\" style=\"height:525px; width:100%;\"></div>            <script type=\"text/javascript\">                require([\"plotly\"], function(Plotly) {                    window.PLOTLYENV=window.PLOTLYENV || {};                                    if (document.getElementById(\"2b197e05-c095-48aa-9a2d-09b2caabbe67\")) {                    Plotly.newPlot(                        \"2b197e05-c095-48aa-9a2d-09b2caabbe67\",                        [{\"customdata\":[[\"citoyennete\"],[\"citoyennete\"],[\"citoyennete\"],[\"citoyennete\"],[\"citoyennete\"],[\"social\"],[\"citoyennete\"],[\"citoyennete\"],[\"citoyennete\"],[\"citoyennete\"],[\"citoyennete\"],[\"citoyennete\"],[\"citoyennete\"],[\"citoyennete\"],[\"citoyennete\"],[\"citoyennete\"],[\"citoyennete\"],[\"citoyennete\"],[\"citoyennete\"],[\"citoyennete\"],[\"citoyennete\"],[\"citoyennete\"],[\"citoyennete\"],[\"citoyennete\"],[\"citoyennete\"],[\"citoyennete\"],[\"citoyennete\"],[\"citoyennete\"],[\"citoyennete\"],[\"citoyennete\"],[\"citoyennete\"],[\"citoyennete\"],[\"discrimination\"],[\"citoyennete\"],[\"citoyennete\"],[\"citoyennete\"],[\"citoyennete\"],[\"citoyennete\"],[\"citoyennete\"],[\"citoyennete\"],[\"citoyennete\"],[\"citoyennete\"],[\"citoyennete\"],[\"citoyennete\"],[\"citoyennete\"],[\"citoyennete\"]],\"hovertemplate\":\"cluster_label=7<br>0=%{x}<br>1=%{y}<br>topic_name=%{customdata[0]}<extra></extra>\",\"legendgroup\":\"7\",\"marker\":{\"color\":\"#FD3216\",\"symbol\":\"circle\"},\"mode\":\"markers\",\"name\":\"7\",\"showlegend\":true,\"type\":\"scattergl\",\"x\":[8.151793479919434,8.04996109008789,8.0618314743042,7.906888961791992,7.952371120452881,8.013497352600098,8.91262149810791,8.701518058776855,8.716135025024414,9.081538200378418,8.932520866394043,8.82481575012207,8.816625595092773,8.597710609436035,8.887965202331543,8.776327133178711,8.67109489440918,8.611703872680664,8.509586334228516,9.372039794921875,9.265316009521484,8.413484573364258,7.893679618835449,8.54348087310791,9.188298225402832,7.997786998748779,8.06480598449707,8.16984748840332,7.8720526695251465,7.9056477546691895,7.793216705322266,8.006155014038086,8.01376724243164,7.943228244781494,8.051962852478027,8.191089630126953,8.020140647888184,8.249756813049316,8.173470497131348,8.259148597717285,8.217702865600586,7.912448883056641,8.245643615722656,7.989555358886719,7.927748680114746,7.910377025604248],\"xaxis\":\"x\",\"y\":[4.497936725616455,4.450077533721924,4.5966339111328125,4.471343517303467,5.144280433654785,5.094388008117676,3.9451076984405518,3.949324131011963,4.0043511390686035,3.8640317916870117,4.043670654296875,4.125659942626953,4.153120517730713,4.067629337310791,4.113953590393066,4.150389671325684,4.27609920501709,4.094688892364502,4.025670051574707,4.1182122230529785,4.001659870147705,4.0191802978515625,4.980296611785889,4.062341213226318,3.945974349975586,4.384531021118164,4.760521411895752,3.981229543685913,4.392330169677734,4.0756144523620605,4.915268421173096,4.2970781326293945,4.5623955726623535,4.300505638122559,4.33783483505249,4.736603736877441,4.885361194610596,4.6618194580078125,4.433027267456055,4.855652809143066,4.50933837890625,4.199944972991943,4.474969863891602,4.6284990310668945,4.260647296905518,4.1384100914001465],\"yaxis\":\"y\"},{\"customdata\":[[\"fiscal\"],[\"fiscal\"],[\"fiscal\"],[\"fiscal\"],[\"fiscal\"],[\"emploi\"],[\"fiscal\"],[\"fiscal\"],[\"fiscal\"],[\"fiscal\"],[\"fiscal\"],[\"fiscal\"],[\"fiscal\"],[\"fiscal\"],[\"fiscal\"],[\"fiscal\"],[\"fiscal\"],[\"fiscal\"],[\"fiscal\"],[\"fiscal\"],[\"fiscal\"],[\"fiscal\"],[\"fiscal\"],[\"fiscal\"],[\"fiscal\"],[\"emploi\"],[\"fiscal\"],[\"fiscal\"],[\"fiscal\"],[\"fiscal\"],[\"fiscal\"],[\"fiscal\"],[\"fiscal\"],[\"fiscal\"],[\"fiscal\"],[\"europeen\"],[\"fiscal\"],[\"fiscal\"],[\"fiscal\"],[\"fiscal\"],[\"emploi\"],[\"fiscal\"],[\"fiscal\"],[\"fiscal\"],[\"fiscal\"],[\"fiscal\"],[\"fiscal\"],[\"fiscal\"],[\"fiscal\"],[\"fiscal\"]],\"hovertemplate\":\"cluster_label=18<br>0=%{x}<br>1=%{y}<br>topic_name=%{customdata[0]}<extra></extra>\",\"legendgroup\":\"18\",\"marker\":{\"color\":\"#00FE35\",\"symbol\":\"circle\"},\"mode\":\"markers\",\"name\":\"18\",\"showlegend\":true,\"type\":\"scattergl\",\"x\":[6.383235931396484,6.180448532104492,6.265092372894287,6.365176677703857,5.878997802734375,5.650201320648193,5.981733798980713,5.521338939666748,5.818974494934082,6.235665798187256,6.151336669921875,6.250068664550781,6.326099872589111,6.350709438323975,6.325880527496338,6.259701728820801,6.2563066482543945,6.244716644287109,6.290655612945557,5.9111223220825195,5.883116722106934,5.954251289367676,5.652789115905762,5.823102951049805,5.627557754516602,5.321871280670166,6.125227928161621,6.1740217208862305,6.309925079345703,6.270094394683838,5.402255058288574,6.252797603607178,5.846022129058838,6.017107963562012,5.426473617553711,5.503620147705078,6.311837196350098,5.73074197769165,6.238466262817383,5.466122627258301,5.603526592254639,5.185323715209961,5.584779262542725,6.713635444641113,6.282306671142578,6.025411128997803,6.333041191101074,6.355465412139893,6.416858196258545,6.257410049438477],\"xaxis\":\"x\",\"y\":[5.849808216094971,5.538475036621094,5.690207004547119,5.903425216674805,5.538245677947998,6.107603549957275,5.577678203582764,5.723703861236572,5.304988861083984,5.436655521392822,5.697887897491455,5.736592769622803,5.716776371002197,5.789439678192139,5.750245571136475,5.478233814239502,5.6430487632751465,5.727603912353516,5.864896297454834,5.451151371002197,5.485366344451904,5.619783878326416,6.061532974243164,5.653801441192627,5.65410852432251,5.6829118728637695,5.439957141876221,5.7300920486450195,5.440232753753662,5.72972297668457,5.304247856140137,5.803260326385498,5.557966709136963,5.581221103668213,5.255692958831787,4.832940101623535,5.802076816558838,5.086288928985596,5.655339241027832,5.437702655792236,5.974810600280762,5.5302581787109375,5.380245685577393,5.9196624755859375,5.789958953857422,5.633249282836914,5.792262554168701,5.813872814178467,5.678451061248779,5.721583366394043],\"yaxis\":\"y\"},{\"customdata\":[[\"emploi\"],[\"emploi\"],[\"emploi\"],[\"emploi\"],[\"emploi\"],[\"emploi\"],[\"emploi\"],[\"emploi\"],[\"emploi\"],[\"emploi\"],[\"emploi\"],[\"emploi\"],[\"emploi\"],[\"emploi\"],[\"emploi\"],[\"emploi\"],[\"fiscal\"],[\"emploi\"],[\"emploi\"],[\"emploi\"],[\"emploi\"],[\"emploi\"],[\"emploi\"],[\"emploi\"],[\"emploi\"],[\"emploi\"],[\"emploi\"],[\"emploi\"],[\"emploi\"],[\"emploi\"],[\"emploi\"],[\"emploi\"],[\"emploi\"],[\"emploi\"],[\"emploi\"],[\"emploi\"],[\"emploi\"],[\"emploi\"],[\"emploi\"],[\"emploi\"],[\"emploi\"],[\"emploi\"],[\"emploi\"],[\"emploi\"],[\"emploi\"],[\"emploi\"],[\"emploi\"],[\"emploi\"],[\"emploi\"],[\"emploi\"],[\"emploi\"],[\"emploi\"],[\"emploi\"],[\"emploi\"],[\"emploi\"],[\"emploi\"],[\"emploi\"],[\"emploi\"],[\"emploi\"],[\"emploi\"],[\"emploi\"],[\"emploi\"],[\"emploi\"],[\"emploi\"],[\"emploi\"],[\"emploi\"],[\"emploi\"],[\"social\"],[\"emploi\"],[\"emploi\"],[\"emploi\"],[\"emploi\"],[\"emploi\"],[\"emploi\"],[\"emploi\"],[\"emploi\"],[\"emploi\"],[\"emploi\"],[\"emploi\"],[\"emploi\"],[\"emploi\"],[\"emploi\"],[\"emploi\"],[\"emploi\"],[\"emploi\"],[\"emploi\"],[\"emploi\"],[\"emploi\"],[\"emploi\"],[\"emploi\"],[\"emploi\"],[\"emploi\"],[\"discrimination\"],[\"emploi\"],[\"emploi\"],[\"emploi\"],[\"emploi\"]],\"hovertemplate\":\"cluster_label=17<br>0=%{x}<br>1=%{y}<br>topic_name=%{customdata[0]}<extra></extra>\",\"legendgroup\":\"17\",\"marker\":{\"color\":\"#6A76FC\",\"symbol\":\"circle\"},\"mode\":\"markers\",\"name\":\"17\",\"showlegend\":true,\"type\":\"scattergl\",\"x\":[6.304250717163086,6.372367858886719,6.3206939697265625,6.604902744293213,6.8577880859375,5.841412544250488,5.974585056304932,6.560455322265625,6.134737968444824,5.933871746063232,6.187088489532471,6.2571868896484375,6.065464019775391,6.8826141357421875,6.560000419616699,6.053703784942627,7.303760051727295,6.274887561798096,6.262834548950195,6.224274158477783,6.317799091339111,6.5856218338012695,5.9799041748046875,6.154603481292725,5.93752384185791,6.149160861968994,6.212522029876709,6.167181968688965,6.299973964691162,6.3391523361206055,6.245961666107178,7.177196979522705,6.916584014892578,6.539063453674316,6.054800033569336,6.2691216468811035,7.2112956047058105,6.441394805908203,6.640719413757324,6.21541166305542,6.083262920379639,6.325669765472412,6.057455062866211,6.417850494384766,6.442661285400391,6.305828094482422,6.2735114097595215,7.279970169067383,6.988791465759277,7.017786979675293,6.89669132232666,7.416991233825684,6.582037925720215,6.528179168701172,6.331668376922607,6.407217502593994,6.460241794586182,6.4220428466796875,6.65381383895874,6.422798156738281,6.486024856567383,6.569478988647461,6.390050411224365,6.644627571105957,7.334778785705566,6.581448078155518,6.441267490386963,7.2794575691223145,7.078211784362793,6.942726135253906,7.073184490203857,7.139858245849609,6.518298625946045,6.48006534576416,6.4825263023376465,6.649520397186279,6.523651123046875,6.499660968780518,6.957170486450195,6.524328708648682,6.4829020500183105,7.159039497375488,6.328037738800049,6.461955547332764,6.463802814483643,6.7326250076293945,6.363180160522461,6.961613655090332,7.489007472991943,6.449739456176758,5.853941440582275,6.421530246734619,7.276170253753662,6.849458694458008,6.349503993988037,6.721546173095703,6.895015239715576],\"xaxis\":\"x\",\"y\":[7.085636615753174,7.556538105010986,7.444118022918701,7.247718811035156,6.961400985717773,6.629576206207275,7.408680438995361,7.485451698303223,7.253633975982666,7.402100086212158,7.578383922576904,7.5941057205200195,7.6675848960876465,6.9598236083984375,6.761830806732178,7.530706405639648,6.29193639755249,6.857133388519287,7.234532833099365,7.271559715270996,7.109170436859131,7.222826957702637,7.457930564880371,7.319130897521973,7.375481128692627,7.5778117179870605,7.650552272796631,7.640754222869873,7.0926995277404785,7.069136619567871,7.094645023345947,6.490055561065674,6.978865623474121,6.747107982635498,7.517882823944092,7.1101202964782715,6.973288536071777,7.72036075592041,7.026784420013428,7.184549808502197,7.157520294189453,6.970718860626221,6.997589588165283,7.8011322021484375,7.201533317565918,6.886787414550781,7.469751834869385,6.6185479164123535,7.024381160736084,7.536871910095215,7.448685169219971,6.846950054168701,7.696691036224365,7.877138614654541,7.237977027893066,7.539041519165039,7.112823486328125,7.872960090637207,7.1230597496032715,7.360021591186523,7.507444381713867,7.202150821685791,7.518208026885986,6.905854225158691,6.5437726974487305,7.325433731079102,7.388838291168213,6.55473518371582,6.953255653381348,7.2155022621154785,6.982769012451172,6.96075963973999,7.736070156097412,7.768219947814941,7.1247477531433105,7.221803665161133,7.892261981964111,7.82928991317749,7.075392246246338,7.574798583984375,7.713128566741943,6.603986740112305,7.262665271759033,7.85113000869751,7.7007951736450195,7.550625801086426,7.1504998207092285,7.065084457397461,6.704122066497803,7.194812297821045,7.141223907470703,7.719610691070557,6.238053321838379,7.3628034591674805,7.370506763458252,6.701468467712402,7.075215816497803],\"yaxis\":\"y\"},{\"customdata\":[[\"judiciaire\"],[\"judiciaire\"],[\"judiciaire\"],[\"judiciaire\"],[\"judiciaire\"],[\"judiciaire\"],[\"judiciaire\"],[\"judiciaire\"],[\"judiciaire\"],[\"judiciaire\"],[\"judiciaire\"],[\"judiciaire\"],[\"judiciaire\"],[\"judiciaire\"],[\"judiciaire\"],[\"judiciaire\"],[\"judiciaire\"],[\"judiciaire\"],[\"judiciaire\"],[\"judiciaire\"],[\"judiciaire\"],[\"judiciaire\"],[\"judiciaire\"],[\"judiciaire\"],[\"judiciaire\"],[\"judiciaire\"],[\"judiciaire\"],[\"judiciaire\"],[\"judiciaire\"],[\"judiciaire\"],[\"judiciaire\"],[\"judiciaire\"],[\"judiciaire\"],[\"judiciaire\"],[\"judiciaire\"],[\"judiciaire\"],[\"judiciaire\"],[\"judiciaire\"],[\"judiciaire\"],[\"judiciaire\"],[\"judiciaire\"],[\"judiciaire\"],[\"judiciaire\"],[\"agriculture\"],[\"judiciaire\"],[\"judiciaire\"],[\"judiciaire\"],[\"judiciaire\"],[\"judiciaire\"],[\"judiciaire\"],[\"judiciaire\"],[\"judiciaire\"],[\"judiciaire\"],[\"judiciaire\"],[\"judiciaire\"],[\"judiciaire\"],[\"judiciaire\"],[\"judiciaire\"],[\"judiciaire\"],[\"judiciaire\"],[\"judiciaire\"],[\"judiciaire\"],[\"judiciaire\"],[\"judiciaire\"],[\"judiciaire\"],[\"judiciaire\"],[\"judiciaire\"],[\"judiciaire\"],[\"judiciaire\"],[\"judiciaire\"],[\"judiciaire\"],[\"judiciaire\"],[\"militaire\"],[\"judiciaire\"]],\"hovertemplate\":\"cluster_label=3<br>0=%{x}<br>1=%{y}<br>topic_name=%{customdata[0]}<extra></extra>\",\"legendgroup\":\"3\",\"marker\":{\"color\":\"#FED4C4\",\"symbol\":\"circle\"},\"mode\":\"markers\",\"name\":\"3\",\"showlegend\":true,\"type\":\"scattergl\",\"x\":[9.314896583557129,9.41546630859375,9.534037590026855,9.07889175415039,9.201504707336426,9.400753021240234,8.469271659851074,9.33641529083252,9.472976684570312,8.486032485961914,8.432268142700195,8.913761138916016,9.223745346069336,8.707303047180176,9.186493873596191,9.111654281616211,8.967669486999512,9.382181167602539,9.390100479125977,9.401666641235352,9.3900728225708,9.27700138092041,8.499259948730469,8.682893753051758,8.586838722229004,8.70345401763916,9.264636039733887,9.290274620056152,9.417081832885742,8.37710189819336,8.626567840576172,9.323381423950195,8.472733497619629,9.024603843688965,9.121675491333008,9.03258991241455,8.963695526123047,8.5873384475708,8.906261444091797,9.084283828735352,8.304622650146484,8.312823295593262,8.85924243927002,9.105286598205566,9.439408302307129,9.34801197052002,9.497121810913086,8.500279426574707,8.429651260375977,9.288610458374023,8.793137550354004,8.43825626373291,8.543136596679688,8.50487232208252,8.728899955749512,8.563799858093262,9.512189865112305,9.046587944030762,8.287765502929688,8.427484512329102,9.413375854492188,9.312955856323242,9.114714622497559,9.237601280212402,8.576615333557129,8.600822448730469,8.604751586914062,8.87679672241211,9.06367015838623,9.122334480285645,9.3589506149292,9.113302230834961,8.930350303649902,9.302743911743164],\"xaxis\":\"x\",\"y\":[2.4938201904296875,2.3934686183929443,2.38840389251709,2.4855570793151855,2.134296417236328,2.276160955429077,1.662785291671753,2.3965957164764404,2.346775770187378,1.7121130228042603,1.6511791944503784,1.777169942855835,2.0216073989868164,1.9119231700897217,2.280395746231079,2.537888288497925,2.5311732292175293,2.036168336868286,2.041327953338623,2.0198278427124023,2.0955147743225098,1.9343236684799194,1.8787864446640015,1.755914330482483,1.770843744277954,1.8544367551803589,1.9964276552200317,1.9905651807785034,2.144818067550659,1.691070556640625,1.73078191280365,2.048311471939087,1.883017897605896,2.0572659969329834,2.433382034301758,2.536795139312744,2.6262123584747314,1.9887703657150269,2.0310823917388916,2.2539215087890625,1.7570562362670898,1.738609790802002,1.917600154876709,2.2454349994659424,2.359675168991089,2.3844871520996094,2.3499529361724854,1.6672122478485107,1.7667702436447144,1.961065411567688,1.8530186414718628,1.70368492603302,1.802868127822876,1.70768404006958,2.7643449306488037,1.6957526206970215,2.223102331161499,2.557462453842163,2.134100914001465,1.706871509552002,2.36468243598938,2.109907865524292,2.1380503177642822,2.2606916427612305,1.7704532146453857,1.8111786842346191,1.793259620666504,2.629565715789795,2.479275703430176,2.467346668243408,2.335815906524658,2.1961452960968018,2.770122766494751,2.2719693183898926],\"yaxis\":\"y\"},{\"customdata\":[[\"energie\"],[\"energie\"],[\"energie\"],[\"energie\"],[\"energie\"],[\"energie\"],[\"energie\"],[\"energie\"],[\"energie\"],[\"energie\"],[\"energie\"],[\"energie\"],[\"energie\"],[\"energie\"],[\"energie\"],[\"energie\"],[\"energie\"],[\"energie\"],[\"energie\"],[\"energie\"],[\"energie\"],[\"energie\"],[\"energie\"],[\"energie\"],[\"energie\"],[\"energie\"],[\"energie\"],[\"energie\"],[\"energie\"],[\"public\"],[\"energie\"],[\"energie\"],[\"energie\"],[\"energie\"],[\"energie\"],[\"energie\"],[\"energie\"],[\"energie\"],[\"energie\"],[\"energie\"],[\"energie\"],[\"energie\"],[\"energie\"],[\"energie\"],[\"energie\"],[\"energie\"],[\"energie\"]],\"hovertemplate\":\"cluster_label=16<br>0=%{x}<br>1=%{y}<br>topic_name=%{customdata[0]}<extra></extra>\",\"legendgroup\":\"16\",\"marker\":{\"color\":\"#FE00CE\",\"symbol\":\"circle\"},\"mode\":\"markers\",\"name\":\"16\",\"showlegend\":true,\"type\":\"scattergl\",\"x\":[1.9966233968734741,2.0178844928741455,1.5866684913635254,2.1278064250946045,1.998500108718872,2.2330944538116455,1.9736168384552002,2.0007266998291016,2.001300811767578,2.0520882606506348,2.1328420639038086,2.003648519515991,1.9473249912261963,1.888427734375,1.8407279253005981,2.487196683883667,2.048985481262207,2.059008836746216,1.9224835634231567,2.405264377593994,2.062429189682007,2.0455641746520996,1.8372724056243896,1.9638659954071045,1.9473615884780884,1.6322507858276367,2.376753568649292,2.098281145095825,1.8431538343429565,1.8582981824874878,2.4037466049194336,1.8918778896331787,1.790414571762085,2.0396599769592285,1.9373424053192139,1.871944546699524,2.3888025283813477,2.1209590435028076,1.9966022968292236,1.6377633810043335,2.0265145301818848,1.9715502262115479,2.1100494861602783,2.0592429637908936,1.8126202821731567,2.4539685249328613,2.4303712844848633],\"xaxis\":\"x\",\"y\":[3.9468235969543457,3.8487861156463623,4.520873069763184,4.711505889892578,3.6779630184173584,3.8270413875579834,3.817685842514038,3.653294563293457,3.9184577465057373,3.578394889831543,3.803290367126465,3.6692676544189453,3.966475009918213,3.9618396759033203,3.9740941524505615,4.245352268218994,4.162611484527588,4.202568531036377,4.044999122619629,4.26857852935791,4.004868984222412,3.6611523628234863,4.153180122375488,4.070939540863037,4.1397576332092285,4.347847938537598,3.8453383445739746,3.7606232166290283,4.558213710784912,4.622378826141357,4.08916711807251,4.01133394241333,4.048880577087402,3.6902060508728027,4.040839195251465,3.960512638092041,4.5333099365234375,4.077601432800293,4.048026084899902,4.5440802574157715,3.6056811809539795,4.031407356262207,4.171260356903076,3.743134021759033,4.170999526977539,4.044712066650391,4.060941219329834],\"yaxis\":\"y\"},{\"customdata\":[[\"parlement\"],[\"parlement\"],[\"parlement\"],[\"parlement\"],[\"parlement\"],[\"parlement\"],[\"parlement\"],[\"parlement\"],[\"parlement\"],[\"parlement\"],[\"parlement\"],[\"parlement\"],[\"parlement\"],[\"parlement\"],[\"parlement\"],[\"parlement\"],[\"parlement\"],[\"parlement\"],[\"parlement\"],[\"parlement\"],[\"parlement\"],[\"parlement\"],[\"parlement\"],[\"parlement\"],[\"parlement\"],[\"parlement\"],[\"parlement\"],[\"parlement\"],[\"parlement\"],[\"parlement\"],[\"parlement\"],[\"parlement\"],[\"parlement\"],[\"parlement\"],[\"parlement\"],[\"parlement\"],[\"parlement\"],[\"parlement\"],[\"parlement\"],[\"parlement\"],[\"parlement\"],[\"parlement\"],[\"parlement\"],[\"parlement\"],[\"parlement\"],[\"parlement\"],[\"parlement\"],[\"parlement\"],[\"parlement\"],[\"parlement\"],[\"parlement\"],[\"parlement\"],[\"parlement\"],[\"parlement\"]],\"hovertemplate\":\"cluster_label=11<br>0=%{x}<br>1=%{y}<br>topic_name=%{customdata[0]}<extra></extra>\",\"legendgroup\":\"11\",\"marker\":{\"color\":\"#0DF9FF\",\"symbol\":\"circle\"},\"mode\":\"markers\",\"name\":\"11\",\"showlegend\":true,\"type\":\"scattergl\",\"x\":[7.1901960372924805,7.26473331451416,7.076258659362793,7.1886491775512695,7.039273262023926,7.460936069488525,7.8261003494262695,7.483206272125244,7.589291572570801,7.550899028778076,7.660960674285889,7.88124418258667,6.680204391479492,6.883716583251953,7.1330790519714355,7.4691267013549805,7.486794948577881,7.018395900726318,7.028787136077881,6.741423606872559,7.227465629577637,6.8997039794921875,7.148898601531982,7.032958507537842,7.215801239013672,7.071173667907715,7.062524795532227,6.973340034484863,7.129894256591797,7.290964603424072,6.910421848297119,6.905150890350342,7.007023334503174,7.007059574127197,7.064774990081787,7.115628719329834,7.129814624786377,7.101682186126709,7.4298577308654785,7.086361408233643,7.36208438873291,6.91539192199707,6.981507301330566,7.5459818840026855,7.208105564117432,7.094137668609619,7.086552619934082,7.15741491317749,7.179392337799072,7.272032260894775,7.118144512176514,7.9011945724487305,7.183044910430908,6.921298503875732],\"xaxis\":\"x\",\"y\":[2.6162760257720947,2.2108500003814697,2.3932039737701416,2.3603882789611816,2.3815958499908447,2.7855122089385986,2.718370199203491,2.635715961456299,2.3961267471313477,2.414785861968994,2.6727194786071777,2.8508622646331787,2.562310218811035,2.6350698471069336,2.4911978244781494,2.3561007976531982,2.3805246353149414,3.005438804626465,2.916593074798584,2.773104667663574,2.526779890060425,2.756676435470581,2.319322109222412,2.736741542816162,2.450449228286743,2.5982587337493896,2.8047125339508057,3.0949134826660156,2.4396374225616455,2.282987117767334,2.65187931060791,2.501314878463745,2.4266321659088135,2.856625556945801,2.3364181518554688,2.2887048721313477,2.8520424365997314,2.7315597534179688,2.4225049018859863,2.319976329803467,2.278367519378662,3.053678274154663,2.7958574295043945,2.587656021118164,2.4244680404663086,3.005160331726074,2.700456142425537,2.5320866107940674,2.502182960510254,2.6082305908203125,2.5190699100494385,2.5922884941101074,2.23838210105896,2.6919891834259033],\"yaxis\":\"y\"},{\"customdata\":[[\"regional\"],[\"regional\"],[\"regional\"],[\"regional\"],[\"regional\"],[\"regional\"],[\"regional\"],[\"regional\"],[\"regional\"],[\"regional\"],[\"regional\"],[\"regional\"],[\"regional\"],[\"regional\"],[\"regional\"],[\"regional\"],[\"regional\"],[\"regional\"],[\"regional\"],[\"regional\"]],\"hovertemplate\":\"cluster_label=10<br>0=%{x}<br>1=%{y}<br>topic_name=%{customdata[0]}<extra></extra>\",\"legendgroup\":\"10\",\"marker\":{\"color\":\"#F6F926\",\"symbol\":\"circle\"},\"mode\":\"markers\",\"name\":\"10\",\"showlegend\":true,\"type\":\"scattergl\",\"x\":[6.798958778381348,6.915642738342285,6.873530864715576,6.841412544250488,6.88314151763916,6.649087429046631,6.91536283493042,6.78759765625,6.754891395568848,6.741504669189453,6.760261058807373,6.787936210632324,6.738190174102783,6.87156867980957,6.932863712310791,6.876682758331299,6.693808555603027,6.91382360458374,6.856992721557617,6.879737377166748],\"xaxis\":\"x\",\"y\":[3.635728120803833,3.394538640975952,3.6910879611968994,3.652118682861328,3.5869150161743164,3.859769105911255,3.811596155166626,3.7296624183654785,3.762211561203003,3.7350192070007324,3.7898311614990234,3.7796385288238525,3.8103902339935303,3.21171236038208,3.6339619159698486,3.639113426208496,3.672440767288208,3.5740244388580322,3.656135320663452,3.6370699405670166],\"yaxis\":\"y\"},{\"customdata\":[[\"public\"],[\"public\"],[\"public\"],[\"public\"],[\"public\"],[\"public\"],[\"public\"],[\"public\"],[\"public\"],[\"public\"],[\"public\"],[\"public\"],[\"public\"],[\"public\"],[\"public\"],[\"public\"],[\"public\"],[\"public\"],[\"public\"],[\"regional\"],[\"public\"]],\"hovertemplate\":\"cluster_label=5<br>0=%{x}<br>1=%{y}<br>topic_name=%{customdata[0]}<extra></extra>\",\"legendgroup\":\"5\",\"marker\":{\"color\":\"#FF9616\",\"symbol\":\"circle\"},\"mode\":\"markers\",\"name\":\"5\",\"showlegend\":true,\"type\":\"scattergl\",\"x\":[7.073912620544434,7.124863147735596,7.030696392059326,7.036007881164551,6.998823642730713,6.995437145233154,7.063691139221191,7.065670013427734,7.025674819946289,6.995089530944824,6.749274730682373,7.062314033508301,7.006687641143799,7.076774597167969,7.049218654632568,6.993847370147705,6.753069877624512,7.080233573913574,7.128233909606934,6.780339241027832,7.0291595458984375],\"xaxis\":\"x\",\"y\":[4.7146501541137695,4.792705535888672,4.515868663787842,4.5399489402771,4.8366312980651855,4.686481952667236,4.381306171417236,4.495917320251465,4.759711742401123,4.488455772399902,4.729739665985107,4.720321178436279,4.659897327423096,4.7148637771606445,4.65599250793457,4.659149169921875,4.831478118896484,4.701191425323486,4.728845596313477,4.148403644561768,4.4104437828063965],\"yaxis\":\"y\"},{\"customdata\":[[\"logement\"],[\"logement\"],[\"logement\"],[\"logement\"],[\"logement\"],[\"logement\"],[\"logement\"],[\"logement\"],[\"logement\"],[\"logement\"],[\"logement\"],[\"logement\"],[\"logement\"],[\"logement\"],[\"logement\"],[\"logement\"],[\"logement\"],[\"logement\"],[\"logement\"],[\"logement\"],[\"logement\"],[\"logement\"],[\"logement\"],[\"logement\"],[\"logement\"],[\"logement\"]],\"hovertemplate\":\"cluster_label=0<br>0=%{x}<br>1=%{y}<br>topic_name=%{customdata[0]}<extra></extra>\",\"legendgroup\":\"0\",\"marker\":{\"color\":\"#479B55\",\"symbol\":\"circle\"},\"mode\":\"markers\",\"name\":\"0\",\"showlegend\":true,\"type\":\"scattergl\",\"x\":[7.609043121337891,7.294104099273682,7.224407196044922,7.235465049743652,7.335842609405518,7.371886730194092,7.264286994934082,7.318274974822998,7.385493755340576,7.275740623474121,7.563881874084473,7.399267196655273,7.4726409912109375,7.366994857788086,7.656976222991943,7.36533260345459,7.403225898742676,7.334150791168213,7.340609073638916,7.300991535186768,7.2742228507995605,7.336935520172119,7.313146114349365,7.41188907623291,7.339149475097656,7.406494140625],\"xaxis\":\"x\",\"y\":[8.718300819396973,9.015061378479004,9.031679153442383,8.948787689208984,8.935020446777344,8.902891159057617,9.019786834716797,8.956734657287598,8.927038192749023,8.993233680725098,8.73405933380127,8.893074035644531,8.823758125305176,8.94441032409668,8.56396198272705,8.931865692138672,8.856884956359863,8.925675392150879,8.953486442565918,8.96699047088623,8.872657775878906,8.97970962524414,8.920197486877441,8.968525886535645,8.937705993652344,8.8345308303833],\"yaxis\":\"y\"},{\"customdata\":[[\"scolaire\"],[\"scolaire\"],[\"scolaire\"],[\"scolaire\"],[\"scolaire\"],[\"scolaire\"],[\"scolaire\"],[\"scolaire\"],[\"familial\"],[\"scolaire\"],[\"scolaire\"],[\"scolaire\"],[\"scolaire\"],[\"scolaire\"],[\"scolaire\"],[\"scolaire\"],[\"scolaire\"],[\"scolaire\"],[\"scolaire\"],[\"scolaire\"],[\"scolaire\"],[\"scolaire\"],[\"scolaire\"],[\"citoyennete\"],[\"scolaire\"],[\"scolaire\"],[\"scolaire\"],[\"scolaire\"],[\"scolaire\"],[\"scolaire\"],[\"scolaire\"],[\"scolaire\"],[\"scolaire\"],[\"scolaire\"],[\"scolaire\"],[\"scolaire\"],[\"scolaire\"],[\"scolaire\"],[\"scolaire\"],[\"scolaire\"],[\"scolaire\"],[\"scolaire\"],[\"scolaire\"],[\"scolaire\"],[\"scolaire\"],[\"environnemental\"],[\"scolaire\"],[\"scolaire\"],[\"environnemental\"],[\"scolaire\"],[\"scolaire\"],[\"scolaire\"],[\"scolaire\"],[\"scolaire\"],[\"scolaire\"],[\"scolaire\"],[\"scolaire\"],[\"scolaire\"],[\"scolaire\"],[\"scolaire\"],[\"scolaire\"],[\"scolaire\"],[\"scolaire\"],[\"scolaire\"],[\"scolaire\"],[\"scolaire\"],[\"scolaire\"],[\"scolaire\"],[\"scolaire\"],[\"scolaire\"],[\"scolaire\"],[\"scolaire\"],[\"scolaire\"],[\"culturel\"],[\"scolaire\"],[\"scolaire\"],[\"scolaire\"],[\"scolaire\"],[\"scolaire\"],[\"scolaire\"],[\"scolaire\"],[\"scolaire\"],[\"scolaire\"],[\"scolaire\"],[\"scolaire\"],[\"scolaire\"],[\"scolaire\"],[\"scolaire\"],[\"scolaire\"],[\"scolaire\"],[\"scolaire\"],[\"scolaire\"],[\"scolaire\"],[\"scolaire\"],[\"scolaire\"],[\"scolaire\"],[\"scolaire\"],[\"scolaire\"],[\"scolaire\"],[\"scolaire\"],[\"scolaire\"],[\"scolaire\"],[\"scolaire\"],[\"scolaire\"],[\"scolaire\"],[\"scolaire\"],[\"scolaire\"],[\"scolaire\"],[\"scolaire\"],[\"scolaire\"],[\"scolaire\"],[\"scolaire\"],[\"scolaire\"],[\"scolaire\"],[\"scolaire\"],[\"scolaire\"]],\"hovertemplate\":\"cluster_label=1<br>0=%{x}<br>1=%{y}<br>topic_name=%{customdata[0]}<extra></extra>\",\"legendgroup\":\"1\",\"marker\":{\"color\":\"#EEA6FB\",\"symbol\":\"circle\"},\"mode\":\"markers\",\"name\":\"1\",\"showlegend\":true,\"type\":\"scattergl\",\"x\":[12.096637725830078,11.378874778747559,11.944426536560059,11.810588836669922,11.85376262664795,11.560636520385742,12.245715141296387,12.163411140441895,11.412293434143066,12.06971263885498,11.94433307647705,11.531231880187988,11.905674934387207,11.8610258102417,11.626051902770996,11.398272514343262,12.290006637573242,12.044716835021973,11.6644868850708,11.693923950195312,12.407480239868164,11.423421859741211,11.375676155090332,11.12822437286377,11.604867935180664,11.90772819519043,11.243621826171875,11.918862342834473,11.553431510925293,11.885470390319824,11.786691665649414,11.658857345581055,11.524165153503418,12.280704498291016,11.63090705871582,11.604863166809082,11.71053409576416,11.806600570678711,11.95335578918457,11.470850944519043,11.880230903625488,11.941308975219727,11.639845848083496,12.296480178833008,12.342568397521973,12.1944580078125,12.22474479675293,11.575820922851562,11.9441556930542,11.398879051208496,11.350462913513184,11.545586585998535,12.198803901672363,12.202651977539062,12.31311321258545,12.1336030960083,12.10521411895752,12.136893272399902,11.986295700073242,11.979177474975586,12.186135292053223,12.325529098510742,11.629242897033691,11.543105125427246,11.813283920288086,11.598040580749512,11.527429580688477,11.735504150390625,11.700384140014648,11.623689651489258,11.593484878540039,11.791354179382324,11.672358512878418,11.279876708984375,11.314220428466797,12.254502296447754,12.286649703979492,12.270848274230957,12.135001182556152,11.63178825378418,11.75183391571045,11.41424560546875,12.284527778625488,12.318859100341797,12.109159469604492,11.956830024719238,11.874893188476562,12.262147903442383,12.225502967834473,12.177696228027344,11.748489379882812,11.831074714660645,11.918375968933105,11.915558815002441,12.331363677978516,12.313506126403809,12.213326454162598,12.004866600036621,11.724143981933594,11.711393356323242,11.729254722595215,12.280852317810059,12.279150009155273,11.602964401245117,11.25610065460205,11.903183937072754,11.773157119750977,11.741199493408203,11.301128387451172,11.637459754943848,11.851792335510254,12.314404487609863,12.13915729522705,12.010355949401855,11.511655807495117,11.476317405700684],\"xaxis\":\"x\",\"y\":[2.15128231048584,2.7866010665893555,2.6965677738189697,2.6463418006896973,2.7798237800598145,3.017465353012085,1.8784104585647583,1.356441617012024,2.9941999912261963,2.414848804473877,2.9499855041503906,2.973999500274658,3.1420397758483887,2.7968335151672363,2.952821731567383,2.4999747276306152,1.7850499153137207,2.9656198024749756,3.190858840942383,3.2602431774139404,1.944409728050232,2.967644691467285,2.912646532058716,3.0079400539398193,2.9352715015411377,3.1273460388183594,2.9537487030029297,2.911356210708618,2.9948079586029053,3.0334019660949707,2.8041861057281494,2.9559319019317627,2.588785409927368,1.8291327953338623,3.192385196685791,3.1296908855438232,3.254575490951538,2.85440993309021,2.744683027267456,3.0862083435058594,2.6707451343536377,2.8950960636138916,2.9022128582000732,1.8762571811676025,1.9702531099319458,1.4112000465393066,1.4091086387634277,3.4992024898529053,1.3754463195800781,2.8900363445281982,2.926198959350586,3.241610050201416,1.9734801054000854,1.992583155632019,1.8501765727996826,1.429750919342041,1.909658670425415,1.7186943292617798,2.8421425819396973,2.856926202774048,1.482140302658081,1.7109262943267822,2.903594970703125,2.9816503524780273,3.2107317447662354,3.4818994998931885,3.468234062194824,3.2950079441070557,3.220757246017456,3.4327175617218018,2.9921414852142334,3.0227370262145996,3.069779634475708,2.8571393489837646,2.8797647953033447,1.9564847946166992,1.811424732208252,1.8499622344970703,1.4474482536315918,3.33233380317688,3.064668655395508,3.0013413429260254,1.9032268524169922,1.8062455654144287,1.4530870914459229,2.83923077583313,2.921595335006714,1.6207658052444458,1.4955997467041016,1.4611155986785889,3.179274320602417,3.1236376762390137,2.5875141620635986,2.839433193206787,1.797555685043335,1.7119477987289429,1.4302629232406616,2.284296989440918,2.8858370780944824,2.873502016067505,2.218682050704956,1.7783528566360474,1.8104438781738281,3.481504440307617,2.9401121139526367,2.9361000061035156,2.7669520378112793,3.2659900188446045,3.0106582641601562,3.0837106704711914,2.6125781536102295,1.7528398036956787,1.8306492567062378,2.4806947708129883,2.9544873237609863,2.91896915435791],\"yaxis\":\"y\"},{\"customdata\":[[\"culturel\"],[\"culturel\"],[\"culturel\"],[\"culturel\"],[\"culturel\"],[\"culturel\"],[\"culturel\"],[\"culturel\"],[\"culturel\"],[\"culturel\"],[\"culturel\"],[\"culturel\"],[\"culturel\"],[\"culturel\"],[\"culturel\"],[\"culturel\"],[\"culturel\"],[\"culturel\"],[\"culturel\"],[\"culturel\"],[\"culturel\"],[\"culturel\"],[\"culturel\"],[\"culturel\"],[\"culturel\"],[\"culturel\"],[\"culturel\"],[\"culturel\"],[\"culturel\"],[\"culturel\"],[\"culturel\"],[\"culturel\"],[\"culturel\"],[\"culturel\"],[\"culturel\"],[\"culturel\"],[\"culturel\"],[\"culturel\"],[\"culturel\"],[\"medical\"],[\"culturel\"],[\"culturel\"],[\"culturel\"],[\"culturel\"],[\"culturel\"],[\"culturel\"],[\"culturel\"],[\"culturel\"],[\"culturel\"],[\"culturel\"],[\"culturel\"],[\"culturel\"]],\"hovertemplate\":\"cluster_label=2<br>0=%{x}<br>1=%{y}<br>topic_name=%{customdata[0]}<extra></extra>\",\"legendgroup\":\"2\",\"marker\":{\"color\":\"#DC587D\",\"symbol\":\"circle\"},\"mode\":\"markers\",\"name\":\"2\",\"showlegend\":true,\"type\":\"scattergl\",\"x\":[10.393672943115234,10.226332664489746,11.043092727661133,10.271242141723633,10.154586791992188,10.220710754394531,10.202559471130371,11.010327339172363,9.463847160339355,10.217276573181152,10.24594497680664,10.28766918182373,10.109624862670898,10.192709922790527,10.16006088256836,10.212088584899902,10.175185203552246,10.162532806396484,10.249656677246094,10.218704223632812,10.999493598937988,10.256559371948242,10.266027450561523,10.135540008544922,10.183247566223145,10.023612022399902,9.981142044067383,10.546205520629883,10.094017028808594,10.296743392944336,9.989721298217773,10.19314956665039,10.111123085021973,10.278899192810059,11.040776252746582,10.24212646484375,10.058430671691895,10.067517280578613,11.010466575622559,11.031538963317871,10.060137748718262,9.56352710723877,10.453436851501465,11.025276184082031,11.081050872802734,10.993946075439453,10.027843475341797,9.746038436889648,10.65216064453125,10.773759841918945,11.01102352142334,10.976410865783691],\"xaxis\":\"x\",\"y\":[0.36120522022247314,0.30978575348854065,0.08345363289117813,0.41498929262161255,0.9323279857635498,0.9047006964683533,0.7794032692909241,0.08695482462644577,0.7868282794952393,0.586097776889801,0.4871490001678467,0.4977046251296997,0.6687235832214355,0.7288888096809387,0.7220108509063721,0.6185867190361023,0.39401260018348694,0.9049735069274902,0.8351647257804871,0.7844417691230774,0.0850660502910614,0.27127912640571594,0.2705118656158447,0.32722386717796326,0.2890649735927582,0.4379689693450928,0.3719595968723297,0.28617092967033386,0.42415615916252136,0.23101526498794556,0.5496475696563721,0.2795335650444031,0.3791757822036743,0.27575981616973877,0.08151330053806305,0.34946414828300476,0.4681868851184845,0.46701622009277344,0.1226101964712143,0.07750175893306732,0.4103837311267853,0.6800016760826111,0.2692424952983856,0.08122731000185013,0.024256529286503792,0.08892209082841873,0.4399980902671814,0.548424243927002,0.21540477871894836,0.18928271532058716,0.07880157977342606,0.13797403872013092],\"yaxis\":\"y\"},{\"customdata\":[[\"social\"],[\"social\"],[\"social\"],[\"social\"],[\"social\"],[\"social\"],[\"social\"],[\"citoyennete\"],[\"social\"],[\"social\"],[\"social\"],[\"social\"],[\"social\"],[\"social\"],[\"social\"],[\"social\"],[\"social\"],[\"social\"],[\"social\"]],\"hovertemplate\":\"cluster_label=8<br>0=%{x}<br>1=%{y}<br>topic_name=%{customdata[0]}<extra></extra>\",\"legendgroup\":\"8\",\"marker\":{\"color\":\"#D626FF\",\"symbol\":\"circle\"},\"mode\":\"markers\",\"name\":\"8\",\"showlegend\":true,\"type\":\"scattergl\",\"x\":[8.149456977844238,7.958724021911621,7.962220668792725,7.864326000213623,7.927637577056885,7.886861801147461,8.044172286987305,7.832490921020508,7.815556526184082,7.778463840484619,7.806680679321289,8.293013572692871,7.743584632873535,7.822862148284912,7.985710144042969,8.139138221740723,7.512979030609131,7.538695812225342,7.762332439422607],\"xaxis\":\"x\",\"y\":[6.068656921386719,5.972250938415527,5.858627796173096,6.039283752441406,5.945010662078857,6.052537441253662,5.830697059631348,5.509251117706299,5.393265247344971,6.078598499298096,5.5713114738464355,6.083099842071533,5.740903854370117,5.661418914794922,5.805202960968018,5.712886333465576,5.645305633544922,6.071817874908447,5.6765336990356445],\"yaxis\":\"y\"},{\"customdata\":[[\"agriculture\"],[\"agriculture\"],[\"agriculture\"],[\"agriculture\"],[\"agriculture\"],[\"maritime\"],[\"agriculture\"],[\"agriculture\"],[\"agriculture\"],[\"agriculture\"],[\"agriculture\"],[\"agriculture\"],[\"agriculture\"],[\"agriculture\"],[\"agriculture\"],[\"agriculture\"],[\"environnemental\"],[\"agriculture\"],[\"agriculture\"],[\"agriculture\"],[\"agriculture\"],[\"agriculture\"],[\"agriculture\"],[\"agriculture\"],[\"agriculture\"],[\"agriculture\"],[\"agriculture\"],[\"agriculture\"],[\"agriculture\"],[\"agriculture\"],[\"agriculture\"],[\"agriculture\"],[\"agriculture\"],[\"agriculture\"],[\"agriculture\"],[\"agriculture\"],[\"agriculture\"],[\"agriculture\"],[\"agriculture\"],[\"agriculture\"],[\"agriculture\"],[\"agriculture\"],[\"agriculture\"],[\"agriculture\"],[\"agriculture\"],[\"agriculture\"],[\"agriculture\"],[\"agriculture\"],[\"regional\"],[\"agriculture\"],[\"agriculture\"],[\"agriculture\"],[\"agriculture\"],[\"agriculture\"],[\"agriculture\"],[\"agriculture\"],[\"agriculture\"],[\"agriculture\"],[\"agriculture\"],[\"agriculture\"],[\"agriculture\"],[\"agriculture\"],[\"agriculture\"],[\"agriculture\"],[\"agriculture\"],[\"environnemental\"],[\"agriculture\"],[\"agriculture\"],[\"agriculture\"],[\"agriculture\"],[\"agriculture\"],[\"agriculture\"],[\"agriculture\"],[\"agriculture\"],[\"energie\"],[\"agriculture\"],[\"agriculture\"],[\"agriculture\"],[\"regional\"],[\"agriculture\"],[\"agriculture\"],[\"energie\"],[\"agriculture\"],[\"agriculture\"],[\"agriculture\"],[\"agriculture\"],[\"agriculture\"],[\"agriculture\"],[\"agriculture\"]],\"hovertemplate\":\"cluster_label=14<br>0=%{x}<br>1=%{y}<br>topic_name=%{customdata[0]}<extra></extra>\",\"legendgroup\":\"14\",\"marker\":{\"color\":\"#6E899C\",\"symbol\":\"circle\"},\"mode\":\"markers\",\"name\":\"14\",\"showlegend\":true,\"type\":\"scattergl\",\"x\":[3.1620216369628906,2.453765392303467,2.303046464920044,1.8736990690231323,3.0914297103881836,2.7608983516693115,2.074124574661255,1.7708725929260254,2.3555030822753906,2.428910732269287,2.042895555496216,2.0304856300354004,2.9691872596740723,2.446336030960083,1.8352994918823242,1.8239223957061768,1.8421107530593872,2.6165504455566406,2.8348681926727295,2.7297816276550293,1.8111284971237183,1.767909049987793,2.005326747894287,2.2041940689086914,2.566209077835083,2.482583999633789,2.461466073989868,2.4562041759490967,2.1718015670776367,2.365831136703491,2.1931045055389404,1.904239296913147,2.1448423862457275,2.0572376251220703,2.750075101852417,1.811306118965149,1.9150718450546265,2.2300426959991455,2.093937635421753,2.3737294673919678,2.4314348697662354,1.8595203161239624,2.2179410457611084,1.9325648546218872,1.9420239925384521,2.4678308963775635,2.949314832687378,2.6016299724578857,3.115359306335449,2.799025058746338,2.2886838912963867,2.456855535507202,2.4259932041168213,2.4028615951538086,1.8030011653900146,2.3739545345306396,2.376831531524658,1.9332242012023926,2.2284066677093506,2.321314573287964,2.51324462890625,2.472790002822876,2.452247142791748,1.9443862438201904,1.891830563545227,2.57320499420166,2.2253024578094482,2.268932342529297,2.5394809246063232,2.2431867122650146,2.2742581367492676,2.9275243282318115,2.5523581504821777,2.7868683338165283,2.483290195465088,2.4503915309906006,2.3798208236694336,2.54911732673645,3.2757015228271484,1.9070374965667725,2.5574557781219482,2.2109036445617676,1.8591893911361694,2.671858787536621,2.6964168548583984,3.0706706047058105,3.266946315765381,2.518364906311035,2.4409592151641846],\"xaxis\":\"x\",\"y\":[6.0909624099731445,6.332152366638184,6.17949914932251,5.992878437042236,6.003632068634033,5.203780174255371,5.5392165184021,5.846473217010498,6.333945274353027,6.4000020027160645,6.1446757316589355,6.175050258636475,6.103335380554199,5.326686859130859,6.075755596160889,5.998218536376953,5.745837211608887,5.3163161277771,5.461726188659668,5.185111999511719,5.7799882888793945,5.922607421875,6.390273094177246,6.279919624328613,6.278550148010254,6.405792236328125,6.369018077850342,6.404941558837891,6.372398853302002,6.217503547668457,6.427698612213135,6.286777973175049,6.429345607757568,6.29586935043335,6.22260856628418,6.144838333129883,6.152308464050293,6.2321977615356445,6.210588455200195,6.39315128326416,6.420679092407227,6.090487003326416,6.246177673339844,6.114397048950195,6.06257438659668,6.069531440734863,6.057868480682373,5.108053207397461,5.777635097503662,5.449347019195557,6.253575325012207,5.848916053771973,6.107147693634033,6.108987331390381,5.844399929046631,6.040096759796143,6.105063438415527,5.861021995544434,6.118721008300781,6.111683368682861,5.926015377044678,6.0701518058776855,6.063448905944824,5.713442325592041,5.7443156242370605,5.016243934631348,5.887400150299072,6.194713115692139,6.003407001495361,5.7901434898376465,5.967795372009277,5.968863487243652,5.352787494659424,5.565764904022217,4.90407133102417,5.984267711639404,6.149069786071777,5.667240619659424,6.072434425354004,5.980106353759766,5.669227123260498,5.503037929534912,5.8469014167785645,6.0432820320129395,5.105329990386963,5.7163405418396,6.054163932800293,5.420586109161377,5.332715034484863],\"yaxis\":\"y\"},{\"customdata\":[[\"europeen\"],[\"europeen\"],[\"europeen\"],[\"europeen\"],[\"europeen\"],[\"europeen\"],[\"europeen\"],[\"europeen\"],[\"europeen\"],[\"europeen\"],[\"europeen\"],[\"europeen\"],[\"europeen\"],[\"europeen\"],[\"europeen\"],[\"europeen\"],[\"europeen\"],[\"europeen\"],[\"europeen\"],[\"europeen\"],[\"europeen\"],[\"europeen\"],[\"europeen\"],[\"europeen\"],[\"europeen\"],[\"europeen\"],[\"europeen\"],[\"europeen\"],[\"europeen\"],[\"europeen\"],[\"europeen\"],[\"europeen\"],[\"europeen\"],[\"europeen\"],[\"europeen\"],[\"europeen\"]],\"hovertemplate\":\"cluster_label=20<br>0=%{x}<br>1=%{y}<br>topic_name=%{customdata[0]}<extra></extra>\",\"legendgroup\":\"20\",\"marker\":{\"color\":\"#00B5F7\",\"symbol\":\"circle\"},\"mode\":\"markers\",\"name\":\"20\",\"showlegend\":true,\"type\":\"scattergl\",\"x\":[5.752514839172363,5.336710453033447,5.517147064208984,5.238326072692871,5.881747722625732,5.4843549728393555,5.336637020111084,5.747872352600098,5.5902204513549805,5.43662691116333,5.718583583831787,5.889187335968018,5.912303447723389,5.476960182189941,5.669550895690918,5.515365123748779,5.43842887878418,5.437697887420654,5.319965839385986,5.371880054473877,5.757848262786865,5.643797397613525,5.397702693939209,5.488731861114502,5.806168556213379,5.1708292961120605,6.023783206939697,5.659872531890869,5.3295512199401855,5.418217658996582,5.859371662139893,5.49061393737793,5.359136581420898,5.648836135864258,5.841269016265869,5.780738830566406],\"xaxis\":\"x\",\"y\":[3.3702170848846436,3.266247510910034,2.7830817699432373,3.0509238243103027,2.5362915992736816,2.878815174102783,2.7989726066589355,3.210836410522461,3.0556297302246094,3.5563762187957764,3.102715015411377,2.864400863647461,2.8812074661254883,2.9401121139526367,3.112197160720825,3.2178666591644287,3.5351450443267822,3.2473835945129395,3.2788753509521484,3.3850021362304688,3.0126218795776367,3.174870729446411,3.5433764457702637,2.978685140609741,2.877713441848755,3.1529581546783447,2.7698605060577393,3.219308853149414,3.1861417293548584,3.4611520767211914,2.8699398040771484,3.585681676864624,3.5524473190307617,3.131348133087158,3.051931381225586,2.973273515701294],\"yaxis\":\"y\"},{\"customdata\":[[\"mondialisation\"],[\"mondialisation\"],[\"mondialisation\"],[\"mondialisation\"],[\"mondialisation\"],[\"mondialisation\"],[\"mondialisation\"],[\"mondialisation\"],[\"mondialisation\"],[\"mondialisation\"],[\"mondialisation\"],[\"mondialisation\"],[\"mondialisation\"],[\"mondialisation\"],[\"mondialisation\"],[\"mondialisation\"],[\"mondialisation\"],[\"mondialisation\"],[\"mondialisation\"],[\"mondialisation\"]],\"hovertemplate\":\"cluster_label=21<br>0=%{x}<br>1=%{y}<br>topic_name=%{customdata[0]}<extra></extra>\",\"legendgroup\":\"21\",\"marker\":{\"color\":\"#B68E00\",\"symbol\":\"circle\"},\"mode\":\"markers\",\"name\":\"21\",\"showlegend\":true,\"type\":\"scattergl\",\"x\":[4.578388214111328,4.645854473114014,4.692641735076904,4.433750152587891,4.46041202545166,4.458035945892334,4.534438610076904,4.490396976470947,4.59016752243042,4.543031215667725,4.6439995765686035,4.705327033996582,4.464742183685303,4.873534679412842,4.574934005737305,4.414154052734375,4.703784465789795,4.578768253326416,4.508469581604004,4.403683185577393],\"xaxis\":\"x\",\"y\":[3.3599095344543457,3.1307332515716553,3.448362350463867,3.332108974456787,3.293274402618408,3.156987428665161,3.3098831176757812,3.3015425205230713,3.2224464416503906,3.276773691177368,3.18454909324646,3.1812474727630615,3.233473062515259,3.08432674407959,3.6537744998931885,3.3165435791015625,3.262277126312256,3.222212791442871,3.4902443885803223,3.259775400161743],\"yaxis\":\"y\"},{\"customdata\":[[\"militaire\"],[\"militaire\"],[\"militaire\"],[\"militaire\"],[\"militaire\"],[\"militaire\"],[\"militaire\"],[\"militaire\"],[\"militaire\"],[\"militaire\"],[\"militaire\"],[\"militaire\"],[\"militaire\"],[\"militaire\"],[\"militaire\"],[\"militaire\"],[\"militaire\"],[\"militaire\"],[\"militaire\"],[\"militaire\"],[\"militaire\"],[\"militaire\"],[\"militaire\"],[\"militaire\"],[\"militaire\"],[\"militaire\"],[\"militaire\"],[\"militaire\"],[\"militaire\"],[\"militaire\"],[\"militaire\"],[\"militaire\"],[\"militaire\"],[\"militaire\"],[\"militaire\"]],\"hovertemplate\":\"cluster_label=19<br>0=%{x}<br>1=%{y}<br>topic_name=%{customdata[0]}<extra></extra>\",\"legendgroup\":\"19\",\"marker\":{\"color\":\"#C9FBE5\",\"symbol\":\"circle\"},\"mode\":\"markers\",\"name\":\"19\",\"showlegend\":true,\"type\":\"scattergl\",\"x\":[4.351992607116699,4.298165321350098,3.972053289413452,3.795358896255493,3.8766045570373535,3.8770437240600586,3.9628829956054688,3.981567621231079,3.940037250518799,4.252558708190918,3.988746404647827,4.27587890625,4.021002769470215,3.8151094913482666,3.9014947414398193,3.9094252586364746,4.24945592880249,3.8907341957092285,4.106535911560059,4.242221832275391,4.131211280822754,4.299655914306641,4.114866256713867,4.165002822875977,4.24476957321167,4.159577369689941,3.889509439468384,4.2103986740112305,4.182319164276123,3.9397425651550293,4.253721714019775,4.195439338684082,4.304358959197998,3.835430383682251,4.070444583892822],\"xaxis\":\"x\",\"y\":[2.23323655128479,1.7795532941818237,1.8364843130111694,1.8696662187576294,1.8003978729248047,1.777592420578003,1.6695125102996826,1.6566565036773682,1.6794638633728027,1.6915231943130493,1.9951198101043701,2.069488048553467,1.8714178800582886,1.8895888328552246,1.7656279802322388,1.7170547246932983,2.2535197734832764,1.9811930656433105,2.075929641723633,2.2152271270751953,2.142796516418457,2.281325101852417,1.931288480758667,2.0681610107421875,2.188063621520996,2.06754732131958,2.0615713596343994,2.0957720279693604,2.104642629623413,1.9895415306091309,2.018075704574585,1.7965648174285889,1.8170137405395508,1.8204433917999268,1.6981102228164673],\"yaxis\":\"y\"},{\"customdata\":[[\"familial\"],[\"familial\"],[\"familial\"],[\"familial\"],[\"familial\"],[\"familial\"],[\"familial\"],[\"familial\"],[\"familial\"],[\"familial\"],[\"familial\"],[\"familial\"],[\"familial\"],[\"familial\"],[\"familial\"],[\"familial\"],[\"familial\"],[\"familial\"],[\"familial\"],[\"familial\"],[\"familial\"],[\"familial\"],[\"familial\"],[\"familial\"],[\"familial\"],[\"familial\"],[\"familial\"],[\"familial\"],[\"familial\"],[\"familial\"],[\"familial\"],[\"familial\"]],\"hovertemplate\":\"cluster_label=9<br>0=%{x}<br>1=%{y}<br>topic_name=%{customdata[0]}<extra></extra>\",\"legendgroup\":\"9\",\"marker\":{\"color\":\"#FF0092\",\"symbol\":\"circle\"},\"mode\":\"markers\",\"name\":\"9\",\"showlegend\":true,\"type\":\"scattergl\",\"x\":[9.463165283203125,9.48992919921875,9.424501419067383,9.823217391967773,9.385555267333984,9.511324882507324,9.593192100524902,9.48147201538086,9.501376152038574,9.433043479919434,9.81638240814209,9.637796401977539,9.419320106506348,9.53465747833252,9.659530639648438,9.195428848266602,9.44312858581543,9.094602584838867,9.47419548034668,9.404825210571289,9.477784156799316,9.36133861541748,9.24317741394043,9.40476131439209,9.454376220703125,9.239757537841797,9.462421417236328,9.38687801361084,9.35165023803711,9.279245376586914,9.577641487121582,9.54250431060791],\"xaxis\":\"x\",\"y\":[6.762826919555664,6.807298183441162,6.7896928787231445,6.350548267364502,6.840037822723389,6.711877346038818,6.5964765548706055,6.659626007080078,6.74689245223999,6.686473846435547,6.237210273742676,6.481964111328125,6.751499652862549,6.633970737457275,6.491093635559082,6.4448418617248535,6.513058185577393,6.879753589630127,6.774343967437744,6.7836198806762695,6.839969158172607,6.9204888343811035,6.29671573638916,6.575913906097412,6.599564552307129,6.248435974121094,6.734520435333252,6.7964067459106445,6.497097015380859,6.411839008331299,6.741789817810059,6.592980861663818],\"yaxis\":\"y\"},{\"customdata\":[[\"medical\"],[\"medical\"],[\"medical\"],[\"medical\"],[\"medical\"],[\"medical\"],[\"medical\"],[\"medical\"],[\"medical\"],[\"medical\"],[\"medical\"],[\"medical\"],[\"medical\"],[\"medical\"],[\"medical\"],[\"medical\"],[\"medical\"],[\"medical\"],[\"medical\"],[\"medical\"],[\"medical\"],[\"medical\"],[\"medical\"],[\"medical\"],[\"medical\"],[\"medical\"],[\"medical\"],[\"medical\"],[\"medical\"],[\"medical\"],[\"medical\"],[\"medical\"],[\"medical\"],[\"medical\"],[\"medical\"],[\"medical\"],[\"medical\"],[\"medical\"],[\"medical\"],[\"medical\"],[\"medical\"],[\"medical\"],[\"medical\"],[\"medical\"],[\"medical\"],[\"medical\"],[\"medical\"],[\"medical\"],[\"medical\"],[\"medical\"],[\"medical\"],[\"medical\"],[\"medical\"],[\"medical\"],[\"medical\"],[\"medical\"],[\"medical\"],[\"medical\"],[\"medical\"],[\"medical\"],[\"medical\"],[\"medical\"],[\"medical\"],[\"medical\"],[\"medical\"],[\"medical\"],[\"medical\"],[\"medical\"],[\"logement\"],[\"medical\"],[\"medical\"],[\"medical\"],[\"medical\"],[\"medical\"],[\"medical\"],[\"medical\"],[\"medical\"],[\"medical\"],[\"medical\"],[\"medical\"],[\"medical\"],[\"medical\"],[\"medical\"],[\"medical\"],[\"medical\"],[\"medical\"],[\"medical\"],[\"medical\"],[\"medical\"],[\"medical\"],[\"medical\"]],\"hovertemplate\":\"cluster_label=6<br>0=%{x}<br>1=%{y}<br>topic_name=%{customdata[0]}<extra></extra>\",\"legendgroup\":\"6\",\"marker\":{\"color\":\"#22FFA7\",\"symbol\":\"circle\"},\"mode\":\"markers\",\"name\":\"6\",\"showlegend\":true,\"type\":\"scattergl\",\"x\":[8.728672981262207,8.474069595336914,8.642735481262207,8.894747734069824,8.898978233337402,8.812277793884277,8.887677192687988,8.477051734924316,8.620287895202637,9.096059799194336,9.350967407226562,9.258035659790039,9.153953552246094,9.231826782226562,9.467376708984375,8.763354301452637,8.901756286621094,8.471796989440918,8.442848205566406,8.456977844238281,8.469205856323242,9.14533519744873,8.686517715454102,9.433760643005371,9.407689094543457,9.25104808807373,9.247736930847168,8.501564025878906,8.524941444396973,8.998899459838867,9.3540620803833,9.238425254821777,9.129462242126465,9.18655014038086,9.3714599609375,8.943641662597656,9.148146629333496,8.75493335723877,8.895631790161133,9.32874870300293,8.299405097961426,8.460065841674805,8.821657180786133,8.869794845581055,8.849971771240234,9.036498069763184,9.011710166931152,8.58922290802002,8.9912691116333,8.574529647827148,8.976714134216309,9.348775863647461,9.085227012634277,8.52496337890625,8.323333740234375,9.048794746398926,9.256782531738281,9.32766056060791,9.278818130493164,8.542474746704102,8.673561096191406,9.138325691223145,9.034292221069336,8.924293518066406,8.956518173217773,9.068656921386719,9.085772514343262,8.616817474365234,8.188164710998535,8.733528137207031,8.919268608093262,9.03126335144043,8.373119354248047,9.323643684387207,8.652487754821777,8.521439552307129,9.073881149291992,8.270811080932617,8.733872413635254,8.91572380065918,8.894098281860352,9.033796310424805,9.083818435668945,8.812447547912598,9.200139999389648,9.20640754699707,8.871098518371582,8.942094802856445,8.671106338500977,9.08545970916748,8.702500343322754],\"xaxis\":\"x\",\"y\":[7.427698135375977,7.807957172393799,8.451345443725586,8.57130241394043,8.428472518920898,7.512433052062988,7.8381853103637695,8.291388511657715,8.38722038269043,8.67050838470459,8.879164695739746,8.764625549316406,8.354355812072754,8.56289291381836,8.285074234008789,7.484567642211914,7.990175724029541,8.371231079101562,8.2443265914917,8.315621376037598,8.324647903442383,8.761919021606445,8.273791313171387,8.258498191833496,8.283381462097168,8.369979858398438,8.772685050964355,8.304231643676758,8.325777053833008,8.591835021972656,8.88106918334961,8.812416076660156,8.410101890563965,8.467649459838867,8.340877532958984,8.544702529907227,8.828764915466309,8.596266746520996,8.644248962402344,8.35810661315918,7.821983337402344,7.982542514801025,8.58126449584961,8.378117561340332,8.090211868286133,8.664554595947266,8.691901206970215,7.447596073150635,8.542137145996094,8.086074829101562,8.65640926361084,8.898496627807617,8.661321640014648,8.315999031066895,7.673120975494385,8.679789543151855,8.821211814880371,8.87713623046875,8.83808708190918,8.348172187805176,8.420589447021484,8.752469062805176,8.61667251586914,8.479008674621582,8.732583045959473,8.586583137512207,8.242207527160645,7.828731536865234,7.637777805328369,7.569441795349121,8.459428787231445,8.60150146484375,7.884387493133545,8.875990867614746,8.090060234069824,7.635623455047607,8.7537260055542,7.742009162902832,8.402477264404297,8.533353805541992,8.266857147216797,8.597641944885254,8.68201732635498,7.740171909332275,8.449764251708984,8.780915260314941,8.24731159210205,8.090963363647461,8.143169403076172,8.640840530395508,7.6862969398498535],\"yaxis\":\"y\"},{\"customdata\":[[\"environnemental\"],[\"environnemental\"],[\"environnemental\"],[\"environnemental\"],[\"environnemental\"],[\"environnemental\"],[\"environnemental\"],[\"environnemental\"],[\"environnemental\"],[\"environnemental\"],[\"environnemental\"],[\"environnemental\"],[\"environnemental\"],[\"environnemental\"],[\"environnemental\"],[\"environnemental\"],[\"environnemental\"],[\"environnemental\"],[\"environnemental\"],[\"environnemental\"],[\"environnemental\"],[\"environnemental\"],[\"environnemental\"],[\"environnemental\"],[\"environnemental\"],[\"environnemental\"]],\"hovertemplate\":\"cluster_label=15<br>0=%{x}<br>1=%{y}<br>topic_name=%{customdata[0]}<extra></extra>\",\"legendgroup\":\"15\",\"marker\":{\"color\":\"#E3EE9E\",\"symbol\":\"circle\"},\"mode\":\"markers\",\"name\":\"15\",\"showlegend\":true,\"type\":\"scattergl\",\"x\":[3.0312578678131104,3.6043713092803955,3.5977134704589844,3.1748461723327637,3.262054920196533,3.6487772464752197,3.2944743633270264,3.057478666305542,3.1803252696990967,3.406771659851074,3.805264949798584,3.15537691116333,3.3182365894317627,3.3758363723754883,3.1393544673919678,3.175790309906006,3.3144583702087402,3.2032058238983154,3.29658842086792,3.1905646324157715,3.4552550315856934,3.461729049682617,3.7702839374542236,3.1188931465148926,2.880845069885254,2.886159658432007],\"xaxis\":\"x\",\"y\":[4.392865180969238,4.554047107696533,4.532617568969727,4.455334663391113,4.499227046966553,4.482248306274414,4.4151692390441895,4.72493839263916,4.168829441070557,4.593922138214111,4.83275842666626,4.6487298011779785,4.268157958984375,4.09922456741333,4.378028392791748,4.559115409851074,4.620086193084717,4.322550296783447,4.844053745269775,4.447403430938721,4.348578453063965,4.094140529632568,4.46536922454834,4.284511566162109,4.499980449676514,4.546444892883301],\"yaxis\":\"y\"},{\"customdata\":[[\"maritime\"],[\"maritime\"],[\"maritime\"],[\"maritime\"],[\"maritime\"],[\"maritime\"],[\"maritime\"],[\"maritime\"],[\"maritime\"],[\"maritime\"],[\"maritime\"],[\"maritime\"],[\"maritime\"],[\"maritime\"],[\"maritime\"]],\"hovertemplate\":\"cluster_label=4<br>0=%{x}<br>1=%{y}<br>topic_name=%{customdata[0]}<extra></extra>\",\"legendgroup\":\"4\",\"marker\":{\"color\":\"#86CE00\",\"symbol\":\"circle\"},\"mode\":\"markers\",\"name\":\"4\",\"showlegend\":true,\"type\":\"scattergl\",\"x\":[3.288548469543457,3.376667022705078,3.1696105003356934,3.1594369411468506,3.3248605728149414,3.576385259628296,3.2461185455322266,3.0845272541046143,3.2461228370666504,3.0449743270874023,3.025458812713623,3.086867094039917,3.2596282958984375,3.0053563117980957,3.2171216011047363],\"xaxis\":\"x\",\"y\":[3.12553334236145,3.021756649017334,3.318206787109375,3.433856248855591,3.166923999786377,3.113497495651245,3.22025990486145,3.4767141342163086,3.196298837661743,3.55238676071167,3.5748565196990967,3.5469889640808105,3.2975645065307617,3.5767321586608887,3.2949447631835938],\"yaxis\":\"y\"},{\"customdata\":[[\"immigration\"],[\"immigration\"],[\"immigration\"],[\"immigration\"],[\"immigration\"],[\"immigration\"],[\"immigration\"],[\"immigration\"],[\"immigration\"],[\"immigration\"],[\"immigration\"],[\"immigration\"],[\"immigration\"],[\"immigration\"],[\"immigration\"],[\"immigration\"],[\"immigration\"],[\"immigration\"],[\"immigration\"],[\"immigration\"],[\"immigration\"],[\"immigration\"],[\"immigration\"],[\"immigration\"],[\"immigration\"],[\"immigration\"],[\"immigration\"],[\"immigration\"],[\"immigration\"],[\"immigration\"],[\"discrimination\"],[\"immigration\"],[\"immigration\"],[\"immigration\"]],\"hovertemplate\":\"cluster_label=12<br>0=%{x}<br>1=%{y}<br>topic_name=%{customdata[0]}<extra></extra>\",\"legendgroup\":\"12\",\"marker\":{\"color\":\"#BC7196\",\"symbol\":\"circle\"},\"mode\":\"markers\",\"name\":\"12\",\"showlegend\":true,\"type\":\"scattergl\",\"x\":[10.211376190185547,10.541963577270508,10.550660133361816,10.524260520935059,10.410781860351562,10.416804313659668,10.421594619750977,10.40899658203125,10.567112922668457,10.516425132751465,10.23985481262207,10.408896446228027,10.33596134185791,10.529426574707031,10.61363410949707,10.48460578918457,10.44740104675293,10.026824951171875,10.473979949951172,10.3985013961792,10.281871795654297,10.129250526428223,10.351639747619629,10.4378662109375,10.330702781677246,10.408036231994629,10.40691089630127,10.268449783325195,10.486162185668945,10.505658149719238,9.563896179199219,10.29114818572998,10.433196067810059,10.518948554992676],\"xaxis\":\"x\",\"y\":[5.758418560028076,5.331073760986328,5.257383823394775,5.38886833190918,5.3965959548950195,5.632974624633789,5.531284809112549,5.389394283294678,5.284451007843018,5.365680694580078,5.597489833831787,5.499820232391357,5.555106163024902,5.339090347290039,5.187956809997559,5.398866176605225,5.489898204803467,5.417998790740967,5.205565452575684,5.468362808227539,5.433839797973633,5.421224117279053,5.376983642578125,5.437112331390381,5.471584796905518,5.464677333831787,5.4540534019470215,5.360855579376221,5.381192684173584,5.343707084655762,5.489087104797363,5.348179340362549,5.456198692321777,5.3353118896484375],\"yaxis\":\"y\"},{\"customdata\":[[\"discrimination\"],[\"discrimination\"],[\"discrimination\"],[\"discrimination\"],[\"discrimination\"],[\"discrimination\"],[\"discrimination\"],[\"discrimination\"],[\"discrimination\"],[\"discrimination\"],[\"discrimination\"],[\"discrimination\"],[\"discrimination\"],[\"discrimination\"],[\"discrimination\"],[\"discrimination\"],[\"discrimination\"],[\"discrimination\"],[\"discrimination\"],[\"discrimination\"],[\"discrimination\"],[\"discrimination\"]],\"hovertemplate\":\"cluster_label=13<br>0=%{x}<br>1=%{y}<br>topic_name=%{customdata[0]}<extra></extra>\",\"legendgroup\":\"13\",\"marker\":{\"color\":\"#7E7DCD\",\"symbol\":\"circle\"},\"mode\":\"markers\",\"name\":\"13\",\"showlegend\":true,\"type\":\"scattergl\",\"x\":[9.210817337036133,9.471556663513184,9.161432266235352,9.21684455871582,9.258883476257324,9.187260627746582,9.480490684509277,9.213749885559082,9.109685897827148,9.074177742004395,8.899492263793945,8.830998420715332,8.872469902038574,9.107397079467773,9.40690803527832,8.961788177490234,9.22098445892334,8.739177703857422,8.795281410217285,9.166056632995605,8.829581260681152,9.292823791503906],\"xaxis\":\"x\",\"y\":[5.677009105682373,5.550217628479004,5.606904983520508,5.728724479675293,5.593137264251709,5.635810375213623,5.439830780029297,5.622008323669434,5.57227897644043,5.548862457275391,5.45551061630249,5.438549518585205,5.373234748840332,5.236940383911133,5.546783447265625,5.430081844329834,5.573246479034424,5.611085414886475,5.48037576675415,5.286670684814453,5.3829474449157715,5.143561363220215],\"yaxis\":\"y\"},{\"marker\":{\"size\":15,\"symbol\":\"star\"},\"mode\":\"markers+text\",\"name\":\"topic vector\",\"text\":[\"emploi\",\"scolaire\",\"agriculture\",\"citoyennete\",\"medical\",\"fiscal\",\"judiciaire\",\"parlement\",\"europeen\",\"environnemental\",\"energie\",\"mondialisation\",\"culturel\",\"social\",\"militaire\",\"public\",\"immigration\",\"familial\",\"logement\",\"regional\",\"discrimination\",\"maritime\"],\"textfont\":{\"color\":\"Black\",\"family\":\"sans serif\",\"size\":20},\"type\":\"scatter\",\"x\":[6.4943671226501465,12.138753890991211,2.305198907852173,8.23253345489502,8.92005729675293,6.118252277374268,9.097939491271973,7.161445140838623,5.653763771057129,3.197244882583618,1.974828839302063,4.313600540161133,10.134815216064453,7.840487957000732,4.054792404174805,6.863800525665283,10.520031929016113,9.414239883422852,7.285373687744141,6.878932476043701,9.089238166809082,3.1423091888427734],\"y\":[7.525529384613037,2.7260220050811768,6.200584888458252,4.399049282073975,8.682393074035645,5.74211311340332,2.1291160583496094,2.375234603881836,3.0494635105133057,4.424289226531982,3.927067995071411,3.4007930755615234,0.24069653451442719,5.947299003601074,1.749903678894043,4.564930438995361,5.391000270843506,6.770471572875977,9.076208114624023,3.7885191440582275,5.516501426696777,3.32462477684021]}],                        {\"legend\":{\"title\":{\"text\":\"cluster_label\"},\"tracegroupgap\":0},\"margin\":{\"t\":60},\"template\":{\"data\":{\"bar\":[{\"error_x\":{\"color\":\"#2a3f5f\"},\"error_y\":{\"color\":\"#2a3f5f\"},\"marker\":{\"line\":{\"color\":\"#E5ECF6\",\"width\":0.5},\"pattern\":{\"fillmode\":\"overlay\",\"size\":10,\"solidity\":0.2}},\"type\":\"bar\"}],\"barpolar\":[{\"marker\":{\"line\":{\"color\":\"#E5ECF6\",\"width\":0.5},\"pattern\":{\"fillmode\":\"overlay\",\"size\":10,\"solidity\":0.2}},\"type\":\"barpolar\"}],\"carpet\":[{\"aaxis\":{\"endlinecolor\":\"#2a3f5f\",\"gridcolor\":\"white\",\"linecolor\":\"white\",\"minorgridcolor\":\"white\",\"startlinecolor\":\"#2a3f5f\"},\"baxis\":{\"endlinecolor\":\"#2a3f5f\",\"gridcolor\":\"white\",\"linecolor\":\"white\",\"minorgridcolor\":\"white\",\"startlinecolor\":\"#2a3f5f\"},\"type\":\"carpet\"}],\"choropleth\":[{\"colorbar\":{\"outlinewidth\":0,\"ticks\":\"\"},\"type\":\"choropleth\"}],\"contour\":[{\"colorbar\":{\"outlinewidth\":0,\"ticks\":\"\"},\"colorscale\":[[0.0,\"#0d0887\"],[0.1111111111111111,\"#46039f\"],[0.2222222222222222,\"#7201a8\"],[0.3333333333333333,\"#9c179e\"],[0.4444444444444444,\"#bd3786\"],[0.5555555555555556,\"#d8576b\"],[0.6666666666666666,\"#ed7953\"],[0.7777777777777778,\"#fb9f3a\"],[0.8888888888888888,\"#fdca26\"],[1.0,\"#f0f921\"]],\"type\":\"contour\"}],\"contourcarpet\":[{\"colorbar\":{\"outlinewidth\":0,\"ticks\":\"\"},\"type\":\"contourcarpet\"}],\"heatmap\":[{\"colorbar\":{\"outlinewidth\":0,\"ticks\":\"\"},\"colorscale\":[[0.0,\"#0d0887\"],[0.1111111111111111,\"#46039f\"],[0.2222222222222222,\"#7201a8\"],[0.3333333333333333,\"#9c179e\"],[0.4444444444444444,\"#bd3786\"],[0.5555555555555556,\"#d8576b\"],[0.6666666666666666,\"#ed7953\"],[0.7777777777777778,\"#fb9f3a\"],[0.8888888888888888,\"#fdca26\"],[1.0,\"#f0f921\"]],\"type\":\"heatmap\"}],\"heatmapgl\":[{\"colorbar\":{\"outlinewidth\":0,\"ticks\":\"\"},\"colorscale\":[[0.0,\"#0d0887\"],[0.1111111111111111,\"#46039f\"],[0.2222222222222222,\"#7201a8\"],[0.3333333333333333,\"#9c179e\"],[0.4444444444444444,\"#bd3786\"],[0.5555555555555556,\"#d8576b\"],[0.6666666666666666,\"#ed7953\"],[0.7777777777777778,\"#fb9f3a\"],[0.8888888888888888,\"#fdca26\"],[1.0,\"#f0f921\"]],\"type\":\"heatmapgl\"}],\"histogram\":[{\"marker\":{\"pattern\":{\"fillmode\":\"overlay\",\"size\":10,\"solidity\":0.2}},\"type\":\"histogram\"}],\"histogram2d\":[{\"colorbar\":{\"outlinewidth\":0,\"ticks\":\"\"},\"colorscale\":[[0.0,\"#0d0887\"],[0.1111111111111111,\"#46039f\"],[0.2222222222222222,\"#7201a8\"],[0.3333333333333333,\"#9c179e\"],[0.4444444444444444,\"#bd3786\"],[0.5555555555555556,\"#d8576b\"],[0.6666666666666666,\"#ed7953\"],[0.7777777777777778,\"#fb9f3a\"],[0.8888888888888888,\"#fdca26\"],[1.0,\"#f0f921\"]],\"type\":\"histogram2d\"}],\"histogram2dcontour\":[{\"colorbar\":{\"outlinewidth\":0,\"ticks\":\"\"},\"colorscale\":[[0.0,\"#0d0887\"],[0.1111111111111111,\"#46039f\"],[0.2222222222222222,\"#7201a8\"],[0.3333333333333333,\"#9c179e\"],[0.4444444444444444,\"#bd3786\"],[0.5555555555555556,\"#d8576b\"],[0.6666666666666666,\"#ed7953\"],[0.7777777777777778,\"#fb9f3a\"],[0.8888888888888888,\"#fdca26\"],[1.0,\"#f0f921\"]],\"type\":\"histogram2dcontour\"}],\"mesh3d\":[{\"colorbar\":{\"outlinewidth\":0,\"ticks\":\"\"},\"type\":\"mesh3d\"}],\"parcoords\":[{\"line\":{\"colorbar\":{\"outlinewidth\":0,\"ticks\":\"\"}},\"type\":\"parcoords\"}],\"pie\":[{\"automargin\":true,\"type\":\"pie\"}],\"scatter\":[{\"marker\":{\"colorbar\":{\"outlinewidth\":0,\"ticks\":\"\"}},\"type\":\"scatter\"}],\"scatter3d\":[{\"line\":{\"colorbar\":{\"outlinewidth\":0,\"ticks\":\"\"}},\"marker\":{\"colorbar\":{\"outlinewidth\":0,\"ticks\":\"\"}},\"type\":\"scatter3d\"}],\"scattercarpet\":[{\"marker\":{\"colorbar\":{\"outlinewidth\":0,\"ticks\":\"\"}},\"type\":\"scattercarpet\"}],\"scattergeo\":[{\"marker\":{\"colorbar\":{\"outlinewidth\":0,\"ticks\":\"\"}},\"type\":\"scattergeo\"}],\"scattergl\":[{\"marker\":{\"colorbar\":{\"outlinewidth\":0,\"ticks\":\"\"}},\"type\":\"scattergl\"}],\"scattermapbox\":[{\"marker\":{\"colorbar\":{\"outlinewidth\":0,\"ticks\":\"\"}},\"type\":\"scattermapbox\"}],\"scatterpolar\":[{\"marker\":{\"colorbar\":{\"outlinewidth\":0,\"ticks\":\"\"}},\"type\":\"scatterpolar\"}],\"scatterpolargl\":[{\"marker\":{\"colorbar\":{\"outlinewidth\":0,\"ticks\":\"\"}},\"type\":\"scatterpolargl\"}],\"scatterternary\":[{\"marker\":{\"colorbar\":{\"outlinewidth\":0,\"ticks\":\"\"}},\"type\":\"scatterternary\"}],\"surface\":[{\"colorbar\":{\"outlinewidth\":0,\"ticks\":\"\"},\"colorscale\":[[0.0,\"#0d0887\"],[0.1111111111111111,\"#46039f\"],[0.2222222222222222,\"#7201a8\"],[0.3333333333333333,\"#9c179e\"],[0.4444444444444444,\"#bd3786\"],[0.5555555555555556,\"#d8576b\"],[0.6666666666666666,\"#ed7953\"],[0.7777777777777778,\"#fb9f3a\"],[0.8888888888888888,\"#fdca26\"],[1.0,\"#f0f921\"]],\"type\":\"surface\"}],\"table\":[{\"cells\":{\"fill\":{\"color\":\"#EBF0F8\"},\"line\":{\"color\":\"white\"}},\"header\":{\"fill\":{\"color\":\"#C8D4E3\"},\"line\":{\"color\":\"white\"}},\"type\":\"table\"}]},\"layout\":{\"annotationdefaults\":{\"arrowcolor\":\"#2a3f5f\",\"arrowhead\":0,\"arrowwidth\":1},\"autotypenumbers\":\"strict\",\"coloraxis\":{\"colorbar\":{\"outlinewidth\":0,\"ticks\":\"\"}},\"colorscale\":{\"diverging\":[[0,\"#8e0152\"],[0.1,\"#c51b7d\"],[0.2,\"#de77ae\"],[0.3,\"#f1b6da\"],[0.4,\"#fde0ef\"],[0.5,\"#f7f7f7\"],[0.6,\"#e6f5d0\"],[0.7,\"#b8e186\"],[0.8,\"#7fbc41\"],[0.9,\"#4d9221\"],[1,\"#276419\"]],\"sequential\":[[0.0,\"#0d0887\"],[0.1111111111111111,\"#46039f\"],[0.2222222222222222,\"#7201a8\"],[0.3333333333333333,\"#9c179e\"],[0.4444444444444444,\"#bd3786\"],[0.5555555555555556,\"#d8576b\"],[0.6666666666666666,\"#ed7953\"],[0.7777777777777778,\"#fb9f3a\"],[0.8888888888888888,\"#fdca26\"],[1.0,\"#f0f921\"]],\"sequentialminus\":[[0.0,\"#0d0887\"],[0.1111111111111111,\"#46039f\"],[0.2222222222222222,\"#7201a8\"],[0.3333333333333333,\"#9c179e\"],[0.4444444444444444,\"#bd3786\"],[0.5555555555555556,\"#d8576b\"],[0.6666666666666666,\"#ed7953\"],[0.7777777777777778,\"#fb9f3a\"],[0.8888888888888888,\"#fdca26\"],[1.0,\"#f0f921\"]]},\"colorway\":[\"#636efa\",\"#EF553B\",\"#00cc96\",\"#ab63fa\",\"#FFA15A\",\"#19d3f3\",\"#FF6692\",\"#B6E880\",\"#FF97FF\",\"#FECB52\"],\"font\":{\"color\":\"#2a3f5f\"},\"geo\":{\"bgcolor\":\"white\",\"lakecolor\":\"white\",\"landcolor\":\"#E5ECF6\",\"showlakes\":true,\"showland\":true,\"subunitcolor\":\"white\"},\"hoverlabel\":{\"align\":\"left\"},\"hovermode\":\"closest\",\"mapbox\":{\"style\":\"light\"},\"paper_bgcolor\":\"white\",\"plot_bgcolor\":\"#E5ECF6\",\"polar\":{\"angularaxis\":{\"gridcolor\":\"white\",\"linecolor\":\"white\",\"ticks\":\"\"},\"bgcolor\":\"#E5ECF6\",\"radialaxis\":{\"gridcolor\":\"white\",\"linecolor\":\"white\",\"ticks\":\"\"}},\"scene\":{\"xaxis\":{\"backgroundcolor\":\"#E5ECF6\",\"gridcolor\":\"white\",\"gridwidth\":2,\"linecolor\":\"white\",\"showbackground\":true,\"ticks\":\"\",\"zerolinecolor\":\"white\"},\"yaxis\":{\"backgroundcolor\":\"#E5ECF6\",\"gridcolor\":\"white\",\"gridwidth\":2,\"linecolor\":\"white\",\"showbackground\":true,\"ticks\":\"\",\"zerolinecolor\":\"white\"},\"zaxis\":{\"backgroundcolor\":\"#E5ECF6\",\"gridcolor\":\"white\",\"gridwidth\":2,\"linecolor\":\"white\",\"showbackground\":true,\"ticks\":\"\",\"zerolinecolor\":\"white\"}},\"shapedefaults\":{\"line\":{\"color\":\"#2a3f5f\"}},\"ternary\":{\"aaxis\":{\"gridcolor\":\"white\",\"linecolor\":\"white\",\"ticks\":\"\"},\"baxis\":{\"gridcolor\":\"white\",\"linecolor\":\"white\",\"ticks\":\"\"},\"bgcolor\":\"#E5ECF6\",\"caxis\":{\"gridcolor\":\"white\",\"linecolor\":\"white\",\"ticks\":\"\"}},\"title\":{\"x\":0.05},\"xaxis\":{\"automargin\":true,\"gridcolor\":\"white\",\"linecolor\":\"white\",\"ticks\":\"\",\"title\":{\"standoff\":15},\"zerolinecolor\":\"white\",\"zerolinewidth\":2},\"yaxis\":{\"automargin\":true,\"gridcolor\":\"white\",\"linecolor\":\"white\",\"ticks\":\"\",\"title\":{\"standoff\":15},\"zerolinecolor\":\"white\",\"zerolinewidth\":2}}},\"xaxis\":{\"anchor\":\"y\",\"domain\":[0.0,1.0],\"title\":{\"text\":\"0\"}},\"yaxis\":{\"anchor\":\"x\",\"domain\":[0.0,1.0],\"title\":{\"text\":\"1\"}}},                        {\"responsive\": true}                    ).then(function(){\n",
       "                            \n",
       "var gd = document.getElementById('2b197e05-c095-48aa-9a2d-09b2caabbe67');\n",
       "var x = new MutationObserver(function (mutations, observer) {{\n",
       "        var display = window.getComputedStyle(gd).display;\n",
       "        if (!display || display === 'none') {{\n",
       "            console.log([gd, 'removed!']);\n",
       "            Plotly.purge(gd);\n",
       "            observer.disconnect();\n",
       "        }}\n",
       "}});\n",
       "\n",
       "// Listen for the removal of the full notebook cells\n",
       "var notebookContainer = gd.closest('#notebook-container');\n",
       "if (notebookContainer) {{\n",
       "    x.observe(notebookContainer, {childList: true});\n",
       "}}\n",
       "\n",
       "// Listen for the clearing of the current output cell\n",
       "var outputEl = gd.closest('.output');\n",
       "if (outputEl) {{\n",
       "    x.observe(outputEl, {childList: true});\n",
       "}}\n",
       "\n",
       "                        })                };                });            </script>        </div>"
      ]
     },
     "metadata": {},
     "output_type": "display_data"
    }
   ],
   "source": [
    "fig = px.scatter(umap_embed,x=0,y=1,color='cluster_label',\n",
    "                 hover_data=['topic_name'],\n",
    "                 #color_discrete_map=dict_color,\n",
    "                 color_discrete_sequence=px.colors.qualitative.Light24\n",
    "                )\n",
    "\n",
    "fig.add_traces(go.Scatter(\n",
    "            x=topic_embed[:,0], y=topic_embed[:,1],\n",
    "            text=list(dict_topic.values()),\n",
    "            mode=\"markers+text\",\n",
    "            name='topic vector',\n",
    "            marker=dict(symbol='star', size=15),\n",
    "            textfont=dict(\n",
    "            family=\"sans serif\",\n",
    "            size=20,\n",
    "            color=\"Black\"))\n",
    "               \n",
    "                  )"
   ]
  },
  {
   "cell_type": "code",
   "execution_count": 968,
   "id": "8ac6a6e7",
   "metadata": {},
   "outputs": [
    {
     "data": {
      "application/vnd.plotly.v1+json": {
       "config": {
        "plotlyServerURL": "https://plot.ly"
       },
       "data": [
        {
         "hovertemplate": "partyname=EELV<br>0=%{x}<br>1=%{y}<extra></extra>",
         "legendgroup": "EELV",
         "marker": {
          "color": "green",
          "symbol": "circle"
         },
         "mode": "markers",
         "name": "EELV",
         "showlegend": true,
         "type": "scattergl",
         "x": [
          8.151793479919434,
          8.04996109008789,
          6.383235931396484,
          6.304250717163086,
          9.314896583557129,
          1.9966233968734741,
          7.1901960372924805,
          6.798958778381348,
          7.26473331451416,
          7.997786998748779,
          3.1803252696990967,
          8.06480598449707,
          3.406771659851074,
          5.747872352600098,
          4.534438610076904,
          2.1328420639038086,
          2.003648519515991,
          1.9473249912261963,
          1.888427734375,
          1.8407279253005981,
          1.9325648546218872,
          1.9420239925384521,
          2.4678308963775635,
          2.949314832687378,
          3.805264949798584,
          2.6016299724578857,
          8.943641662597656,
          9.148146629333496,
          8.75493335723877,
          8.895631790161133,
          3.115359306335449,
          2.799025058746338,
          2.487196683883667,
          6.1740217208862305,
          7.224407196044922,
          2.048985481262207,
          7.025674819946289,
          6.995089530944824,
          6.2691216468811035,
          7.2112956047058105,
          6.441394805908203,
          6.640719413757324,
          6.21541166305542,
          6.083262920379639,
          6.325669765472412,
          6.057455062866211,
          8.963695526123047,
          7.886861801147461,
          6.749274730682373,
          11.63090705871582,
          11.604863166809082,
          7.235465049743652,
          9.210817337036133,
          9.471556663513184,
          8.5873384475708,
          8.906261444091797,
          9.084283828735352,
          9.161432266235352,
          9.195428848266602,
          9.21684455871582,
          9.258883476257324,
          9.32874870300293,
          6.680204391479492,
          10.026824951171875,
          10.473979949951172,
          7.335842609405518,
          7.371886730194092,
          7.264286994934082,
          11.71053409576416,
          11.806600570678711,
          11.95335578918457,
          11.470850944519043,
          11.880230903625488,
          11.941308975219727,
          11.639845848083496,
          12.296480178833008,
          12.342568397521973,
          12.1944580078125,
          12.22474479675293,
          10.256559371948242,
          10.266027450561523,
          10.135540008544922,
          10.183247566223145,
          10.023612022399902,
          9.981142044067383,
          6.883716583251953,
          7.1330790519714355,
          7.4691267013549805,
          7.486794948577881,
          6.78759765625,
          6.754891395568848,
          7.018395900726318,
          7.028787136077881,
          6.741504669189453,
          6.760261058807373,
          5.5902204513549805,
          3.15537691116333,
          3.2461228370666504,
          3.0449743270874023,
          5.43662691116333,
          4.490396976470947,
          4.59016752243042,
          2.2886838912963867,
          5.718583583831787,
          4.24945592880249,
          3.8907341957092285,
          4.106535911560059,
          2.4037466049194336,
          1.8918778896331787,
          1.790414571762085,
          2.0396599769592285,
          1.9373424053192139,
          1.871944546699524,
          1.9443862438201904,
          3.29658842086792,
          1.891830563545227,
          2.57320499420166,
          2.2253024578094482,
          2.268932342529297,
          2.5394809246063232,
          2.2431867122650146,
          2.2742581367492676,
          8.956518173217773,
          9.068656921386719,
          9.085772514343262,
          8.616817474365234,
          7.334150791168213,
          7.340609073638916,
          7.300991535186768,
          2.3888025283813477,
          5.503620147705078,
          6.649520397186279,
          6.523651123046875,
          6.499660968780518,
          6.957170486450195,
          6.311837196350098,
          7.128233909606934,
          11.748489379882812,
          2.9275243282318115,
          3.025458812713623,
          2.5523581504821777,
          2.7868683338165283,
          2.483290195465088,
          11.831074714660645,
          11.918375968933105,
          11.915558815002441,
          12.331363677978516,
          12.313506126403809,
          12.213326454162598,
          8.188164710998535,
          10.993946075439453,
          10.027843475341797,
          9.746038436889648,
          9.279245376586914,
          9.22098445892334,
          8.733528137207031,
          8.739177703857422,
          10.268449783325195,
          8.563799858093262,
          9.512189865112305,
          9.046587944030762,
          8.287765502929688,
          7.4298577308654785,
          7.086361408233643,
          7.36208438873291,
          6.91382360458374,
          6.856992721557617,
          6.91539192199707,
          6.981507301330566,
          3.1905646324157715,
          6.023783206939697,
          5.659872531890869,
          5.3295512199401855,
          4.703784465789795,
          3.4552550315856934,
          3.889509439468384,
          4.2103986740112305,
          4.182319164276123,
          3.9397425651550293,
          8.217702865600586,
          7.912448883056641,
          1.9715502262115479,
          8.91572380065918,
          1.9070374965667725,
          8.829581260681152,
          6.333041191101074,
          7.094137668609619
         ],
         "xaxis": "x",
         "y": [
          4.497936725616455,
          4.450077533721924,
          5.849808216094971,
          7.085636615753174,
          2.4938201904296875,
          3.9468235969543457,
          2.6162760257720947,
          3.635728120803833,
          2.2108500003814697,
          4.384531021118164,
          4.168829441070557,
          4.760521411895752,
          4.593922138214111,
          3.210836410522461,
          3.3098831176757812,
          3.803290367126465,
          3.6692676544189453,
          3.966475009918213,
          3.9618396759033203,
          3.9740941524505615,
          6.114397048950195,
          6.06257438659668,
          6.069531440734863,
          6.057868480682373,
          4.83275842666626,
          5.108053207397461,
          8.544702529907227,
          8.828764915466309,
          8.596266746520996,
          8.644248962402344,
          5.777635097503662,
          5.449347019195557,
          4.245352268218994,
          5.7300920486450195,
          9.031679153442383,
          4.162611484527588,
          4.759711742401123,
          4.488455772399902,
          7.1101202964782715,
          6.973288536071777,
          7.72036075592041,
          7.026784420013428,
          7.184549808502197,
          7.157520294189453,
          6.970718860626221,
          6.997589588165283,
          2.6262123584747314,
          6.052537441253662,
          4.729739665985107,
          3.192385196685791,
          3.1296908855438232,
          8.948787689208984,
          5.677009105682373,
          5.550217628479004,
          1.9887703657150269,
          2.0310823917388916,
          2.2539215087890625,
          5.606904983520508,
          6.4448418617248535,
          5.728724479675293,
          5.593137264251709,
          8.35810661315918,
          2.562310218811035,
          5.417998790740967,
          5.205565452575684,
          8.935020446777344,
          8.902891159057617,
          9.019786834716797,
          3.254575490951538,
          2.85440993309021,
          2.744683027267456,
          3.0862083435058594,
          2.6707451343536377,
          2.8950960636138916,
          2.9022128582000732,
          1.8762571811676025,
          1.9702531099319458,
          1.4112000465393066,
          1.4091086387634277,
          0.27127912640571594,
          0.2705118656158447,
          0.32722386717796326,
          0.2890649735927582,
          0.4379689693450928,
          0.3719595968723297,
          2.6350698471069336,
          2.4911978244781494,
          2.3561007976531982,
          2.3805246353149414,
          3.7296624183654785,
          3.762211561203003,
          3.005438804626465,
          2.916593074798584,
          3.7350192070007324,
          3.7898311614990234,
          3.0556297302246094,
          4.6487298011779785,
          3.196298837661743,
          3.55238676071167,
          3.5563762187957764,
          3.3015425205230713,
          3.2224464416503906,
          6.253575325012207,
          3.102715015411377,
          2.2535197734832764,
          1.9811930656433105,
          2.075929641723633,
          4.08916711807251,
          4.01133394241333,
          4.048880577087402,
          3.6902060508728027,
          4.040839195251465,
          3.960512638092041,
          5.713442325592041,
          4.844053745269775,
          5.7443156242370605,
          5.016243934631348,
          5.887400150299072,
          6.194713115692139,
          6.003407001495361,
          5.7901434898376465,
          5.967795372009277,
          8.732583045959473,
          8.586583137512207,
          8.242207527160645,
          7.828731536865234,
          8.925675392150879,
          8.953486442565918,
          8.96699047088623,
          4.5333099365234375,
          4.832940101623535,
          7.221803665161133,
          7.892261981964111,
          7.82928991317749,
          7.075392246246338,
          5.802076816558838,
          4.728845596313477,
          3.179274320602417,
          5.968863487243652,
          3.5748565196990967,
          5.352787494659424,
          5.565764904022217,
          4.90407133102417,
          3.1236376762390137,
          2.5875141620635986,
          2.839433193206787,
          1.797555685043335,
          1.7119477987289429,
          1.4302629232406616,
          7.637777805328369,
          0.08892209082841873,
          0.4399980902671814,
          0.548424243927002,
          6.411839008331299,
          5.573246479034424,
          7.569441795349121,
          5.611085414886475,
          5.360855579376221,
          1.6957526206970215,
          2.223102331161499,
          2.557462453842163,
          2.134100914001465,
          2.4225049018859863,
          2.319976329803467,
          2.278367519378662,
          3.5740244388580322,
          3.656135320663452,
          3.053678274154663,
          2.7958574295043945,
          4.447403430938721,
          2.7698605060577393,
          3.219308853149414,
          3.1861417293548584,
          3.262277126312256,
          4.348578453063965,
          2.0615713596343994,
          2.0957720279693604,
          2.104642629623413,
          1.9895415306091309,
          4.50933837890625,
          4.199944972991943,
          4.031407356262207,
          8.533353805541992,
          5.980106353759766,
          5.3829474449157715,
          5.792262554168701,
          3.005160331726074
         ],
         "yaxis": "y"
        },
        {
         "hovertemplate": "partyname=PS<br>0=%{x}<br>1=%{y}<extra></extra>",
         "legendgroup": "PS",
         "marker": {
          "color": "pink",
          "symbol": "circle"
         },
         "mode": "markers",
         "name": "PS",
         "showlegend": true,
         "type": "scattergl",
         "x": [
          8.0618314743042,
          7.906888961791992,
          6.372367858886719,
          6.3206939697265625,
          9.41546630859375,
          9.534037590026855,
          7.073912620544434,
          7.609043121337891,
          12.096637725830078,
          10.393672943115234,
          8.149456977844238,
          3.1620216369628906,
          7.076258659362793,
          5.752514839172363,
          5.336710453033447,
          4.578388214111328,
          7.952371120452881,
          7.124863147735596,
          8.051962852478027,
          8.191089630126953,
          8.020140647888184,
          6.252797603607178,
          12.325529098510742,
          7.006687641143799,
          6.331668376922607,
          6.407217502593994,
          6.460241794586182,
          2.062429189682007,
          2.4028615951538086,
          11.629242897033691,
          11.543105125427246,
          11.813283920288086,
          9.439408302307129,
          9.34801197052002,
          9.497121810913086,
          7.275740623474121,
          9.036498069763184,
          9.011710166931152,
          8.58922290802002,
          7.129894256591797,
          7.290964603424072,
          6.910421848297119,
          6.932863712310791,
          6.4220428466796875,
          8.500279426574707,
          8.429651260375977,
          9.074177742004395,
          8.899492263793945,
          10.129250526428223,
          10.351639747619629,
          10.111123085021973,
          10.278899192810059,
          11.040776252746582,
          4.873534679412842,
          5.43842887878418,
          5.437697887420654,
          4.574934005737305,
          8.9912691116333,
          4.299655914306641,
          4.114866256713867,
          2.4503915309906006,
          5.73074197769165,
          5.418217658996582,
          8.919268608093262,
          7.2742228507995605,
          6.524328708648682,
          12.004866600036621,
          2.1209590435028076,
          9.03126335144043,
          2.4539685249328613,
          9.20640754699707
         ],
         "xaxis": "x",
         "y": [
          4.5966339111328125,
          4.471343517303467,
          7.556538105010986,
          7.444118022918701,
          2.3934686183929443,
          2.38840389251709,
          4.7146501541137695,
          8.718300819396973,
          2.15128231048584,
          0.36120522022247314,
          6.068656921386719,
          6.0909624099731445,
          2.3932039737701416,
          3.3702170848846436,
          3.266247510910034,
          3.3599095344543457,
          5.144280433654785,
          4.792705535888672,
          4.33783483505249,
          4.736603736877441,
          4.885361194610596,
          5.803260326385498,
          1.7109262943267822,
          4.659897327423096,
          7.237977027893066,
          7.539041519165039,
          7.112823486328125,
          4.004868984222412,
          6.108987331390381,
          2.903594970703125,
          2.9816503524780273,
          3.2107317447662354,
          2.359675168991089,
          2.3844871520996094,
          2.3499529361724854,
          8.993233680725098,
          8.664554595947266,
          8.691901206970215,
          7.447596073150635,
          2.4396374225616455,
          2.282987117767334,
          2.65187931060791,
          3.6339619159698486,
          7.872960090637207,
          1.6672122478485107,
          1.7667702436447144,
          5.548862457275391,
          5.45551061630249,
          5.421224117279053,
          5.376983642578125,
          0.3791757822036743,
          0.27575981616973877,
          0.08151330053806305,
          3.08432674407959,
          3.5351450443267822,
          3.2473835945129395,
          3.6537744998931885,
          8.542137145996094,
          2.281325101852417,
          1.931288480758667,
          5.984267711639404,
          5.086288928985596,
          3.4611520767211914,
          8.459428787231445,
          8.872657775878906,
          7.574798583984375,
          2.284296989440918,
          4.077601432800293,
          8.60150146484375,
          4.044712066650391,
          8.780915260314941
         ],
         "yaxis": "y"
        },
        {
         "hovertemplate": "partyname=MoDem/EM<br>0=%{x}<br>1=%{y}<extra></extra>",
         "legendgroup": "MoDem/EM",
         "marker": {
          "color": "orange",
          "symbol": "circle"
         },
         "mode": "markers",
         "name": "MoDem/EM",
         "showlegend": true,
         "type": "scattergl",
         "x": [
          8.013497352600098,
          5.517147064208984,
          5.238326072692871,
          4.351992607116699,
          4.645854473114014,
          4.692641735076904,
          7.1886491775512695,
          7.039273262023926,
          7.030696392059326,
          7.036007881164551,
          6.998823642730713,
          6.995437145233154,
          6.915642738342285,
          6.873530864715576,
          6.841412544250488,
          6.88314151763916,
          6.649087429046631,
          11.378874778747559,
          11.944426536560059,
          11.810588836669922,
          11.85376262664795,
          11.560636520385742,
          12.245715141296387,
          12.163411140441895,
          6.604902744293213,
          6.8577880859375,
          5.841412544250488,
          5.974585056304932,
          2.453765392303467,
          2.303046464920044,
          9.463165283203125,
          9.48992919921875,
          9.424501419067383,
          11.412293434143066,
          10.226332664489746,
          11.043092727661133,
          9.07889175415039,
          9.201504707336426,
          9.400753021240234,
          8.469271659851074,
          7.958724021911621,
          7.294104099273682,
          7.962220668792725,
          8.728672981262207,
          8.474069595336914,
          8.642735481262207,
          8.894747734069824,
          3.0312578678131104,
          3.288548469543457,
          2.0178844928741455,
          1.8736990690231323,
          1.5866684913635254,
          8.16984748840332,
          7.8720526695251465,
          7.9056477546691895,
          7.793216705322266,
          8.044172286987305,
          7.832490921020508,
          11.575820922851562,
          7.815556526184082,
          7.778463840484619,
          6.309925079345703,
          7.806680679321289,
          8.293013572692871,
          3.3182365894317627,
          2.059008836746216,
          1.9224835634231567,
          6.741423606872559,
          3.3758363723754883,
          7.227465629577637,
          6.8997039794921875,
          7.148898601531982,
          7.032958507537842,
          6.787936210632324,
          6.738190174102783,
          8.304622650146484,
          8.312823295593262,
          8.85924243927002,
          7.215801239013672,
          6.417850494384766,
          6.442661285400391,
          6.305828094482422,
          6.2735114097595215,
          8.299405097961426,
          7.279970169067383,
          8.460065841674805,
          8.821657180786133,
          9.44312858581543,
          7.318274974822998,
          9.094602584838867,
          11.9441556930542,
          11.398879051208496,
          11.350462913513184,
          11.545586585998535,
          12.198803901672363,
          12.202651977539062,
          12.31311321258545,
          12.1336030960083,
          10.546205520629883,
          10.094017028808594,
          10.296743392944336,
          12.10521411895752,
          4.242221832275391,
          10.3985013961792,
          2.456855535507202,
          5.889187335968018,
          5.912303447723389,
          5.476960182189941,
          8.173470497131348,
          8.259148597717285,
          6.238466262817383,
          5.466122627258301,
          5.603526592254639,
          5.185323715209961,
          6.4829020500183105,
          2.3798208236694336,
          1.9966022968292236,
          11.724143981933594,
          11.711393356323242,
          11.729254722595215,
          12.280852317810059,
          12.279150009155273,
          7.159039497375488,
          8.373119354248047,
          9.323643684387207,
          8.652487754821777,
          7.336935520172119,
          8.795281410217285,
          9.166056632995605,
          7.5459818840026855,
          7.208105564117432,
          8.427484512329102,
          6.780339241027832,
          1.6377633810043335,
          9.413375854492188,
          4.578768253326416,
          5.859371662139893,
          5.49061393737793,
          4.508469581604004,
          4.253721714019775,
          6.449739456176758,
          5.853941440582275,
          6.421530246734619,
          2.880845069885254,
          2.886159658432007,
          7.276170253753662,
          9.3589506149292,
          12.010355949401855,
          8.871098518371582,
          6.849458694458008,
          7.183044910430908,
          3.0706706047058105,
          6.416858196258545
         ],
         "xaxis": "x",
         "y": [
          5.094388008117676,
          2.7830817699432373,
          3.0509238243103027,
          2.23323655128479,
          3.1307332515716553,
          3.448362350463867,
          2.3603882789611816,
          2.3815958499908447,
          4.515868663787842,
          4.5399489402771,
          4.8366312980651855,
          4.686481952667236,
          3.394538640975952,
          3.6910879611968994,
          3.652118682861328,
          3.5869150161743164,
          3.859769105911255,
          2.7866010665893555,
          2.6965677738189697,
          2.6463418006896973,
          2.7798237800598145,
          3.017465353012085,
          1.8784104585647583,
          1.356441617012024,
          7.247718811035156,
          6.961400985717773,
          6.629576206207275,
          7.408680438995361,
          6.332152366638184,
          6.17949914932251,
          6.762826919555664,
          6.807298183441162,
          6.7896928787231445,
          2.9941999912261963,
          0.30978575348854065,
          0.08345363289117813,
          2.4855570793151855,
          2.134296417236328,
          2.276160955429077,
          1.662785291671753,
          5.972250938415527,
          9.015061378479004,
          5.858627796173096,
          7.427698135375977,
          7.807957172393799,
          8.451345443725586,
          8.57130241394043,
          4.392865180969238,
          3.12553334236145,
          3.8487861156463623,
          5.992878437042236,
          4.520873069763184,
          3.981229543685913,
          4.392330169677734,
          4.0756144523620605,
          4.915268421173096,
          5.830697059631348,
          5.509251117706299,
          3.4992024898529053,
          5.393265247344971,
          6.078598499298096,
          5.440232753753662,
          5.5713114738464355,
          6.083099842071533,
          4.268157958984375,
          4.202568531036377,
          4.044999122619629,
          2.773104667663574,
          4.09922456741333,
          2.526779890060425,
          2.756676435470581,
          2.319322109222412,
          2.736741542816162,
          3.7796385288238525,
          3.8103902339935303,
          1.7570562362670898,
          1.738609790802002,
          1.917600154876709,
          2.450449228286743,
          7.8011322021484375,
          7.201533317565918,
          6.886787414550781,
          7.469751834869385,
          7.821983337402344,
          6.6185479164123535,
          7.982542514801025,
          8.58126449584961,
          6.513058185577393,
          8.956734657287598,
          6.879753589630127,
          1.3754463195800781,
          2.8900363445281982,
          2.926198959350586,
          3.241610050201416,
          1.9734801054000854,
          1.992583155632019,
          1.8501765727996826,
          1.429750919342041,
          0.28617092967033386,
          0.42415615916252136,
          0.23101526498794556,
          1.909658670425415,
          2.2152271270751953,
          5.468362808227539,
          5.848916053771973,
          2.864400863647461,
          2.8812074661254883,
          2.9401121139526367,
          4.433027267456055,
          4.855652809143066,
          5.655339241027832,
          5.437702655792236,
          5.974810600280762,
          5.5302581787109375,
          7.713128566741943,
          6.149069786071777,
          4.048026084899902,
          2.8858370780944824,
          2.873502016067505,
          2.218682050704956,
          1.7783528566360474,
          1.8104438781738281,
          6.603986740112305,
          7.884387493133545,
          8.875990867614746,
          8.090060234069824,
          8.97970962524414,
          5.48037576675415,
          5.286670684814453,
          2.587656021118164,
          2.4244680404663086,
          1.706871509552002,
          4.148403644561768,
          4.5440802574157715,
          2.36468243598938,
          3.222212791442871,
          2.8699398040771484,
          3.585681676864624,
          3.4902443885803223,
          2.018075704574585,
          7.194812297821045,
          7.141223907470703,
          7.719610691070557,
          4.499980449676514,
          4.546444892883301,
          6.238053321838379,
          2.335815906524658,
          2.4806947708129883,
          8.24731159210205,
          7.3628034591674805,
          2.23838210105896,
          5.7163405418396,
          5.678451061248779
         ],
         "yaxis": "y"
        },
        {
         "hovertemplate": "partyname=RPR/UMP/LR<br>0=%{x}<br>1=%{y}<extra></extra>",
         "legendgroup": "RPR/UMP/LR",
         "marker": {
          "color": "blue",
          "symbol": "circle"
         },
         "mode": "markers",
         "name": "RPR/UMP/LR",
         "showlegend": true,
         "type": "scattergl",
         "x": [
          7.460936069488525,
          9.33641529083252,
          6.560455322265625,
          12.06971263885498,
          8.898978233337402,
          3.6043713092803955,
          4.433750152587891,
          8.249756813049316,
          11.598040580749512,
          7.743584632873535,
          7.822862148284912,
          10.4378662109375,
          10.330702781677246,
          10.24212646484375,
          4.165002822875977,
          4.24476957321167,
          5.319965839385986,
          5.371880054473877,
          5.757848262786865,
          6.905150890350342,
          7.007023334503174,
          7.007059574127197,
          7.076774597167969,
          3.1393544673919678,
          3.175790309906006,
          2.0455641746520996,
          1.8372724056243896,
          1.9638659954071045,
          1.8030011653900146,
          9.288610458374023,
          8.793137550354004,
          8.43825626373291,
          8.830998420715332,
          11.527429580688477,
          11.735504150390625,
          11.700384140014648,
          7.985710144042969,
          8.139138221740723,
          6.65381383895874,
          6.422798156738281,
          6.486024856567383,
          6.569478988647461,
          6.390050411224365,
          6.644627571105957,
          5.846022129058838,
          2.3739545345306396,
          2.376831531524658,
          11.623689651489258,
          11.593484878540039,
          11.791354179382324,
          11.672358512878418,
          11.279876708984375,
          11.314220428466797,
          12.254502296447754,
          12.286649703979492,
          12.270848274230957,
          12.135001182556152,
          7.512979030609131,
          7.538695812225342,
          7.334778785705566,
          8.574529647827148,
          8.976714134216309,
          9.348775863647461,
          9.085227012634277,
          8.52496337890625,
          8.323333740234375,
          9.47419548034668,
          7.563881874084473,
          9.404825210571289,
          9.477784156799316,
          9.36133861541748,
          9.24317741394043,
          9.40476131439209,
          9.454376220703125,
          7.399267196655273,
          5.643797397613525,
          5.397702693939209,
          4.159577369689941,
          7.064774990081787,
          7.115628719329834,
          6.876682758331299,
          7.049218654632568,
          3.3144583702087402,
          1.9473615884780884,
          1.6322507858276367,
          1.9332242012023926,
          8.872469902038574,
          11.63178825378418,
          8.543136596679688,
          8.50487232208252,
          10.408036231994629,
          10.40691089630127,
          6.581448078155518,
          6.441267490386963,
          6.017107963562012,
          2.2284066677093506,
          2.321314573287964,
          6.993847370147705,
          9.048794746398926,
          11.75183391571045,
          11.41424560546875,
          12.284527778625488,
          12.318859100341797,
          12.109159469604492,
          10.058430671691895,
          10.067517280578613,
          11.010466575622559,
          11.031538963317871,
          7.2794575691223145,
          9.256782531738281,
          9.32766056060791,
          9.278818130493164,
          8.542474746704102,
          7.4726409912109375,
          7.366994857788086,
          9.239757537841797,
          9.462421417236328,
          9.38687801361084,
          9.35165023803711,
          6.328037738800049,
          5.584779262542725,
          2.54911732673645,
          7.762332439422607,
          8.521439552307129,
          7.313146114349365,
          7.41188907623291,
          9.073881149291992,
          11.602964401245117,
          11.25610065460205,
          9.577641487121582,
          11.903183937072754,
          11.773157119750977,
          9.312955856323242,
          9.114714622497559,
          10.486162185668945,
          3.2757015228271484,
          10.65216064453125,
          5.359136581420898,
          5.648836135864258,
          6.713635444641113,
          11.741199493408203,
          6.879737377166748,
          7.927748680114746,
          11.511655807495117,
          6.349503993988037,
          9.113302230834961,
          8.930350303649902,
          10.433196067810059,
          2.4303712844848633,
          8.942094802856445,
          8.671106338500977,
          3.266946315765381,
          6.721546173095703,
          6.921298503875732
         ],
         "xaxis": "x",
         "y": [
          2.7855122089385986,
          2.3965957164764404,
          7.485451698303223,
          2.414848804473877,
          8.428472518920898,
          4.554047107696533,
          3.332108974456787,
          4.6618194580078125,
          3.4818994998931885,
          5.740903854370117,
          5.661418914794922,
          5.437112331390381,
          5.471584796905518,
          0.34946414828300476,
          2.0681610107421875,
          2.188063621520996,
          3.2788753509521484,
          3.3850021362304688,
          3.0126218795776367,
          2.501314878463745,
          2.4266321659088135,
          2.856625556945801,
          4.7148637771606445,
          4.378028392791748,
          4.559115409851074,
          3.6611523628234863,
          4.153180122375488,
          4.070939540863037,
          5.844399929046631,
          1.961065411567688,
          1.8530186414718628,
          1.70368492603302,
          5.438549518585205,
          3.468234062194824,
          3.2950079441070557,
          3.220757246017456,
          5.805202960968018,
          5.712886333465576,
          7.1230597496032715,
          7.360021591186523,
          7.507444381713867,
          7.202150821685791,
          7.518208026885986,
          6.905854225158691,
          5.557966709136963,
          6.040096759796143,
          6.105063438415527,
          3.4327175617218018,
          2.9921414852142334,
          3.0227370262145996,
          3.069779634475708,
          2.8571393489837646,
          2.8797647953033447,
          1.9564847946166992,
          1.811424732208252,
          1.8499622344970703,
          1.4474482536315918,
          5.645305633544922,
          6.071817874908447,
          6.5437726974487305,
          8.086074829101562,
          8.65640926361084,
          8.898496627807617,
          8.661321640014648,
          8.315999031066895,
          7.673120975494385,
          6.774343967437744,
          8.73405933380127,
          6.7836198806762695,
          6.839969158172607,
          6.9204888343811035,
          6.29671573638916,
          6.575913906097412,
          6.599564552307129,
          8.893074035644531,
          3.174870729446411,
          3.5433764457702637,
          2.06754732131958,
          2.3364181518554688,
          2.2887048721313477,
          3.639113426208496,
          4.65599250793457,
          4.620086193084717,
          4.1397576332092285,
          4.347847938537598,
          5.861021995544434,
          5.373234748840332,
          3.33233380317688,
          1.802868127822876,
          1.70768404006958,
          5.464677333831787,
          5.4540534019470215,
          7.325433731079102,
          7.388838291168213,
          5.581221103668213,
          6.118721008300781,
          6.111683368682861,
          4.659149169921875,
          8.679789543151855,
          3.064668655395508,
          3.0013413429260254,
          1.9032268524169922,
          1.8062455654144287,
          1.4530870914459229,
          0.4681868851184845,
          0.46701622009277344,
          0.1226101964712143,
          0.07750175893306732,
          6.55473518371582,
          8.821211814880371,
          8.87713623046875,
          8.83808708190918,
          8.348172187805176,
          8.823758125305176,
          8.94441032409668,
          6.248435974121094,
          6.734520435333252,
          6.7964067459106445,
          6.497097015380859,
          7.262665271759033,
          5.380245685577393,
          5.667240619659424,
          5.6765336990356445,
          7.635623455047607,
          8.920197486877441,
          8.968525886535645,
          8.7537260055542,
          3.481504440307617,
          2.9401121139526367,
          6.741789817810059,
          2.9361000061035156,
          2.7669520378112793,
          2.109907865524292,
          2.1380503177642822,
          5.381192684173584,
          6.072434425354004,
          0.21540477871894836,
          3.5524473190307617,
          3.131348133087158,
          5.9196624755859375,
          3.2659900188446045,
          3.6370699405670166,
          4.260647296905518,
          2.9544873237609863,
          7.370506763458252,
          2.1961452960968018,
          2.770122766494751,
          5.456198692321777,
          4.060941219329834,
          8.090963363647461,
          8.143169403076172,
          6.054163932800293,
          6.701468467712402,
          2.6919891834259033
         ],
         "yaxis": "y"
        },
        {
         "hovertemplate": "partyname=FN<br>0=%{x}<br>1=%{y}<extra></extra>",
         "legendgroup": "FN",
         "marker": {
          "color": "darkslateblue",
          "symbol": "circle"
         },
         "mode": "markers",
         "name": "FN",
         "showlegend": true,
         "type": "scattergl",
         "x": [
          9.823217391967773,
          9.385555267333984,
          9.511324882507324,
          9.593192100524902,
          10.211376190185547,
          10.541963577270508,
          10.550660133361816,
          10.524260520935059,
          10.410781860351562,
          11.94433307647705,
          11.531231880187988,
          11.905674934387207,
          11.8610258102417,
          11.626051902770996,
          11.398272514343262,
          12.290006637573242,
          3.5977134704589844,
          3.1748461723327637,
          3.0914297103881836,
          2.7608983516693115,
          2.074124574661255,
          1.7708725929260254,
          2.1278064250946045,
          1.998500108718872,
          2.2330944538116455,
          4.46041202545166,
          5.881747722625732,
          5.4843549728393555,
          6.91536283493042,
          7.063691139221191,
          3.376667022705078,
          3.1696105003356934,
          3.1594369411468506,
          9.472976684570312,
          8.486032485961914,
          8.432268142700195,
          8.913761138916016,
          9.223745346069336,
          8.707303047180176,
          9.186493873596191,
          9.111654281616211,
          8.967669486999512,
          4.298165321350098,
          3.972053289413452,
          3.795358896255493,
          3.8766045570373535,
          3.8770437240600586,
          6.180448532104492,
          6.265092372894287,
          6.365176677703857,
          5.878997802734375,
          5.650201320648193,
          5.981733798980713,
          5.521338939666748,
          2.3555030822753906,
          2.428910732269287,
          2.042895555496216,
          2.0304856300354004,
          2.9691872596740723,
          6.134737968444824,
          5.933871746063232,
          6.187088489532471,
          6.2571868896484375,
          6.065464019775391,
          6.8826141357421875,
          6.560000419616699,
          6.053703784942627,
          7.303760051727295,
          7.864326000213623,
          8.812277793884277,
          8.887677192687988,
          8.477051734924316,
          8.620287895202637,
          9.096059799194336,
          9.350967407226562,
          9.258035659790039,
          9.153953552246094,
          9.231826782226562,
          9.467376708984375,
          10.271242141723633,
          10.154586791992188,
          10.220710754394531,
          10.202559471130371,
          11.010327339172363,
          7.8261003494262695,
          8.91262149810791,
          8.701518058776855,
          8.716135025024414,
          9.081538200378418,
          8.932520866394043,
          8.82481575012207,
          8.816625595092773,
          8.597710609436035,
          8.887965202331543,
          8.776327133178711,
          8.67109489440918,
          8.611703872680664,
          9.48147201538086,
          9.501376152038574,
          9.433043479919434,
          9.81638240814209,
          9.637796401977539,
          9.419320106506348,
          9.53465747833252,
          9.659530639648438,
          8.509586334228516,
          10.416804313659668,
          10.421594619750977,
          10.40899658203125,
          10.567112922668457,
          10.516425132751465,
          9.372039794921875,
          9.382181167602539,
          10.23985481262207,
          10.408896446228027,
          9.265316009521484,
          10.33596134185791,
          10.529426574707031,
          10.61363410949707,
          10.48460578918457,
          10.44740104675293,
          12.044716835021973,
          11.6644868850708,
          11.693923950195312,
          12.407480239868164,
          11.423421859741211,
          11.375676155090332,
          11.12822437286377,
          11.604867935180664,
          11.90772819519043,
          11.243621826171875,
          11.918862342834473,
          11.553431510925293,
          11.885470390319824,
          11.786691665649414,
          11.658857345581055,
          11.524165153503418,
          12.280704498291016,
          3.262054920196533,
          2.446336030960083,
          1.9736168384552002,
          2.0007266998291016,
          1.8352994918823242,
          1.8239223957061768,
          1.8421107530593872,
          3.6487772464752197,
          3.2944743633270264,
          3.057478666305542,
          2.6165504455566406,
          2.8348681926727295,
          2.7297816276550293,
          1.8111284971237183,
          1.767909049987793,
          2.001300811767578,
          2.0520882606506348,
          4.458035945892334,
          5.336637020111084,
          2.005326747894287,
          7.483206272125244,
          8.413484573364258,
          7.065670013427734,
          3.3248605728149414,
          3.576385259628296,
          3.2461185455322266,
          3.0845272541046143,
          9.390100479125977,
          9.401666641235352,
          9.3900728225708,
          9.27700138092041,
          8.499259948730469,
          8.682893753051758,
          8.586838722229004,
          8.70345401763916,
          9.264636039733887,
          9.290274620056152,
          9.417081832885742,
          8.37710189819336,
          8.626567840576172,
          9.323381423950195,
          8.472733497619629,
          9.024603843688965,
          9.121675491333008,
          9.03258991241455,
          3.9628829956054688,
          3.981567621231079,
          3.940037250518799,
          4.252558708190918,
          3.988746404647827,
          4.27587890625,
          4.021002769470215,
          3.8151094913482666,
          3.9014947414398193,
          3.9094252586364746,
          5.818974494934082,
          6.274887561798096,
          6.235665798187256,
          6.151336669921875,
          6.250068664550781,
          6.326099872589111,
          6.350709438323975,
          6.325880527496338,
          6.259701728820801,
          6.2563066482543945,
          6.244716644287109,
          6.290655612945557,
          5.9111223220825195,
          5.883116722106934,
          5.954251289367676,
          5.652789115905762,
          5.823102951049805,
          5.627557754516602,
          5.321871280670166,
          9.463847160339355,
          2.2041940689086914,
          2.566209077835083,
          2.482583999633789,
          2.461466073989868,
          2.4562041759490967,
          2.1718015670776367,
          2.365831136703491,
          2.1931045055389404,
          1.904239296913147,
          2.1448423862457275,
          2.0572376251220703,
          2.750075101852417,
          1.811306118965149,
          1.9150718450546265,
          2.2300426959991455,
          2.093937635421753,
          2.3737294673919678,
          2.4314348697662354,
          1.8595203161239624,
          2.2179410457611084,
          6.262834548950195,
          6.224274158477783,
          6.317799091339111,
          6.5856218338012695,
          5.9799041748046875,
          6.154603481292725,
          5.93752384185791,
          6.149160861968994,
          6.212522029876709,
          6.167181968688965,
          7.893679618835449,
          6.299973964691162,
          6.3391523361206055,
          6.245961666107178,
          7.177196979522705,
          7.927637577056885,
          6.916584014892578,
          6.539063453674316,
          6.054800033569336,
          6.125227928161621,
          8.763354301452637,
          8.901756286621094,
          8.471796989440918,
          8.442848205566406,
          8.456977844238281,
          8.469205856323242,
          9.14533519744873,
          8.686517715454102,
          9.433760643005371,
          9.407689094543457,
          9.25104808807373,
          9.247736930847168,
          8.501564025878906,
          8.524941444396973,
          8.998899459838867,
          9.3540620803833,
          9.238425254821777,
          9.129462242126465,
          9.18655014038086,
          9.3714599609375,
          10.217276573181152,
          10.24594497680664,
          10.28766918182373,
          10.109624862670898,
          10.192709922790527,
          10.16006088256836,
          10.212088584899902,
          10.175185203552246,
          10.162532806396484,
          10.249656677246094,
          10.218704223632812,
          10.999493598937988,
          8.54348087310791,
          9.188298225402832,
          7.589291572570801,
          7.550899028778076,
          7.660960674285889,
          7.88124418258667,
          8.270811080932617,
          6.282306671142578,
          6.025411128997803,
          10.505658149719238,
          9.237601280212402,
          8.576615333557129,
          8.600822448730469,
          7.0291595458984375,
          4.195439338684082,
          8.733872413635254,
          9.54250431060791,
          11.301128387451172,
          3.086867094039917,
          2.0265145301818848,
          7.910377025604248,
          9.302743911743164,
          10.518948554992676,
          6.895015239715576,
          9.08545970916748,
          6.257410049438477,
          8.702500343322754,
          11.476317405700684,
          10.976410865783691,
          4.070444583892822,
          2.518364906311035,
          2.4409592151641846,
          7.406494140625
         ],
         "xaxis": "x",
         "y": [
          6.350548267364502,
          6.840037822723389,
          6.711877346038818,
          6.5964765548706055,
          5.758418560028076,
          5.331073760986328,
          5.257383823394775,
          5.38886833190918,
          5.3965959548950195,
          2.9499855041503906,
          2.973999500274658,
          3.1420397758483887,
          2.7968335151672363,
          2.952821731567383,
          2.4999747276306152,
          1.7850499153137207,
          4.532617568969727,
          4.455334663391113,
          6.003632068634033,
          5.203780174255371,
          5.5392165184021,
          5.846473217010498,
          4.711505889892578,
          3.6779630184173584,
          3.8270413875579834,
          3.293274402618408,
          2.5362915992736816,
          2.878815174102783,
          3.811596155166626,
          4.381306171417236,
          3.021756649017334,
          3.318206787109375,
          3.433856248855591,
          2.346775770187378,
          1.7121130228042603,
          1.6511791944503784,
          1.777169942855835,
          2.0216073989868164,
          1.9119231700897217,
          2.280395746231079,
          2.537888288497925,
          2.5311732292175293,
          1.7795532941818237,
          1.8364843130111694,
          1.8696662187576294,
          1.8003978729248047,
          1.777592420578003,
          5.538475036621094,
          5.690207004547119,
          5.903425216674805,
          5.538245677947998,
          6.107603549957275,
          5.577678203582764,
          5.723703861236572,
          6.333945274353027,
          6.4000020027160645,
          6.1446757316589355,
          6.175050258636475,
          6.103335380554199,
          7.253633975982666,
          7.402100086212158,
          7.578383922576904,
          7.5941057205200195,
          7.6675848960876465,
          6.9598236083984375,
          6.761830806732178,
          7.530706405639648,
          6.29193639755249,
          6.039283752441406,
          7.512433052062988,
          7.8381853103637695,
          8.291388511657715,
          8.38722038269043,
          8.67050838470459,
          8.879164695739746,
          8.764625549316406,
          8.354355812072754,
          8.56289291381836,
          8.285074234008789,
          0.41498929262161255,
          0.9323279857635498,
          0.9047006964683533,
          0.7794032692909241,
          0.08695482462644577,
          2.718370199203491,
          3.9451076984405518,
          3.949324131011963,
          4.0043511390686035,
          3.8640317916870117,
          4.043670654296875,
          4.125659942626953,
          4.153120517730713,
          4.067629337310791,
          4.113953590393066,
          4.150389671325684,
          4.27609920501709,
          4.094688892364502,
          6.659626007080078,
          6.74689245223999,
          6.686473846435547,
          6.237210273742676,
          6.481964111328125,
          6.751499652862549,
          6.633970737457275,
          6.491093635559082,
          4.025670051574707,
          5.632974624633789,
          5.531284809112549,
          5.389394283294678,
          5.284451007843018,
          5.365680694580078,
          4.1182122230529785,
          2.036168336868286,
          5.597489833831787,
          5.499820232391357,
          4.001659870147705,
          5.555106163024902,
          5.339090347290039,
          5.187956809997559,
          5.398866176605225,
          5.489898204803467,
          2.9656198024749756,
          3.190858840942383,
          3.2602431774139404,
          1.944409728050232,
          2.967644691467285,
          2.912646532058716,
          3.0079400539398193,
          2.9352715015411377,
          3.1273460388183594,
          2.9537487030029297,
          2.911356210708618,
          2.9948079586029053,
          3.0334019660949707,
          2.8041861057281494,
          2.9559319019317627,
          2.588785409927368,
          1.8291327953338623,
          4.499227046966553,
          5.326686859130859,
          3.817685842514038,
          3.653294563293457,
          6.075755596160889,
          5.998218536376953,
          5.745837211608887,
          4.482248306274414,
          4.4151692390441895,
          4.72493839263916,
          5.3163161277771,
          5.461726188659668,
          5.185111999511719,
          5.7799882888793945,
          5.922607421875,
          3.9184577465057373,
          3.578394889831543,
          3.156987428665161,
          2.7989726066589355,
          6.390273094177246,
          2.635715961456299,
          4.0191802978515625,
          4.495917320251465,
          3.166923999786377,
          3.113497495651245,
          3.22025990486145,
          3.4767141342163086,
          2.041327953338623,
          2.0198278427124023,
          2.0955147743225098,
          1.9343236684799194,
          1.8787864446640015,
          1.755914330482483,
          1.770843744277954,
          1.8544367551803589,
          1.9964276552200317,
          1.9905651807785034,
          2.144818067550659,
          1.691070556640625,
          1.73078191280365,
          2.048311471939087,
          1.883017897605896,
          2.0572659969329834,
          2.433382034301758,
          2.536795139312744,
          1.6695125102996826,
          1.6566565036773682,
          1.6794638633728027,
          1.6915231943130493,
          1.9951198101043701,
          2.069488048553467,
          1.8714178800582886,
          1.8895888328552246,
          1.7656279802322388,
          1.7170547246932983,
          5.304988861083984,
          6.857133388519287,
          5.436655521392822,
          5.697887897491455,
          5.736592769622803,
          5.716776371002197,
          5.789439678192139,
          5.750245571136475,
          5.478233814239502,
          5.6430487632751465,
          5.727603912353516,
          5.864896297454834,
          5.451151371002197,
          5.485366344451904,
          5.619783878326416,
          6.061532974243164,
          5.653801441192627,
          5.65410852432251,
          5.6829118728637695,
          0.7868282794952393,
          6.279919624328613,
          6.278550148010254,
          6.405792236328125,
          6.369018077850342,
          6.404941558837891,
          6.372398853302002,
          6.217503547668457,
          6.427698612213135,
          6.286777973175049,
          6.429345607757568,
          6.29586935043335,
          6.22260856628418,
          6.144838333129883,
          6.152308464050293,
          6.2321977615356445,
          6.210588455200195,
          6.39315128326416,
          6.420679092407227,
          6.090487003326416,
          6.246177673339844,
          7.234532833099365,
          7.271559715270996,
          7.109170436859131,
          7.222826957702637,
          7.457930564880371,
          7.319130897521973,
          7.375481128692627,
          7.5778117179870605,
          7.650552272796631,
          7.640754222869873,
          4.980296611785889,
          7.0926995277404785,
          7.069136619567871,
          7.094645023345947,
          6.490055561065674,
          5.945010662078857,
          6.978865623474121,
          6.747107982635498,
          7.517882823944092,
          5.439957141876221,
          7.484567642211914,
          7.990175724029541,
          8.371231079101562,
          8.2443265914917,
          8.315621376037598,
          8.324647903442383,
          8.761919021606445,
          8.273791313171387,
          8.258498191833496,
          8.283381462097168,
          8.369979858398438,
          8.772685050964355,
          8.304231643676758,
          8.325777053833008,
          8.591835021972656,
          8.88106918334961,
          8.812416076660156,
          8.410101890563965,
          8.467649459838867,
          8.340877532958984,
          0.586097776889801,
          0.4871490001678467,
          0.4977046251296997,
          0.6687235832214355,
          0.7288888096809387,
          0.7220108509063721,
          0.6185867190361023,
          0.39401260018348694,
          0.9049735069274902,
          0.8351647257804871,
          0.7844417691230774,
          0.0850660502910614,
          4.062341213226318,
          3.945974349975586,
          2.3961267471313477,
          2.414785861968994,
          2.6727194786071777,
          2.8508622646331787,
          7.742009162902832,
          5.789958953857422,
          5.633249282836914,
          5.343707084655762,
          2.2606916427612305,
          1.7704532146453857,
          1.8111786842346191,
          4.4104437828063965,
          1.7965648174285889,
          8.402477264404297,
          6.592980861663818,
          3.0106582641601562,
          3.5469889640808105,
          3.6056811809539795,
          4.1384100914001465,
          2.2719693183898926,
          5.3353118896484375,
          7.075215816497803,
          8.640840530395508,
          5.721583366394043,
          7.6862969398498535,
          2.91896915435791,
          0.13797403872013092,
          1.6981102228164673,
          5.420586109161377,
          5.332715034484863,
          8.8345308303833
         ],
         "yaxis": "y"
        },
        {
         "hovertemplate": "partyname=PCF/PG/LFI<br>0=%{x}<br>1=%{y}<extra></extra>",
         "legendgroup": "PCF/PG/LFI",
         "marker": {
          "color": "red",
          "symbol": "circle"
         },
         "mode": "markers",
         "name": "PCF/PG/LFI",
         "showlegend": true,
         "type": "scattergl",
         "x": [
          8.006155014038086,
          8.01376724243164,
          6.988791465759277,
          7.017786979675293,
          6.89669132232666,
          7.385493755340576,
          8.869794845581055,
          7.416991233825684,
          7.062314033508301,
          2.405264377593994,
          12.136893272399902,
          9.989721298217773,
          9.187260627746582,
          9.480490684509277,
          10.281871795654297,
          9.105286598205566,
          2.4259932041168213,
          5.669550895690918,
          6.270094394683838,
          5.402255058288574,
          7.071173667907715,
          6.87156867980957,
          5.515365123748779,
          4.543031215667725,
          7.943228244781494,
          6.582037925720215,
          6.528179168701172,
          8.849971771240234,
          9.213749885559082,
          9.109685897827148,
          7.062524795532227,
          6.973340034484863,
          10.19314956665039,
          11.986295700073242,
          11.979177474975586,
          12.186135292053223,
          4.6439995765686035,
          4.705327033996582,
          4.131211280822754,
          4.464742183685303,
          7.078211784362793,
          6.942726135253906,
          7.073184490203857,
          7.139858245849609,
          6.518298625946045,
          6.48006534576416,
          7.656976222991943,
          7.36533260345459,
          7.403225898742676,
          8.673561096191406,
          9.138325691223145,
          9.034292221069336,
          8.924293518066406,
          6.753069877624512,
          7.080233573913574,
          5.426473617553711,
          3.2032058238983154,
          2.376753568649292,
          2.098281145095825,
          1.8431538343429565,
          1.8582981824874878,
          6.4825263023376465,
          2.51324462890625,
          2.472790002822876,
          2.452247142791748,
          9.107397079467773,
          9.40690803527832,
          8.961788177490234,
          8.728899955749512,
          7.129814624786377,
          6.693808555603027,
          7.101682186126709,
          5.488731861114502,
          5.806168556213379,
          5.1708292961120605,
          4.414154052734375,
          11.956830024719238,
          11.874893188476562,
          12.262147903442383,
          12.225502967834473,
          12.177696228027344,
          10.060137748718262,
          9.56352710723877,
          10.453436851501465,
          11.025276184082031,
          11.081050872802734,
          8.245643615722656,
          7.989555358886719,
          7.086552619934082,
          7.15741491317749,
          7.179392337799072,
          7.272032260894775,
          7.118144512176514,
          9.563896179199219,
          9.292823791503906,
          7.9011945724487305,
          3.461729049682617,
          8.604751586914062,
          8.87679672241211,
          9.06367015838623,
          9.122334480285645,
          2.5574557781219482,
          3.7702839374542236,
          2.1100494861602783,
          6.461955547332764,
          6.463802814483643,
          6.7326250076293945,
          6.363180160522461,
          6.961613655090332,
          7.489007472991943,
          7.339149475097656,
          6.355465412139893,
          3.1188931465148926,
          2.0592429637908936,
          1.8126202821731567,
          2.2109036445617676,
          1.8591893911361694,
          2.671858787536621,
          2.6964168548583984,
          5.841269016265869,
          5.780738830566406,
          4.304358959197998,
          10.29114818572998,
          4.403683185577393,
          8.894098281860352,
          9.033796310424805,
          9.083818435668945,
          8.812447547912598,
          9.200139999389648,
          11.637459754943848,
          11.851792335510254,
          12.314404487609863,
          12.13915729522705,
          10.773759841918945,
          11.01102352142334,
          3.2596282958984375,
          3.0053563117980957,
          3.2171216011047363,
          3.835430383682251
         ],
         "xaxis": "x",
         "y": [
          4.2970781326293945,
          4.5623955726623535,
          7.024381160736084,
          7.536871910095215,
          7.448685169219971,
          8.927038192749023,
          8.378117561340332,
          6.846950054168701,
          4.720321178436279,
          4.26857852935791,
          1.7186943292617798,
          0.5496475696563721,
          5.635810375213623,
          5.439830780029297,
          5.433839797973633,
          2.2454349994659424,
          6.107147693634033,
          3.112197160720825,
          5.72972297668457,
          5.304247856140137,
          2.5982587337493896,
          3.21171236038208,
          3.2178666591644287,
          3.276773691177368,
          4.300505638122559,
          7.696691036224365,
          7.877138614654541,
          8.090211868286133,
          5.622008323669434,
          5.57227897644043,
          2.8047125339508057,
          3.0949134826660156,
          0.2795335650444031,
          2.8421425819396973,
          2.856926202774048,
          1.482140302658081,
          3.18454909324646,
          3.1812474727630615,
          2.142796516418457,
          3.233473062515259,
          6.953255653381348,
          7.2155022621154785,
          6.982769012451172,
          6.96075963973999,
          7.736070156097412,
          7.768219947814941,
          8.56396198272705,
          8.931865692138672,
          8.856884956359863,
          8.420589447021484,
          8.752469062805176,
          8.61667251586914,
          8.479008674621582,
          4.831478118896484,
          4.701191425323486,
          5.255692958831787,
          4.322550296783447,
          3.8453383445739746,
          3.7606232166290283,
          4.558213710784912,
          4.622378826141357,
          7.1247477531433105,
          5.926015377044678,
          6.0701518058776855,
          6.063448905944824,
          5.236940383911133,
          5.546783447265625,
          5.430081844329834,
          2.7643449306488037,
          2.8520424365997314,
          3.672440767288208,
          2.7315597534179688,
          2.978685140609741,
          2.877713441848755,
          3.1529581546783447,
          3.3165435791015625,
          2.83923077583313,
          2.921595335006714,
          1.6207658052444458,
          1.4955997467041016,
          1.4611155986785889,
          0.4103837311267853,
          0.6800016760826111,
          0.2692424952983856,
          0.08122731000185013,
          0.024256529286503792,
          4.474969863891602,
          4.6284990310668945,
          2.700456142425537,
          2.5320866107940674,
          2.502182960510254,
          2.6082305908203125,
          2.5190699100494385,
          5.489087104797363,
          5.143561363220215,
          2.5922884941101074,
          4.094140529632568,
          1.793259620666504,
          2.629565715789795,
          2.479275703430176,
          2.467346668243408,
          5.669227123260498,
          4.46536922454834,
          4.171260356903076,
          7.85113000869751,
          7.7007951736450195,
          7.550625801086426,
          7.1504998207092285,
          7.065084457397461,
          6.704122066497803,
          8.937705993652344,
          5.813872814178467,
          4.284511566162109,
          3.743134021759033,
          4.170999526977539,
          5.503037929534912,
          5.8469014167785645,
          6.0432820320129395,
          5.105329990386963,
          3.051931381225586,
          2.973273515701294,
          1.8170137405395508,
          5.348179340362549,
          3.259775400161743,
          8.266857147216797,
          8.597641944885254,
          8.68201732635498,
          7.740171909332275,
          8.449764251708984,
          3.0837106704711914,
          2.6125781536102295,
          1.7528398036956787,
          1.8306492567062378,
          0.18928271532058716,
          0.07880157977342606,
          3.2975645065307617,
          3.5767321586608887,
          3.2949447631835938,
          1.8204433917999268
         ],
         "yaxis": "y"
        },
        {
         "marker": {
          "size": 15,
          "symbol": "star"
         },
         "mode": "markers+text",
         "name": "topic vector",
         "text": [
          "emploi",
          "scolaire",
          "agriculture",
          "citoyennete",
          "medical",
          "fiscal",
          "judiciaire",
          "parlement",
          "europeen",
          "environnemental",
          "energie",
          "mondialisation",
          "culturel",
          "social",
          "militaire",
          "public",
          "immigration",
          "familial",
          "logement",
          "regional",
          "discrimination",
          "maritime"
         ],
         "textfont": {
          "color": "Black",
          "family": "sans serif",
          "size": 20
         },
         "type": "scatter",
         "x": [
          6.4943671226501465,
          12.138753890991211,
          2.305198907852173,
          8.23253345489502,
          8.92005729675293,
          6.118252277374268,
          9.097939491271973,
          7.161445140838623,
          5.653763771057129,
          3.197244882583618,
          1.974828839302063,
          4.313600540161133,
          10.134815216064453,
          7.840487957000732,
          4.054792404174805,
          6.863800525665283,
          10.520031929016113,
          9.414239883422852,
          7.285373687744141,
          6.878932476043701,
          9.089238166809082,
          3.1423091888427734
         ],
         "y": [
          7.525529384613037,
          2.7260220050811768,
          6.200584888458252,
          4.399049282073975,
          8.682393074035645,
          5.74211311340332,
          2.1291160583496094,
          2.375234603881836,
          3.0494635105133057,
          4.424289226531982,
          3.927067995071411,
          3.4007930755615234,
          0.24069653451442719,
          5.947299003601074,
          1.749903678894043,
          4.564930438995361,
          5.391000270843506,
          6.770471572875977,
          9.076208114624023,
          3.7885191440582275,
          5.516501426696777,
          3.32462477684021
         ]
        }
       ],
       "layout": {
        "legend": {
         "title": {
          "text": "partyname"
         },
         "tracegroupgap": 0
        },
        "margin": {
         "t": 60
        },
        "template": {
         "data": {
          "bar": [
           {
            "error_x": {
             "color": "#2a3f5f"
            },
            "error_y": {
             "color": "#2a3f5f"
            },
            "marker": {
             "line": {
              "color": "#E5ECF6",
              "width": 0.5
             },
             "pattern": {
              "fillmode": "overlay",
              "size": 10,
              "solidity": 0.2
             }
            },
            "type": "bar"
           }
          ],
          "barpolar": [
           {
            "marker": {
             "line": {
              "color": "#E5ECF6",
              "width": 0.5
             },
             "pattern": {
              "fillmode": "overlay",
              "size": 10,
              "solidity": 0.2
             }
            },
            "type": "barpolar"
           }
          ],
          "carpet": [
           {
            "aaxis": {
             "endlinecolor": "#2a3f5f",
             "gridcolor": "white",
             "linecolor": "white",
             "minorgridcolor": "white",
             "startlinecolor": "#2a3f5f"
            },
            "baxis": {
             "endlinecolor": "#2a3f5f",
             "gridcolor": "white",
             "linecolor": "white",
             "minorgridcolor": "white",
             "startlinecolor": "#2a3f5f"
            },
            "type": "carpet"
           }
          ],
          "choropleth": [
           {
            "colorbar": {
             "outlinewidth": 0,
             "ticks": ""
            },
            "type": "choropleth"
           }
          ],
          "contour": [
           {
            "colorbar": {
             "outlinewidth": 0,
             "ticks": ""
            },
            "colorscale": [
             [
              0,
              "#0d0887"
             ],
             [
              0.1111111111111111,
              "#46039f"
             ],
             [
              0.2222222222222222,
              "#7201a8"
             ],
             [
              0.3333333333333333,
              "#9c179e"
             ],
             [
              0.4444444444444444,
              "#bd3786"
             ],
             [
              0.5555555555555556,
              "#d8576b"
             ],
             [
              0.6666666666666666,
              "#ed7953"
             ],
             [
              0.7777777777777778,
              "#fb9f3a"
             ],
             [
              0.8888888888888888,
              "#fdca26"
             ],
             [
              1,
              "#f0f921"
             ]
            ],
            "type": "contour"
           }
          ],
          "contourcarpet": [
           {
            "colorbar": {
             "outlinewidth": 0,
             "ticks": ""
            },
            "type": "contourcarpet"
           }
          ],
          "heatmap": [
           {
            "colorbar": {
             "outlinewidth": 0,
             "ticks": ""
            },
            "colorscale": [
             [
              0,
              "#0d0887"
             ],
             [
              0.1111111111111111,
              "#46039f"
             ],
             [
              0.2222222222222222,
              "#7201a8"
             ],
             [
              0.3333333333333333,
              "#9c179e"
             ],
             [
              0.4444444444444444,
              "#bd3786"
             ],
             [
              0.5555555555555556,
              "#d8576b"
             ],
             [
              0.6666666666666666,
              "#ed7953"
             ],
             [
              0.7777777777777778,
              "#fb9f3a"
             ],
             [
              0.8888888888888888,
              "#fdca26"
             ],
             [
              1,
              "#f0f921"
             ]
            ],
            "type": "heatmap"
           }
          ],
          "heatmapgl": [
           {
            "colorbar": {
             "outlinewidth": 0,
             "ticks": ""
            },
            "colorscale": [
             [
              0,
              "#0d0887"
             ],
             [
              0.1111111111111111,
              "#46039f"
             ],
             [
              0.2222222222222222,
              "#7201a8"
             ],
             [
              0.3333333333333333,
              "#9c179e"
             ],
             [
              0.4444444444444444,
              "#bd3786"
             ],
             [
              0.5555555555555556,
              "#d8576b"
             ],
             [
              0.6666666666666666,
              "#ed7953"
             ],
             [
              0.7777777777777778,
              "#fb9f3a"
             ],
             [
              0.8888888888888888,
              "#fdca26"
             ],
             [
              1,
              "#f0f921"
             ]
            ],
            "type": "heatmapgl"
           }
          ],
          "histogram": [
           {
            "marker": {
             "pattern": {
              "fillmode": "overlay",
              "size": 10,
              "solidity": 0.2
             }
            },
            "type": "histogram"
           }
          ],
          "histogram2d": [
           {
            "colorbar": {
             "outlinewidth": 0,
             "ticks": ""
            },
            "colorscale": [
             [
              0,
              "#0d0887"
             ],
             [
              0.1111111111111111,
              "#46039f"
             ],
             [
              0.2222222222222222,
              "#7201a8"
             ],
             [
              0.3333333333333333,
              "#9c179e"
             ],
             [
              0.4444444444444444,
              "#bd3786"
             ],
             [
              0.5555555555555556,
              "#d8576b"
             ],
             [
              0.6666666666666666,
              "#ed7953"
             ],
             [
              0.7777777777777778,
              "#fb9f3a"
             ],
             [
              0.8888888888888888,
              "#fdca26"
             ],
             [
              1,
              "#f0f921"
             ]
            ],
            "type": "histogram2d"
           }
          ],
          "histogram2dcontour": [
           {
            "colorbar": {
             "outlinewidth": 0,
             "ticks": ""
            },
            "colorscale": [
             [
              0,
              "#0d0887"
             ],
             [
              0.1111111111111111,
              "#46039f"
             ],
             [
              0.2222222222222222,
              "#7201a8"
             ],
             [
              0.3333333333333333,
              "#9c179e"
             ],
             [
              0.4444444444444444,
              "#bd3786"
             ],
             [
              0.5555555555555556,
              "#d8576b"
             ],
             [
              0.6666666666666666,
              "#ed7953"
             ],
             [
              0.7777777777777778,
              "#fb9f3a"
             ],
             [
              0.8888888888888888,
              "#fdca26"
             ],
             [
              1,
              "#f0f921"
             ]
            ],
            "type": "histogram2dcontour"
           }
          ],
          "mesh3d": [
           {
            "colorbar": {
             "outlinewidth": 0,
             "ticks": ""
            },
            "type": "mesh3d"
           }
          ],
          "parcoords": [
           {
            "line": {
             "colorbar": {
              "outlinewidth": 0,
              "ticks": ""
             }
            },
            "type": "parcoords"
           }
          ],
          "pie": [
           {
            "automargin": true,
            "type": "pie"
           }
          ],
          "scatter": [
           {
            "marker": {
             "colorbar": {
              "outlinewidth": 0,
              "ticks": ""
             }
            },
            "type": "scatter"
           }
          ],
          "scatter3d": [
           {
            "line": {
             "colorbar": {
              "outlinewidth": 0,
              "ticks": ""
             }
            },
            "marker": {
             "colorbar": {
              "outlinewidth": 0,
              "ticks": ""
             }
            },
            "type": "scatter3d"
           }
          ],
          "scattercarpet": [
           {
            "marker": {
             "colorbar": {
              "outlinewidth": 0,
              "ticks": ""
             }
            },
            "type": "scattercarpet"
           }
          ],
          "scattergeo": [
           {
            "marker": {
             "colorbar": {
              "outlinewidth": 0,
              "ticks": ""
             }
            },
            "type": "scattergeo"
           }
          ],
          "scattergl": [
           {
            "marker": {
             "colorbar": {
              "outlinewidth": 0,
              "ticks": ""
             }
            },
            "type": "scattergl"
           }
          ],
          "scattermapbox": [
           {
            "marker": {
             "colorbar": {
              "outlinewidth": 0,
              "ticks": ""
             }
            },
            "type": "scattermapbox"
           }
          ],
          "scatterpolar": [
           {
            "marker": {
             "colorbar": {
              "outlinewidth": 0,
              "ticks": ""
             }
            },
            "type": "scatterpolar"
           }
          ],
          "scatterpolargl": [
           {
            "marker": {
             "colorbar": {
              "outlinewidth": 0,
              "ticks": ""
             }
            },
            "type": "scatterpolargl"
           }
          ],
          "scatterternary": [
           {
            "marker": {
             "colorbar": {
              "outlinewidth": 0,
              "ticks": ""
             }
            },
            "type": "scatterternary"
           }
          ],
          "surface": [
           {
            "colorbar": {
             "outlinewidth": 0,
             "ticks": ""
            },
            "colorscale": [
             [
              0,
              "#0d0887"
             ],
             [
              0.1111111111111111,
              "#46039f"
             ],
             [
              0.2222222222222222,
              "#7201a8"
             ],
             [
              0.3333333333333333,
              "#9c179e"
             ],
             [
              0.4444444444444444,
              "#bd3786"
             ],
             [
              0.5555555555555556,
              "#d8576b"
             ],
             [
              0.6666666666666666,
              "#ed7953"
             ],
             [
              0.7777777777777778,
              "#fb9f3a"
             ],
             [
              0.8888888888888888,
              "#fdca26"
             ],
             [
              1,
              "#f0f921"
             ]
            ],
            "type": "surface"
           }
          ],
          "table": [
           {
            "cells": {
             "fill": {
              "color": "#EBF0F8"
             },
             "line": {
              "color": "white"
             }
            },
            "header": {
             "fill": {
              "color": "#C8D4E3"
             },
             "line": {
              "color": "white"
             }
            },
            "type": "table"
           }
          ]
         },
         "layout": {
          "annotationdefaults": {
           "arrowcolor": "#2a3f5f",
           "arrowhead": 0,
           "arrowwidth": 1
          },
          "autotypenumbers": "strict",
          "coloraxis": {
           "colorbar": {
            "outlinewidth": 0,
            "ticks": ""
           }
          },
          "colorscale": {
           "diverging": [
            [
             0,
             "#8e0152"
            ],
            [
             0.1,
             "#c51b7d"
            ],
            [
             0.2,
             "#de77ae"
            ],
            [
             0.3,
             "#f1b6da"
            ],
            [
             0.4,
             "#fde0ef"
            ],
            [
             0.5,
             "#f7f7f7"
            ],
            [
             0.6,
             "#e6f5d0"
            ],
            [
             0.7,
             "#b8e186"
            ],
            [
             0.8,
             "#7fbc41"
            ],
            [
             0.9,
             "#4d9221"
            ],
            [
             1,
             "#276419"
            ]
           ],
           "sequential": [
            [
             0,
             "#0d0887"
            ],
            [
             0.1111111111111111,
             "#46039f"
            ],
            [
             0.2222222222222222,
             "#7201a8"
            ],
            [
             0.3333333333333333,
             "#9c179e"
            ],
            [
             0.4444444444444444,
             "#bd3786"
            ],
            [
             0.5555555555555556,
             "#d8576b"
            ],
            [
             0.6666666666666666,
             "#ed7953"
            ],
            [
             0.7777777777777778,
             "#fb9f3a"
            ],
            [
             0.8888888888888888,
             "#fdca26"
            ],
            [
             1,
             "#f0f921"
            ]
           ],
           "sequentialminus": [
            [
             0,
             "#0d0887"
            ],
            [
             0.1111111111111111,
             "#46039f"
            ],
            [
             0.2222222222222222,
             "#7201a8"
            ],
            [
             0.3333333333333333,
             "#9c179e"
            ],
            [
             0.4444444444444444,
             "#bd3786"
            ],
            [
             0.5555555555555556,
             "#d8576b"
            ],
            [
             0.6666666666666666,
             "#ed7953"
            ],
            [
             0.7777777777777778,
             "#fb9f3a"
            ],
            [
             0.8888888888888888,
             "#fdca26"
            ],
            [
             1,
             "#f0f921"
            ]
           ]
          },
          "colorway": [
           "#636efa",
           "#EF553B",
           "#00cc96",
           "#ab63fa",
           "#FFA15A",
           "#19d3f3",
           "#FF6692",
           "#B6E880",
           "#FF97FF",
           "#FECB52"
          ],
          "font": {
           "color": "#2a3f5f"
          },
          "geo": {
           "bgcolor": "white",
           "lakecolor": "white",
           "landcolor": "#E5ECF6",
           "showlakes": true,
           "showland": true,
           "subunitcolor": "white"
          },
          "hoverlabel": {
           "align": "left"
          },
          "hovermode": "closest",
          "mapbox": {
           "style": "light"
          },
          "paper_bgcolor": "white",
          "plot_bgcolor": "#E5ECF6",
          "polar": {
           "angularaxis": {
            "gridcolor": "white",
            "linecolor": "white",
            "ticks": ""
           },
           "bgcolor": "#E5ECF6",
           "radialaxis": {
            "gridcolor": "white",
            "linecolor": "white",
            "ticks": ""
           }
          },
          "scene": {
           "xaxis": {
            "backgroundcolor": "#E5ECF6",
            "gridcolor": "white",
            "gridwidth": 2,
            "linecolor": "white",
            "showbackground": true,
            "ticks": "",
            "zerolinecolor": "white"
           },
           "yaxis": {
            "backgroundcolor": "#E5ECF6",
            "gridcolor": "white",
            "gridwidth": 2,
            "linecolor": "white",
            "showbackground": true,
            "ticks": "",
            "zerolinecolor": "white"
           },
           "zaxis": {
            "backgroundcolor": "#E5ECF6",
            "gridcolor": "white",
            "gridwidth": 2,
            "linecolor": "white",
            "showbackground": true,
            "ticks": "",
            "zerolinecolor": "white"
           }
          },
          "shapedefaults": {
           "line": {
            "color": "#2a3f5f"
           }
          },
          "ternary": {
           "aaxis": {
            "gridcolor": "white",
            "linecolor": "white",
            "ticks": ""
           },
           "baxis": {
            "gridcolor": "white",
            "linecolor": "white",
            "ticks": ""
           },
           "bgcolor": "#E5ECF6",
           "caxis": {
            "gridcolor": "white",
            "linecolor": "white",
            "ticks": ""
           }
          },
          "title": {
           "x": 0.05
          },
          "xaxis": {
           "automargin": true,
           "gridcolor": "white",
           "linecolor": "white",
           "ticks": "",
           "title": {
            "standoff": 15
           },
           "zerolinecolor": "white",
           "zerolinewidth": 2
          },
          "yaxis": {
           "automargin": true,
           "gridcolor": "white",
           "linecolor": "white",
           "ticks": "",
           "title": {
            "standoff": 15
           },
           "zerolinecolor": "white",
           "zerolinewidth": 2
          }
         }
        },
        "xaxis": {
         "anchor": "y",
         "domain": [
          0,
          1
         ],
         "title": {
          "text": "0"
         }
        },
        "yaxis": {
         "anchor": "x",
         "domain": [
          0,
          1
         ],
         "title": {
          "text": "1"
         }
        }
       }
      },
      "text/html": [
       "<div>                            <div id=\"3dc2c88d-959c-44a4-9d19-708fcd565752\" class=\"plotly-graph-div\" style=\"height:525px; width:100%;\"></div>            <script type=\"text/javascript\">                require([\"plotly\"], function(Plotly) {                    window.PLOTLYENV=window.PLOTLYENV || {};                                    if (document.getElementById(\"3dc2c88d-959c-44a4-9d19-708fcd565752\")) {                    Plotly.newPlot(                        \"3dc2c88d-959c-44a4-9d19-708fcd565752\",                        [{\"hovertemplate\":\"partyname=EELV<br>0=%{x}<br>1=%{y}<extra></extra>\",\"legendgroup\":\"EELV\",\"marker\":{\"color\":\"green\",\"symbol\":\"circle\"},\"mode\":\"markers\",\"name\":\"EELV\",\"showlegend\":true,\"type\":\"scattergl\",\"x\":[8.151793479919434,8.04996109008789,6.383235931396484,6.304250717163086,9.314896583557129,1.9966233968734741,7.1901960372924805,6.798958778381348,7.26473331451416,7.997786998748779,3.1803252696990967,8.06480598449707,3.406771659851074,5.747872352600098,4.534438610076904,2.1328420639038086,2.003648519515991,1.9473249912261963,1.888427734375,1.8407279253005981,1.9325648546218872,1.9420239925384521,2.4678308963775635,2.949314832687378,3.805264949798584,2.6016299724578857,8.943641662597656,9.148146629333496,8.75493335723877,8.895631790161133,3.115359306335449,2.799025058746338,2.487196683883667,6.1740217208862305,7.224407196044922,2.048985481262207,7.025674819946289,6.995089530944824,6.2691216468811035,7.2112956047058105,6.441394805908203,6.640719413757324,6.21541166305542,6.083262920379639,6.325669765472412,6.057455062866211,8.963695526123047,7.886861801147461,6.749274730682373,11.63090705871582,11.604863166809082,7.235465049743652,9.210817337036133,9.471556663513184,8.5873384475708,8.906261444091797,9.084283828735352,9.161432266235352,9.195428848266602,9.21684455871582,9.258883476257324,9.32874870300293,6.680204391479492,10.026824951171875,10.473979949951172,7.335842609405518,7.371886730194092,7.264286994934082,11.71053409576416,11.806600570678711,11.95335578918457,11.470850944519043,11.880230903625488,11.941308975219727,11.639845848083496,12.296480178833008,12.342568397521973,12.1944580078125,12.22474479675293,10.256559371948242,10.266027450561523,10.135540008544922,10.183247566223145,10.023612022399902,9.981142044067383,6.883716583251953,7.1330790519714355,7.4691267013549805,7.486794948577881,6.78759765625,6.754891395568848,7.018395900726318,7.028787136077881,6.741504669189453,6.760261058807373,5.5902204513549805,3.15537691116333,3.2461228370666504,3.0449743270874023,5.43662691116333,4.490396976470947,4.59016752243042,2.2886838912963867,5.718583583831787,4.24945592880249,3.8907341957092285,4.106535911560059,2.4037466049194336,1.8918778896331787,1.790414571762085,2.0396599769592285,1.9373424053192139,1.871944546699524,1.9443862438201904,3.29658842086792,1.891830563545227,2.57320499420166,2.2253024578094482,2.268932342529297,2.5394809246063232,2.2431867122650146,2.2742581367492676,8.956518173217773,9.068656921386719,9.085772514343262,8.616817474365234,7.334150791168213,7.340609073638916,7.300991535186768,2.3888025283813477,5.503620147705078,6.649520397186279,6.523651123046875,6.499660968780518,6.957170486450195,6.311837196350098,7.128233909606934,11.748489379882812,2.9275243282318115,3.025458812713623,2.5523581504821777,2.7868683338165283,2.483290195465088,11.831074714660645,11.918375968933105,11.915558815002441,12.331363677978516,12.313506126403809,12.213326454162598,8.188164710998535,10.993946075439453,10.027843475341797,9.746038436889648,9.279245376586914,9.22098445892334,8.733528137207031,8.739177703857422,10.268449783325195,8.563799858093262,9.512189865112305,9.046587944030762,8.287765502929688,7.4298577308654785,7.086361408233643,7.36208438873291,6.91382360458374,6.856992721557617,6.91539192199707,6.981507301330566,3.1905646324157715,6.023783206939697,5.659872531890869,5.3295512199401855,4.703784465789795,3.4552550315856934,3.889509439468384,4.2103986740112305,4.182319164276123,3.9397425651550293,8.217702865600586,7.912448883056641,1.9715502262115479,8.91572380065918,1.9070374965667725,8.829581260681152,6.333041191101074,7.094137668609619],\"xaxis\":\"x\",\"y\":[4.497936725616455,4.450077533721924,5.849808216094971,7.085636615753174,2.4938201904296875,3.9468235969543457,2.6162760257720947,3.635728120803833,2.2108500003814697,4.384531021118164,4.168829441070557,4.760521411895752,4.593922138214111,3.210836410522461,3.3098831176757812,3.803290367126465,3.6692676544189453,3.966475009918213,3.9618396759033203,3.9740941524505615,6.114397048950195,6.06257438659668,6.069531440734863,6.057868480682373,4.83275842666626,5.108053207397461,8.544702529907227,8.828764915466309,8.596266746520996,8.644248962402344,5.777635097503662,5.449347019195557,4.245352268218994,5.7300920486450195,9.031679153442383,4.162611484527588,4.759711742401123,4.488455772399902,7.1101202964782715,6.973288536071777,7.72036075592041,7.026784420013428,7.184549808502197,7.157520294189453,6.970718860626221,6.997589588165283,2.6262123584747314,6.052537441253662,4.729739665985107,3.192385196685791,3.1296908855438232,8.948787689208984,5.677009105682373,5.550217628479004,1.9887703657150269,2.0310823917388916,2.2539215087890625,5.606904983520508,6.4448418617248535,5.728724479675293,5.593137264251709,8.35810661315918,2.562310218811035,5.417998790740967,5.205565452575684,8.935020446777344,8.902891159057617,9.019786834716797,3.254575490951538,2.85440993309021,2.744683027267456,3.0862083435058594,2.6707451343536377,2.8950960636138916,2.9022128582000732,1.8762571811676025,1.9702531099319458,1.4112000465393066,1.4091086387634277,0.27127912640571594,0.2705118656158447,0.32722386717796326,0.2890649735927582,0.4379689693450928,0.3719595968723297,2.6350698471069336,2.4911978244781494,2.3561007976531982,2.3805246353149414,3.7296624183654785,3.762211561203003,3.005438804626465,2.916593074798584,3.7350192070007324,3.7898311614990234,3.0556297302246094,4.6487298011779785,3.196298837661743,3.55238676071167,3.5563762187957764,3.3015425205230713,3.2224464416503906,6.253575325012207,3.102715015411377,2.2535197734832764,1.9811930656433105,2.075929641723633,4.08916711807251,4.01133394241333,4.048880577087402,3.6902060508728027,4.040839195251465,3.960512638092041,5.713442325592041,4.844053745269775,5.7443156242370605,5.016243934631348,5.887400150299072,6.194713115692139,6.003407001495361,5.7901434898376465,5.967795372009277,8.732583045959473,8.586583137512207,8.242207527160645,7.828731536865234,8.925675392150879,8.953486442565918,8.96699047088623,4.5333099365234375,4.832940101623535,7.221803665161133,7.892261981964111,7.82928991317749,7.075392246246338,5.802076816558838,4.728845596313477,3.179274320602417,5.968863487243652,3.5748565196990967,5.352787494659424,5.565764904022217,4.90407133102417,3.1236376762390137,2.5875141620635986,2.839433193206787,1.797555685043335,1.7119477987289429,1.4302629232406616,7.637777805328369,0.08892209082841873,0.4399980902671814,0.548424243927002,6.411839008331299,5.573246479034424,7.569441795349121,5.611085414886475,5.360855579376221,1.6957526206970215,2.223102331161499,2.557462453842163,2.134100914001465,2.4225049018859863,2.319976329803467,2.278367519378662,3.5740244388580322,3.656135320663452,3.053678274154663,2.7958574295043945,4.447403430938721,2.7698605060577393,3.219308853149414,3.1861417293548584,3.262277126312256,4.348578453063965,2.0615713596343994,2.0957720279693604,2.104642629623413,1.9895415306091309,4.50933837890625,4.199944972991943,4.031407356262207,8.533353805541992,5.980106353759766,5.3829474449157715,5.792262554168701,3.005160331726074],\"yaxis\":\"y\"},{\"hovertemplate\":\"partyname=PS<br>0=%{x}<br>1=%{y}<extra></extra>\",\"legendgroup\":\"PS\",\"marker\":{\"color\":\"pink\",\"symbol\":\"circle\"},\"mode\":\"markers\",\"name\":\"PS\",\"showlegend\":true,\"type\":\"scattergl\",\"x\":[8.0618314743042,7.906888961791992,6.372367858886719,6.3206939697265625,9.41546630859375,9.534037590026855,7.073912620544434,7.609043121337891,12.096637725830078,10.393672943115234,8.149456977844238,3.1620216369628906,7.076258659362793,5.752514839172363,5.336710453033447,4.578388214111328,7.952371120452881,7.124863147735596,8.051962852478027,8.191089630126953,8.020140647888184,6.252797603607178,12.325529098510742,7.006687641143799,6.331668376922607,6.407217502593994,6.460241794586182,2.062429189682007,2.4028615951538086,11.629242897033691,11.543105125427246,11.813283920288086,9.439408302307129,9.34801197052002,9.497121810913086,7.275740623474121,9.036498069763184,9.011710166931152,8.58922290802002,7.129894256591797,7.290964603424072,6.910421848297119,6.932863712310791,6.4220428466796875,8.500279426574707,8.429651260375977,9.074177742004395,8.899492263793945,10.129250526428223,10.351639747619629,10.111123085021973,10.278899192810059,11.040776252746582,4.873534679412842,5.43842887878418,5.437697887420654,4.574934005737305,8.9912691116333,4.299655914306641,4.114866256713867,2.4503915309906006,5.73074197769165,5.418217658996582,8.919268608093262,7.2742228507995605,6.524328708648682,12.004866600036621,2.1209590435028076,9.03126335144043,2.4539685249328613,9.20640754699707],\"xaxis\":\"x\",\"y\":[4.5966339111328125,4.471343517303467,7.556538105010986,7.444118022918701,2.3934686183929443,2.38840389251709,4.7146501541137695,8.718300819396973,2.15128231048584,0.36120522022247314,6.068656921386719,6.0909624099731445,2.3932039737701416,3.3702170848846436,3.266247510910034,3.3599095344543457,5.144280433654785,4.792705535888672,4.33783483505249,4.736603736877441,4.885361194610596,5.803260326385498,1.7109262943267822,4.659897327423096,7.237977027893066,7.539041519165039,7.112823486328125,4.004868984222412,6.108987331390381,2.903594970703125,2.9816503524780273,3.2107317447662354,2.359675168991089,2.3844871520996094,2.3499529361724854,8.993233680725098,8.664554595947266,8.691901206970215,7.447596073150635,2.4396374225616455,2.282987117767334,2.65187931060791,3.6339619159698486,7.872960090637207,1.6672122478485107,1.7667702436447144,5.548862457275391,5.45551061630249,5.421224117279053,5.376983642578125,0.3791757822036743,0.27575981616973877,0.08151330053806305,3.08432674407959,3.5351450443267822,3.2473835945129395,3.6537744998931885,8.542137145996094,2.281325101852417,1.931288480758667,5.984267711639404,5.086288928985596,3.4611520767211914,8.459428787231445,8.872657775878906,7.574798583984375,2.284296989440918,4.077601432800293,8.60150146484375,4.044712066650391,8.780915260314941],\"yaxis\":\"y\"},{\"hovertemplate\":\"partyname=MoDem/EM<br>0=%{x}<br>1=%{y}<extra></extra>\",\"legendgroup\":\"MoDem/EM\",\"marker\":{\"color\":\"orange\",\"symbol\":\"circle\"},\"mode\":\"markers\",\"name\":\"MoDem/EM\",\"showlegend\":true,\"type\":\"scattergl\",\"x\":[8.013497352600098,5.517147064208984,5.238326072692871,4.351992607116699,4.645854473114014,4.692641735076904,7.1886491775512695,7.039273262023926,7.030696392059326,7.036007881164551,6.998823642730713,6.995437145233154,6.915642738342285,6.873530864715576,6.841412544250488,6.88314151763916,6.649087429046631,11.378874778747559,11.944426536560059,11.810588836669922,11.85376262664795,11.560636520385742,12.245715141296387,12.163411140441895,6.604902744293213,6.8577880859375,5.841412544250488,5.974585056304932,2.453765392303467,2.303046464920044,9.463165283203125,9.48992919921875,9.424501419067383,11.412293434143066,10.226332664489746,11.043092727661133,9.07889175415039,9.201504707336426,9.400753021240234,8.469271659851074,7.958724021911621,7.294104099273682,7.962220668792725,8.728672981262207,8.474069595336914,8.642735481262207,8.894747734069824,3.0312578678131104,3.288548469543457,2.0178844928741455,1.8736990690231323,1.5866684913635254,8.16984748840332,7.8720526695251465,7.9056477546691895,7.793216705322266,8.044172286987305,7.832490921020508,11.575820922851562,7.815556526184082,7.778463840484619,6.309925079345703,7.806680679321289,8.293013572692871,3.3182365894317627,2.059008836746216,1.9224835634231567,6.741423606872559,3.3758363723754883,7.227465629577637,6.8997039794921875,7.148898601531982,7.032958507537842,6.787936210632324,6.738190174102783,8.304622650146484,8.312823295593262,8.85924243927002,7.215801239013672,6.417850494384766,6.442661285400391,6.305828094482422,6.2735114097595215,8.299405097961426,7.279970169067383,8.460065841674805,8.821657180786133,9.44312858581543,7.318274974822998,9.094602584838867,11.9441556930542,11.398879051208496,11.350462913513184,11.545586585998535,12.198803901672363,12.202651977539062,12.31311321258545,12.1336030960083,10.546205520629883,10.094017028808594,10.296743392944336,12.10521411895752,4.242221832275391,10.3985013961792,2.456855535507202,5.889187335968018,5.912303447723389,5.476960182189941,8.173470497131348,8.259148597717285,6.238466262817383,5.466122627258301,5.603526592254639,5.185323715209961,6.4829020500183105,2.3798208236694336,1.9966022968292236,11.724143981933594,11.711393356323242,11.729254722595215,12.280852317810059,12.279150009155273,7.159039497375488,8.373119354248047,9.323643684387207,8.652487754821777,7.336935520172119,8.795281410217285,9.166056632995605,7.5459818840026855,7.208105564117432,8.427484512329102,6.780339241027832,1.6377633810043335,9.413375854492188,4.578768253326416,5.859371662139893,5.49061393737793,4.508469581604004,4.253721714019775,6.449739456176758,5.853941440582275,6.421530246734619,2.880845069885254,2.886159658432007,7.276170253753662,9.3589506149292,12.010355949401855,8.871098518371582,6.849458694458008,7.183044910430908,3.0706706047058105,6.416858196258545],\"xaxis\":\"x\",\"y\":[5.094388008117676,2.7830817699432373,3.0509238243103027,2.23323655128479,3.1307332515716553,3.448362350463867,2.3603882789611816,2.3815958499908447,4.515868663787842,4.5399489402771,4.8366312980651855,4.686481952667236,3.394538640975952,3.6910879611968994,3.652118682861328,3.5869150161743164,3.859769105911255,2.7866010665893555,2.6965677738189697,2.6463418006896973,2.7798237800598145,3.017465353012085,1.8784104585647583,1.356441617012024,7.247718811035156,6.961400985717773,6.629576206207275,7.408680438995361,6.332152366638184,6.17949914932251,6.762826919555664,6.807298183441162,6.7896928787231445,2.9941999912261963,0.30978575348854065,0.08345363289117813,2.4855570793151855,2.134296417236328,2.276160955429077,1.662785291671753,5.972250938415527,9.015061378479004,5.858627796173096,7.427698135375977,7.807957172393799,8.451345443725586,8.57130241394043,4.392865180969238,3.12553334236145,3.8487861156463623,5.992878437042236,4.520873069763184,3.981229543685913,4.392330169677734,4.0756144523620605,4.915268421173096,5.830697059631348,5.509251117706299,3.4992024898529053,5.393265247344971,6.078598499298096,5.440232753753662,5.5713114738464355,6.083099842071533,4.268157958984375,4.202568531036377,4.044999122619629,2.773104667663574,4.09922456741333,2.526779890060425,2.756676435470581,2.319322109222412,2.736741542816162,3.7796385288238525,3.8103902339935303,1.7570562362670898,1.738609790802002,1.917600154876709,2.450449228286743,7.8011322021484375,7.201533317565918,6.886787414550781,7.469751834869385,7.821983337402344,6.6185479164123535,7.982542514801025,8.58126449584961,6.513058185577393,8.956734657287598,6.879753589630127,1.3754463195800781,2.8900363445281982,2.926198959350586,3.241610050201416,1.9734801054000854,1.992583155632019,1.8501765727996826,1.429750919342041,0.28617092967033386,0.42415615916252136,0.23101526498794556,1.909658670425415,2.2152271270751953,5.468362808227539,5.848916053771973,2.864400863647461,2.8812074661254883,2.9401121139526367,4.433027267456055,4.855652809143066,5.655339241027832,5.437702655792236,5.974810600280762,5.5302581787109375,7.713128566741943,6.149069786071777,4.048026084899902,2.8858370780944824,2.873502016067505,2.218682050704956,1.7783528566360474,1.8104438781738281,6.603986740112305,7.884387493133545,8.875990867614746,8.090060234069824,8.97970962524414,5.48037576675415,5.286670684814453,2.587656021118164,2.4244680404663086,1.706871509552002,4.148403644561768,4.5440802574157715,2.36468243598938,3.222212791442871,2.8699398040771484,3.585681676864624,3.4902443885803223,2.018075704574585,7.194812297821045,7.141223907470703,7.719610691070557,4.499980449676514,4.546444892883301,6.238053321838379,2.335815906524658,2.4806947708129883,8.24731159210205,7.3628034591674805,2.23838210105896,5.7163405418396,5.678451061248779],\"yaxis\":\"y\"},{\"hovertemplate\":\"partyname=RPR/UMP/LR<br>0=%{x}<br>1=%{y}<extra></extra>\",\"legendgroup\":\"RPR/UMP/LR\",\"marker\":{\"color\":\"blue\",\"symbol\":\"circle\"},\"mode\":\"markers\",\"name\":\"RPR/UMP/LR\",\"showlegend\":true,\"type\":\"scattergl\",\"x\":[7.460936069488525,9.33641529083252,6.560455322265625,12.06971263885498,8.898978233337402,3.6043713092803955,4.433750152587891,8.249756813049316,11.598040580749512,7.743584632873535,7.822862148284912,10.4378662109375,10.330702781677246,10.24212646484375,4.165002822875977,4.24476957321167,5.319965839385986,5.371880054473877,5.757848262786865,6.905150890350342,7.007023334503174,7.007059574127197,7.076774597167969,3.1393544673919678,3.175790309906006,2.0455641746520996,1.8372724056243896,1.9638659954071045,1.8030011653900146,9.288610458374023,8.793137550354004,8.43825626373291,8.830998420715332,11.527429580688477,11.735504150390625,11.700384140014648,7.985710144042969,8.139138221740723,6.65381383895874,6.422798156738281,6.486024856567383,6.569478988647461,6.390050411224365,6.644627571105957,5.846022129058838,2.3739545345306396,2.376831531524658,11.623689651489258,11.593484878540039,11.791354179382324,11.672358512878418,11.279876708984375,11.314220428466797,12.254502296447754,12.286649703979492,12.270848274230957,12.135001182556152,7.512979030609131,7.538695812225342,7.334778785705566,8.574529647827148,8.976714134216309,9.348775863647461,9.085227012634277,8.52496337890625,8.323333740234375,9.47419548034668,7.563881874084473,9.404825210571289,9.477784156799316,9.36133861541748,9.24317741394043,9.40476131439209,9.454376220703125,7.399267196655273,5.643797397613525,5.397702693939209,4.159577369689941,7.064774990081787,7.115628719329834,6.876682758331299,7.049218654632568,3.3144583702087402,1.9473615884780884,1.6322507858276367,1.9332242012023926,8.872469902038574,11.63178825378418,8.543136596679688,8.50487232208252,10.408036231994629,10.40691089630127,6.581448078155518,6.441267490386963,6.017107963562012,2.2284066677093506,2.321314573287964,6.993847370147705,9.048794746398926,11.75183391571045,11.41424560546875,12.284527778625488,12.318859100341797,12.109159469604492,10.058430671691895,10.067517280578613,11.010466575622559,11.031538963317871,7.2794575691223145,9.256782531738281,9.32766056060791,9.278818130493164,8.542474746704102,7.4726409912109375,7.366994857788086,9.239757537841797,9.462421417236328,9.38687801361084,9.35165023803711,6.328037738800049,5.584779262542725,2.54911732673645,7.762332439422607,8.521439552307129,7.313146114349365,7.41188907623291,9.073881149291992,11.602964401245117,11.25610065460205,9.577641487121582,11.903183937072754,11.773157119750977,9.312955856323242,9.114714622497559,10.486162185668945,3.2757015228271484,10.65216064453125,5.359136581420898,5.648836135864258,6.713635444641113,11.741199493408203,6.879737377166748,7.927748680114746,11.511655807495117,6.349503993988037,9.113302230834961,8.930350303649902,10.433196067810059,2.4303712844848633,8.942094802856445,8.671106338500977,3.266946315765381,6.721546173095703,6.921298503875732],\"xaxis\":\"x\",\"y\":[2.7855122089385986,2.3965957164764404,7.485451698303223,2.414848804473877,8.428472518920898,4.554047107696533,3.332108974456787,4.6618194580078125,3.4818994998931885,5.740903854370117,5.661418914794922,5.437112331390381,5.471584796905518,0.34946414828300476,2.0681610107421875,2.188063621520996,3.2788753509521484,3.3850021362304688,3.0126218795776367,2.501314878463745,2.4266321659088135,2.856625556945801,4.7148637771606445,4.378028392791748,4.559115409851074,3.6611523628234863,4.153180122375488,4.070939540863037,5.844399929046631,1.961065411567688,1.8530186414718628,1.70368492603302,5.438549518585205,3.468234062194824,3.2950079441070557,3.220757246017456,5.805202960968018,5.712886333465576,7.1230597496032715,7.360021591186523,7.507444381713867,7.202150821685791,7.518208026885986,6.905854225158691,5.557966709136963,6.040096759796143,6.105063438415527,3.4327175617218018,2.9921414852142334,3.0227370262145996,3.069779634475708,2.8571393489837646,2.8797647953033447,1.9564847946166992,1.811424732208252,1.8499622344970703,1.4474482536315918,5.645305633544922,6.071817874908447,6.5437726974487305,8.086074829101562,8.65640926361084,8.898496627807617,8.661321640014648,8.315999031066895,7.673120975494385,6.774343967437744,8.73405933380127,6.7836198806762695,6.839969158172607,6.9204888343811035,6.29671573638916,6.575913906097412,6.599564552307129,8.893074035644531,3.174870729446411,3.5433764457702637,2.06754732131958,2.3364181518554688,2.2887048721313477,3.639113426208496,4.65599250793457,4.620086193084717,4.1397576332092285,4.347847938537598,5.861021995544434,5.373234748840332,3.33233380317688,1.802868127822876,1.70768404006958,5.464677333831787,5.4540534019470215,7.325433731079102,7.388838291168213,5.581221103668213,6.118721008300781,6.111683368682861,4.659149169921875,8.679789543151855,3.064668655395508,3.0013413429260254,1.9032268524169922,1.8062455654144287,1.4530870914459229,0.4681868851184845,0.46701622009277344,0.1226101964712143,0.07750175893306732,6.55473518371582,8.821211814880371,8.87713623046875,8.83808708190918,8.348172187805176,8.823758125305176,8.94441032409668,6.248435974121094,6.734520435333252,6.7964067459106445,6.497097015380859,7.262665271759033,5.380245685577393,5.667240619659424,5.6765336990356445,7.635623455047607,8.920197486877441,8.968525886535645,8.7537260055542,3.481504440307617,2.9401121139526367,6.741789817810059,2.9361000061035156,2.7669520378112793,2.109907865524292,2.1380503177642822,5.381192684173584,6.072434425354004,0.21540477871894836,3.5524473190307617,3.131348133087158,5.9196624755859375,3.2659900188446045,3.6370699405670166,4.260647296905518,2.9544873237609863,7.370506763458252,2.1961452960968018,2.770122766494751,5.456198692321777,4.060941219329834,8.090963363647461,8.143169403076172,6.054163932800293,6.701468467712402,2.6919891834259033],\"yaxis\":\"y\"},{\"hovertemplate\":\"partyname=FN<br>0=%{x}<br>1=%{y}<extra></extra>\",\"legendgroup\":\"FN\",\"marker\":{\"color\":\"darkslateblue\",\"symbol\":\"circle\"},\"mode\":\"markers\",\"name\":\"FN\",\"showlegend\":true,\"type\":\"scattergl\",\"x\":[9.823217391967773,9.385555267333984,9.511324882507324,9.593192100524902,10.211376190185547,10.541963577270508,10.550660133361816,10.524260520935059,10.410781860351562,11.94433307647705,11.531231880187988,11.905674934387207,11.8610258102417,11.626051902770996,11.398272514343262,12.290006637573242,3.5977134704589844,3.1748461723327637,3.0914297103881836,2.7608983516693115,2.074124574661255,1.7708725929260254,2.1278064250946045,1.998500108718872,2.2330944538116455,4.46041202545166,5.881747722625732,5.4843549728393555,6.91536283493042,7.063691139221191,3.376667022705078,3.1696105003356934,3.1594369411468506,9.472976684570312,8.486032485961914,8.432268142700195,8.913761138916016,9.223745346069336,8.707303047180176,9.186493873596191,9.111654281616211,8.967669486999512,4.298165321350098,3.972053289413452,3.795358896255493,3.8766045570373535,3.8770437240600586,6.180448532104492,6.265092372894287,6.365176677703857,5.878997802734375,5.650201320648193,5.981733798980713,5.521338939666748,2.3555030822753906,2.428910732269287,2.042895555496216,2.0304856300354004,2.9691872596740723,6.134737968444824,5.933871746063232,6.187088489532471,6.2571868896484375,6.065464019775391,6.8826141357421875,6.560000419616699,6.053703784942627,7.303760051727295,7.864326000213623,8.812277793884277,8.887677192687988,8.477051734924316,8.620287895202637,9.096059799194336,9.350967407226562,9.258035659790039,9.153953552246094,9.231826782226562,9.467376708984375,10.271242141723633,10.154586791992188,10.220710754394531,10.202559471130371,11.010327339172363,7.8261003494262695,8.91262149810791,8.701518058776855,8.716135025024414,9.081538200378418,8.932520866394043,8.82481575012207,8.816625595092773,8.597710609436035,8.887965202331543,8.776327133178711,8.67109489440918,8.611703872680664,9.48147201538086,9.501376152038574,9.433043479919434,9.81638240814209,9.637796401977539,9.419320106506348,9.53465747833252,9.659530639648438,8.509586334228516,10.416804313659668,10.421594619750977,10.40899658203125,10.567112922668457,10.516425132751465,9.372039794921875,9.382181167602539,10.23985481262207,10.408896446228027,9.265316009521484,10.33596134185791,10.529426574707031,10.61363410949707,10.48460578918457,10.44740104675293,12.044716835021973,11.6644868850708,11.693923950195312,12.407480239868164,11.423421859741211,11.375676155090332,11.12822437286377,11.604867935180664,11.90772819519043,11.243621826171875,11.918862342834473,11.553431510925293,11.885470390319824,11.786691665649414,11.658857345581055,11.524165153503418,12.280704498291016,3.262054920196533,2.446336030960083,1.9736168384552002,2.0007266998291016,1.8352994918823242,1.8239223957061768,1.8421107530593872,3.6487772464752197,3.2944743633270264,3.057478666305542,2.6165504455566406,2.8348681926727295,2.7297816276550293,1.8111284971237183,1.767909049987793,2.001300811767578,2.0520882606506348,4.458035945892334,5.336637020111084,2.005326747894287,7.483206272125244,8.413484573364258,7.065670013427734,3.3248605728149414,3.576385259628296,3.2461185455322266,3.0845272541046143,9.390100479125977,9.401666641235352,9.3900728225708,9.27700138092041,8.499259948730469,8.682893753051758,8.586838722229004,8.70345401763916,9.264636039733887,9.290274620056152,9.417081832885742,8.37710189819336,8.626567840576172,9.323381423950195,8.472733497619629,9.024603843688965,9.121675491333008,9.03258991241455,3.9628829956054688,3.981567621231079,3.940037250518799,4.252558708190918,3.988746404647827,4.27587890625,4.021002769470215,3.8151094913482666,3.9014947414398193,3.9094252586364746,5.818974494934082,6.274887561798096,6.235665798187256,6.151336669921875,6.250068664550781,6.326099872589111,6.350709438323975,6.325880527496338,6.259701728820801,6.2563066482543945,6.244716644287109,6.290655612945557,5.9111223220825195,5.883116722106934,5.954251289367676,5.652789115905762,5.823102951049805,5.627557754516602,5.321871280670166,9.463847160339355,2.2041940689086914,2.566209077835083,2.482583999633789,2.461466073989868,2.4562041759490967,2.1718015670776367,2.365831136703491,2.1931045055389404,1.904239296913147,2.1448423862457275,2.0572376251220703,2.750075101852417,1.811306118965149,1.9150718450546265,2.2300426959991455,2.093937635421753,2.3737294673919678,2.4314348697662354,1.8595203161239624,2.2179410457611084,6.262834548950195,6.224274158477783,6.317799091339111,6.5856218338012695,5.9799041748046875,6.154603481292725,5.93752384185791,6.149160861968994,6.212522029876709,6.167181968688965,7.893679618835449,6.299973964691162,6.3391523361206055,6.245961666107178,7.177196979522705,7.927637577056885,6.916584014892578,6.539063453674316,6.054800033569336,6.125227928161621,8.763354301452637,8.901756286621094,8.471796989440918,8.442848205566406,8.456977844238281,8.469205856323242,9.14533519744873,8.686517715454102,9.433760643005371,9.407689094543457,9.25104808807373,9.247736930847168,8.501564025878906,8.524941444396973,8.998899459838867,9.3540620803833,9.238425254821777,9.129462242126465,9.18655014038086,9.3714599609375,10.217276573181152,10.24594497680664,10.28766918182373,10.109624862670898,10.192709922790527,10.16006088256836,10.212088584899902,10.175185203552246,10.162532806396484,10.249656677246094,10.218704223632812,10.999493598937988,8.54348087310791,9.188298225402832,7.589291572570801,7.550899028778076,7.660960674285889,7.88124418258667,8.270811080932617,6.282306671142578,6.025411128997803,10.505658149719238,9.237601280212402,8.576615333557129,8.600822448730469,7.0291595458984375,4.195439338684082,8.733872413635254,9.54250431060791,11.301128387451172,3.086867094039917,2.0265145301818848,7.910377025604248,9.302743911743164,10.518948554992676,6.895015239715576,9.08545970916748,6.257410049438477,8.702500343322754,11.476317405700684,10.976410865783691,4.070444583892822,2.518364906311035,2.4409592151641846,7.406494140625],\"xaxis\":\"x\",\"y\":[6.350548267364502,6.840037822723389,6.711877346038818,6.5964765548706055,5.758418560028076,5.331073760986328,5.257383823394775,5.38886833190918,5.3965959548950195,2.9499855041503906,2.973999500274658,3.1420397758483887,2.7968335151672363,2.952821731567383,2.4999747276306152,1.7850499153137207,4.532617568969727,4.455334663391113,6.003632068634033,5.203780174255371,5.5392165184021,5.846473217010498,4.711505889892578,3.6779630184173584,3.8270413875579834,3.293274402618408,2.5362915992736816,2.878815174102783,3.811596155166626,4.381306171417236,3.021756649017334,3.318206787109375,3.433856248855591,2.346775770187378,1.7121130228042603,1.6511791944503784,1.777169942855835,2.0216073989868164,1.9119231700897217,2.280395746231079,2.537888288497925,2.5311732292175293,1.7795532941818237,1.8364843130111694,1.8696662187576294,1.8003978729248047,1.777592420578003,5.538475036621094,5.690207004547119,5.903425216674805,5.538245677947998,6.107603549957275,5.577678203582764,5.723703861236572,6.333945274353027,6.4000020027160645,6.1446757316589355,6.175050258636475,6.103335380554199,7.253633975982666,7.402100086212158,7.578383922576904,7.5941057205200195,7.6675848960876465,6.9598236083984375,6.761830806732178,7.530706405639648,6.29193639755249,6.039283752441406,7.512433052062988,7.8381853103637695,8.291388511657715,8.38722038269043,8.67050838470459,8.879164695739746,8.764625549316406,8.354355812072754,8.56289291381836,8.285074234008789,0.41498929262161255,0.9323279857635498,0.9047006964683533,0.7794032692909241,0.08695482462644577,2.718370199203491,3.9451076984405518,3.949324131011963,4.0043511390686035,3.8640317916870117,4.043670654296875,4.125659942626953,4.153120517730713,4.067629337310791,4.113953590393066,4.150389671325684,4.27609920501709,4.094688892364502,6.659626007080078,6.74689245223999,6.686473846435547,6.237210273742676,6.481964111328125,6.751499652862549,6.633970737457275,6.491093635559082,4.025670051574707,5.632974624633789,5.531284809112549,5.389394283294678,5.284451007843018,5.365680694580078,4.1182122230529785,2.036168336868286,5.597489833831787,5.499820232391357,4.001659870147705,5.555106163024902,5.339090347290039,5.187956809997559,5.398866176605225,5.489898204803467,2.9656198024749756,3.190858840942383,3.2602431774139404,1.944409728050232,2.967644691467285,2.912646532058716,3.0079400539398193,2.9352715015411377,3.1273460388183594,2.9537487030029297,2.911356210708618,2.9948079586029053,3.0334019660949707,2.8041861057281494,2.9559319019317627,2.588785409927368,1.8291327953338623,4.499227046966553,5.326686859130859,3.817685842514038,3.653294563293457,6.075755596160889,5.998218536376953,5.745837211608887,4.482248306274414,4.4151692390441895,4.72493839263916,5.3163161277771,5.461726188659668,5.185111999511719,5.7799882888793945,5.922607421875,3.9184577465057373,3.578394889831543,3.156987428665161,2.7989726066589355,6.390273094177246,2.635715961456299,4.0191802978515625,4.495917320251465,3.166923999786377,3.113497495651245,3.22025990486145,3.4767141342163086,2.041327953338623,2.0198278427124023,2.0955147743225098,1.9343236684799194,1.8787864446640015,1.755914330482483,1.770843744277954,1.8544367551803589,1.9964276552200317,1.9905651807785034,2.144818067550659,1.691070556640625,1.73078191280365,2.048311471939087,1.883017897605896,2.0572659969329834,2.433382034301758,2.536795139312744,1.6695125102996826,1.6566565036773682,1.6794638633728027,1.6915231943130493,1.9951198101043701,2.069488048553467,1.8714178800582886,1.8895888328552246,1.7656279802322388,1.7170547246932983,5.304988861083984,6.857133388519287,5.436655521392822,5.697887897491455,5.736592769622803,5.716776371002197,5.789439678192139,5.750245571136475,5.478233814239502,5.6430487632751465,5.727603912353516,5.864896297454834,5.451151371002197,5.485366344451904,5.619783878326416,6.061532974243164,5.653801441192627,5.65410852432251,5.6829118728637695,0.7868282794952393,6.279919624328613,6.278550148010254,6.405792236328125,6.369018077850342,6.404941558837891,6.372398853302002,6.217503547668457,6.427698612213135,6.286777973175049,6.429345607757568,6.29586935043335,6.22260856628418,6.144838333129883,6.152308464050293,6.2321977615356445,6.210588455200195,6.39315128326416,6.420679092407227,6.090487003326416,6.246177673339844,7.234532833099365,7.271559715270996,7.109170436859131,7.222826957702637,7.457930564880371,7.319130897521973,7.375481128692627,7.5778117179870605,7.650552272796631,7.640754222869873,4.980296611785889,7.0926995277404785,7.069136619567871,7.094645023345947,6.490055561065674,5.945010662078857,6.978865623474121,6.747107982635498,7.517882823944092,5.439957141876221,7.484567642211914,7.990175724029541,8.371231079101562,8.2443265914917,8.315621376037598,8.324647903442383,8.761919021606445,8.273791313171387,8.258498191833496,8.283381462097168,8.369979858398438,8.772685050964355,8.304231643676758,8.325777053833008,8.591835021972656,8.88106918334961,8.812416076660156,8.410101890563965,8.467649459838867,8.340877532958984,0.586097776889801,0.4871490001678467,0.4977046251296997,0.6687235832214355,0.7288888096809387,0.7220108509063721,0.6185867190361023,0.39401260018348694,0.9049735069274902,0.8351647257804871,0.7844417691230774,0.0850660502910614,4.062341213226318,3.945974349975586,2.3961267471313477,2.414785861968994,2.6727194786071777,2.8508622646331787,7.742009162902832,5.789958953857422,5.633249282836914,5.343707084655762,2.2606916427612305,1.7704532146453857,1.8111786842346191,4.4104437828063965,1.7965648174285889,8.402477264404297,6.592980861663818,3.0106582641601562,3.5469889640808105,3.6056811809539795,4.1384100914001465,2.2719693183898926,5.3353118896484375,7.075215816497803,8.640840530395508,5.721583366394043,7.6862969398498535,2.91896915435791,0.13797403872013092,1.6981102228164673,5.420586109161377,5.332715034484863,8.8345308303833],\"yaxis\":\"y\"},{\"hovertemplate\":\"partyname=PCF/PG/LFI<br>0=%{x}<br>1=%{y}<extra></extra>\",\"legendgroup\":\"PCF/PG/LFI\",\"marker\":{\"color\":\"red\",\"symbol\":\"circle\"},\"mode\":\"markers\",\"name\":\"PCF/PG/LFI\",\"showlegend\":true,\"type\":\"scattergl\",\"x\":[8.006155014038086,8.01376724243164,6.988791465759277,7.017786979675293,6.89669132232666,7.385493755340576,8.869794845581055,7.416991233825684,7.062314033508301,2.405264377593994,12.136893272399902,9.989721298217773,9.187260627746582,9.480490684509277,10.281871795654297,9.105286598205566,2.4259932041168213,5.669550895690918,6.270094394683838,5.402255058288574,7.071173667907715,6.87156867980957,5.515365123748779,4.543031215667725,7.943228244781494,6.582037925720215,6.528179168701172,8.849971771240234,9.213749885559082,9.109685897827148,7.062524795532227,6.973340034484863,10.19314956665039,11.986295700073242,11.979177474975586,12.186135292053223,4.6439995765686035,4.705327033996582,4.131211280822754,4.464742183685303,7.078211784362793,6.942726135253906,7.073184490203857,7.139858245849609,6.518298625946045,6.48006534576416,7.656976222991943,7.36533260345459,7.403225898742676,8.673561096191406,9.138325691223145,9.034292221069336,8.924293518066406,6.753069877624512,7.080233573913574,5.426473617553711,3.2032058238983154,2.376753568649292,2.098281145095825,1.8431538343429565,1.8582981824874878,6.4825263023376465,2.51324462890625,2.472790002822876,2.452247142791748,9.107397079467773,9.40690803527832,8.961788177490234,8.728899955749512,7.129814624786377,6.693808555603027,7.101682186126709,5.488731861114502,5.806168556213379,5.1708292961120605,4.414154052734375,11.956830024719238,11.874893188476562,12.262147903442383,12.225502967834473,12.177696228027344,10.060137748718262,9.56352710723877,10.453436851501465,11.025276184082031,11.081050872802734,8.245643615722656,7.989555358886719,7.086552619934082,7.15741491317749,7.179392337799072,7.272032260894775,7.118144512176514,9.563896179199219,9.292823791503906,7.9011945724487305,3.461729049682617,8.604751586914062,8.87679672241211,9.06367015838623,9.122334480285645,2.5574557781219482,3.7702839374542236,2.1100494861602783,6.461955547332764,6.463802814483643,6.7326250076293945,6.363180160522461,6.961613655090332,7.489007472991943,7.339149475097656,6.355465412139893,3.1188931465148926,2.0592429637908936,1.8126202821731567,2.2109036445617676,1.8591893911361694,2.671858787536621,2.6964168548583984,5.841269016265869,5.780738830566406,4.304358959197998,10.29114818572998,4.403683185577393,8.894098281860352,9.033796310424805,9.083818435668945,8.812447547912598,9.200139999389648,11.637459754943848,11.851792335510254,12.314404487609863,12.13915729522705,10.773759841918945,11.01102352142334,3.2596282958984375,3.0053563117980957,3.2171216011047363,3.835430383682251],\"xaxis\":\"x\",\"y\":[4.2970781326293945,4.5623955726623535,7.024381160736084,7.536871910095215,7.448685169219971,8.927038192749023,8.378117561340332,6.846950054168701,4.720321178436279,4.26857852935791,1.7186943292617798,0.5496475696563721,5.635810375213623,5.439830780029297,5.433839797973633,2.2454349994659424,6.107147693634033,3.112197160720825,5.72972297668457,5.304247856140137,2.5982587337493896,3.21171236038208,3.2178666591644287,3.276773691177368,4.300505638122559,7.696691036224365,7.877138614654541,8.090211868286133,5.622008323669434,5.57227897644043,2.8047125339508057,3.0949134826660156,0.2795335650444031,2.8421425819396973,2.856926202774048,1.482140302658081,3.18454909324646,3.1812474727630615,2.142796516418457,3.233473062515259,6.953255653381348,7.2155022621154785,6.982769012451172,6.96075963973999,7.736070156097412,7.768219947814941,8.56396198272705,8.931865692138672,8.856884956359863,8.420589447021484,8.752469062805176,8.61667251586914,8.479008674621582,4.831478118896484,4.701191425323486,5.255692958831787,4.322550296783447,3.8453383445739746,3.7606232166290283,4.558213710784912,4.622378826141357,7.1247477531433105,5.926015377044678,6.0701518058776855,6.063448905944824,5.236940383911133,5.546783447265625,5.430081844329834,2.7643449306488037,2.8520424365997314,3.672440767288208,2.7315597534179688,2.978685140609741,2.877713441848755,3.1529581546783447,3.3165435791015625,2.83923077583313,2.921595335006714,1.6207658052444458,1.4955997467041016,1.4611155986785889,0.4103837311267853,0.6800016760826111,0.2692424952983856,0.08122731000185013,0.024256529286503792,4.474969863891602,4.6284990310668945,2.700456142425537,2.5320866107940674,2.502182960510254,2.6082305908203125,2.5190699100494385,5.489087104797363,5.143561363220215,2.5922884941101074,4.094140529632568,1.793259620666504,2.629565715789795,2.479275703430176,2.467346668243408,5.669227123260498,4.46536922454834,4.171260356903076,7.85113000869751,7.7007951736450195,7.550625801086426,7.1504998207092285,7.065084457397461,6.704122066497803,8.937705993652344,5.813872814178467,4.284511566162109,3.743134021759033,4.170999526977539,5.503037929534912,5.8469014167785645,6.0432820320129395,5.105329990386963,3.051931381225586,2.973273515701294,1.8170137405395508,5.348179340362549,3.259775400161743,8.266857147216797,8.597641944885254,8.68201732635498,7.740171909332275,8.449764251708984,3.0837106704711914,2.6125781536102295,1.7528398036956787,1.8306492567062378,0.18928271532058716,0.07880157977342606,3.2975645065307617,3.5767321586608887,3.2949447631835938,1.8204433917999268],\"yaxis\":\"y\"},{\"marker\":{\"size\":15,\"symbol\":\"star\"},\"mode\":\"markers+text\",\"name\":\"topic vector\",\"text\":[\"emploi\",\"scolaire\",\"agriculture\",\"citoyennete\",\"medical\",\"fiscal\",\"judiciaire\",\"parlement\",\"europeen\",\"environnemental\",\"energie\",\"mondialisation\",\"culturel\",\"social\",\"militaire\",\"public\",\"immigration\",\"familial\",\"logement\",\"regional\",\"discrimination\",\"maritime\"],\"textfont\":{\"color\":\"Black\",\"family\":\"sans serif\",\"size\":20},\"type\":\"scatter\",\"x\":[6.4943671226501465,12.138753890991211,2.305198907852173,8.23253345489502,8.92005729675293,6.118252277374268,9.097939491271973,7.161445140838623,5.653763771057129,3.197244882583618,1.974828839302063,4.313600540161133,10.134815216064453,7.840487957000732,4.054792404174805,6.863800525665283,10.520031929016113,9.414239883422852,7.285373687744141,6.878932476043701,9.089238166809082,3.1423091888427734],\"y\":[7.525529384613037,2.7260220050811768,6.200584888458252,4.399049282073975,8.682393074035645,5.74211311340332,2.1291160583496094,2.375234603881836,3.0494635105133057,4.424289226531982,3.927067995071411,3.4007930755615234,0.24069653451442719,5.947299003601074,1.749903678894043,4.564930438995361,5.391000270843506,6.770471572875977,9.076208114624023,3.7885191440582275,5.516501426696777,3.32462477684021]}],                        {\"legend\":{\"title\":{\"text\":\"partyname\"},\"tracegroupgap\":0},\"margin\":{\"t\":60},\"template\":{\"data\":{\"bar\":[{\"error_x\":{\"color\":\"#2a3f5f\"},\"error_y\":{\"color\":\"#2a3f5f\"},\"marker\":{\"line\":{\"color\":\"#E5ECF6\",\"width\":0.5},\"pattern\":{\"fillmode\":\"overlay\",\"size\":10,\"solidity\":0.2}},\"type\":\"bar\"}],\"barpolar\":[{\"marker\":{\"line\":{\"color\":\"#E5ECF6\",\"width\":0.5},\"pattern\":{\"fillmode\":\"overlay\",\"size\":10,\"solidity\":0.2}},\"type\":\"barpolar\"}],\"carpet\":[{\"aaxis\":{\"endlinecolor\":\"#2a3f5f\",\"gridcolor\":\"white\",\"linecolor\":\"white\",\"minorgridcolor\":\"white\",\"startlinecolor\":\"#2a3f5f\"},\"baxis\":{\"endlinecolor\":\"#2a3f5f\",\"gridcolor\":\"white\",\"linecolor\":\"white\",\"minorgridcolor\":\"white\",\"startlinecolor\":\"#2a3f5f\"},\"type\":\"carpet\"}],\"choropleth\":[{\"colorbar\":{\"outlinewidth\":0,\"ticks\":\"\"},\"type\":\"choropleth\"}],\"contour\":[{\"colorbar\":{\"outlinewidth\":0,\"ticks\":\"\"},\"colorscale\":[[0.0,\"#0d0887\"],[0.1111111111111111,\"#46039f\"],[0.2222222222222222,\"#7201a8\"],[0.3333333333333333,\"#9c179e\"],[0.4444444444444444,\"#bd3786\"],[0.5555555555555556,\"#d8576b\"],[0.6666666666666666,\"#ed7953\"],[0.7777777777777778,\"#fb9f3a\"],[0.8888888888888888,\"#fdca26\"],[1.0,\"#f0f921\"]],\"type\":\"contour\"}],\"contourcarpet\":[{\"colorbar\":{\"outlinewidth\":0,\"ticks\":\"\"},\"type\":\"contourcarpet\"}],\"heatmap\":[{\"colorbar\":{\"outlinewidth\":0,\"ticks\":\"\"},\"colorscale\":[[0.0,\"#0d0887\"],[0.1111111111111111,\"#46039f\"],[0.2222222222222222,\"#7201a8\"],[0.3333333333333333,\"#9c179e\"],[0.4444444444444444,\"#bd3786\"],[0.5555555555555556,\"#d8576b\"],[0.6666666666666666,\"#ed7953\"],[0.7777777777777778,\"#fb9f3a\"],[0.8888888888888888,\"#fdca26\"],[1.0,\"#f0f921\"]],\"type\":\"heatmap\"}],\"heatmapgl\":[{\"colorbar\":{\"outlinewidth\":0,\"ticks\":\"\"},\"colorscale\":[[0.0,\"#0d0887\"],[0.1111111111111111,\"#46039f\"],[0.2222222222222222,\"#7201a8\"],[0.3333333333333333,\"#9c179e\"],[0.4444444444444444,\"#bd3786\"],[0.5555555555555556,\"#d8576b\"],[0.6666666666666666,\"#ed7953\"],[0.7777777777777778,\"#fb9f3a\"],[0.8888888888888888,\"#fdca26\"],[1.0,\"#f0f921\"]],\"type\":\"heatmapgl\"}],\"histogram\":[{\"marker\":{\"pattern\":{\"fillmode\":\"overlay\",\"size\":10,\"solidity\":0.2}},\"type\":\"histogram\"}],\"histogram2d\":[{\"colorbar\":{\"outlinewidth\":0,\"ticks\":\"\"},\"colorscale\":[[0.0,\"#0d0887\"],[0.1111111111111111,\"#46039f\"],[0.2222222222222222,\"#7201a8\"],[0.3333333333333333,\"#9c179e\"],[0.4444444444444444,\"#bd3786\"],[0.5555555555555556,\"#d8576b\"],[0.6666666666666666,\"#ed7953\"],[0.7777777777777778,\"#fb9f3a\"],[0.8888888888888888,\"#fdca26\"],[1.0,\"#f0f921\"]],\"type\":\"histogram2d\"}],\"histogram2dcontour\":[{\"colorbar\":{\"outlinewidth\":0,\"ticks\":\"\"},\"colorscale\":[[0.0,\"#0d0887\"],[0.1111111111111111,\"#46039f\"],[0.2222222222222222,\"#7201a8\"],[0.3333333333333333,\"#9c179e\"],[0.4444444444444444,\"#bd3786\"],[0.5555555555555556,\"#d8576b\"],[0.6666666666666666,\"#ed7953\"],[0.7777777777777778,\"#fb9f3a\"],[0.8888888888888888,\"#fdca26\"],[1.0,\"#f0f921\"]],\"type\":\"histogram2dcontour\"}],\"mesh3d\":[{\"colorbar\":{\"outlinewidth\":0,\"ticks\":\"\"},\"type\":\"mesh3d\"}],\"parcoords\":[{\"line\":{\"colorbar\":{\"outlinewidth\":0,\"ticks\":\"\"}},\"type\":\"parcoords\"}],\"pie\":[{\"automargin\":true,\"type\":\"pie\"}],\"scatter\":[{\"marker\":{\"colorbar\":{\"outlinewidth\":0,\"ticks\":\"\"}},\"type\":\"scatter\"}],\"scatter3d\":[{\"line\":{\"colorbar\":{\"outlinewidth\":0,\"ticks\":\"\"}},\"marker\":{\"colorbar\":{\"outlinewidth\":0,\"ticks\":\"\"}},\"type\":\"scatter3d\"}],\"scattercarpet\":[{\"marker\":{\"colorbar\":{\"outlinewidth\":0,\"ticks\":\"\"}},\"type\":\"scattercarpet\"}],\"scattergeo\":[{\"marker\":{\"colorbar\":{\"outlinewidth\":0,\"ticks\":\"\"}},\"type\":\"scattergeo\"}],\"scattergl\":[{\"marker\":{\"colorbar\":{\"outlinewidth\":0,\"ticks\":\"\"}},\"type\":\"scattergl\"}],\"scattermapbox\":[{\"marker\":{\"colorbar\":{\"outlinewidth\":0,\"ticks\":\"\"}},\"type\":\"scattermapbox\"}],\"scatterpolar\":[{\"marker\":{\"colorbar\":{\"outlinewidth\":0,\"ticks\":\"\"}},\"type\":\"scatterpolar\"}],\"scatterpolargl\":[{\"marker\":{\"colorbar\":{\"outlinewidth\":0,\"ticks\":\"\"}},\"type\":\"scatterpolargl\"}],\"scatterternary\":[{\"marker\":{\"colorbar\":{\"outlinewidth\":0,\"ticks\":\"\"}},\"type\":\"scatterternary\"}],\"surface\":[{\"colorbar\":{\"outlinewidth\":0,\"ticks\":\"\"},\"colorscale\":[[0.0,\"#0d0887\"],[0.1111111111111111,\"#46039f\"],[0.2222222222222222,\"#7201a8\"],[0.3333333333333333,\"#9c179e\"],[0.4444444444444444,\"#bd3786\"],[0.5555555555555556,\"#d8576b\"],[0.6666666666666666,\"#ed7953\"],[0.7777777777777778,\"#fb9f3a\"],[0.8888888888888888,\"#fdca26\"],[1.0,\"#f0f921\"]],\"type\":\"surface\"}],\"table\":[{\"cells\":{\"fill\":{\"color\":\"#EBF0F8\"},\"line\":{\"color\":\"white\"}},\"header\":{\"fill\":{\"color\":\"#C8D4E3\"},\"line\":{\"color\":\"white\"}},\"type\":\"table\"}]},\"layout\":{\"annotationdefaults\":{\"arrowcolor\":\"#2a3f5f\",\"arrowhead\":0,\"arrowwidth\":1},\"autotypenumbers\":\"strict\",\"coloraxis\":{\"colorbar\":{\"outlinewidth\":0,\"ticks\":\"\"}},\"colorscale\":{\"diverging\":[[0,\"#8e0152\"],[0.1,\"#c51b7d\"],[0.2,\"#de77ae\"],[0.3,\"#f1b6da\"],[0.4,\"#fde0ef\"],[0.5,\"#f7f7f7\"],[0.6,\"#e6f5d0\"],[0.7,\"#b8e186\"],[0.8,\"#7fbc41\"],[0.9,\"#4d9221\"],[1,\"#276419\"]],\"sequential\":[[0.0,\"#0d0887\"],[0.1111111111111111,\"#46039f\"],[0.2222222222222222,\"#7201a8\"],[0.3333333333333333,\"#9c179e\"],[0.4444444444444444,\"#bd3786\"],[0.5555555555555556,\"#d8576b\"],[0.6666666666666666,\"#ed7953\"],[0.7777777777777778,\"#fb9f3a\"],[0.8888888888888888,\"#fdca26\"],[1.0,\"#f0f921\"]],\"sequentialminus\":[[0.0,\"#0d0887\"],[0.1111111111111111,\"#46039f\"],[0.2222222222222222,\"#7201a8\"],[0.3333333333333333,\"#9c179e\"],[0.4444444444444444,\"#bd3786\"],[0.5555555555555556,\"#d8576b\"],[0.6666666666666666,\"#ed7953\"],[0.7777777777777778,\"#fb9f3a\"],[0.8888888888888888,\"#fdca26\"],[1.0,\"#f0f921\"]]},\"colorway\":[\"#636efa\",\"#EF553B\",\"#00cc96\",\"#ab63fa\",\"#FFA15A\",\"#19d3f3\",\"#FF6692\",\"#B6E880\",\"#FF97FF\",\"#FECB52\"],\"font\":{\"color\":\"#2a3f5f\"},\"geo\":{\"bgcolor\":\"white\",\"lakecolor\":\"white\",\"landcolor\":\"#E5ECF6\",\"showlakes\":true,\"showland\":true,\"subunitcolor\":\"white\"},\"hoverlabel\":{\"align\":\"left\"},\"hovermode\":\"closest\",\"mapbox\":{\"style\":\"light\"},\"paper_bgcolor\":\"white\",\"plot_bgcolor\":\"#E5ECF6\",\"polar\":{\"angularaxis\":{\"gridcolor\":\"white\",\"linecolor\":\"white\",\"ticks\":\"\"},\"bgcolor\":\"#E5ECF6\",\"radialaxis\":{\"gridcolor\":\"white\",\"linecolor\":\"white\",\"ticks\":\"\"}},\"scene\":{\"xaxis\":{\"backgroundcolor\":\"#E5ECF6\",\"gridcolor\":\"white\",\"gridwidth\":2,\"linecolor\":\"white\",\"showbackground\":true,\"ticks\":\"\",\"zerolinecolor\":\"white\"},\"yaxis\":{\"backgroundcolor\":\"#E5ECF6\",\"gridcolor\":\"white\",\"gridwidth\":2,\"linecolor\":\"white\",\"showbackground\":true,\"ticks\":\"\",\"zerolinecolor\":\"white\"},\"zaxis\":{\"backgroundcolor\":\"#E5ECF6\",\"gridcolor\":\"white\",\"gridwidth\":2,\"linecolor\":\"white\",\"showbackground\":true,\"ticks\":\"\",\"zerolinecolor\":\"white\"}},\"shapedefaults\":{\"line\":{\"color\":\"#2a3f5f\"}},\"ternary\":{\"aaxis\":{\"gridcolor\":\"white\",\"linecolor\":\"white\",\"ticks\":\"\"},\"baxis\":{\"gridcolor\":\"white\",\"linecolor\":\"white\",\"ticks\":\"\"},\"bgcolor\":\"#E5ECF6\",\"caxis\":{\"gridcolor\":\"white\",\"linecolor\":\"white\",\"ticks\":\"\"}},\"title\":{\"x\":0.05},\"xaxis\":{\"automargin\":true,\"gridcolor\":\"white\",\"linecolor\":\"white\",\"ticks\":\"\",\"title\":{\"standoff\":15},\"zerolinecolor\":\"white\",\"zerolinewidth\":2},\"yaxis\":{\"automargin\":true,\"gridcolor\":\"white\",\"linecolor\":\"white\",\"ticks\":\"\",\"title\":{\"standoff\":15},\"zerolinecolor\":\"white\",\"zerolinewidth\":2}}},\"xaxis\":{\"anchor\":\"y\",\"domain\":[0.0,1.0],\"title\":{\"text\":\"0\"}},\"yaxis\":{\"anchor\":\"x\",\"domain\":[0.0,1.0],\"title\":{\"text\":\"1\"}}},                        {\"responsive\": true}                    ).then(function(){\n",
       "                            \n",
       "var gd = document.getElementById('3dc2c88d-959c-44a4-9d19-708fcd565752');\n",
       "var x = new MutationObserver(function (mutations, observer) {{\n",
       "        var display = window.getComputedStyle(gd).display;\n",
       "        if (!display || display === 'none') {{\n",
       "            console.log([gd, 'removed!']);\n",
       "            Plotly.purge(gd);\n",
       "            observer.disconnect();\n",
       "        }}\n",
       "}});\n",
       "\n",
       "// Listen for the removal of the full notebook cells\n",
       "var notebookContainer = gd.closest('#notebook-container');\n",
       "if (notebookContainer) {{\n",
       "    x.observe(notebookContainer, {childList: true});\n",
       "}}\n",
       "\n",
       "// Listen for the clearing of the current output cell\n",
       "var outputEl = gd.closest('.output');\n",
       "if (outputEl) {{\n",
       "    x.observe(outputEl, {childList: true});\n",
       "}}\n",
       "\n",
       "                        })                };                });            </script>        </div>"
      ]
     },
     "metadata": {},
     "output_type": "display_data"
    }
   ],
   "source": [
    "fig = px.scatter(umap_embed,x=0,y=1,color='partyname',\n",
    "                 color_discrete_map=dict_color,\n",
    "                 #color_discrete_sequence=px.colors.qualitative.Light24\n",
    "                )\n",
    "\n",
    "fig.add_traces(go.Scatter(\n",
    "            x=topic_embed[:,0], y=topic_embed[:,1],\n",
    "            text=list(dict_topic.values()),\n",
    "            mode=\"markers+text\",\n",
    "            name='topic vector',\n",
    "            marker=dict(symbol='star', size=15),\n",
    "            textfont=dict(\n",
    "            family=\"sans serif\",\n",
    "            size=20,\n",
    "            color=\"Black\"))\n",
    "               \n",
    "                  )"
   ]
  },
  {
   "cell_type": "code",
   "execution_count": 812,
   "id": "afb2a19d",
   "metadata": {
    "scrolled": true
   },
   "outputs": [
    {
     "name": "stdout",
     "output_type": "stream",
     "text": [
      "---\n",
      "Topic 0\n",
      "---\n",
      "emploi, chomage, travailleur, salarier, employeur, salarie, salaire, precarite, remuneration, travail, fonctionnaire, syndical, retraite, economie, pension, syndicat, qualification, secteur, economique, social, societe, personnel, discrimination, entreprise, revenu, recrutement, effectif, republicain, profession, contrat, prestation, cotisation, reform, politique, republique, population, collective, statut, regroupement, reforme, droit, immigration, jeune, socialiste, existence, chercheur, augmentation, unique, reduction, penal\n",
      "---\n",
      "Topic 1\n",
      "---\n",
      "scolaire, education, enseignement, pedagogique, college, universite, enseignant, qualification, ecole, universitaire, educatif, classe, institution, republicain, nation, etudiant, primaire, republique, militaire, salaire, principal, formation, exigence, salarie, reforme, fonctionnaire, cours, reform, salarier, precarite, ressortissant, apprentissage, nationalite, quartier, citoyennete, national, cotisation, integration, remuneration, capital, constitution, unique, citoyen, dette, pays, niveau, parent, richesse, liberal, origine\n",
      "---\n",
      "Topic 2\n",
      "---\n",
      "agriculture, agricole, agriculteur, rural, campagne, ecologiste, environnemental, environnement, politique, ecologique, alimentaire, global, population, paysan, republicain, ecologie, terrain, regroupement, territoire, commune, economie, mondialisation, terre, remuneration, qualification, milieu, territorial, pays, scolaire, texte, pollution, proposition, climatique, economique, immigration, nature, nation, animal, projet, reforme, reform, citoyen, culture, cours, renouvelable, allocation, compte, fiscalite, salarier, europeen\n",
      "---\n",
      "Topic 3\n",
      "---\n",
      "citoyennete, citoyen, politique, democratique, republicain, nation, mondialisation, civilisation, liberal, socialiste, peuple, democratie, civique, nationalite, civil, constitution, election, societe, constitutionnel, social, national, souverainete, population, francais, republique, guerre, economie, referendum, generation, solidarite, violence, collectif, richesse, populaire, universel, commune, immigration, monde, culture, identite, reforme, regroupement, precarite, ressortissant, reform, gouvernement, vie, pays, regime, solidaire\n",
      "---\n",
      "Topic 4\n",
      "---\n",
      "medical, maladie, sanitaire, assurance, handicape, hopital, population, handicap, republicain, precarite, public, medecine, medecin, retraite, famille, politique, fonctionnaire, reform, patient, citoyen, proximite, quartier, citoyennete, nation, social, reforme, familial, salaire, logement, chomage, salarie, institution, pension, universite, scolaire, salarier, universel, economie, ville, solidaire, commune, economique, condition, necessaire, pays, milliard, gouvernement, taux, sante, populaire\n",
      "---\n",
      "Topic 5\n",
      "---\n",
      "fiscal, taxation, fiscalite, taxe, capital, citoyennete, economie, republicain, impot, citoyen, finance, revenu, constitution, financier, republique, richesse, financement, constitutionnel, institution, civique, socialiste, gouvernement, national, nation, francais, chomage, fonctionnaire, patrimoine, economique, innovation, souverainete, dette, famille, nationalite, cotisation, legislatif, penal, pension, mondialisation, entreprise, familial, administratif, pays, societe, reform, reforme, salaire, civil, riche, politique\n",
      "---\n",
      "Topic 6\n",
      "---\n",
      "judiciaire, magistrat, prison, penal, delinquance, justice, police, citoyennete, citoyen, mineur, fonctionnaire, violence, republique, civil, republicain, victime, court, quartier, juge, constitution, politique, militaire, constitutionnel, juridique, populaire, sanction, loi, scolaire, jeunesse, ressortissant, population, administratif, jeune, reforme, ministre, nation, civique, public, institution, reform, fiscalite, socialiste, liberal, regime, civilisation, francais, fiscal, merite, peuple, parlement\n",
      "---\n",
      "Topic 7\n",
      "---\n",
      "parlement, republicain, parlementaire, election, legislatif, citoyennete, referendum, constitution, constitutionnel, citoyen, republique, democratique, politique, democratie, scrutin, souverainete, magistrat, vote, peuple, president, socialiste, liberal, ministre, public, gouvernement, pouvoir, nation, reforme, civil, reform, population, populaire, national, regime, judiciaire, loi, commune, ministere, nationalite, dirigeant, fonctionnaire, administratif, juridique, campagne, representation, mandat, francais, regroupement, court, penal\n",
      "---\n",
      "Topic 8\n",
      "---\n",
      "europeen, referendum, politique, euro, citoyen, citoyennete, republique, mondialisation, constitution, constitutionnel, parlement, souverainete, republicain, reforme, regroupement, reform, democratique, parlementaire, nation, integration, civique, socialiste, peuple, election, economie, ressortissant, fiscalite, legislatif, notion, culture, fiscal, pression, independance, environnement, proposition, universel, institution, idee, public, environnemental, immigration, civilisation, liberal, collectif, culturel, financement, diversite, suppression, second, democratie\n",
      "---\n",
      "Topic 9\n",
      "---\n",
      "environnemental, environnement, ecologiste, ecologie, ecologique, citoyen, milieu, climatique, citoyennete, politique, pollution, economie, economique, global, renouvelable, election, civique, liberal, republicain, norme, nation, planete, civil, qualification, constitution, nature, agriculture, population, exigence, mondialisation, vote, constitutionnel, gouvernement, proposition, sanction, energetique, terre, democratique, fiscal, remuneration, naturel, republique, dirigeant, notion, organisation, civilisation, president, application, gaz, public\n",
      "---\n",
      "Topic 10\n",
      "---\n",
      "energie, energetique, environnemental, renouvelable, ecologiste, nucleaire, environnement, ecologique, ecologie, economique, climatique, citoyen, pollution, gaz, citoyennete, economie, global, republicain, nation, projet, milieu, referendum, proposition, election, credit, politique, public, notion, planete, commune, idee, habitant, investissement, pays, capital, universite, population, constitution, liberal, vote, logement, potentiel, consommation, gouvernement, financement, unique, national, parlement, origine, francais\n",
      "---\n",
      "Topic 11\n",
      "---\n",
      "mondialisation, international, global, mondial, financement, finance, financier, monde, politique, conflit, citoyen, citoyennete, fiscal, economie, negociation, nation, capital, fiscalite, civique, universel, pays, democratique, milliard, richesse, souverainete, interdir, liberal, solidaire, environnemental, guerre, solidarite, constitution, interet, constitutionnel, organisation, democratie, crise, republique, institution, integration, intervention, planete, euro, dette, universite, nucleaire, regroupement, fonds, violence, taxation\n",
      "---\n",
      "Topic 12\n",
      "---\n",
      "culturel, culture, artistique, civilisation, nation, sport, violence, financement, constitution, public, exigence, necessite, art, politique, constitutionnel, republicain, limite, qualification, ressortissant, reforme, civique, reform, valeur, republique, suppression, force, fiscalite, citoyennete, competence, nationalite, participation, citoyen, communautaire, institution, financier, patrimoine, remuneration, prelevement, commune, national, regroupement, agriculture, pays, campagne, objectif, indispensable, finance, salaire, sportif, capacite\n",
      "---\n",
      "Topic 13\n",
      "---\n",
      "social, solidarite, citoyennete, citoyen, societe, socialiste, solidaire, integration, precarite, nationalite, jeunesse, nation, population, regroupement, handicape, generation, civique, communautaire, qualification, associatif, jeune, prestation, politique, ressortissant, exigence, economie, handicap, republicain, existence, fonctionnaire, identite, famille, collectif, civil, association, familial, scolaire, cotisation, remuneration, retraite, liberal, dignite, francais, discrimination, delinquance, salaire, pension, republique, attribution, commune\n",
      "---\n",
      "Topic 14\n",
      "---\n",
      "militaire, armee, nucleaire, guerre, nation, defense, nationalite, citoyennete, national, citoyen, arme, constitutionnel, constitution, parlement, civil, mecanisme, politique, conflit, ressortissant, territoire, territorial, mondialisation, force, republicain, international, strategique, menace, recrutement, protection, projet, economie, solidaire, maritime, budgetaire, objet, objectif, financement, formation, francais, independance, etranger, assurance, universite, republique, civique, mission, contrat, negociation, universel, total\n",
      "---\n",
      "Topic 15\n",
      "---\n",
      "public, fonctionnaire, populaire, citoyen, citoyennete, commune, service, republicain, republique, gouvernement, population, prive, communaute, civil, general, universel, commun, election, prestation, socialiste, peuple, ressortissant, priver, politique, nation, liberal, communautaire, ministre, pouvoir, social, national, magistrat, salaire, territoire, transparence, ouverture, nationalite, militaire, secteur, administratif, ville, constitution, attribution, competence, regime, administration, referendum, constitutionnel, qualification, salarie\n",
      "---\n",
      "Topic 16\n",
      "---\n",
      "immigration, immigre, citoyennete, ressortissant, regroupement, citoyen, nationalite, etranger, frontiere, familial, identite, famille, origine, mondialisation, population, accueil, national, francais, integration, nation, territoire, pays, inegalite, habitant, droit, juridique, social, delinquance, discrimination, langue, retraite, recrutement, proximite, quartier, republicain, republique, application, politique, fonctionnaire, chomage, logement, europeen, civil, existence, pension, partenariat, processus, recours, international, souverainete\n",
      "---\n",
      "Topic 17\n",
      "---\n",
      "familial, famille, adoption, enfant, parent, constitution, statut, cotisation, juridique, social, delinquance, scolaire, solidaire, droit, precarite, pension, fiscalite, societe, citoyennete, situation, constitutionnel, republique, republicain, origine, chomage, inegalite, logement, prestation, population, immigration, education, civil, patrimoine, fiscal, politique, stabilite, regroupement, citoyen, revenu, institution, autonomie, pedagogique, independance, ressortissant, fondamental, salaire, proximite, discrimination, qualification, retraite\n",
      "---\n",
      "Topic 18\n",
      "---\n",
      "logement, social, citoyen, population, quartier, commune, citoyennete, public, habitant, propriete, civil, ville, constitution, socialiste, etudiant, allocation, urbain, lieu, immigration, communautaire, capital, application, place, taux, constitutionnel, familial, recours, attribution, scolaire, espace, etablissement, famille, droit, fonctionnaire, taxation, pension, territoire, republicain, exigence, ressortissant, handicape, communaute, prestation, republique, universitaire, financement, immigre, college, handicap, societe\n",
      "---\n",
      "Topic 19\n",
      "---\n",
      "regional, territorial, commune, territoire, region, local, quartier, citoyen, republicain, referendum, communautaire, citoyennete, constitution, republique, zone, departement, communaute, constitutionnel, capital, souverainete, competence, ville, administratif, repartition, public, pouvoir, allocation, population, regroupement, autonomie, politique, lieu, central, election, legislatif, regime, nationalite, commun, origine, centre, place, vote, national, magistrat, nation, independant, distribution, independance, socialiste, reform\n",
      "---\n",
      "Topic 20\n",
      "---\n",
      "discrimination, citoyennete, inegalite, citoyen, partenariat, republique, politique, egalite, violence, societe, republicain, juridique, social, civil, droit, loi, familial, salaire, femme, regroupement, quartier, statut, constitution, judiciaire, famille, civique, victime, ressortissant, penal, fiscalite, salarier, nationalite, delinquance, immigration, qualification, salarie, syndical, reform, remuneration, syndicat, justice, fonctionnaire, diversite, sanction, prestation, constitutionnel, attribution, population, integration, situation\n",
      "---\n",
      "Topic 21\n",
      "---\n",
      "maritime, mer, souverainete, ressortissant, citoyennete, mondialisation, global, territorial, citoyen, ministere, nationalite, europeen, nation, territoire, international, national, economie, militaire, qualification, francais, age, notion, frontiere, politique, referendum, scolaire, ministre, legislatif, republique, universel, transparence, independance, immigration, negociation, permanent, niveau, strategique, republicain, dirigeant, assurance, independant, communaute, etranger, norme, objectif, renouvelable, magistrat, pays, valeur, credit\n"
     ]
    }
   ],
   "source": [
    "for i in range(model.get_num_topics()):\n",
    "    print('---')\n",
    "    print(f'Topic {i}')\n",
    "    print('---')\n",
    "    print(\", \".join(model.topic_words[i]))\n"
   ]
  },
  {
   "cell_type": "code",
   "execution_count": 988,
   "id": "08b61358",
   "metadata": {},
   "outputs": [],
   "source": [
    "chunks_manifesto['topic'] = model.doc_top"
   ]
  },
  {
   "cell_type": "code",
   "execution_count": 989,
   "id": "3edc5034",
   "metadata": {},
   "outputs": [],
   "source": [
    "chunks_manifesto['cluster'] = cluster.labels_"
   ]
  },
  {
   "cell_type": "code",
   "execution_count": 942,
   "id": "9c986dbd",
   "metadata": {},
   "outputs": [],
   "source": [
    "#chunks_manifesto = chunks_manifesto[chunks_manifesto['cluster_label']!=-1]"
   ]
  },
  {
   "cell_type": "code",
   "execution_count": 993,
   "id": "84bd17d8",
   "metadata": {},
   "outputs": [],
   "source": [
    "chunks_manifesto['topic_name'] = chunks_manifesto['cluster'].apply(lambda x: dict_cluster[x])"
   ]
  },
  {
   "cell_type": "code",
   "execution_count": null,
   "id": "72156d2f",
   "metadata": {},
   "outputs": [],
   "source": []
  },
  {
   "cell_type": "code",
   "execution_count": null,
   "id": "f316ead8",
   "metadata": {},
   "outputs": [],
   "source": [
    "chunks_manifesto.groupby('cluster').apply(lambda df: (df.id_manifesto.value_counts()/chunks_manifesto.id_manifesto.value_counts()).fillna(0).tolist())"
   ]
  },
  {
   "cell_type": "code",
   "execution_count": 1034,
   "id": "d1ef9852",
   "metadata": {},
   "outputs": [],
   "source": [
    "# topic distribution: quel pourcentage de chaque manifesto a contribué à la construction de chaque cluster\n",
    "\n",
    "topic_distribution = chunks_manifesto.groupby('cluster').apply(lambda df: (df.id_manifesto.value_counts()/chunks_manifesto.id_manifesto.value_counts()).fillna(0).tolist())"
   ]
  },
  {
   "cell_type": "code",
   "execution_count": 1035,
   "id": "f46b75d7",
   "metadata": {},
   "outputs": [],
   "source": [
    "manifesto_topic = manifestos[['id_manifesto','partyname','annee']]"
   ]
  },
  {
   "cell_type": "code",
   "execution_count": 1040,
   "id": "31c29c88",
   "metadata": {},
   "outputs": [],
   "source": [
    "topic_distribution = topic_distribution.drop(-1)"
   ]
  },
  {
   "cell_type": "code",
   "execution_count": 1074,
   "id": "cc1df499",
   "metadata": {},
   "outputs": [
    {
     "data": {
      "text/plain": [
       "5     0.352941\n",
       "4     0.147059\n",
       "10    0.117647\n",
       "6     0.058824\n",
       "9     0.058824\n",
       "18    0.058824\n",
       "7     0.029412\n",
       "8     0.029412\n",
       "12    0.029412\n",
       "15    0.029412\n",
       "16    0.029412\n",
       "21    0.029412\n",
       "22    0.029412\n",
       "Name: id_manifesto, dtype: float64"
      ]
     },
     "execution_count": 1074,
     "metadata": {},
     "output_type": "execute_result"
    }
   ],
   "source": [
    "chunks_manifesto[chunks_manifesto['cluster']==12].id_manifesto.value_counts(normalize=True)"
   ]
  },
  {
   "cell_type": "code",
   "execution_count": 1071,
   "id": "ec144be3",
   "metadata": {},
   "outputs": [
    {
     "data": {
      "text/plain": [
       "array([0.        , 0.        , 0.        , 0.        , 0.04      ,\n",
       "       0.03428571, 0.01388889, 0.01369863, 0.02      , 0.03448276,\n",
       "       0.02836879, 0.        , 0.00925926, 0.        , 0.        ,\n",
       "       0.025     , 0.04347826, 0.        , 0.02702703, 0.        ,\n",
       "       0.        , 0.05882353, 0.04761905])"
      ]
     },
     "execution_count": 1071,
     "metadata": {},
     "output_type": "execute_result"
    }
   ],
   "source": [
    "np.transpose(topic_distribution.tolist())[:,12]"
   ]
  },
  {
   "cell_type": "code",
   "execution_count": 1049,
   "id": "fb72441b",
   "metadata": {},
   "outputs": [
    {
     "name": "stderr",
     "output_type": "stream",
     "text": [
      "<ipython-input-1049-9d8823896d93>:1: SettingWithCopyWarning:\n",
      "\n",
      "\n",
      "A value is trying to be set on a copy of a slice from a DataFrame.\n",
      "Try using .loc[row_indexer,col_indexer] = value instead\n",
      "\n",
      "See the caveats in the documentation: https://pandas.pydata.org/pandas-docs/stable/user_guide/indexing.html#returning-a-view-versus-a-copy\n",
      "\n"
     ]
    }
   ],
   "source": [
    "manifesto_topic['topic_distribution'] = np.transpose(topic_distribution.tolist()).tolist()"
   ]
  },
  {
   "cell_type": "code",
   "execution_count": 1052,
   "id": "64cc4291",
   "metadata": {},
   "outputs": [],
   "source": [
    "from sklearn.preprocessing import StandardScaler\n",
    "from sklearn.decomposition import PCA\n",
    "from sklearn.preprocessing import normalize\n",
    "\n",
    "def add_correlation_circle(figure, coeffs, texts, normalization=True, add_circle=True):\n",
    "    if add_circle:\n",
    "        figure.add_shape(type=\"circle\",\n",
    "                         xref=\"x\", yref=\"y\",\n",
    "                         x0=-1, y0=-1, x1=1, y1=1,\n",
    "                         line_color=\"blue\"\n",
    "                        )\n",
    "    if normalization:\n",
    "        coeffs = normalize(coeffs,axis=0)\n",
    "    for i in range(coeffs.shape[1]):\n",
    "        figure.add_annotation(\n",
    "            x=coeffs[0,i],  # arrows' head\n",
    "            y=coeffs[1,i],  # arrows' head\n",
    "            ax=0,  # arrows' tail\n",
    "            ay=0,  # arrows' tail\n",
    "            xref='x',\n",
    "            yref='y',\n",
    "            axref='x',\n",
    "            ayref='y',\n",
    "            text='',  # if you want only the arrow\n",
    "            showarrow=False,\n",
    "            arrowhead=2,\n",
    "            arrowsize=1,\n",
    "            arrowwidth=2,\n",
    "            arrowcolor='red'\n",
    "        )\n",
    "\n",
    "        figure.add_annotation(\n",
    "            x=coeffs[0,i]*1.25, \n",
    "            y=coeffs[1,i]*1.25,\n",
    "            text=texts[i],\n",
    "            showarrow=False,\n",
    "            font=dict(size=10,color=\"red\")\n",
    "        )\n",
    "    return figure"
   ]
  },
  {
   "cell_type": "code",
   "execution_count": 1053,
   "id": "96ec7496",
   "metadata": {},
   "outputs": [],
   "source": [
    "data = manifesto_topic.topic_distribution.to_list()"
   ]
  },
  {
   "cell_type": "code",
   "execution_count": 1054,
   "id": "6b4f21bb",
   "metadata": {},
   "outputs": [],
   "source": [
    "scaler = StandardScaler()\n",
    "scaler.fit(data)\n",
    "data = scaler.transform(data)"
   ]
  },
  {
   "cell_type": "code",
   "execution_count": 1056,
   "id": "1d0efff7",
   "metadata": {},
   "outputs": [
    {
     "data": {
      "text/plain": [
       "PCA()"
      ]
     },
     "execution_count": 1056,
     "metadata": {},
     "output_type": "execute_result"
    }
   ],
   "source": [
    "pca = PCA()\n",
    "pca.fit(data)"
   ]
  },
  {
   "cell_type": "code",
   "execution_count": 1057,
   "id": "d485092b",
   "metadata": {},
   "outputs": [
    {
     "data": {
      "application/vnd.plotly.v1+json": {
       "config": {
        "plotlyServerURL": "https://plot.ly"
       },
       "data": [
        {
         "hovertemplate": "variable=0<br>Principal Component=%{x}<br>Explained Variance Ratio=%{y}<extra></extra>",
         "legendgroup": "0",
         "line": {
          "color": "#636efa",
          "dash": "solid"
         },
         "marker": {
          "symbol": "circle"
         },
         "mode": "lines",
         "name": "0",
         "orientation": "v",
         "showlegend": true,
         "type": "scatter",
         "x": [
          0,
          1,
          2,
          3,
          4,
          5,
          6,
          7,
          8,
          9,
          10,
          11,
          12,
          13,
          14,
          15,
          16,
          17,
          18,
          19,
          20,
          21
         ],
         "xaxis": "x",
         "y": [
          0.1687332731764228,
          0.1579352997309949,
          0.1268403358263357,
          0.10393411269435533,
          0.08791698253298778,
          0.07114425038996489,
          0.054631815308875335,
          0.05057920923055942,
          0.04533364989114214,
          0.03297761217624374,
          0.025394357098881076,
          0.02022681400187202,
          0.016888524000627316,
          0.011748166726732824,
          0.007900251774781094,
          0.0061177089499733954,
          0.005036746223320275,
          0.003531870628605712,
          0.0019699526479259486,
          0.0010511011956630177,
          0.00010578407411863445,
          2.1817196167200134e-06
         ],
         "yaxis": "y"
        }
       ],
       "layout": {
        "legend": {
         "title": {
          "text": "variable"
         },
         "tracegroupgap": 0
        },
        "margin": {
         "t": 60
        },
        "template": {
         "data": {
          "bar": [
           {
            "error_x": {
             "color": "#2a3f5f"
            },
            "error_y": {
             "color": "#2a3f5f"
            },
            "marker": {
             "line": {
              "color": "#E5ECF6",
              "width": 0.5
             },
             "pattern": {
              "fillmode": "overlay",
              "size": 10,
              "solidity": 0.2
             }
            },
            "type": "bar"
           }
          ],
          "barpolar": [
           {
            "marker": {
             "line": {
              "color": "#E5ECF6",
              "width": 0.5
             },
             "pattern": {
              "fillmode": "overlay",
              "size": 10,
              "solidity": 0.2
             }
            },
            "type": "barpolar"
           }
          ],
          "carpet": [
           {
            "aaxis": {
             "endlinecolor": "#2a3f5f",
             "gridcolor": "white",
             "linecolor": "white",
             "minorgridcolor": "white",
             "startlinecolor": "#2a3f5f"
            },
            "baxis": {
             "endlinecolor": "#2a3f5f",
             "gridcolor": "white",
             "linecolor": "white",
             "minorgridcolor": "white",
             "startlinecolor": "#2a3f5f"
            },
            "type": "carpet"
           }
          ],
          "choropleth": [
           {
            "colorbar": {
             "outlinewidth": 0,
             "ticks": ""
            },
            "type": "choropleth"
           }
          ],
          "contour": [
           {
            "colorbar": {
             "outlinewidth": 0,
             "ticks": ""
            },
            "colorscale": [
             [
              0,
              "#0d0887"
             ],
             [
              0.1111111111111111,
              "#46039f"
             ],
             [
              0.2222222222222222,
              "#7201a8"
             ],
             [
              0.3333333333333333,
              "#9c179e"
             ],
             [
              0.4444444444444444,
              "#bd3786"
             ],
             [
              0.5555555555555556,
              "#d8576b"
             ],
             [
              0.6666666666666666,
              "#ed7953"
             ],
             [
              0.7777777777777778,
              "#fb9f3a"
             ],
             [
              0.8888888888888888,
              "#fdca26"
             ],
             [
              1,
              "#f0f921"
             ]
            ],
            "type": "contour"
           }
          ],
          "contourcarpet": [
           {
            "colorbar": {
             "outlinewidth": 0,
             "ticks": ""
            },
            "type": "contourcarpet"
           }
          ],
          "heatmap": [
           {
            "colorbar": {
             "outlinewidth": 0,
             "ticks": ""
            },
            "colorscale": [
             [
              0,
              "#0d0887"
             ],
             [
              0.1111111111111111,
              "#46039f"
             ],
             [
              0.2222222222222222,
              "#7201a8"
             ],
             [
              0.3333333333333333,
              "#9c179e"
             ],
             [
              0.4444444444444444,
              "#bd3786"
             ],
             [
              0.5555555555555556,
              "#d8576b"
             ],
             [
              0.6666666666666666,
              "#ed7953"
             ],
             [
              0.7777777777777778,
              "#fb9f3a"
             ],
             [
              0.8888888888888888,
              "#fdca26"
             ],
             [
              1,
              "#f0f921"
             ]
            ],
            "type": "heatmap"
           }
          ],
          "heatmapgl": [
           {
            "colorbar": {
             "outlinewidth": 0,
             "ticks": ""
            },
            "colorscale": [
             [
              0,
              "#0d0887"
             ],
             [
              0.1111111111111111,
              "#46039f"
             ],
             [
              0.2222222222222222,
              "#7201a8"
             ],
             [
              0.3333333333333333,
              "#9c179e"
             ],
             [
              0.4444444444444444,
              "#bd3786"
             ],
             [
              0.5555555555555556,
              "#d8576b"
             ],
             [
              0.6666666666666666,
              "#ed7953"
             ],
             [
              0.7777777777777778,
              "#fb9f3a"
             ],
             [
              0.8888888888888888,
              "#fdca26"
             ],
             [
              1,
              "#f0f921"
             ]
            ],
            "type": "heatmapgl"
           }
          ],
          "histogram": [
           {
            "marker": {
             "pattern": {
              "fillmode": "overlay",
              "size": 10,
              "solidity": 0.2
             }
            },
            "type": "histogram"
           }
          ],
          "histogram2d": [
           {
            "colorbar": {
             "outlinewidth": 0,
             "ticks": ""
            },
            "colorscale": [
             [
              0,
              "#0d0887"
             ],
             [
              0.1111111111111111,
              "#46039f"
             ],
             [
              0.2222222222222222,
              "#7201a8"
             ],
             [
              0.3333333333333333,
              "#9c179e"
             ],
             [
              0.4444444444444444,
              "#bd3786"
             ],
             [
              0.5555555555555556,
              "#d8576b"
             ],
             [
              0.6666666666666666,
              "#ed7953"
             ],
             [
              0.7777777777777778,
              "#fb9f3a"
             ],
             [
              0.8888888888888888,
              "#fdca26"
             ],
             [
              1,
              "#f0f921"
             ]
            ],
            "type": "histogram2d"
           }
          ],
          "histogram2dcontour": [
           {
            "colorbar": {
             "outlinewidth": 0,
             "ticks": ""
            },
            "colorscale": [
             [
              0,
              "#0d0887"
             ],
             [
              0.1111111111111111,
              "#46039f"
             ],
             [
              0.2222222222222222,
              "#7201a8"
             ],
             [
              0.3333333333333333,
              "#9c179e"
             ],
             [
              0.4444444444444444,
              "#bd3786"
             ],
             [
              0.5555555555555556,
              "#d8576b"
             ],
             [
              0.6666666666666666,
              "#ed7953"
             ],
             [
              0.7777777777777778,
              "#fb9f3a"
             ],
             [
              0.8888888888888888,
              "#fdca26"
             ],
             [
              1,
              "#f0f921"
             ]
            ],
            "type": "histogram2dcontour"
           }
          ],
          "mesh3d": [
           {
            "colorbar": {
             "outlinewidth": 0,
             "ticks": ""
            },
            "type": "mesh3d"
           }
          ],
          "parcoords": [
           {
            "line": {
             "colorbar": {
              "outlinewidth": 0,
              "ticks": ""
             }
            },
            "type": "parcoords"
           }
          ],
          "pie": [
           {
            "automargin": true,
            "type": "pie"
           }
          ],
          "scatter": [
           {
            "marker": {
             "colorbar": {
              "outlinewidth": 0,
              "ticks": ""
             }
            },
            "type": "scatter"
           }
          ],
          "scatter3d": [
           {
            "line": {
             "colorbar": {
              "outlinewidth": 0,
              "ticks": ""
             }
            },
            "marker": {
             "colorbar": {
              "outlinewidth": 0,
              "ticks": ""
             }
            },
            "type": "scatter3d"
           }
          ],
          "scattercarpet": [
           {
            "marker": {
             "colorbar": {
              "outlinewidth": 0,
              "ticks": ""
             }
            },
            "type": "scattercarpet"
           }
          ],
          "scattergeo": [
           {
            "marker": {
             "colorbar": {
              "outlinewidth": 0,
              "ticks": ""
             }
            },
            "type": "scattergeo"
           }
          ],
          "scattergl": [
           {
            "marker": {
             "colorbar": {
              "outlinewidth": 0,
              "ticks": ""
             }
            },
            "type": "scattergl"
           }
          ],
          "scattermapbox": [
           {
            "marker": {
             "colorbar": {
              "outlinewidth": 0,
              "ticks": ""
             }
            },
            "type": "scattermapbox"
           }
          ],
          "scatterpolar": [
           {
            "marker": {
             "colorbar": {
              "outlinewidth": 0,
              "ticks": ""
             }
            },
            "type": "scatterpolar"
           }
          ],
          "scatterpolargl": [
           {
            "marker": {
             "colorbar": {
              "outlinewidth": 0,
              "ticks": ""
             }
            },
            "type": "scatterpolargl"
           }
          ],
          "scatterternary": [
           {
            "marker": {
             "colorbar": {
              "outlinewidth": 0,
              "ticks": ""
             }
            },
            "type": "scatterternary"
           }
          ],
          "surface": [
           {
            "colorbar": {
             "outlinewidth": 0,
             "ticks": ""
            },
            "colorscale": [
             [
              0,
              "#0d0887"
             ],
             [
              0.1111111111111111,
              "#46039f"
             ],
             [
              0.2222222222222222,
              "#7201a8"
             ],
             [
              0.3333333333333333,
              "#9c179e"
             ],
             [
              0.4444444444444444,
              "#bd3786"
             ],
             [
              0.5555555555555556,
              "#d8576b"
             ],
             [
              0.6666666666666666,
              "#ed7953"
             ],
             [
              0.7777777777777778,
              "#fb9f3a"
             ],
             [
              0.8888888888888888,
              "#fdca26"
             ],
             [
              1,
              "#f0f921"
             ]
            ],
            "type": "surface"
           }
          ],
          "table": [
           {
            "cells": {
             "fill": {
              "color": "#EBF0F8"
             },
             "line": {
              "color": "white"
             }
            },
            "header": {
             "fill": {
              "color": "#C8D4E3"
             },
             "line": {
              "color": "white"
             }
            },
            "type": "table"
           }
          ]
         },
         "layout": {
          "annotationdefaults": {
           "arrowcolor": "#2a3f5f",
           "arrowhead": 0,
           "arrowwidth": 1
          },
          "autotypenumbers": "strict",
          "coloraxis": {
           "colorbar": {
            "outlinewidth": 0,
            "ticks": ""
           }
          },
          "colorscale": {
           "diverging": [
            [
             0,
             "#8e0152"
            ],
            [
             0.1,
             "#c51b7d"
            ],
            [
             0.2,
             "#de77ae"
            ],
            [
             0.3,
             "#f1b6da"
            ],
            [
             0.4,
             "#fde0ef"
            ],
            [
             0.5,
             "#f7f7f7"
            ],
            [
             0.6,
             "#e6f5d0"
            ],
            [
             0.7,
             "#b8e186"
            ],
            [
             0.8,
             "#7fbc41"
            ],
            [
             0.9,
             "#4d9221"
            ],
            [
             1,
             "#276419"
            ]
           ],
           "sequential": [
            [
             0,
             "#0d0887"
            ],
            [
             0.1111111111111111,
             "#46039f"
            ],
            [
             0.2222222222222222,
             "#7201a8"
            ],
            [
             0.3333333333333333,
             "#9c179e"
            ],
            [
             0.4444444444444444,
             "#bd3786"
            ],
            [
             0.5555555555555556,
             "#d8576b"
            ],
            [
             0.6666666666666666,
             "#ed7953"
            ],
            [
             0.7777777777777778,
             "#fb9f3a"
            ],
            [
             0.8888888888888888,
             "#fdca26"
            ],
            [
             1,
             "#f0f921"
            ]
           ],
           "sequentialminus": [
            [
             0,
             "#0d0887"
            ],
            [
             0.1111111111111111,
             "#46039f"
            ],
            [
             0.2222222222222222,
             "#7201a8"
            ],
            [
             0.3333333333333333,
             "#9c179e"
            ],
            [
             0.4444444444444444,
             "#bd3786"
            ],
            [
             0.5555555555555556,
             "#d8576b"
            ],
            [
             0.6666666666666666,
             "#ed7953"
            ],
            [
             0.7777777777777778,
             "#fb9f3a"
            ],
            [
             0.8888888888888888,
             "#fdca26"
            ],
            [
             1,
             "#f0f921"
            ]
           ]
          },
          "colorway": [
           "#636efa",
           "#EF553B",
           "#00cc96",
           "#ab63fa",
           "#FFA15A",
           "#19d3f3",
           "#FF6692",
           "#B6E880",
           "#FF97FF",
           "#FECB52"
          ],
          "font": {
           "color": "#2a3f5f"
          },
          "geo": {
           "bgcolor": "white",
           "lakecolor": "white",
           "landcolor": "#E5ECF6",
           "showlakes": true,
           "showland": true,
           "subunitcolor": "white"
          },
          "hoverlabel": {
           "align": "left"
          },
          "hovermode": "closest",
          "mapbox": {
           "style": "light"
          },
          "paper_bgcolor": "white",
          "plot_bgcolor": "#E5ECF6",
          "polar": {
           "angularaxis": {
            "gridcolor": "white",
            "linecolor": "white",
            "ticks": ""
           },
           "bgcolor": "#E5ECF6",
           "radialaxis": {
            "gridcolor": "white",
            "linecolor": "white",
            "ticks": ""
           }
          },
          "scene": {
           "xaxis": {
            "backgroundcolor": "#E5ECF6",
            "gridcolor": "white",
            "gridwidth": 2,
            "linecolor": "white",
            "showbackground": true,
            "ticks": "",
            "zerolinecolor": "white"
           },
           "yaxis": {
            "backgroundcolor": "#E5ECF6",
            "gridcolor": "white",
            "gridwidth": 2,
            "linecolor": "white",
            "showbackground": true,
            "ticks": "",
            "zerolinecolor": "white"
           },
           "zaxis": {
            "backgroundcolor": "#E5ECF6",
            "gridcolor": "white",
            "gridwidth": 2,
            "linecolor": "white",
            "showbackground": true,
            "ticks": "",
            "zerolinecolor": "white"
           }
          },
          "shapedefaults": {
           "line": {
            "color": "#2a3f5f"
           }
          },
          "ternary": {
           "aaxis": {
            "gridcolor": "white",
            "linecolor": "white",
            "ticks": ""
           },
           "baxis": {
            "gridcolor": "white",
            "linecolor": "white",
            "ticks": ""
           },
           "bgcolor": "#E5ECF6",
           "caxis": {
            "gridcolor": "white",
            "linecolor": "white",
            "ticks": ""
           }
          },
          "title": {
           "x": 0.05
          },
          "xaxis": {
           "automargin": true,
           "gridcolor": "white",
           "linecolor": "white",
           "ticks": "",
           "title": {
            "standoff": 15
           },
           "zerolinecolor": "white",
           "zerolinewidth": 2
          },
          "yaxis": {
           "automargin": true,
           "gridcolor": "white",
           "linecolor": "white",
           "ticks": "",
           "title": {
            "standoff": 15
           },
           "zerolinecolor": "white",
           "zerolinewidth": 2
          }
         }
        },
        "xaxis": {
         "anchor": "y",
         "domain": [
          0,
          1
         ],
         "title": {
          "text": "Principal Component"
         }
        },
        "yaxis": {
         "anchor": "x",
         "domain": [
          0,
          1
         ],
         "title": {
          "text": "Explained Variance Ratio"
         }
        }
       }
      },
      "text/html": [
       "<div>                            <div id=\"66e0464a-c1ed-4d20-9e71-837bbfeb1ba4\" class=\"plotly-graph-div\" style=\"height:525px; width:100%;\"></div>            <script type=\"text/javascript\">                require([\"plotly\"], function(Plotly) {                    window.PLOTLYENV=window.PLOTLYENV || {};                                    if (document.getElementById(\"66e0464a-c1ed-4d20-9e71-837bbfeb1ba4\")) {                    Plotly.newPlot(                        \"66e0464a-c1ed-4d20-9e71-837bbfeb1ba4\",                        [{\"hovertemplate\":\"variable=0<br>Principal Component=%{x}<br>Explained Variance Ratio=%{y}<extra></extra>\",\"legendgroup\":\"0\",\"line\":{\"color\":\"#636efa\",\"dash\":\"solid\"},\"marker\":{\"symbol\":\"circle\"},\"mode\":\"lines\",\"name\":\"0\",\"orientation\":\"v\",\"showlegend\":true,\"type\":\"scatter\",\"x\":[0,1,2,3,4,5,6,7,8,9,10,11,12,13,14,15,16,17,18,19,20,21],\"xaxis\":\"x\",\"y\":[0.1687332731764228,0.1579352997309949,0.1268403358263357,0.10393411269435533,0.08791698253298778,0.07114425038996489,0.054631815308875335,0.05057920923055942,0.04533364989114214,0.03297761217624374,0.025394357098881076,0.02022681400187202,0.016888524000627316,0.011748166726732824,0.007900251774781094,0.0061177089499733954,0.005036746223320275,0.003531870628605712,0.0019699526479259486,0.0010511011956630177,0.00010578407411863445,2.1817196167200134e-06],\"yaxis\":\"y\"}],                        {\"legend\":{\"title\":{\"text\":\"variable\"},\"tracegroupgap\":0},\"margin\":{\"t\":60},\"template\":{\"data\":{\"bar\":[{\"error_x\":{\"color\":\"#2a3f5f\"},\"error_y\":{\"color\":\"#2a3f5f\"},\"marker\":{\"line\":{\"color\":\"#E5ECF6\",\"width\":0.5},\"pattern\":{\"fillmode\":\"overlay\",\"size\":10,\"solidity\":0.2}},\"type\":\"bar\"}],\"barpolar\":[{\"marker\":{\"line\":{\"color\":\"#E5ECF6\",\"width\":0.5},\"pattern\":{\"fillmode\":\"overlay\",\"size\":10,\"solidity\":0.2}},\"type\":\"barpolar\"}],\"carpet\":[{\"aaxis\":{\"endlinecolor\":\"#2a3f5f\",\"gridcolor\":\"white\",\"linecolor\":\"white\",\"minorgridcolor\":\"white\",\"startlinecolor\":\"#2a3f5f\"},\"baxis\":{\"endlinecolor\":\"#2a3f5f\",\"gridcolor\":\"white\",\"linecolor\":\"white\",\"minorgridcolor\":\"white\",\"startlinecolor\":\"#2a3f5f\"},\"type\":\"carpet\"}],\"choropleth\":[{\"colorbar\":{\"outlinewidth\":0,\"ticks\":\"\"},\"type\":\"choropleth\"}],\"contour\":[{\"colorbar\":{\"outlinewidth\":0,\"ticks\":\"\"},\"colorscale\":[[0.0,\"#0d0887\"],[0.1111111111111111,\"#46039f\"],[0.2222222222222222,\"#7201a8\"],[0.3333333333333333,\"#9c179e\"],[0.4444444444444444,\"#bd3786\"],[0.5555555555555556,\"#d8576b\"],[0.6666666666666666,\"#ed7953\"],[0.7777777777777778,\"#fb9f3a\"],[0.8888888888888888,\"#fdca26\"],[1.0,\"#f0f921\"]],\"type\":\"contour\"}],\"contourcarpet\":[{\"colorbar\":{\"outlinewidth\":0,\"ticks\":\"\"},\"type\":\"contourcarpet\"}],\"heatmap\":[{\"colorbar\":{\"outlinewidth\":0,\"ticks\":\"\"},\"colorscale\":[[0.0,\"#0d0887\"],[0.1111111111111111,\"#46039f\"],[0.2222222222222222,\"#7201a8\"],[0.3333333333333333,\"#9c179e\"],[0.4444444444444444,\"#bd3786\"],[0.5555555555555556,\"#d8576b\"],[0.6666666666666666,\"#ed7953\"],[0.7777777777777778,\"#fb9f3a\"],[0.8888888888888888,\"#fdca26\"],[1.0,\"#f0f921\"]],\"type\":\"heatmap\"}],\"heatmapgl\":[{\"colorbar\":{\"outlinewidth\":0,\"ticks\":\"\"},\"colorscale\":[[0.0,\"#0d0887\"],[0.1111111111111111,\"#46039f\"],[0.2222222222222222,\"#7201a8\"],[0.3333333333333333,\"#9c179e\"],[0.4444444444444444,\"#bd3786\"],[0.5555555555555556,\"#d8576b\"],[0.6666666666666666,\"#ed7953\"],[0.7777777777777778,\"#fb9f3a\"],[0.8888888888888888,\"#fdca26\"],[1.0,\"#f0f921\"]],\"type\":\"heatmapgl\"}],\"histogram\":[{\"marker\":{\"pattern\":{\"fillmode\":\"overlay\",\"size\":10,\"solidity\":0.2}},\"type\":\"histogram\"}],\"histogram2d\":[{\"colorbar\":{\"outlinewidth\":0,\"ticks\":\"\"},\"colorscale\":[[0.0,\"#0d0887\"],[0.1111111111111111,\"#46039f\"],[0.2222222222222222,\"#7201a8\"],[0.3333333333333333,\"#9c179e\"],[0.4444444444444444,\"#bd3786\"],[0.5555555555555556,\"#d8576b\"],[0.6666666666666666,\"#ed7953\"],[0.7777777777777778,\"#fb9f3a\"],[0.8888888888888888,\"#fdca26\"],[1.0,\"#f0f921\"]],\"type\":\"histogram2d\"}],\"histogram2dcontour\":[{\"colorbar\":{\"outlinewidth\":0,\"ticks\":\"\"},\"colorscale\":[[0.0,\"#0d0887\"],[0.1111111111111111,\"#46039f\"],[0.2222222222222222,\"#7201a8\"],[0.3333333333333333,\"#9c179e\"],[0.4444444444444444,\"#bd3786\"],[0.5555555555555556,\"#d8576b\"],[0.6666666666666666,\"#ed7953\"],[0.7777777777777778,\"#fb9f3a\"],[0.8888888888888888,\"#fdca26\"],[1.0,\"#f0f921\"]],\"type\":\"histogram2dcontour\"}],\"mesh3d\":[{\"colorbar\":{\"outlinewidth\":0,\"ticks\":\"\"},\"type\":\"mesh3d\"}],\"parcoords\":[{\"line\":{\"colorbar\":{\"outlinewidth\":0,\"ticks\":\"\"}},\"type\":\"parcoords\"}],\"pie\":[{\"automargin\":true,\"type\":\"pie\"}],\"scatter\":[{\"marker\":{\"colorbar\":{\"outlinewidth\":0,\"ticks\":\"\"}},\"type\":\"scatter\"}],\"scatter3d\":[{\"line\":{\"colorbar\":{\"outlinewidth\":0,\"ticks\":\"\"}},\"marker\":{\"colorbar\":{\"outlinewidth\":0,\"ticks\":\"\"}},\"type\":\"scatter3d\"}],\"scattercarpet\":[{\"marker\":{\"colorbar\":{\"outlinewidth\":0,\"ticks\":\"\"}},\"type\":\"scattercarpet\"}],\"scattergeo\":[{\"marker\":{\"colorbar\":{\"outlinewidth\":0,\"ticks\":\"\"}},\"type\":\"scattergeo\"}],\"scattergl\":[{\"marker\":{\"colorbar\":{\"outlinewidth\":0,\"ticks\":\"\"}},\"type\":\"scattergl\"}],\"scattermapbox\":[{\"marker\":{\"colorbar\":{\"outlinewidth\":0,\"ticks\":\"\"}},\"type\":\"scattermapbox\"}],\"scatterpolar\":[{\"marker\":{\"colorbar\":{\"outlinewidth\":0,\"ticks\":\"\"}},\"type\":\"scatterpolar\"}],\"scatterpolargl\":[{\"marker\":{\"colorbar\":{\"outlinewidth\":0,\"ticks\":\"\"}},\"type\":\"scatterpolargl\"}],\"scatterternary\":[{\"marker\":{\"colorbar\":{\"outlinewidth\":0,\"ticks\":\"\"}},\"type\":\"scatterternary\"}],\"surface\":[{\"colorbar\":{\"outlinewidth\":0,\"ticks\":\"\"},\"colorscale\":[[0.0,\"#0d0887\"],[0.1111111111111111,\"#46039f\"],[0.2222222222222222,\"#7201a8\"],[0.3333333333333333,\"#9c179e\"],[0.4444444444444444,\"#bd3786\"],[0.5555555555555556,\"#d8576b\"],[0.6666666666666666,\"#ed7953\"],[0.7777777777777778,\"#fb9f3a\"],[0.8888888888888888,\"#fdca26\"],[1.0,\"#f0f921\"]],\"type\":\"surface\"}],\"table\":[{\"cells\":{\"fill\":{\"color\":\"#EBF0F8\"},\"line\":{\"color\":\"white\"}},\"header\":{\"fill\":{\"color\":\"#C8D4E3\"},\"line\":{\"color\":\"white\"}},\"type\":\"table\"}]},\"layout\":{\"annotationdefaults\":{\"arrowcolor\":\"#2a3f5f\",\"arrowhead\":0,\"arrowwidth\":1},\"autotypenumbers\":\"strict\",\"coloraxis\":{\"colorbar\":{\"outlinewidth\":0,\"ticks\":\"\"}},\"colorscale\":{\"diverging\":[[0,\"#8e0152\"],[0.1,\"#c51b7d\"],[0.2,\"#de77ae\"],[0.3,\"#f1b6da\"],[0.4,\"#fde0ef\"],[0.5,\"#f7f7f7\"],[0.6,\"#e6f5d0\"],[0.7,\"#b8e186\"],[0.8,\"#7fbc41\"],[0.9,\"#4d9221\"],[1,\"#276419\"]],\"sequential\":[[0.0,\"#0d0887\"],[0.1111111111111111,\"#46039f\"],[0.2222222222222222,\"#7201a8\"],[0.3333333333333333,\"#9c179e\"],[0.4444444444444444,\"#bd3786\"],[0.5555555555555556,\"#d8576b\"],[0.6666666666666666,\"#ed7953\"],[0.7777777777777778,\"#fb9f3a\"],[0.8888888888888888,\"#fdca26\"],[1.0,\"#f0f921\"]],\"sequentialminus\":[[0.0,\"#0d0887\"],[0.1111111111111111,\"#46039f\"],[0.2222222222222222,\"#7201a8\"],[0.3333333333333333,\"#9c179e\"],[0.4444444444444444,\"#bd3786\"],[0.5555555555555556,\"#d8576b\"],[0.6666666666666666,\"#ed7953\"],[0.7777777777777778,\"#fb9f3a\"],[0.8888888888888888,\"#fdca26\"],[1.0,\"#f0f921\"]]},\"colorway\":[\"#636efa\",\"#EF553B\",\"#00cc96\",\"#ab63fa\",\"#FFA15A\",\"#19d3f3\",\"#FF6692\",\"#B6E880\",\"#FF97FF\",\"#FECB52\"],\"font\":{\"color\":\"#2a3f5f\"},\"geo\":{\"bgcolor\":\"white\",\"lakecolor\":\"white\",\"landcolor\":\"#E5ECF6\",\"showlakes\":true,\"showland\":true,\"subunitcolor\":\"white\"},\"hoverlabel\":{\"align\":\"left\"},\"hovermode\":\"closest\",\"mapbox\":{\"style\":\"light\"},\"paper_bgcolor\":\"white\",\"plot_bgcolor\":\"#E5ECF6\",\"polar\":{\"angularaxis\":{\"gridcolor\":\"white\",\"linecolor\":\"white\",\"ticks\":\"\"},\"bgcolor\":\"#E5ECF6\",\"radialaxis\":{\"gridcolor\":\"white\",\"linecolor\":\"white\",\"ticks\":\"\"}},\"scene\":{\"xaxis\":{\"backgroundcolor\":\"#E5ECF6\",\"gridcolor\":\"white\",\"gridwidth\":2,\"linecolor\":\"white\",\"showbackground\":true,\"ticks\":\"\",\"zerolinecolor\":\"white\"},\"yaxis\":{\"backgroundcolor\":\"#E5ECF6\",\"gridcolor\":\"white\",\"gridwidth\":2,\"linecolor\":\"white\",\"showbackground\":true,\"ticks\":\"\",\"zerolinecolor\":\"white\"},\"zaxis\":{\"backgroundcolor\":\"#E5ECF6\",\"gridcolor\":\"white\",\"gridwidth\":2,\"linecolor\":\"white\",\"showbackground\":true,\"ticks\":\"\",\"zerolinecolor\":\"white\"}},\"shapedefaults\":{\"line\":{\"color\":\"#2a3f5f\"}},\"ternary\":{\"aaxis\":{\"gridcolor\":\"white\",\"linecolor\":\"white\",\"ticks\":\"\"},\"baxis\":{\"gridcolor\":\"white\",\"linecolor\":\"white\",\"ticks\":\"\"},\"bgcolor\":\"#E5ECF6\",\"caxis\":{\"gridcolor\":\"white\",\"linecolor\":\"white\",\"ticks\":\"\"}},\"title\":{\"x\":0.05},\"xaxis\":{\"automargin\":true,\"gridcolor\":\"white\",\"linecolor\":\"white\",\"ticks\":\"\",\"title\":{\"standoff\":15},\"zerolinecolor\":\"white\",\"zerolinewidth\":2},\"yaxis\":{\"automargin\":true,\"gridcolor\":\"white\",\"linecolor\":\"white\",\"ticks\":\"\",\"title\":{\"standoff\":15},\"zerolinecolor\":\"white\",\"zerolinewidth\":2}}},\"xaxis\":{\"anchor\":\"y\",\"domain\":[0.0,1.0],\"title\":{\"text\":\"Principal Component\"}},\"yaxis\":{\"anchor\":\"x\",\"domain\":[0.0,1.0],\"title\":{\"text\":\"Explained Variance Ratio\"}}},                        {\"responsive\": true}                    ).then(function(){\n",
       "                            \n",
       "var gd = document.getElementById('66e0464a-c1ed-4d20-9e71-837bbfeb1ba4');\n",
       "var x = new MutationObserver(function (mutations, observer) {{\n",
       "        var display = window.getComputedStyle(gd).display;\n",
       "        if (!display || display === 'none') {{\n",
       "            console.log([gd, 'removed!']);\n",
       "            Plotly.purge(gd);\n",
       "            observer.disconnect();\n",
       "        }}\n",
       "}});\n",
       "\n",
       "// Listen for the removal of the full notebook cells\n",
       "var notebookContainer = gd.closest('#notebook-container');\n",
       "if (notebookContainer) {{\n",
       "    x.observe(notebookContainer, {childList: true});\n",
       "}}\n",
       "\n",
       "// Listen for the clearing of the current output cell\n",
       "var outputEl = gd.closest('.output');\n",
       "if (outputEl) {{\n",
       "    x.observe(outputEl, {childList: true});\n",
       "}}\n",
       "\n",
       "                        })                };                });            </script>        </div>"
      ]
     },
     "metadata": {},
     "output_type": "display_data"
    }
   ],
   "source": [
    "px.line(pca.explained_variance_ratio_, labels={'index':'Principal Component','value':'Explained Variance Ratio'})"
   ]
  },
  {
   "cell_type": "code",
   "execution_count": 1058,
   "id": "b916fb71",
   "metadata": {},
   "outputs": [],
   "source": [
    "comp = pca.components_[[0,1],:]"
   ]
  },
  {
   "cell_type": "code",
   "execution_count": 1059,
   "id": "153801e1",
   "metadata": {},
   "outputs": [],
   "source": [
    "pca_manifesto = pd.DataFrame(pca.transform(data)[:, [0,1]])"
   ]
  },
  {
   "cell_type": "code",
   "execution_count": 1060,
   "id": "092636b6",
   "metadata": {},
   "outputs": [],
   "source": [
    "pca_manifesto = pd.concat([pca_manifesto,manifesto_topic[['partyname','annee']]],axis=1)\n",
    "pca_manifesto['annee'] = pca_manifesto['annee'].astype('object')\n",
    "#pca_manifesto = pca_manifesto.drop(0)\n",
    "pca_manifesto['name_year'] = pca_manifesto['partyname'] + '_' +pca_manifesto['annee'].apply(str)"
   ]
  },
  {
   "cell_type": "code",
   "execution_count": 701,
   "id": "90885ef6",
   "metadata": {},
   "outputs": [],
   "source": [
    "dict_color = {'PS': 'pink', \n",
    "              'MoDem/EM': 'orange', \n",
    "              'RPR/UMP/LR': 'blue',\n",
    "              'FN':'darkslateblue',\n",
    "              'EELV':'green',\n",
    "              'PCF/PG/LFI':'red',\n",
    "              'Le Monde':'black',\n",
    "              'Le Figaro':'cyan'}"
   ]
  },
  {
   "cell_type": "code",
   "execution_count": 710,
   "id": "68116b47",
   "metadata": {},
   "outputs": [],
   "source": [
    "#pca_manifesto = pca_manifesto.drop([16])"
   ]
  },
  {
   "cell_type": "code",
   "execution_count": 1063,
   "id": "89975749",
   "metadata": {},
   "outputs": [
    {
     "data": {
      "application/vnd.plotly.v1+json": {
       "config": {
        "plotlyServerURL": "https://plot.ly"
       },
       "data": [
        {
         "hovertemplate": "partyname=EELV<br>0=%{x}<br>1=%{y}<br>name_year=%{text}<extra></extra>",
         "legendgroup": "EELV",
         "marker": {
          "color": "green",
          "symbol": "circle"
         },
         "mode": "markers+text",
         "name": "EELV",
         "orientation": "v",
         "showlegend": true,
         "text": [
          "EELV_2002",
          "EELV_2007",
          "EELV_2012",
          "EELV_2017"
         ],
         "type": "scatter",
         "x": [
          -1.5729997357353096,
          1.1641811038183378,
          -0.16968571522208617,
          -2.6663609284777054
         ],
         "xaxis": "x",
         "y": [
          4.283451435562349,
          -0.05305423389697981,
          -0.9076947041586876,
          2.467889671763597
         ],
         "yaxis": "y"
        },
        {
         "hovertemplate": "partyname=PS<br>0=%{x}<br>1=%{y}<br>name_year=%{text}<extra></extra>",
         "legendgroup": "PS",
         "marker": {
          "color": "pink",
          "symbol": "circle"
         },
         "mode": "markers+text",
         "name": "PS",
         "orientation": "v",
         "showlegend": true,
         "text": [
          "PS_2002",
          "PS_2007",
          "PS_2012",
          "PS_2017"
         ],
         "type": "scatter",
         "x": [
          4.276141196838581,
          0.672093287589635,
          -0.3565933234509975,
          -3.786417280830517
         ],
         "xaxis": "x",
         "y": [
          1.3504674176980778,
          -0.19440227650946001,
          -0.21921101337628596,
          0.5566576420947551
         ],
         "yaxis": "y"
        },
        {
         "hovertemplate": "partyname=MoDem/EM<br>0=%{x}<br>1=%{y}<br>name_year=%{text}<extra></extra>",
         "legendgroup": "MoDem/EM",
         "marker": {
          "color": "orange",
          "symbol": "circle"
         },
         "mode": "markers+text",
         "name": "MoDem/EM",
         "orientation": "v",
         "showlegend": true,
         "text": [
          "MoDem/EM_2002",
          "MoDem/EM_2007",
          "MoDem/EM_2012",
          "MoDem/EM_2017"
         ],
         "type": "scatter",
         "x": [
          2.1894494540334444,
          2.5875318318298457,
          0.5424670989436139,
          -1.223637805242318
         ],
         "xaxis": "x",
         "y": [
          -0.35134249791277306,
          0.3825967087426809,
          1.040871555781063,
          1.9111499634448426
         ],
         "yaxis": "y"
        },
        {
         "hovertemplate": "partyname=RPR/UMP/LR<br>0=%{x}<br>1=%{y}<br>name_year=%{text}<extra></extra>",
         "legendgroup": "RPR/UMP/LR",
         "marker": {
          "color": "blue",
          "symbol": "circle"
         },
         "mode": "markers+text",
         "name": "RPR/UMP/LR",
         "orientation": "v",
         "showlegend": true,
         "text": [
          "RPR/UMP/LR_2002",
          "RPR/UMP/LR_2007",
          "RPR/UMP/LR_2012",
          "RPR/UMP/LR_2017"
         ],
         "type": "scatter",
         "x": [
          -0.589869815936371,
          2.075689102968929,
          1.8186610946633819,
          -2.4064331964317662
         ],
         "xaxis": "x",
         "y": [
          2.4904968381493844,
          -2.0572480423987014,
          -1.3126442722463874,
          -0.19340010147514333
         ],
         "yaxis": "y"
        },
        {
         "hovertemplate": "partyname=FN<br>0=%{x}<br>1=%{y}<br>name_year=%{text}<extra></extra>",
         "legendgroup": "FN",
         "marker": {
          "color": "darkslateblue",
          "symbol": "circle"
         },
         "mode": "markers+text",
         "name": "FN",
         "orientation": "v",
         "showlegend": true,
         "text": [
          "FN_2002",
          "FN_2007",
          "FN_2012",
          "FN_2017"
         ],
         "type": "scatter",
         "x": [
          -0.8987942996100073,
          -1.0952530892918328,
          -2.199262261489493,
          -0.6990638180764336
         ],
         "xaxis": "x",
         "y": [
          -2.857947600259346,
          -1.7841330396577773,
          -3.5204309217346146,
          -2.7112898526572216
         ],
         "yaxis": "y"
        },
        {
         "hovertemplate": "partyname=PCF/PG/LFI<br>0=%{x}<br>1=%{y}<br>name_year=%{text}<extra></extra>",
         "legendgroup": "PCF/PG/LFI",
         "marker": {
          "color": "red",
          "symbol": "circle"
         },
         "mode": "markers+text",
         "name": "PCF/PG/LFI",
         "orientation": "v",
         "showlegend": true,
         "text": [
          "PCF/PG/LFI_2007",
          "PCF/PG/LFI_2012",
          "PCF/PG/LFI_2017"
         ],
         "type": "scatter",
         "x": [
          1.4896595526386445,
          1.8841363854039836,
          -1.0356388389335556
         ],
         "xaxis": "x",
         "y": [
          1.7679875710655275,
          0.6642656680098256,
          -0.7530359160287253
         ],
         "yaxis": "y"
        }
       ],
       "layout": {
        "legend": {
         "title": {
          "text": "partyname"
         },
         "tracegroupgap": 0
        },
        "margin": {
         "t": 60
        },
        "template": {
         "data": {
          "bar": [
           {
            "error_x": {
             "color": "#2a3f5f"
            },
            "error_y": {
             "color": "#2a3f5f"
            },
            "marker": {
             "line": {
              "color": "#E5ECF6",
              "width": 0.5
             },
             "pattern": {
              "fillmode": "overlay",
              "size": 10,
              "solidity": 0.2
             }
            },
            "type": "bar"
           }
          ],
          "barpolar": [
           {
            "marker": {
             "line": {
              "color": "#E5ECF6",
              "width": 0.5
             },
             "pattern": {
              "fillmode": "overlay",
              "size": 10,
              "solidity": 0.2
             }
            },
            "type": "barpolar"
           }
          ],
          "carpet": [
           {
            "aaxis": {
             "endlinecolor": "#2a3f5f",
             "gridcolor": "white",
             "linecolor": "white",
             "minorgridcolor": "white",
             "startlinecolor": "#2a3f5f"
            },
            "baxis": {
             "endlinecolor": "#2a3f5f",
             "gridcolor": "white",
             "linecolor": "white",
             "minorgridcolor": "white",
             "startlinecolor": "#2a3f5f"
            },
            "type": "carpet"
           }
          ],
          "choropleth": [
           {
            "colorbar": {
             "outlinewidth": 0,
             "ticks": ""
            },
            "type": "choropleth"
           }
          ],
          "contour": [
           {
            "colorbar": {
             "outlinewidth": 0,
             "ticks": ""
            },
            "colorscale": [
             [
              0,
              "#0d0887"
             ],
             [
              0.1111111111111111,
              "#46039f"
             ],
             [
              0.2222222222222222,
              "#7201a8"
             ],
             [
              0.3333333333333333,
              "#9c179e"
             ],
             [
              0.4444444444444444,
              "#bd3786"
             ],
             [
              0.5555555555555556,
              "#d8576b"
             ],
             [
              0.6666666666666666,
              "#ed7953"
             ],
             [
              0.7777777777777778,
              "#fb9f3a"
             ],
             [
              0.8888888888888888,
              "#fdca26"
             ],
             [
              1,
              "#f0f921"
             ]
            ],
            "type": "contour"
           }
          ],
          "contourcarpet": [
           {
            "colorbar": {
             "outlinewidth": 0,
             "ticks": ""
            },
            "type": "contourcarpet"
           }
          ],
          "heatmap": [
           {
            "colorbar": {
             "outlinewidth": 0,
             "ticks": ""
            },
            "colorscale": [
             [
              0,
              "#0d0887"
             ],
             [
              0.1111111111111111,
              "#46039f"
             ],
             [
              0.2222222222222222,
              "#7201a8"
             ],
             [
              0.3333333333333333,
              "#9c179e"
             ],
             [
              0.4444444444444444,
              "#bd3786"
             ],
             [
              0.5555555555555556,
              "#d8576b"
             ],
             [
              0.6666666666666666,
              "#ed7953"
             ],
             [
              0.7777777777777778,
              "#fb9f3a"
             ],
             [
              0.8888888888888888,
              "#fdca26"
             ],
             [
              1,
              "#f0f921"
             ]
            ],
            "type": "heatmap"
           }
          ],
          "heatmapgl": [
           {
            "colorbar": {
             "outlinewidth": 0,
             "ticks": ""
            },
            "colorscale": [
             [
              0,
              "#0d0887"
             ],
             [
              0.1111111111111111,
              "#46039f"
             ],
             [
              0.2222222222222222,
              "#7201a8"
             ],
             [
              0.3333333333333333,
              "#9c179e"
             ],
             [
              0.4444444444444444,
              "#bd3786"
             ],
             [
              0.5555555555555556,
              "#d8576b"
             ],
             [
              0.6666666666666666,
              "#ed7953"
             ],
             [
              0.7777777777777778,
              "#fb9f3a"
             ],
             [
              0.8888888888888888,
              "#fdca26"
             ],
             [
              1,
              "#f0f921"
             ]
            ],
            "type": "heatmapgl"
           }
          ],
          "histogram": [
           {
            "marker": {
             "pattern": {
              "fillmode": "overlay",
              "size": 10,
              "solidity": 0.2
             }
            },
            "type": "histogram"
           }
          ],
          "histogram2d": [
           {
            "colorbar": {
             "outlinewidth": 0,
             "ticks": ""
            },
            "colorscale": [
             [
              0,
              "#0d0887"
             ],
             [
              0.1111111111111111,
              "#46039f"
             ],
             [
              0.2222222222222222,
              "#7201a8"
             ],
             [
              0.3333333333333333,
              "#9c179e"
             ],
             [
              0.4444444444444444,
              "#bd3786"
             ],
             [
              0.5555555555555556,
              "#d8576b"
             ],
             [
              0.6666666666666666,
              "#ed7953"
             ],
             [
              0.7777777777777778,
              "#fb9f3a"
             ],
             [
              0.8888888888888888,
              "#fdca26"
             ],
             [
              1,
              "#f0f921"
             ]
            ],
            "type": "histogram2d"
           }
          ],
          "histogram2dcontour": [
           {
            "colorbar": {
             "outlinewidth": 0,
             "ticks": ""
            },
            "colorscale": [
             [
              0,
              "#0d0887"
             ],
             [
              0.1111111111111111,
              "#46039f"
             ],
             [
              0.2222222222222222,
              "#7201a8"
             ],
             [
              0.3333333333333333,
              "#9c179e"
             ],
             [
              0.4444444444444444,
              "#bd3786"
             ],
             [
              0.5555555555555556,
              "#d8576b"
             ],
             [
              0.6666666666666666,
              "#ed7953"
             ],
             [
              0.7777777777777778,
              "#fb9f3a"
             ],
             [
              0.8888888888888888,
              "#fdca26"
             ],
             [
              1,
              "#f0f921"
             ]
            ],
            "type": "histogram2dcontour"
           }
          ],
          "mesh3d": [
           {
            "colorbar": {
             "outlinewidth": 0,
             "ticks": ""
            },
            "type": "mesh3d"
           }
          ],
          "parcoords": [
           {
            "line": {
             "colorbar": {
              "outlinewidth": 0,
              "ticks": ""
             }
            },
            "type": "parcoords"
           }
          ],
          "pie": [
           {
            "automargin": true,
            "type": "pie"
           }
          ],
          "scatter": [
           {
            "marker": {
             "colorbar": {
              "outlinewidth": 0,
              "ticks": ""
             }
            },
            "type": "scatter"
           }
          ],
          "scatter3d": [
           {
            "line": {
             "colorbar": {
              "outlinewidth": 0,
              "ticks": ""
             }
            },
            "marker": {
             "colorbar": {
              "outlinewidth": 0,
              "ticks": ""
             }
            },
            "type": "scatter3d"
           }
          ],
          "scattercarpet": [
           {
            "marker": {
             "colorbar": {
              "outlinewidth": 0,
              "ticks": ""
             }
            },
            "type": "scattercarpet"
           }
          ],
          "scattergeo": [
           {
            "marker": {
             "colorbar": {
              "outlinewidth": 0,
              "ticks": ""
             }
            },
            "type": "scattergeo"
           }
          ],
          "scattergl": [
           {
            "marker": {
             "colorbar": {
              "outlinewidth": 0,
              "ticks": ""
             }
            },
            "type": "scattergl"
           }
          ],
          "scattermapbox": [
           {
            "marker": {
             "colorbar": {
              "outlinewidth": 0,
              "ticks": ""
             }
            },
            "type": "scattermapbox"
           }
          ],
          "scatterpolar": [
           {
            "marker": {
             "colorbar": {
              "outlinewidth": 0,
              "ticks": ""
             }
            },
            "type": "scatterpolar"
           }
          ],
          "scatterpolargl": [
           {
            "marker": {
             "colorbar": {
              "outlinewidth": 0,
              "ticks": ""
             }
            },
            "type": "scatterpolargl"
           }
          ],
          "scatterternary": [
           {
            "marker": {
             "colorbar": {
              "outlinewidth": 0,
              "ticks": ""
             }
            },
            "type": "scatterternary"
           }
          ],
          "surface": [
           {
            "colorbar": {
             "outlinewidth": 0,
             "ticks": ""
            },
            "colorscale": [
             [
              0,
              "#0d0887"
             ],
             [
              0.1111111111111111,
              "#46039f"
             ],
             [
              0.2222222222222222,
              "#7201a8"
             ],
             [
              0.3333333333333333,
              "#9c179e"
             ],
             [
              0.4444444444444444,
              "#bd3786"
             ],
             [
              0.5555555555555556,
              "#d8576b"
             ],
             [
              0.6666666666666666,
              "#ed7953"
             ],
             [
              0.7777777777777778,
              "#fb9f3a"
             ],
             [
              0.8888888888888888,
              "#fdca26"
             ],
             [
              1,
              "#f0f921"
             ]
            ],
            "type": "surface"
           }
          ],
          "table": [
           {
            "cells": {
             "fill": {
              "color": "#EBF0F8"
             },
             "line": {
              "color": "white"
             }
            },
            "header": {
             "fill": {
              "color": "#C8D4E3"
             },
             "line": {
              "color": "white"
             }
            },
            "type": "table"
           }
          ]
         },
         "layout": {
          "annotationdefaults": {
           "arrowcolor": "#2a3f5f",
           "arrowhead": 0,
           "arrowwidth": 1
          },
          "autotypenumbers": "strict",
          "coloraxis": {
           "colorbar": {
            "outlinewidth": 0,
            "ticks": ""
           }
          },
          "colorscale": {
           "diverging": [
            [
             0,
             "#8e0152"
            ],
            [
             0.1,
             "#c51b7d"
            ],
            [
             0.2,
             "#de77ae"
            ],
            [
             0.3,
             "#f1b6da"
            ],
            [
             0.4,
             "#fde0ef"
            ],
            [
             0.5,
             "#f7f7f7"
            ],
            [
             0.6,
             "#e6f5d0"
            ],
            [
             0.7,
             "#b8e186"
            ],
            [
             0.8,
             "#7fbc41"
            ],
            [
             0.9,
             "#4d9221"
            ],
            [
             1,
             "#276419"
            ]
           ],
           "sequential": [
            [
             0,
             "#0d0887"
            ],
            [
             0.1111111111111111,
             "#46039f"
            ],
            [
             0.2222222222222222,
             "#7201a8"
            ],
            [
             0.3333333333333333,
             "#9c179e"
            ],
            [
             0.4444444444444444,
             "#bd3786"
            ],
            [
             0.5555555555555556,
             "#d8576b"
            ],
            [
             0.6666666666666666,
             "#ed7953"
            ],
            [
             0.7777777777777778,
             "#fb9f3a"
            ],
            [
             0.8888888888888888,
             "#fdca26"
            ],
            [
             1,
             "#f0f921"
            ]
           ],
           "sequentialminus": [
            [
             0,
             "#0d0887"
            ],
            [
             0.1111111111111111,
             "#46039f"
            ],
            [
             0.2222222222222222,
             "#7201a8"
            ],
            [
             0.3333333333333333,
             "#9c179e"
            ],
            [
             0.4444444444444444,
             "#bd3786"
            ],
            [
             0.5555555555555556,
             "#d8576b"
            ],
            [
             0.6666666666666666,
             "#ed7953"
            ],
            [
             0.7777777777777778,
             "#fb9f3a"
            ],
            [
             0.8888888888888888,
             "#fdca26"
            ],
            [
             1,
             "#f0f921"
            ]
           ]
          },
          "colorway": [
           "#636efa",
           "#EF553B",
           "#00cc96",
           "#ab63fa",
           "#FFA15A",
           "#19d3f3",
           "#FF6692",
           "#B6E880",
           "#FF97FF",
           "#FECB52"
          ],
          "font": {
           "color": "#2a3f5f"
          },
          "geo": {
           "bgcolor": "white",
           "lakecolor": "white",
           "landcolor": "#E5ECF6",
           "showlakes": true,
           "showland": true,
           "subunitcolor": "white"
          },
          "hoverlabel": {
           "align": "left"
          },
          "hovermode": "closest",
          "mapbox": {
           "style": "light"
          },
          "paper_bgcolor": "white",
          "plot_bgcolor": "#E5ECF6",
          "polar": {
           "angularaxis": {
            "gridcolor": "white",
            "linecolor": "white",
            "ticks": ""
           },
           "bgcolor": "#E5ECF6",
           "radialaxis": {
            "gridcolor": "white",
            "linecolor": "white",
            "ticks": ""
           }
          },
          "scene": {
           "xaxis": {
            "backgroundcolor": "#E5ECF6",
            "gridcolor": "white",
            "gridwidth": 2,
            "linecolor": "white",
            "showbackground": true,
            "ticks": "",
            "zerolinecolor": "white"
           },
           "yaxis": {
            "backgroundcolor": "#E5ECF6",
            "gridcolor": "white",
            "gridwidth": 2,
            "linecolor": "white",
            "showbackground": true,
            "ticks": "",
            "zerolinecolor": "white"
           },
           "zaxis": {
            "backgroundcolor": "#E5ECF6",
            "gridcolor": "white",
            "gridwidth": 2,
            "linecolor": "white",
            "showbackground": true,
            "ticks": "",
            "zerolinecolor": "white"
           }
          },
          "shapedefaults": {
           "line": {
            "color": "#2a3f5f"
           }
          },
          "ternary": {
           "aaxis": {
            "gridcolor": "white",
            "linecolor": "white",
            "ticks": ""
           },
           "baxis": {
            "gridcolor": "white",
            "linecolor": "white",
            "ticks": ""
           },
           "bgcolor": "#E5ECF6",
           "caxis": {
            "gridcolor": "white",
            "linecolor": "white",
            "ticks": ""
           }
          },
          "title": {
           "x": 0.05
          },
          "xaxis": {
           "automargin": true,
           "gridcolor": "white",
           "linecolor": "white",
           "ticks": "",
           "title": {
            "standoff": 15
           },
           "zerolinecolor": "white",
           "zerolinewidth": 2
          },
          "yaxis": {
           "automargin": true,
           "gridcolor": "white",
           "linecolor": "white",
           "ticks": "",
           "title": {
            "standoff": 15
           },
           "zerolinecolor": "white",
           "zerolinewidth": 2
          }
         }
        },
        "xaxis": {
         "anchor": "y",
         "domain": [
          0,
          1
         ],
         "title": {
          "text": "0"
         }
        },
        "yaxis": {
         "anchor": "x",
         "domain": [
          0,
          1
         ],
         "title": {
          "text": "1"
         }
        }
       }
      },
      "text/html": [
       "<div>                            <div id=\"c386d4b4-f44d-4244-954f-4b46518cb07d\" class=\"plotly-graph-div\" style=\"height:525px; width:100%;\"></div>            <script type=\"text/javascript\">                require([\"plotly\"], function(Plotly) {                    window.PLOTLYENV=window.PLOTLYENV || {};                                    if (document.getElementById(\"c386d4b4-f44d-4244-954f-4b46518cb07d\")) {                    Plotly.newPlot(                        \"c386d4b4-f44d-4244-954f-4b46518cb07d\",                        [{\"hovertemplate\":\"partyname=EELV<br>0=%{x}<br>1=%{y}<br>name_year=%{text}<extra></extra>\",\"legendgroup\":\"EELV\",\"marker\":{\"color\":\"green\",\"symbol\":\"circle\"},\"mode\":\"markers+text\",\"name\":\"EELV\",\"orientation\":\"v\",\"showlegend\":true,\"text\":[\"EELV_2002\",\"EELV_2007\",\"EELV_2012\",\"EELV_2017\"],\"type\":\"scatter\",\"x\":[-1.5729997357353096,1.1641811038183378,-0.16968571522208617,-2.6663609284777054],\"xaxis\":\"x\",\"y\":[4.283451435562349,-0.05305423389697981,-0.9076947041586876,2.467889671763597],\"yaxis\":\"y\"},{\"hovertemplate\":\"partyname=PS<br>0=%{x}<br>1=%{y}<br>name_year=%{text}<extra></extra>\",\"legendgroup\":\"PS\",\"marker\":{\"color\":\"pink\",\"symbol\":\"circle\"},\"mode\":\"markers+text\",\"name\":\"PS\",\"orientation\":\"v\",\"showlegend\":true,\"text\":[\"PS_2002\",\"PS_2007\",\"PS_2012\",\"PS_2017\"],\"type\":\"scatter\",\"x\":[4.276141196838581,0.672093287589635,-0.3565933234509975,-3.786417280830517],\"xaxis\":\"x\",\"y\":[1.3504674176980778,-0.19440227650946001,-0.21921101337628596,0.5566576420947551],\"yaxis\":\"y\"},{\"hovertemplate\":\"partyname=MoDem/EM<br>0=%{x}<br>1=%{y}<br>name_year=%{text}<extra></extra>\",\"legendgroup\":\"MoDem/EM\",\"marker\":{\"color\":\"orange\",\"symbol\":\"circle\"},\"mode\":\"markers+text\",\"name\":\"MoDem/EM\",\"orientation\":\"v\",\"showlegend\":true,\"text\":[\"MoDem/EM_2002\",\"MoDem/EM_2007\",\"MoDem/EM_2012\",\"MoDem/EM_2017\"],\"type\":\"scatter\",\"x\":[2.1894494540334444,2.5875318318298457,0.5424670989436139,-1.223637805242318],\"xaxis\":\"x\",\"y\":[-0.35134249791277306,0.3825967087426809,1.040871555781063,1.9111499634448426],\"yaxis\":\"y\"},{\"hovertemplate\":\"partyname=RPR/UMP/LR<br>0=%{x}<br>1=%{y}<br>name_year=%{text}<extra></extra>\",\"legendgroup\":\"RPR/UMP/LR\",\"marker\":{\"color\":\"blue\",\"symbol\":\"circle\"},\"mode\":\"markers+text\",\"name\":\"RPR/UMP/LR\",\"orientation\":\"v\",\"showlegend\":true,\"text\":[\"RPR/UMP/LR_2002\",\"RPR/UMP/LR_2007\",\"RPR/UMP/LR_2012\",\"RPR/UMP/LR_2017\"],\"type\":\"scatter\",\"x\":[-0.589869815936371,2.075689102968929,1.8186610946633819,-2.4064331964317662],\"xaxis\":\"x\",\"y\":[2.4904968381493844,-2.0572480423987014,-1.3126442722463874,-0.19340010147514333],\"yaxis\":\"y\"},{\"hovertemplate\":\"partyname=FN<br>0=%{x}<br>1=%{y}<br>name_year=%{text}<extra></extra>\",\"legendgroup\":\"FN\",\"marker\":{\"color\":\"darkslateblue\",\"symbol\":\"circle\"},\"mode\":\"markers+text\",\"name\":\"FN\",\"orientation\":\"v\",\"showlegend\":true,\"text\":[\"FN_2002\",\"FN_2007\",\"FN_2012\",\"FN_2017\"],\"type\":\"scatter\",\"x\":[-0.8987942996100073,-1.0952530892918328,-2.199262261489493,-0.6990638180764336],\"xaxis\":\"x\",\"y\":[-2.857947600259346,-1.7841330396577773,-3.5204309217346146,-2.7112898526572216],\"yaxis\":\"y\"},{\"hovertemplate\":\"partyname=PCF/PG/LFI<br>0=%{x}<br>1=%{y}<br>name_year=%{text}<extra></extra>\",\"legendgroup\":\"PCF/PG/LFI\",\"marker\":{\"color\":\"red\",\"symbol\":\"circle\"},\"mode\":\"markers+text\",\"name\":\"PCF/PG/LFI\",\"orientation\":\"v\",\"showlegend\":true,\"text\":[\"PCF/PG/LFI_2007\",\"PCF/PG/LFI_2012\",\"PCF/PG/LFI_2017\"],\"type\":\"scatter\",\"x\":[1.4896595526386445,1.8841363854039836,-1.0356388389335556],\"xaxis\":\"x\",\"y\":[1.7679875710655275,0.6642656680098256,-0.7530359160287253],\"yaxis\":\"y\"}],                        {\"legend\":{\"title\":{\"text\":\"partyname\"},\"tracegroupgap\":0},\"margin\":{\"t\":60},\"template\":{\"data\":{\"bar\":[{\"error_x\":{\"color\":\"#2a3f5f\"},\"error_y\":{\"color\":\"#2a3f5f\"},\"marker\":{\"line\":{\"color\":\"#E5ECF6\",\"width\":0.5},\"pattern\":{\"fillmode\":\"overlay\",\"size\":10,\"solidity\":0.2}},\"type\":\"bar\"}],\"barpolar\":[{\"marker\":{\"line\":{\"color\":\"#E5ECF6\",\"width\":0.5},\"pattern\":{\"fillmode\":\"overlay\",\"size\":10,\"solidity\":0.2}},\"type\":\"barpolar\"}],\"carpet\":[{\"aaxis\":{\"endlinecolor\":\"#2a3f5f\",\"gridcolor\":\"white\",\"linecolor\":\"white\",\"minorgridcolor\":\"white\",\"startlinecolor\":\"#2a3f5f\"},\"baxis\":{\"endlinecolor\":\"#2a3f5f\",\"gridcolor\":\"white\",\"linecolor\":\"white\",\"minorgridcolor\":\"white\",\"startlinecolor\":\"#2a3f5f\"},\"type\":\"carpet\"}],\"choropleth\":[{\"colorbar\":{\"outlinewidth\":0,\"ticks\":\"\"},\"type\":\"choropleth\"}],\"contour\":[{\"colorbar\":{\"outlinewidth\":0,\"ticks\":\"\"},\"colorscale\":[[0.0,\"#0d0887\"],[0.1111111111111111,\"#46039f\"],[0.2222222222222222,\"#7201a8\"],[0.3333333333333333,\"#9c179e\"],[0.4444444444444444,\"#bd3786\"],[0.5555555555555556,\"#d8576b\"],[0.6666666666666666,\"#ed7953\"],[0.7777777777777778,\"#fb9f3a\"],[0.8888888888888888,\"#fdca26\"],[1.0,\"#f0f921\"]],\"type\":\"contour\"}],\"contourcarpet\":[{\"colorbar\":{\"outlinewidth\":0,\"ticks\":\"\"},\"type\":\"contourcarpet\"}],\"heatmap\":[{\"colorbar\":{\"outlinewidth\":0,\"ticks\":\"\"},\"colorscale\":[[0.0,\"#0d0887\"],[0.1111111111111111,\"#46039f\"],[0.2222222222222222,\"#7201a8\"],[0.3333333333333333,\"#9c179e\"],[0.4444444444444444,\"#bd3786\"],[0.5555555555555556,\"#d8576b\"],[0.6666666666666666,\"#ed7953\"],[0.7777777777777778,\"#fb9f3a\"],[0.8888888888888888,\"#fdca26\"],[1.0,\"#f0f921\"]],\"type\":\"heatmap\"}],\"heatmapgl\":[{\"colorbar\":{\"outlinewidth\":0,\"ticks\":\"\"},\"colorscale\":[[0.0,\"#0d0887\"],[0.1111111111111111,\"#46039f\"],[0.2222222222222222,\"#7201a8\"],[0.3333333333333333,\"#9c179e\"],[0.4444444444444444,\"#bd3786\"],[0.5555555555555556,\"#d8576b\"],[0.6666666666666666,\"#ed7953\"],[0.7777777777777778,\"#fb9f3a\"],[0.8888888888888888,\"#fdca26\"],[1.0,\"#f0f921\"]],\"type\":\"heatmapgl\"}],\"histogram\":[{\"marker\":{\"pattern\":{\"fillmode\":\"overlay\",\"size\":10,\"solidity\":0.2}},\"type\":\"histogram\"}],\"histogram2d\":[{\"colorbar\":{\"outlinewidth\":0,\"ticks\":\"\"},\"colorscale\":[[0.0,\"#0d0887\"],[0.1111111111111111,\"#46039f\"],[0.2222222222222222,\"#7201a8\"],[0.3333333333333333,\"#9c179e\"],[0.4444444444444444,\"#bd3786\"],[0.5555555555555556,\"#d8576b\"],[0.6666666666666666,\"#ed7953\"],[0.7777777777777778,\"#fb9f3a\"],[0.8888888888888888,\"#fdca26\"],[1.0,\"#f0f921\"]],\"type\":\"histogram2d\"}],\"histogram2dcontour\":[{\"colorbar\":{\"outlinewidth\":0,\"ticks\":\"\"},\"colorscale\":[[0.0,\"#0d0887\"],[0.1111111111111111,\"#46039f\"],[0.2222222222222222,\"#7201a8\"],[0.3333333333333333,\"#9c179e\"],[0.4444444444444444,\"#bd3786\"],[0.5555555555555556,\"#d8576b\"],[0.6666666666666666,\"#ed7953\"],[0.7777777777777778,\"#fb9f3a\"],[0.8888888888888888,\"#fdca26\"],[1.0,\"#f0f921\"]],\"type\":\"histogram2dcontour\"}],\"mesh3d\":[{\"colorbar\":{\"outlinewidth\":0,\"ticks\":\"\"},\"type\":\"mesh3d\"}],\"parcoords\":[{\"line\":{\"colorbar\":{\"outlinewidth\":0,\"ticks\":\"\"}},\"type\":\"parcoords\"}],\"pie\":[{\"automargin\":true,\"type\":\"pie\"}],\"scatter\":[{\"marker\":{\"colorbar\":{\"outlinewidth\":0,\"ticks\":\"\"}},\"type\":\"scatter\"}],\"scatter3d\":[{\"line\":{\"colorbar\":{\"outlinewidth\":0,\"ticks\":\"\"}},\"marker\":{\"colorbar\":{\"outlinewidth\":0,\"ticks\":\"\"}},\"type\":\"scatter3d\"}],\"scattercarpet\":[{\"marker\":{\"colorbar\":{\"outlinewidth\":0,\"ticks\":\"\"}},\"type\":\"scattercarpet\"}],\"scattergeo\":[{\"marker\":{\"colorbar\":{\"outlinewidth\":0,\"ticks\":\"\"}},\"type\":\"scattergeo\"}],\"scattergl\":[{\"marker\":{\"colorbar\":{\"outlinewidth\":0,\"ticks\":\"\"}},\"type\":\"scattergl\"}],\"scattermapbox\":[{\"marker\":{\"colorbar\":{\"outlinewidth\":0,\"ticks\":\"\"}},\"type\":\"scattermapbox\"}],\"scatterpolar\":[{\"marker\":{\"colorbar\":{\"outlinewidth\":0,\"ticks\":\"\"}},\"type\":\"scatterpolar\"}],\"scatterpolargl\":[{\"marker\":{\"colorbar\":{\"outlinewidth\":0,\"ticks\":\"\"}},\"type\":\"scatterpolargl\"}],\"scatterternary\":[{\"marker\":{\"colorbar\":{\"outlinewidth\":0,\"ticks\":\"\"}},\"type\":\"scatterternary\"}],\"surface\":[{\"colorbar\":{\"outlinewidth\":0,\"ticks\":\"\"},\"colorscale\":[[0.0,\"#0d0887\"],[0.1111111111111111,\"#46039f\"],[0.2222222222222222,\"#7201a8\"],[0.3333333333333333,\"#9c179e\"],[0.4444444444444444,\"#bd3786\"],[0.5555555555555556,\"#d8576b\"],[0.6666666666666666,\"#ed7953\"],[0.7777777777777778,\"#fb9f3a\"],[0.8888888888888888,\"#fdca26\"],[1.0,\"#f0f921\"]],\"type\":\"surface\"}],\"table\":[{\"cells\":{\"fill\":{\"color\":\"#EBF0F8\"},\"line\":{\"color\":\"white\"}},\"header\":{\"fill\":{\"color\":\"#C8D4E3\"},\"line\":{\"color\":\"white\"}},\"type\":\"table\"}]},\"layout\":{\"annotationdefaults\":{\"arrowcolor\":\"#2a3f5f\",\"arrowhead\":0,\"arrowwidth\":1},\"autotypenumbers\":\"strict\",\"coloraxis\":{\"colorbar\":{\"outlinewidth\":0,\"ticks\":\"\"}},\"colorscale\":{\"diverging\":[[0,\"#8e0152\"],[0.1,\"#c51b7d\"],[0.2,\"#de77ae\"],[0.3,\"#f1b6da\"],[0.4,\"#fde0ef\"],[0.5,\"#f7f7f7\"],[0.6,\"#e6f5d0\"],[0.7,\"#b8e186\"],[0.8,\"#7fbc41\"],[0.9,\"#4d9221\"],[1,\"#276419\"]],\"sequential\":[[0.0,\"#0d0887\"],[0.1111111111111111,\"#46039f\"],[0.2222222222222222,\"#7201a8\"],[0.3333333333333333,\"#9c179e\"],[0.4444444444444444,\"#bd3786\"],[0.5555555555555556,\"#d8576b\"],[0.6666666666666666,\"#ed7953\"],[0.7777777777777778,\"#fb9f3a\"],[0.8888888888888888,\"#fdca26\"],[1.0,\"#f0f921\"]],\"sequentialminus\":[[0.0,\"#0d0887\"],[0.1111111111111111,\"#46039f\"],[0.2222222222222222,\"#7201a8\"],[0.3333333333333333,\"#9c179e\"],[0.4444444444444444,\"#bd3786\"],[0.5555555555555556,\"#d8576b\"],[0.6666666666666666,\"#ed7953\"],[0.7777777777777778,\"#fb9f3a\"],[0.8888888888888888,\"#fdca26\"],[1.0,\"#f0f921\"]]},\"colorway\":[\"#636efa\",\"#EF553B\",\"#00cc96\",\"#ab63fa\",\"#FFA15A\",\"#19d3f3\",\"#FF6692\",\"#B6E880\",\"#FF97FF\",\"#FECB52\"],\"font\":{\"color\":\"#2a3f5f\"},\"geo\":{\"bgcolor\":\"white\",\"lakecolor\":\"white\",\"landcolor\":\"#E5ECF6\",\"showlakes\":true,\"showland\":true,\"subunitcolor\":\"white\"},\"hoverlabel\":{\"align\":\"left\"},\"hovermode\":\"closest\",\"mapbox\":{\"style\":\"light\"},\"paper_bgcolor\":\"white\",\"plot_bgcolor\":\"#E5ECF6\",\"polar\":{\"angularaxis\":{\"gridcolor\":\"white\",\"linecolor\":\"white\",\"ticks\":\"\"},\"bgcolor\":\"#E5ECF6\",\"radialaxis\":{\"gridcolor\":\"white\",\"linecolor\":\"white\",\"ticks\":\"\"}},\"scene\":{\"xaxis\":{\"backgroundcolor\":\"#E5ECF6\",\"gridcolor\":\"white\",\"gridwidth\":2,\"linecolor\":\"white\",\"showbackground\":true,\"ticks\":\"\",\"zerolinecolor\":\"white\"},\"yaxis\":{\"backgroundcolor\":\"#E5ECF6\",\"gridcolor\":\"white\",\"gridwidth\":2,\"linecolor\":\"white\",\"showbackground\":true,\"ticks\":\"\",\"zerolinecolor\":\"white\"},\"zaxis\":{\"backgroundcolor\":\"#E5ECF6\",\"gridcolor\":\"white\",\"gridwidth\":2,\"linecolor\":\"white\",\"showbackground\":true,\"ticks\":\"\",\"zerolinecolor\":\"white\"}},\"shapedefaults\":{\"line\":{\"color\":\"#2a3f5f\"}},\"ternary\":{\"aaxis\":{\"gridcolor\":\"white\",\"linecolor\":\"white\",\"ticks\":\"\"},\"baxis\":{\"gridcolor\":\"white\",\"linecolor\":\"white\",\"ticks\":\"\"},\"bgcolor\":\"#E5ECF6\",\"caxis\":{\"gridcolor\":\"white\",\"linecolor\":\"white\",\"ticks\":\"\"}},\"title\":{\"x\":0.05},\"xaxis\":{\"automargin\":true,\"gridcolor\":\"white\",\"linecolor\":\"white\",\"ticks\":\"\",\"title\":{\"standoff\":15},\"zerolinecolor\":\"white\",\"zerolinewidth\":2},\"yaxis\":{\"automargin\":true,\"gridcolor\":\"white\",\"linecolor\":\"white\",\"ticks\":\"\",\"title\":{\"standoff\":15},\"zerolinecolor\":\"white\",\"zerolinewidth\":2}}},\"xaxis\":{\"anchor\":\"y\",\"domain\":[0.0,1.0],\"title\":{\"text\":\"0\"}},\"yaxis\":{\"anchor\":\"x\",\"domain\":[0.0,1.0],\"title\":{\"text\":\"1\"}}},                        {\"responsive\": true}                    ).then(function(){\n",
       "                            \n",
       "var gd = document.getElementById('c386d4b4-f44d-4244-954f-4b46518cb07d');\n",
       "var x = new MutationObserver(function (mutations, observer) {{\n",
       "        var display = window.getComputedStyle(gd).display;\n",
       "        if (!display || display === 'none') {{\n",
       "            console.log([gd, 'removed!']);\n",
       "            Plotly.purge(gd);\n",
       "            observer.disconnect();\n",
       "        }}\n",
       "}});\n",
       "\n",
       "// Listen for the removal of the full notebook cells\n",
       "var notebookContainer = gd.closest('#notebook-container');\n",
       "if (notebookContainer) {{\n",
       "    x.observe(notebookContainer, {childList: true});\n",
       "}}\n",
       "\n",
       "// Listen for the clearing of the current output cell\n",
       "var outputEl = gd.closest('.output');\n",
       "if (outputEl) {{\n",
       "    x.observe(outputEl, {childList: true});\n",
       "}}\n",
       "\n",
       "                        })                };                });            </script>        </div>"
      ]
     },
     "metadata": {},
     "output_type": "display_data"
    }
   ],
   "source": [
    "fig = px.scatter(pca_manifesto, x=0, y=1, color='partyname', text='name_year', \n",
    "                 color_discrete_map=dict_color,\n",
    "#                 labels={\"0\":\"PC 1\", \"1\":\"PC 2\"},\n",
    "#                 range_x=[-5,5], range_y=[-5,5],\n",
    "#                 height=1000, width=1200\n",
    "                )\n",
    "\n",
    "fig.show()"
   ]
  },
  {
   "cell_type": "code",
   "execution_count": null,
   "id": "4f8fe04a",
   "metadata": {},
   "outputs": [],
   "source": []
  },
  {
   "cell_type": "code",
   "execution_count": null,
   "id": "21da4556",
   "metadata": {},
   "outputs": [],
   "source": []
  },
  {
   "cell_type": "code",
   "execution_count": null,
   "id": "4bd26fc9",
   "metadata": {},
   "outputs": [],
   "source": []
  },
  {
   "cell_type": "code",
   "execution_count": null,
   "id": "7775a93f",
   "metadata": {},
   "outputs": [],
   "source": []
  },
  {
   "cell_type": "code",
   "execution_count": 340,
   "id": "afea457a",
   "metadata": {},
   "outputs": [],
   "source": [
    "import umap"
   ]
  },
  {
   "cell_type": "code",
   "execution_count": 341,
   "id": "d56147eb",
   "metadata": {},
   "outputs": [],
   "source": [
    "import umap.plot"
   ]
  },
  {
   "cell_type": "code",
   "execution_count": 883,
   "id": "020fc86a",
   "metadata": {},
   "outputs": [
    {
     "data": {
      "application/vnd.plotly.v1+json": {
       "config": {
        "plotlyServerURL": "https://plot.ly"
       },
       "data": [
        {
         "customdata": [
          [
           3
          ],
          [
           3
          ],
          [
           3
          ],
          [
           3
          ],
          [
           3
          ],
          [
           3
          ],
          [
           3
          ],
          [
           3
          ],
          [
           3
          ],
          [
           3
          ],
          [
           3
          ],
          [
           3
          ],
          [
           3
          ],
          [
           3
          ],
          [
           3
          ],
          [
           3
          ],
          [
           3
          ],
          [
           3
          ],
          [
           3
          ],
          [
           3
          ],
          [
           3
          ],
          [
           3
          ],
          [
           3
          ],
          [
           3
          ],
          [
           3
          ],
          [
           3
          ],
          [
           3
          ],
          [
           3
          ],
          [
           3
          ],
          [
           3
          ],
          [
           3
          ],
          [
           3
          ],
          [
           3
          ],
          [
           3
          ],
          [
           3
          ],
          [
           3
          ],
          [
           3
          ],
          [
           3
          ],
          [
           3
          ],
          [
           3
          ],
          [
           3
          ],
          [
           3
          ],
          [
           3
          ],
          [
           3
          ],
          [
           3
          ],
          [
           3
          ]
         ],
         "hovertemplate": "topic_name=citoyennete<br>0=%{x}<br>1=%{y}<br>topic=%{customdata[0]}<extra></extra>",
         "legendgroup": "citoyennete",
         "marker": {
          "color": "#FD3216",
          "symbol": "circle"
         },
         "mode": "markers",
         "name": "citoyennete",
         "showlegend": true,
         "type": "scattergl",
         "x": [
          8.151793479919434,
          8.04996109008789,
          8.0618314743042,
          7.906888961791992,
          7.952371120452881,
          8.91262149810791,
          8.701518058776855,
          8.716135025024414,
          9.081538200378418,
          8.932520866394043,
          8.82481575012207,
          8.816625595092773,
          8.597710609436035,
          8.887965202331543,
          8.776327133178711,
          8.67109489440918,
          8.611703872680664,
          8.509586334228516,
          9.372039794921875,
          9.265316009521484,
          11.12822437286377,
          8.413484573364258,
          7.893679618835449,
          8.54348087310791,
          9.188298225402832,
          7.997786998748779,
          8.06480598449707,
          8.16984748840332,
          7.8720526695251465,
          7.9056477546691895,
          7.793216705322266,
          7.832490921020508,
          8.006155014038086,
          7.943228244781494,
          8.051962852478027,
          8.191089630126953,
          8.020140647888184,
          8.249756813049316,
          8.173470497131348,
          8.259148597717285,
          8.217702865600586,
          7.912448883056641,
          8.245643615722656,
          7.989555358886719,
          7.927748680114746,
          7.910377025604248
         ],
         "xaxis": "x",
         "y": [
          4.497936725616455,
          4.450077533721924,
          4.5966339111328125,
          4.471343517303467,
          5.144280433654785,
          3.9451076984405518,
          3.949324131011963,
          4.0043511390686035,
          3.8640317916870117,
          4.043670654296875,
          4.125659942626953,
          4.153120517730713,
          4.067629337310791,
          4.113953590393066,
          4.150389671325684,
          4.27609920501709,
          4.094688892364502,
          4.025670051574707,
          4.1182122230529785,
          4.001659870147705,
          3.0079400539398193,
          4.0191802978515625,
          4.980296611785889,
          4.062341213226318,
          3.945974349975586,
          4.384531021118164,
          4.760521411895752,
          3.981229543685913,
          4.392330169677734,
          4.0756144523620605,
          4.915268421173096,
          5.509251117706299,
          4.2970781326293945,
          4.300505638122559,
          4.33783483505249,
          4.736603736877441,
          4.885361194610596,
          4.6618194580078125,
          4.433027267456055,
          4.855652809143066,
          4.50933837890625,
          4.199944972991943,
          4.474969863891602,
          4.6284990310668945,
          4.260647296905518,
          4.1384100914001465
         ],
         "yaxis": "y"
        },
        {
         "customdata": [
          [
           5
          ],
          [
           5
          ],
          [
           5
          ],
          [
           5
          ],
          [
           5
          ],
          [
           5
          ],
          [
           5
          ],
          [
           5
          ],
          [
           5
          ],
          [
           5
          ],
          [
           5
          ],
          [
           5
          ],
          [
           5
          ],
          [
           5
          ],
          [
           5
          ],
          [
           5
          ],
          [
           5
          ],
          [
           5
          ],
          [
           5
          ],
          [
           5
          ],
          [
           5
          ],
          [
           5
          ],
          [
           5
          ],
          [
           5
          ],
          [
           5
          ],
          [
           5
          ],
          [
           5
          ],
          [
           5
          ],
          [
           5
          ],
          [
           5
          ],
          [
           5
          ],
          [
           5
          ],
          [
           5
          ],
          [
           5
          ],
          [
           5
          ],
          [
           5
          ],
          [
           5
          ],
          [
           5
          ],
          [
           5
          ],
          [
           5
          ],
          [
           5
          ],
          [
           5
          ],
          [
           5
          ],
          [
           5
          ],
          [
           5
          ],
          [
           5
          ],
          [
           5
          ]
         ],
         "hovertemplate": "topic_name=fiscal<br>0=%{x}<br>1=%{y}<br>topic=%{customdata[0]}<extra></extra>",
         "legendgroup": "fiscal",
         "marker": {
          "color": "#00FE35",
          "symbol": "circle"
         },
         "mode": "markers",
         "name": "fiscal",
         "showlegend": true,
         "type": "scattergl",
         "x": [
          6.383235931396484,
          6.180448532104492,
          6.265092372894287,
          6.365176677703857,
          5.878997802734375,
          5.981733798980713,
          5.521338939666748,
          7.303760051727295,
          5.818974494934082,
          6.235665798187256,
          6.151336669921875,
          6.250068664550781,
          6.326099872589111,
          6.350709438323975,
          6.325880527496338,
          6.259701728820801,
          6.2563066482543945,
          6.244716644287109,
          6.290655612945557,
          5.9111223220825195,
          5.883116722106934,
          5.954251289367676,
          5.652789115905762,
          5.823102951049805,
          5.627557754516602,
          6.125227928161621,
          6.1740217208862305,
          6.309925079345703,
          6.270094394683838,
          5.402255058288574,
          6.252797603607178,
          5.846022129058838,
          6.017107963562012,
          5.426473617553711,
          6.311837196350098,
          5.73074197769165,
          6.238466262817383,
          5.466122627258301,
          5.185323715209961,
          5.584779262542725,
          6.713635444641113,
          6.282306671142578,
          6.025411128997803,
          6.333041191101074,
          6.355465412139893,
          6.416858196258545,
          6.257410049438477
         ],
         "xaxis": "x",
         "y": [
          5.849808216094971,
          5.538475036621094,
          5.690207004547119,
          5.903425216674805,
          5.538245677947998,
          5.577678203582764,
          5.723703861236572,
          6.29193639755249,
          5.304988861083984,
          5.436655521392822,
          5.697887897491455,
          5.736592769622803,
          5.716776371002197,
          5.789439678192139,
          5.750245571136475,
          5.478233814239502,
          5.6430487632751465,
          5.727603912353516,
          5.864896297454834,
          5.451151371002197,
          5.485366344451904,
          5.619783878326416,
          6.061532974243164,
          5.653801441192627,
          5.65410852432251,
          5.439957141876221,
          5.7300920486450195,
          5.440232753753662,
          5.72972297668457,
          5.304247856140137,
          5.803260326385498,
          5.557966709136963,
          5.581221103668213,
          5.255692958831787,
          5.802076816558838,
          5.086288928985596,
          5.655339241027832,
          5.437702655792236,
          5.5302581787109375,
          5.380245685577393,
          5.9196624755859375,
          5.789958953857422,
          5.633249282836914,
          5.792262554168701,
          5.813872814178467,
          5.678451061248779,
          5.721583366394043
         ],
         "yaxis": "y"
        },
        {
         "customdata": [
          [
           0
          ],
          [
           0
          ],
          [
           0
          ],
          [
           0
          ],
          [
           0
          ],
          [
           0
          ],
          [
           0
          ],
          [
           0
          ],
          [
           0
          ],
          [
           0
          ],
          [
           0
          ],
          [
           0
          ],
          [
           0
          ],
          [
           0
          ],
          [
           0
          ],
          [
           0
          ],
          [
           0
          ],
          [
           0
          ],
          [
           0
          ],
          [
           0
          ],
          [
           0
          ],
          [
           0
          ],
          [
           0
          ],
          [
           0
          ],
          [
           0
          ],
          [
           0
          ],
          [
           0
          ],
          [
           0
          ],
          [
           0
          ],
          [
           0
          ],
          [
           0
          ],
          [
           0
          ],
          [
           0
          ],
          [
           0
          ],
          [
           0
          ],
          [
           0
          ],
          [
           0
          ],
          [
           0
          ],
          [
           0
          ],
          [
           0
          ],
          [
           0
          ],
          [
           0
          ],
          [
           0
          ],
          [
           0
          ],
          [
           0
          ],
          [
           0
          ],
          [
           0
          ],
          [
           0
          ],
          [
           0
          ],
          [
           0
          ],
          [
           0
          ],
          [
           0
          ],
          [
           0
          ],
          [
           0
          ],
          [
           0
          ],
          [
           0
          ],
          [
           0
          ],
          [
           0
          ],
          [
           0
          ],
          [
           0
          ],
          [
           0
          ],
          [
           0
          ],
          [
           0
          ],
          [
           0
          ],
          [
           0
          ],
          [
           0
          ],
          [
           0
          ],
          [
           0
          ],
          [
           0
          ],
          [
           0
          ],
          [
           0
          ],
          [
           0
          ],
          [
           0
          ],
          [
           0
          ],
          [
           0
          ],
          [
           0
          ],
          [
           0
          ],
          [
           0
          ],
          [
           0
          ],
          [
           0
          ],
          [
           0
          ],
          [
           0
          ],
          [
           0
          ],
          [
           0
          ],
          [
           0
          ],
          [
           0
          ],
          [
           0
          ],
          [
           0
          ],
          [
           0
          ],
          [
           0
          ],
          [
           0
          ],
          [
           0
          ],
          [
           0
          ],
          [
           0
          ],
          [
           0
          ],
          [
           0
          ],
          [
           0
          ]
         ],
         "hovertemplate": "topic_name=emploi<br>0=%{x}<br>1=%{y}<br>topic=%{customdata[0]}<extra></extra>",
         "legendgroup": "emploi",
         "marker": {
          "color": "#6A76FC",
          "symbol": "circle"
         },
         "mode": "markers",
         "name": "emploi",
         "showlegend": true,
         "type": "scattergl",
         "x": [
          6.304250717163086,
          6.372367858886719,
          6.3206939697265625,
          6.604902744293213,
          6.8577880859375,
          5.841412544250488,
          5.974585056304932,
          6.560455322265625,
          5.650201320648193,
          6.134737968444824,
          5.933871746063232,
          6.187088489532471,
          6.2571868896484375,
          6.065464019775391,
          6.8826141357421875,
          6.560000419616699,
          6.053703784942627,
          6.274887561798096,
          5.321871280670166,
          6.262834548950195,
          6.224274158477783,
          6.317799091339111,
          6.5856218338012695,
          5.9799041748046875,
          6.154603481292725,
          5.93752384185791,
          6.149160861968994,
          6.212522029876709,
          6.167181968688965,
          6.299973964691162,
          6.3391523361206055,
          6.245961666107178,
          7.177196979522705,
          6.916584014892578,
          6.539063453674316,
          6.054800033569336,
          6.2691216468811035,
          7.2112956047058105,
          6.441394805908203,
          6.640719413757324,
          6.21541166305542,
          6.083262920379639,
          6.325669765472412,
          6.057455062866211,
          6.417850494384766,
          6.442661285400391,
          6.305828094482422,
          6.2735114097595215,
          7.279970169067383,
          6.988791465759277,
          7.017786979675293,
          6.89669132232666,
          7.416991233825684,
          6.582037925720215,
          6.528179168701172,
          6.331668376922607,
          6.407217502593994,
          6.460241794586182,
          6.4220428466796875,
          6.65381383895874,
          6.422798156738281,
          6.486024856567383,
          6.569478988647461,
          6.390050411224365,
          6.644627571105957,
          7.334778785705566,
          6.581448078155518,
          6.441267490386963,
          7.078211784362793,
          6.942726135253906,
          7.073184490203857,
          7.139858245849609,
          6.518298625946045,
          6.48006534576416,
          6.4825263023376465,
          6.649520397186279,
          6.523651123046875,
          6.499660968780518,
          6.957170486450195,
          6.524328708648682,
          5.603526592254639,
          6.4829020500183105,
          7.159039497375488,
          6.328037738800049,
          6.461955547332764,
          6.463802814483643,
          6.7326250076293945,
          6.363180160522461,
          6.961613655090332,
          7.489007472991943,
          6.449739456176758,
          5.853941440582275,
          6.421530246734619,
          6.849458694458008,
          6.349503993988037,
          6.721546173095703,
          6.895015239715576
         ],
         "xaxis": "x",
         "y": [
          7.085636615753174,
          7.556538105010986,
          7.444118022918701,
          7.247718811035156,
          6.961400985717773,
          6.629576206207275,
          7.408680438995361,
          7.485451698303223,
          6.107603549957275,
          7.253633975982666,
          7.402100086212158,
          7.578383922576904,
          7.5941057205200195,
          7.6675848960876465,
          6.9598236083984375,
          6.761830806732178,
          7.530706405639648,
          6.857133388519287,
          5.6829118728637695,
          7.234532833099365,
          7.271559715270996,
          7.109170436859131,
          7.222826957702637,
          7.457930564880371,
          7.319130897521973,
          7.375481128692627,
          7.5778117179870605,
          7.650552272796631,
          7.640754222869873,
          7.0926995277404785,
          7.069136619567871,
          7.094645023345947,
          6.490055561065674,
          6.978865623474121,
          6.747107982635498,
          7.517882823944092,
          7.1101202964782715,
          6.973288536071777,
          7.72036075592041,
          7.026784420013428,
          7.184549808502197,
          7.157520294189453,
          6.970718860626221,
          6.997589588165283,
          7.8011322021484375,
          7.201533317565918,
          6.886787414550781,
          7.469751834869385,
          6.6185479164123535,
          7.024381160736084,
          7.536871910095215,
          7.448685169219971,
          6.846950054168701,
          7.696691036224365,
          7.877138614654541,
          7.237977027893066,
          7.539041519165039,
          7.112823486328125,
          7.872960090637207,
          7.1230597496032715,
          7.360021591186523,
          7.507444381713867,
          7.202150821685791,
          7.518208026885986,
          6.905854225158691,
          6.5437726974487305,
          7.325433731079102,
          7.388838291168213,
          6.953255653381348,
          7.2155022621154785,
          6.982769012451172,
          6.96075963973999,
          7.736070156097412,
          7.768219947814941,
          7.1247477531433105,
          7.221803665161133,
          7.892261981964111,
          7.82928991317749,
          7.075392246246338,
          7.574798583984375,
          5.974810600280762,
          7.713128566741943,
          6.603986740112305,
          7.262665271759033,
          7.85113000869751,
          7.7007951736450195,
          7.550625801086426,
          7.1504998207092285,
          7.065084457397461,
          6.704122066497803,
          7.194812297821045,
          7.141223907470703,
          7.719610691070557,
          7.3628034591674805,
          7.370506763458252,
          6.701468467712402,
          7.075215816497803
         ],
         "yaxis": "y"
        },
        {
         "customdata": [
          [
           6
          ],
          [
           6
          ],
          [
           6
          ],
          [
           6
          ],
          [
           6
          ],
          [
           6
          ],
          [
           6
          ],
          [
           6
          ],
          [
           6
          ],
          [
           6
          ],
          [
           6
          ],
          [
           6
          ],
          [
           6
          ],
          [
           6
          ],
          [
           6
          ],
          [
           6
          ],
          [
           6
          ],
          [
           6
          ],
          [
           6
          ],
          [
           6
          ],
          [
           6
          ],
          [
           6
          ],
          [
           6
          ],
          [
           6
          ],
          [
           6
          ],
          [
           6
          ],
          [
           6
          ],
          [
           6
          ],
          [
           6
          ],
          [
           6
          ],
          [
           6
          ],
          [
           6
          ],
          [
           6
          ],
          [
           6
          ],
          [
           6
          ],
          [
           6
          ],
          [
           6
          ],
          [
           6
          ],
          [
           6
          ],
          [
           6
          ],
          [
           6
          ],
          [
           6
          ],
          [
           6
          ],
          [
           6
          ],
          [
           6
          ],
          [
           6
          ],
          [
           6
          ],
          [
           6
          ],
          [
           6
          ],
          [
           6
          ],
          [
           6
          ],
          [
           6
          ],
          [
           6
          ],
          [
           6
          ],
          [
           6
          ],
          [
           6
          ],
          [
           6
          ],
          [
           6
          ],
          [
           6
          ],
          [
           6
          ],
          [
           6
          ],
          [
           6
          ],
          [
           6
          ],
          [
           6
          ],
          [
           6
          ],
          [
           6
          ],
          [
           6
          ],
          [
           6
          ],
          [
           6
          ],
          [
           6
          ],
          [
           6
          ],
          [
           6
          ]
         ],
         "hovertemplate": "topic_name=judiciaire<br>0=%{x}<br>1=%{y}<br>topic=%{customdata[0]}<extra></extra>",
         "legendgroup": "judiciaire",
         "marker": {
          "color": "#FED4C4",
          "symbol": "circle"
         },
         "mode": "markers",
         "name": "judiciaire",
         "showlegend": true,
         "type": "scattergl",
         "x": [
          9.314896583557129,
          9.41546630859375,
          9.534037590026855,
          9.07889175415039,
          9.201504707336426,
          9.400753021240234,
          8.469271659851074,
          9.33641529083252,
          9.472976684570312,
          8.486032485961914,
          8.432268142700195,
          8.913761138916016,
          9.223745346069336,
          8.707303047180176,
          9.186493873596191,
          9.111654281616211,
          8.967669486999512,
          9.382181167602539,
          9.390100479125977,
          9.401666641235352,
          9.3900728225708,
          9.27700138092041,
          8.499259948730469,
          8.682893753051758,
          8.586838722229004,
          8.70345401763916,
          9.264636039733887,
          9.290274620056152,
          9.417081832885742,
          8.37710189819336,
          8.626567840576172,
          9.323381423950195,
          8.472733497619629,
          9.024603843688965,
          9.121675491333008,
          9.03258991241455,
          8.963695526123047,
          8.5873384475708,
          8.906261444091797,
          9.084283828735352,
          8.304622650146484,
          8.312823295593262,
          8.85924243927002,
          9.439408302307129,
          9.34801197052002,
          9.497121810913086,
          8.500279426574707,
          8.429651260375977,
          9.288610458374023,
          8.793137550354004,
          8.43825626373291,
          8.543136596679688,
          8.50487232208252,
          8.728899955749512,
          8.563799858093262,
          9.512189865112305,
          9.046587944030762,
          8.287765502929688,
          8.427484512329102,
          9.413375854492188,
          9.312955856323242,
          9.114714622497559,
          9.237601280212402,
          8.576615333557129,
          8.600822448730469,
          8.604751586914062,
          8.87679672241211,
          9.06367015838623,
          9.122334480285645,
          9.3589506149292,
          9.113302230834961,
          9.302743911743164
         ],
         "xaxis": "x",
         "y": [
          2.4938201904296875,
          2.3934686183929443,
          2.38840389251709,
          2.4855570793151855,
          2.134296417236328,
          2.276160955429077,
          1.662785291671753,
          2.3965957164764404,
          2.346775770187378,
          1.7121130228042603,
          1.6511791944503784,
          1.777169942855835,
          2.0216073989868164,
          1.9119231700897217,
          2.280395746231079,
          2.537888288497925,
          2.5311732292175293,
          2.036168336868286,
          2.041327953338623,
          2.0198278427124023,
          2.0955147743225098,
          1.9343236684799194,
          1.8787864446640015,
          1.755914330482483,
          1.770843744277954,
          1.8544367551803589,
          1.9964276552200317,
          1.9905651807785034,
          2.144818067550659,
          1.691070556640625,
          1.73078191280365,
          2.048311471939087,
          1.883017897605896,
          2.0572659969329834,
          2.433382034301758,
          2.536795139312744,
          2.6262123584747314,
          1.9887703657150269,
          2.0310823917388916,
          2.2539215087890625,
          1.7570562362670898,
          1.738609790802002,
          1.917600154876709,
          2.359675168991089,
          2.3844871520996094,
          2.3499529361724854,
          1.6672122478485107,
          1.7667702436447144,
          1.961065411567688,
          1.8530186414718628,
          1.70368492603302,
          1.802868127822876,
          1.70768404006958,
          2.7643449306488037,
          1.6957526206970215,
          2.223102331161499,
          2.557462453842163,
          2.134100914001465,
          1.706871509552002,
          2.36468243598938,
          2.109907865524292,
          2.1380503177642822,
          2.2606916427612305,
          1.7704532146453857,
          1.8111786842346191,
          1.793259620666504,
          2.629565715789795,
          2.479275703430176,
          2.467346668243408,
          2.335815906524658,
          2.1961452960968018,
          2.2719693183898926
         ],
         "yaxis": "y"
        },
        {
         "customdata": [
          [
           10
          ],
          [
           10
          ],
          [
           10
          ],
          [
           10
          ],
          [
           10
          ],
          [
           10
          ],
          [
           10
          ],
          [
           10
          ],
          [
           10
          ],
          [
           10
          ],
          [
           10
          ],
          [
           10
          ],
          [
           10
          ],
          [
           10
          ],
          [
           10
          ],
          [
           10
          ],
          [
           10
          ],
          [
           10
          ],
          [
           10
          ],
          [
           10
          ],
          [
           10
          ],
          [
           10
          ],
          [
           10
          ],
          [
           10
          ],
          [
           10
          ],
          [
           10
          ],
          [
           10
          ],
          [
           10
          ],
          [
           10
          ],
          [
           10
          ],
          [
           10
          ],
          [
           10
          ],
          [
           10
          ],
          [
           10
          ],
          [
           10
          ],
          [
           10
          ],
          [
           10
          ],
          [
           10
          ],
          [
           10
          ],
          [
           10
          ],
          [
           10
          ],
          [
           10
          ],
          [
           10
          ],
          [
           10
          ],
          [
           10
          ],
          [
           10
          ],
          [
           10
          ],
          [
           10
          ]
         ],
         "hovertemplate": "topic_name=energie<br>0=%{x}<br>1=%{y}<br>topic=%{customdata[0]}<extra></extra>",
         "legendgroup": "energie",
         "marker": {
          "color": "#FE00CE",
          "symbol": "circle"
         },
         "mode": "markers",
         "name": "energie",
         "showlegend": true,
         "type": "scattergl",
         "x": [
          1.9966233968734741,
          2.0178844928741455,
          1.5866684913635254,
          2.1278064250946045,
          1.998500108718872,
          2.2330944538116455,
          1.9736168384552002,
          2.0007266998291016,
          2.001300811767578,
          2.0520882606506348,
          2.1328420639038086,
          2.003648519515991,
          1.9473249912261963,
          1.888427734375,
          1.8407279253005981,
          2.487196683883667,
          2.048985481262207,
          2.059008836746216,
          1.9224835634231567,
          2.405264377593994,
          2.062429189682007,
          2.0455641746520996,
          1.8372724056243896,
          1.9638659954071045,
          1.9473615884780884,
          1.6322507858276367,
          2.376753568649292,
          2.098281145095825,
          1.8431538343429565,
          2.4037466049194336,
          1.8918778896331787,
          1.790414571762085,
          2.0396599769592285,
          1.9373424053192139,
          1.871944546699524,
          2.3888025283813477,
          2.483290195465088,
          2.1209590435028076,
          1.9966022968292236,
          1.6377633810043335,
          2.0265145301818848,
          1.9715502262115479,
          2.1100494861602783,
          2.0592429637908936,
          1.8126202821731567,
          2.2109036445617676,
          2.4539685249328613,
          2.4303712844848633
         ],
         "xaxis": "x",
         "y": [
          3.9468235969543457,
          3.8487861156463623,
          4.520873069763184,
          4.711505889892578,
          3.6779630184173584,
          3.8270413875579834,
          3.817685842514038,
          3.653294563293457,
          3.9184577465057373,
          3.578394889831543,
          3.803290367126465,
          3.6692676544189453,
          3.966475009918213,
          3.9618396759033203,
          3.9740941524505615,
          4.245352268218994,
          4.162611484527588,
          4.202568531036377,
          4.044999122619629,
          4.26857852935791,
          4.004868984222412,
          3.6611523628234863,
          4.153180122375488,
          4.070939540863037,
          4.1397576332092285,
          4.347847938537598,
          3.8453383445739746,
          3.7606232166290283,
          4.558213710784912,
          4.08916711807251,
          4.01133394241333,
          4.048880577087402,
          3.6902060508728027,
          4.040839195251465,
          3.960512638092041,
          4.5333099365234375,
          4.90407133102417,
          4.077601432800293,
          4.048026084899902,
          4.5440802574157715,
          3.6056811809539795,
          4.031407356262207,
          4.171260356903076,
          3.743134021759033,
          4.170999526977539,
          5.503037929534912,
          4.044712066650391,
          4.060941219329834
         ],
         "yaxis": "y"
        },
        {
         "customdata": [
          [
           7
          ],
          [
           7
          ],
          [
           7
          ],
          [
           7
          ],
          [
           7
          ],
          [
           7
          ],
          [
           7
          ],
          [
           7
          ],
          [
           7
          ],
          [
           7
          ],
          [
           7
          ],
          [
           7
          ],
          [
           7
          ],
          [
           7
          ],
          [
           7
          ],
          [
           7
          ],
          [
           7
          ],
          [
           7
          ],
          [
           7
          ],
          [
           7
          ],
          [
           7
          ],
          [
           7
          ],
          [
           7
          ],
          [
           7
          ],
          [
           7
          ],
          [
           7
          ],
          [
           7
          ],
          [
           7
          ],
          [
           7
          ],
          [
           7
          ],
          [
           7
          ],
          [
           7
          ],
          [
           7
          ],
          [
           7
          ],
          [
           7
          ],
          [
           7
          ],
          [
           7
          ],
          [
           7
          ],
          [
           7
          ],
          [
           7
          ],
          [
           7
          ],
          [
           7
          ],
          [
           7
          ],
          [
           7
          ],
          [
           7
          ],
          [
           7
          ],
          [
           7
          ],
          [
           7
          ],
          [
           7
          ],
          [
           7
          ],
          [
           7
          ],
          [
           7
          ],
          [
           7
          ],
          [
           7
          ]
         ],
         "hovertemplate": "topic_name=parlement<br>0=%{x}<br>1=%{y}<br>topic=%{customdata[0]}<extra></extra>",
         "legendgroup": "parlement",
         "marker": {
          "color": "#0DF9FF",
          "symbol": "circle"
         },
         "mode": "markers",
         "name": "parlement",
         "showlegend": true,
         "type": "scattergl",
         "x": [
          7.1901960372924805,
          7.26473331451416,
          7.076258659362793,
          7.1886491775512695,
          7.039273262023926,
          7.460936069488525,
          7.8261003494262695,
          7.483206272125244,
          7.589291572570801,
          7.550899028778076,
          7.660960674285889,
          7.88124418258667,
          6.680204391479492,
          6.883716583251953,
          7.1330790519714355,
          7.4691267013549805,
          7.486794948577881,
          7.018395900726318,
          7.028787136077881,
          6.741423606872559,
          7.227465629577637,
          6.8997039794921875,
          7.148898601531982,
          7.032958507537842,
          7.215801239013672,
          7.071173667907715,
          7.062524795532227,
          6.973340034484863,
          7.129894256591797,
          7.290964603424072,
          6.910421848297119,
          6.905150890350342,
          7.007023334503174,
          7.007059574127197,
          7.064774990081787,
          7.115628719329834,
          7.129814624786377,
          7.101682186126709,
          7.4298577308654785,
          7.086361408233643,
          7.36208438873291,
          6.91539192199707,
          6.981507301330566,
          7.5459818840026855,
          7.208105564117432,
          7.094137668609619,
          7.086552619934082,
          7.15741491317749,
          7.179392337799072,
          7.272032260894775,
          7.118144512176514,
          7.9011945724487305,
          7.183044910430908,
          6.921298503875732
         ],
         "xaxis": "x",
         "y": [
          2.6162760257720947,
          2.2108500003814697,
          2.3932039737701416,
          2.3603882789611816,
          2.3815958499908447,
          2.7855122089385986,
          2.718370199203491,
          2.635715961456299,
          2.3961267471313477,
          2.414785861968994,
          2.6727194786071777,
          2.8508622646331787,
          2.562310218811035,
          2.6350698471069336,
          2.4911978244781494,
          2.3561007976531982,
          2.3805246353149414,
          3.005438804626465,
          2.916593074798584,
          2.773104667663574,
          2.526779890060425,
          2.756676435470581,
          2.319322109222412,
          2.736741542816162,
          2.450449228286743,
          2.5982587337493896,
          2.8047125339508057,
          3.0949134826660156,
          2.4396374225616455,
          2.282987117767334,
          2.65187931060791,
          2.501314878463745,
          2.4266321659088135,
          2.856625556945801,
          2.3364181518554688,
          2.2887048721313477,
          2.8520424365997314,
          2.7315597534179688,
          2.4225049018859863,
          2.319976329803467,
          2.278367519378662,
          3.053678274154663,
          2.7958574295043945,
          2.587656021118164,
          2.4244680404663086,
          3.005160331726074,
          2.700456142425537,
          2.5320866107940674,
          2.502182960510254,
          2.6082305908203125,
          2.5190699100494385,
          2.5922884941101074,
          2.23838210105896,
          2.6919891834259033
         ],
         "yaxis": "y"
        },
        {
         "customdata": [
          [
           19
          ],
          [
           19
          ],
          [
           19
          ],
          [
           19
          ],
          [
           19
          ],
          [
           19
          ],
          [
           19
          ],
          [
           19
          ],
          [
           19
          ],
          [
           19
          ],
          [
           19
          ],
          [
           19
          ],
          [
           19
          ],
          [
           19
          ],
          [
           19
          ],
          [
           19
          ],
          [
           19
          ],
          [
           19
          ],
          [
           19
          ],
          [
           19
          ],
          [
           19
          ],
          [
           19
          ],
          [
           19
          ]
         ],
         "hovertemplate": "topic_name=regional<br>0=%{x}<br>1=%{y}<br>topic=%{customdata[0]}<extra></extra>",
         "legendgroup": "regional",
         "marker": {
          "color": "#F6F926",
          "symbol": "circle"
         },
         "mode": "markers",
         "name": "regional",
         "showlegend": true,
         "type": "scattergl",
         "x": [
          6.798958778381348,
          6.915642738342285,
          6.873530864715576,
          6.841412544250488,
          6.88314151763916,
          6.649087429046631,
          6.91536283493042,
          3.115359306335449,
          6.78759765625,
          6.754891395568848,
          6.741504669189453,
          6.760261058807373,
          6.787936210632324,
          6.738190174102783,
          6.87156867980957,
          6.932863712310791,
          6.876682758331299,
          6.693808555603027,
          6.91382360458374,
          6.856992721557617,
          6.780339241027832,
          3.2757015228271484,
          6.879737377166748
         ],
         "xaxis": "x",
         "y": [
          3.635728120803833,
          3.394538640975952,
          3.6910879611968994,
          3.652118682861328,
          3.5869150161743164,
          3.859769105911255,
          3.811596155166626,
          5.777635097503662,
          3.7296624183654785,
          3.762211561203003,
          3.7350192070007324,
          3.7898311614990234,
          3.7796385288238525,
          3.8103902339935303,
          3.21171236038208,
          3.6339619159698486,
          3.639113426208496,
          3.672440767288208,
          3.5740244388580322,
          3.656135320663452,
          4.148403644561768,
          6.072434425354004,
          3.6370699405670166
         ],
         "yaxis": "y"
        },
        {
         "customdata": [
          [
           15
          ],
          [
           15
          ],
          [
           15
          ],
          [
           15
          ],
          [
           15
          ],
          [
           15
          ],
          [
           15
          ],
          [
           15
          ],
          [
           15
          ],
          [
           15
          ],
          [
           15
          ],
          [
           15
          ],
          [
           15
          ],
          [
           15
          ],
          [
           15
          ],
          [
           15
          ],
          [
           15
          ],
          [
           15
          ],
          [
           15
          ],
          [
           15
          ],
          [
           15
          ]
         ],
         "hovertemplate": "topic_name=public<br>0=%{x}<br>1=%{y}<br>topic=%{customdata[0]}<extra></extra>",
         "legendgroup": "public",
         "marker": {
          "color": "#FF9616",
          "symbol": "circle"
         },
         "mode": "markers",
         "name": "public",
         "showlegend": true,
         "type": "scattergl",
         "x": [
          7.073912620544434,
          7.124863147735596,
          7.030696392059326,
          7.036007881164551,
          6.998823642730713,
          6.995437145233154,
          7.063691139221191,
          7.065670013427734,
          7.025674819946289,
          6.995089530944824,
          6.749274730682373,
          7.062314033508301,
          7.006687641143799,
          7.076774597167969,
          7.049218654632568,
          6.993847370147705,
          6.753069877624512,
          7.080233573913574,
          1.8582981824874878,
          7.128233909606934,
          7.0291595458984375
         ],
         "xaxis": "x",
         "y": [
          4.7146501541137695,
          4.792705535888672,
          4.515868663787842,
          4.5399489402771,
          4.8366312980651855,
          4.686481952667236,
          4.381306171417236,
          4.495917320251465,
          4.759711742401123,
          4.488455772399902,
          4.729739665985107,
          4.720321178436279,
          4.659897327423096,
          4.7148637771606445,
          4.65599250793457,
          4.659149169921875,
          4.831478118896484,
          4.701191425323486,
          4.622378826141357,
          4.728845596313477,
          4.4104437828063965
         ],
         "yaxis": "y"
        },
        {
         "customdata": [
          [
           18
          ],
          [
           18
          ],
          [
           18
          ],
          [
           18
          ],
          [
           18
          ],
          [
           18
          ],
          [
           18
          ],
          [
           18
          ],
          [
           18
          ],
          [
           18
          ],
          [
           18
          ],
          [
           18
          ],
          [
           18
          ],
          [
           18
          ],
          [
           18
          ],
          [
           18
          ],
          [
           18
          ],
          [
           18
          ],
          [
           18
          ],
          [
           18
          ],
          [
           18
          ],
          [
           18
          ],
          [
           18
          ],
          [
           18
          ],
          [
           18
          ],
          [
           18
          ],
          [
           18
          ]
         ],
         "hovertemplate": "topic_name=logement<br>0=%{x}<br>1=%{y}<br>topic=%{customdata[0]}<extra></extra>",
         "legendgroup": "logement",
         "marker": {
          "color": "#479B55",
          "symbol": "circle"
         },
         "mode": "markers",
         "name": "logement",
         "showlegend": true,
         "type": "scattergl",
         "x": [
          7.609043121337891,
          7.294104099273682,
          7.224407196044922,
          7.235465049743652,
          7.335842609405518,
          7.371886730194092,
          7.264286994934082,
          7.318274974822998,
          7.385493755340576,
          7.275740623474121,
          7.563881874084473,
          7.399267196655273,
          7.4726409912109375,
          7.366994857788086,
          7.656976222991943,
          7.36533260345459,
          7.403225898742676,
          7.334150791168213,
          7.340609073638916,
          7.300991535186768,
          8.188164710998535,
          7.2742228507995605,
          7.336935520172119,
          7.313146114349365,
          7.41188907623291,
          7.339149475097656,
          7.406494140625
         ],
         "xaxis": "x",
         "y": [
          8.718300819396973,
          9.015061378479004,
          9.031679153442383,
          8.948787689208984,
          8.935020446777344,
          8.902891159057617,
          9.019786834716797,
          8.956734657287598,
          8.927038192749023,
          8.993233680725098,
          8.73405933380127,
          8.893074035644531,
          8.823758125305176,
          8.94441032409668,
          8.56396198272705,
          8.931865692138672,
          8.856884956359863,
          8.925675392150879,
          8.953486442565918,
          8.96699047088623,
          7.637777805328369,
          8.872657775878906,
          8.97970962524414,
          8.920197486877441,
          8.968525886535645,
          8.937705993652344,
          8.8345308303833
         ],
         "yaxis": "y"
        },
        {
         "customdata": [
          [
           1
          ],
          [
           1
          ],
          [
           1
          ],
          [
           1
          ],
          [
           1
          ],
          [
           1
          ],
          [
           1
          ],
          [
           1
          ],
          [
           1
          ],
          [
           1
          ],
          [
           1
          ],
          [
           1
          ],
          [
           1
          ],
          [
           1
          ],
          [
           1
          ],
          [
           1
          ],
          [
           1
          ],
          [
           1
          ],
          [
           1
          ],
          [
           1
          ],
          [
           1
          ],
          [
           1
          ],
          [
           1
          ],
          [
           1
          ],
          [
           1
          ],
          [
           1
          ],
          [
           1
          ],
          [
           1
          ],
          [
           1
          ],
          [
           1
          ],
          [
           1
          ],
          [
           1
          ],
          [
           1
          ],
          [
           1
          ],
          [
           1
          ],
          [
           1
          ],
          [
           1
          ],
          [
           1
          ],
          [
           1
          ],
          [
           1
          ],
          [
           1
          ],
          [
           1
          ],
          [
           1
          ],
          [
           1
          ],
          [
           1
          ],
          [
           1
          ],
          [
           1
          ],
          [
           1
          ],
          [
           1
          ],
          [
           1
          ],
          [
           1
          ],
          [
           1
          ],
          [
           1
          ],
          [
           1
          ],
          [
           1
          ],
          [
           1
          ],
          [
           1
          ],
          [
           1
          ],
          [
           1
          ],
          [
           1
          ],
          [
           1
          ],
          [
           1
          ],
          [
           1
          ],
          [
           1
          ],
          [
           1
          ],
          [
           1
          ],
          [
           1
          ],
          [
           1
          ],
          [
           1
          ],
          [
           1
          ],
          [
           1
          ],
          [
           1
          ],
          [
           1
          ],
          [
           1
          ],
          [
           1
          ],
          [
           1
          ],
          [
           1
          ],
          [
           1
          ],
          [
           1
          ],
          [
           1
          ],
          [
           1
          ],
          [
           1
          ],
          [
           1
          ],
          [
           1
          ],
          [
           1
          ],
          [
           1
          ],
          [
           1
          ],
          [
           1
          ],
          [
           1
          ],
          [
           1
          ],
          [
           1
          ],
          [
           1
          ],
          [
           1
          ],
          [
           1
          ],
          [
           1
          ],
          [
           1
          ],
          [
           1
          ],
          [
           1
          ],
          [
           1
          ],
          [
           1
          ],
          [
           1
          ],
          [
           1
          ],
          [
           1
          ],
          [
           1
          ],
          [
           1
          ],
          [
           1
          ],
          [
           1
          ],
          [
           1
          ],
          [
           1
          ],
          [
           1
          ],
          [
           1
          ]
         ],
         "hovertemplate": "topic_name=scolaire<br>0=%{x}<br>1=%{y}<br>topic=%{customdata[0]}<extra></extra>",
         "legendgroup": "scolaire",
         "marker": {
          "color": "#EEA6FB",
          "symbol": "circle"
         },
         "mode": "markers",
         "name": "scolaire",
         "showlegend": true,
         "type": "scattergl",
         "x": [
          12.096637725830078,
          11.378874778747559,
          11.944426536560059,
          11.810588836669922,
          11.85376262664795,
          11.560636520385742,
          12.245715141296387,
          12.163411140441895,
          12.06971263885498,
          11.94433307647705,
          11.531231880187988,
          11.905674934387207,
          11.8610258102417,
          11.626051902770996,
          11.398272514343262,
          12.290006637573242,
          12.044716835021973,
          11.6644868850708,
          11.693923950195312,
          12.407480239868164,
          11.423421859741211,
          11.375676155090332,
          11.604867935180664,
          11.90772819519043,
          11.243621826171875,
          11.918862342834473,
          11.553431510925293,
          11.885470390319824,
          11.786691665649414,
          11.658857345581055,
          11.524165153503418,
          12.280704498291016,
          11.63090705871582,
          11.604863166809082,
          11.71053409576416,
          11.806600570678711,
          11.95335578918457,
          11.470850944519043,
          11.880230903625488,
          11.941308975219727,
          11.639845848083496,
          12.296480178833008,
          12.342568397521973,
          12.22474479675293,
          11.575820922851562,
          11.398879051208496,
          11.350462913513184,
          11.545586585998535,
          12.198803901672363,
          12.202651977539062,
          12.31311321258545,
          12.1336030960083,
          12.10521411895752,
          12.136893272399902,
          11.986295700073242,
          11.979177474975586,
          12.186135292053223,
          12.325529098510742,
          11.629242897033691,
          11.543105125427246,
          11.813283920288086,
          11.598040580749512,
          11.527429580688477,
          11.735504150390625,
          11.700384140014648,
          11.623689651489258,
          11.593484878540039,
          11.791354179382324,
          11.672358512878418,
          11.314220428466797,
          12.254502296447754,
          12.286649703979492,
          12.270848274230957,
          12.135001182556152,
          11.63178825378418,
          11.75183391571045,
          11.41424560546875,
          12.284527778625488,
          12.318859100341797,
          12.109159469604492,
          11.956830024719238,
          11.874893188476562,
          12.262147903442383,
          12.225502967834473,
          12.177696228027344,
          11.748489379882812,
          11.831074714660645,
          11.918375968933105,
          11.915558815002441,
          12.331363677978516,
          12.313506126403809,
          12.213326454162598,
          12.004866600036621,
          11.724143981933594,
          11.711393356323242,
          11.729254722595215,
          12.280852317810059,
          12.279150009155273,
          11.602964401245117,
          11.25610065460205,
          11.903183937072754,
          11.773157119750977,
          11.741199493408203,
          11.301128387451172,
          11.637459754943848,
          11.851792335510254,
          12.314404487609863,
          12.13915729522705,
          12.010355949401855,
          11.511655807495117,
          11.476317405700684
         ],
         "xaxis": "x",
         "y": [
          2.15128231048584,
          2.7866010665893555,
          2.6965677738189697,
          2.6463418006896973,
          2.7798237800598145,
          3.017465353012085,
          1.8784104585647583,
          1.356441617012024,
          2.414848804473877,
          2.9499855041503906,
          2.973999500274658,
          3.1420397758483887,
          2.7968335151672363,
          2.952821731567383,
          2.4999747276306152,
          1.7850499153137207,
          2.9656198024749756,
          3.190858840942383,
          3.2602431774139404,
          1.944409728050232,
          2.967644691467285,
          2.912646532058716,
          2.9352715015411377,
          3.1273460388183594,
          2.9537487030029297,
          2.911356210708618,
          2.9948079586029053,
          3.0334019660949707,
          2.8041861057281494,
          2.9559319019317627,
          2.588785409927368,
          1.8291327953338623,
          3.192385196685791,
          3.1296908855438232,
          3.254575490951538,
          2.85440993309021,
          2.744683027267456,
          3.0862083435058594,
          2.6707451343536377,
          2.8950960636138916,
          2.9022128582000732,
          1.8762571811676025,
          1.9702531099319458,
          1.4091086387634277,
          3.4992024898529053,
          2.8900363445281982,
          2.926198959350586,
          3.241610050201416,
          1.9734801054000854,
          1.992583155632019,
          1.8501765727996826,
          1.429750919342041,
          1.909658670425415,
          1.7186943292617798,
          2.8421425819396973,
          2.856926202774048,
          1.482140302658081,
          1.7109262943267822,
          2.903594970703125,
          2.9816503524780273,
          3.2107317447662354,
          3.4818994998931885,
          3.468234062194824,
          3.2950079441070557,
          3.220757246017456,
          3.4327175617218018,
          2.9921414852142334,
          3.0227370262145996,
          3.069779634475708,
          2.8797647953033447,
          1.9564847946166992,
          1.811424732208252,
          1.8499622344970703,
          1.4474482536315918,
          3.33233380317688,
          3.064668655395508,
          3.0013413429260254,
          1.9032268524169922,
          1.8062455654144287,
          1.4530870914459229,
          2.83923077583313,
          2.921595335006714,
          1.6207658052444458,
          1.4955997467041016,
          1.4611155986785889,
          3.179274320602417,
          3.1236376762390137,
          2.5875141620635986,
          2.839433193206787,
          1.797555685043335,
          1.7119477987289429,
          1.4302629232406616,
          2.284296989440918,
          2.8858370780944824,
          2.873502016067505,
          2.218682050704956,
          1.7783528566360474,
          1.8104438781738281,
          3.481504440307617,
          2.9401121139526367,
          2.9361000061035156,
          2.7669520378112793,
          3.2659900188446045,
          3.0106582641601562,
          3.0837106704711914,
          2.6125781536102295,
          1.7528398036956787,
          1.8306492567062378,
          2.4806947708129883,
          2.9544873237609863,
          2.91896915435791
         ],
         "yaxis": "y"
        },
        {
         "customdata": [
          [
           12
          ],
          [
           12
          ],
          [
           12
          ],
          [
           12
          ],
          [
           12
          ],
          [
           12
          ],
          [
           12
          ],
          [
           12
          ],
          [
           12
          ],
          [
           12
          ],
          [
           12
          ],
          [
           12
          ],
          [
           12
          ],
          [
           12
          ],
          [
           12
          ],
          [
           12
          ],
          [
           12
          ],
          [
           12
          ],
          [
           12
          ],
          [
           12
          ],
          [
           12
          ],
          [
           12
          ],
          [
           12
          ],
          [
           12
          ],
          [
           12
          ],
          [
           12
          ],
          [
           12
          ],
          [
           12
          ],
          [
           12
          ],
          [
           12
          ],
          [
           12
          ],
          [
           12
          ],
          [
           12
          ],
          [
           12
          ],
          [
           12
          ],
          [
           12
          ],
          [
           12
          ],
          [
           12
          ],
          [
           12
          ],
          [
           12
          ],
          [
           12
          ],
          [
           12
          ],
          [
           12
          ],
          [
           12
          ],
          [
           12
          ],
          [
           12
          ],
          [
           12
          ],
          [
           12
          ],
          [
           12
          ],
          [
           12
          ],
          [
           12
          ],
          [
           12
          ]
         ],
         "hovertemplate": "topic_name=culturel<br>0=%{x}<br>1=%{y}<br>topic=%{customdata[0]}<extra></extra>",
         "legendgroup": "culturel",
         "marker": {
          "color": "#DC587D",
          "symbol": "circle"
         },
         "mode": "markers",
         "name": "culturel",
         "showlegend": true,
         "type": "scattergl",
         "x": [
          10.393672943115234,
          10.226332664489746,
          11.043092727661133,
          10.271242141723633,
          10.154586791992188,
          10.220710754394531,
          10.202559471130371,
          11.010327339172363,
          9.463847160339355,
          10.217276573181152,
          10.24594497680664,
          10.28766918182373,
          10.109624862670898,
          10.192709922790527,
          10.16006088256836,
          10.212088584899902,
          10.175185203552246,
          10.162532806396484,
          10.249656677246094,
          10.218704223632812,
          10.999493598937988,
          10.256559371948242,
          10.266027450561523,
          10.135540008544922,
          10.183247566223145,
          10.023612022399902,
          9.981142044067383,
          10.546205520629883,
          10.094017028808594,
          10.296743392944336,
          9.989721298217773,
          10.19314956665039,
          10.111123085021973,
          10.278899192810059,
          11.040776252746582,
          10.24212646484375,
          11.279876708984375,
          10.058430671691895,
          10.067517280578613,
          11.010466575622559,
          10.060137748718262,
          9.56352710723877,
          10.453436851501465,
          11.025276184082031,
          11.081050872802734,
          10.993946075439453,
          10.027843475341797,
          9.746038436889648,
          10.65216064453125,
          10.773759841918945,
          11.01102352142334,
          10.976410865783691
         ],
         "xaxis": "x",
         "y": [
          0.36120522022247314,
          0.30978575348854065,
          0.08345363289117813,
          0.41498929262161255,
          0.9323279857635498,
          0.9047006964683533,
          0.7794032692909241,
          0.08695482462644577,
          0.7868282794952393,
          0.586097776889801,
          0.4871490001678467,
          0.4977046251296997,
          0.6687235832214355,
          0.7288888096809387,
          0.7220108509063721,
          0.6185867190361023,
          0.39401260018348694,
          0.9049735069274902,
          0.8351647257804871,
          0.7844417691230774,
          0.0850660502910614,
          0.27127912640571594,
          0.2705118656158447,
          0.32722386717796326,
          0.2890649735927582,
          0.4379689693450928,
          0.3719595968723297,
          0.28617092967033386,
          0.42415615916252136,
          0.23101526498794556,
          0.5496475696563721,
          0.2795335650444031,
          0.3791757822036743,
          0.27575981616973877,
          0.08151330053806305,
          0.34946414828300476,
          2.8571393489837646,
          0.4681868851184845,
          0.46701622009277344,
          0.1226101964712143,
          0.4103837311267853,
          0.6800016760826111,
          0.2692424952983856,
          0.08122731000185013,
          0.024256529286503792,
          0.08892209082841873,
          0.4399980902671814,
          0.548424243927002,
          0.21540477871894836,
          0.18928271532058716,
          0.07880157977342606,
          0.13797403872013092
         ],
         "yaxis": "y"
        },
        {
         "customdata": [
          [
           13
          ],
          [
           13
          ],
          [
           13
          ],
          [
           13
          ],
          [
           13
          ],
          [
           13
          ],
          [
           13
          ],
          [
           13
          ],
          [
           13
          ],
          [
           13
          ],
          [
           13
          ],
          [
           13
          ],
          [
           13
          ],
          [
           13
          ],
          [
           13
          ],
          [
           13
          ],
          [
           13
          ],
          [
           13
          ],
          [
           13
          ],
          [
           13
          ]
         ],
         "hovertemplate": "topic_name=social<br>0=%{x}<br>1=%{y}<br>topic=%{customdata[0]}<extra></extra>",
         "legendgroup": "social",
         "marker": {
          "color": "#D626FF",
          "symbol": "circle"
         },
         "mode": "markers",
         "name": "social",
         "showlegend": true,
         "type": "scattergl",
         "x": [
          8.149456977844238,
          8.013497352600098,
          7.958724021911621,
          7.962220668792725,
          7.864326000213623,
          7.927637577056885,
          7.886861801147461,
          8.044172286987305,
          7.815556526184082,
          7.778463840484619,
          7.806680679321289,
          8.293013572692871,
          7.743584632873535,
          7.822862148284912,
          7.985710144042969,
          8.139138221740723,
          7.512979030609131,
          7.538695812225342,
          7.2794575691223145,
          7.762332439422607
         ],
         "xaxis": "x",
         "y": [
          6.068656921386719,
          5.094388008117676,
          5.972250938415527,
          5.858627796173096,
          6.039283752441406,
          5.945010662078857,
          6.052537441253662,
          5.830697059631348,
          5.393265247344971,
          6.078598499298096,
          5.5713114738464355,
          6.083099842071533,
          5.740903854370117,
          5.661418914794922,
          5.805202960968018,
          5.712886333465576,
          5.645305633544922,
          6.071817874908447,
          6.55473518371582,
          5.6765336990356445
         ],
         "yaxis": "y"
        },
        {
         "customdata": [
          [
           2
          ],
          [
           2
          ],
          [
           2
          ],
          [
           2
          ],
          [
           2
          ],
          [
           2
          ],
          [
           2
          ],
          [
           2
          ],
          [
           2
          ],
          [
           2
          ],
          [
           2
          ],
          [
           2
          ],
          [
           2
          ],
          [
           2
          ],
          [
           2
          ],
          [
           2
          ],
          [
           2
          ],
          [
           2
          ],
          [
           2
          ],
          [
           2
          ],
          [
           2
          ],
          [
           2
          ],
          [
           2
          ],
          [
           2
          ],
          [
           2
          ],
          [
           2
          ],
          [
           2
          ],
          [
           2
          ],
          [
           2
          ],
          [
           2
          ],
          [
           2
          ],
          [
           2
          ],
          [
           2
          ],
          [
           2
          ],
          [
           2
          ],
          [
           2
          ],
          [
           2
          ],
          [
           2
          ],
          [
           2
          ],
          [
           2
          ],
          [
           2
          ],
          [
           2
          ],
          [
           2
          ],
          [
           2
          ],
          [
           2
          ],
          [
           2
          ],
          [
           2
          ],
          [
           2
          ],
          [
           2
          ],
          [
           2
          ],
          [
           2
          ],
          [
           2
          ],
          [
           2
          ],
          [
           2
          ],
          [
           2
          ],
          [
           2
          ],
          [
           2
          ],
          [
           2
          ],
          [
           2
          ],
          [
           2
          ],
          [
           2
          ],
          [
           2
          ],
          [
           2
          ],
          [
           2
          ],
          [
           2
          ],
          [
           2
          ],
          [
           2
          ],
          [
           2
          ],
          [
           2
          ],
          [
           2
          ],
          [
           2
          ],
          [
           2
          ],
          [
           2
          ],
          [
           2
          ],
          [
           2
          ],
          [
           2
          ],
          [
           2
          ],
          [
           2
          ],
          [
           2
          ],
          [
           2
          ],
          [
           2
          ],
          [
           2
          ],
          [
           2
          ]
         ],
         "hovertemplate": "topic_name=agriculture<br>0=%{x}<br>1=%{y}<br>topic=%{customdata[0]}<extra></extra>",
         "legendgroup": "agriculture",
         "marker": {
          "color": "#6E899C",
          "symbol": "circle"
         },
         "mode": "markers",
         "name": "agriculture",
         "showlegend": true,
         "type": "scattergl",
         "x": [
          3.1620216369628906,
          2.453765392303467,
          2.303046464920044,
          1.8736990690231323,
          3.0914297103881836,
          2.074124574661255,
          1.7708725929260254,
          2.3555030822753906,
          2.428910732269287,
          2.042895555496216,
          2.0304856300354004,
          2.9691872596740723,
          2.446336030960083,
          1.8352994918823242,
          1.8239223957061768,
          2.6165504455566406,
          2.8348681926727295,
          2.7297816276550293,
          1.8111284971237183,
          1.767909049987793,
          2.005326747894287,
          2.2041940689086914,
          2.566209077835083,
          2.482583999633789,
          2.461466073989868,
          2.4562041759490967,
          2.1718015670776367,
          2.365831136703491,
          2.1931045055389404,
          1.904239296913147,
          2.1448423862457275,
          2.0572376251220703,
          2.750075101852417,
          1.811306118965149,
          1.9150718450546265,
          2.2300426959991455,
          2.093937635421753,
          2.3737294673919678,
          2.4314348697662354,
          1.8595203161239624,
          2.2179410457611084,
          1.9325648546218872,
          1.9420239925384521,
          2.4678308963775635,
          2.949314832687378,
          2.6016299724578857,
          2.799025058746338,
          2.2886838912963867,
          2.456855535507202,
          9.105286598205566,
          2.4259932041168213,
          2.4028615951538086,
          1.8030011653900146,
          2.3739545345306396,
          2.376831531524658,
          1.9332242012023926,
          2.2284066677093506,
          2.321314573287964,
          2.51324462890625,
          2.472790002822876,
          2.452247142791748,
          1.9443862438201904,
          1.891830563545227,
          2.2253024578094482,
          2.268932342529297,
          2.5394809246063232,
          2.2431867122650146,
          2.2742581367492676,
          2.9275243282318115,
          2.5523581504821777,
          2.7868683338165283,
          2.4503915309906006,
          2.3798208236694336,
          2.54911732673645,
          1.9070374965667725,
          2.5574557781219482,
          1.8591893911361694,
          2.671858787536621,
          2.6964168548583984,
          3.0706706047058105,
          3.266946315765381,
          2.518364906311035,
          2.4409592151641846
         ],
         "xaxis": "x",
         "y": [
          6.0909624099731445,
          6.332152366638184,
          6.17949914932251,
          5.992878437042236,
          6.003632068634033,
          5.5392165184021,
          5.846473217010498,
          6.333945274353027,
          6.4000020027160645,
          6.1446757316589355,
          6.175050258636475,
          6.103335380554199,
          5.326686859130859,
          6.075755596160889,
          5.998218536376953,
          5.3163161277771,
          5.461726188659668,
          5.185111999511719,
          5.7799882888793945,
          5.922607421875,
          6.390273094177246,
          6.279919624328613,
          6.278550148010254,
          6.405792236328125,
          6.369018077850342,
          6.404941558837891,
          6.372398853302002,
          6.217503547668457,
          6.427698612213135,
          6.286777973175049,
          6.429345607757568,
          6.29586935043335,
          6.22260856628418,
          6.144838333129883,
          6.152308464050293,
          6.2321977615356445,
          6.210588455200195,
          6.39315128326416,
          6.420679092407227,
          6.090487003326416,
          6.246177673339844,
          6.114397048950195,
          6.06257438659668,
          6.069531440734863,
          6.057868480682373,
          5.108053207397461,
          5.449347019195557,
          6.253575325012207,
          5.848916053771973,
          2.2454349994659424,
          6.107147693634033,
          6.108987331390381,
          5.844399929046631,
          6.040096759796143,
          6.105063438415527,
          5.861021995544434,
          6.118721008300781,
          6.111683368682861,
          5.926015377044678,
          6.0701518058776855,
          6.063448905944824,
          5.713442325592041,
          5.7443156242370605,
          5.887400150299072,
          6.194713115692139,
          6.003407001495361,
          5.7901434898376465,
          5.967795372009277,
          5.968863487243652,
          5.352787494659424,
          5.565764904022217,
          5.984267711639404,
          6.149069786071777,
          5.667240619659424,
          5.980106353759766,
          5.669227123260498,
          5.8469014167785645,
          6.0432820320129395,
          5.105329990386963,
          5.7163405418396,
          6.054163932800293,
          5.420586109161377,
          5.332715034484863
         ],
         "yaxis": "y"
        },
        {
         "customdata": [
          [
           8
          ],
          [
           8
          ],
          [
           8
          ],
          [
           8
          ],
          [
           8
          ],
          [
           8
          ],
          [
           8
          ],
          [
           8
          ],
          [
           8
          ],
          [
           8
          ],
          [
           8
          ],
          [
           8
          ],
          [
           8
          ],
          [
           8
          ],
          [
           8
          ],
          [
           8
          ],
          [
           8
          ],
          [
           8
          ],
          [
           8
          ],
          [
           8
          ],
          [
           8
          ],
          [
           8
          ],
          [
           8
          ],
          [
           8
          ],
          [
           8
          ],
          [
           8
          ],
          [
           8
          ],
          [
           8
          ],
          [
           8
          ],
          [
           8
          ],
          [
           8
          ],
          [
           8
          ],
          [
           8
          ],
          [
           8
          ],
          [
           8
          ],
          [
           8
          ],
          [
           8
          ]
         ],
         "hovertemplate": "topic_name=europeen<br>0=%{x}<br>1=%{y}<br>topic=%{customdata[0]}<extra></extra>",
         "legendgroup": "europeen",
         "marker": {
          "color": "#00B5F7",
          "symbol": "circle"
         },
         "mode": "markers",
         "name": "europeen",
         "showlegend": true,
         "type": "scattergl",
         "x": [
          5.752514839172363,
          5.336710453033447,
          5.517147064208984,
          5.238326072692871,
          5.881747722625732,
          5.4843549728393555,
          5.336637020111084,
          5.747872352600098,
          5.5902204513549805,
          5.43662691116333,
          5.718583583831787,
          5.889187335968018,
          5.912303447723389,
          5.476960182189941,
          5.669550895690918,
          5.515365123748779,
          5.43842887878418,
          5.437697887420654,
          5.319965839385986,
          5.371880054473877,
          5.757848262786865,
          5.643797397613525,
          5.397702693939209,
          5.488731861114502,
          5.806168556213379,
          5.1708292961120605,
          5.503620147705078,
          6.023783206939697,
          5.659872531890869,
          5.3295512199401855,
          5.418217658996582,
          5.859371662139893,
          5.49061393737793,
          5.359136581420898,
          5.648836135864258,
          5.841269016265869,
          5.780738830566406
         ],
         "xaxis": "x",
         "y": [
          3.3702170848846436,
          3.266247510910034,
          2.7830817699432373,
          3.0509238243103027,
          2.5362915992736816,
          2.878815174102783,
          2.7989726066589355,
          3.210836410522461,
          3.0556297302246094,
          3.5563762187957764,
          3.102715015411377,
          2.864400863647461,
          2.8812074661254883,
          2.9401121139526367,
          3.112197160720825,
          3.2178666591644287,
          3.5351450443267822,
          3.2473835945129395,
          3.2788753509521484,
          3.3850021362304688,
          3.0126218795776367,
          3.174870729446411,
          3.5433764457702637,
          2.978685140609741,
          2.877713441848755,
          3.1529581546783447,
          4.832940101623535,
          2.7698605060577393,
          3.219308853149414,
          3.1861417293548584,
          3.4611520767211914,
          2.8699398040771484,
          3.585681676864624,
          3.5524473190307617,
          3.131348133087158,
          3.051931381225586,
          2.973273515701294
         ],
         "yaxis": "y"
        },
        {
         "customdata": [
          [
           11
          ],
          [
           11
          ],
          [
           11
          ],
          [
           11
          ],
          [
           11
          ],
          [
           11
          ],
          [
           11
          ],
          [
           11
          ],
          [
           11
          ],
          [
           11
          ],
          [
           11
          ],
          [
           11
          ],
          [
           11
          ],
          [
           11
          ],
          [
           11
          ],
          [
           11
          ],
          [
           11
          ],
          [
           11
          ],
          [
           11
          ],
          [
           11
          ]
         ],
         "hovertemplate": "topic_name=mondialisation<br>0=%{x}<br>1=%{y}<br>topic=%{customdata[0]}<extra></extra>",
         "legendgroup": "mondialisation",
         "marker": {
          "color": "#B68E00",
          "symbol": "circle"
         },
         "mode": "markers",
         "name": "mondialisation",
         "showlegend": true,
         "type": "scattergl",
         "x": [
          4.578388214111328,
          4.645854473114014,
          4.692641735076904,
          4.433750152587891,
          4.46041202545166,
          4.458035945892334,
          4.534438610076904,
          4.490396976470947,
          4.59016752243042,
          4.543031215667725,
          4.6439995765686035,
          4.705327033996582,
          4.464742183685303,
          4.873534679412842,
          4.574934005737305,
          4.414154052734375,
          4.703784465789795,
          4.578768253326416,
          4.508469581604004,
          4.403683185577393
         ],
         "xaxis": "x",
         "y": [
          3.3599095344543457,
          3.1307332515716553,
          3.448362350463867,
          3.332108974456787,
          3.293274402618408,
          3.156987428665161,
          3.3098831176757812,
          3.3015425205230713,
          3.2224464416503906,
          3.276773691177368,
          3.18454909324646,
          3.1812474727630615,
          3.233473062515259,
          3.08432674407959,
          3.6537744998931885,
          3.3165435791015625,
          3.262277126312256,
          3.222212791442871,
          3.4902443885803223,
          3.259775400161743
         ],
         "yaxis": "y"
        },
        {
         "customdata": [
          [
           14
          ],
          [
           14
          ],
          [
           14
          ],
          [
           14
          ],
          [
           14
          ],
          [
           14
          ],
          [
           14
          ],
          [
           14
          ],
          [
           14
          ],
          [
           14
          ],
          [
           14
          ],
          [
           14
          ],
          [
           14
          ],
          [
           14
          ],
          [
           14
          ],
          [
           14
          ],
          [
           14
          ],
          [
           14
          ],
          [
           14
          ],
          [
           14
          ],
          [
           14
          ],
          [
           14
          ],
          [
           14
          ],
          [
           14
          ],
          [
           14
          ],
          [
           14
          ],
          [
           14
          ],
          [
           14
          ],
          [
           14
          ],
          [
           14
          ],
          [
           14
          ],
          [
           14
          ],
          [
           14
          ],
          [
           14
          ],
          [
           14
          ],
          [
           14
          ]
         ],
         "hovertemplate": "topic_name=militaire<br>0=%{x}<br>1=%{y}<br>topic=%{customdata[0]}<extra></extra>",
         "legendgroup": "militaire",
         "marker": {
          "color": "#C9FBE5",
          "symbol": "circle"
         },
         "mode": "markers",
         "name": "militaire",
         "showlegend": true,
         "type": "scattergl",
         "x": [
          4.351992607116699,
          4.298165321350098,
          3.972053289413452,
          3.795358896255493,
          3.8766045570373535,
          3.8770437240600586,
          3.9628829956054688,
          3.981567621231079,
          3.940037250518799,
          4.252558708190918,
          3.988746404647827,
          4.27587890625,
          4.021002769470215,
          3.8151094913482666,
          3.9014947414398193,
          3.9094252586364746,
          4.24945592880249,
          3.8907341957092285,
          4.106535911560059,
          4.242221832275391,
          4.131211280822754,
          4.299655914306641,
          4.114866256713867,
          4.165002822875977,
          4.24476957321167,
          4.159577369689941,
          3.889509439468384,
          4.2103986740112305,
          4.182319164276123,
          3.9397425651550293,
          4.253721714019775,
          4.195439338684082,
          4.304358959197998,
          3.835430383682251,
          8.930350303649902,
          4.070444583892822
         ],
         "xaxis": "x",
         "y": [
          2.23323655128479,
          1.7795532941818237,
          1.8364843130111694,
          1.8696662187576294,
          1.8003978729248047,
          1.777592420578003,
          1.6695125102996826,
          1.6566565036773682,
          1.6794638633728027,
          1.6915231943130493,
          1.9951198101043701,
          2.069488048553467,
          1.8714178800582886,
          1.8895888328552246,
          1.7656279802322388,
          1.7170547246932983,
          2.2535197734832764,
          1.9811930656433105,
          2.075929641723633,
          2.2152271270751953,
          2.142796516418457,
          2.281325101852417,
          1.931288480758667,
          2.0681610107421875,
          2.188063621520996,
          2.06754732131958,
          2.0615713596343994,
          2.0957720279693604,
          2.104642629623413,
          1.9895415306091309,
          2.018075704574585,
          1.7965648174285889,
          1.8170137405395508,
          1.8204433917999268,
          2.770122766494751,
          1.6981102228164673
         ],
         "yaxis": "y"
        },
        {
         "customdata": [
          [
           17
          ],
          [
           17
          ],
          [
           17
          ],
          [
           17
          ],
          [
           17
          ],
          [
           17
          ],
          [
           17
          ],
          [
           17
          ],
          [
           17
          ],
          [
           17
          ],
          [
           17
          ],
          [
           17
          ],
          [
           17
          ],
          [
           17
          ],
          [
           17
          ],
          [
           17
          ],
          [
           17
          ],
          [
           17
          ],
          [
           17
          ],
          [
           17
          ],
          [
           17
          ],
          [
           17
          ],
          [
           17
          ],
          [
           17
          ],
          [
           17
          ],
          [
           17
          ],
          [
           17
          ],
          [
           17
          ],
          [
           17
          ],
          [
           17
          ],
          [
           17
          ],
          [
           17
          ],
          [
           17
          ]
         ],
         "hovertemplate": "topic_name=familial<br>0=%{x}<br>1=%{y}<br>topic=%{customdata[0]}<extra></extra>",
         "legendgroup": "familial",
         "marker": {
          "color": "#FF0092",
          "symbol": "circle"
         },
         "mode": "markers",
         "name": "familial",
         "showlegend": true,
         "type": "scattergl",
         "x": [
          9.463165283203125,
          9.48992919921875,
          9.424501419067383,
          11.412293434143066,
          9.823217391967773,
          9.385555267333984,
          9.511324882507324,
          9.593192100524902,
          9.48147201538086,
          9.501376152038574,
          9.433043479919434,
          9.81638240814209,
          9.637796401977539,
          9.419320106506348,
          9.53465747833252,
          9.659530639648438,
          9.195428848266602,
          9.44312858581543,
          9.094602584838867,
          9.47419548034668,
          9.404825210571289,
          9.477784156799316,
          9.36133861541748,
          9.24317741394043,
          9.40476131439209,
          9.454376220703125,
          9.239757537841797,
          9.462421417236328,
          9.38687801361084,
          9.35165023803711,
          9.279245376586914,
          9.577641487121582,
          9.54250431060791
         ],
         "xaxis": "x",
         "y": [
          6.762826919555664,
          6.807298183441162,
          6.7896928787231445,
          2.9941999912261963,
          6.350548267364502,
          6.840037822723389,
          6.711877346038818,
          6.5964765548706055,
          6.659626007080078,
          6.74689245223999,
          6.686473846435547,
          6.237210273742676,
          6.481964111328125,
          6.751499652862549,
          6.633970737457275,
          6.491093635559082,
          6.4448418617248535,
          6.513058185577393,
          6.879753589630127,
          6.774343967437744,
          6.7836198806762695,
          6.839969158172607,
          6.9204888343811035,
          6.29671573638916,
          6.575913906097412,
          6.599564552307129,
          6.248435974121094,
          6.734520435333252,
          6.7964067459106445,
          6.497097015380859,
          6.411839008331299,
          6.741789817810059,
          6.592980861663818
         ],
         "yaxis": "y"
        },
        {
         "customdata": [
          [
           4
          ],
          [
           4
          ],
          [
           4
          ],
          [
           4
          ],
          [
           4
          ],
          [
           4
          ],
          [
           4
          ],
          [
           4
          ],
          [
           4
          ],
          [
           4
          ],
          [
           4
          ],
          [
           4
          ],
          [
           4
          ],
          [
           4
          ],
          [
           4
          ],
          [
           4
          ],
          [
           4
          ],
          [
           4
          ],
          [
           4
          ],
          [
           4
          ],
          [
           4
          ],
          [
           4
          ],
          [
           4
          ],
          [
           4
          ],
          [
           4
          ],
          [
           4
          ],
          [
           4
          ],
          [
           4
          ],
          [
           4
          ],
          [
           4
          ],
          [
           4
          ],
          [
           4
          ],
          [
           4
          ],
          [
           4
          ],
          [
           4
          ],
          [
           4
          ],
          [
           4
          ],
          [
           4
          ],
          [
           4
          ],
          [
           4
          ],
          [
           4
          ],
          [
           4
          ],
          [
           4
          ],
          [
           4
          ],
          [
           4
          ],
          [
           4
          ],
          [
           4
          ],
          [
           4
          ],
          [
           4
          ],
          [
           4
          ],
          [
           4
          ],
          [
           4
          ],
          [
           4
          ],
          [
           4
          ],
          [
           4
          ],
          [
           4
          ],
          [
           4
          ],
          [
           4
          ],
          [
           4
          ],
          [
           4
          ],
          [
           4
          ],
          [
           4
          ],
          [
           4
          ],
          [
           4
          ],
          [
           4
          ],
          [
           4
          ],
          [
           4
          ],
          [
           4
          ],
          [
           4
          ],
          [
           4
          ],
          [
           4
          ],
          [
           4
          ],
          [
           4
          ],
          [
           4
          ],
          [
           4
          ],
          [
           4
          ],
          [
           4
          ],
          [
           4
          ],
          [
           4
          ],
          [
           4
          ],
          [
           4
          ],
          [
           4
          ],
          [
           4
          ],
          [
           4
          ],
          [
           4
          ],
          [
           4
          ],
          [
           4
          ],
          [
           4
          ],
          [
           4
          ],
          [
           4
          ],
          [
           4
          ]
         ],
         "hovertemplate": "topic_name=medical<br>0=%{x}<br>1=%{y}<br>topic=%{customdata[0]}<extra></extra>",
         "legendgroup": "medical",
         "marker": {
          "color": "#22FFA7",
          "symbol": "circle"
         },
         "mode": "markers",
         "name": "medical",
         "showlegend": true,
         "type": "scattergl",
         "x": [
          8.728672981262207,
          8.474069595336914,
          8.642735481262207,
          8.894747734069824,
          8.898978233337402,
          8.812277793884277,
          8.887677192687988,
          8.477051734924316,
          8.620287895202637,
          9.096059799194336,
          9.350967407226562,
          9.258035659790039,
          9.153953552246094,
          9.231826782226562,
          9.467376708984375,
          8.763354301452637,
          8.901756286621094,
          8.471796989440918,
          8.442848205566406,
          8.456977844238281,
          8.469205856323242,
          9.14533519744873,
          8.686517715454102,
          9.433760643005371,
          9.407689094543457,
          9.25104808807373,
          9.247736930847168,
          8.501564025878906,
          8.524941444396973,
          8.998899459838867,
          9.3540620803833,
          9.238425254821777,
          9.129462242126465,
          9.18655014038086,
          9.3714599609375,
          8.943641662597656,
          9.148146629333496,
          8.75493335723877,
          8.895631790161133,
          9.32874870300293,
          8.299405097961426,
          8.460065841674805,
          8.821657180786133,
          8.869794845581055,
          8.849971771240234,
          9.036498069763184,
          9.011710166931152,
          8.58922290802002,
          8.9912691116333,
          8.574529647827148,
          8.976714134216309,
          9.348775863647461,
          9.085227012634277,
          8.52496337890625,
          8.323333740234375,
          9.048794746398926,
          11.031538963317871,
          9.256782531738281,
          9.32766056060791,
          9.278818130493164,
          8.542474746704102,
          8.673561096191406,
          9.138325691223145,
          9.034292221069336,
          8.924293518066406,
          8.956518173217773,
          9.068656921386719,
          9.085772514343262,
          8.616817474365234,
          8.733528137207031,
          8.919268608093262,
          9.03126335144043,
          8.373119354248047,
          9.323643684387207,
          8.652487754821777,
          8.521439552307129,
          9.073881149291992,
          8.270811080932617,
          8.733872413635254,
          8.91572380065918,
          8.894098281860352,
          9.033796310424805,
          9.083818435668945,
          8.812447547912598,
          9.200139999389648,
          9.20640754699707,
          8.871098518371582,
          8.942094802856445,
          8.671106338500977,
          9.08545970916748,
          8.702500343322754
         ],
         "xaxis": "x",
         "y": [
          7.427698135375977,
          7.807957172393799,
          8.451345443725586,
          8.57130241394043,
          8.428472518920898,
          7.512433052062988,
          7.8381853103637695,
          8.291388511657715,
          8.38722038269043,
          8.67050838470459,
          8.879164695739746,
          8.764625549316406,
          8.354355812072754,
          8.56289291381836,
          8.285074234008789,
          7.484567642211914,
          7.990175724029541,
          8.371231079101562,
          8.2443265914917,
          8.315621376037598,
          8.324647903442383,
          8.761919021606445,
          8.273791313171387,
          8.258498191833496,
          8.283381462097168,
          8.369979858398438,
          8.772685050964355,
          8.304231643676758,
          8.325777053833008,
          8.591835021972656,
          8.88106918334961,
          8.812416076660156,
          8.410101890563965,
          8.467649459838867,
          8.340877532958984,
          8.544702529907227,
          8.828764915466309,
          8.596266746520996,
          8.644248962402344,
          8.35810661315918,
          7.821983337402344,
          7.982542514801025,
          8.58126449584961,
          8.378117561340332,
          8.090211868286133,
          8.664554595947266,
          8.691901206970215,
          7.447596073150635,
          8.542137145996094,
          8.086074829101562,
          8.65640926361084,
          8.898496627807617,
          8.661321640014648,
          8.315999031066895,
          7.673120975494385,
          8.679789543151855,
          0.07750175893306732,
          8.821211814880371,
          8.87713623046875,
          8.83808708190918,
          8.348172187805176,
          8.420589447021484,
          8.752469062805176,
          8.61667251586914,
          8.479008674621582,
          8.732583045959473,
          8.586583137512207,
          8.242207527160645,
          7.828731536865234,
          7.569441795349121,
          8.459428787231445,
          8.60150146484375,
          7.884387493133545,
          8.875990867614746,
          8.090060234069824,
          7.635623455047607,
          8.7537260055542,
          7.742009162902832,
          8.402477264404297,
          8.533353805541992,
          8.266857147216797,
          8.597641944885254,
          8.68201732635498,
          7.740171909332275,
          8.449764251708984,
          8.780915260314941,
          8.24731159210205,
          8.090963363647461,
          8.143169403076172,
          8.640840530395508,
          7.6862969398498535
         ],
         "yaxis": "y"
        },
        {
         "customdata": [
          [
           9
          ],
          [
           9
          ],
          [
           9
          ],
          [
           9
          ],
          [
           9
          ],
          [
           9
          ],
          [
           9
          ],
          [
           9
          ],
          [
           9
          ],
          [
           9
          ],
          [
           9
          ],
          [
           9
          ],
          [
           9
          ],
          [
           9
          ],
          [
           9
          ],
          [
           9
          ],
          [
           9
          ],
          [
           9
          ],
          [
           9
          ],
          [
           9
          ],
          [
           9
          ],
          [
           9
          ],
          [
           9
          ],
          [
           9
          ],
          [
           9
          ],
          [
           9
          ],
          [
           9
          ],
          [
           9
          ],
          [
           9
          ],
          [
           9
          ]
         ],
         "hovertemplate": "topic_name=environnemental<br>0=%{x}<br>1=%{y}<br>topic=%{customdata[0]}<extra></extra>",
         "legendgroup": "environnemental",
         "marker": {
          "color": "#E3EE9E",
          "symbol": "circle"
         },
         "mode": "markers",
         "name": "environnemental",
         "showlegend": true,
         "type": "scattergl",
         "x": [
          3.0312578678131104,
          3.6043713092803955,
          3.5977134704589844,
          3.1748461723327637,
          3.262054920196533,
          1.8421107530593872,
          3.6487772464752197,
          3.2944743633270264,
          3.057478666305542,
          3.1803252696990967,
          3.406771659851074,
          3.805264949798584,
          12.1944580078125,
          3.15537691116333,
          3.3182365894317627,
          3.3758363723754883,
          11.9441556930542,
          3.1393544673919678,
          3.175790309906006,
          3.3144583702087402,
          3.2032058238983154,
          3.29658842086792,
          2.57320499420166,
          3.1905646324157715,
          3.4552550315856934,
          3.461729049682617,
          3.7702839374542236,
          3.1188931465148926,
          2.880845069885254,
          2.886159658432007
         ],
         "xaxis": "x",
         "y": [
          4.392865180969238,
          4.554047107696533,
          4.532617568969727,
          4.455334663391113,
          4.499227046966553,
          5.745837211608887,
          4.482248306274414,
          4.4151692390441895,
          4.72493839263916,
          4.168829441070557,
          4.593922138214111,
          4.83275842666626,
          1.4112000465393066,
          4.6487298011779785,
          4.268157958984375,
          4.09922456741333,
          1.3754463195800781,
          4.378028392791748,
          4.559115409851074,
          4.620086193084717,
          4.322550296783447,
          4.844053745269775,
          5.016243934631348,
          4.447403430938721,
          4.348578453063965,
          4.094140529632568,
          4.46536922454834,
          4.284511566162109,
          4.499980449676514,
          4.546444892883301
         ],
         "yaxis": "y"
        },
        {
         "customdata": [
          [
           21
          ],
          [
           21
          ],
          [
           21
          ],
          [
           21
          ],
          [
           21
          ],
          [
           21
          ],
          [
           21
          ],
          [
           21
          ],
          [
           21
          ],
          [
           21
          ],
          [
           21
          ],
          [
           21
          ],
          [
           21
          ],
          [
           21
          ],
          [
           21
          ],
          [
           21
          ]
         ],
         "hovertemplate": "topic_name=maritime<br>0=%{x}<br>1=%{y}<br>topic=%{customdata[0]}<extra></extra>",
         "legendgroup": "maritime",
         "marker": {
          "color": "#86CE00",
          "symbol": "circle"
         },
         "mode": "markers",
         "name": "maritime",
         "showlegend": true,
         "type": "scattergl",
         "x": [
          3.288548469543457,
          2.7608983516693115,
          3.376667022705078,
          3.1696105003356934,
          3.1594369411468506,
          3.3248605728149414,
          3.576385259628296,
          3.2461185455322266,
          3.0845272541046143,
          3.2461228370666504,
          3.0449743270874023,
          3.025458812713623,
          3.086867094039917,
          3.2596282958984375,
          3.0053563117980957,
          3.2171216011047363
         ],
         "xaxis": "x",
         "y": [
          3.12553334236145,
          5.203780174255371,
          3.021756649017334,
          3.318206787109375,
          3.433856248855591,
          3.166923999786377,
          3.113497495651245,
          3.22025990486145,
          3.4767141342163086,
          3.196298837661743,
          3.55238676071167,
          3.5748565196990967,
          3.5469889640808105,
          3.2975645065307617,
          3.5767321586608887,
          3.2949447631835938
         ],
         "yaxis": "y"
        },
        {
         "customdata": [
          [
           16
          ],
          [
           16
          ],
          [
           16
          ],
          [
           16
          ],
          [
           16
          ],
          [
           16
          ],
          [
           16
          ],
          [
           16
          ],
          [
           16
          ],
          [
           16
          ],
          [
           16
          ],
          [
           16
          ],
          [
           16
          ],
          [
           16
          ],
          [
           16
          ],
          [
           16
          ],
          [
           16
          ],
          [
           16
          ],
          [
           16
          ],
          [
           16
          ],
          [
           16
          ],
          [
           16
          ],
          [
           16
          ],
          [
           16
          ],
          [
           16
          ],
          [
           16
          ],
          [
           16
          ],
          [
           16
          ],
          [
           16
          ],
          [
           16
          ],
          [
           16
          ],
          [
           16
          ],
          [
           16
          ]
         ],
         "hovertemplate": "topic_name=immigration<br>0=%{x}<br>1=%{y}<br>topic=%{customdata[0]}<extra></extra>",
         "legendgroup": "immigration",
         "marker": {
          "color": "#BC7196",
          "symbol": "circle"
         },
         "mode": "markers",
         "name": "immigration",
         "showlegend": true,
         "type": "scattergl",
         "x": [
          10.211376190185547,
          10.541963577270508,
          10.550660133361816,
          10.524260520935059,
          10.410781860351562,
          10.416804313659668,
          10.421594619750977,
          10.40899658203125,
          10.567112922668457,
          10.516425132751465,
          10.23985481262207,
          10.408896446228027,
          10.33596134185791,
          10.529426574707031,
          10.61363410949707,
          10.48460578918457,
          10.44740104675293,
          10.026824951171875,
          10.473979949951172,
          10.3985013961792,
          10.281871795654297,
          10.129250526428223,
          10.351639747619629,
          10.4378662109375,
          10.330702781677246,
          10.408036231994629,
          10.40691089630127,
          10.268449783325195,
          10.486162185668945,
          10.505658149719238,
          10.29114818572998,
          10.433196067810059,
          10.518948554992676
         ],
         "xaxis": "x",
         "y": [
          5.758418560028076,
          5.331073760986328,
          5.257383823394775,
          5.38886833190918,
          5.3965959548950195,
          5.632974624633789,
          5.531284809112549,
          5.389394283294678,
          5.284451007843018,
          5.365680694580078,
          5.597489833831787,
          5.499820232391357,
          5.555106163024902,
          5.339090347290039,
          5.187956809997559,
          5.398866176605225,
          5.489898204803467,
          5.417998790740967,
          5.205565452575684,
          5.468362808227539,
          5.433839797973633,
          5.421224117279053,
          5.376983642578125,
          5.437112331390381,
          5.471584796905518,
          5.464677333831787,
          5.4540534019470215,
          5.360855579376221,
          5.381192684173584,
          5.343707084655762,
          5.348179340362549,
          5.456198692321777,
          5.3353118896484375
         ],
         "yaxis": "y"
        },
        {
         "customdata": [
          [
           20
          ],
          [
           20
          ],
          [
           20
          ],
          [
           20
          ],
          [
           20
          ],
          [
           20
          ],
          [
           20
          ],
          [
           20
          ],
          [
           20
          ],
          [
           20
          ],
          [
           20
          ],
          [
           20
          ],
          [
           20
          ],
          [
           20
          ],
          [
           20
          ],
          [
           20
          ],
          [
           20
          ],
          [
           20
          ],
          [
           20
          ],
          [
           20
          ],
          [
           20
          ],
          [
           20
          ],
          [
           20
          ],
          [
           20
          ],
          [
           20
          ]
         ],
         "hovertemplate": "topic_name=discrimination<br>0=%{x}<br>1=%{y}<br>topic=%{customdata[0]}<extra></extra>",
         "legendgroup": "discrimination",
         "marker": {
          "color": "#7E7DCD",
          "symbol": "circle"
         },
         "mode": "markers",
         "name": "discrimination",
         "showlegend": true,
         "type": "scattergl",
         "x": [
          9.210817337036133,
          9.471556663513184,
          9.161432266235352,
          9.21684455871582,
          9.258883476257324,
          8.01376724243164,
          9.187260627746582,
          9.480490684509277,
          9.213749885559082,
          9.109685897827148,
          9.074177742004395,
          8.899492263793945,
          8.830998420715332,
          8.872469902038574,
          9.107397079467773,
          9.40690803527832,
          8.961788177490234,
          9.22098445892334,
          8.739177703857422,
          8.795281410217285,
          9.166056632995605,
          8.829581260681152,
          9.563896179199219,
          9.292823791503906,
          7.276170253753662
         ],
         "xaxis": "x",
         "y": [
          5.677009105682373,
          5.550217628479004,
          5.606904983520508,
          5.728724479675293,
          5.593137264251709,
          4.5623955726623535,
          5.635810375213623,
          5.439830780029297,
          5.622008323669434,
          5.57227897644043,
          5.548862457275391,
          5.45551061630249,
          5.438549518585205,
          5.373234748840332,
          5.236940383911133,
          5.546783447265625,
          5.430081844329834,
          5.573246479034424,
          5.611085414886475,
          5.48037576675415,
          5.286670684814453,
          5.3829474449157715,
          5.489087104797363,
          5.143561363220215,
          6.238053321838379
         ],
         "yaxis": "y"
        },
        {
         "mode": "markers+text",
         "text": [
          "emploi",
          "scolaire",
          "agriculture",
          "citoyennete",
          "medical",
          "fiscal",
          "judiciaire",
          "parlement",
          "europeen",
          "environnemental",
          "energie",
          "mondialisation",
          "culturel",
          "social",
          "militaire",
          "public",
          "immigration",
          "familial",
          "logement",
          "regional",
          "discrimination",
          "maritime"
         ],
         "textfont": {
          "color": "Black",
          "family": "sans serif",
          "size": 20
         },
         "type": "scatter",
         "x": [
          7.334362506866455,
          12.004433631896973,
          10.184422492980957,
          9.260441780090332,
          3.1298975944519043,
          6.976912498474121,
          8.915035247802734,
          8.224059104919434,
          7.893547534942627,
          9.505038261413574,
          6.81771183013916,
          7.021511554718018,
          10.53786849975586,
          9.128715515136719,
          2.450138807296753,
          3.264482259750366,
          1.9401191473007202,
          6.536839485168457,
          6.087355613708496,
          3.9996800422668457,
          5.623013019561768,
          4.390182018280029
         ],
         "y": [
          9.002198219299316,
          2.6143686771392822,
          0.25087711215019226,
          2.046586275100708,
          3.3541767597198486,
          4.611373424530029,
          8.537450790405273,
          4.514832973480225,
          5.901576042175293,
          6.674567699432373,
          3.6594343185424805,
          2.500655174255371,
          5.457455635070801,
          5.518158912658691,
          6.2429399490356445,
          4.500471591949463,
          3.909000873565674,
          7.410530090332031,
          5.79698371887207,
          1.8323951959609985,
          3.0359010696411133,
          3.17399263381958
         ]
        }
       ],
       "layout": {
        "legend": {
         "title": {
          "text": "topic_name"
         },
         "tracegroupgap": 0
        },
        "margin": {
         "t": 60
        },
        "template": {
         "data": {
          "bar": [
           {
            "error_x": {
             "color": "#2a3f5f"
            },
            "error_y": {
             "color": "#2a3f5f"
            },
            "marker": {
             "line": {
              "color": "#E5ECF6",
              "width": 0.5
             },
             "pattern": {
              "fillmode": "overlay",
              "size": 10,
              "solidity": 0.2
             }
            },
            "type": "bar"
           }
          ],
          "barpolar": [
           {
            "marker": {
             "line": {
              "color": "#E5ECF6",
              "width": 0.5
             },
             "pattern": {
              "fillmode": "overlay",
              "size": 10,
              "solidity": 0.2
             }
            },
            "type": "barpolar"
           }
          ],
          "carpet": [
           {
            "aaxis": {
             "endlinecolor": "#2a3f5f",
             "gridcolor": "white",
             "linecolor": "white",
             "minorgridcolor": "white",
             "startlinecolor": "#2a3f5f"
            },
            "baxis": {
             "endlinecolor": "#2a3f5f",
             "gridcolor": "white",
             "linecolor": "white",
             "minorgridcolor": "white",
             "startlinecolor": "#2a3f5f"
            },
            "type": "carpet"
           }
          ],
          "choropleth": [
           {
            "colorbar": {
             "outlinewidth": 0,
             "ticks": ""
            },
            "type": "choropleth"
           }
          ],
          "contour": [
           {
            "colorbar": {
             "outlinewidth": 0,
             "ticks": ""
            },
            "colorscale": [
             [
              0,
              "#0d0887"
             ],
             [
              0.1111111111111111,
              "#46039f"
             ],
             [
              0.2222222222222222,
              "#7201a8"
             ],
             [
              0.3333333333333333,
              "#9c179e"
             ],
             [
              0.4444444444444444,
              "#bd3786"
             ],
             [
              0.5555555555555556,
              "#d8576b"
             ],
             [
              0.6666666666666666,
              "#ed7953"
             ],
             [
              0.7777777777777778,
              "#fb9f3a"
             ],
             [
              0.8888888888888888,
              "#fdca26"
             ],
             [
              1,
              "#f0f921"
             ]
            ],
            "type": "contour"
           }
          ],
          "contourcarpet": [
           {
            "colorbar": {
             "outlinewidth": 0,
             "ticks": ""
            },
            "type": "contourcarpet"
           }
          ],
          "heatmap": [
           {
            "colorbar": {
             "outlinewidth": 0,
             "ticks": ""
            },
            "colorscale": [
             [
              0,
              "#0d0887"
             ],
             [
              0.1111111111111111,
              "#46039f"
             ],
             [
              0.2222222222222222,
              "#7201a8"
             ],
             [
              0.3333333333333333,
              "#9c179e"
             ],
             [
              0.4444444444444444,
              "#bd3786"
             ],
             [
              0.5555555555555556,
              "#d8576b"
             ],
             [
              0.6666666666666666,
              "#ed7953"
             ],
             [
              0.7777777777777778,
              "#fb9f3a"
             ],
             [
              0.8888888888888888,
              "#fdca26"
             ],
             [
              1,
              "#f0f921"
             ]
            ],
            "type": "heatmap"
           }
          ],
          "heatmapgl": [
           {
            "colorbar": {
             "outlinewidth": 0,
             "ticks": ""
            },
            "colorscale": [
             [
              0,
              "#0d0887"
             ],
             [
              0.1111111111111111,
              "#46039f"
             ],
             [
              0.2222222222222222,
              "#7201a8"
             ],
             [
              0.3333333333333333,
              "#9c179e"
             ],
             [
              0.4444444444444444,
              "#bd3786"
             ],
             [
              0.5555555555555556,
              "#d8576b"
             ],
             [
              0.6666666666666666,
              "#ed7953"
             ],
             [
              0.7777777777777778,
              "#fb9f3a"
             ],
             [
              0.8888888888888888,
              "#fdca26"
             ],
             [
              1,
              "#f0f921"
             ]
            ],
            "type": "heatmapgl"
           }
          ],
          "histogram": [
           {
            "marker": {
             "pattern": {
              "fillmode": "overlay",
              "size": 10,
              "solidity": 0.2
             }
            },
            "type": "histogram"
           }
          ],
          "histogram2d": [
           {
            "colorbar": {
             "outlinewidth": 0,
             "ticks": ""
            },
            "colorscale": [
             [
              0,
              "#0d0887"
             ],
             [
              0.1111111111111111,
              "#46039f"
             ],
             [
              0.2222222222222222,
              "#7201a8"
             ],
             [
              0.3333333333333333,
              "#9c179e"
             ],
             [
              0.4444444444444444,
              "#bd3786"
             ],
             [
              0.5555555555555556,
              "#d8576b"
             ],
             [
              0.6666666666666666,
              "#ed7953"
             ],
             [
              0.7777777777777778,
              "#fb9f3a"
             ],
             [
              0.8888888888888888,
              "#fdca26"
             ],
             [
              1,
              "#f0f921"
             ]
            ],
            "type": "histogram2d"
           }
          ],
          "histogram2dcontour": [
           {
            "colorbar": {
             "outlinewidth": 0,
             "ticks": ""
            },
            "colorscale": [
             [
              0,
              "#0d0887"
             ],
             [
              0.1111111111111111,
              "#46039f"
             ],
             [
              0.2222222222222222,
              "#7201a8"
             ],
             [
              0.3333333333333333,
              "#9c179e"
             ],
             [
              0.4444444444444444,
              "#bd3786"
             ],
             [
              0.5555555555555556,
              "#d8576b"
             ],
             [
              0.6666666666666666,
              "#ed7953"
             ],
             [
              0.7777777777777778,
              "#fb9f3a"
             ],
             [
              0.8888888888888888,
              "#fdca26"
             ],
             [
              1,
              "#f0f921"
             ]
            ],
            "type": "histogram2dcontour"
           }
          ],
          "mesh3d": [
           {
            "colorbar": {
             "outlinewidth": 0,
             "ticks": ""
            },
            "type": "mesh3d"
           }
          ],
          "parcoords": [
           {
            "line": {
             "colorbar": {
              "outlinewidth": 0,
              "ticks": ""
             }
            },
            "type": "parcoords"
           }
          ],
          "pie": [
           {
            "automargin": true,
            "type": "pie"
           }
          ],
          "scatter": [
           {
            "marker": {
             "colorbar": {
              "outlinewidth": 0,
              "ticks": ""
             }
            },
            "type": "scatter"
           }
          ],
          "scatter3d": [
           {
            "line": {
             "colorbar": {
              "outlinewidth": 0,
              "ticks": ""
             }
            },
            "marker": {
             "colorbar": {
              "outlinewidth": 0,
              "ticks": ""
             }
            },
            "type": "scatter3d"
           }
          ],
          "scattercarpet": [
           {
            "marker": {
             "colorbar": {
              "outlinewidth": 0,
              "ticks": ""
             }
            },
            "type": "scattercarpet"
           }
          ],
          "scattergeo": [
           {
            "marker": {
             "colorbar": {
              "outlinewidth": 0,
              "ticks": ""
             }
            },
            "type": "scattergeo"
           }
          ],
          "scattergl": [
           {
            "marker": {
             "colorbar": {
              "outlinewidth": 0,
              "ticks": ""
             }
            },
            "type": "scattergl"
           }
          ],
          "scattermapbox": [
           {
            "marker": {
             "colorbar": {
              "outlinewidth": 0,
              "ticks": ""
             }
            },
            "type": "scattermapbox"
           }
          ],
          "scatterpolar": [
           {
            "marker": {
             "colorbar": {
              "outlinewidth": 0,
              "ticks": ""
             }
            },
            "type": "scatterpolar"
           }
          ],
          "scatterpolargl": [
           {
            "marker": {
             "colorbar": {
              "outlinewidth": 0,
              "ticks": ""
             }
            },
            "type": "scatterpolargl"
           }
          ],
          "scatterternary": [
           {
            "marker": {
             "colorbar": {
              "outlinewidth": 0,
              "ticks": ""
             }
            },
            "type": "scatterternary"
           }
          ],
          "surface": [
           {
            "colorbar": {
             "outlinewidth": 0,
             "ticks": ""
            },
            "colorscale": [
             [
              0,
              "#0d0887"
             ],
             [
              0.1111111111111111,
              "#46039f"
             ],
             [
              0.2222222222222222,
              "#7201a8"
             ],
             [
              0.3333333333333333,
              "#9c179e"
             ],
             [
              0.4444444444444444,
              "#bd3786"
             ],
             [
              0.5555555555555556,
              "#d8576b"
             ],
             [
              0.6666666666666666,
              "#ed7953"
             ],
             [
              0.7777777777777778,
              "#fb9f3a"
             ],
             [
              0.8888888888888888,
              "#fdca26"
             ],
             [
              1,
              "#f0f921"
             ]
            ],
            "type": "surface"
           }
          ],
          "table": [
           {
            "cells": {
             "fill": {
              "color": "#EBF0F8"
             },
             "line": {
              "color": "white"
             }
            },
            "header": {
             "fill": {
              "color": "#C8D4E3"
             },
             "line": {
              "color": "white"
             }
            },
            "type": "table"
           }
          ]
         },
         "layout": {
          "annotationdefaults": {
           "arrowcolor": "#2a3f5f",
           "arrowhead": 0,
           "arrowwidth": 1
          },
          "autotypenumbers": "strict",
          "coloraxis": {
           "colorbar": {
            "outlinewidth": 0,
            "ticks": ""
           }
          },
          "colorscale": {
           "diverging": [
            [
             0,
             "#8e0152"
            ],
            [
             0.1,
             "#c51b7d"
            ],
            [
             0.2,
             "#de77ae"
            ],
            [
             0.3,
             "#f1b6da"
            ],
            [
             0.4,
             "#fde0ef"
            ],
            [
             0.5,
             "#f7f7f7"
            ],
            [
             0.6,
             "#e6f5d0"
            ],
            [
             0.7,
             "#b8e186"
            ],
            [
             0.8,
             "#7fbc41"
            ],
            [
             0.9,
             "#4d9221"
            ],
            [
             1,
             "#276419"
            ]
           ],
           "sequential": [
            [
             0,
             "#0d0887"
            ],
            [
             0.1111111111111111,
             "#46039f"
            ],
            [
             0.2222222222222222,
             "#7201a8"
            ],
            [
             0.3333333333333333,
             "#9c179e"
            ],
            [
             0.4444444444444444,
             "#bd3786"
            ],
            [
             0.5555555555555556,
             "#d8576b"
            ],
            [
             0.6666666666666666,
             "#ed7953"
            ],
            [
             0.7777777777777778,
             "#fb9f3a"
            ],
            [
             0.8888888888888888,
             "#fdca26"
            ],
            [
             1,
             "#f0f921"
            ]
           ],
           "sequentialminus": [
            [
             0,
             "#0d0887"
            ],
            [
             0.1111111111111111,
             "#46039f"
            ],
            [
             0.2222222222222222,
             "#7201a8"
            ],
            [
             0.3333333333333333,
             "#9c179e"
            ],
            [
             0.4444444444444444,
             "#bd3786"
            ],
            [
             0.5555555555555556,
             "#d8576b"
            ],
            [
             0.6666666666666666,
             "#ed7953"
            ],
            [
             0.7777777777777778,
             "#fb9f3a"
            ],
            [
             0.8888888888888888,
             "#fdca26"
            ],
            [
             1,
             "#f0f921"
            ]
           ]
          },
          "colorway": [
           "#636efa",
           "#EF553B",
           "#00cc96",
           "#ab63fa",
           "#FFA15A",
           "#19d3f3",
           "#FF6692",
           "#B6E880",
           "#FF97FF",
           "#FECB52"
          ],
          "font": {
           "color": "#2a3f5f"
          },
          "geo": {
           "bgcolor": "white",
           "lakecolor": "white",
           "landcolor": "#E5ECF6",
           "showlakes": true,
           "showland": true,
           "subunitcolor": "white"
          },
          "hoverlabel": {
           "align": "left"
          },
          "hovermode": "closest",
          "mapbox": {
           "style": "light"
          },
          "paper_bgcolor": "white",
          "plot_bgcolor": "#E5ECF6",
          "polar": {
           "angularaxis": {
            "gridcolor": "white",
            "linecolor": "white",
            "ticks": ""
           },
           "bgcolor": "#E5ECF6",
           "radialaxis": {
            "gridcolor": "white",
            "linecolor": "white",
            "ticks": ""
           }
          },
          "scene": {
           "xaxis": {
            "backgroundcolor": "#E5ECF6",
            "gridcolor": "white",
            "gridwidth": 2,
            "linecolor": "white",
            "showbackground": true,
            "ticks": "",
            "zerolinecolor": "white"
           },
           "yaxis": {
            "backgroundcolor": "#E5ECF6",
            "gridcolor": "white",
            "gridwidth": 2,
            "linecolor": "white",
            "showbackground": true,
            "ticks": "",
            "zerolinecolor": "white"
           },
           "zaxis": {
            "backgroundcolor": "#E5ECF6",
            "gridcolor": "white",
            "gridwidth": 2,
            "linecolor": "white",
            "showbackground": true,
            "ticks": "",
            "zerolinecolor": "white"
           }
          },
          "shapedefaults": {
           "line": {
            "color": "#2a3f5f"
           }
          },
          "ternary": {
           "aaxis": {
            "gridcolor": "white",
            "linecolor": "white",
            "ticks": ""
           },
           "baxis": {
            "gridcolor": "white",
            "linecolor": "white",
            "ticks": ""
           },
           "bgcolor": "#E5ECF6",
           "caxis": {
            "gridcolor": "white",
            "linecolor": "white",
            "ticks": ""
           }
          },
          "title": {
           "x": 0.05
          },
          "xaxis": {
           "automargin": true,
           "gridcolor": "white",
           "linecolor": "white",
           "ticks": "",
           "title": {
            "standoff": 15
           },
           "zerolinecolor": "white",
           "zerolinewidth": 2
          },
          "yaxis": {
           "automargin": true,
           "gridcolor": "white",
           "linecolor": "white",
           "ticks": "",
           "title": {
            "standoff": 15
           },
           "zerolinecolor": "white",
           "zerolinewidth": 2
          }
         }
        },
        "xaxis": {
         "anchor": "y",
         "domain": [
          0,
          1
         ],
         "title": {
          "text": "0"
         }
        },
        "yaxis": {
         "anchor": "x",
         "domain": [
          0,
          1
         ],
         "title": {
          "text": "1"
         }
        }
       }
      },
      "text/html": [
       "<div>                            <div id=\"d5547540-ddf5-4d30-8b06-28dd92da5d71\" class=\"plotly-graph-div\" style=\"height:525px; width:100%;\"></div>            <script type=\"text/javascript\">                require([\"plotly\"], function(Plotly) {                    window.PLOTLYENV=window.PLOTLYENV || {};                                    if (document.getElementById(\"d5547540-ddf5-4d30-8b06-28dd92da5d71\")) {                    Plotly.newPlot(                        \"d5547540-ddf5-4d30-8b06-28dd92da5d71\",                        [{\"customdata\":[[3],[3],[3],[3],[3],[3],[3],[3],[3],[3],[3],[3],[3],[3],[3],[3],[3],[3],[3],[3],[3],[3],[3],[3],[3],[3],[3],[3],[3],[3],[3],[3],[3],[3],[3],[3],[3],[3],[3],[3],[3],[3],[3],[3],[3],[3]],\"hovertemplate\":\"topic_name=citoyennete<br>0=%{x}<br>1=%{y}<br>topic=%{customdata[0]}<extra></extra>\",\"legendgroup\":\"citoyennete\",\"marker\":{\"color\":\"#FD3216\",\"symbol\":\"circle\"},\"mode\":\"markers\",\"name\":\"citoyennete\",\"showlegend\":true,\"type\":\"scattergl\",\"x\":[8.151793479919434,8.04996109008789,8.0618314743042,7.906888961791992,7.952371120452881,8.91262149810791,8.701518058776855,8.716135025024414,9.081538200378418,8.932520866394043,8.82481575012207,8.816625595092773,8.597710609436035,8.887965202331543,8.776327133178711,8.67109489440918,8.611703872680664,8.509586334228516,9.372039794921875,9.265316009521484,11.12822437286377,8.413484573364258,7.893679618835449,8.54348087310791,9.188298225402832,7.997786998748779,8.06480598449707,8.16984748840332,7.8720526695251465,7.9056477546691895,7.793216705322266,7.832490921020508,8.006155014038086,7.943228244781494,8.051962852478027,8.191089630126953,8.020140647888184,8.249756813049316,8.173470497131348,8.259148597717285,8.217702865600586,7.912448883056641,8.245643615722656,7.989555358886719,7.927748680114746,7.910377025604248],\"xaxis\":\"x\",\"y\":[4.497936725616455,4.450077533721924,4.5966339111328125,4.471343517303467,5.144280433654785,3.9451076984405518,3.949324131011963,4.0043511390686035,3.8640317916870117,4.043670654296875,4.125659942626953,4.153120517730713,4.067629337310791,4.113953590393066,4.150389671325684,4.27609920501709,4.094688892364502,4.025670051574707,4.1182122230529785,4.001659870147705,3.0079400539398193,4.0191802978515625,4.980296611785889,4.062341213226318,3.945974349975586,4.384531021118164,4.760521411895752,3.981229543685913,4.392330169677734,4.0756144523620605,4.915268421173096,5.509251117706299,4.2970781326293945,4.300505638122559,4.33783483505249,4.736603736877441,4.885361194610596,4.6618194580078125,4.433027267456055,4.855652809143066,4.50933837890625,4.199944972991943,4.474969863891602,4.6284990310668945,4.260647296905518,4.1384100914001465],\"yaxis\":\"y\"},{\"customdata\":[[5],[5],[5],[5],[5],[5],[5],[5],[5],[5],[5],[5],[5],[5],[5],[5],[5],[5],[5],[5],[5],[5],[5],[5],[5],[5],[5],[5],[5],[5],[5],[5],[5],[5],[5],[5],[5],[5],[5],[5],[5],[5],[5],[5],[5],[5],[5]],\"hovertemplate\":\"topic_name=fiscal<br>0=%{x}<br>1=%{y}<br>topic=%{customdata[0]}<extra></extra>\",\"legendgroup\":\"fiscal\",\"marker\":{\"color\":\"#00FE35\",\"symbol\":\"circle\"},\"mode\":\"markers\",\"name\":\"fiscal\",\"showlegend\":true,\"type\":\"scattergl\",\"x\":[6.383235931396484,6.180448532104492,6.265092372894287,6.365176677703857,5.878997802734375,5.981733798980713,5.521338939666748,7.303760051727295,5.818974494934082,6.235665798187256,6.151336669921875,6.250068664550781,6.326099872589111,6.350709438323975,6.325880527496338,6.259701728820801,6.2563066482543945,6.244716644287109,6.290655612945557,5.9111223220825195,5.883116722106934,5.954251289367676,5.652789115905762,5.823102951049805,5.627557754516602,6.125227928161621,6.1740217208862305,6.309925079345703,6.270094394683838,5.402255058288574,6.252797603607178,5.846022129058838,6.017107963562012,5.426473617553711,6.311837196350098,5.73074197769165,6.238466262817383,5.466122627258301,5.185323715209961,5.584779262542725,6.713635444641113,6.282306671142578,6.025411128997803,6.333041191101074,6.355465412139893,6.416858196258545,6.257410049438477],\"xaxis\":\"x\",\"y\":[5.849808216094971,5.538475036621094,5.690207004547119,5.903425216674805,5.538245677947998,5.577678203582764,5.723703861236572,6.29193639755249,5.304988861083984,5.436655521392822,5.697887897491455,5.736592769622803,5.716776371002197,5.789439678192139,5.750245571136475,5.478233814239502,5.6430487632751465,5.727603912353516,5.864896297454834,5.451151371002197,5.485366344451904,5.619783878326416,6.061532974243164,5.653801441192627,5.65410852432251,5.439957141876221,5.7300920486450195,5.440232753753662,5.72972297668457,5.304247856140137,5.803260326385498,5.557966709136963,5.581221103668213,5.255692958831787,5.802076816558838,5.086288928985596,5.655339241027832,5.437702655792236,5.5302581787109375,5.380245685577393,5.9196624755859375,5.789958953857422,5.633249282836914,5.792262554168701,5.813872814178467,5.678451061248779,5.721583366394043],\"yaxis\":\"y\"},{\"customdata\":[[0],[0],[0],[0],[0],[0],[0],[0],[0],[0],[0],[0],[0],[0],[0],[0],[0],[0],[0],[0],[0],[0],[0],[0],[0],[0],[0],[0],[0],[0],[0],[0],[0],[0],[0],[0],[0],[0],[0],[0],[0],[0],[0],[0],[0],[0],[0],[0],[0],[0],[0],[0],[0],[0],[0],[0],[0],[0],[0],[0],[0],[0],[0],[0],[0],[0],[0],[0],[0],[0],[0],[0],[0],[0],[0],[0],[0],[0],[0],[0],[0],[0],[0],[0],[0],[0],[0],[0],[0],[0],[0],[0],[0],[0],[0],[0],[0]],\"hovertemplate\":\"topic_name=emploi<br>0=%{x}<br>1=%{y}<br>topic=%{customdata[0]}<extra></extra>\",\"legendgroup\":\"emploi\",\"marker\":{\"color\":\"#6A76FC\",\"symbol\":\"circle\"},\"mode\":\"markers\",\"name\":\"emploi\",\"showlegend\":true,\"type\":\"scattergl\",\"x\":[6.304250717163086,6.372367858886719,6.3206939697265625,6.604902744293213,6.8577880859375,5.841412544250488,5.974585056304932,6.560455322265625,5.650201320648193,6.134737968444824,5.933871746063232,6.187088489532471,6.2571868896484375,6.065464019775391,6.8826141357421875,6.560000419616699,6.053703784942627,6.274887561798096,5.321871280670166,6.262834548950195,6.224274158477783,6.317799091339111,6.5856218338012695,5.9799041748046875,6.154603481292725,5.93752384185791,6.149160861968994,6.212522029876709,6.167181968688965,6.299973964691162,6.3391523361206055,6.245961666107178,7.177196979522705,6.916584014892578,6.539063453674316,6.054800033569336,6.2691216468811035,7.2112956047058105,6.441394805908203,6.640719413757324,6.21541166305542,6.083262920379639,6.325669765472412,6.057455062866211,6.417850494384766,6.442661285400391,6.305828094482422,6.2735114097595215,7.279970169067383,6.988791465759277,7.017786979675293,6.89669132232666,7.416991233825684,6.582037925720215,6.528179168701172,6.331668376922607,6.407217502593994,6.460241794586182,6.4220428466796875,6.65381383895874,6.422798156738281,6.486024856567383,6.569478988647461,6.390050411224365,6.644627571105957,7.334778785705566,6.581448078155518,6.441267490386963,7.078211784362793,6.942726135253906,7.073184490203857,7.139858245849609,6.518298625946045,6.48006534576416,6.4825263023376465,6.649520397186279,6.523651123046875,6.499660968780518,6.957170486450195,6.524328708648682,5.603526592254639,6.4829020500183105,7.159039497375488,6.328037738800049,6.461955547332764,6.463802814483643,6.7326250076293945,6.363180160522461,6.961613655090332,7.489007472991943,6.449739456176758,5.853941440582275,6.421530246734619,6.849458694458008,6.349503993988037,6.721546173095703,6.895015239715576],\"xaxis\":\"x\",\"y\":[7.085636615753174,7.556538105010986,7.444118022918701,7.247718811035156,6.961400985717773,6.629576206207275,7.408680438995361,7.485451698303223,6.107603549957275,7.253633975982666,7.402100086212158,7.578383922576904,7.5941057205200195,7.6675848960876465,6.9598236083984375,6.761830806732178,7.530706405639648,6.857133388519287,5.6829118728637695,7.234532833099365,7.271559715270996,7.109170436859131,7.222826957702637,7.457930564880371,7.319130897521973,7.375481128692627,7.5778117179870605,7.650552272796631,7.640754222869873,7.0926995277404785,7.069136619567871,7.094645023345947,6.490055561065674,6.978865623474121,6.747107982635498,7.517882823944092,7.1101202964782715,6.973288536071777,7.72036075592041,7.026784420013428,7.184549808502197,7.157520294189453,6.970718860626221,6.997589588165283,7.8011322021484375,7.201533317565918,6.886787414550781,7.469751834869385,6.6185479164123535,7.024381160736084,7.536871910095215,7.448685169219971,6.846950054168701,7.696691036224365,7.877138614654541,7.237977027893066,7.539041519165039,7.112823486328125,7.872960090637207,7.1230597496032715,7.360021591186523,7.507444381713867,7.202150821685791,7.518208026885986,6.905854225158691,6.5437726974487305,7.325433731079102,7.388838291168213,6.953255653381348,7.2155022621154785,6.982769012451172,6.96075963973999,7.736070156097412,7.768219947814941,7.1247477531433105,7.221803665161133,7.892261981964111,7.82928991317749,7.075392246246338,7.574798583984375,5.974810600280762,7.713128566741943,6.603986740112305,7.262665271759033,7.85113000869751,7.7007951736450195,7.550625801086426,7.1504998207092285,7.065084457397461,6.704122066497803,7.194812297821045,7.141223907470703,7.719610691070557,7.3628034591674805,7.370506763458252,6.701468467712402,7.075215816497803],\"yaxis\":\"y\"},{\"customdata\":[[6],[6],[6],[6],[6],[6],[6],[6],[6],[6],[6],[6],[6],[6],[6],[6],[6],[6],[6],[6],[6],[6],[6],[6],[6],[6],[6],[6],[6],[6],[6],[6],[6],[6],[6],[6],[6],[6],[6],[6],[6],[6],[6],[6],[6],[6],[6],[6],[6],[6],[6],[6],[6],[6],[6],[6],[6],[6],[6],[6],[6],[6],[6],[6],[6],[6],[6],[6],[6],[6],[6],[6]],\"hovertemplate\":\"topic_name=judiciaire<br>0=%{x}<br>1=%{y}<br>topic=%{customdata[0]}<extra></extra>\",\"legendgroup\":\"judiciaire\",\"marker\":{\"color\":\"#FED4C4\",\"symbol\":\"circle\"},\"mode\":\"markers\",\"name\":\"judiciaire\",\"showlegend\":true,\"type\":\"scattergl\",\"x\":[9.314896583557129,9.41546630859375,9.534037590026855,9.07889175415039,9.201504707336426,9.400753021240234,8.469271659851074,9.33641529083252,9.472976684570312,8.486032485961914,8.432268142700195,8.913761138916016,9.223745346069336,8.707303047180176,9.186493873596191,9.111654281616211,8.967669486999512,9.382181167602539,9.390100479125977,9.401666641235352,9.3900728225708,9.27700138092041,8.499259948730469,8.682893753051758,8.586838722229004,8.70345401763916,9.264636039733887,9.290274620056152,9.417081832885742,8.37710189819336,8.626567840576172,9.323381423950195,8.472733497619629,9.024603843688965,9.121675491333008,9.03258991241455,8.963695526123047,8.5873384475708,8.906261444091797,9.084283828735352,8.304622650146484,8.312823295593262,8.85924243927002,9.439408302307129,9.34801197052002,9.497121810913086,8.500279426574707,8.429651260375977,9.288610458374023,8.793137550354004,8.43825626373291,8.543136596679688,8.50487232208252,8.728899955749512,8.563799858093262,9.512189865112305,9.046587944030762,8.287765502929688,8.427484512329102,9.413375854492188,9.312955856323242,9.114714622497559,9.237601280212402,8.576615333557129,8.600822448730469,8.604751586914062,8.87679672241211,9.06367015838623,9.122334480285645,9.3589506149292,9.113302230834961,9.302743911743164],\"xaxis\":\"x\",\"y\":[2.4938201904296875,2.3934686183929443,2.38840389251709,2.4855570793151855,2.134296417236328,2.276160955429077,1.662785291671753,2.3965957164764404,2.346775770187378,1.7121130228042603,1.6511791944503784,1.777169942855835,2.0216073989868164,1.9119231700897217,2.280395746231079,2.537888288497925,2.5311732292175293,2.036168336868286,2.041327953338623,2.0198278427124023,2.0955147743225098,1.9343236684799194,1.8787864446640015,1.755914330482483,1.770843744277954,1.8544367551803589,1.9964276552200317,1.9905651807785034,2.144818067550659,1.691070556640625,1.73078191280365,2.048311471939087,1.883017897605896,2.0572659969329834,2.433382034301758,2.536795139312744,2.6262123584747314,1.9887703657150269,2.0310823917388916,2.2539215087890625,1.7570562362670898,1.738609790802002,1.917600154876709,2.359675168991089,2.3844871520996094,2.3499529361724854,1.6672122478485107,1.7667702436447144,1.961065411567688,1.8530186414718628,1.70368492603302,1.802868127822876,1.70768404006958,2.7643449306488037,1.6957526206970215,2.223102331161499,2.557462453842163,2.134100914001465,1.706871509552002,2.36468243598938,2.109907865524292,2.1380503177642822,2.2606916427612305,1.7704532146453857,1.8111786842346191,1.793259620666504,2.629565715789795,2.479275703430176,2.467346668243408,2.335815906524658,2.1961452960968018,2.2719693183898926],\"yaxis\":\"y\"},{\"customdata\":[[10],[10],[10],[10],[10],[10],[10],[10],[10],[10],[10],[10],[10],[10],[10],[10],[10],[10],[10],[10],[10],[10],[10],[10],[10],[10],[10],[10],[10],[10],[10],[10],[10],[10],[10],[10],[10],[10],[10],[10],[10],[10],[10],[10],[10],[10],[10],[10]],\"hovertemplate\":\"topic_name=energie<br>0=%{x}<br>1=%{y}<br>topic=%{customdata[0]}<extra></extra>\",\"legendgroup\":\"energie\",\"marker\":{\"color\":\"#FE00CE\",\"symbol\":\"circle\"},\"mode\":\"markers\",\"name\":\"energie\",\"showlegend\":true,\"type\":\"scattergl\",\"x\":[1.9966233968734741,2.0178844928741455,1.5866684913635254,2.1278064250946045,1.998500108718872,2.2330944538116455,1.9736168384552002,2.0007266998291016,2.001300811767578,2.0520882606506348,2.1328420639038086,2.003648519515991,1.9473249912261963,1.888427734375,1.8407279253005981,2.487196683883667,2.048985481262207,2.059008836746216,1.9224835634231567,2.405264377593994,2.062429189682007,2.0455641746520996,1.8372724056243896,1.9638659954071045,1.9473615884780884,1.6322507858276367,2.376753568649292,2.098281145095825,1.8431538343429565,2.4037466049194336,1.8918778896331787,1.790414571762085,2.0396599769592285,1.9373424053192139,1.871944546699524,2.3888025283813477,2.483290195465088,2.1209590435028076,1.9966022968292236,1.6377633810043335,2.0265145301818848,1.9715502262115479,2.1100494861602783,2.0592429637908936,1.8126202821731567,2.2109036445617676,2.4539685249328613,2.4303712844848633],\"xaxis\":\"x\",\"y\":[3.9468235969543457,3.8487861156463623,4.520873069763184,4.711505889892578,3.6779630184173584,3.8270413875579834,3.817685842514038,3.653294563293457,3.9184577465057373,3.578394889831543,3.803290367126465,3.6692676544189453,3.966475009918213,3.9618396759033203,3.9740941524505615,4.245352268218994,4.162611484527588,4.202568531036377,4.044999122619629,4.26857852935791,4.004868984222412,3.6611523628234863,4.153180122375488,4.070939540863037,4.1397576332092285,4.347847938537598,3.8453383445739746,3.7606232166290283,4.558213710784912,4.08916711807251,4.01133394241333,4.048880577087402,3.6902060508728027,4.040839195251465,3.960512638092041,4.5333099365234375,4.90407133102417,4.077601432800293,4.048026084899902,4.5440802574157715,3.6056811809539795,4.031407356262207,4.171260356903076,3.743134021759033,4.170999526977539,5.503037929534912,4.044712066650391,4.060941219329834],\"yaxis\":\"y\"},{\"customdata\":[[7],[7],[7],[7],[7],[7],[7],[7],[7],[7],[7],[7],[7],[7],[7],[7],[7],[7],[7],[7],[7],[7],[7],[7],[7],[7],[7],[7],[7],[7],[7],[7],[7],[7],[7],[7],[7],[7],[7],[7],[7],[7],[7],[7],[7],[7],[7],[7],[7],[7],[7],[7],[7],[7]],\"hovertemplate\":\"topic_name=parlement<br>0=%{x}<br>1=%{y}<br>topic=%{customdata[0]}<extra></extra>\",\"legendgroup\":\"parlement\",\"marker\":{\"color\":\"#0DF9FF\",\"symbol\":\"circle\"},\"mode\":\"markers\",\"name\":\"parlement\",\"showlegend\":true,\"type\":\"scattergl\",\"x\":[7.1901960372924805,7.26473331451416,7.076258659362793,7.1886491775512695,7.039273262023926,7.460936069488525,7.8261003494262695,7.483206272125244,7.589291572570801,7.550899028778076,7.660960674285889,7.88124418258667,6.680204391479492,6.883716583251953,7.1330790519714355,7.4691267013549805,7.486794948577881,7.018395900726318,7.028787136077881,6.741423606872559,7.227465629577637,6.8997039794921875,7.148898601531982,7.032958507537842,7.215801239013672,7.071173667907715,7.062524795532227,6.973340034484863,7.129894256591797,7.290964603424072,6.910421848297119,6.905150890350342,7.007023334503174,7.007059574127197,7.064774990081787,7.115628719329834,7.129814624786377,7.101682186126709,7.4298577308654785,7.086361408233643,7.36208438873291,6.91539192199707,6.981507301330566,7.5459818840026855,7.208105564117432,7.094137668609619,7.086552619934082,7.15741491317749,7.179392337799072,7.272032260894775,7.118144512176514,7.9011945724487305,7.183044910430908,6.921298503875732],\"xaxis\":\"x\",\"y\":[2.6162760257720947,2.2108500003814697,2.3932039737701416,2.3603882789611816,2.3815958499908447,2.7855122089385986,2.718370199203491,2.635715961456299,2.3961267471313477,2.414785861968994,2.6727194786071777,2.8508622646331787,2.562310218811035,2.6350698471069336,2.4911978244781494,2.3561007976531982,2.3805246353149414,3.005438804626465,2.916593074798584,2.773104667663574,2.526779890060425,2.756676435470581,2.319322109222412,2.736741542816162,2.450449228286743,2.5982587337493896,2.8047125339508057,3.0949134826660156,2.4396374225616455,2.282987117767334,2.65187931060791,2.501314878463745,2.4266321659088135,2.856625556945801,2.3364181518554688,2.2887048721313477,2.8520424365997314,2.7315597534179688,2.4225049018859863,2.319976329803467,2.278367519378662,3.053678274154663,2.7958574295043945,2.587656021118164,2.4244680404663086,3.005160331726074,2.700456142425537,2.5320866107940674,2.502182960510254,2.6082305908203125,2.5190699100494385,2.5922884941101074,2.23838210105896,2.6919891834259033],\"yaxis\":\"y\"},{\"customdata\":[[19],[19],[19],[19],[19],[19],[19],[19],[19],[19],[19],[19],[19],[19],[19],[19],[19],[19],[19],[19],[19],[19],[19]],\"hovertemplate\":\"topic_name=regional<br>0=%{x}<br>1=%{y}<br>topic=%{customdata[0]}<extra></extra>\",\"legendgroup\":\"regional\",\"marker\":{\"color\":\"#F6F926\",\"symbol\":\"circle\"},\"mode\":\"markers\",\"name\":\"regional\",\"showlegend\":true,\"type\":\"scattergl\",\"x\":[6.798958778381348,6.915642738342285,6.873530864715576,6.841412544250488,6.88314151763916,6.649087429046631,6.91536283493042,3.115359306335449,6.78759765625,6.754891395568848,6.741504669189453,6.760261058807373,6.787936210632324,6.738190174102783,6.87156867980957,6.932863712310791,6.876682758331299,6.693808555603027,6.91382360458374,6.856992721557617,6.780339241027832,3.2757015228271484,6.879737377166748],\"xaxis\":\"x\",\"y\":[3.635728120803833,3.394538640975952,3.6910879611968994,3.652118682861328,3.5869150161743164,3.859769105911255,3.811596155166626,5.777635097503662,3.7296624183654785,3.762211561203003,3.7350192070007324,3.7898311614990234,3.7796385288238525,3.8103902339935303,3.21171236038208,3.6339619159698486,3.639113426208496,3.672440767288208,3.5740244388580322,3.656135320663452,4.148403644561768,6.072434425354004,3.6370699405670166],\"yaxis\":\"y\"},{\"customdata\":[[15],[15],[15],[15],[15],[15],[15],[15],[15],[15],[15],[15],[15],[15],[15],[15],[15],[15],[15],[15],[15]],\"hovertemplate\":\"topic_name=public<br>0=%{x}<br>1=%{y}<br>topic=%{customdata[0]}<extra></extra>\",\"legendgroup\":\"public\",\"marker\":{\"color\":\"#FF9616\",\"symbol\":\"circle\"},\"mode\":\"markers\",\"name\":\"public\",\"showlegend\":true,\"type\":\"scattergl\",\"x\":[7.073912620544434,7.124863147735596,7.030696392059326,7.036007881164551,6.998823642730713,6.995437145233154,7.063691139221191,7.065670013427734,7.025674819946289,6.995089530944824,6.749274730682373,7.062314033508301,7.006687641143799,7.076774597167969,7.049218654632568,6.993847370147705,6.753069877624512,7.080233573913574,1.8582981824874878,7.128233909606934,7.0291595458984375],\"xaxis\":\"x\",\"y\":[4.7146501541137695,4.792705535888672,4.515868663787842,4.5399489402771,4.8366312980651855,4.686481952667236,4.381306171417236,4.495917320251465,4.759711742401123,4.488455772399902,4.729739665985107,4.720321178436279,4.659897327423096,4.7148637771606445,4.65599250793457,4.659149169921875,4.831478118896484,4.701191425323486,4.622378826141357,4.728845596313477,4.4104437828063965],\"yaxis\":\"y\"},{\"customdata\":[[18],[18],[18],[18],[18],[18],[18],[18],[18],[18],[18],[18],[18],[18],[18],[18],[18],[18],[18],[18],[18],[18],[18],[18],[18],[18],[18]],\"hovertemplate\":\"topic_name=logement<br>0=%{x}<br>1=%{y}<br>topic=%{customdata[0]}<extra></extra>\",\"legendgroup\":\"logement\",\"marker\":{\"color\":\"#479B55\",\"symbol\":\"circle\"},\"mode\":\"markers\",\"name\":\"logement\",\"showlegend\":true,\"type\":\"scattergl\",\"x\":[7.609043121337891,7.294104099273682,7.224407196044922,7.235465049743652,7.335842609405518,7.371886730194092,7.264286994934082,7.318274974822998,7.385493755340576,7.275740623474121,7.563881874084473,7.399267196655273,7.4726409912109375,7.366994857788086,7.656976222991943,7.36533260345459,7.403225898742676,7.334150791168213,7.340609073638916,7.300991535186768,8.188164710998535,7.2742228507995605,7.336935520172119,7.313146114349365,7.41188907623291,7.339149475097656,7.406494140625],\"xaxis\":\"x\",\"y\":[8.718300819396973,9.015061378479004,9.031679153442383,8.948787689208984,8.935020446777344,8.902891159057617,9.019786834716797,8.956734657287598,8.927038192749023,8.993233680725098,8.73405933380127,8.893074035644531,8.823758125305176,8.94441032409668,8.56396198272705,8.931865692138672,8.856884956359863,8.925675392150879,8.953486442565918,8.96699047088623,7.637777805328369,8.872657775878906,8.97970962524414,8.920197486877441,8.968525886535645,8.937705993652344,8.8345308303833],\"yaxis\":\"y\"},{\"customdata\":[[1],[1],[1],[1],[1],[1],[1],[1],[1],[1],[1],[1],[1],[1],[1],[1],[1],[1],[1],[1],[1],[1],[1],[1],[1],[1],[1],[1],[1],[1],[1],[1],[1],[1],[1],[1],[1],[1],[1],[1],[1],[1],[1],[1],[1],[1],[1],[1],[1],[1],[1],[1],[1],[1],[1],[1],[1],[1],[1],[1],[1],[1],[1],[1],[1],[1],[1],[1],[1],[1],[1],[1],[1],[1],[1],[1],[1],[1],[1],[1],[1],[1],[1],[1],[1],[1],[1],[1],[1],[1],[1],[1],[1],[1],[1],[1],[1],[1],[1],[1],[1],[1],[1],[1],[1],[1],[1],[1],[1],[1],[1]],\"hovertemplate\":\"topic_name=scolaire<br>0=%{x}<br>1=%{y}<br>topic=%{customdata[0]}<extra></extra>\",\"legendgroup\":\"scolaire\",\"marker\":{\"color\":\"#EEA6FB\",\"symbol\":\"circle\"},\"mode\":\"markers\",\"name\":\"scolaire\",\"showlegend\":true,\"type\":\"scattergl\",\"x\":[12.096637725830078,11.378874778747559,11.944426536560059,11.810588836669922,11.85376262664795,11.560636520385742,12.245715141296387,12.163411140441895,12.06971263885498,11.94433307647705,11.531231880187988,11.905674934387207,11.8610258102417,11.626051902770996,11.398272514343262,12.290006637573242,12.044716835021973,11.6644868850708,11.693923950195312,12.407480239868164,11.423421859741211,11.375676155090332,11.604867935180664,11.90772819519043,11.243621826171875,11.918862342834473,11.553431510925293,11.885470390319824,11.786691665649414,11.658857345581055,11.524165153503418,12.280704498291016,11.63090705871582,11.604863166809082,11.71053409576416,11.806600570678711,11.95335578918457,11.470850944519043,11.880230903625488,11.941308975219727,11.639845848083496,12.296480178833008,12.342568397521973,12.22474479675293,11.575820922851562,11.398879051208496,11.350462913513184,11.545586585998535,12.198803901672363,12.202651977539062,12.31311321258545,12.1336030960083,12.10521411895752,12.136893272399902,11.986295700073242,11.979177474975586,12.186135292053223,12.325529098510742,11.629242897033691,11.543105125427246,11.813283920288086,11.598040580749512,11.527429580688477,11.735504150390625,11.700384140014648,11.623689651489258,11.593484878540039,11.791354179382324,11.672358512878418,11.314220428466797,12.254502296447754,12.286649703979492,12.270848274230957,12.135001182556152,11.63178825378418,11.75183391571045,11.41424560546875,12.284527778625488,12.318859100341797,12.109159469604492,11.956830024719238,11.874893188476562,12.262147903442383,12.225502967834473,12.177696228027344,11.748489379882812,11.831074714660645,11.918375968933105,11.915558815002441,12.331363677978516,12.313506126403809,12.213326454162598,12.004866600036621,11.724143981933594,11.711393356323242,11.729254722595215,12.280852317810059,12.279150009155273,11.602964401245117,11.25610065460205,11.903183937072754,11.773157119750977,11.741199493408203,11.301128387451172,11.637459754943848,11.851792335510254,12.314404487609863,12.13915729522705,12.010355949401855,11.511655807495117,11.476317405700684],\"xaxis\":\"x\",\"y\":[2.15128231048584,2.7866010665893555,2.6965677738189697,2.6463418006896973,2.7798237800598145,3.017465353012085,1.8784104585647583,1.356441617012024,2.414848804473877,2.9499855041503906,2.973999500274658,3.1420397758483887,2.7968335151672363,2.952821731567383,2.4999747276306152,1.7850499153137207,2.9656198024749756,3.190858840942383,3.2602431774139404,1.944409728050232,2.967644691467285,2.912646532058716,2.9352715015411377,3.1273460388183594,2.9537487030029297,2.911356210708618,2.9948079586029053,3.0334019660949707,2.8041861057281494,2.9559319019317627,2.588785409927368,1.8291327953338623,3.192385196685791,3.1296908855438232,3.254575490951538,2.85440993309021,2.744683027267456,3.0862083435058594,2.6707451343536377,2.8950960636138916,2.9022128582000732,1.8762571811676025,1.9702531099319458,1.4091086387634277,3.4992024898529053,2.8900363445281982,2.926198959350586,3.241610050201416,1.9734801054000854,1.992583155632019,1.8501765727996826,1.429750919342041,1.909658670425415,1.7186943292617798,2.8421425819396973,2.856926202774048,1.482140302658081,1.7109262943267822,2.903594970703125,2.9816503524780273,3.2107317447662354,3.4818994998931885,3.468234062194824,3.2950079441070557,3.220757246017456,3.4327175617218018,2.9921414852142334,3.0227370262145996,3.069779634475708,2.8797647953033447,1.9564847946166992,1.811424732208252,1.8499622344970703,1.4474482536315918,3.33233380317688,3.064668655395508,3.0013413429260254,1.9032268524169922,1.8062455654144287,1.4530870914459229,2.83923077583313,2.921595335006714,1.6207658052444458,1.4955997467041016,1.4611155986785889,3.179274320602417,3.1236376762390137,2.5875141620635986,2.839433193206787,1.797555685043335,1.7119477987289429,1.4302629232406616,2.284296989440918,2.8858370780944824,2.873502016067505,2.218682050704956,1.7783528566360474,1.8104438781738281,3.481504440307617,2.9401121139526367,2.9361000061035156,2.7669520378112793,3.2659900188446045,3.0106582641601562,3.0837106704711914,2.6125781536102295,1.7528398036956787,1.8306492567062378,2.4806947708129883,2.9544873237609863,2.91896915435791],\"yaxis\":\"y\"},{\"customdata\":[[12],[12],[12],[12],[12],[12],[12],[12],[12],[12],[12],[12],[12],[12],[12],[12],[12],[12],[12],[12],[12],[12],[12],[12],[12],[12],[12],[12],[12],[12],[12],[12],[12],[12],[12],[12],[12],[12],[12],[12],[12],[12],[12],[12],[12],[12],[12],[12],[12],[12],[12],[12]],\"hovertemplate\":\"topic_name=culturel<br>0=%{x}<br>1=%{y}<br>topic=%{customdata[0]}<extra></extra>\",\"legendgroup\":\"culturel\",\"marker\":{\"color\":\"#DC587D\",\"symbol\":\"circle\"},\"mode\":\"markers\",\"name\":\"culturel\",\"showlegend\":true,\"type\":\"scattergl\",\"x\":[10.393672943115234,10.226332664489746,11.043092727661133,10.271242141723633,10.154586791992188,10.220710754394531,10.202559471130371,11.010327339172363,9.463847160339355,10.217276573181152,10.24594497680664,10.28766918182373,10.109624862670898,10.192709922790527,10.16006088256836,10.212088584899902,10.175185203552246,10.162532806396484,10.249656677246094,10.218704223632812,10.999493598937988,10.256559371948242,10.266027450561523,10.135540008544922,10.183247566223145,10.023612022399902,9.981142044067383,10.546205520629883,10.094017028808594,10.296743392944336,9.989721298217773,10.19314956665039,10.111123085021973,10.278899192810059,11.040776252746582,10.24212646484375,11.279876708984375,10.058430671691895,10.067517280578613,11.010466575622559,10.060137748718262,9.56352710723877,10.453436851501465,11.025276184082031,11.081050872802734,10.993946075439453,10.027843475341797,9.746038436889648,10.65216064453125,10.773759841918945,11.01102352142334,10.976410865783691],\"xaxis\":\"x\",\"y\":[0.36120522022247314,0.30978575348854065,0.08345363289117813,0.41498929262161255,0.9323279857635498,0.9047006964683533,0.7794032692909241,0.08695482462644577,0.7868282794952393,0.586097776889801,0.4871490001678467,0.4977046251296997,0.6687235832214355,0.7288888096809387,0.7220108509063721,0.6185867190361023,0.39401260018348694,0.9049735069274902,0.8351647257804871,0.7844417691230774,0.0850660502910614,0.27127912640571594,0.2705118656158447,0.32722386717796326,0.2890649735927582,0.4379689693450928,0.3719595968723297,0.28617092967033386,0.42415615916252136,0.23101526498794556,0.5496475696563721,0.2795335650444031,0.3791757822036743,0.27575981616973877,0.08151330053806305,0.34946414828300476,2.8571393489837646,0.4681868851184845,0.46701622009277344,0.1226101964712143,0.4103837311267853,0.6800016760826111,0.2692424952983856,0.08122731000185013,0.024256529286503792,0.08892209082841873,0.4399980902671814,0.548424243927002,0.21540477871894836,0.18928271532058716,0.07880157977342606,0.13797403872013092],\"yaxis\":\"y\"},{\"customdata\":[[13],[13],[13],[13],[13],[13],[13],[13],[13],[13],[13],[13],[13],[13],[13],[13],[13],[13],[13],[13]],\"hovertemplate\":\"topic_name=social<br>0=%{x}<br>1=%{y}<br>topic=%{customdata[0]}<extra></extra>\",\"legendgroup\":\"social\",\"marker\":{\"color\":\"#D626FF\",\"symbol\":\"circle\"},\"mode\":\"markers\",\"name\":\"social\",\"showlegend\":true,\"type\":\"scattergl\",\"x\":[8.149456977844238,8.013497352600098,7.958724021911621,7.962220668792725,7.864326000213623,7.927637577056885,7.886861801147461,8.044172286987305,7.815556526184082,7.778463840484619,7.806680679321289,8.293013572692871,7.743584632873535,7.822862148284912,7.985710144042969,8.139138221740723,7.512979030609131,7.538695812225342,7.2794575691223145,7.762332439422607],\"xaxis\":\"x\",\"y\":[6.068656921386719,5.094388008117676,5.972250938415527,5.858627796173096,6.039283752441406,5.945010662078857,6.052537441253662,5.830697059631348,5.393265247344971,6.078598499298096,5.5713114738464355,6.083099842071533,5.740903854370117,5.661418914794922,5.805202960968018,5.712886333465576,5.645305633544922,6.071817874908447,6.55473518371582,5.6765336990356445],\"yaxis\":\"y\"},{\"customdata\":[[2],[2],[2],[2],[2],[2],[2],[2],[2],[2],[2],[2],[2],[2],[2],[2],[2],[2],[2],[2],[2],[2],[2],[2],[2],[2],[2],[2],[2],[2],[2],[2],[2],[2],[2],[2],[2],[2],[2],[2],[2],[2],[2],[2],[2],[2],[2],[2],[2],[2],[2],[2],[2],[2],[2],[2],[2],[2],[2],[2],[2],[2],[2],[2],[2],[2],[2],[2],[2],[2],[2],[2],[2],[2],[2],[2],[2],[2],[2],[2],[2],[2],[2]],\"hovertemplate\":\"topic_name=agriculture<br>0=%{x}<br>1=%{y}<br>topic=%{customdata[0]}<extra></extra>\",\"legendgroup\":\"agriculture\",\"marker\":{\"color\":\"#6E899C\",\"symbol\":\"circle\"},\"mode\":\"markers\",\"name\":\"agriculture\",\"showlegend\":true,\"type\":\"scattergl\",\"x\":[3.1620216369628906,2.453765392303467,2.303046464920044,1.8736990690231323,3.0914297103881836,2.074124574661255,1.7708725929260254,2.3555030822753906,2.428910732269287,2.042895555496216,2.0304856300354004,2.9691872596740723,2.446336030960083,1.8352994918823242,1.8239223957061768,2.6165504455566406,2.8348681926727295,2.7297816276550293,1.8111284971237183,1.767909049987793,2.005326747894287,2.2041940689086914,2.566209077835083,2.482583999633789,2.461466073989868,2.4562041759490967,2.1718015670776367,2.365831136703491,2.1931045055389404,1.904239296913147,2.1448423862457275,2.0572376251220703,2.750075101852417,1.811306118965149,1.9150718450546265,2.2300426959991455,2.093937635421753,2.3737294673919678,2.4314348697662354,1.8595203161239624,2.2179410457611084,1.9325648546218872,1.9420239925384521,2.4678308963775635,2.949314832687378,2.6016299724578857,2.799025058746338,2.2886838912963867,2.456855535507202,9.105286598205566,2.4259932041168213,2.4028615951538086,1.8030011653900146,2.3739545345306396,2.376831531524658,1.9332242012023926,2.2284066677093506,2.321314573287964,2.51324462890625,2.472790002822876,2.452247142791748,1.9443862438201904,1.891830563545227,2.2253024578094482,2.268932342529297,2.5394809246063232,2.2431867122650146,2.2742581367492676,2.9275243282318115,2.5523581504821777,2.7868683338165283,2.4503915309906006,2.3798208236694336,2.54911732673645,1.9070374965667725,2.5574557781219482,1.8591893911361694,2.671858787536621,2.6964168548583984,3.0706706047058105,3.266946315765381,2.518364906311035,2.4409592151641846],\"xaxis\":\"x\",\"y\":[6.0909624099731445,6.332152366638184,6.17949914932251,5.992878437042236,6.003632068634033,5.5392165184021,5.846473217010498,6.333945274353027,6.4000020027160645,6.1446757316589355,6.175050258636475,6.103335380554199,5.326686859130859,6.075755596160889,5.998218536376953,5.3163161277771,5.461726188659668,5.185111999511719,5.7799882888793945,5.922607421875,6.390273094177246,6.279919624328613,6.278550148010254,6.405792236328125,6.369018077850342,6.404941558837891,6.372398853302002,6.217503547668457,6.427698612213135,6.286777973175049,6.429345607757568,6.29586935043335,6.22260856628418,6.144838333129883,6.152308464050293,6.2321977615356445,6.210588455200195,6.39315128326416,6.420679092407227,6.090487003326416,6.246177673339844,6.114397048950195,6.06257438659668,6.069531440734863,6.057868480682373,5.108053207397461,5.449347019195557,6.253575325012207,5.848916053771973,2.2454349994659424,6.107147693634033,6.108987331390381,5.844399929046631,6.040096759796143,6.105063438415527,5.861021995544434,6.118721008300781,6.111683368682861,5.926015377044678,6.0701518058776855,6.063448905944824,5.713442325592041,5.7443156242370605,5.887400150299072,6.194713115692139,6.003407001495361,5.7901434898376465,5.967795372009277,5.968863487243652,5.352787494659424,5.565764904022217,5.984267711639404,6.149069786071777,5.667240619659424,5.980106353759766,5.669227123260498,5.8469014167785645,6.0432820320129395,5.105329990386963,5.7163405418396,6.054163932800293,5.420586109161377,5.332715034484863],\"yaxis\":\"y\"},{\"customdata\":[[8],[8],[8],[8],[8],[8],[8],[8],[8],[8],[8],[8],[8],[8],[8],[8],[8],[8],[8],[8],[8],[8],[8],[8],[8],[8],[8],[8],[8],[8],[8],[8],[8],[8],[8],[8],[8]],\"hovertemplate\":\"topic_name=europeen<br>0=%{x}<br>1=%{y}<br>topic=%{customdata[0]}<extra></extra>\",\"legendgroup\":\"europeen\",\"marker\":{\"color\":\"#00B5F7\",\"symbol\":\"circle\"},\"mode\":\"markers\",\"name\":\"europeen\",\"showlegend\":true,\"type\":\"scattergl\",\"x\":[5.752514839172363,5.336710453033447,5.517147064208984,5.238326072692871,5.881747722625732,5.4843549728393555,5.336637020111084,5.747872352600098,5.5902204513549805,5.43662691116333,5.718583583831787,5.889187335968018,5.912303447723389,5.476960182189941,5.669550895690918,5.515365123748779,5.43842887878418,5.437697887420654,5.319965839385986,5.371880054473877,5.757848262786865,5.643797397613525,5.397702693939209,5.488731861114502,5.806168556213379,5.1708292961120605,5.503620147705078,6.023783206939697,5.659872531890869,5.3295512199401855,5.418217658996582,5.859371662139893,5.49061393737793,5.359136581420898,5.648836135864258,5.841269016265869,5.780738830566406],\"xaxis\":\"x\",\"y\":[3.3702170848846436,3.266247510910034,2.7830817699432373,3.0509238243103027,2.5362915992736816,2.878815174102783,2.7989726066589355,3.210836410522461,3.0556297302246094,3.5563762187957764,3.102715015411377,2.864400863647461,2.8812074661254883,2.9401121139526367,3.112197160720825,3.2178666591644287,3.5351450443267822,3.2473835945129395,3.2788753509521484,3.3850021362304688,3.0126218795776367,3.174870729446411,3.5433764457702637,2.978685140609741,2.877713441848755,3.1529581546783447,4.832940101623535,2.7698605060577393,3.219308853149414,3.1861417293548584,3.4611520767211914,2.8699398040771484,3.585681676864624,3.5524473190307617,3.131348133087158,3.051931381225586,2.973273515701294],\"yaxis\":\"y\"},{\"customdata\":[[11],[11],[11],[11],[11],[11],[11],[11],[11],[11],[11],[11],[11],[11],[11],[11],[11],[11],[11],[11]],\"hovertemplate\":\"topic_name=mondialisation<br>0=%{x}<br>1=%{y}<br>topic=%{customdata[0]}<extra></extra>\",\"legendgroup\":\"mondialisation\",\"marker\":{\"color\":\"#B68E00\",\"symbol\":\"circle\"},\"mode\":\"markers\",\"name\":\"mondialisation\",\"showlegend\":true,\"type\":\"scattergl\",\"x\":[4.578388214111328,4.645854473114014,4.692641735076904,4.433750152587891,4.46041202545166,4.458035945892334,4.534438610076904,4.490396976470947,4.59016752243042,4.543031215667725,4.6439995765686035,4.705327033996582,4.464742183685303,4.873534679412842,4.574934005737305,4.414154052734375,4.703784465789795,4.578768253326416,4.508469581604004,4.403683185577393],\"xaxis\":\"x\",\"y\":[3.3599095344543457,3.1307332515716553,3.448362350463867,3.332108974456787,3.293274402618408,3.156987428665161,3.3098831176757812,3.3015425205230713,3.2224464416503906,3.276773691177368,3.18454909324646,3.1812474727630615,3.233473062515259,3.08432674407959,3.6537744998931885,3.3165435791015625,3.262277126312256,3.222212791442871,3.4902443885803223,3.259775400161743],\"yaxis\":\"y\"},{\"customdata\":[[14],[14],[14],[14],[14],[14],[14],[14],[14],[14],[14],[14],[14],[14],[14],[14],[14],[14],[14],[14],[14],[14],[14],[14],[14],[14],[14],[14],[14],[14],[14],[14],[14],[14],[14],[14]],\"hovertemplate\":\"topic_name=militaire<br>0=%{x}<br>1=%{y}<br>topic=%{customdata[0]}<extra></extra>\",\"legendgroup\":\"militaire\",\"marker\":{\"color\":\"#C9FBE5\",\"symbol\":\"circle\"},\"mode\":\"markers\",\"name\":\"militaire\",\"showlegend\":true,\"type\":\"scattergl\",\"x\":[4.351992607116699,4.298165321350098,3.972053289413452,3.795358896255493,3.8766045570373535,3.8770437240600586,3.9628829956054688,3.981567621231079,3.940037250518799,4.252558708190918,3.988746404647827,4.27587890625,4.021002769470215,3.8151094913482666,3.9014947414398193,3.9094252586364746,4.24945592880249,3.8907341957092285,4.106535911560059,4.242221832275391,4.131211280822754,4.299655914306641,4.114866256713867,4.165002822875977,4.24476957321167,4.159577369689941,3.889509439468384,4.2103986740112305,4.182319164276123,3.9397425651550293,4.253721714019775,4.195439338684082,4.304358959197998,3.835430383682251,8.930350303649902,4.070444583892822],\"xaxis\":\"x\",\"y\":[2.23323655128479,1.7795532941818237,1.8364843130111694,1.8696662187576294,1.8003978729248047,1.777592420578003,1.6695125102996826,1.6566565036773682,1.6794638633728027,1.6915231943130493,1.9951198101043701,2.069488048553467,1.8714178800582886,1.8895888328552246,1.7656279802322388,1.7170547246932983,2.2535197734832764,1.9811930656433105,2.075929641723633,2.2152271270751953,2.142796516418457,2.281325101852417,1.931288480758667,2.0681610107421875,2.188063621520996,2.06754732131958,2.0615713596343994,2.0957720279693604,2.104642629623413,1.9895415306091309,2.018075704574585,1.7965648174285889,1.8170137405395508,1.8204433917999268,2.770122766494751,1.6981102228164673],\"yaxis\":\"y\"},{\"customdata\":[[17],[17],[17],[17],[17],[17],[17],[17],[17],[17],[17],[17],[17],[17],[17],[17],[17],[17],[17],[17],[17],[17],[17],[17],[17],[17],[17],[17],[17],[17],[17],[17],[17]],\"hovertemplate\":\"topic_name=familial<br>0=%{x}<br>1=%{y}<br>topic=%{customdata[0]}<extra></extra>\",\"legendgroup\":\"familial\",\"marker\":{\"color\":\"#FF0092\",\"symbol\":\"circle\"},\"mode\":\"markers\",\"name\":\"familial\",\"showlegend\":true,\"type\":\"scattergl\",\"x\":[9.463165283203125,9.48992919921875,9.424501419067383,11.412293434143066,9.823217391967773,9.385555267333984,9.511324882507324,9.593192100524902,9.48147201538086,9.501376152038574,9.433043479919434,9.81638240814209,9.637796401977539,9.419320106506348,9.53465747833252,9.659530639648438,9.195428848266602,9.44312858581543,9.094602584838867,9.47419548034668,9.404825210571289,9.477784156799316,9.36133861541748,9.24317741394043,9.40476131439209,9.454376220703125,9.239757537841797,9.462421417236328,9.38687801361084,9.35165023803711,9.279245376586914,9.577641487121582,9.54250431060791],\"xaxis\":\"x\",\"y\":[6.762826919555664,6.807298183441162,6.7896928787231445,2.9941999912261963,6.350548267364502,6.840037822723389,6.711877346038818,6.5964765548706055,6.659626007080078,6.74689245223999,6.686473846435547,6.237210273742676,6.481964111328125,6.751499652862549,6.633970737457275,6.491093635559082,6.4448418617248535,6.513058185577393,6.879753589630127,6.774343967437744,6.7836198806762695,6.839969158172607,6.9204888343811035,6.29671573638916,6.575913906097412,6.599564552307129,6.248435974121094,6.734520435333252,6.7964067459106445,6.497097015380859,6.411839008331299,6.741789817810059,6.592980861663818],\"yaxis\":\"y\"},{\"customdata\":[[4],[4],[4],[4],[4],[4],[4],[4],[4],[4],[4],[4],[4],[4],[4],[4],[4],[4],[4],[4],[4],[4],[4],[4],[4],[4],[4],[4],[4],[4],[4],[4],[4],[4],[4],[4],[4],[4],[4],[4],[4],[4],[4],[4],[4],[4],[4],[4],[4],[4],[4],[4],[4],[4],[4],[4],[4],[4],[4],[4],[4],[4],[4],[4],[4],[4],[4],[4],[4],[4],[4],[4],[4],[4],[4],[4],[4],[4],[4],[4],[4],[4],[4],[4],[4],[4],[4],[4],[4],[4],[4]],\"hovertemplate\":\"topic_name=medical<br>0=%{x}<br>1=%{y}<br>topic=%{customdata[0]}<extra></extra>\",\"legendgroup\":\"medical\",\"marker\":{\"color\":\"#22FFA7\",\"symbol\":\"circle\"},\"mode\":\"markers\",\"name\":\"medical\",\"showlegend\":true,\"type\":\"scattergl\",\"x\":[8.728672981262207,8.474069595336914,8.642735481262207,8.894747734069824,8.898978233337402,8.812277793884277,8.887677192687988,8.477051734924316,8.620287895202637,9.096059799194336,9.350967407226562,9.258035659790039,9.153953552246094,9.231826782226562,9.467376708984375,8.763354301452637,8.901756286621094,8.471796989440918,8.442848205566406,8.456977844238281,8.469205856323242,9.14533519744873,8.686517715454102,9.433760643005371,9.407689094543457,9.25104808807373,9.247736930847168,8.501564025878906,8.524941444396973,8.998899459838867,9.3540620803833,9.238425254821777,9.129462242126465,9.18655014038086,9.3714599609375,8.943641662597656,9.148146629333496,8.75493335723877,8.895631790161133,9.32874870300293,8.299405097961426,8.460065841674805,8.821657180786133,8.869794845581055,8.849971771240234,9.036498069763184,9.011710166931152,8.58922290802002,8.9912691116333,8.574529647827148,8.976714134216309,9.348775863647461,9.085227012634277,8.52496337890625,8.323333740234375,9.048794746398926,11.031538963317871,9.256782531738281,9.32766056060791,9.278818130493164,8.542474746704102,8.673561096191406,9.138325691223145,9.034292221069336,8.924293518066406,8.956518173217773,9.068656921386719,9.085772514343262,8.616817474365234,8.733528137207031,8.919268608093262,9.03126335144043,8.373119354248047,9.323643684387207,8.652487754821777,8.521439552307129,9.073881149291992,8.270811080932617,8.733872413635254,8.91572380065918,8.894098281860352,9.033796310424805,9.083818435668945,8.812447547912598,9.200139999389648,9.20640754699707,8.871098518371582,8.942094802856445,8.671106338500977,9.08545970916748,8.702500343322754],\"xaxis\":\"x\",\"y\":[7.427698135375977,7.807957172393799,8.451345443725586,8.57130241394043,8.428472518920898,7.512433052062988,7.8381853103637695,8.291388511657715,8.38722038269043,8.67050838470459,8.879164695739746,8.764625549316406,8.354355812072754,8.56289291381836,8.285074234008789,7.484567642211914,7.990175724029541,8.371231079101562,8.2443265914917,8.315621376037598,8.324647903442383,8.761919021606445,8.273791313171387,8.258498191833496,8.283381462097168,8.369979858398438,8.772685050964355,8.304231643676758,8.325777053833008,8.591835021972656,8.88106918334961,8.812416076660156,8.410101890563965,8.467649459838867,8.340877532958984,8.544702529907227,8.828764915466309,8.596266746520996,8.644248962402344,8.35810661315918,7.821983337402344,7.982542514801025,8.58126449584961,8.378117561340332,8.090211868286133,8.664554595947266,8.691901206970215,7.447596073150635,8.542137145996094,8.086074829101562,8.65640926361084,8.898496627807617,8.661321640014648,8.315999031066895,7.673120975494385,8.679789543151855,0.07750175893306732,8.821211814880371,8.87713623046875,8.83808708190918,8.348172187805176,8.420589447021484,8.752469062805176,8.61667251586914,8.479008674621582,8.732583045959473,8.586583137512207,8.242207527160645,7.828731536865234,7.569441795349121,8.459428787231445,8.60150146484375,7.884387493133545,8.875990867614746,8.090060234069824,7.635623455047607,8.7537260055542,7.742009162902832,8.402477264404297,8.533353805541992,8.266857147216797,8.597641944885254,8.68201732635498,7.740171909332275,8.449764251708984,8.780915260314941,8.24731159210205,8.090963363647461,8.143169403076172,8.640840530395508,7.6862969398498535],\"yaxis\":\"y\"},{\"customdata\":[[9],[9],[9],[9],[9],[9],[9],[9],[9],[9],[9],[9],[9],[9],[9],[9],[9],[9],[9],[9],[9],[9],[9],[9],[9],[9],[9],[9],[9],[9]],\"hovertemplate\":\"topic_name=environnemental<br>0=%{x}<br>1=%{y}<br>topic=%{customdata[0]}<extra></extra>\",\"legendgroup\":\"environnemental\",\"marker\":{\"color\":\"#E3EE9E\",\"symbol\":\"circle\"},\"mode\":\"markers\",\"name\":\"environnemental\",\"showlegend\":true,\"type\":\"scattergl\",\"x\":[3.0312578678131104,3.6043713092803955,3.5977134704589844,3.1748461723327637,3.262054920196533,1.8421107530593872,3.6487772464752197,3.2944743633270264,3.057478666305542,3.1803252696990967,3.406771659851074,3.805264949798584,12.1944580078125,3.15537691116333,3.3182365894317627,3.3758363723754883,11.9441556930542,3.1393544673919678,3.175790309906006,3.3144583702087402,3.2032058238983154,3.29658842086792,2.57320499420166,3.1905646324157715,3.4552550315856934,3.461729049682617,3.7702839374542236,3.1188931465148926,2.880845069885254,2.886159658432007],\"xaxis\":\"x\",\"y\":[4.392865180969238,4.554047107696533,4.532617568969727,4.455334663391113,4.499227046966553,5.745837211608887,4.482248306274414,4.4151692390441895,4.72493839263916,4.168829441070557,4.593922138214111,4.83275842666626,1.4112000465393066,4.6487298011779785,4.268157958984375,4.09922456741333,1.3754463195800781,4.378028392791748,4.559115409851074,4.620086193084717,4.322550296783447,4.844053745269775,5.016243934631348,4.447403430938721,4.348578453063965,4.094140529632568,4.46536922454834,4.284511566162109,4.499980449676514,4.546444892883301],\"yaxis\":\"y\"},{\"customdata\":[[21],[21],[21],[21],[21],[21],[21],[21],[21],[21],[21],[21],[21],[21],[21],[21]],\"hovertemplate\":\"topic_name=maritime<br>0=%{x}<br>1=%{y}<br>topic=%{customdata[0]}<extra></extra>\",\"legendgroup\":\"maritime\",\"marker\":{\"color\":\"#86CE00\",\"symbol\":\"circle\"},\"mode\":\"markers\",\"name\":\"maritime\",\"showlegend\":true,\"type\":\"scattergl\",\"x\":[3.288548469543457,2.7608983516693115,3.376667022705078,3.1696105003356934,3.1594369411468506,3.3248605728149414,3.576385259628296,3.2461185455322266,3.0845272541046143,3.2461228370666504,3.0449743270874023,3.025458812713623,3.086867094039917,3.2596282958984375,3.0053563117980957,3.2171216011047363],\"xaxis\":\"x\",\"y\":[3.12553334236145,5.203780174255371,3.021756649017334,3.318206787109375,3.433856248855591,3.166923999786377,3.113497495651245,3.22025990486145,3.4767141342163086,3.196298837661743,3.55238676071167,3.5748565196990967,3.5469889640808105,3.2975645065307617,3.5767321586608887,3.2949447631835938],\"yaxis\":\"y\"},{\"customdata\":[[16],[16],[16],[16],[16],[16],[16],[16],[16],[16],[16],[16],[16],[16],[16],[16],[16],[16],[16],[16],[16],[16],[16],[16],[16],[16],[16],[16],[16],[16],[16],[16],[16]],\"hovertemplate\":\"topic_name=immigration<br>0=%{x}<br>1=%{y}<br>topic=%{customdata[0]}<extra></extra>\",\"legendgroup\":\"immigration\",\"marker\":{\"color\":\"#BC7196\",\"symbol\":\"circle\"},\"mode\":\"markers\",\"name\":\"immigration\",\"showlegend\":true,\"type\":\"scattergl\",\"x\":[10.211376190185547,10.541963577270508,10.550660133361816,10.524260520935059,10.410781860351562,10.416804313659668,10.421594619750977,10.40899658203125,10.567112922668457,10.516425132751465,10.23985481262207,10.408896446228027,10.33596134185791,10.529426574707031,10.61363410949707,10.48460578918457,10.44740104675293,10.026824951171875,10.473979949951172,10.3985013961792,10.281871795654297,10.129250526428223,10.351639747619629,10.4378662109375,10.330702781677246,10.408036231994629,10.40691089630127,10.268449783325195,10.486162185668945,10.505658149719238,10.29114818572998,10.433196067810059,10.518948554992676],\"xaxis\":\"x\",\"y\":[5.758418560028076,5.331073760986328,5.257383823394775,5.38886833190918,5.3965959548950195,5.632974624633789,5.531284809112549,5.389394283294678,5.284451007843018,5.365680694580078,5.597489833831787,5.499820232391357,5.555106163024902,5.339090347290039,5.187956809997559,5.398866176605225,5.489898204803467,5.417998790740967,5.205565452575684,5.468362808227539,5.433839797973633,5.421224117279053,5.376983642578125,5.437112331390381,5.471584796905518,5.464677333831787,5.4540534019470215,5.360855579376221,5.381192684173584,5.343707084655762,5.348179340362549,5.456198692321777,5.3353118896484375],\"yaxis\":\"y\"},{\"customdata\":[[20],[20],[20],[20],[20],[20],[20],[20],[20],[20],[20],[20],[20],[20],[20],[20],[20],[20],[20],[20],[20],[20],[20],[20],[20]],\"hovertemplate\":\"topic_name=discrimination<br>0=%{x}<br>1=%{y}<br>topic=%{customdata[0]}<extra></extra>\",\"legendgroup\":\"discrimination\",\"marker\":{\"color\":\"#7E7DCD\",\"symbol\":\"circle\"},\"mode\":\"markers\",\"name\":\"discrimination\",\"showlegend\":true,\"type\":\"scattergl\",\"x\":[9.210817337036133,9.471556663513184,9.161432266235352,9.21684455871582,9.258883476257324,8.01376724243164,9.187260627746582,9.480490684509277,9.213749885559082,9.109685897827148,9.074177742004395,8.899492263793945,8.830998420715332,8.872469902038574,9.107397079467773,9.40690803527832,8.961788177490234,9.22098445892334,8.739177703857422,8.795281410217285,9.166056632995605,8.829581260681152,9.563896179199219,9.292823791503906,7.276170253753662],\"xaxis\":\"x\",\"y\":[5.677009105682373,5.550217628479004,5.606904983520508,5.728724479675293,5.593137264251709,4.5623955726623535,5.635810375213623,5.439830780029297,5.622008323669434,5.57227897644043,5.548862457275391,5.45551061630249,5.438549518585205,5.373234748840332,5.236940383911133,5.546783447265625,5.430081844329834,5.573246479034424,5.611085414886475,5.48037576675415,5.286670684814453,5.3829474449157715,5.489087104797363,5.143561363220215,6.238053321838379],\"yaxis\":\"y\"},{\"mode\":\"markers+text\",\"text\":[\"emploi\",\"scolaire\",\"agriculture\",\"citoyennete\",\"medical\",\"fiscal\",\"judiciaire\",\"parlement\",\"europeen\",\"environnemental\",\"energie\",\"mondialisation\",\"culturel\",\"social\",\"militaire\",\"public\",\"immigration\",\"familial\",\"logement\",\"regional\",\"discrimination\",\"maritime\"],\"textfont\":{\"color\":\"Black\",\"family\":\"sans serif\",\"size\":20},\"type\":\"scatter\",\"x\":[7.334362506866455,12.004433631896973,10.184422492980957,9.260441780090332,3.1298975944519043,6.976912498474121,8.915035247802734,8.224059104919434,7.893547534942627,9.505038261413574,6.81771183013916,7.021511554718018,10.53786849975586,9.128715515136719,2.450138807296753,3.264482259750366,1.9401191473007202,6.536839485168457,6.087355613708496,3.9996800422668457,5.623013019561768,4.390182018280029],\"y\":[9.002198219299316,2.6143686771392822,0.25087711215019226,2.046586275100708,3.3541767597198486,4.611373424530029,8.537450790405273,4.514832973480225,5.901576042175293,6.674567699432373,3.6594343185424805,2.500655174255371,5.457455635070801,5.518158912658691,6.2429399490356445,4.500471591949463,3.909000873565674,7.410530090332031,5.79698371887207,1.8323951959609985,3.0359010696411133,3.17399263381958]}],                        {\"legend\":{\"title\":{\"text\":\"topic_name\"},\"tracegroupgap\":0},\"margin\":{\"t\":60},\"template\":{\"data\":{\"bar\":[{\"error_x\":{\"color\":\"#2a3f5f\"},\"error_y\":{\"color\":\"#2a3f5f\"},\"marker\":{\"line\":{\"color\":\"#E5ECF6\",\"width\":0.5},\"pattern\":{\"fillmode\":\"overlay\",\"size\":10,\"solidity\":0.2}},\"type\":\"bar\"}],\"barpolar\":[{\"marker\":{\"line\":{\"color\":\"#E5ECF6\",\"width\":0.5},\"pattern\":{\"fillmode\":\"overlay\",\"size\":10,\"solidity\":0.2}},\"type\":\"barpolar\"}],\"carpet\":[{\"aaxis\":{\"endlinecolor\":\"#2a3f5f\",\"gridcolor\":\"white\",\"linecolor\":\"white\",\"minorgridcolor\":\"white\",\"startlinecolor\":\"#2a3f5f\"},\"baxis\":{\"endlinecolor\":\"#2a3f5f\",\"gridcolor\":\"white\",\"linecolor\":\"white\",\"minorgridcolor\":\"white\",\"startlinecolor\":\"#2a3f5f\"},\"type\":\"carpet\"}],\"choropleth\":[{\"colorbar\":{\"outlinewidth\":0,\"ticks\":\"\"},\"type\":\"choropleth\"}],\"contour\":[{\"colorbar\":{\"outlinewidth\":0,\"ticks\":\"\"},\"colorscale\":[[0.0,\"#0d0887\"],[0.1111111111111111,\"#46039f\"],[0.2222222222222222,\"#7201a8\"],[0.3333333333333333,\"#9c179e\"],[0.4444444444444444,\"#bd3786\"],[0.5555555555555556,\"#d8576b\"],[0.6666666666666666,\"#ed7953\"],[0.7777777777777778,\"#fb9f3a\"],[0.8888888888888888,\"#fdca26\"],[1.0,\"#f0f921\"]],\"type\":\"contour\"}],\"contourcarpet\":[{\"colorbar\":{\"outlinewidth\":0,\"ticks\":\"\"},\"type\":\"contourcarpet\"}],\"heatmap\":[{\"colorbar\":{\"outlinewidth\":0,\"ticks\":\"\"},\"colorscale\":[[0.0,\"#0d0887\"],[0.1111111111111111,\"#46039f\"],[0.2222222222222222,\"#7201a8\"],[0.3333333333333333,\"#9c179e\"],[0.4444444444444444,\"#bd3786\"],[0.5555555555555556,\"#d8576b\"],[0.6666666666666666,\"#ed7953\"],[0.7777777777777778,\"#fb9f3a\"],[0.8888888888888888,\"#fdca26\"],[1.0,\"#f0f921\"]],\"type\":\"heatmap\"}],\"heatmapgl\":[{\"colorbar\":{\"outlinewidth\":0,\"ticks\":\"\"},\"colorscale\":[[0.0,\"#0d0887\"],[0.1111111111111111,\"#46039f\"],[0.2222222222222222,\"#7201a8\"],[0.3333333333333333,\"#9c179e\"],[0.4444444444444444,\"#bd3786\"],[0.5555555555555556,\"#d8576b\"],[0.6666666666666666,\"#ed7953\"],[0.7777777777777778,\"#fb9f3a\"],[0.8888888888888888,\"#fdca26\"],[1.0,\"#f0f921\"]],\"type\":\"heatmapgl\"}],\"histogram\":[{\"marker\":{\"pattern\":{\"fillmode\":\"overlay\",\"size\":10,\"solidity\":0.2}},\"type\":\"histogram\"}],\"histogram2d\":[{\"colorbar\":{\"outlinewidth\":0,\"ticks\":\"\"},\"colorscale\":[[0.0,\"#0d0887\"],[0.1111111111111111,\"#46039f\"],[0.2222222222222222,\"#7201a8\"],[0.3333333333333333,\"#9c179e\"],[0.4444444444444444,\"#bd3786\"],[0.5555555555555556,\"#d8576b\"],[0.6666666666666666,\"#ed7953\"],[0.7777777777777778,\"#fb9f3a\"],[0.8888888888888888,\"#fdca26\"],[1.0,\"#f0f921\"]],\"type\":\"histogram2d\"}],\"histogram2dcontour\":[{\"colorbar\":{\"outlinewidth\":0,\"ticks\":\"\"},\"colorscale\":[[0.0,\"#0d0887\"],[0.1111111111111111,\"#46039f\"],[0.2222222222222222,\"#7201a8\"],[0.3333333333333333,\"#9c179e\"],[0.4444444444444444,\"#bd3786\"],[0.5555555555555556,\"#d8576b\"],[0.6666666666666666,\"#ed7953\"],[0.7777777777777778,\"#fb9f3a\"],[0.8888888888888888,\"#fdca26\"],[1.0,\"#f0f921\"]],\"type\":\"histogram2dcontour\"}],\"mesh3d\":[{\"colorbar\":{\"outlinewidth\":0,\"ticks\":\"\"},\"type\":\"mesh3d\"}],\"parcoords\":[{\"line\":{\"colorbar\":{\"outlinewidth\":0,\"ticks\":\"\"}},\"type\":\"parcoords\"}],\"pie\":[{\"automargin\":true,\"type\":\"pie\"}],\"scatter\":[{\"marker\":{\"colorbar\":{\"outlinewidth\":0,\"ticks\":\"\"}},\"type\":\"scatter\"}],\"scatter3d\":[{\"line\":{\"colorbar\":{\"outlinewidth\":0,\"ticks\":\"\"}},\"marker\":{\"colorbar\":{\"outlinewidth\":0,\"ticks\":\"\"}},\"type\":\"scatter3d\"}],\"scattercarpet\":[{\"marker\":{\"colorbar\":{\"outlinewidth\":0,\"ticks\":\"\"}},\"type\":\"scattercarpet\"}],\"scattergeo\":[{\"marker\":{\"colorbar\":{\"outlinewidth\":0,\"ticks\":\"\"}},\"type\":\"scattergeo\"}],\"scattergl\":[{\"marker\":{\"colorbar\":{\"outlinewidth\":0,\"ticks\":\"\"}},\"type\":\"scattergl\"}],\"scattermapbox\":[{\"marker\":{\"colorbar\":{\"outlinewidth\":0,\"ticks\":\"\"}},\"type\":\"scattermapbox\"}],\"scatterpolar\":[{\"marker\":{\"colorbar\":{\"outlinewidth\":0,\"ticks\":\"\"}},\"type\":\"scatterpolar\"}],\"scatterpolargl\":[{\"marker\":{\"colorbar\":{\"outlinewidth\":0,\"ticks\":\"\"}},\"type\":\"scatterpolargl\"}],\"scatterternary\":[{\"marker\":{\"colorbar\":{\"outlinewidth\":0,\"ticks\":\"\"}},\"type\":\"scatterternary\"}],\"surface\":[{\"colorbar\":{\"outlinewidth\":0,\"ticks\":\"\"},\"colorscale\":[[0.0,\"#0d0887\"],[0.1111111111111111,\"#46039f\"],[0.2222222222222222,\"#7201a8\"],[0.3333333333333333,\"#9c179e\"],[0.4444444444444444,\"#bd3786\"],[0.5555555555555556,\"#d8576b\"],[0.6666666666666666,\"#ed7953\"],[0.7777777777777778,\"#fb9f3a\"],[0.8888888888888888,\"#fdca26\"],[1.0,\"#f0f921\"]],\"type\":\"surface\"}],\"table\":[{\"cells\":{\"fill\":{\"color\":\"#EBF0F8\"},\"line\":{\"color\":\"white\"}},\"header\":{\"fill\":{\"color\":\"#C8D4E3\"},\"line\":{\"color\":\"white\"}},\"type\":\"table\"}]},\"layout\":{\"annotationdefaults\":{\"arrowcolor\":\"#2a3f5f\",\"arrowhead\":0,\"arrowwidth\":1},\"autotypenumbers\":\"strict\",\"coloraxis\":{\"colorbar\":{\"outlinewidth\":0,\"ticks\":\"\"}},\"colorscale\":{\"diverging\":[[0,\"#8e0152\"],[0.1,\"#c51b7d\"],[0.2,\"#de77ae\"],[0.3,\"#f1b6da\"],[0.4,\"#fde0ef\"],[0.5,\"#f7f7f7\"],[0.6,\"#e6f5d0\"],[0.7,\"#b8e186\"],[0.8,\"#7fbc41\"],[0.9,\"#4d9221\"],[1,\"#276419\"]],\"sequential\":[[0.0,\"#0d0887\"],[0.1111111111111111,\"#46039f\"],[0.2222222222222222,\"#7201a8\"],[0.3333333333333333,\"#9c179e\"],[0.4444444444444444,\"#bd3786\"],[0.5555555555555556,\"#d8576b\"],[0.6666666666666666,\"#ed7953\"],[0.7777777777777778,\"#fb9f3a\"],[0.8888888888888888,\"#fdca26\"],[1.0,\"#f0f921\"]],\"sequentialminus\":[[0.0,\"#0d0887\"],[0.1111111111111111,\"#46039f\"],[0.2222222222222222,\"#7201a8\"],[0.3333333333333333,\"#9c179e\"],[0.4444444444444444,\"#bd3786\"],[0.5555555555555556,\"#d8576b\"],[0.6666666666666666,\"#ed7953\"],[0.7777777777777778,\"#fb9f3a\"],[0.8888888888888888,\"#fdca26\"],[1.0,\"#f0f921\"]]},\"colorway\":[\"#636efa\",\"#EF553B\",\"#00cc96\",\"#ab63fa\",\"#FFA15A\",\"#19d3f3\",\"#FF6692\",\"#B6E880\",\"#FF97FF\",\"#FECB52\"],\"font\":{\"color\":\"#2a3f5f\"},\"geo\":{\"bgcolor\":\"white\",\"lakecolor\":\"white\",\"landcolor\":\"#E5ECF6\",\"showlakes\":true,\"showland\":true,\"subunitcolor\":\"white\"},\"hoverlabel\":{\"align\":\"left\"},\"hovermode\":\"closest\",\"mapbox\":{\"style\":\"light\"},\"paper_bgcolor\":\"white\",\"plot_bgcolor\":\"#E5ECF6\",\"polar\":{\"angularaxis\":{\"gridcolor\":\"white\",\"linecolor\":\"white\",\"ticks\":\"\"},\"bgcolor\":\"#E5ECF6\",\"radialaxis\":{\"gridcolor\":\"white\",\"linecolor\":\"white\",\"ticks\":\"\"}},\"scene\":{\"xaxis\":{\"backgroundcolor\":\"#E5ECF6\",\"gridcolor\":\"white\",\"gridwidth\":2,\"linecolor\":\"white\",\"showbackground\":true,\"ticks\":\"\",\"zerolinecolor\":\"white\"},\"yaxis\":{\"backgroundcolor\":\"#E5ECF6\",\"gridcolor\":\"white\",\"gridwidth\":2,\"linecolor\":\"white\",\"showbackground\":true,\"ticks\":\"\",\"zerolinecolor\":\"white\"},\"zaxis\":{\"backgroundcolor\":\"#E5ECF6\",\"gridcolor\":\"white\",\"gridwidth\":2,\"linecolor\":\"white\",\"showbackground\":true,\"ticks\":\"\",\"zerolinecolor\":\"white\"}},\"shapedefaults\":{\"line\":{\"color\":\"#2a3f5f\"}},\"ternary\":{\"aaxis\":{\"gridcolor\":\"white\",\"linecolor\":\"white\",\"ticks\":\"\"},\"baxis\":{\"gridcolor\":\"white\",\"linecolor\":\"white\",\"ticks\":\"\"},\"bgcolor\":\"#E5ECF6\",\"caxis\":{\"gridcolor\":\"white\",\"linecolor\":\"white\",\"ticks\":\"\"}},\"title\":{\"x\":0.05},\"xaxis\":{\"automargin\":true,\"gridcolor\":\"white\",\"linecolor\":\"white\",\"ticks\":\"\",\"title\":{\"standoff\":15},\"zerolinecolor\":\"white\",\"zerolinewidth\":2},\"yaxis\":{\"automargin\":true,\"gridcolor\":\"white\",\"linecolor\":\"white\",\"ticks\":\"\",\"title\":{\"standoff\":15},\"zerolinecolor\":\"white\",\"zerolinewidth\":2}}},\"xaxis\":{\"anchor\":\"y\",\"domain\":[0.0,1.0],\"title\":{\"text\":\"0\"}},\"yaxis\":{\"anchor\":\"x\",\"domain\":[0.0,1.0],\"title\":{\"text\":\"1\"}}},                        {\"responsive\": true}                    ).then(function(){\n",
       "                            \n",
       "var gd = document.getElementById('d5547540-ddf5-4d30-8b06-28dd92da5d71');\n",
       "var x = new MutationObserver(function (mutations, observer) {{\n",
       "        var display = window.getComputedStyle(gd).display;\n",
       "        if (!display || display === 'none') {{\n",
       "            console.log([gd, 'removed!']);\n",
       "            Plotly.purge(gd);\n",
       "            observer.disconnect();\n",
       "        }}\n",
       "}});\n",
       "\n",
       "// Listen for the removal of the full notebook cells\n",
       "var notebookContainer = gd.closest('#notebook-container');\n",
       "if (notebookContainer) {{\n",
       "    x.observe(notebookContainer, {childList: true});\n",
       "}}\n",
       "\n",
       "// Listen for the clearing of the current output cell\n",
       "var outputEl = gd.closest('.output');\n",
       "if (outputEl) {{\n",
       "    x.observe(outputEl, {childList: true});\n",
       "}}\n",
       "\n",
       "                        })                };                });            </script>        </div>"
      ]
     },
     "metadata": {},
     "output_type": "display_data"
    }
   ],
   "source": [
    "fig = px.scatter(umap_embed,x=0,y=1,color='topic_name',hover_data=['topic'],\n",
    "                 color_discrete_sequence=px.colors.qualitative.Light24\n",
    "                )\n",
    "\n",
    "fig.add_traces(go.Scatter(\n",
    "            x=topic_embed[:,0], y=topic_embed[:,1],\n",
    "            text=model.topic_words[:,0],\n",
    "            mode=\"markers+text\",\n",
    "            textfont=dict(\n",
    "            family=\"sans serif\",\n",
    "            size=20,\n",
    "            color=\"Black\"))\n",
    "               \n",
    "                  )"
   ]
  },
  {
   "cell_type": "code",
   "execution_count": 724,
   "id": "b0ff061b",
   "metadata": {},
   "outputs": [
    {
     "data": {
      "text/html": [
       "<div>\n",
       "<style scoped>\n",
       "    .dataframe tbody tr th:only-of-type {\n",
       "        vertical-align: middle;\n",
       "    }\n",
       "\n",
       "    .dataframe tbody tr th {\n",
       "        vertical-align: top;\n",
       "    }\n",
       "\n",
       "    .dataframe thead th {\n",
       "        text-align: right;\n",
       "    }\n",
       "</style>\n",
       "<table border=\"1\" class=\"dataframe\">\n",
       "  <thead>\n",
       "    <tr style=\"text-align: right;\">\n",
       "      <th></th>\n",
       "      <th>0</th>\n",
       "      <th>1</th>\n",
       "      <th>topic</th>\n",
       "      <th>partyname</th>\n",
       "      <th>annee</th>\n",
       "      <th>party_year</th>\n",
       "      <th>topic_name</th>\n",
       "    </tr>\n",
       "  </thead>\n",
       "  <tbody>\n",
       "    <tr>\n",
       "      <th>0</th>\n",
       "      <td>8.151793</td>\n",
       "      <td>4.497937</td>\n",
       "      <td>3</td>\n",
       "      <td>EELV</td>\n",
       "      <td>2002</td>\n",
       "      <td>EELV_2002</td>\n",
       "      <td>citoyennete</td>\n",
       "    </tr>\n",
       "    <tr>\n",
       "      <th>1</th>\n",
       "      <td>8.049961</td>\n",
       "      <td>4.450078</td>\n",
       "      <td>3</td>\n",
       "      <td>EELV</td>\n",
       "      <td>2002</td>\n",
       "      <td>EELV_2002</td>\n",
       "      <td>citoyennete</td>\n",
       "    </tr>\n",
       "    <tr>\n",
       "      <th>2</th>\n",
       "      <td>5.184878</td>\n",
       "      <td>3.159429</td>\n",
       "      <td>11</td>\n",
       "      <td>EELV</td>\n",
       "      <td>2002</td>\n",
       "      <td>EELV_2002</td>\n",
       "      <td>mondialisation</td>\n",
       "    </tr>\n",
       "    <tr>\n",
       "      <th>3</th>\n",
       "      <td>6.383236</td>\n",
       "      <td>5.849808</td>\n",
       "      <td>5</td>\n",
       "      <td>EELV</td>\n",
       "      <td>2002</td>\n",
       "      <td>EELV_2002</td>\n",
       "      <td>fiscal</td>\n",
       "    </tr>\n",
       "    <tr>\n",
       "      <th>4</th>\n",
       "      <td>6.304251</td>\n",
       "      <td>7.085637</td>\n",
       "      <td>0</td>\n",
       "      <td>EELV</td>\n",
       "      <td>2002</td>\n",
       "      <td>EELV_2002</td>\n",
       "      <td>emploi</td>\n",
       "    </tr>\n",
       "    <tr>\n",
       "      <th>...</th>\n",
       "      <td>...</td>\n",
       "      <td>...</td>\n",
       "      <td>...</td>\n",
       "      <td>...</td>\n",
       "      <td>...</td>\n",
       "      <td>...</td>\n",
       "      <td>...</td>\n",
       "    </tr>\n",
       "    <tr>\n",
       "      <th>1494</th>\n",
       "      <td>10.976411</td>\n",
       "      <td>0.137974</td>\n",
       "      <td>12</td>\n",
       "      <td>FN</td>\n",
       "      <td>2017</td>\n",
       "      <td>FN_2017</td>\n",
       "      <td>culturel</td>\n",
       "    </tr>\n",
       "    <tr>\n",
       "      <th>1495</th>\n",
       "      <td>4.070445</td>\n",
       "      <td>1.698110</td>\n",
       "      <td>14</td>\n",
       "      <td>FN</td>\n",
       "      <td>2017</td>\n",
       "      <td>FN_2017</td>\n",
       "      <td>militaire</td>\n",
       "    </tr>\n",
       "    <tr>\n",
       "      <th>1496</th>\n",
       "      <td>2.518365</td>\n",
       "      <td>5.420586</td>\n",
       "      <td>2</td>\n",
       "      <td>FN</td>\n",
       "      <td>2017</td>\n",
       "      <td>FN_2017</td>\n",
       "      <td>agriculture</td>\n",
       "    </tr>\n",
       "    <tr>\n",
       "      <th>1497</th>\n",
       "      <td>2.440959</td>\n",
       "      <td>5.332715</td>\n",
       "      <td>2</td>\n",
       "      <td>FN</td>\n",
       "      <td>2017</td>\n",
       "      <td>FN_2017</td>\n",
       "      <td>agriculture</td>\n",
       "    </tr>\n",
       "    <tr>\n",
       "      <th>1498</th>\n",
       "      <td>7.406494</td>\n",
       "      <td>8.834531</td>\n",
       "      <td>18</td>\n",
       "      <td>FN</td>\n",
       "      <td>2017</td>\n",
       "      <td>FN_2017</td>\n",
       "      <td>logement</td>\n",
       "    </tr>\n",
       "  </tbody>\n",
       "</table>\n",
       "<p>1499 rows × 7 columns</p>\n",
       "</div>"
      ],
      "text/plain": [
       "              0         1 topic partyname  annee party_year      topic_name\n",
       "0      8.151793  4.497937     3      EELV   2002  EELV_2002     citoyennete\n",
       "1      8.049961  4.450078     3      EELV   2002  EELV_2002     citoyennete\n",
       "2      5.184878  3.159429    11      EELV   2002  EELV_2002  mondialisation\n",
       "3      6.383236  5.849808     5      EELV   2002  EELV_2002          fiscal\n",
       "4      6.304251  7.085637     0      EELV   2002  EELV_2002          emploi\n",
       "...         ...       ...   ...       ...    ...        ...             ...\n",
       "1494  10.976411  0.137974    12        FN   2017    FN_2017        culturel\n",
       "1495   4.070445  1.698110    14        FN   2017    FN_2017       militaire\n",
       "1496   2.518365  5.420586     2        FN   2017    FN_2017     agriculture\n",
       "1497   2.440959  5.332715     2        FN   2017    FN_2017     agriculture\n",
       "1498   7.406494  8.834531    18        FN   2017    FN_2017        logement\n",
       "\n",
       "[1499 rows x 7 columns]"
      ]
     },
     "execution_count": 724,
     "metadata": {},
     "output_type": "execute_result"
    }
   ],
   "source": [
    "umap_embed"
   ]
  },
  {
   "cell_type": "code",
   "execution_count": 547,
   "id": "d06cd810",
   "metadata": {},
   "outputs": [
    {
     "data": {
      "text/plain": [
       "<AxesSubplot:>"
      ]
     },
     "execution_count": 547,
     "metadata": {},
     "output_type": "execute_result"
    },
    {
     "data": {
      "image/png": "[encoded data removed]",
      "text/plain": [
       "<Figure size 800x800 with 1 Axes>"
      ]
     },
     "metadata": {},
     "output_type": "display_data"
    }
   ],
   "source": [
    "umap.plot.points(umap_model, labels=umap_embed['topic_name'])"
   ]
  },
  {
   "cell_type": "code",
   "execution_count": 726,
   "id": "997a1326",
   "metadata": {},
   "outputs": [],
   "source": [
    "umap_args = {'n_neighbors': 15,\n",
    "             'n_components': 5,\n",
    "             'metric': 'cosine',\n",
    "             'random_state':2021}\n",
    "\n",
    "umap_model = umap.UMAP(**umap_args).fit(model._get_document_vectors(norm=False))\n",
    "\n",
    "hdbscan_args = {'min_cluster_size': 15,\n",
    "                'metric': 'euclidean',\n",
    "                'cluster_selection_method': 'eom'}\n",
    "\n",
    "cluster = hdbscan.HDBSCAN(**hdbscan_args).fit(umap_model.embedding_)\n",
    "\n",
    "tmp = pd.DataFrame({'top_num':model.doc_top, 'cluster_label':cluster.labels_})"
   ]
  },
  {
   "cell_type": "code",
   "execution_count": null,
   "id": "d13e2f3a",
   "metadata": {},
   "outputs": [],
   "source": []
  }
 ],
 "metadata": {
  "kernelspec": {
   "display_name": "Python 3",
   "language": "python",
   "name": "python3"
  },
  "language_info": {
   "codemirror_mode": {
    "name": "ipython",
    "version": 3
   },
   "file_extension": ".py",
   "mimetype": "text/x-python",
   "name": "python",
   "nbconvert_exporter": "python",
   "pygments_lexer": "ipython3",
   "version": "3.8.8"
  }
 },
 "nbformat": 4,
 "nbformat_minor": 5
}
