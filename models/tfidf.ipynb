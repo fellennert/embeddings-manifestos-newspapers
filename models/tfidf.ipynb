{
 "cells": [
  {
   "cell_type": "code",
   "execution_count": 1,
   "id": "5de8dd56",
   "metadata": {},
   "outputs": [],
   "source": [
    "import logging\n",
    "logging.basicConfig(format='%(asctime)s : %(levelname)s : %(message)s', level=logging.INFO)"
   ]
  },
  {
   "cell_type": "code",
   "execution_count": 2,
   "id": "c202df4a",
   "metadata": {},
   "outputs": [],
   "source": [
    "import gensim\n",
    "import pandas as pd\n",
    "from collections import defaultdict\n",
    "\n",
    "from tqdm.auto import tqdm\n",
    "tqdm.pandas()\n",
    "\n",
    "import plotly.express as px"
   ]
  },
  {
   "cell_type": "code",
   "execution_count": 4,
   "id": "62448a95",
   "metadata": {},
   "outputs": [],
   "source": [
    "df = pd.read_csv('./manifesto_articles_preprocessed.csv')"
   ]
  },
  {
   "cell_type": "code",
   "execution_count": 6,
   "id": "1d013d72",
   "metadata": {},
   "outputs": [
    {
     "data": {
      "application/vnd.jupyter.widget-view+json": {
       "model_id": "6e6eea5b65af4f29882b3c01c7fed991",
       "version_major": 2,
       "version_minor": 0
      },
      "text/plain": [
       "  0%|          | 0/69935 [00:00<?, ?it/s]"
      ]
     },
     "metadata": {},
     "output_type": "display_data"
    }
   ],
   "source": [
    "df.words = df.words.progress_apply(eval)"
   ]
  },
  {
   "cell_type": "code",
   "execution_count": 42,
   "id": "433a6d89",
   "metadata": {},
   "outputs": [],
   "source": [
    "dict_party = {'Socialist Party':'PS',\n",
    "              'Europe Ecology - The Greens':'EELV',\n",
    "              'The Republicans':'RPR/UMP/LR',\n",
    "              'National Front':'FN',\n",
    "              'Democratic Movement':'MoDem/EM',\n",
    "              'Republic Onwards!':'MoDem/EM',\n",
    "              'Left Front':'PCF/PG/LFI',\n",
    "              'Indomitable France':'PCF/PG/LFI',\n",
    "              'French Communist Party':'PCF/PG/LFI',\n",
    "              'Le Monde':'Le Monde',\n",
    "              'Le Figaro':'Le Figaro'}"
   ]
  },
  {
   "cell_type": "code",
   "execution_count": 43,
   "id": "8a32d3e1",
   "metadata": {},
   "outputs": [],
   "source": [
    "dict_color = {'PS': 'pink', \n",
    "              'MoDem/EM': 'orange', \n",
    "              'RPR/UMP/LR': 'blue',\n",
    "              'FN':'darkslateblue',\n",
    "              'EELV':'green',\n",
    "              'PCF/PG/LFI':'red',\n",
    "              'Le Monde':'black',\n",
    "              'Le Figaro':'cyan'}"
   ]
  },
  {
   "cell_type": "code",
   "execution_count": 44,
   "id": "0968c78e",
   "metadata": {},
   "outputs": [],
   "source": [
    "df.partyname = df.partyname.apply(lambda x: dict_party[x])"
   ]
  },
  {
   "cell_type": "code",
   "execution_count": 45,
   "id": "a9e52dd8",
   "metadata": {},
   "outputs": [],
   "source": [
    "df2002 = df[df['fichier']==1].reset_index(drop=True)\n",
    "df2007 = df[df['fichier']==2].reset_index(drop=True)\n",
    "df2012 = df[df['fichier']==3].reset_index(drop=True)\n",
    "df2017 = df[df['fichier']==4].reset_index(drop=True)"
   ]
  },
  {
   "cell_type": "markdown",
   "id": "ee3883a8",
   "metadata": {},
   "source": [
    "## TF-IDF"
   ]
  },
  {
   "cell_type": "code",
   "execution_count": 19,
   "id": "d148c7e4",
   "metadata": {},
   "outputs": [],
   "source": [
    "def tfidf(df, n_party):\n",
    "    \"\"\"\n",
    "    Input: \n",
    "        df: Datafram with columns : index, text, partyname, annee. Where the first n_party rows are manifestos.\n",
    "        n_party: number of party manifestos.\n",
    "        \n",
    "    Output: \n",
    "        The Same DataFrame with cosine similarity with each party manifesto (tf-idf embedding).\n",
    "    \"\"\"\n",
    "    texts = df.words.tolist()\n",
    "    #texts = [gensim.utils.simple_preprocess(x) for x in df.text]\n",
    "    frequency = defaultdict(int)\n",
    "    \n",
    "    for text in texts:\n",
    "        for token in text:\n",
    "            frequency[token] += 1\n",
    "            \n",
    "    texts = [gensim.utils.simple_preprocess(x) for x in df.text]\n",
    "    \n",
    "    processed_corpus = [[token for token in text if frequency[token] > 1] for text in texts]\n",
    "    \n",
    "    dictionary = gensim.corpora.Dictionary(processed_corpus)\n",
    "    \n",
    "    bow_corpus = [dictionary.doc2bow(text) for text in processed_corpus]\n",
    "    tfidf = gensim.models.TfidfModel(bow_corpus)\n",
    "    index = gensim.similarities.SparseMatrixSimilarity(tfidf[bow_corpus], num_features=len(dictionary))\n",
    "    \n",
    "    \n",
    "    for i in range(n_party):\n",
    "        df[df.loc[i,'partyname']] = index[tfidf[bow_corpus[i]]]\n",
    "        \n",
    "    return df"
   ]
  },
  {
   "cell_type": "code",
   "execution_count": 47,
   "id": "4111150f",
   "metadata": {},
   "outputs": [
    {
     "name": "stderr",
     "output_type": "stream",
     "text": [
      "2021-12-01 12:41:18,736 : INFO : adding document #0 to Dictionary(0 unique tokens: [])\n",
      "2021-12-01 12:41:21,065 : INFO : adding document #10000 to Dictionary(20538 unique tokens: ['abandon', 'abrogation', 'accentué', 'accepte', 'accessibilité']...)\n",
      "2021-12-01 12:41:22,908 : INFO : built Dictionary(21832 unique tokens: ['abandon', 'abrogation', 'accentué', 'accepte', 'accessibilité']...) from 18842 documents (total 3930095 corpus positions)\n",
      "2021-12-01 12:41:22,909 : INFO : Dictionary lifecycle event {'msg': \"built Dictionary(21832 unique tokens: ['abandon', 'abrogation', 'accentué', 'accepte', 'accessibilité']...) from 18842 documents (total 3930095 corpus positions)\", 'datetime': '2021-12-01T12:41:22.909208', 'gensim': '4.1.2', 'python': '3.8.8 (default, Apr 13 2021, 12:59:45) \\n[Clang 10.0.0 ]', 'platform': 'macOS-10.16-x86_64-i386-64bit', 'event': 'created'}\n",
      "2021-12-01 12:41:25,635 : INFO : collecting document frequencies\n",
      "2021-12-01 12:41:25,636 : INFO : PROGRESS: processing document #0\n",
      "2021-12-01 12:41:25,934 : INFO : PROGRESS: processing document #10000\n",
      "2021-12-01 12:41:26,239 : INFO : TfidfModel lifecycle event {'msg': 'calculated IDF weights for 18842 documents and 21832 features (2920119 matrix non-zeros)', 'datetime': '2021-12-01T12:41:26.239086', 'gensim': '4.1.2', 'python': '3.8.8 (default, Apr 13 2021, 12:59:45) \\n[Clang 10.0.0 ]', 'platform': 'macOS-10.16-x86_64-i386-64bit', 'event': 'initialize'}\n",
      "2021-12-01 12:41:26,239 : INFO : creating sparse index\n",
      "2021-12-01 12:41:26,240 : INFO : creating sparse matrix from corpus\n",
      "2021-12-01 12:41:26,244 : INFO : PROGRESS: at document #0\n",
      "2021-12-01 12:41:33,910 : INFO : PROGRESS: at document #10000\n",
      "2021-12-01 12:41:40,578 : INFO : created <18842x21832 sparse matrix of type '<class 'numpy.float32'>'\n",
      "\twith 2920119 stored elements in Compressed Sparse Row format>\n"
     ]
    },
    {
     "name": "stdout",
     "output_type": "stream",
     "text": [
      "CPU times: user 38.3 s, sys: 1.69 s, total: 40 s\n",
      "Wall time: 42.6 s\n"
     ]
    }
   ],
   "source": [
    "%%time\n",
    "\n",
    "sims2002 = tfidf(df2002, n_party=5)"
   ]
  },
  {
   "cell_type": "code",
   "execution_count": 56,
   "id": "b6c78c0e",
   "metadata": {},
   "outputs": [],
   "source": [
    "tmp2002 = sims2002.iloc[5:,2:].groupby(['partyname','annee']).mean().reset_index()"
   ]
  },
  {
   "cell_type": "code",
   "execution_count": 60,
   "id": "cd3657ab",
   "metadata": {},
   "outputs": [
    {
     "data": {
      "text/plain": [
       "Index(['EELV', 'PS', 'MoDem/EM', 'RPR/UMP/LR', 'FN'], dtype='object')"
      ]
     },
     "execution_count": 60,
     "metadata": {},
     "output_type": "execute_result"
    }
   ],
   "source": [
    "tmp2002.columns[3:]"
   ]
  },
  {
   "cell_type": "code",
   "execution_count": 61,
   "id": "f22b8437",
   "metadata": {},
   "outputs": [
    {
     "data": {
      "application/vnd.plotly.v1+json": {
       "config": {
        "plotlyServerURL": "https://plot.ly"
       },
       "data": [
        {
         "hovertemplate": "Party=EELV<br>Journal=Le Figaro<br>year=%{x}<br>Cosine Similarity=%{y}<extra></extra>",
         "legendgroup": "EELV",
         "line": {
          "color": "green",
          "dash": "solid"
         },
         "marker": {
          "symbol": "circle"
         },
         "mode": "lines",
         "name": "EELV",
         "orientation": "v",
         "showlegend": true,
         "type": "scatter",
         "x": [
          2001,
          2002,
          2003,
          2004,
          2005,
          2006
         ],
         "xaxis": "x",
         "y": [
          0.04497259110212326,
          0.05173114314675331,
          0.05335190147161484,
          0.04835408926010132,
          0.04637168347835541,
          0.04480404034256935
         ],
         "yaxis": "y"
        },
        {
         "hovertemplate": "Party=EELV<br>Journal=Le Monde<br>year=%{x}<br>Cosine Similarity=%{y}<extra></extra>",
         "legendgroup": "EELV",
         "line": {
          "color": "green",
          "dash": "solid"
         },
         "marker": {
          "symbol": "circle"
         },
         "mode": "lines",
         "name": "EELV",
         "orientation": "v",
         "showlegend": false,
         "type": "scatter",
         "x": [
          2001,
          2002,
          2003,
          2004,
          2005,
          2006
         ],
         "xaxis": "x2",
         "y": [
          0.0510408841073513,
          0.04984688758850098,
          0.057535454630851746,
          0.05542204901576042,
          0.05567668005824089,
          0.04853653907775879
         ],
         "yaxis": "y2"
        },
        {
         "hovertemplate": "Party=PS<br>Journal=Le Figaro<br>year=%{x}<br>Cosine Similarity=%{y}<extra></extra>",
         "legendgroup": "PS",
         "line": {
          "color": "pink",
          "dash": "solid"
         },
         "marker": {
          "symbol": "circle"
         },
         "mode": "lines",
         "name": "PS",
         "orientation": "v",
         "showlegend": true,
         "type": "scatter",
         "x": [
          2001,
          2002,
          2003,
          2004,
          2005,
          2006
         ],
         "xaxis": "x",
         "y": [
          0.05540820211172104,
          0.06364943087100983,
          0.06611348688602448,
          0.06058014556765556,
          0.059810105711221695,
          0.05474719777703285
         ],
         "yaxis": "y"
        },
        {
         "hovertemplate": "Party=PS<br>Journal=Le Monde<br>year=%{x}<br>Cosine Similarity=%{y}<extra></extra>",
         "legendgroup": "PS",
         "line": {
          "color": "pink",
          "dash": "solid"
         },
         "marker": {
          "symbol": "circle"
         },
         "mode": "lines",
         "name": "PS",
         "orientation": "v",
         "showlegend": false,
         "type": "scatter",
         "x": [
          2001,
          2002,
          2003,
          2004,
          2005,
          2006
         ],
         "xaxis": "x2",
         "y": [
          0.06330356001853943,
          0.0627002939581871,
          0.07187333703041077,
          0.06860587000846863,
          0.06905949860811234,
          0.05903321132063866
         ],
         "yaxis": "y2"
        },
        {
         "hovertemplate": "Party=MoDem/EM<br>Journal=Le Figaro<br>year=%{x}<br>Cosine Similarity=%{y}<extra></extra>",
         "legendgroup": "MoDem/EM",
         "line": {
          "color": "orange",
          "dash": "solid"
         },
         "marker": {
          "symbol": "circle"
         },
         "mode": "lines",
         "name": "MoDem/EM",
         "orientation": "v",
         "showlegend": true,
         "type": "scatter",
         "x": [
          2001,
          2002,
          2003,
          2004,
          2005,
          2006
         ],
         "xaxis": "x",
         "y": [
          0.07265587151050568,
          0.08375068008899689,
          0.08862125128507614,
          0.08033854514360428,
          0.07726839929819107,
          0.07020518183708191
         ],
         "yaxis": "y"
        },
        {
         "hovertemplate": "Party=MoDem/EM<br>Journal=Le Monde<br>year=%{x}<br>Cosine Similarity=%{y}<extra></extra>",
         "legendgroup": "MoDem/EM",
         "line": {
          "color": "orange",
          "dash": "solid"
         },
         "marker": {
          "symbol": "circle"
         },
         "mode": "lines",
         "name": "MoDem/EM",
         "orientation": "v",
         "showlegend": false,
         "type": "scatter",
         "x": [
          2001,
          2002,
          2003,
          2004,
          2005,
          2006
         ],
         "xaxis": "x2",
         "y": [
          0.08187878131866455,
          0.07920490205287933,
          0.09476719051599503,
          0.08948659151792526,
          0.08866485208272934,
          0.07652387022972107
         ],
         "yaxis": "y2"
        },
        {
         "hovertemplate": "Party=RPR/UMP/LR<br>Journal=Le Figaro<br>year=%{x}<br>Cosine Similarity=%{y}<extra></extra>",
         "legendgroup": "RPR/UMP/LR",
         "line": {
          "color": "blue",
          "dash": "solid"
         },
         "marker": {
          "symbol": "circle"
         },
         "mode": "lines",
         "name": "RPR/UMP/LR",
         "orientation": "v",
         "showlegend": true,
         "type": "scatter",
         "x": [
          2001,
          2002,
          2003,
          2004,
          2005,
          2006
         ],
         "xaxis": "x",
         "y": [
          0.044735852628946304,
          0.053476858884096146,
          0.05519210919737816,
          0.04899464175105095,
          0.04659273102879524,
          0.04380050301551819
         ],
         "yaxis": "y"
        },
        {
         "hovertemplate": "Party=RPR/UMP/LR<br>Journal=Le Monde<br>year=%{x}<br>Cosine Similarity=%{y}<extra></extra>",
         "legendgroup": "RPR/UMP/LR",
         "line": {
          "color": "blue",
          "dash": "solid"
         },
         "marker": {
          "symbol": "circle"
         },
         "mode": "lines",
         "name": "RPR/UMP/LR",
         "orientation": "v",
         "showlegend": false,
         "type": "scatter",
         "x": [
          2001,
          2002,
          2003,
          2004,
          2005,
          2006
         ],
         "xaxis": "x2",
         "y": [
          0.05117468535900116,
          0.05150701478123665,
          0.06170172244310379,
          0.05748096480965614,
          0.055394381284713745,
          0.0476703904569149
         ],
         "yaxis": "y2"
        },
        {
         "hovertemplate": "Party=FN<br>Journal=Le Figaro<br>year=%{x}<br>Cosine Similarity=%{y}<extra></extra>",
         "legendgroup": "FN",
         "line": {
          "color": "darkslateblue",
          "dash": "solid"
         },
         "marker": {
          "symbol": "circle"
         },
         "mode": "lines",
         "name": "FN",
         "orientation": "v",
         "showlegend": true,
         "type": "scatter",
         "x": [
          2001,
          2002,
          2003,
          2004,
          2005,
          2006
         ],
         "xaxis": "x",
         "y": [
          0.06658316403627396,
          0.0752578154206276,
          0.07915641367435455,
          0.07193043828010559,
          0.06947740167379379,
          0.06533991545438766
         ],
         "yaxis": "y"
        },
        {
         "hovertemplate": "Party=FN<br>Journal=Le Monde<br>year=%{x}<br>Cosine Similarity=%{y}<extra></extra>",
         "legendgroup": "FN",
         "line": {
          "color": "darkslateblue",
          "dash": "solid"
         },
         "marker": {
          "symbol": "circle"
         },
         "mode": "lines",
         "name": "FN",
         "orientation": "v",
         "showlegend": false,
         "type": "scatter",
         "x": [
          2001,
          2002,
          2003,
          2004,
          2005,
          2006
         ],
         "xaxis": "x2",
         "y": [
          0.07792520523071289,
          0.07473455369472504,
          0.08760440349578857,
          0.08352351188659668,
          0.08214512467384338,
          0.07086478918790817
         ],
         "yaxis": "y2"
        }
       ],
       "layout": {
        "annotations": [
         {
          "font": {},
          "showarrow": false,
          "text": "Journal=Le Figaro",
          "x": 0.245,
          "xanchor": "center",
          "xref": "paper",
          "y": 1,
          "yanchor": "bottom",
          "yref": "paper"
         },
         {
          "font": {},
          "showarrow": false,
          "text": "Journal=Le Monde",
          "x": 0.755,
          "xanchor": "center",
          "xref": "paper",
          "y": 1,
          "yanchor": "bottom",
          "yref": "paper"
         }
        ],
        "legend": {
         "title": {
          "text": "Party"
         },
         "tracegroupgap": 0
        },
        "template": {
         "data": {
          "bar": [
           {
            "error_x": {
             "color": "#2a3f5f"
            },
            "error_y": {
             "color": "#2a3f5f"
            },
            "marker": {
             "line": {
              "color": "#E5ECF6",
              "width": 0.5
             },
             "pattern": {
              "fillmode": "overlay",
              "size": 10,
              "solidity": 0.2
             }
            },
            "type": "bar"
           }
          ],
          "barpolar": [
           {
            "marker": {
             "line": {
              "color": "#E5ECF6",
              "width": 0.5
             },
             "pattern": {
              "fillmode": "overlay",
              "size": 10,
              "solidity": 0.2
             }
            },
            "type": "barpolar"
           }
          ],
          "carpet": [
           {
            "aaxis": {
             "endlinecolor": "#2a3f5f",
             "gridcolor": "white",
             "linecolor": "white",
             "minorgridcolor": "white",
             "startlinecolor": "#2a3f5f"
            },
            "baxis": {
             "endlinecolor": "#2a3f5f",
             "gridcolor": "white",
             "linecolor": "white",
             "minorgridcolor": "white",
             "startlinecolor": "#2a3f5f"
            },
            "type": "carpet"
           }
          ],
          "choropleth": [
           {
            "colorbar": {
             "outlinewidth": 0,
             "ticks": ""
            },
            "type": "choropleth"
           }
          ],
          "contour": [
           {
            "colorbar": {
             "outlinewidth": 0,
             "ticks": ""
            },
            "colorscale": [
             [
              0,
              "#0d0887"
             ],
             [
              0.1111111111111111,
              "#46039f"
             ],
             [
              0.2222222222222222,
              "#7201a8"
             ],
             [
              0.3333333333333333,
              "#9c179e"
             ],
             [
              0.4444444444444444,
              "#bd3786"
             ],
             [
              0.5555555555555556,
              "#d8576b"
             ],
             [
              0.6666666666666666,
              "#ed7953"
             ],
             [
              0.7777777777777778,
              "#fb9f3a"
             ],
             [
              0.8888888888888888,
              "#fdca26"
             ],
             [
              1,
              "#f0f921"
             ]
            ],
            "type": "contour"
           }
          ],
          "contourcarpet": [
           {
            "colorbar": {
             "outlinewidth": 0,
             "ticks": ""
            },
            "type": "contourcarpet"
           }
          ],
          "heatmap": [
           {
            "colorbar": {
             "outlinewidth": 0,
             "ticks": ""
            },
            "colorscale": [
             [
              0,
              "#0d0887"
             ],
             [
              0.1111111111111111,
              "#46039f"
             ],
             [
              0.2222222222222222,
              "#7201a8"
             ],
             [
              0.3333333333333333,
              "#9c179e"
             ],
             [
              0.4444444444444444,
              "#bd3786"
             ],
             [
              0.5555555555555556,
              "#d8576b"
             ],
             [
              0.6666666666666666,
              "#ed7953"
             ],
             [
              0.7777777777777778,
              "#fb9f3a"
             ],
             [
              0.8888888888888888,
              "#fdca26"
             ],
             [
              1,
              "#f0f921"
             ]
            ],
            "type": "heatmap"
           }
          ],
          "heatmapgl": [
           {
            "colorbar": {
             "outlinewidth": 0,
             "ticks": ""
            },
            "colorscale": [
             [
              0,
              "#0d0887"
             ],
             [
              0.1111111111111111,
              "#46039f"
             ],
             [
              0.2222222222222222,
              "#7201a8"
             ],
             [
              0.3333333333333333,
              "#9c179e"
             ],
             [
              0.4444444444444444,
              "#bd3786"
             ],
             [
              0.5555555555555556,
              "#d8576b"
             ],
             [
              0.6666666666666666,
              "#ed7953"
             ],
             [
              0.7777777777777778,
              "#fb9f3a"
             ],
             [
              0.8888888888888888,
              "#fdca26"
             ],
             [
              1,
              "#f0f921"
             ]
            ],
            "type": "heatmapgl"
           }
          ],
          "histogram": [
           {
            "marker": {
             "pattern": {
              "fillmode": "overlay",
              "size": 10,
              "solidity": 0.2
             }
            },
            "type": "histogram"
           }
          ],
          "histogram2d": [
           {
            "colorbar": {
             "outlinewidth": 0,
             "ticks": ""
            },
            "colorscale": [
             [
              0,
              "#0d0887"
             ],
             [
              0.1111111111111111,
              "#46039f"
             ],
             [
              0.2222222222222222,
              "#7201a8"
             ],
             [
              0.3333333333333333,
              "#9c179e"
             ],
             [
              0.4444444444444444,
              "#bd3786"
             ],
             [
              0.5555555555555556,
              "#d8576b"
             ],
             [
              0.6666666666666666,
              "#ed7953"
             ],
             [
              0.7777777777777778,
              "#fb9f3a"
             ],
             [
              0.8888888888888888,
              "#fdca26"
             ],
             [
              1,
              "#f0f921"
             ]
            ],
            "type": "histogram2d"
           }
          ],
          "histogram2dcontour": [
           {
            "colorbar": {
             "outlinewidth": 0,
             "ticks": ""
            },
            "colorscale": [
             [
              0,
              "#0d0887"
             ],
             [
              0.1111111111111111,
              "#46039f"
             ],
             [
              0.2222222222222222,
              "#7201a8"
             ],
             [
              0.3333333333333333,
              "#9c179e"
             ],
             [
              0.4444444444444444,
              "#bd3786"
             ],
             [
              0.5555555555555556,
              "#d8576b"
             ],
             [
              0.6666666666666666,
              "#ed7953"
             ],
             [
              0.7777777777777778,
              "#fb9f3a"
             ],
             [
              0.8888888888888888,
              "#fdca26"
             ],
             [
              1,
              "#f0f921"
             ]
            ],
            "type": "histogram2dcontour"
           }
          ],
          "mesh3d": [
           {
            "colorbar": {
             "outlinewidth": 0,
             "ticks": ""
            },
            "type": "mesh3d"
           }
          ],
          "parcoords": [
           {
            "line": {
             "colorbar": {
              "outlinewidth": 0,
              "ticks": ""
             }
            },
            "type": "parcoords"
           }
          ],
          "pie": [
           {
            "automargin": true,
            "type": "pie"
           }
          ],
          "scatter": [
           {
            "marker": {
             "colorbar": {
              "outlinewidth": 0,
              "ticks": ""
             }
            },
            "type": "scatter"
           }
          ],
          "scatter3d": [
           {
            "line": {
             "colorbar": {
              "outlinewidth": 0,
              "ticks": ""
             }
            },
            "marker": {
             "colorbar": {
              "outlinewidth": 0,
              "ticks": ""
             }
            },
            "type": "scatter3d"
           }
          ],
          "scattercarpet": [
           {
            "marker": {
             "colorbar": {
              "outlinewidth": 0,
              "ticks": ""
             }
            },
            "type": "scattercarpet"
           }
          ],
          "scattergeo": [
           {
            "marker": {
             "colorbar": {
              "outlinewidth": 0,
              "ticks": ""
             }
            },
            "type": "scattergeo"
           }
          ],
          "scattergl": [
           {
            "marker": {
             "colorbar": {
              "outlinewidth": 0,
              "ticks": ""
             }
            },
            "type": "scattergl"
           }
          ],
          "scattermapbox": [
           {
            "marker": {
             "colorbar": {
              "outlinewidth": 0,
              "ticks": ""
             }
            },
            "type": "scattermapbox"
           }
          ],
          "scatterpolar": [
           {
            "marker": {
             "colorbar": {
              "outlinewidth": 0,
              "ticks": ""
             }
            },
            "type": "scatterpolar"
           }
          ],
          "scatterpolargl": [
           {
            "marker": {
             "colorbar": {
              "outlinewidth": 0,
              "ticks": ""
             }
            },
            "type": "scatterpolargl"
           }
          ],
          "scatterternary": [
           {
            "marker": {
             "colorbar": {
              "outlinewidth": 0,
              "ticks": ""
             }
            },
            "type": "scatterternary"
           }
          ],
          "surface": [
           {
            "colorbar": {
             "outlinewidth": 0,
             "ticks": ""
            },
            "colorscale": [
             [
              0,
              "#0d0887"
             ],
             [
              0.1111111111111111,
              "#46039f"
             ],
             [
              0.2222222222222222,
              "#7201a8"
             ],
             [
              0.3333333333333333,
              "#9c179e"
             ],
             [
              0.4444444444444444,
              "#bd3786"
             ],
             [
              0.5555555555555556,
              "#d8576b"
             ],
             [
              0.6666666666666666,
              "#ed7953"
             ],
             [
              0.7777777777777778,
              "#fb9f3a"
             ],
             [
              0.8888888888888888,
              "#fdca26"
             ],
             [
              1,
              "#f0f921"
             ]
            ],
            "type": "surface"
           }
          ],
          "table": [
           {
            "cells": {
             "fill": {
              "color": "#EBF0F8"
             },
             "line": {
              "color": "white"
             }
            },
            "header": {
             "fill": {
              "color": "#C8D4E3"
             },
             "line": {
              "color": "white"
             }
            },
            "type": "table"
           }
          ]
         },
         "layout": {
          "annotationdefaults": {
           "arrowcolor": "#2a3f5f",
           "arrowhead": 0,
           "arrowwidth": 1
          },
          "autotypenumbers": "strict",
          "coloraxis": {
           "colorbar": {
            "outlinewidth": 0,
            "ticks": ""
           }
          },
          "colorscale": {
           "diverging": [
            [
             0,
             "#8e0152"
            ],
            [
             0.1,
             "#c51b7d"
            ],
            [
             0.2,
             "#de77ae"
            ],
            [
             0.3,
             "#f1b6da"
            ],
            [
             0.4,
             "#fde0ef"
            ],
            [
             0.5,
             "#f7f7f7"
            ],
            [
             0.6,
             "#e6f5d0"
            ],
            [
             0.7,
             "#b8e186"
            ],
            [
             0.8,
             "#7fbc41"
            ],
            [
             0.9,
             "#4d9221"
            ],
            [
             1,
             "#276419"
            ]
           ],
           "sequential": [
            [
             0,
             "#0d0887"
            ],
            [
             0.1111111111111111,
             "#46039f"
            ],
            [
             0.2222222222222222,
             "#7201a8"
            ],
            [
             0.3333333333333333,
             "#9c179e"
            ],
            [
             0.4444444444444444,
             "#bd3786"
            ],
            [
             0.5555555555555556,
             "#d8576b"
            ],
            [
             0.6666666666666666,
             "#ed7953"
            ],
            [
             0.7777777777777778,
             "#fb9f3a"
            ],
            [
             0.8888888888888888,
             "#fdca26"
            ],
            [
             1,
             "#f0f921"
            ]
           ],
           "sequentialminus": [
            [
             0,
             "#0d0887"
            ],
            [
             0.1111111111111111,
             "#46039f"
            ],
            [
             0.2222222222222222,
             "#7201a8"
            ],
            [
             0.3333333333333333,
             "#9c179e"
            ],
            [
             0.4444444444444444,
             "#bd3786"
            ],
            [
             0.5555555555555556,
             "#d8576b"
            ],
            [
             0.6666666666666666,
             "#ed7953"
            ],
            [
             0.7777777777777778,
             "#fb9f3a"
            ],
            [
             0.8888888888888888,
             "#fdca26"
            ],
            [
             1,
             "#f0f921"
            ]
           ]
          },
          "colorway": [
           "#636efa",
           "#EF553B",
           "#00cc96",
           "#ab63fa",
           "#FFA15A",
           "#19d3f3",
           "#FF6692",
           "#B6E880",
           "#FF97FF",
           "#FECB52"
          ],
          "font": {
           "color": "#2a3f5f"
          },
          "geo": {
           "bgcolor": "white",
           "lakecolor": "white",
           "landcolor": "#E5ECF6",
           "showlakes": true,
           "showland": true,
           "subunitcolor": "white"
          },
          "hoverlabel": {
           "align": "left"
          },
          "hovermode": "closest",
          "mapbox": {
           "style": "light"
          },
          "paper_bgcolor": "white",
          "plot_bgcolor": "#E5ECF6",
          "polar": {
           "angularaxis": {
            "gridcolor": "white",
            "linecolor": "white",
            "ticks": ""
           },
           "bgcolor": "#E5ECF6",
           "radialaxis": {
            "gridcolor": "white",
            "linecolor": "white",
            "ticks": ""
           }
          },
          "scene": {
           "xaxis": {
            "backgroundcolor": "#E5ECF6",
            "gridcolor": "white",
            "gridwidth": 2,
            "linecolor": "white",
            "showbackground": true,
            "ticks": "",
            "zerolinecolor": "white"
           },
           "yaxis": {
            "backgroundcolor": "#E5ECF6",
            "gridcolor": "white",
            "gridwidth": 2,
            "linecolor": "white",
            "showbackground": true,
            "ticks": "",
            "zerolinecolor": "white"
           },
           "zaxis": {
            "backgroundcolor": "#E5ECF6",
            "gridcolor": "white",
            "gridwidth": 2,
            "linecolor": "white",
            "showbackground": true,
            "ticks": "",
            "zerolinecolor": "white"
           }
          },
          "shapedefaults": {
           "line": {
            "color": "#2a3f5f"
           }
          },
          "ternary": {
           "aaxis": {
            "gridcolor": "white",
            "linecolor": "white",
            "ticks": ""
           },
           "baxis": {
            "gridcolor": "white",
            "linecolor": "white",
            "ticks": ""
           },
           "bgcolor": "#E5ECF6",
           "caxis": {
            "gridcolor": "white",
            "linecolor": "white",
            "ticks": ""
           }
          },
          "title": {
           "x": 0.05
          },
          "xaxis": {
           "automargin": true,
           "gridcolor": "white",
           "linecolor": "white",
           "ticks": "",
           "title": {
            "standoff": 15
           },
           "zerolinecolor": "white",
           "zerolinewidth": 2
          },
          "yaxis": {
           "automargin": true,
           "gridcolor": "white",
           "linecolor": "white",
           "ticks": "",
           "title": {
            "standoff": 15
           },
           "zerolinecolor": "white",
           "zerolinewidth": 2
          }
         }
        },
        "title": {
         "text": "TF-IDF - Manifesto 2002"
        },
        "xaxis": {
         "anchor": "y",
         "domain": [
          0,
          0.49
         ],
         "title": {
          "text": "year"
         }
        },
        "xaxis2": {
         "anchor": "y2",
         "domain": [
          0.51,
          1
         ],
         "matches": "x",
         "title": {
          "text": "year"
         }
        },
        "yaxis": {
         "anchor": "x",
         "domain": [
          0,
          1
         ],
         "title": {
          "text": "Cosine Similarity"
         }
        },
        "yaxis2": {
         "anchor": "x2",
         "domain": [
          0,
          1
         ],
         "matches": "y",
         "showticklabels": false
        }
       }
      },
      "text/html": [
       "<div>                            <div id=\"517e3bb8-a802-4bdd-8ad9-7ab79991f22f\" class=\"plotly-graph-div\" style=\"height:525px; width:100%;\"></div>            <script type=\"text/javascript\">                require([\"plotly\"], function(Plotly) {                    window.PLOTLYENV=window.PLOTLYENV || {};                                    if (document.getElementById(\"517e3bb8-a802-4bdd-8ad9-7ab79991f22f\")) {                    Plotly.newPlot(                        \"517e3bb8-a802-4bdd-8ad9-7ab79991f22f\",                        [{\"hovertemplate\":\"Party=EELV<br>Journal=Le Figaro<br>year=%{x}<br>Cosine Similarity=%{y}<extra></extra>\",\"legendgroup\":\"EELV\",\"line\":{\"color\":\"green\",\"dash\":\"solid\"},\"marker\":{\"symbol\":\"circle\"},\"mode\":\"lines\",\"name\":\"EELV\",\"orientation\":\"v\",\"showlegend\":true,\"type\":\"scatter\",\"x\":[2001,2002,2003,2004,2005,2006],\"xaxis\":\"x\",\"y\":[0.04497259110212326,0.05173114314675331,0.05335190147161484,0.04835408926010132,0.04637168347835541,0.04480404034256935],\"yaxis\":\"y\"},{\"hovertemplate\":\"Party=EELV<br>Journal=Le Monde<br>year=%{x}<br>Cosine Similarity=%{y}<extra></extra>\",\"legendgroup\":\"EELV\",\"line\":{\"color\":\"green\",\"dash\":\"solid\"},\"marker\":{\"symbol\":\"circle\"},\"mode\":\"lines\",\"name\":\"EELV\",\"orientation\":\"v\",\"showlegend\":false,\"type\":\"scatter\",\"x\":[2001,2002,2003,2004,2005,2006],\"xaxis\":\"x2\",\"y\":[0.0510408841073513,0.04984688758850098,0.057535454630851746,0.05542204901576042,0.05567668005824089,0.04853653907775879],\"yaxis\":\"y2\"},{\"hovertemplate\":\"Party=PS<br>Journal=Le Figaro<br>year=%{x}<br>Cosine Similarity=%{y}<extra></extra>\",\"legendgroup\":\"PS\",\"line\":{\"color\":\"pink\",\"dash\":\"solid\"},\"marker\":{\"symbol\":\"circle\"},\"mode\":\"lines\",\"name\":\"PS\",\"orientation\":\"v\",\"showlegend\":true,\"type\":\"scatter\",\"x\":[2001,2002,2003,2004,2005,2006],\"xaxis\":\"x\",\"y\":[0.05540820211172104,0.06364943087100983,0.06611348688602448,0.06058014556765556,0.059810105711221695,0.05474719777703285],\"yaxis\":\"y\"},{\"hovertemplate\":\"Party=PS<br>Journal=Le Monde<br>year=%{x}<br>Cosine Similarity=%{y}<extra></extra>\",\"legendgroup\":\"PS\",\"line\":{\"color\":\"pink\",\"dash\":\"solid\"},\"marker\":{\"symbol\":\"circle\"},\"mode\":\"lines\",\"name\":\"PS\",\"orientation\":\"v\",\"showlegend\":false,\"type\":\"scatter\",\"x\":[2001,2002,2003,2004,2005,2006],\"xaxis\":\"x2\",\"y\":[0.06330356001853943,0.0627002939581871,0.07187333703041077,0.06860587000846863,0.06905949860811234,0.05903321132063866],\"yaxis\":\"y2\"},{\"hovertemplate\":\"Party=MoDem/EM<br>Journal=Le Figaro<br>year=%{x}<br>Cosine Similarity=%{y}<extra></extra>\",\"legendgroup\":\"MoDem/EM\",\"line\":{\"color\":\"orange\",\"dash\":\"solid\"},\"marker\":{\"symbol\":\"circle\"},\"mode\":\"lines\",\"name\":\"MoDem/EM\",\"orientation\":\"v\",\"showlegend\":true,\"type\":\"scatter\",\"x\":[2001,2002,2003,2004,2005,2006],\"xaxis\":\"x\",\"y\":[0.07265587151050568,0.08375068008899689,0.08862125128507614,0.08033854514360428,0.07726839929819107,0.07020518183708191],\"yaxis\":\"y\"},{\"hovertemplate\":\"Party=MoDem/EM<br>Journal=Le Monde<br>year=%{x}<br>Cosine Similarity=%{y}<extra></extra>\",\"legendgroup\":\"MoDem/EM\",\"line\":{\"color\":\"orange\",\"dash\":\"solid\"},\"marker\":{\"symbol\":\"circle\"},\"mode\":\"lines\",\"name\":\"MoDem/EM\",\"orientation\":\"v\",\"showlegend\":false,\"type\":\"scatter\",\"x\":[2001,2002,2003,2004,2005,2006],\"xaxis\":\"x2\",\"y\":[0.08187878131866455,0.07920490205287933,0.09476719051599503,0.08948659151792526,0.08866485208272934,0.07652387022972107],\"yaxis\":\"y2\"},{\"hovertemplate\":\"Party=RPR/UMP/LR<br>Journal=Le Figaro<br>year=%{x}<br>Cosine Similarity=%{y}<extra></extra>\",\"legendgroup\":\"RPR/UMP/LR\",\"line\":{\"color\":\"blue\",\"dash\":\"solid\"},\"marker\":{\"symbol\":\"circle\"},\"mode\":\"lines\",\"name\":\"RPR/UMP/LR\",\"orientation\":\"v\",\"showlegend\":true,\"type\":\"scatter\",\"x\":[2001,2002,2003,2004,2005,2006],\"xaxis\":\"x\",\"y\":[0.044735852628946304,0.053476858884096146,0.05519210919737816,0.04899464175105095,0.04659273102879524,0.04380050301551819],\"yaxis\":\"y\"},{\"hovertemplate\":\"Party=RPR/UMP/LR<br>Journal=Le Monde<br>year=%{x}<br>Cosine Similarity=%{y}<extra></extra>\",\"legendgroup\":\"RPR/UMP/LR\",\"line\":{\"color\":\"blue\",\"dash\":\"solid\"},\"marker\":{\"symbol\":\"circle\"},\"mode\":\"lines\",\"name\":\"RPR/UMP/LR\",\"orientation\":\"v\",\"showlegend\":false,\"type\":\"scatter\",\"x\":[2001,2002,2003,2004,2005,2006],\"xaxis\":\"x2\",\"y\":[0.05117468535900116,0.05150701478123665,0.06170172244310379,0.05748096480965614,0.055394381284713745,0.0476703904569149],\"yaxis\":\"y2\"},{\"hovertemplate\":\"Party=FN<br>Journal=Le Figaro<br>year=%{x}<br>Cosine Similarity=%{y}<extra></extra>\",\"legendgroup\":\"FN\",\"line\":{\"color\":\"darkslateblue\",\"dash\":\"solid\"},\"marker\":{\"symbol\":\"circle\"},\"mode\":\"lines\",\"name\":\"FN\",\"orientation\":\"v\",\"showlegend\":true,\"type\":\"scatter\",\"x\":[2001,2002,2003,2004,2005,2006],\"xaxis\":\"x\",\"y\":[0.06658316403627396,0.0752578154206276,0.07915641367435455,0.07193043828010559,0.06947740167379379,0.06533991545438766],\"yaxis\":\"y\"},{\"hovertemplate\":\"Party=FN<br>Journal=Le Monde<br>year=%{x}<br>Cosine Similarity=%{y}<extra></extra>\",\"legendgroup\":\"FN\",\"line\":{\"color\":\"darkslateblue\",\"dash\":\"solid\"},\"marker\":{\"symbol\":\"circle\"},\"mode\":\"lines\",\"name\":\"FN\",\"orientation\":\"v\",\"showlegend\":false,\"type\":\"scatter\",\"x\":[2001,2002,2003,2004,2005,2006],\"xaxis\":\"x2\",\"y\":[0.07792520523071289,0.07473455369472504,0.08760440349578857,0.08352351188659668,0.08214512467384338,0.07086478918790817],\"yaxis\":\"y2\"}],                        {\"annotations\":[{\"font\":{},\"showarrow\":false,\"text\":\"Journal=Le Figaro\",\"x\":0.245,\"xanchor\":\"center\",\"xref\":\"paper\",\"y\":1.0,\"yanchor\":\"bottom\",\"yref\":\"paper\"},{\"font\":{},\"showarrow\":false,\"text\":\"Journal=Le Monde\",\"x\":0.755,\"xanchor\":\"center\",\"xref\":\"paper\",\"y\":1.0,\"yanchor\":\"bottom\",\"yref\":\"paper\"}],\"legend\":{\"title\":{\"text\":\"Party\"},\"tracegroupgap\":0},\"template\":{\"data\":{\"bar\":[{\"error_x\":{\"color\":\"#2a3f5f\"},\"error_y\":{\"color\":\"#2a3f5f\"},\"marker\":{\"line\":{\"color\":\"#E5ECF6\",\"width\":0.5},\"pattern\":{\"fillmode\":\"overlay\",\"size\":10,\"solidity\":0.2}},\"type\":\"bar\"}],\"barpolar\":[{\"marker\":{\"line\":{\"color\":\"#E5ECF6\",\"width\":0.5},\"pattern\":{\"fillmode\":\"overlay\",\"size\":10,\"solidity\":0.2}},\"type\":\"barpolar\"}],\"carpet\":[{\"aaxis\":{\"endlinecolor\":\"#2a3f5f\",\"gridcolor\":\"white\",\"linecolor\":\"white\",\"minorgridcolor\":\"white\",\"startlinecolor\":\"#2a3f5f\"},\"baxis\":{\"endlinecolor\":\"#2a3f5f\",\"gridcolor\":\"white\",\"linecolor\":\"white\",\"minorgridcolor\":\"white\",\"startlinecolor\":\"#2a3f5f\"},\"type\":\"carpet\"}],\"choropleth\":[{\"colorbar\":{\"outlinewidth\":0,\"ticks\":\"\"},\"type\":\"choropleth\"}],\"contour\":[{\"colorbar\":{\"outlinewidth\":0,\"ticks\":\"\"},\"colorscale\":[[0.0,\"#0d0887\"],[0.1111111111111111,\"#46039f\"],[0.2222222222222222,\"#7201a8\"],[0.3333333333333333,\"#9c179e\"],[0.4444444444444444,\"#bd3786\"],[0.5555555555555556,\"#d8576b\"],[0.6666666666666666,\"#ed7953\"],[0.7777777777777778,\"#fb9f3a\"],[0.8888888888888888,\"#fdca26\"],[1.0,\"#f0f921\"]],\"type\":\"contour\"}],\"contourcarpet\":[{\"colorbar\":{\"outlinewidth\":0,\"ticks\":\"\"},\"type\":\"contourcarpet\"}],\"heatmap\":[{\"colorbar\":{\"outlinewidth\":0,\"ticks\":\"\"},\"colorscale\":[[0.0,\"#0d0887\"],[0.1111111111111111,\"#46039f\"],[0.2222222222222222,\"#7201a8\"],[0.3333333333333333,\"#9c179e\"],[0.4444444444444444,\"#bd3786\"],[0.5555555555555556,\"#d8576b\"],[0.6666666666666666,\"#ed7953\"],[0.7777777777777778,\"#fb9f3a\"],[0.8888888888888888,\"#fdca26\"],[1.0,\"#f0f921\"]],\"type\":\"heatmap\"}],\"heatmapgl\":[{\"colorbar\":{\"outlinewidth\":0,\"ticks\":\"\"},\"colorscale\":[[0.0,\"#0d0887\"],[0.1111111111111111,\"#46039f\"],[0.2222222222222222,\"#7201a8\"],[0.3333333333333333,\"#9c179e\"],[0.4444444444444444,\"#bd3786\"],[0.5555555555555556,\"#d8576b\"],[0.6666666666666666,\"#ed7953\"],[0.7777777777777778,\"#fb9f3a\"],[0.8888888888888888,\"#fdca26\"],[1.0,\"#f0f921\"]],\"type\":\"heatmapgl\"}],\"histogram\":[{\"marker\":{\"pattern\":{\"fillmode\":\"overlay\",\"size\":10,\"solidity\":0.2}},\"type\":\"histogram\"}],\"histogram2d\":[{\"colorbar\":{\"outlinewidth\":0,\"ticks\":\"\"},\"colorscale\":[[0.0,\"#0d0887\"],[0.1111111111111111,\"#46039f\"],[0.2222222222222222,\"#7201a8\"],[0.3333333333333333,\"#9c179e\"],[0.4444444444444444,\"#bd3786\"],[0.5555555555555556,\"#d8576b\"],[0.6666666666666666,\"#ed7953\"],[0.7777777777777778,\"#fb9f3a\"],[0.8888888888888888,\"#fdca26\"],[1.0,\"#f0f921\"]],\"type\":\"histogram2d\"}],\"histogram2dcontour\":[{\"colorbar\":{\"outlinewidth\":0,\"ticks\":\"\"},\"colorscale\":[[0.0,\"#0d0887\"],[0.1111111111111111,\"#46039f\"],[0.2222222222222222,\"#7201a8\"],[0.3333333333333333,\"#9c179e\"],[0.4444444444444444,\"#bd3786\"],[0.5555555555555556,\"#d8576b\"],[0.6666666666666666,\"#ed7953\"],[0.7777777777777778,\"#fb9f3a\"],[0.8888888888888888,\"#fdca26\"],[1.0,\"#f0f921\"]],\"type\":\"histogram2dcontour\"}],\"mesh3d\":[{\"colorbar\":{\"outlinewidth\":0,\"ticks\":\"\"},\"type\":\"mesh3d\"}],\"parcoords\":[{\"line\":{\"colorbar\":{\"outlinewidth\":0,\"ticks\":\"\"}},\"type\":\"parcoords\"}],\"pie\":[{\"automargin\":true,\"type\":\"pie\"}],\"scatter\":[{\"marker\":{\"colorbar\":{\"outlinewidth\":0,\"ticks\":\"\"}},\"type\":\"scatter\"}],\"scatter3d\":[{\"line\":{\"colorbar\":{\"outlinewidth\":0,\"ticks\":\"\"}},\"marker\":{\"colorbar\":{\"outlinewidth\":0,\"ticks\":\"\"}},\"type\":\"scatter3d\"}],\"scattercarpet\":[{\"marker\":{\"colorbar\":{\"outlinewidth\":0,\"ticks\":\"\"}},\"type\":\"scattercarpet\"}],\"scattergeo\":[{\"marker\":{\"colorbar\":{\"outlinewidth\":0,\"ticks\":\"\"}},\"type\":\"scattergeo\"}],\"scattergl\":[{\"marker\":{\"colorbar\":{\"outlinewidth\":0,\"ticks\":\"\"}},\"type\":\"scattergl\"}],\"scattermapbox\":[{\"marker\":{\"colorbar\":{\"outlinewidth\":0,\"ticks\":\"\"}},\"type\":\"scattermapbox\"}],\"scatterpolar\":[{\"marker\":{\"colorbar\":{\"outlinewidth\":0,\"ticks\":\"\"}},\"type\":\"scatterpolar\"}],\"scatterpolargl\":[{\"marker\":{\"colorbar\":{\"outlinewidth\":0,\"ticks\":\"\"}},\"type\":\"scatterpolargl\"}],\"scatterternary\":[{\"marker\":{\"colorbar\":{\"outlinewidth\":0,\"ticks\":\"\"}},\"type\":\"scatterternary\"}],\"surface\":[{\"colorbar\":{\"outlinewidth\":0,\"ticks\":\"\"},\"colorscale\":[[0.0,\"#0d0887\"],[0.1111111111111111,\"#46039f\"],[0.2222222222222222,\"#7201a8\"],[0.3333333333333333,\"#9c179e\"],[0.4444444444444444,\"#bd3786\"],[0.5555555555555556,\"#d8576b\"],[0.6666666666666666,\"#ed7953\"],[0.7777777777777778,\"#fb9f3a\"],[0.8888888888888888,\"#fdca26\"],[1.0,\"#f0f921\"]],\"type\":\"surface\"}],\"table\":[{\"cells\":{\"fill\":{\"color\":\"#EBF0F8\"},\"line\":{\"color\":\"white\"}},\"header\":{\"fill\":{\"color\":\"#C8D4E3\"},\"line\":{\"color\":\"white\"}},\"type\":\"table\"}]},\"layout\":{\"annotationdefaults\":{\"arrowcolor\":\"#2a3f5f\",\"arrowhead\":0,\"arrowwidth\":1},\"autotypenumbers\":\"strict\",\"coloraxis\":{\"colorbar\":{\"outlinewidth\":0,\"ticks\":\"\"}},\"colorscale\":{\"diverging\":[[0,\"#8e0152\"],[0.1,\"#c51b7d\"],[0.2,\"#de77ae\"],[0.3,\"#f1b6da\"],[0.4,\"#fde0ef\"],[0.5,\"#f7f7f7\"],[0.6,\"#e6f5d0\"],[0.7,\"#b8e186\"],[0.8,\"#7fbc41\"],[0.9,\"#4d9221\"],[1,\"#276419\"]],\"sequential\":[[0.0,\"#0d0887\"],[0.1111111111111111,\"#46039f\"],[0.2222222222222222,\"#7201a8\"],[0.3333333333333333,\"#9c179e\"],[0.4444444444444444,\"#bd3786\"],[0.5555555555555556,\"#d8576b\"],[0.6666666666666666,\"#ed7953\"],[0.7777777777777778,\"#fb9f3a\"],[0.8888888888888888,\"#fdca26\"],[1.0,\"#f0f921\"]],\"sequentialminus\":[[0.0,\"#0d0887\"],[0.1111111111111111,\"#46039f\"],[0.2222222222222222,\"#7201a8\"],[0.3333333333333333,\"#9c179e\"],[0.4444444444444444,\"#bd3786\"],[0.5555555555555556,\"#d8576b\"],[0.6666666666666666,\"#ed7953\"],[0.7777777777777778,\"#fb9f3a\"],[0.8888888888888888,\"#fdca26\"],[1.0,\"#f0f921\"]]},\"colorway\":[\"#636efa\",\"#EF553B\",\"#00cc96\",\"#ab63fa\",\"#FFA15A\",\"#19d3f3\",\"#FF6692\",\"#B6E880\",\"#FF97FF\",\"#FECB52\"],\"font\":{\"color\":\"#2a3f5f\"},\"geo\":{\"bgcolor\":\"white\",\"lakecolor\":\"white\",\"landcolor\":\"#E5ECF6\",\"showlakes\":true,\"showland\":true,\"subunitcolor\":\"white\"},\"hoverlabel\":{\"align\":\"left\"},\"hovermode\":\"closest\",\"mapbox\":{\"style\":\"light\"},\"paper_bgcolor\":\"white\",\"plot_bgcolor\":\"#E5ECF6\",\"polar\":{\"angularaxis\":{\"gridcolor\":\"white\",\"linecolor\":\"white\",\"ticks\":\"\"},\"bgcolor\":\"#E5ECF6\",\"radialaxis\":{\"gridcolor\":\"white\",\"linecolor\":\"white\",\"ticks\":\"\"}},\"scene\":{\"xaxis\":{\"backgroundcolor\":\"#E5ECF6\",\"gridcolor\":\"white\",\"gridwidth\":2,\"linecolor\":\"white\",\"showbackground\":true,\"ticks\":\"\",\"zerolinecolor\":\"white\"},\"yaxis\":{\"backgroundcolor\":\"#E5ECF6\",\"gridcolor\":\"white\",\"gridwidth\":2,\"linecolor\":\"white\",\"showbackground\":true,\"ticks\":\"\",\"zerolinecolor\":\"white\"},\"zaxis\":{\"backgroundcolor\":\"#E5ECF6\",\"gridcolor\":\"white\",\"gridwidth\":2,\"linecolor\":\"white\",\"showbackground\":true,\"ticks\":\"\",\"zerolinecolor\":\"white\"}},\"shapedefaults\":{\"line\":{\"color\":\"#2a3f5f\"}},\"ternary\":{\"aaxis\":{\"gridcolor\":\"white\",\"linecolor\":\"white\",\"ticks\":\"\"},\"baxis\":{\"gridcolor\":\"white\",\"linecolor\":\"white\",\"ticks\":\"\"},\"bgcolor\":\"#E5ECF6\",\"caxis\":{\"gridcolor\":\"white\",\"linecolor\":\"white\",\"ticks\":\"\"}},\"title\":{\"x\":0.05},\"xaxis\":{\"automargin\":true,\"gridcolor\":\"white\",\"linecolor\":\"white\",\"ticks\":\"\",\"title\":{\"standoff\":15},\"zerolinecolor\":\"white\",\"zerolinewidth\":2},\"yaxis\":{\"automargin\":true,\"gridcolor\":\"white\",\"linecolor\":\"white\",\"ticks\":\"\",\"title\":{\"standoff\":15},\"zerolinecolor\":\"white\",\"zerolinewidth\":2}}},\"title\":{\"text\":\"TF-IDF - Manifesto 2002\"},\"xaxis\":{\"anchor\":\"y\",\"domain\":[0.0,0.49],\"title\":{\"text\":\"year\"}},\"xaxis2\":{\"anchor\":\"y2\",\"domain\":[0.51,1.0],\"matches\":\"x\",\"title\":{\"text\":\"year\"}},\"yaxis\":{\"anchor\":\"x\",\"domain\":[0.0,1.0],\"title\":{\"text\":\"Cosine Similarity\"}},\"yaxis2\":{\"anchor\":\"x2\",\"domain\":[0.0,1.0],\"matches\":\"y\",\"showticklabels\":false}},                        {\"responsive\": true}                    ).then(function(){\n",
       "                            \n",
       "var gd = document.getElementById('517e3bb8-a802-4bdd-8ad9-7ab79991f22f');\n",
       "var x = new MutationObserver(function (mutations, observer) {{\n",
       "        var display = window.getComputedStyle(gd).display;\n",
       "        if (!display || display === 'none') {{\n",
       "            console.log([gd, 'removed!']);\n",
       "            Plotly.purge(gd);\n",
       "            observer.disconnect();\n",
       "        }}\n",
       "}});\n",
       "\n",
       "// Listen for the removal of the full notebook cells\n",
       "var notebookContainer = gd.closest('#notebook-container');\n",
       "if (notebookContainer) {{\n",
       "    x.observe(notebookContainer, {childList: true});\n",
       "}}\n",
       "\n",
       "// Listen for the clearing of the current output cell\n",
       "var outputEl = gd.closest('.output');\n",
       "if (outputEl) {{\n",
       "    x.observe(outputEl, {childList: true});\n",
       "}}\n",
       "\n",
       "                        })                };                });            </script>        </div>"
      ]
     },
     "metadata": {},
     "output_type": "display_data"
    }
   ],
   "source": [
    "px.line(tmp2002,\n",
    "        x='annee',\n",
    "        y=tmp2002.columns[3:],\n",
    "        facet_col='partyname',\n",
    "        labels={'partyname':'Journal','variable':'Party','value':'Cosine Similarity','annee':'year'},\n",
    "        title='TF-IDF - Manifesto 2002',\n",
    "        color_discrete_map=dict_color\n",
    "       )"
   ]
  },
  {
   "cell_type": "code",
   "execution_count": 49,
   "id": "8db9038b",
   "metadata": {
    "scrolled": true
   },
   "outputs": [
    {
     "name": "stderr",
     "output_type": "stream",
     "text": [
      "2021-12-01 12:41:59,532 : INFO : adding document #0 to Dictionary(0 unique tokens: [])\n",
      "2021-12-01 12:42:01,637 : INFO : adding document #10000 to Dictionary(21726 unique tokens: ['abaissement', 'abandon', 'abandonné', 'abandonnée', 'abattage']...)\n",
      "2021-12-01 12:42:03,383 : INFO : adding document #20000 to Dictionary(22768 unique tokens: ['abaissement', 'abandon', 'abandonné', 'abandonnée', 'abattage']...)\n",
      "2021-12-01 12:42:03,894 : INFO : built Dictionary(22936 unique tokens: ['abaissement', 'abandon', 'abandonné', 'abandonnée', 'abattage']...) from 23135 documents (total 4180262 corpus positions)\n",
      "2021-12-01 12:42:03,895 : INFO : Dictionary lifecycle event {'msg': \"built Dictionary(22936 unique tokens: ['abaissement', 'abandon', 'abandonné', 'abandonnée', 'abattage']...) from 23135 documents (total 4180262 corpus positions)\", 'datetime': '2021-12-01T12:42:03.895474', 'gensim': '4.1.2', 'python': '3.8.8 (default, Apr 13 2021, 12:59:45) \\n[Clang 10.0.0 ]', 'platform': 'macOS-10.16-x86_64-i386-64bit', 'event': 'created'}\n",
      "2021-12-01 12:42:06,805 : INFO : collecting document frequencies\n",
      "2021-12-01 12:42:06,806 : INFO : PROGRESS: processing document #0\n",
      "2021-12-01 12:42:07,063 : INFO : PROGRESS: processing document #10000\n",
      "2021-12-01 12:42:07,268 : INFO : PROGRESS: processing document #20000\n",
      "2021-12-01 12:42:07,369 : INFO : TfidfModel lifecycle event {'msg': 'calculated IDF weights for 23135 documents and 22936 features (3169809 matrix non-zeros)', 'datetime': '2021-12-01T12:42:07.369656', 'gensim': '4.1.2', 'python': '3.8.8 (default, Apr 13 2021, 12:59:45) \\n[Clang 10.0.0 ]', 'platform': 'macOS-10.16-x86_64-i386-64bit', 'event': 'initialize'}\n",
      "2021-12-01 12:42:07,370 : INFO : creating sparse index\n",
      "2021-12-01 12:42:07,370 : INFO : creating sparse matrix from corpus\n",
      "2021-12-01 12:42:07,400 : INFO : PROGRESS: at document #0\n",
      "2021-12-01 12:42:14,950 : INFO : PROGRESS: at document #10000\n",
      "2021-12-01 12:42:21,540 : INFO : PROGRESS: at document #20000\n",
      "2021-12-01 12:42:24,027 : INFO : created <23135x22936 sparse matrix of type '<class 'numpy.float32'>'\n",
      "\twith 3169809 stored elements in Compressed Sparse Row format>\n"
     ]
    },
    {
     "name": "stdout",
     "output_type": "stream",
     "text": [
      "CPU times: user 40.8 s, sys: 1.39 s, total: 42.2 s\n",
      "Wall time: 44.2 s\n"
     ]
    }
   ],
   "source": [
    "%%time\n",
    "\n",
    "sims2007 = tfidf(df2007, n_party=6)"
   ]
  },
  {
   "cell_type": "code",
   "execution_count": 62,
   "id": "c9e25014",
   "metadata": {},
   "outputs": [],
   "source": [
    "tmp2007 = sims2007.iloc[6:,2:].groupby(['partyname','annee']).mean().reset_index()"
   ]
  },
  {
   "cell_type": "code",
   "execution_count": 64,
   "id": "5a73466a",
   "metadata": {},
   "outputs": [
    {
     "data": {
      "text/plain": [
       "Index(['FN', 'EELV', 'MoDem/EM', 'PCF/PG/LFI', 'PS', 'RPR/UMP/LR'], dtype='object')"
      ]
     },
     "execution_count": 64,
     "metadata": {},
     "output_type": "execute_result"
    }
   ],
   "source": [
    "tmp2007.columns[3:]"
   ]
  },
  {
   "cell_type": "code",
   "execution_count": 65,
   "id": "2300eca1",
   "metadata": {},
   "outputs": [
    {
     "data": {
      "application/vnd.plotly.v1+json": {
       "config": {
        "plotlyServerURL": "https://plot.ly"
       },
       "data": [
        {
         "hovertemplate": "Party=FN<br>Journal=Le Figaro<br>year=%{x}<br>Cosine Similarity=%{y}<extra></extra>",
         "legendgroup": "FN",
         "line": {
          "color": "darkslateblue",
          "dash": "solid"
         },
         "marker": {
          "symbol": "circle"
         },
         "mode": "lines",
         "name": "FN",
         "orientation": "v",
         "showlegend": true,
         "type": "scatter",
         "x": [
          2006,
          2007,
          2008,
          2009,
          2010,
          2011
         ],
         "xaxis": "x",
         "y": [
          0.08437484502792358,
          0.07964807003736496,
          0.07897698879241943,
          0.07702036201953888,
          0.07212080806493759,
          0.08557872474193573
         ],
         "yaxis": "y"
        },
        {
         "hovertemplate": "Party=FN<br>Journal=Le Monde<br>year=%{x}<br>Cosine Similarity=%{y}<extra></extra>",
         "legendgroup": "FN",
         "line": {
          "color": "darkslateblue",
          "dash": "solid"
         },
         "marker": {
          "symbol": "circle"
         },
         "mode": "lines",
         "name": "FN",
         "orientation": "v",
         "showlegend": false,
         "type": "scatter",
         "x": [
          2006,
          2007,
          2008,
          2009,
          2010,
          2011
         ],
         "xaxis": "x2",
         "y": [
          0.09305603802204132,
          0.09539148956537247,
          0.0934656634926796,
          0.09962141513824463,
          0.09910427778959274,
          0.0982455387711525
         ],
         "yaxis": "y2"
        },
        {
         "hovertemplate": "Party=EELV<br>Journal=Le Figaro<br>year=%{x}<br>Cosine Similarity=%{y}<extra></extra>",
         "legendgroup": "EELV",
         "line": {
          "color": "green",
          "dash": "solid"
         },
         "marker": {
          "symbol": "circle"
         },
         "mode": "lines",
         "name": "EELV",
         "orientation": "v",
         "showlegend": true,
         "type": "scatter",
         "x": [
          2006,
          2007,
          2008,
          2009,
          2010,
          2011
         ],
         "xaxis": "x",
         "y": [
          0.06900808215141296,
          0.06144362688064575,
          0.06269937008619308,
          0.06118795648217201,
          0.05620528385043144,
          0.0666234940290451
         ],
         "yaxis": "y"
        },
        {
         "hovertemplate": "Party=EELV<br>Journal=Le Monde<br>year=%{x}<br>Cosine Similarity=%{y}<extra></extra>",
         "legendgroup": "EELV",
         "line": {
          "color": "green",
          "dash": "solid"
         },
         "marker": {
          "symbol": "circle"
         },
         "mode": "lines",
         "name": "EELV",
         "orientation": "v",
         "showlegend": false,
         "type": "scatter",
         "x": [
          2006,
          2007,
          2008,
          2009,
          2010,
          2011
         ],
         "xaxis": "x2",
         "y": [
          0.07608085870742798,
          0.07713740319013596,
          0.07889814674854279,
          0.08330418914556503,
          0.08135049790143967,
          0.07858427613973618
         ],
         "yaxis": "y2"
        },
        {
         "hovertemplate": "Party=MoDem/EM<br>Journal=Le Figaro<br>year=%{x}<br>Cosine Similarity=%{y}<extra></extra>",
         "legendgroup": "MoDem/EM",
         "line": {
          "color": "orange",
          "dash": "solid"
         },
         "marker": {
          "symbol": "circle"
         },
         "mode": "lines",
         "name": "MoDem/EM",
         "orientation": "v",
         "showlegend": true,
         "type": "scatter",
         "x": [
          2006,
          2007,
          2008,
          2009,
          2010,
          2011
         ],
         "xaxis": "x",
         "y": [
          0.07605558633804321,
          0.06843940168619156,
          0.06742987781763077,
          0.06571231782436371,
          0.06052793934941292,
          0.07183178514242172
         ],
         "yaxis": "y"
        },
        {
         "hovertemplate": "Party=MoDem/EM<br>Journal=Le Monde<br>year=%{x}<br>Cosine Similarity=%{y}<extra></extra>",
         "legendgroup": "MoDem/EM",
         "line": {
          "color": "orange",
          "dash": "solid"
         },
         "marker": {
          "symbol": "circle"
         },
         "mode": "lines",
         "name": "MoDem/EM",
         "orientation": "v",
         "showlegend": false,
         "type": "scatter",
         "x": [
          2006,
          2007,
          2008,
          2009,
          2010,
          2011
         ],
         "xaxis": "x2",
         "y": [
          0.08414161205291748,
          0.08694484829902649,
          0.08635221421718597,
          0.09170717746019363,
          0.09097891300916672,
          0.08594198524951935
         ],
         "yaxis": "y2"
        },
        {
         "hovertemplate": "Party=PCF/PG/LFI<br>Journal=Le Figaro<br>year=%{x}<br>Cosine Similarity=%{y}<extra></extra>",
         "legendgroup": "PCF/PG/LFI",
         "line": {
          "color": "red",
          "dash": "solid"
         },
         "marker": {
          "symbol": "circle"
         },
         "mode": "lines",
         "name": "PCF/PG/LFI",
         "orientation": "v",
         "showlegend": true,
         "type": "scatter",
         "x": [
          2006,
          2007,
          2008,
          2009,
          2010,
          2011
         ],
         "xaxis": "x",
         "y": [
          0.06370265036821365,
          0.05625671148300171,
          0.05539215728640556,
          0.05349549651145935,
          0.050880685448646545,
          0.059030722826719284
         ],
         "yaxis": "y"
        },
        {
         "hovertemplate": "Party=PCF/PG/LFI<br>Journal=Le Monde<br>year=%{x}<br>Cosine Similarity=%{y}<extra></extra>",
         "legendgroup": "PCF/PG/LFI",
         "line": {
          "color": "red",
          "dash": "solid"
         },
         "marker": {
          "symbol": "circle"
         },
         "mode": "lines",
         "name": "PCF/PG/LFI",
         "orientation": "v",
         "showlegend": false,
         "type": "scatter",
         "x": [
          2006,
          2007,
          2008,
          2009,
          2010,
          2011
         ],
         "xaxis": "x2",
         "y": [
          0.07084072381258011,
          0.07008451968431473,
          0.06824282556772232,
          0.07185652107000351,
          0.07200438529253006,
          0.06887344270944595
         ],
         "yaxis": "y2"
        },
        {
         "hovertemplate": "Party=PS<br>Journal=Le Figaro<br>year=%{x}<br>Cosine Similarity=%{y}<extra></extra>",
         "legendgroup": "PS",
         "line": {
          "color": "pink",
          "dash": "solid"
         },
         "marker": {
          "symbol": "circle"
         },
         "mode": "lines",
         "name": "PS",
         "orientation": "v",
         "showlegend": true,
         "type": "scatter",
         "x": [
          2006,
          2007,
          2008,
          2009,
          2010,
          2011
         ],
         "xaxis": "x",
         "y": [
          0.06910564005374908,
          0.059906184673309326,
          0.06017562001943588,
          0.05859379842877388,
          0.054238349199295044,
          0.06394883990287781
         ],
         "yaxis": "y"
        },
        {
         "hovertemplate": "Party=PS<br>Journal=Le Monde<br>year=%{x}<br>Cosine Similarity=%{y}<extra></extra>",
         "legendgroup": "PS",
         "line": {
          "color": "pink",
          "dash": "solid"
         },
         "marker": {
          "symbol": "circle"
         },
         "mode": "lines",
         "name": "PS",
         "orientation": "v",
         "showlegend": false,
         "type": "scatter",
         "x": [
          2006,
          2007,
          2008,
          2009,
          2010,
          2011
         ],
         "xaxis": "x2",
         "y": [
          0.07676224410533905,
          0.07716476172208786,
          0.07776309549808502,
          0.0814494714140892,
          0.08152969926595688,
          0.07767363637685776
         ],
         "yaxis": "y2"
        },
        {
         "hovertemplate": "Party=RPR/UMP/LR<br>Journal=Le Figaro<br>year=%{x}<br>Cosine Similarity=%{y}<extra></extra>",
         "legendgroup": "RPR/UMP/LR",
         "line": {
          "color": "blue",
          "dash": "solid"
         },
         "marker": {
          "symbol": "circle"
         },
         "mode": "lines",
         "name": "RPR/UMP/LR",
         "orientation": "v",
         "showlegend": true,
         "type": "scatter",
         "x": [
          2006,
          2007,
          2008,
          2009,
          2010,
          2011
         ],
         "xaxis": "x",
         "y": [
          0.07205911725759506,
          0.06389005482196808,
          0.062117524445056915,
          0.06108427792787552,
          0.056240346282720566,
          0.06764284521341324
         ],
         "yaxis": "y"
        },
        {
         "hovertemplate": "Party=RPR/UMP/LR<br>Journal=Le Monde<br>year=%{x}<br>Cosine Similarity=%{y}<extra></extra>",
         "legendgroup": "RPR/UMP/LR",
         "line": {
          "color": "blue",
          "dash": "solid"
         },
         "marker": {
          "symbol": "circle"
         },
         "mode": "lines",
         "name": "RPR/UMP/LR",
         "orientation": "v",
         "showlegend": false,
         "type": "scatter",
         "x": [
          2006,
          2007,
          2008,
          2009,
          2010,
          2011
         ],
         "xaxis": "x2",
         "y": [
          0.07908796519041061,
          0.08135200291872025,
          0.07943910360336304,
          0.08412790298461914,
          0.083590567111969,
          0.08030680567026138
         ],
         "yaxis": "y2"
        }
       ],
       "layout": {
        "annotations": [
         {
          "font": {},
          "showarrow": false,
          "text": "Journal=Le Figaro",
          "x": 0.245,
          "xanchor": "center",
          "xref": "paper",
          "y": 1,
          "yanchor": "bottom",
          "yref": "paper"
         },
         {
          "font": {},
          "showarrow": false,
          "text": "Journal=Le Monde",
          "x": 0.755,
          "xanchor": "center",
          "xref": "paper",
          "y": 1,
          "yanchor": "bottom",
          "yref": "paper"
         }
        ],
        "legend": {
         "title": {
          "text": "Party"
         },
         "tracegroupgap": 0
        },
        "template": {
         "data": {
          "bar": [
           {
            "error_x": {
             "color": "#2a3f5f"
            },
            "error_y": {
             "color": "#2a3f5f"
            },
            "marker": {
             "line": {
              "color": "#E5ECF6",
              "width": 0.5
             },
             "pattern": {
              "fillmode": "overlay",
              "size": 10,
              "solidity": 0.2
             }
            },
            "type": "bar"
           }
          ],
          "barpolar": [
           {
            "marker": {
             "line": {
              "color": "#E5ECF6",
              "width": 0.5
             },
             "pattern": {
              "fillmode": "overlay",
              "size": 10,
              "solidity": 0.2
             }
            },
            "type": "barpolar"
           }
          ],
          "carpet": [
           {
            "aaxis": {
             "endlinecolor": "#2a3f5f",
             "gridcolor": "white",
             "linecolor": "white",
             "minorgridcolor": "white",
             "startlinecolor": "#2a3f5f"
            },
            "baxis": {
             "endlinecolor": "#2a3f5f",
             "gridcolor": "white",
             "linecolor": "white",
             "minorgridcolor": "white",
             "startlinecolor": "#2a3f5f"
            },
            "type": "carpet"
           }
          ],
          "choropleth": [
           {
            "colorbar": {
             "outlinewidth": 0,
             "ticks": ""
            },
            "type": "choropleth"
           }
          ],
          "contour": [
           {
            "colorbar": {
             "outlinewidth": 0,
             "ticks": ""
            },
            "colorscale": [
             [
              0,
              "#0d0887"
             ],
             [
              0.1111111111111111,
              "#46039f"
             ],
             [
              0.2222222222222222,
              "#7201a8"
             ],
             [
              0.3333333333333333,
              "#9c179e"
             ],
             [
              0.4444444444444444,
              "#bd3786"
             ],
             [
              0.5555555555555556,
              "#d8576b"
             ],
             [
              0.6666666666666666,
              "#ed7953"
             ],
             [
              0.7777777777777778,
              "#fb9f3a"
             ],
             [
              0.8888888888888888,
              "#fdca26"
             ],
             [
              1,
              "#f0f921"
             ]
            ],
            "type": "contour"
           }
          ],
          "contourcarpet": [
           {
            "colorbar": {
             "outlinewidth": 0,
             "ticks": ""
            },
            "type": "contourcarpet"
           }
          ],
          "heatmap": [
           {
            "colorbar": {
             "outlinewidth": 0,
             "ticks": ""
            },
            "colorscale": [
             [
              0,
              "#0d0887"
             ],
             [
              0.1111111111111111,
              "#46039f"
             ],
             [
              0.2222222222222222,
              "#7201a8"
             ],
             [
              0.3333333333333333,
              "#9c179e"
             ],
             [
              0.4444444444444444,
              "#bd3786"
             ],
             [
              0.5555555555555556,
              "#d8576b"
             ],
             [
              0.6666666666666666,
              "#ed7953"
             ],
             [
              0.7777777777777778,
              "#fb9f3a"
             ],
             [
              0.8888888888888888,
              "#fdca26"
             ],
             [
              1,
              "#f0f921"
             ]
            ],
            "type": "heatmap"
           }
          ],
          "heatmapgl": [
           {
            "colorbar": {
             "outlinewidth": 0,
             "ticks": ""
            },
            "colorscale": [
             [
              0,
              "#0d0887"
             ],
             [
              0.1111111111111111,
              "#46039f"
             ],
             [
              0.2222222222222222,
              "#7201a8"
             ],
             [
              0.3333333333333333,
              "#9c179e"
             ],
             [
              0.4444444444444444,
              "#bd3786"
             ],
             [
              0.5555555555555556,
              "#d8576b"
             ],
             [
              0.6666666666666666,
              "#ed7953"
             ],
             [
              0.7777777777777778,
              "#fb9f3a"
             ],
             [
              0.8888888888888888,
              "#fdca26"
             ],
             [
              1,
              "#f0f921"
             ]
            ],
            "type": "heatmapgl"
           }
          ],
          "histogram": [
           {
            "marker": {
             "pattern": {
              "fillmode": "overlay",
              "size": 10,
              "solidity": 0.2
             }
            },
            "type": "histogram"
           }
          ],
          "histogram2d": [
           {
            "colorbar": {
             "outlinewidth": 0,
             "ticks": ""
            },
            "colorscale": [
             [
              0,
              "#0d0887"
             ],
             [
              0.1111111111111111,
              "#46039f"
             ],
             [
              0.2222222222222222,
              "#7201a8"
             ],
             [
              0.3333333333333333,
              "#9c179e"
             ],
             [
              0.4444444444444444,
              "#bd3786"
             ],
             [
              0.5555555555555556,
              "#d8576b"
             ],
             [
              0.6666666666666666,
              "#ed7953"
             ],
             [
              0.7777777777777778,
              "#fb9f3a"
             ],
             [
              0.8888888888888888,
              "#fdca26"
             ],
             [
              1,
              "#f0f921"
             ]
            ],
            "type": "histogram2d"
           }
          ],
          "histogram2dcontour": [
           {
            "colorbar": {
             "outlinewidth": 0,
             "ticks": ""
            },
            "colorscale": [
             [
              0,
              "#0d0887"
             ],
             [
              0.1111111111111111,
              "#46039f"
             ],
             [
              0.2222222222222222,
              "#7201a8"
             ],
             [
              0.3333333333333333,
              "#9c179e"
             ],
             [
              0.4444444444444444,
              "#bd3786"
             ],
             [
              0.5555555555555556,
              "#d8576b"
             ],
             [
              0.6666666666666666,
              "#ed7953"
             ],
             [
              0.7777777777777778,
              "#fb9f3a"
             ],
             [
              0.8888888888888888,
              "#fdca26"
             ],
             [
              1,
              "#f0f921"
             ]
            ],
            "type": "histogram2dcontour"
           }
          ],
          "mesh3d": [
           {
            "colorbar": {
             "outlinewidth": 0,
             "ticks": ""
            },
            "type": "mesh3d"
           }
          ],
          "parcoords": [
           {
            "line": {
             "colorbar": {
              "outlinewidth": 0,
              "ticks": ""
             }
            },
            "type": "parcoords"
           }
          ],
          "pie": [
           {
            "automargin": true,
            "type": "pie"
           }
          ],
          "scatter": [
           {
            "marker": {
             "colorbar": {
              "outlinewidth": 0,
              "ticks": ""
             }
            },
            "type": "scatter"
           }
          ],
          "scatter3d": [
           {
            "line": {
             "colorbar": {
              "outlinewidth": 0,
              "ticks": ""
             }
            },
            "marker": {
             "colorbar": {
              "outlinewidth": 0,
              "ticks": ""
             }
            },
            "type": "scatter3d"
           }
          ],
          "scattercarpet": [
           {
            "marker": {
             "colorbar": {
              "outlinewidth": 0,
              "ticks": ""
             }
            },
            "type": "scattercarpet"
           }
          ],
          "scattergeo": [
           {
            "marker": {
             "colorbar": {
              "outlinewidth": 0,
              "ticks": ""
             }
            },
            "type": "scattergeo"
           }
          ],
          "scattergl": [
           {
            "marker": {
             "colorbar": {
              "outlinewidth": 0,
              "ticks": ""
             }
            },
            "type": "scattergl"
           }
          ],
          "scattermapbox": [
           {
            "marker": {
             "colorbar": {
              "outlinewidth": 0,
              "ticks": ""
             }
            },
            "type": "scattermapbox"
           }
          ],
          "scatterpolar": [
           {
            "marker": {
             "colorbar": {
              "outlinewidth": 0,
              "ticks": ""
             }
            },
            "type": "scatterpolar"
           }
          ],
          "scatterpolargl": [
           {
            "marker": {
             "colorbar": {
              "outlinewidth": 0,
              "ticks": ""
             }
            },
            "type": "scatterpolargl"
           }
          ],
          "scatterternary": [
           {
            "marker": {
             "colorbar": {
              "outlinewidth": 0,
              "ticks": ""
             }
            },
            "type": "scatterternary"
           }
          ],
          "surface": [
           {
            "colorbar": {
             "outlinewidth": 0,
             "ticks": ""
            },
            "colorscale": [
             [
              0,
              "#0d0887"
             ],
             [
              0.1111111111111111,
              "#46039f"
             ],
             [
              0.2222222222222222,
              "#7201a8"
             ],
             [
              0.3333333333333333,
              "#9c179e"
             ],
             [
              0.4444444444444444,
              "#bd3786"
             ],
             [
              0.5555555555555556,
              "#d8576b"
             ],
             [
              0.6666666666666666,
              "#ed7953"
             ],
             [
              0.7777777777777778,
              "#fb9f3a"
             ],
             [
              0.8888888888888888,
              "#fdca26"
             ],
             [
              1,
              "#f0f921"
             ]
            ],
            "type": "surface"
           }
          ],
          "table": [
           {
            "cells": {
             "fill": {
              "color": "#EBF0F8"
             },
             "line": {
              "color": "white"
             }
            },
            "header": {
             "fill": {
              "color": "#C8D4E3"
             },
             "line": {
              "color": "white"
             }
            },
            "type": "table"
           }
          ]
         },
         "layout": {
          "annotationdefaults": {
           "arrowcolor": "#2a3f5f",
           "arrowhead": 0,
           "arrowwidth": 1
          },
          "autotypenumbers": "strict",
          "coloraxis": {
           "colorbar": {
            "outlinewidth": 0,
            "ticks": ""
           }
          },
          "colorscale": {
           "diverging": [
            [
             0,
             "#8e0152"
            ],
            [
             0.1,
             "#c51b7d"
            ],
            [
             0.2,
             "#de77ae"
            ],
            [
             0.3,
             "#f1b6da"
            ],
            [
             0.4,
             "#fde0ef"
            ],
            [
             0.5,
             "#f7f7f7"
            ],
            [
             0.6,
             "#e6f5d0"
            ],
            [
             0.7,
             "#b8e186"
            ],
            [
             0.8,
             "#7fbc41"
            ],
            [
             0.9,
             "#4d9221"
            ],
            [
             1,
             "#276419"
            ]
           ],
           "sequential": [
            [
             0,
             "#0d0887"
            ],
            [
             0.1111111111111111,
             "#46039f"
            ],
            [
             0.2222222222222222,
             "#7201a8"
            ],
            [
             0.3333333333333333,
             "#9c179e"
            ],
            [
             0.4444444444444444,
             "#bd3786"
            ],
            [
             0.5555555555555556,
             "#d8576b"
            ],
            [
             0.6666666666666666,
             "#ed7953"
            ],
            [
             0.7777777777777778,
             "#fb9f3a"
            ],
            [
             0.8888888888888888,
             "#fdca26"
            ],
            [
             1,
             "#f0f921"
            ]
           ],
           "sequentialminus": [
            [
             0,
             "#0d0887"
            ],
            [
             0.1111111111111111,
             "#46039f"
            ],
            [
             0.2222222222222222,
             "#7201a8"
            ],
            [
             0.3333333333333333,
             "#9c179e"
            ],
            [
             0.4444444444444444,
             "#bd3786"
            ],
            [
             0.5555555555555556,
             "#d8576b"
            ],
            [
             0.6666666666666666,
             "#ed7953"
            ],
            [
             0.7777777777777778,
             "#fb9f3a"
            ],
            [
             0.8888888888888888,
             "#fdca26"
            ],
            [
             1,
             "#f0f921"
            ]
           ]
          },
          "colorway": [
           "#636efa",
           "#EF553B",
           "#00cc96",
           "#ab63fa",
           "#FFA15A",
           "#19d3f3",
           "#FF6692",
           "#B6E880",
           "#FF97FF",
           "#FECB52"
          ],
          "font": {
           "color": "#2a3f5f"
          },
          "geo": {
           "bgcolor": "white",
           "lakecolor": "white",
           "landcolor": "#E5ECF6",
           "showlakes": true,
           "showland": true,
           "subunitcolor": "white"
          },
          "hoverlabel": {
           "align": "left"
          },
          "hovermode": "closest",
          "mapbox": {
           "style": "light"
          },
          "paper_bgcolor": "white",
          "plot_bgcolor": "#E5ECF6",
          "polar": {
           "angularaxis": {
            "gridcolor": "white",
            "linecolor": "white",
            "ticks": ""
           },
           "bgcolor": "#E5ECF6",
           "radialaxis": {
            "gridcolor": "white",
            "linecolor": "white",
            "ticks": ""
           }
          },
          "scene": {
           "xaxis": {
            "backgroundcolor": "#E5ECF6",
            "gridcolor": "white",
            "gridwidth": 2,
            "linecolor": "white",
            "showbackground": true,
            "ticks": "",
            "zerolinecolor": "white"
           },
           "yaxis": {
            "backgroundcolor": "#E5ECF6",
            "gridcolor": "white",
            "gridwidth": 2,
            "linecolor": "white",
            "showbackground": true,
            "ticks": "",
            "zerolinecolor": "white"
           },
           "zaxis": {
            "backgroundcolor": "#E5ECF6",
            "gridcolor": "white",
            "gridwidth": 2,
            "linecolor": "white",
            "showbackground": true,
            "ticks": "",
            "zerolinecolor": "white"
           }
          },
          "shapedefaults": {
           "line": {
            "color": "#2a3f5f"
           }
          },
          "ternary": {
           "aaxis": {
            "gridcolor": "white",
            "linecolor": "white",
            "ticks": ""
           },
           "baxis": {
            "gridcolor": "white",
            "linecolor": "white",
            "ticks": ""
           },
           "bgcolor": "#E5ECF6",
           "caxis": {
            "gridcolor": "white",
            "linecolor": "white",
            "ticks": ""
           }
          },
          "title": {
           "x": 0.05
          },
          "xaxis": {
           "automargin": true,
           "gridcolor": "white",
           "linecolor": "white",
           "ticks": "",
           "title": {
            "standoff": 15
           },
           "zerolinecolor": "white",
           "zerolinewidth": 2
          },
          "yaxis": {
           "automargin": true,
           "gridcolor": "white",
           "linecolor": "white",
           "ticks": "",
           "title": {
            "standoff": 15
           },
           "zerolinecolor": "white",
           "zerolinewidth": 2
          }
         }
        },
        "title": {
         "text": "TF-IDF - Manifesto 2007"
        },
        "xaxis": {
         "anchor": "y",
         "domain": [
          0,
          0.49
         ],
         "title": {
          "text": "year"
         }
        },
        "xaxis2": {
         "anchor": "y2",
         "domain": [
          0.51,
          1
         ],
         "matches": "x",
         "title": {
          "text": "year"
         }
        },
        "yaxis": {
         "anchor": "x",
         "domain": [
          0,
          1
         ],
         "title": {
          "text": "Cosine Similarity"
         }
        },
        "yaxis2": {
         "anchor": "x2",
         "domain": [
          0,
          1
         ],
         "matches": "y",
         "showticklabels": false
        }
       }
      },
      "text/html": [
       "<div>                            <div id=\"89f19bfc-531a-4868-96b7-5e29a59ad6a8\" class=\"plotly-graph-div\" style=\"height:525px; width:100%;\"></div>            <script type=\"text/javascript\">                require([\"plotly\"], function(Plotly) {                    window.PLOTLYENV=window.PLOTLYENV || {};                                    if (document.getElementById(\"89f19bfc-531a-4868-96b7-5e29a59ad6a8\")) {                    Plotly.newPlot(                        \"89f19bfc-531a-4868-96b7-5e29a59ad6a8\",                        [{\"hovertemplate\":\"Party=FN<br>Journal=Le Figaro<br>year=%{x}<br>Cosine Similarity=%{y}<extra></extra>\",\"legendgroup\":\"FN\",\"line\":{\"color\":\"darkslateblue\",\"dash\":\"solid\"},\"marker\":{\"symbol\":\"circle\"},\"mode\":\"lines\",\"name\":\"FN\",\"orientation\":\"v\",\"showlegend\":true,\"type\":\"scatter\",\"x\":[2006,2007,2008,2009,2010,2011],\"xaxis\":\"x\",\"y\":[0.08437484502792358,0.07964807003736496,0.07897698879241943,0.07702036201953888,0.07212080806493759,0.08557872474193573],\"yaxis\":\"y\"},{\"hovertemplate\":\"Party=FN<br>Journal=Le Monde<br>year=%{x}<br>Cosine Similarity=%{y}<extra></extra>\",\"legendgroup\":\"FN\",\"line\":{\"color\":\"darkslateblue\",\"dash\":\"solid\"},\"marker\":{\"symbol\":\"circle\"},\"mode\":\"lines\",\"name\":\"FN\",\"orientation\":\"v\",\"showlegend\":false,\"type\":\"scatter\",\"x\":[2006,2007,2008,2009,2010,2011],\"xaxis\":\"x2\",\"y\":[0.09305603802204132,0.09539148956537247,0.0934656634926796,0.09962141513824463,0.09910427778959274,0.0982455387711525],\"yaxis\":\"y2\"},{\"hovertemplate\":\"Party=EELV<br>Journal=Le Figaro<br>year=%{x}<br>Cosine Similarity=%{y}<extra></extra>\",\"legendgroup\":\"EELV\",\"line\":{\"color\":\"green\",\"dash\":\"solid\"},\"marker\":{\"symbol\":\"circle\"},\"mode\":\"lines\",\"name\":\"EELV\",\"orientation\":\"v\",\"showlegend\":true,\"type\":\"scatter\",\"x\":[2006,2007,2008,2009,2010,2011],\"xaxis\":\"x\",\"y\":[0.06900808215141296,0.06144362688064575,0.06269937008619308,0.06118795648217201,0.05620528385043144,0.0666234940290451],\"yaxis\":\"y\"},{\"hovertemplate\":\"Party=EELV<br>Journal=Le Monde<br>year=%{x}<br>Cosine Similarity=%{y}<extra></extra>\",\"legendgroup\":\"EELV\",\"line\":{\"color\":\"green\",\"dash\":\"solid\"},\"marker\":{\"symbol\":\"circle\"},\"mode\":\"lines\",\"name\":\"EELV\",\"orientation\":\"v\",\"showlegend\":false,\"type\":\"scatter\",\"x\":[2006,2007,2008,2009,2010,2011],\"xaxis\":\"x2\",\"y\":[0.07608085870742798,0.07713740319013596,0.07889814674854279,0.08330418914556503,0.08135049790143967,0.07858427613973618],\"yaxis\":\"y2\"},{\"hovertemplate\":\"Party=MoDem/EM<br>Journal=Le Figaro<br>year=%{x}<br>Cosine Similarity=%{y}<extra></extra>\",\"legendgroup\":\"MoDem/EM\",\"line\":{\"color\":\"orange\",\"dash\":\"solid\"},\"marker\":{\"symbol\":\"circle\"},\"mode\":\"lines\",\"name\":\"MoDem/EM\",\"orientation\":\"v\",\"showlegend\":true,\"type\":\"scatter\",\"x\":[2006,2007,2008,2009,2010,2011],\"xaxis\":\"x\",\"y\":[0.07605558633804321,0.06843940168619156,0.06742987781763077,0.06571231782436371,0.06052793934941292,0.07183178514242172],\"yaxis\":\"y\"},{\"hovertemplate\":\"Party=MoDem/EM<br>Journal=Le Monde<br>year=%{x}<br>Cosine Similarity=%{y}<extra></extra>\",\"legendgroup\":\"MoDem/EM\",\"line\":{\"color\":\"orange\",\"dash\":\"solid\"},\"marker\":{\"symbol\":\"circle\"},\"mode\":\"lines\",\"name\":\"MoDem/EM\",\"orientation\":\"v\",\"showlegend\":false,\"type\":\"scatter\",\"x\":[2006,2007,2008,2009,2010,2011],\"xaxis\":\"x2\",\"y\":[0.08414161205291748,0.08694484829902649,0.08635221421718597,0.09170717746019363,0.09097891300916672,0.08594198524951935],\"yaxis\":\"y2\"},{\"hovertemplate\":\"Party=PCF/PG/LFI<br>Journal=Le Figaro<br>year=%{x}<br>Cosine Similarity=%{y}<extra></extra>\",\"legendgroup\":\"PCF/PG/LFI\",\"line\":{\"color\":\"red\",\"dash\":\"solid\"},\"marker\":{\"symbol\":\"circle\"},\"mode\":\"lines\",\"name\":\"PCF/PG/LFI\",\"orientation\":\"v\",\"showlegend\":true,\"type\":\"scatter\",\"x\":[2006,2007,2008,2009,2010,2011],\"xaxis\":\"x\",\"y\":[0.06370265036821365,0.05625671148300171,0.05539215728640556,0.05349549651145935,0.050880685448646545,0.059030722826719284],\"yaxis\":\"y\"},{\"hovertemplate\":\"Party=PCF/PG/LFI<br>Journal=Le Monde<br>year=%{x}<br>Cosine Similarity=%{y}<extra></extra>\",\"legendgroup\":\"PCF/PG/LFI\",\"line\":{\"color\":\"red\",\"dash\":\"solid\"},\"marker\":{\"symbol\":\"circle\"},\"mode\":\"lines\",\"name\":\"PCF/PG/LFI\",\"orientation\":\"v\",\"showlegend\":false,\"type\":\"scatter\",\"x\":[2006,2007,2008,2009,2010,2011],\"xaxis\":\"x2\",\"y\":[0.07084072381258011,0.07008451968431473,0.06824282556772232,0.07185652107000351,0.07200438529253006,0.06887344270944595],\"yaxis\":\"y2\"},{\"hovertemplate\":\"Party=PS<br>Journal=Le Figaro<br>year=%{x}<br>Cosine Similarity=%{y}<extra></extra>\",\"legendgroup\":\"PS\",\"line\":{\"color\":\"pink\",\"dash\":\"solid\"},\"marker\":{\"symbol\":\"circle\"},\"mode\":\"lines\",\"name\":\"PS\",\"orientation\":\"v\",\"showlegend\":true,\"type\":\"scatter\",\"x\":[2006,2007,2008,2009,2010,2011],\"xaxis\":\"x\",\"y\":[0.06910564005374908,0.059906184673309326,0.06017562001943588,0.05859379842877388,0.054238349199295044,0.06394883990287781],\"yaxis\":\"y\"},{\"hovertemplate\":\"Party=PS<br>Journal=Le Monde<br>year=%{x}<br>Cosine Similarity=%{y}<extra></extra>\",\"legendgroup\":\"PS\",\"line\":{\"color\":\"pink\",\"dash\":\"solid\"},\"marker\":{\"symbol\":\"circle\"},\"mode\":\"lines\",\"name\":\"PS\",\"orientation\":\"v\",\"showlegend\":false,\"type\":\"scatter\",\"x\":[2006,2007,2008,2009,2010,2011],\"xaxis\":\"x2\",\"y\":[0.07676224410533905,0.07716476172208786,0.07776309549808502,0.0814494714140892,0.08152969926595688,0.07767363637685776],\"yaxis\":\"y2\"},{\"hovertemplate\":\"Party=RPR/UMP/LR<br>Journal=Le Figaro<br>year=%{x}<br>Cosine Similarity=%{y}<extra></extra>\",\"legendgroup\":\"RPR/UMP/LR\",\"line\":{\"color\":\"blue\",\"dash\":\"solid\"},\"marker\":{\"symbol\":\"circle\"},\"mode\":\"lines\",\"name\":\"RPR/UMP/LR\",\"orientation\":\"v\",\"showlegend\":true,\"type\":\"scatter\",\"x\":[2006,2007,2008,2009,2010,2011],\"xaxis\":\"x\",\"y\":[0.07205911725759506,0.06389005482196808,0.062117524445056915,0.06108427792787552,0.056240346282720566,0.06764284521341324],\"yaxis\":\"y\"},{\"hovertemplate\":\"Party=RPR/UMP/LR<br>Journal=Le Monde<br>year=%{x}<br>Cosine Similarity=%{y}<extra></extra>\",\"legendgroup\":\"RPR/UMP/LR\",\"line\":{\"color\":\"blue\",\"dash\":\"solid\"},\"marker\":{\"symbol\":\"circle\"},\"mode\":\"lines\",\"name\":\"RPR/UMP/LR\",\"orientation\":\"v\",\"showlegend\":false,\"type\":\"scatter\",\"x\":[2006,2007,2008,2009,2010,2011],\"xaxis\":\"x2\",\"y\":[0.07908796519041061,0.08135200291872025,0.07943910360336304,0.08412790298461914,0.083590567111969,0.08030680567026138],\"yaxis\":\"y2\"}],                        {\"annotations\":[{\"font\":{},\"showarrow\":false,\"text\":\"Journal=Le Figaro\",\"x\":0.245,\"xanchor\":\"center\",\"xref\":\"paper\",\"y\":1.0,\"yanchor\":\"bottom\",\"yref\":\"paper\"},{\"font\":{},\"showarrow\":false,\"text\":\"Journal=Le Monde\",\"x\":0.755,\"xanchor\":\"center\",\"xref\":\"paper\",\"y\":1.0,\"yanchor\":\"bottom\",\"yref\":\"paper\"}],\"legend\":{\"title\":{\"text\":\"Party\"},\"tracegroupgap\":0},\"template\":{\"data\":{\"bar\":[{\"error_x\":{\"color\":\"#2a3f5f\"},\"error_y\":{\"color\":\"#2a3f5f\"},\"marker\":{\"line\":{\"color\":\"#E5ECF6\",\"width\":0.5},\"pattern\":{\"fillmode\":\"overlay\",\"size\":10,\"solidity\":0.2}},\"type\":\"bar\"}],\"barpolar\":[{\"marker\":{\"line\":{\"color\":\"#E5ECF6\",\"width\":0.5},\"pattern\":{\"fillmode\":\"overlay\",\"size\":10,\"solidity\":0.2}},\"type\":\"barpolar\"}],\"carpet\":[{\"aaxis\":{\"endlinecolor\":\"#2a3f5f\",\"gridcolor\":\"white\",\"linecolor\":\"white\",\"minorgridcolor\":\"white\",\"startlinecolor\":\"#2a3f5f\"},\"baxis\":{\"endlinecolor\":\"#2a3f5f\",\"gridcolor\":\"white\",\"linecolor\":\"white\",\"minorgridcolor\":\"white\",\"startlinecolor\":\"#2a3f5f\"},\"type\":\"carpet\"}],\"choropleth\":[{\"colorbar\":{\"outlinewidth\":0,\"ticks\":\"\"},\"type\":\"choropleth\"}],\"contour\":[{\"colorbar\":{\"outlinewidth\":0,\"ticks\":\"\"},\"colorscale\":[[0.0,\"#0d0887\"],[0.1111111111111111,\"#46039f\"],[0.2222222222222222,\"#7201a8\"],[0.3333333333333333,\"#9c179e\"],[0.4444444444444444,\"#bd3786\"],[0.5555555555555556,\"#d8576b\"],[0.6666666666666666,\"#ed7953\"],[0.7777777777777778,\"#fb9f3a\"],[0.8888888888888888,\"#fdca26\"],[1.0,\"#f0f921\"]],\"type\":\"contour\"}],\"contourcarpet\":[{\"colorbar\":{\"outlinewidth\":0,\"ticks\":\"\"},\"type\":\"contourcarpet\"}],\"heatmap\":[{\"colorbar\":{\"outlinewidth\":0,\"ticks\":\"\"},\"colorscale\":[[0.0,\"#0d0887\"],[0.1111111111111111,\"#46039f\"],[0.2222222222222222,\"#7201a8\"],[0.3333333333333333,\"#9c179e\"],[0.4444444444444444,\"#bd3786\"],[0.5555555555555556,\"#d8576b\"],[0.6666666666666666,\"#ed7953\"],[0.7777777777777778,\"#fb9f3a\"],[0.8888888888888888,\"#fdca26\"],[1.0,\"#f0f921\"]],\"type\":\"heatmap\"}],\"heatmapgl\":[{\"colorbar\":{\"outlinewidth\":0,\"ticks\":\"\"},\"colorscale\":[[0.0,\"#0d0887\"],[0.1111111111111111,\"#46039f\"],[0.2222222222222222,\"#7201a8\"],[0.3333333333333333,\"#9c179e\"],[0.4444444444444444,\"#bd3786\"],[0.5555555555555556,\"#d8576b\"],[0.6666666666666666,\"#ed7953\"],[0.7777777777777778,\"#fb9f3a\"],[0.8888888888888888,\"#fdca26\"],[1.0,\"#f0f921\"]],\"type\":\"heatmapgl\"}],\"histogram\":[{\"marker\":{\"pattern\":{\"fillmode\":\"overlay\",\"size\":10,\"solidity\":0.2}},\"type\":\"histogram\"}],\"histogram2d\":[{\"colorbar\":{\"outlinewidth\":0,\"ticks\":\"\"},\"colorscale\":[[0.0,\"#0d0887\"],[0.1111111111111111,\"#46039f\"],[0.2222222222222222,\"#7201a8\"],[0.3333333333333333,\"#9c179e\"],[0.4444444444444444,\"#bd3786\"],[0.5555555555555556,\"#d8576b\"],[0.6666666666666666,\"#ed7953\"],[0.7777777777777778,\"#fb9f3a\"],[0.8888888888888888,\"#fdca26\"],[1.0,\"#f0f921\"]],\"type\":\"histogram2d\"}],\"histogram2dcontour\":[{\"colorbar\":{\"outlinewidth\":0,\"ticks\":\"\"},\"colorscale\":[[0.0,\"#0d0887\"],[0.1111111111111111,\"#46039f\"],[0.2222222222222222,\"#7201a8\"],[0.3333333333333333,\"#9c179e\"],[0.4444444444444444,\"#bd3786\"],[0.5555555555555556,\"#d8576b\"],[0.6666666666666666,\"#ed7953\"],[0.7777777777777778,\"#fb9f3a\"],[0.8888888888888888,\"#fdca26\"],[1.0,\"#f0f921\"]],\"type\":\"histogram2dcontour\"}],\"mesh3d\":[{\"colorbar\":{\"outlinewidth\":0,\"ticks\":\"\"},\"type\":\"mesh3d\"}],\"parcoords\":[{\"line\":{\"colorbar\":{\"outlinewidth\":0,\"ticks\":\"\"}},\"type\":\"parcoords\"}],\"pie\":[{\"automargin\":true,\"type\":\"pie\"}],\"scatter\":[{\"marker\":{\"colorbar\":{\"outlinewidth\":0,\"ticks\":\"\"}},\"type\":\"scatter\"}],\"scatter3d\":[{\"line\":{\"colorbar\":{\"outlinewidth\":0,\"ticks\":\"\"}},\"marker\":{\"colorbar\":{\"outlinewidth\":0,\"ticks\":\"\"}},\"type\":\"scatter3d\"}],\"scattercarpet\":[{\"marker\":{\"colorbar\":{\"outlinewidth\":0,\"ticks\":\"\"}},\"type\":\"scattercarpet\"}],\"scattergeo\":[{\"marker\":{\"colorbar\":{\"outlinewidth\":0,\"ticks\":\"\"}},\"type\":\"scattergeo\"}],\"scattergl\":[{\"marker\":{\"colorbar\":{\"outlinewidth\":0,\"ticks\":\"\"}},\"type\":\"scattergl\"}],\"scattermapbox\":[{\"marker\":{\"colorbar\":{\"outlinewidth\":0,\"ticks\":\"\"}},\"type\":\"scattermapbox\"}],\"scatterpolar\":[{\"marker\":{\"colorbar\":{\"outlinewidth\":0,\"ticks\":\"\"}},\"type\":\"scatterpolar\"}],\"scatterpolargl\":[{\"marker\":{\"colorbar\":{\"outlinewidth\":0,\"ticks\":\"\"}},\"type\":\"scatterpolargl\"}],\"scatterternary\":[{\"marker\":{\"colorbar\":{\"outlinewidth\":0,\"ticks\":\"\"}},\"type\":\"scatterternary\"}],\"surface\":[{\"colorbar\":{\"outlinewidth\":0,\"ticks\":\"\"},\"colorscale\":[[0.0,\"#0d0887\"],[0.1111111111111111,\"#46039f\"],[0.2222222222222222,\"#7201a8\"],[0.3333333333333333,\"#9c179e\"],[0.4444444444444444,\"#bd3786\"],[0.5555555555555556,\"#d8576b\"],[0.6666666666666666,\"#ed7953\"],[0.7777777777777778,\"#fb9f3a\"],[0.8888888888888888,\"#fdca26\"],[1.0,\"#f0f921\"]],\"type\":\"surface\"}],\"table\":[{\"cells\":{\"fill\":{\"color\":\"#EBF0F8\"},\"line\":{\"color\":\"white\"}},\"header\":{\"fill\":{\"color\":\"#C8D4E3\"},\"line\":{\"color\":\"white\"}},\"type\":\"table\"}]},\"layout\":{\"annotationdefaults\":{\"arrowcolor\":\"#2a3f5f\",\"arrowhead\":0,\"arrowwidth\":1},\"autotypenumbers\":\"strict\",\"coloraxis\":{\"colorbar\":{\"outlinewidth\":0,\"ticks\":\"\"}},\"colorscale\":{\"diverging\":[[0,\"#8e0152\"],[0.1,\"#c51b7d\"],[0.2,\"#de77ae\"],[0.3,\"#f1b6da\"],[0.4,\"#fde0ef\"],[0.5,\"#f7f7f7\"],[0.6,\"#e6f5d0\"],[0.7,\"#b8e186\"],[0.8,\"#7fbc41\"],[0.9,\"#4d9221\"],[1,\"#276419\"]],\"sequential\":[[0.0,\"#0d0887\"],[0.1111111111111111,\"#46039f\"],[0.2222222222222222,\"#7201a8\"],[0.3333333333333333,\"#9c179e\"],[0.4444444444444444,\"#bd3786\"],[0.5555555555555556,\"#d8576b\"],[0.6666666666666666,\"#ed7953\"],[0.7777777777777778,\"#fb9f3a\"],[0.8888888888888888,\"#fdca26\"],[1.0,\"#f0f921\"]],\"sequentialminus\":[[0.0,\"#0d0887\"],[0.1111111111111111,\"#46039f\"],[0.2222222222222222,\"#7201a8\"],[0.3333333333333333,\"#9c179e\"],[0.4444444444444444,\"#bd3786\"],[0.5555555555555556,\"#d8576b\"],[0.6666666666666666,\"#ed7953\"],[0.7777777777777778,\"#fb9f3a\"],[0.8888888888888888,\"#fdca26\"],[1.0,\"#f0f921\"]]},\"colorway\":[\"#636efa\",\"#EF553B\",\"#00cc96\",\"#ab63fa\",\"#FFA15A\",\"#19d3f3\",\"#FF6692\",\"#B6E880\",\"#FF97FF\",\"#FECB52\"],\"font\":{\"color\":\"#2a3f5f\"},\"geo\":{\"bgcolor\":\"white\",\"lakecolor\":\"white\",\"landcolor\":\"#E5ECF6\",\"showlakes\":true,\"showland\":true,\"subunitcolor\":\"white\"},\"hoverlabel\":{\"align\":\"left\"},\"hovermode\":\"closest\",\"mapbox\":{\"style\":\"light\"},\"paper_bgcolor\":\"white\",\"plot_bgcolor\":\"#E5ECF6\",\"polar\":{\"angularaxis\":{\"gridcolor\":\"white\",\"linecolor\":\"white\",\"ticks\":\"\"},\"bgcolor\":\"#E5ECF6\",\"radialaxis\":{\"gridcolor\":\"white\",\"linecolor\":\"white\",\"ticks\":\"\"}},\"scene\":{\"xaxis\":{\"backgroundcolor\":\"#E5ECF6\",\"gridcolor\":\"white\",\"gridwidth\":2,\"linecolor\":\"white\",\"showbackground\":true,\"ticks\":\"\",\"zerolinecolor\":\"white\"},\"yaxis\":{\"backgroundcolor\":\"#E5ECF6\",\"gridcolor\":\"white\",\"gridwidth\":2,\"linecolor\":\"white\",\"showbackground\":true,\"ticks\":\"\",\"zerolinecolor\":\"white\"},\"zaxis\":{\"backgroundcolor\":\"#E5ECF6\",\"gridcolor\":\"white\",\"gridwidth\":2,\"linecolor\":\"white\",\"showbackground\":true,\"ticks\":\"\",\"zerolinecolor\":\"white\"}},\"shapedefaults\":{\"line\":{\"color\":\"#2a3f5f\"}},\"ternary\":{\"aaxis\":{\"gridcolor\":\"white\",\"linecolor\":\"white\",\"ticks\":\"\"},\"baxis\":{\"gridcolor\":\"white\",\"linecolor\":\"white\",\"ticks\":\"\"},\"bgcolor\":\"#E5ECF6\",\"caxis\":{\"gridcolor\":\"white\",\"linecolor\":\"white\",\"ticks\":\"\"}},\"title\":{\"x\":0.05},\"xaxis\":{\"automargin\":true,\"gridcolor\":\"white\",\"linecolor\":\"white\",\"ticks\":\"\",\"title\":{\"standoff\":15},\"zerolinecolor\":\"white\",\"zerolinewidth\":2},\"yaxis\":{\"automargin\":true,\"gridcolor\":\"white\",\"linecolor\":\"white\",\"ticks\":\"\",\"title\":{\"standoff\":15},\"zerolinecolor\":\"white\",\"zerolinewidth\":2}}},\"title\":{\"text\":\"TF-IDF - Manifesto 2007\"},\"xaxis\":{\"anchor\":\"y\",\"domain\":[0.0,0.49],\"title\":{\"text\":\"year\"}},\"xaxis2\":{\"anchor\":\"y2\",\"domain\":[0.51,1.0],\"matches\":\"x\",\"title\":{\"text\":\"year\"}},\"yaxis\":{\"anchor\":\"x\",\"domain\":[0.0,1.0],\"title\":{\"text\":\"Cosine Similarity\"}},\"yaxis2\":{\"anchor\":\"x2\",\"domain\":[0.0,1.0],\"matches\":\"y\",\"showticklabels\":false}},                        {\"responsive\": true}                    ).then(function(){\n",
       "                            \n",
       "var gd = document.getElementById('89f19bfc-531a-4868-96b7-5e29a59ad6a8');\n",
       "var x = new MutationObserver(function (mutations, observer) {{\n",
       "        var display = window.getComputedStyle(gd).display;\n",
       "        if (!display || display === 'none') {{\n",
       "            console.log([gd, 'removed!']);\n",
       "            Plotly.purge(gd);\n",
       "            observer.disconnect();\n",
       "        }}\n",
       "}});\n",
       "\n",
       "// Listen for the removal of the full notebook cells\n",
       "var notebookContainer = gd.closest('#notebook-container');\n",
       "if (notebookContainer) {{\n",
       "    x.observe(notebookContainer, {childList: true});\n",
       "}}\n",
       "\n",
       "// Listen for the clearing of the current output cell\n",
       "var outputEl = gd.closest('.output');\n",
       "if (outputEl) {{\n",
       "    x.observe(outputEl, {childList: true});\n",
       "}}\n",
       "\n",
       "                        })                };                });            </script>        </div>"
      ]
     },
     "metadata": {},
     "output_type": "display_data"
    }
   ],
   "source": [
    "px.line(tmp2007,\n",
    "        x='annee',\n",
    "        y=tmp2007.columns[3:],\n",
    "        facet_col='partyname',\n",
    "        labels={'partyname':'Journal','variable':'Party','value':'Cosine Similarity','annee':'year'},\n",
    "        title='TF-IDF - Manifesto 2007',\n",
    "        color_discrete_map=dict_color\n",
    "       )"
   ]
  },
  {
   "cell_type": "code",
   "execution_count": 51,
   "id": "bf30064d",
   "metadata": {
    "scrolled": true
   },
   "outputs": [
    {
     "name": "stderr",
     "output_type": "stream",
     "text": [
      "2021-12-01 12:42:47,399 : INFO : adding document #0 to Dictionary(0 unique tokens: [])\n",
      "2021-12-01 12:42:50,393 : INFO : adding document #10000 to Dictionary(21518 unique tokens: ['abaissement', 'abandon', 'abattement', 'abolir', 'abolition']...)\n",
      "2021-12-01 12:42:52,455 : INFO : adding document #20000 to Dictionary(22643 unique tokens: ['abaissement', 'abandon', 'abattement', 'abolir', 'abolition']...)\n",
      "2021-12-01 12:42:52,509 : INFO : built Dictionary(22671 unique tokens: ['abaissement', 'abandon', 'abattement', 'abolir', 'abolition']...) from 20555 documents (total 4312953 corpus positions)\n",
      "2021-12-01 12:42:52,510 : INFO : Dictionary lifecycle event {'msg': \"built Dictionary(22671 unique tokens: ['abaissement', 'abandon', 'abattement', 'abolir', 'abolition']...) from 20555 documents (total 4312953 corpus positions)\", 'datetime': '2021-12-01T12:42:52.510465', 'gensim': '4.1.2', 'python': '3.8.8 (default, Apr 13 2021, 12:59:45) \\n[Clang 10.0.0 ]', 'platform': 'macOS-10.16-x86_64-i386-64bit', 'event': 'created'}\n",
      "2021-12-01 12:42:55,697 : INFO : collecting document frequencies\n",
      "2021-12-01 12:42:55,698 : INFO : PROGRESS: processing document #0\n",
      "2021-12-01 12:42:56,023 : INFO : PROGRESS: processing document #10000\n",
      "2021-12-01 12:42:56,345 : INFO : PROGRESS: processing document #20000\n",
      "2021-12-01 12:42:56,404 : INFO : TfidfModel lifecycle event {'msg': 'calculated IDF weights for 20555 documents and 22671 features (3203403 matrix non-zeros)', 'datetime': '2021-12-01T12:42:56.404287', 'gensim': '4.1.2', 'python': '3.8.8 (default, Apr 13 2021, 12:59:45) \\n[Clang 10.0.0 ]', 'platform': 'macOS-10.16-x86_64-i386-64bit', 'event': 'initialize'}\n",
      "2021-12-01 12:42:56,410 : INFO : creating sparse index\n",
      "2021-12-01 12:42:56,413 : INFO : creating sparse matrix from corpus\n",
      "2021-12-01 12:42:56,425 : INFO : PROGRESS: at document #0\n",
      "2021-12-01 12:43:04,921 : INFO : PROGRESS: at document #10000\n",
      "2021-12-01 12:43:10,903 : INFO : PROGRESS: at document #20000\n",
      "2021-12-01 12:43:11,637 : INFO : created <20555x22671 sparse matrix of type '<class 'numpy.float32'>'\n",
      "\twith 3203403 stored elements in Compressed Sparse Row format>\n"
     ]
    },
    {
     "name": "stdout",
     "output_type": "stream",
     "text": [
      "CPU times: user 43 s, sys: 1.56 s, total: 44.6 s\n",
      "Wall time: 47 s\n"
     ]
    }
   ],
   "source": [
    "%%time\n",
    "\n",
    "sims2012 = tfidf(df2012, n_party=6)"
   ]
  },
  {
   "cell_type": "code",
   "execution_count": 66,
   "id": "e0943e9e",
   "metadata": {},
   "outputs": [],
   "source": [
    "tmp2012 = sims2012.iloc[6:,2:].groupby(['partyname','annee']).mean().reset_index()"
   ]
  },
  {
   "cell_type": "code",
   "execution_count": 67,
   "id": "d640c704",
   "metadata": {},
   "outputs": [
    {
     "data": {
      "application/vnd.plotly.v1+json": {
       "config": {
        "plotlyServerURL": "https://plot.ly"
       },
       "data": [
        {
         "hovertemplate": "Party=PCF/PG/LFI<br>Journal=Le Figaro<br>year=%{x}<br>Cosine Similarity=%{y}<extra></extra>",
         "legendgroup": "PCF/PG/LFI",
         "line": {
          "color": "red",
          "dash": "solid"
         },
         "marker": {
          "symbol": "circle"
         },
         "mode": "lines",
         "name": "PCF/PG/LFI",
         "orientation": "v",
         "showlegend": true,
         "type": "scatter",
         "x": [
          2011,
          2012,
          2013,
          2014,
          2015,
          2016
         ],
         "xaxis": "x",
         "y": [
          0.053930383175611496,
          0.0529322475194931,
          0.05625103414058685,
          0.05057453364133835,
          0.045508451759815216,
          0.04799283668398857
         ],
         "yaxis": "y"
        },
        {
         "hovertemplate": "Party=PCF/PG/LFI<br>Journal=Le Monde<br>year=%{x}<br>Cosine Similarity=%{y}<extra></extra>",
         "legendgroup": "PCF/PG/LFI",
         "line": {
          "color": "red",
          "dash": "solid"
         },
         "marker": {
          "symbol": "circle"
         },
         "mode": "lines",
         "name": "PCF/PG/LFI",
         "orientation": "v",
         "showlegend": false,
         "type": "scatter",
         "x": [
          2011,
          2012,
          2013,
          2014,
          2015,
          2016
         ],
         "xaxis": "x2",
         "y": [
          0.06548116356134415,
          0.06410153210163116,
          0.06744159758090973,
          0.0675889328122139,
          0.06655563414096832,
          0.0706007182598114
         ],
         "yaxis": "y2"
        },
        {
         "hovertemplate": "Party=EELV<br>Journal=Le Figaro<br>year=%{x}<br>Cosine Similarity=%{y}<extra></extra>",
         "legendgroup": "EELV",
         "line": {
          "color": "green",
          "dash": "solid"
         },
         "marker": {
          "symbol": "circle"
         },
         "mode": "lines",
         "name": "EELV",
         "orientation": "v",
         "showlegend": true,
         "type": "scatter",
         "x": [
          2011,
          2012,
          2013,
          2014,
          2015,
          2016
         ],
         "xaxis": "x",
         "y": [
          0.05579860508441925,
          0.054462332278490067,
          0.058709241449832916,
          0.05274366959929466,
          0.04805994778871536,
          0.04928824305534363
         ],
         "yaxis": "y"
        },
        {
         "hovertemplate": "Party=EELV<br>Journal=Le Monde<br>year=%{x}<br>Cosine Similarity=%{y}<extra></extra>",
         "legendgroup": "EELV",
         "line": {
          "color": "green",
          "dash": "solid"
         },
         "marker": {
          "symbol": "circle"
         },
         "mode": "lines",
         "name": "EELV",
         "orientation": "v",
         "showlegend": false,
         "type": "scatter",
         "x": [
          2011,
          2012,
          2013,
          2014,
          2015,
          2016
         ],
         "xaxis": "x2",
         "y": [
          0.06755222380161285,
          0.06492846459150314,
          0.07072073221206665,
          0.07025062292814255,
          0.06995382905006409,
          0.07166280597448349
         ],
         "yaxis": "y2"
        },
        {
         "hovertemplate": "Party=PS<br>Journal=Le Figaro<br>year=%{x}<br>Cosine Similarity=%{y}<extra></extra>",
         "legendgroup": "PS",
         "line": {
          "color": "pink",
          "dash": "solid"
         },
         "marker": {
          "symbol": "circle"
         },
         "mode": "lines",
         "name": "PS",
         "orientation": "v",
         "showlegend": true,
         "type": "scatter",
         "x": [
          2011,
          2012,
          2013,
          2014,
          2015,
          2016
         ],
         "xaxis": "x",
         "y": [
          0.042642753571271896,
          0.04294116795063019,
          0.04584289342164993,
          0.04069541394710541,
          0.03626777231693268,
          0.03931473195552826
         ],
         "yaxis": "y"
        },
        {
         "hovertemplate": "Party=PS<br>Journal=Le Monde<br>year=%{x}<br>Cosine Similarity=%{y}<extra></extra>",
         "legendgroup": "PS",
         "line": {
          "color": "pink",
          "dash": "solid"
         },
         "marker": {
          "symbol": "circle"
         },
         "mode": "lines",
         "name": "PS",
         "orientation": "v",
         "showlegend": false,
         "type": "scatter",
         "x": [
          2011,
          2012,
          2013,
          2014,
          2015,
          2016
         ],
         "xaxis": "x2",
         "y": [
          0.050624556839466095,
          0.05049582198262215,
          0.05515505000948906,
          0.05440838262438774,
          0.05323528125882149,
          0.056882116943597794
         ],
         "yaxis": "y2"
        },
        {
         "hovertemplate": "Party=MoDem/EM<br>Journal=Le Figaro<br>year=%{x}<br>Cosine Similarity=%{y}<extra></extra>",
         "legendgroup": "MoDem/EM",
         "line": {
          "color": "orange",
          "dash": "solid"
         },
         "marker": {
          "symbol": "circle"
         },
         "mode": "lines",
         "name": "MoDem/EM",
         "orientation": "v",
         "showlegend": true,
         "type": "scatter",
         "x": [
          2011,
          2012,
          2013,
          2014,
          2015,
          2016
         ],
         "xaxis": "x",
         "y": [
          0.06020336225628853,
          0.05831318348646164,
          0.061150845140218735,
          0.05626499652862549,
          0.050515253096818924,
          0.052333664149045944
         ],
         "yaxis": "y"
        },
        {
         "hovertemplate": "Party=MoDem/EM<br>Journal=Le Monde<br>year=%{x}<br>Cosine Similarity=%{y}<extra></extra>",
         "legendgroup": "MoDem/EM",
         "line": {
          "color": "orange",
          "dash": "solid"
         },
         "marker": {
          "symbol": "circle"
         },
         "mode": "lines",
         "name": "MoDem/EM",
         "orientation": "v",
         "showlegend": false,
         "type": "scatter",
         "x": [
          2011,
          2012,
          2013,
          2014,
          2015,
          2016
         ],
         "xaxis": "x2",
         "y": [
          0.0723264142870903,
          0.0706348642706871,
          0.07470107078552246,
          0.07567351311445236,
          0.07468200474977493,
          0.07803261280059814
         ],
         "yaxis": "y2"
        },
        {
         "hovertemplate": "Party=RPR/UMP/LR<br>Journal=Le Figaro<br>year=%{x}<br>Cosine Similarity=%{y}<extra></extra>",
         "legendgroup": "RPR/UMP/LR",
         "line": {
          "color": "blue",
          "dash": "solid"
         },
         "marker": {
          "symbol": "circle"
         },
         "mode": "lines",
         "name": "RPR/UMP/LR",
         "orientation": "v",
         "showlegend": true,
         "type": "scatter",
         "x": [
          2011,
          2012,
          2013,
          2014,
          2015,
          2016
         ],
         "xaxis": "x",
         "y": [
          0.05338536202907562,
          0.049701839685440063,
          0.053030259907245636,
          0.04942307621240616,
          0.04518376290798187,
          0.046720169484615326
         ],
         "yaxis": "y"
        },
        {
         "hovertemplate": "Party=RPR/UMP/LR<br>Journal=Le Monde<br>year=%{x}<br>Cosine Similarity=%{y}<extra></extra>",
         "legendgroup": "RPR/UMP/LR",
         "line": {
          "color": "blue",
          "dash": "solid"
         },
         "marker": {
          "symbol": "circle"
         },
         "mode": "lines",
         "name": "RPR/UMP/LR",
         "orientation": "v",
         "showlegend": false,
         "type": "scatter",
         "x": [
          2011,
          2012,
          2013,
          2014,
          2015,
          2016
         ],
         "xaxis": "x2",
         "y": [
          0.06219853460788727,
          0.05894296616315842,
          0.06263889372348785,
          0.06443442404270172,
          0.06495367735624313,
          0.06681816279888153
         ],
         "yaxis": "y2"
        },
        {
         "hovertemplate": "Party=FN<br>Journal=Le Figaro<br>year=%{x}<br>Cosine Similarity=%{y}<extra></extra>",
         "legendgroup": "FN",
         "line": {
          "color": "darkslateblue",
          "dash": "solid"
         },
         "marker": {
          "symbol": "circle"
         },
         "mode": "lines",
         "name": "FN",
         "orientation": "v",
         "showlegend": true,
         "type": "scatter",
         "x": [
          2011,
          2012,
          2013,
          2014,
          2015,
          2016
         ],
         "xaxis": "x",
         "y": [
          0.047548990696668625,
          0.04561794921755791,
          0.04997395724058151,
          0.043126430362463,
          0.04032590240240097,
          0.041782815009355545
         ],
         "yaxis": "y"
        },
        {
         "hovertemplate": "Party=FN<br>Journal=Le Monde<br>year=%{x}<br>Cosine Similarity=%{y}<extra></extra>",
         "legendgroup": "FN",
         "line": {
          "color": "darkslateblue",
          "dash": "solid"
         },
         "marker": {
          "symbol": "circle"
         },
         "mode": "lines",
         "name": "FN",
         "orientation": "v",
         "showlegend": false,
         "type": "scatter",
         "x": [
          2011,
          2012,
          2013,
          2014,
          2015,
          2016
         ],
         "xaxis": "x2",
         "y": [
          0.05622820556163788,
          0.053208012133836746,
          0.05984627828001976,
          0.05706709995865822,
          0.05828890576958656,
          0.060646552592515945
         ],
         "yaxis": "y2"
        }
       ],
       "layout": {
        "annotations": [
         {
          "font": {},
          "showarrow": false,
          "text": "Journal=Le Figaro",
          "x": 0.245,
          "xanchor": "center",
          "xref": "paper",
          "y": 1,
          "yanchor": "bottom",
          "yref": "paper"
         },
         {
          "font": {},
          "showarrow": false,
          "text": "Journal=Le Monde",
          "x": 0.755,
          "xanchor": "center",
          "xref": "paper",
          "y": 1,
          "yanchor": "bottom",
          "yref": "paper"
         }
        ],
        "legend": {
         "title": {
          "text": "Party"
         },
         "tracegroupgap": 0
        },
        "template": {
         "data": {
          "bar": [
           {
            "error_x": {
             "color": "#2a3f5f"
            },
            "error_y": {
             "color": "#2a3f5f"
            },
            "marker": {
             "line": {
              "color": "#E5ECF6",
              "width": 0.5
             },
             "pattern": {
              "fillmode": "overlay",
              "size": 10,
              "solidity": 0.2
             }
            },
            "type": "bar"
           }
          ],
          "barpolar": [
           {
            "marker": {
             "line": {
              "color": "#E5ECF6",
              "width": 0.5
             },
             "pattern": {
              "fillmode": "overlay",
              "size": 10,
              "solidity": 0.2
             }
            },
            "type": "barpolar"
           }
          ],
          "carpet": [
           {
            "aaxis": {
             "endlinecolor": "#2a3f5f",
             "gridcolor": "white",
             "linecolor": "white",
             "minorgridcolor": "white",
             "startlinecolor": "#2a3f5f"
            },
            "baxis": {
             "endlinecolor": "#2a3f5f",
             "gridcolor": "white",
             "linecolor": "white",
             "minorgridcolor": "white",
             "startlinecolor": "#2a3f5f"
            },
            "type": "carpet"
           }
          ],
          "choropleth": [
           {
            "colorbar": {
             "outlinewidth": 0,
             "ticks": ""
            },
            "type": "choropleth"
           }
          ],
          "contour": [
           {
            "colorbar": {
             "outlinewidth": 0,
             "ticks": ""
            },
            "colorscale": [
             [
              0,
              "#0d0887"
             ],
             [
              0.1111111111111111,
              "#46039f"
             ],
             [
              0.2222222222222222,
              "#7201a8"
             ],
             [
              0.3333333333333333,
              "#9c179e"
             ],
             [
              0.4444444444444444,
              "#bd3786"
             ],
             [
              0.5555555555555556,
              "#d8576b"
             ],
             [
              0.6666666666666666,
              "#ed7953"
             ],
             [
              0.7777777777777778,
              "#fb9f3a"
             ],
             [
              0.8888888888888888,
              "#fdca26"
             ],
             [
              1,
              "#f0f921"
             ]
            ],
            "type": "contour"
           }
          ],
          "contourcarpet": [
           {
            "colorbar": {
             "outlinewidth": 0,
             "ticks": ""
            },
            "type": "contourcarpet"
           }
          ],
          "heatmap": [
           {
            "colorbar": {
             "outlinewidth": 0,
             "ticks": ""
            },
            "colorscale": [
             [
              0,
              "#0d0887"
             ],
             [
              0.1111111111111111,
              "#46039f"
             ],
             [
              0.2222222222222222,
              "#7201a8"
             ],
             [
              0.3333333333333333,
              "#9c179e"
             ],
             [
              0.4444444444444444,
              "#bd3786"
             ],
             [
              0.5555555555555556,
              "#d8576b"
             ],
             [
              0.6666666666666666,
              "#ed7953"
             ],
             [
              0.7777777777777778,
              "#fb9f3a"
             ],
             [
              0.8888888888888888,
              "#fdca26"
             ],
             [
              1,
              "#f0f921"
             ]
            ],
            "type": "heatmap"
           }
          ],
          "heatmapgl": [
           {
            "colorbar": {
             "outlinewidth": 0,
             "ticks": ""
            },
            "colorscale": [
             [
              0,
              "#0d0887"
             ],
             [
              0.1111111111111111,
              "#46039f"
             ],
             [
              0.2222222222222222,
              "#7201a8"
             ],
             [
              0.3333333333333333,
              "#9c179e"
             ],
             [
              0.4444444444444444,
              "#bd3786"
             ],
             [
              0.5555555555555556,
              "#d8576b"
             ],
             [
              0.6666666666666666,
              "#ed7953"
             ],
             [
              0.7777777777777778,
              "#fb9f3a"
             ],
             [
              0.8888888888888888,
              "#fdca26"
             ],
             [
              1,
              "#f0f921"
             ]
            ],
            "type": "heatmapgl"
           }
          ],
          "histogram": [
           {
            "marker": {
             "pattern": {
              "fillmode": "overlay",
              "size": 10,
              "solidity": 0.2
             }
            },
            "type": "histogram"
           }
          ],
          "histogram2d": [
           {
            "colorbar": {
             "outlinewidth": 0,
             "ticks": ""
            },
            "colorscale": [
             [
              0,
              "#0d0887"
             ],
             [
              0.1111111111111111,
              "#46039f"
             ],
             [
              0.2222222222222222,
              "#7201a8"
             ],
             [
              0.3333333333333333,
              "#9c179e"
             ],
             [
              0.4444444444444444,
              "#bd3786"
             ],
             [
              0.5555555555555556,
              "#d8576b"
             ],
             [
              0.6666666666666666,
              "#ed7953"
             ],
             [
              0.7777777777777778,
              "#fb9f3a"
             ],
             [
              0.8888888888888888,
              "#fdca26"
             ],
             [
              1,
              "#f0f921"
             ]
            ],
            "type": "histogram2d"
           }
          ],
          "histogram2dcontour": [
           {
            "colorbar": {
             "outlinewidth": 0,
             "ticks": ""
            },
            "colorscale": [
             [
              0,
              "#0d0887"
             ],
             [
              0.1111111111111111,
              "#46039f"
             ],
             [
              0.2222222222222222,
              "#7201a8"
             ],
             [
              0.3333333333333333,
              "#9c179e"
             ],
             [
              0.4444444444444444,
              "#bd3786"
             ],
             [
              0.5555555555555556,
              "#d8576b"
             ],
             [
              0.6666666666666666,
              "#ed7953"
             ],
             [
              0.7777777777777778,
              "#fb9f3a"
             ],
             [
              0.8888888888888888,
              "#fdca26"
             ],
             [
              1,
              "#f0f921"
             ]
            ],
            "type": "histogram2dcontour"
           }
          ],
          "mesh3d": [
           {
            "colorbar": {
             "outlinewidth": 0,
             "ticks": ""
            },
            "type": "mesh3d"
           }
          ],
          "parcoords": [
           {
            "line": {
             "colorbar": {
              "outlinewidth": 0,
              "ticks": ""
             }
            },
            "type": "parcoords"
           }
          ],
          "pie": [
           {
            "automargin": true,
            "type": "pie"
           }
          ],
          "scatter": [
           {
            "marker": {
             "colorbar": {
              "outlinewidth": 0,
              "ticks": ""
             }
            },
            "type": "scatter"
           }
          ],
          "scatter3d": [
           {
            "line": {
             "colorbar": {
              "outlinewidth": 0,
              "ticks": ""
             }
            },
            "marker": {
             "colorbar": {
              "outlinewidth": 0,
              "ticks": ""
             }
            },
            "type": "scatter3d"
           }
          ],
          "scattercarpet": [
           {
            "marker": {
             "colorbar": {
              "outlinewidth": 0,
              "ticks": ""
             }
            },
            "type": "scattercarpet"
           }
          ],
          "scattergeo": [
           {
            "marker": {
             "colorbar": {
              "outlinewidth": 0,
              "ticks": ""
             }
            },
            "type": "scattergeo"
           }
          ],
          "scattergl": [
           {
            "marker": {
             "colorbar": {
              "outlinewidth": 0,
              "ticks": ""
             }
            },
            "type": "scattergl"
           }
          ],
          "scattermapbox": [
           {
            "marker": {
             "colorbar": {
              "outlinewidth": 0,
              "ticks": ""
             }
            },
            "type": "scattermapbox"
           }
          ],
          "scatterpolar": [
           {
            "marker": {
             "colorbar": {
              "outlinewidth": 0,
              "ticks": ""
             }
            },
            "type": "scatterpolar"
           }
          ],
          "scatterpolargl": [
           {
            "marker": {
             "colorbar": {
              "outlinewidth": 0,
              "ticks": ""
             }
            },
            "type": "scatterpolargl"
           }
          ],
          "scatterternary": [
           {
            "marker": {
             "colorbar": {
              "outlinewidth": 0,
              "ticks": ""
             }
            },
            "type": "scatterternary"
           }
          ],
          "surface": [
           {
            "colorbar": {
             "outlinewidth": 0,
             "ticks": ""
            },
            "colorscale": [
             [
              0,
              "#0d0887"
             ],
             [
              0.1111111111111111,
              "#46039f"
             ],
             [
              0.2222222222222222,
              "#7201a8"
             ],
             [
              0.3333333333333333,
              "#9c179e"
             ],
             [
              0.4444444444444444,
              "#bd3786"
             ],
             [
              0.5555555555555556,
              "#d8576b"
             ],
             [
              0.6666666666666666,
              "#ed7953"
             ],
             [
              0.7777777777777778,
              "#fb9f3a"
             ],
             [
              0.8888888888888888,
              "#fdca26"
             ],
             [
              1,
              "#f0f921"
             ]
            ],
            "type": "surface"
           }
          ],
          "table": [
           {
            "cells": {
             "fill": {
              "color": "#EBF0F8"
             },
             "line": {
              "color": "white"
             }
            },
            "header": {
             "fill": {
              "color": "#C8D4E3"
             },
             "line": {
              "color": "white"
             }
            },
            "type": "table"
           }
          ]
         },
         "layout": {
          "annotationdefaults": {
           "arrowcolor": "#2a3f5f",
           "arrowhead": 0,
           "arrowwidth": 1
          },
          "autotypenumbers": "strict",
          "coloraxis": {
           "colorbar": {
            "outlinewidth": 0,
            "ticks": ""
           }
          },
          "colorscale": {
           "diverging": [
            [
             0,
             "#8e0152"
            ],
            [
             0.1,
             "#c51b7d"
            ],
            [
             0.2,
             "#de77ae"
            ],
            [
             0.3,
             "#f1b6da"
            ],
            [
             0.4,
             "#fde0ef"
            ],
            [
             0.5,
             "#f7f7f7"
            ],
            [
             0.6,
             "#e6f5d0"
            ],
            [
             0.7,
             "#b8e186"
            ],
            [
             0.8,
             "#7fbc41"
            ],
            [
             0.9,
             "#4d9221"
            ],
            [
             1,
             "#276419"
            ]
           ],
           "sequential": [
            [
             0,
             "#0d0887"
            ],
            [
             0.1111111111111111,
             "#46039f"
            ],
            [
             0.2222222222222222,
             "#7201a8"
            ],
            [
             0.3333333333333333,
             "#9c179e"
            ],
            [
             0.4444444444444444,
             "#bd3786"
            ],
            [
             0.5555555555555556,
             "#d8576b"
            ],
            [
             0.6666666666666666,
             "#ed7953"
            ],
            [
             0.7777777777777778,
             "#fb9f3a"
            ],
            [
             0.8888888888888888,
             "#fdca26"
            ],
            [
             1,
             "#f0f921"
            ]
           ],
           "sequentialminus": [
            [
             0,
             "#0d0887"
            ],
            [
             0.1111111111111111,
             "#46039f"
            ],
            [
             0.2222222222222222,
             "#7201a8"
            ],
            [
             0.3333333333333333,
             "#9c179e"
            ],
            [
             0.4444444444444444,
             "#bd3786"
            ],
            [
             0.5555555555555556,
             "#d8576b"
            ],
            [
             0.6666666666666666,
             "#ed7953"
            ],
            [
             0.7777777777777778,
             "#fb9f3a"
            ],
            [
             0.8888888888888888,
             "#fdca26"
            ],
            [
             1,
             "#f0f921"
            ]
           ]
          },
          "colorway": [
           "#636efa",
           "#EF553B",
           "#00cc96",
           "#ab63fa",
           "#FFA15A",
           "#19d3f3",
           "#FF6692",
           "#B6E880",
           "#FF97FF",
           "#FECB52"
          ],
          "font": {
           "color": "#2a3f5f"
          },
          "geo": {
           "bgcolor": "white",
           "lakecolor": "white",
           "landcolor": "#E5ECF6",
           "showlakes": true,
           "showland": true,
           "subunitcolor": "white"
          },
          "hoverlabel": {
           "align": "left"
          },
          "hovermode": "closest",
          "mapbox": {
           "style": "light"
          },
          "paper_bgcolor": "white",
          "plot_bgcolor": "#E5ECF6",
          "polar": {
           "angularaxis": {
            "gridcolor": "white",
            "linecolor": "white",
            "ticks": ""
           },
           "bgcolor": "#E5ECF6",
           "radialaxis": {
            "gridcolor": "white",
            "linecolor": "white",
            "ticks": ""
           }
          },
          "scene": {
           "xaxis": {
            "backgroundcolor": "#E5ECF6",
            "gridcolor": "white",
            "gridwidth": 2,
            "linecolor": "white",
            "showbackground": true,
            "ticks": "",
            "zerolinecolor": "white"
           },
           "yaxis": {
            "backgroundcolor": "#E5ECF6",
            "gridcolor": "white",
            "gridwidth": 2,
            "linecolor": "white",
            "showbackground": true,
            "ticks": "",
            "zerolinecolor": "white"
           },
           "zaxis": {
            "backgroundcolor": "#E5ECF6",
            "gridcolor": "white",
            "gridwidth": 2,
            "linecolor": "white",
            "showbackground": true,
            "ticks": "",
            "zerolinecolor": "white"
           }
          },
          "shapedefaults": {
           "line": {
            "color": "#2a3f5f"
           }
          },
          "ternary": {
           "aaxis": {
            "gridcolor": "white",
            "linecolor": "white",
            "ticks": ""
           },
           "baxis": {
            "gridcolor": "white",
            "linecolor": "white",
            "ticks": ""
           },
           "bgcolor": "#E5ECF6",
           "caxis": {
            "gridcolor": "white",
            "linecolor": "white",
            "ticks": ""
           }
          },
          "title": {
           "x": 0.05
          },
          "xaxis": {
           "automargin": true,
           "gridcolor": "white",
           "linecolor": "white",
           "ticks": "",
           "title": {
            "standoff": 15
           },
           "zerolinecolor": "white",
           "zerolinewidth": 2
          },
          "yaxis": {
           "automargin": true,
           "gridcolor": "white",
           "linecolor": "white",
           "ticks": "",
           "title": {
            "standoff": 15
           },
           "zerolinecolor": "white",
           "zerolinewidth": 2
          }
         }
        },
        "title": {
         "text": "TF-IDF - Manifesto 2012"
        },
        "xaxis": {
         "anchor": "y",
         "domain": [
          0,
          0.49
         ],
         "title": {
          "text": "year"
         }
        },
        "xaxis2": {
         "anchor": "y2",
         "domain": [
          0.51,
          1
         ],
         "matches": "x",
         "title": {
          "text": "year"
         }
        },
        "yaxis": {
         "anchor": "x",
         "domain": [
          0,
          1
         ],
         "title": {
          "text": "Cosine Similarity"
         }
        },
        "yaxis2": {
         "anchor": "x2",
         "domain": [
          0,
          1
         ],
         "matches": "y",
         "showticklabels": false
        }
       }
      },
      "text/html": [
       "<div>                            <div id=\"ba19b499-135f-4134-a926-a7873d2dd0a4\" class=\"plotly-graph-div\" style=\"height:525px; width:100%;\"></div>            <script type=\"text/javascript\">                require([\"plotly\"], function(Plotly) {                    window.PLOTLYENV=window.PLOTLYENV || {};                                    if (document.getElementById(\"ba19b499-135f-4134-a926-a7873d2dd0a4\")) {                    Plotly.newPlot(                        \"ba19b499-135f-4134-a926-a7873d2dd0a4\",                        [{\"hovertemplate\":\"Party=PCF/PG/LFI<br>Journal=Le Figaro<br>year=%{x}<br>Cosine Similarity=%{y}<extra></extra>\",\"legendgroup\":\"PCF/PG/LFI\",\"line\":{\"color\":\"red\",\"dash\":\"solid\"},\"marker\":{\"symbol\":\"circle\"},\"mode\":\"lines\",\"name\":\"PCF/PG/LFI\",\"orientation\":\"v\",\"showlegend\":true,\"type\":\"scatter\",\"x\":[2011,2012,2013,2014,2015,2016],\"xaxis\":\"x\",\"y\":[0.053930383175611496,0.0529322475194931,0.05625103414058685,0.05057453364133835,0.045508451759815216,0.04799283668398857],\"yaxis\":\"y\"},{\"hovertemplate\":\"Party=PCF/PG/LFI<br>Journal=Le Monde<br>year=%{x}<br>Cosine Similarity=%{y}<extra></extra>\",\"legendgroup\":\"PCF/PG/LFI\",\"line\":{\"color\":\"red\",\"dash\":\"solid\"},\"marker\":{\"symbol\":\"circle\"},\"mode\":\"lines\",\"name\":\"PCF/PG/LFI\",\"orientation\":\"v\",\"showlegend\":false,\"type\":\"scatter\",\"x\":[2011,2012,2013,2014,2015,2016],\"xaxis\":\"x2\",\"y\":[0.06548116356134415,0.06410153210163116,0.06744159758090973,0.0675889328122139,0.06655563414096832,0.0706007182598114],\"yaxis\":\"y2\"},{\"hovertemplate\":\"Party=EELV<br>Journal=Le Figaro<br>year=%{x}<br>Cosine Similarity=%{y}<extra></extra>\",\"legendgroup\":\"EELV\",\"line\":{\"color\":\"green\",\"dash\":\"solid\"},\"marker\":{\"symbol\":\"circle\"},\"mode\":\"lines\",\"name\":\"EELV\",\"orientation\":\"v\",\"showlegend\":true,\"type\":\"scatter\",\"x\":[2011,2012,2013,2014,2015,2016],\"xaxis\":\"x\",\"y\":[0.05579860508441925,0.054462332278490067,0.058709241449832916,0.05274366959929466,0.04805994778871536,0.04928824305534363],\"yaxis\":\"y\"},{\"hovertemplate\":\"Party=EELV<br>Journal=Le Monde<br>year=%{x}<br>Cosine Similarity=%{y}<extra></extra>\",\"legendgroup\":\"EELV\",\"line\":{\"color\":\"green\",\"dash\":\"solid\"},\"marker\":{\"symbol\":\"circle\"},\"mode\":\"lines\",\"name\":\"EELV\",\"orientation\":\"v\",\"showlegend\":false,\"type\":\"scatter\",\"x\":[2011,2012,2013,2014,2015,2016],\"xaxis\":\"x2\",\"y\":[0.06755222380161285,0.06492846459150314,0.07072073221206665,0.07025062292814255,0.06995382905006409,0.07166280597448349],\"yaxis\":\"y2\"},{\"hovertemplate\":\"Party=PS<br>Journal=Le Figaro<br>year=%{x}<br>Cosine Similarity=%{y}<extra></extra>\",\"legendgroup\":\"PS\",\"line\":{\"color\":\"pink\",\"dash\":\"solid\"},\"marker\":{\"symbol\":\"circle\"},\"mode\":\"lines\",\"name\":\"PS\",\"orientation\":\"v\",\"showlegend\":true,\"type\":\"scatter\",\"x\":[2011,2012,2013,2014,2015,2016],\"xaxis\":\"x\",\"y\":[0.042642753571271896,0.04294116795063019,0.04584289342164993,0.04069541394710541,0.03626777231693268,0.03931473195552826],\"yaxis\":\"y\"},{\"hovertemplate\":\"Party=PS<br>Journal=Le Monde<br>year=%{x}<br>Cosine Similarity=%{y}<extra></extra>\",\"legendgroup\":\"PS\",\"line\":{\"color\":\"pink\",\"dash\":\"solid\"},\"marker\":{\"symbol\":\"circle\"},\"mode\":\"lines\",\"name\":\"PS\",\"orientation\":\"v\",\"showlegend\":false,\"type\":\"scatter\",\"x\":[2011,2012,2013,2014,2015,2016],\"xaxis\":\"x2\",\"y\":[0.050624556839466095,0.05049582198262215,0.05515505000948906,0.05440838262438774,0.05323528125882149,0.056882116943597794],\"yaxis\":\"y2\"},{\"hovertemplate\":\"Party=MoDem/EM<br>Journal=Le Figaro<br>year=%{x}<br>Cosine Similarity=%{y}<extra></extra>\",\"legendgroup\":\"MoDem/EM\",\"line\":{\"color\":\"orange\",\"dash\":\"solid\"},\"marker\":{\"symbol\":\"circle\"},\"mode\":\"lines\",\"name\":\"MoDem/EM\",\"orientation\":\"v\",\"showlegend\":true,\"type\":\"scatter\",\"x\":[2011,2012,2013,2014,2015,2016],\"xaxis\":\"x\",\"y\":[0.06020336225628853,0.05831318348646164,0.061150845140218735,0.05626499652862549,0.050515253096818924,0.052333664149045944],\"yaxis\":\"y\"},{\"hovertemplate\":\"Party=MoDem/EM<br>Journal=Le Monde<br>year=%{x}<br>Cosine Similarity=%{y}<extra></extra>\",\"legendgroup\":\"MoDem/EM\",\"line\":{\"color\":\"orange\",\"dash\":\"solid\"},\"marker\":{\"symbol\":\"circle\"},\"mode\":\"lines\",\"name\":\"MoDem/EM\",\"orientation\":\"v\",\"showlegend\":false,\"type\":\"scatter\",\"x\":[2011,2012,2013,2014,2015,2016],\"xaxis\":\"x2\",\"y\":[0.0723264142870903,0.0706348642706871,0.07470107078552246,0.07567351311445236,0.07468200474977493,0.07803261280059814],\"yaxis\":\"y2\"},{\"hovertemplate\":\"Party=RPR/UMP/LR<br>Journal=Le Figaro<br>year=%{x}<br>Cosine Similarity=%{y}<extra></extra>\",\"legendgroup\":\"RPR/UMP/LR\",\"line\":{\"color\":\"blue\",\"dash\":\"solid\"},\"marker\":{\"symbol\":\"circle\"},\"mode\":\"lines\",\"name\":\"RPR/UMP/LR\",\"orientation\":\"v\",\"showlegend\":true,\"type\":\"scatter\",\"x\":[2011,2012,2013,2014,2015,2016],\"xaxis\":\"x\",\"y\":[0.05338536202907562,0.049701839685440063,0.053030259907245636,0.04942307621240616,0.04518376290798187,0.046720169484615326],\"yaxis\":\"y\"},{\"hovertemplate\":\"Party=RPR/UMP/LR<br>Journal=Le Monde<br>year=%{x}<br>Cosine Similarity=%{y}<extra></extra>\",\"legendgroup\":\"RPR/UMP/LR\",\"line\":{\"color\":\"blue\",\"dash\":\"solid\"},\"marker\":{\"symbol\":\"circle\"},\"mode\":\"lines\",\"name\":\"RPR/UMP/LR\",\"orientation\":\"v\",\"showlegend\":false,\"type\":\"scatter\",\"x\":[2011,2012,2013,2014,2015,2016],\"xaxis\":\"x2\",\"y\":[0.06219853460788727,0.05894296616315842,0.06263889372348785,0.06443442404270172,0.06495367735624313,0.06681816279888153],\"yaxis\":\"y2\"},{\"hovertemplate\":\"Party=FN<br>Journal=Le Figaro<br>year=%{x}<br>Cosine Similarity=%{y}<extra></extra>\",\"legendgroup\":\"FN\",\"line\":{\"color\":\"darkslateblue\",\"dash\":\"solid\"},\"marker\":{\"symbol\":\"circle\"},\"mode\":\"lines\",\"name\":\"FN\",\"orientation\":\"v\",\"showlegend\":true,\"type\":\"scatter\",\"x\":[2011,2012,2013,2014,2015,2016],\"xaxis\":\"x\",\"y\":[0.047548990696668625,0.04561794921755791,0.04997395724058151,0.043126430362463,0.04032590240240097,0.041782815009355545],\"yaxis\":\"y\"},{\"hovertemplate\":\"Party=FN<br>Journal=Le Monde<br>year=%{x}<br>Cosine Similarity=%{y}<extra></extra>\",\"legendgroup\":\"FN\",\"line\":{\"color\":\"darkslateblue\",\"dash\":\"solid\"},\"marker\":{\"symbol\":\"circle\"},\"mode\":\"lines\",\"name\":\"FN\",\"orientation\":\"v\",\"showlegend\":false,\"type\":\"scatter\",\"x\":[2011,2012,2013,2014,2015,2016],\"xaxis\":\"x2\",\"y\":[0.05622820556163788,0.053208012133836746,0.05984627828001976,0.05706709995865822,0.05828890576958656,0.060646552592515945],\"yaxis\":\"y2\"}],                        {\"annotations\":[{\"font\":{},\"showarrow\":false,\"text\":\"Journal=Le Figaro\",\"x\":0.245,\"xanchor\":\"center\",\"xref\":\"paper\",\"y\":1.0,\"yanchor\":\"bottom\",\"yref\":\"paper\"},{\"font\":{},\"showarrow\":false,\"text\":\"Journal=Le Monde\",\"x\":0.755,\"xanchor\":\"center\",\"xref\":\"paper\",\"y\":1.0,\"yanchor\":\"bottom\",\"yref\":\"paper\"}],\"legend\":{\"title\":{\"text\":\"Party\"},\"tracegroupgap\":0},\"template\":{\"data\":{\"bar\":[{\"error_x\":{\"color\":\"#2a3f5f\"},\"error_y\":{\"color\":\"#2a3f5f\"},\"marker\":{\"line\":{\"color\":\"#E5ECF6\",\"width\":0.5},\"pattern\":{\"fillmode\":\"overlay\",\"size\":10,\"solidity\":0.2}},\"type\":\"bar\"}],\"barpolar\":[{\"marker\":{\"line\":{\"color\":\"#E5ECF6\",\"width\":0.5},\"pattern\":{\"fillmode\":\"overlay\",\"size\":10,\"solidity\":0.2}},\"type\":\"barpolar\"}],\"carpet\":[{\"aaxis\":{\"endlinecolor\":\"#2a3f5f\",\"gridcolor\":\"white\",\"linecolor\":\"white\",\"minorgridcolor\":\"white\",\"startlinecolor\":\"#2a3f5f\"},\"baxis\":{\"endlinecolor\":\"#2a3f5f\",\"gridcolor\":\"white\",\"linecolor\":\"white\",\"minorgridcolor\":\"white\",\"startlinecolor\":\"#2a3f5f\"},\"type\":\"carpet\"}],\"choropleth\":[{\"colorbar\":{\"outlinewidth\":0,\"ticks\":\"\"},\"type\":\"choropleth\"}],\"contour\":[{\"colorbar\":{\"outlinewidth\":0,\"ticks\":\"\"},\"colorscale\":[[0.0,\"#0d0887\"],[0.1111111111111111,\"#46039f\"],[0.2222222222222222,\"#7201a8\"],[0.3333333333333333,\"#9c179e\"],[0.4444444444444444,\"#bd3786\"],[0.5555555555555556,\"#d8576b\"],[0.6666666666666666,\"#ed7953\"],[0.7777777777777778,\"#fb9f3a\"],[0.8888888888888888,\"#fdca26\"],[1.0,\"#f0f921\"]],\"type\":\"contour\"}],\"contourcarpet\":[{\"colorbar\":{\"outlinewidth\":0,\"ticks\":\"\"},\"type\":\"contourcarpet\"}],\"heatmap\":[{\"colorbar\":{\"outlinewidth\":0,\"ticks\":\"\"},\"colorscale\":[[0.0,\"#0d0887\"],[0.1111111111111111,\"#46039f\"],[0.2222222222222222,\"#7201a8\"],[0.3333333333333333,\"#9c179e\"],[0.4444444444444444,\"#bd3786\"],[0.5555555555555556,\"#d8576b\"],[0.6666666666666666,\"#ed7953\"],[0.7777777777777778,\"#fb9f3a\"],[0.8888888888888888,\"#fdca26\"],[1.0,\"#f0f921\"]],\"type\":\"heatmap\"}],\"heatmapgl\":[{\"colorbar\":{\"outlinewidth\":0,\"ticks\":\"\"},\"colorscale\":[[0.0,\"#0d0887\"],[0.1111111111111111,\"#46039f\"],[0.2222222222222222,\"#7201a8\"],[0.3333333333333333,\"#9c179e\"],[0.4444444444444444,\"#bd3786\"],[0.5555555555555556,\"#d8576b\"],[0.6666666666666666,\"#ed7953\"],[0.7777777777777778,\"#fb9f3a\"],[0.8888888888888888,\"#fdca26\"],[1.0,\"#f0f921\"]],\"type\":\"heatmapgl\"}],\"histogram\":[{\"marker\":{\"pattern\":{\"fillmode\":\"overlay\",\"size\":10,\"solidity\":0.2}},\"type\":\"histogram\"}],\"histogram2d\":[{\"colorbar\":{\"outlinewidth\":0,\"ticks\":\"\"},\"colorscale\":[[0.0,\"#0d0887\"],[0.1111111111111111,\"#46039f\"],[0.2222222222222222,\"#7201a8\"],[0.3333333333333333,\"#9c179e\"],[0.4444444444444444,\"#bd3786\"],[0.5555555555555556,\"#d8576b\"],[0.6666666666666666,\"#ed7953\"],[0.7777777777777778,\"#fb9f3a\"],[0.8888888888888888,\"#fdca26\"],[1.0,\"#f0f921\"]],\"type\":\"histogram2d\"}],\"histogram2dcontour\":[{\"colorbar\":{\"outlinewidth\":0,\"ticks\":\"\"},\"colorscale\":[[0.0,\"#0d0887\"],[0.1111111111111111,\"#46039f\"],[0.2222222222222222,\"#7201a8\"],[0.3333333333333333,\"#9c179e\"],[0.4444444444444444,\"#bd3786\"],[0.5555555555555556,\"#d8576b\"],[0.6666666666666666,\"#ed7953\"],[0.7777777777777778,\"#fb9f3a\"],[0.8888888888888888,\"#fdca26\"],[1.0,\"#f0f921\"]],\"type\":\"histogram2dcontour\"}],\"mesh3d\":[{\"colorbar\":{\"outlinewidth\":0,\"ticks\":\"\"},\"type\":\"mesh3d\"}],\"parcoords\":[{\"line\":{\"colorbar\":{\"outlinewidth\":0,\"ticks\":\"\"}},\"type\":\"parcoords\"}],\"pie\":[{\"automargin\":true,\"type\":\"pie\"}],\"scatter\":[{\"marker\":{\"colorbar\":{\"outlinewidth\":0,\"ticks\":\"\"}},\"type\":\"scatter\"}],\"scatter3d\":[{\"line\":{\"colorbar\":{\"outlinewidth\":0,\"ticks\":\"\"}},\"marker\":{\"colorbar\":{\"outlinewidth\":0,\"ticks\":\"\"}},\"type\":\"scatter3d\"}],\"scattercarpet\":[{\"marker\":{\"colorbar\":{\"outlinewidth\":0,\"ticks\":\"\"}},\"type\":\"scattercarpet\"}],\"scattergeo\":[{\"marker\":{\"colorbar\":{\"outlinewidth\":0,\"ticks\":\"\"}},\"type\":\"scattergeo\"}],\"scattergl\":[{\"marker\":{\"colorbar\":{\"outlinewidth\":0,\"ticks\":\"\"}},\"type\":\"scattergl\"}],\"scattermapbox\":[{\"marker\":{\"colorbar\":{\"outlinewidth\":0,\"ticks\":\"\"}},\"type\":\"scattermapbox\"}],\"scatterpolar\":[{\"marker\":{\"colorbar\":{\"outlinewidth\":0,\"ticks\":\"\"}},\"type\":\"scatterpolar\"}],\"scatterpolargl\":[{\"marker\":{\"colorbar\":{\"outlinewidth\":0,\"ticks\":\"\"}},\"type\":\"scatterpolargl\"}],\"scatterternary\":[{\"marker\":{\"colorbar\":{\"outlinewidth\":0,\"ticks\":\"\"}},\"type\":\"scatterternary\"}],\"surface\":[{\"colorbar\":{\"outlinewidth\":0,\"ticks\":\"\"},\"colorscale\":[[0.0,\"#0d0887\"],[0.1111111111111111,\"#46039f\"],[0.2222222222222222,\"#7201a8\"],[0.3333333333333333,\"#9c179e\"],[0.4444444444444444,\"#bd3786\"],[0.5555555555555556,\"#d8576b\"],[0.6666666666666666,\"#ed7953\"],[0.7777777777777778,\"#fb9f3a\"],[0.8888888888888888,\"#fdca26\"],[1.0,\"#f0f921\"]],\"type\":\"surface\"}],\"table\":[{\"cells\":{\"fill\":{\"color\":\"#EBF0F8\"},\"line\":{\"color\":\"white\"}},\"header\":{\"fill\":{\"color\":\"#C8D4E3\"},\"line\":{\"color\":\"white\"}},\"type\":\"table\"}]},\"layout\":{\"annotationdefaults\":{\"arrowcolor\":\"#2a3f5f\",\"arrowhead\":0,\"arrowwidth\":1},\"autotypenumbers\":\"strict\",\"coloraxis\":{\"colorbar\":{\"outlinewidth\":0,\"ticks\":\"\"}},\"colorscale\":{\"diverging\":[[0,\"#8e0152\"],[0.1,\"#c51b7d\"],[0.2,\"#de77ae\"],[0.3,\"#f1b6da\"],[0.4,\"#fde0ef\"],[0.5,\"#f7f7f7\"],[0.6,\"#e6f5d0\"],[0.7,\"#b8e186\"],[0.8,\"#7fbc41\"],[0.9,\"#4d9221\"],[1,\"#276419\"]],\"sequential\":[[0.0,\"#0d0887\"],[0.1111111111111111,\"#46039f\"],[0.2222222222222222,\"#7201a8\"],[0.3333333333333333,\"#9c179e\"],[0.4444444444444444,\"#bd3786\"],[0.5555555555555556,\"#d8576b\"],[0.6666666666666666,\"#ed7953\"],[0.7777777777777778,\"#fb9f3a\"],[0.8888888888888888,\"#fdca26\"],[1.0,\"#f0f921\"]],\"sequentialminus\":[[0.0,\"#0d0887\"],[0.1111111111111111,\"#46039f\"],[0.2222222222222222,\"#7201a8\"],[0.3333333333333333,\"#9c179e\"],[0.4444444444444444,\"#bd3786\"],[0.5555555555555556,\"#d8576b\"],[0.6666666666666666,\"#ed7953\"],[0.7777777777777778,\"#fb9f3a\"],[0.8888888888888888,\"#fdca26\"],[1.0,\"#f0f921\"]]},\"colorway\":[\"#636efa\",\"#EF553B\",\"#00cc96\",\"#ab63fa\",\"#FFA15A\",\"#19d3f3\",\"#FF6692\",\"#B6E880\",\"#FF97FF\",\"#FECB52\"],\"font\":{\"color\":\"#2a3f5f\"},\"geo\":{\"bgcolor\":\"white\",\"lakecolor\":\"white\",\"landcolor\":\"#E5ECF6\",\"showlakes\":true,\"showland\":true,\"subunitcolor\":\"white\"},\"hoverlabel\":{\"align\":\"left\"},\"hovermode\":\"closest\",\"mapbox\":{\"style\":\"light\"},\"paper_bgcolor\":\"white\",\"plot_bgcolor\":\"#E5ECF6\",\"polar\":{\"angularaxis\":{\"gridcolor\":\"white\",\"linecolor\":\"white\",\"ticks\":\"\"},\"bgcolor\":\"#E5ECF6\",\"radialaxis\":{\"gridcolor\":\"white\",\"linecolor\":\"white\",\"ticks\":\"\"}},\"scene\":{\"xaxis\":{\"backgroundcolor\":\"#E5ECF6\",\"gridcolor\":\"white\",\"gridwidth\":2,\"linecolor\":\"white\",\"showbackground\":true,\"ticks\":\"\",\"zerolinecolor\":\"white\"},\"yaxis\":{\"backgroundcolor\":\"#E5ECF6\",\"gridcolor\":\"white\",\"gridwidth\":2,\"linecolor\":\"white\",\"showbackground\":true,\"ticks\":\"\",\"zerolinecolor\":\"white\"},\"zaxis\":{\"backgroundcolor\":\"#E5ECF6\",\"gridcolor\":\"white\",\"gridwidth\":2,\"linecolor\":\"white\",\"showbackground\":true,\"ticks\":\"\",\"zerolinecolor\":\"white\"}},\"shapedefaults\":{\"line\":{\"color\":\"#2a3f5f\"}},\"ternary\":{\"aaxis\":{\"gridcolor\":\"white\",\"linecolor\":\"white\",\"ticks\":\"\"},\"baxis\":{\"gridcolor\":\"white\",\"linecolor\":\"white\",\"ticks\":\"\"},\"bgcolor\":\"#E5ECF6\",\"caxis\":{\"gridcolor\":\"white\",\"linecolor\":\"white\",\"ticks\":\"\"}},\"title\":{\"x\":0.05},\"xaxis\":{\"automargin\":true,\"gridcolor\":\"white\",\"linecolor\":\"white\",\"ticks\":\"\",\"title\":{\"standoff\":15},\"zerolinecolor\":\"white\",\"zerolinewidth\":2},\"yaxis\":{\"automargin\":true,\"gridcolor\":\"white\",\"linecolor\":\"white\",\"ticks\":\"\",\"title\":{\"standoff\":15},\"zerolinecolor\":\"white\",\"zerolinewidth\":2}}},\"title\":{\"text\":\"TF-IDF - Manifesto 2012\"},\"xaxis\":{\"anchor\":\"y\",\"domain\":[0.0,0.49],\"title\":{\"text\":\"year\"}},\"xaxis2\":{\"anchor\":\"y2\",\"domain\":[0.51,1.0],\"matches\":\"x\",\"title\":{\"text\":\"year\"}},\"yaxis\":{\"anchor\":\"x\",\"domain\":[0.0,1.0],\"title\":{\"text\":\"Cosine Similarity\"}},\"yaxis2\":{\"anchor\":\"x2\",\"domain\":[0.0,1.0],\"matches\":\"y\",\"showticklabels\":false}},                        {\"responsive\": true}                    ).then(function(){\n",
       "                            \n",
       "var gd = document.getElementById('ba19b499-135f-4134-a926-a7873d2dd0a4');\n",
       "var x = new MutationObserver(function (mutations, observer) {{\n",
       "        var display = window.getComputedStyle(gd).display;\n",
       "        if (!display || display === 'none') {{\n",
       "            console.log([gd, 'removed!']);\n",
       "            Plotly.purge(gd);\n",
       "            observer.disconnect();\n",
       "        }}\n",
       "}});\n",
       "\n",
       "// Listen for the removal of the full notebook cells\n",
       "var notebookContainer = gd.closest('#notebook-container');\n",
       "if (notebookContainer) {{\n",
       "    x.observe(notebookContainer, {childList: true});\n",
       "}}\n",
       "\n",
       "// Listen for the clearing of the current output cell\n",
       "var outputEl = gd.closest('.output');\n",
       "if (outputEl) {{\n",
       "    x.observe(outputEl, {childList: true});\n",
       "}}\n",
       "\n",
       "                        })                };                });            </script>        </div>"
      ]
     },
     "metadata": {},
     "output_type": "display_data"
    }
   ],
   "source": [
    "px.line(tmp2012,\n",
    "        x='annee',\n",
    "        y=tmp2012.columns[3:],\n",
    "        facet_col='partyname',\n",
    "        labels={'partyname':'Journal','variable':'Party','value':'Cosine Similarity','annee':'year'},\n",
    "        title='TF-IDF - Manifesto 2012',\n",
    "        color_discrete_map=dict_color\n",
    "       )"
   ]
  },
  {
   "cell_type": "code",
   "execution_count": 53,
   "id": "41c23f05",
   "metadata": {
    "scrolled": false
   },
   "outputs": [
    {
     "name": "stderr",
     "output_type": "stream",
     "text": [
      "2021-12-01 12:43:20,686 : INFO : adding document #0 to Dictionary(0 unique tokens: [])\n",
      "2021-12-01 12:43:22,090 : INFO : built Dictionary(16732 unique tokens: ['abandonné', 'abattage', 'absence', 'absolue', 'accessibilité']...) from 7403 documents (total 1584056 corpus positions)\n",
      "2021-12-01 12:43:22,091 : INFO : Dictionary lifecycle event {'msg': \"built Dictionary(16732 unique tokens: ['abandonné', 'abattage', 'absence', 'absolue', 'accessibilité']...) from 7403 documents (total 1584056 corpus positions)\", 'datetime': '2021-12-01T12:43:22.091083', 'gensim': '4.1.2', 'python': '3.8.8 (default, Apr 13 2021, 12:59:45) \\n[Clang 10.0.0 ]', 'platform': 'macOS-10.16-x86_64-i386-64bit', 'event': 'created'}\n",
      "2021-12-01 12:43:23,052 : INFO : collecting document frequencies\n",
      "2021-12-01 12:43:23,053 : INFO : PROGRESS: processing document #0\n",
      "2021-12-01 12:43:23,260 : INFO : TfidfModel lifecycle event {'msg': 'calculated IDF weights for 7403 documents and 16732 features (1158007 matrix non-zeros)', 'datetime': '2021-12-01T12:43:23.260463', 'gensim': '4.1.2', 'python': '3.8.8 (default, Apr 13 2021, 12:59:45) \\n[Clang 10.0.0 ]', 'platform': 'macOS-10.16-x86_64-i386-64bit', 'event': 'initialize'}\n",
      "2021-12-01 12:43:23,261 : INFO : creating sparse index\n",
      "2021-12-01 12:43:23,261 : INFO : creating sparse matrix from corpus\n",
      "2021-12-01 12:43:23,265 : INFO : PROGRESS: at document #0\n",
      "2021-12-01 12:43:28,967 : INFO : created <7403x16732 sparse matrix of type '<class 'numpy.float32'>'\n",
      "\twith 1158007 stored elements in Compressed Sparse Row format>\n"
     ]
    },
    {
     "name": "stdout",
     "output_type": "stream",
     "text": [
      "CPU times: user 15.5 s, sys: 380 ms, total: 15.9 s\n",
      "Wall time: 16.3 s\n"
     ]
    }
   ],
   "source": [
    "%%time\n",
    "\n",
    "sims2017 = tfidf(df2017, n_party=6)"
   ]
  },
  {
   "cell_type": "code",
   "execution_count": 68,
   "id": "b5a87189",
   "metadata": {},
   "outputs": [],
   "source": [
    "tmp2017 = sims2017.iloc[6:,2:].groupby(['partyname','annee']).mean().reset_index()"
   ]
  },
  {
   "cell_type": "code",
   "execution_count": 69,
   "id": "0cc743fc",
   "metadata": {},
   "outputs": [
    {
     "data": {
      "application/vnd.plotly.v1+json": {
       "config": {
        "plotlyServerURL": "https://plot.ly"
       },
       "data": [
        {
         "hovertemplate": "Party=EELV<br>Journal=Le Figaro<br>year=%{x}<br>Cosine Similarity=%{y}<extra></extra>",
         "legendgroup": "EELV",
         "line": {
          "color": "green",
          "dash": "solid"
         },
         "marker": {
          "symbol": "circle"
         },
         "mode": "lines",
         "name": "EELV",
         "orientation": "v",
         "showlegend": true,
         "type": "scatter",
         "x": [
          2016,
          2017,
          2018
         ],
         "xaxis": "x",
         "y": [
          0.03445841744542122,
          0.02979547716677189,
          0.034435518085956573
         ],
         "yaxis": "y"
        },
        {
         "hovertemplate": "Party=EELV<br>Journal=Le Monde<br>year=%{x}<br>Cosine Similarity=%{y}<extra></extra>",
         "legendgroup": "EELV",
         "line": {
          "color": "green",
          "dash": "solid"
         },
         "marker": {
          "symbol": "circle"
         },
         "mode": "lines",
         "name": "EELV",
         "orientation": "v",
         "showlegend": false,
         "type": "scatter",
         "x": [
          2016,
          2017,
          2018
         ],
         "xaxis": "x2",
         "y": [
          0.04975372925400734,
          0.048451852053403854,
          0.05015293136239052
         ],
         "yaxis": "y2"
        },
        {
         "hovertemplate": "Party=PCF/PG/LFI<br>Journal=Le Figaro<br>year=%{x}<br>Cosine Similarity=%{y}<extra></extra>",
         "legendgroup": "PCF/PG/LFI",
         "line": {
          "color": "red",
          "dash": "solid"
         },
         "marker": {
          "symbol": "circle"
         },
         "mode": "lines",
         "name": "PCF/PG/LFI",
         "orientation": "v",
         "showlegend": true,
         "type": "scatter",
         "x": [
          2016,
          2017,
          2018
         ],
         "xaxis": "x",
         "y": [
          0.05188395082950592,
          0.04381252080202103,
          0.050988342612981796
         ],
         "yaxis": "y"
        },
        {
         "hovertemplate": "Party=PCF/PG/LFI<br>Journal=Le Monde<br>year=%{x}<br>Cosine Similarity=%{y}<extra></extra>",
         "legendgroup": "PCF/PG/LFI",
         "line": {
          "color": "red",
          "dash": "solid"
         },
         "marker": {
          "symbol": "circle"
         },
         "mode": "lines",
         "name": "PCF/PG/LFI",
         "orientation": "v",
         "showlegend": false,
         "type": "scatter",
         "x": [
          2016,
          2017,
          2018
         ],
         "xaxis": "x2",
         "y": [
          0.07332262396812439,
          0.07167358696460724,
          0.0735907107591629
         ],
         "yaxis": "y2"
        },
        {
         "hovertemplate": "Party=PS<br>Journal=Le Figaro<br>year=%{x}<br>Cosine Similarity=%{y}<extra></extra>",
         "legendgroup": "PS",
         "line": {
          "color": "pink",
          "dash": "solid"
         },
         "marker": {
          "symbol": "circle"
         },
         "mode": "lines",
         "name": "PS",
         "orientation": "v",
         "showlegend": true,
         "type": "scatter",
         "x": [
          2016,
          2017,
          2018
         ],
         "xaxis": "x",
         "y": [
          0.027844855561852455,
          0.02391112595796585,
          0.027931679040193558
         ],
         "yaxis": "y"
        },
        {
         "hovertemplate": "Party=PS<br>Journal=Le Monde<br>year=%{x}<br>Cosine Similarity=%{y}<extra></extra>",
         "legendgroup": "PS",
         "line": {
          "color": "pink",
          "dash": "solid"
         },
         "marker": {
          "symbol": "circle"
         },
         "mode": "lines",
         "name": "PS",
         "orientation": "v",
         "showlegend": false,
         "type": "scatter",
         "x": [
          2016,
          2017,
          2018
         ],
         "xaxis": "x2",
         "y": [
          0.04204640910029411,
          0.041825566440820694,
          0.04321742802858353
         ],
         "yaxis": "y2"
        },
        {
         "hovertemplate": "Party=MoDem/EM<br>Journal=Le Figaro<br>year=%{x}<br>Cosine Similarity=%{y}<extra></extra>",
         "legendgroup": "MoDem/EM",
         "line": {
          "color": "orange",
          "dash": "solid"
         },
         "marker": {
          "symbol": "circle"
         },
         "mode": "lines",
         "name": "MoDem/EM",
         "orientation": "v",
         "showlegend": true,
         "type": "scatter",
         "x": [
          2016,
          2017,
          2018
         ],
         "xaxis": "x",
         "y": [
          0.053748719394207,
          0.04596114158630371,
          0.052638646215200424
         ],
         "yaxis": "y"
        },
        {
         "hovertemplate": "Party=MoDem/EM<br>Journal=Le Monde<br>year=%{x}<br>Cosine Similarity=%{y}<extra></extra>",
         "legendgroup": "MoDem/EM",
         "line": {
          "color": "orange",
          "dash": "solid"
         },
         "marker": {
          "symbol": "circle"
         },
         "mode": "lines",
         "name": "MoDem/EM",
         "orientation": "v",
         "showlegend": false,
         "type": "scatter",
         "x": [
          2016,
          2017,
          2018
         ],
         "xaxis": "x2",
         "y": [
          0.0752105638384819,
          0.07422730326652527,
          0.07471296191215515
         ],
         "yaxis": "y2"
        },
        {
         "hovertemplate": "Party=RPR/UMP/LR<br>Journal=Le Figaro<br>year=%{x}<br>Cosine Similarity=%{y}<extra></extra>",
         "legendgroup": "RPR/UMP/LR",
         "line": {
          "color": "blue",
          "dash": "solid"
         },
         "marker": {
          "symbol": "circle"
         },
         "mode": "lines",
         "name": "RPR/UMP/LR",
         "orientation": "v",
         "showlegend": true,
         "type": "scatter",
         "x": [
          2016,
          2017,
          2018
         ],
         "xaxis": "x",
         "y": [
          0.04895201325416565,
          0.04137483239173889,
          0.04655148461461067
         ],
         "yaxis": "y"
        },
        {
         "hovertemplate": "Party=RPR/UMP/LR<br>Journal=Le Monde<br>year=%{x}<br>Cosine Similarity=%{y}<extra></extra>",
         "legendgroup": "RPR/UMP/LR",
         "line": {
          "color": "blue",
          "dash": "solid"
         },
         "marker": {
          "symbol": "circle"
         },
         "mode": "lines",
         "name": "RPR/UMP/LR",
         "orientation": "v",
         "showlegend": false,
         "type": "scatter",
         "x": [
          2016,
          2017,
          2018
         ],
         "xaxis": "x2",
         "y": [
          0.06811249256134033,
          0.06607886403799057,
          0.065226249396801
         ],
         "yaxis": "y2"
        },
        {
         "hovertemplate": "Party=FN<br>Journal=Le Figaro<br>year=%{x}<br>Cosine Similarity=%{y}<extra></extra>",
         "legendgroup": "FN",
         "line": {
          "color": "darkslateblue",
          "dash": "solid"
         },
         "marker": {
          "symbol": "circle"
         },
         "mode": "lines",
         "name": "FN",
         "orientation": "v",
         "showlegend": true,
         "type": "scatter",
         "x": [
          2016,
          2017,
          2018
         ],
         "xaxis": "x",
         "y": [
          0.04553314670920372,
          0.03637213259935379,
          0.04287521913647652
         ],
         "yaxis": "y"
        },
        {
         "hovertemplate": "Party=FN<br>Journal=Le Monde<br>year=%{x}<br>Cosine Similarity=%{y}<extra></extra>",
         "legendgroup": "FN",
         "line": {
          "color": "darkslateblue",
          "dash": "solid"
         },
         "marker": {
          "symbol": "circle"
         },
         "mode": "lines",
         "name": "FN",
         "orientation": "v",
         "showlegend": false,
         "type": "scatter",
         "x": [
          2016,
          2017,
          2018
         ],
         "xaxis": "x2",
         "y": [
          0.06323771923780441,
          0.05899572744965553,
          0.06013498082756996
         ],
         "yaxis": "y2"
        }
       ],
       "layout": {
        "annotations": [
         {
          "font": {},
          "showarrow": false,
          "text": "Journal=Le Figaro",
          "x": 0.245,
          "xanchor": "center",
          "xref": "paper",
          "y": 1,
          "yanchor": "bottom",
          "yref": "paper"
         },
         {
          "font": {},
          "showarrow": false,
          "text": "Journal=Le Monde",
          "x": 0.755,
          "xanchor": "center",
          "xref": "paper",
          "y": 1,
          "yanchor": "bottom",
          "yref": "paper"
         }
        ],
        "legend": {
         "title": {
          "text": "Party"
         },
         "tracegroupgap": 0
        },
        "template": {
         "data": {
          "bar": [
           {
            "error_x": {
             "color": "#2a3f5f"
            },
            "error_y": {
             "color": "#2a3f5f"
            },
            "marker": {
             "line": {
              "color": "#E5ECF6",
              "width": 0.5
             },
             "pattern": {
              "fillmode": "overlay",
              "size": 10,
              "solidity": 0.2
             }
            },
            "type": "bar"
           }
          ],
          "barpolar": [
           {
            "marker": {
             "line": {
              "color": "#E5ECF6",
              "width": 0.5
             },
             "pattern": {
              "fillmode": "overlay",
              "size": 10,
              "solidity": 0.2
             }
            },
            "type": "barpolar"
           }
          ],
          "carpet": [
           {
            "aaxis": {
             "endlinecolor": "#2a3f5f",
             "gridcolor": "white",
             "linecolor": "white",
             "minorgridcolor": "white",
             "startlinecolor": "#2a3f5f"
            },
            "baxis": {
             "endlinecolor": "#2a3f5f",
             "gridcolor": "white",
             "linecolor": "white",
             "minorgridcolor": "white",
             "startlinecolor": "#2a3f5f"
            },
            "type": "carpet"
           }
          ],
          "choropleth": [
           {
            "colorbar": {
             "outlinewidth": 0,
             "ticks": ""
            },
            "type": "choropleth"
           }
          ],
          "contour": [
           {
            "colorbar": {
             "outlinewidth": 0,
             "ticks": ""
            },
            "colorscale": [
             [
              0,
              "#0d0887"
             ],
             [
              0.1111111111111111,
              "#46039f"
             ],
             [
              0.2222222222222222,
              "#7201a8"
             ],
             [
              0.3333333333333333,
              "#9c179e"
             ],
             [
              0.4444444444444444,
              "#bd3786"
             ],
             [
              0.5555555555555556,
              "#d8576b"
             ],
             [
              0.6666666666666666,
              "#ed7953"
             ],
             [
              0.7777777777777778,
              "#fb9f3a"
             ],
             [
              0.8888888888888888,
              "#fdca26"
             ],
             [
              1,
              "#f0f921"
             ]
            ],
            "type": "contour"
           }
          ],
          "contourcarpet": [
           {
            "colorbar": {
             "outlinewidth": 0,
             "ticks": ""
            },
            "type": "contourcarpet"
           }
          ],
          "heatmap": [
           {
            "colorbar": {
             "outlinewidth": 0,
             "ticks": ""
            },
            "colorscale": [
             [
              0,
              "#0d0887"
             ],
             [
              0.1111111111111111,
              "#46039f"
             ],
             [
              0.2222222222222222,
              "#7201a8"
             ],
             [
              0.3333333333333333,
              "#9c179e"
             ],
             [
              0.4444444444444444,
              "#bd3786"
             ],
             [
              0.5555555555555556,
              "#d8576b"
             ],
             [
              0.6666666666666666,
              "#ed7953"
             ],
             [
              0.7777777777777778,
              "#fb9f3a"
             ],
             [
              0.8888888888888888,
              "#fdca26"
             ],
             [
              1,
              "#f0f921"
             ]
            ],
            "type": "heatmap"
           }
          ],
          "heatmapgl": [
           {
            "colorbar": {
             "outlinewidth": 0,
             "ticks": ""
            },
            "colorscale": [
             [
              0,
              "#0d0887"
             ],
             [
              0.1111111111111111,
              "#46039f"
             ],
             [
              0.2222222222222222,
              "#7201a8"
             ],
             [
              0.3333333333333333,
              "#9c179e"
             ],
             [
              0.4444444444444444,
              "#bd3786"
             ],
             [
              0.5555555555555556,
              "#d8576b"
             ],
             [
              0.6666666666666666,
              "#ed7953"
             ],
             [
              0.7777777777777778,
              "#fb9f3a"
             ],
             [
              0.8888888888888888,
              "#fdca26"
             ],
             [
              1,
              "#f0f921"
             ]
            ],
            "type": "heatmapgl"
           }
          ],
          "histogram": [
           {
            "marker": {
             "pattern": {
              "fillmode": "overlay",
              "size": 10,
              "solidity": 0.2
             }
            },
            "type": "histogram"
           }
          ],
          "histogram2d": [
           {
            "colorbar": {
             "outlinewidth": 0,
             "ticks": ""
            },
            "colorscale": [
             [
              0,
              "#0d0887"
             ],
             [
              0.1111111111111111,
              "#46039f"
             ],
             [
              0.2222222222222222,
              "#7201a8"
             ],
             [
              0.3333333333333333,
              "#9c179e"
             ],
             [
              0.4444444444444444,
              "#bd3786"
             ],
             [
              0.5555555555555556,
              "#d8576b"
             ],
             [
              0.6666666666666666,
              "#ed7953"
             ],
             [
              0.7777777777777778,
              "#fb9f3a"
             ],
             [
              0.8888888888888888,
              "#fdca26"
             ],
             [
              1,
              "#f0f921"
             ]
            ],
            "type": "histogram2d"
           }
          ],
          "histogram2dcontour": [
           {
            "colorbar": {
             "outlinewidth": 0,
             "ticks": ""
            },
            "colorscale": [
             [
              0,
              "#0d0887"
             ],
             [
              0.1111111111111111,
              "#46039f"
             ],
             [
              0.2222222222222222,
              "#7201a8"
             ],
             [
              0.3333333333333333,
              "#9c179e"
             ],
             [
              0.4444444444444444,
              "#bd3786"
             ],
             [
              0.5555555555555556,
              "#d8576b"
             ],
             [
              0.6666666666666666,
              "#ed7953"
             ],
             [
              0.7777777777777778,
              "#fb9f3a"
             ],
             [
              0.8888888888888888,
              "#fdca26"
             ],
             [
              1,
              "#f0f921"
             ]
            ],
            "type": "histogram2dcontour"
           }
          ],
          "mesh3d": [
           {
            "colorbar": {
             "outlinewidth": 0,
             "ticks": ""
            },
            "type": "mesh3d"
           }
          ],
          "parcoords": [
           {
            "line": {
             "colorbar": {
              "outlinewidth": 0,
              "ticks": ""
             }
            },
            "type": "parcoords"
           }
          ],
          "pie": [
           {
            "automargin": true,
            "type": "pie"
           }
          ],
          "scatter": [
           {
            "marker": {
             "colorbar": {
              "outlinewidth": 0,
              "ticks": ""
             }
            },
            "type": "scatter"
           }
          ],
          "scatter3d": [
           {
            "line": {
             "colorbar": {
              "outlinewidth": 0,
              "ticks": ""
             }
            },
            "marker": {
             "colorbar": {
              "outlinewidth": 0,
              "ticks": ""
             }
            },
            "type": "scatter3d"
           }
          ],
          "scattercarpet": [
           {
            "marker": {
             "colorbar": {
              "outlinewidth": 0,
              "ticks": ""
             }
            },
            "type": "scattercarpet"
           }
          ],
          "scattergeo": [
           {
            "marker": {
             "colorbar": {
              "outlinewidth": 0,
              "ticks": ""
             }
            },
            "type": "scattergeo"
           }
          ],
          "scattergl": [
           {
            "marker": {
             "colorbar": {
              "outlinewidth": 0,
              "ticks": ""
             }
            },
            "type": "scattergl"
           }
          ],
          "scattermapbox": [
           {
            "marker": {
             "colorbar": {
              "outlinewidth": 0,
              "ticks": ""
             }
            },
            "type": "scattermapbox"
           }
          ],
          "scatterpolar": [
           {
            "marker": {
             "colorbar": {
              "outlinewidth": 0,
              "ticks": ""
             }
            },
            "type": "scatterpolar"
           }
          ],
          "scatterpolargl": [
           {
            "marker": {
             "colorbar": {
              "outlinewidth": 0,
              "ticks": ""
             }
            },
            "type": "scatterpolargl"
           }
          ],
          "scatterternary": [
           {
            "marker": {
             "colorbar": {
              "outlinewidth": 0,
              "ticks": ""
             }
            },
            "type": "scatterternary"
           }
          ],
          "surface": [
           {
            "colorbar": {
             "outlinewidth": 0,
             "ticks": ""
            },
            "colorscale": [
             [
              0,
              "#0d0887"
             ],
             [
              0.1111111111111111,
              "#46039f"
             ],
             [
              0.2222222222222222,
              "#7201a8"
             ],
             [
              0.3333333333333333,
              "#9c179e"
             ],
             [
              0.4444444444444444,
              "#bd3786"
             ],
             [
              0.5555555555555556,
              "#d8576b"
             ],
             [
              0.6666666666666666,
              "#ed7953"
             ],
             [
              0.7777777777777778,
              "#fb9f3a"
             ],
             [
              0.8888888888888888,
              "#fdca26"
             ],
             [
              1,
              "#f0f921"
             ]
            ],
            "type": "surface"
           }
          ],
          "table": [
           {
            "cells": {
             "fill": {
              "color": "#EBF0F8"
             },
             "line": {
              "color": "white"
             }
            },
            "header": {
             "fill": {
              "color": "#C8D4E3"
             },
             "line": {
              "color": "white"
             }
            },
            "type": "table"
           }
          ]
         },
         "layout": {
          "annotationdefaults": {
           "arrowcolor": "#2a3f5f",
           "arrowhead": 0,
           "arrowwidth": 1
          },
          "autotypenumbers": "strict",
          "coloraxis": {
           "colorbar": {
            "outlinewidth": 0,
            "ticks": ""
           }
          },
          "colorscale": {
           "diverging": [
            [
             0,
             "#8e0152"
            ],
            [
             0.1,
             "#c51b7d"
            ],
            [
             0.2,
             "#de77ae"
            ],
            [
             0.3,
             "#f1b6da"
            ],
            [
             0.4,
             "#fde0ef"
            ],
            [
             0.5,
             "#f7f7f7"
            ],
            [
             0.6,
             "#e6f5d0"
            ],
            [
             0.7,
             "#b8e186"
            ],
            [
             0.8,
             "#7fbc41"
            ],
            [
             0.9,
             "#4d9221"
            ],
            [
             1,
             "#276419"
            ]
           ],
           "sequential": [
            [
             0,
             "#0d0887"
            ],
            [
             0.1111111111111111,
             "#46039f"
            ],
            [
             0.2222222222222222,
             "#7201a8"
            ],
            [
             0.3333333333333333,
             "#9c179e"
            ],
            [
             0.4444444444444444,
             "#bd3786"
            ],
            [
             0.5555555555555556,
             "#d8576b"
            ],
            [
             0.6666666666666666,
             "#ed7953"
            ],
            [
             0.7777777777777778,
             "#fb9f3a"
            ],
            [
             0.8888888888888888,
             "#fdca26"
            ],
            [
             1,
             "#f0f921"
            ]
           ],
           "sequentialminus": [
            [
             0,
             "#0d0887"
            ],
            [
             0.1111111111111111,
             "#46039f"
            ],
            [
             0.2222222222222222,
             "#7201a8"
            ],
            [
             0.3333333333333333,
             "#9c179e"
            ],
            [
             0.4444444444444444,
             "#bd3786"
            ],
            [
             0.5555555555555556,
             "#d8576b"
            ],
            [
             0.6666666666666666,
             "#ed7953"
            ],
            [
             0.7777777777777778,
             "#fb9f3a"
            ],
            [
             0.8888888888888888,
             "#fdca26"
            ],
            [
             1,
             "#f0f921"
            ]
           ]
          },
          "colorway": [
           "#636efa",
           "#EF553B",
           "#00cc96",
           "#ab63fa",
           "#FFA15A",
           "#19d3f3",
           "#FF6692",
           "#B6E880",
           "#FF97FF",
           "#FECB52"
          ],
          "font": {
           "color": "#2a3f5f"
          },
          "geo": {
           "bgcolor": "white",
           "lakecolor": "white",
           "landcolor": "#E5ECF6",
           "showlakes": true,
           "showland": true,
           "subunitcolor": "white"
          },
          "hoverlabel": {
           "align": "left"
          },
          "hovermode": "closest",
          "mapbox": {
           "style": "light"
          },
          "paper_bgcolor": "white",
          "plot_bgcolor": "#E5ECF6",
          "polar": {
           "angularaxis": {
            "gridcolor": "white",
            "linecolor": "white",
            "ticks": ""
           },
           "bgcolor": "#E5ECF6",
           "radialaxis": {
            "gridcolor": "white",
            "linecolor": "white",
            "ticks": ""
           }
          },
          "scene": {
           "xaxis": {
            "backgroundcolor": "#E5ECF6",
            "gridcolor": "white",
            "gridwidth": 2,
            "linecolor": "white",
            "showbackground": true,
            "ticks": "",
            "zerolinecolor": "white"
           },
           "yaxis": {
            "backgroundcolor": "#E5ECF6",
            "gridcolor": "white",
            "gridwidth": 2,
            "linecolor": "white",
            "showbackground": true,
            "ticks": "",
            "zerolinecolor": "white"
           },
           "zaxis": {
            "backgroundcolor": "#E5ECF6",
            "gridcolor": "white",
            "gridwidth": 2,
            "linecolor": "white",
            "showbackground": true,
            "ticks": "",
            "zerolinecolor": "white"
           }
          },
          "shapedefaults": {
           "line": {
            "color": "#2a3f5f"
           }
          },
          "ternary": {
           "aaxis": {
            "gridcolor": "white",
            "linecolor": "white",
            "ticks": ""
           },
           "baxis": {
            "gridcolor": "white",
            "linecolor": "white",
            "ticks": ""
           },
           "bgcolor": "#E5ECF6",
           "caxis": {
            "gridcolor": "white",
            "linecolor": "white",
            "ticks": ""
           }
          },
          "title": {
           "x": 0.05
          },
          "xaxis": {
           "automargin": true,
           "gridcolor": "white",
           "linecolor": "white",
           "ticks": "",
           "title": {
            "standoff": 15
           },
           "zerolinecolor": "white",
           "zerolinewidth": 2
          },
          "yaxis": {
           "automargin": true,
           "gridcolor": "white",
           "linecolor": "white",
           "ticks": "",
           "title": {
            "standoff": 15
           },
           "zerolinecolor": "white",
           "zerolinewidth": 2
          }
         }
        },
        "title": {
         "text": "TF-IDF - Manifesto 2017"
        },
        "xaxis": {
         "anchor": "y",
         "domain": [
          0,
          0.49
         ],
         "title": {
          "text": "year"
         }
        },
        "xaxis2": {
         "anchor": "y2",
         "domain": [
          0.51,
          1
         ],
         "matches": "x",
         "title": {
          "text": "year"
         }
        },
        "yaxis": {
         "anchor": "x",
         "domain": [
          0,
          1
         ],
         "title": {
          "text": "Cosine Similarity"
         }
        },
        "yaxis2": {
         "anchor": "x2",
         "domain": [
          0,
          1
         ],
         "matches": "y",
         "showticklabels": false
        }
       }
      },
      "text/html": [
       "<div>                            <div id=\"48c0702f-f12a-47bc-9c31-096472382b7c\" class=\"plotly-graph-div\" style=\"height:525px; width:100%;\"></div>            <script type=\"text/javascript\">                require([\"plotly\"], function(Plotly) {                    window.PLOTLYENV=window.PLOTLYENV || {};                                    if (document.getElementById(\"48c0702f-f12a-47bc-9c31-096472382b7c\")) {                    Plotly.newPlot(                        \"48c0702f-f12a-47bc-9c31-096472382b7c\",                        [{\"hovertemplate\":\"Party=EELV<br>Journal=Le Figaro<br>year=%{x}<br>Cosine Similarity=%{y}<extra></extra>\",\"legendgroup\":\"EELV\",\"line\":{\"color\":\"green\",\"dash\":\"solid\"},\"marker\":{\"symbol\":\"circle\"},\"mode\":\"lines\",\"name\":\"EELV\",\"orientation\":\"v\",\"showlegend\":true,\"type\":\"scatter\",\"x\":[2016,2017,2018],\"xaxis\":\"x\",\"y\":[0.03445841744542122,0.02979547716677189,0.034435518085956573],\"yaxis\":\"y\"},{\"hovertemplate\":\"Party=EELV<br>Journal=Le Monde<br>year=%{x}<br>Cosine Similarity=%{y}<extra></extra>\",\"legendgroup\":\"EELV\",\"line\":{\"color\":\"green\",\"dash\":\"solid\"},\"marker\":{\"symbol\":\"circle\"},\"mode\":\"lines\",\"name\":\"EELV\",\"orientation\":\"v\",\"showlegend\":false,\"type\":\"scatter\",\"x\":[2016,2017,2018],\"xaxis\":\"x2\",\"y\":[0.04975372925400734,0.048451852053403854,0.05015293136239052],\"yaxis\":\"y2\"},{\"hovertemplate\":\"Party=PCF/PG/LFI<br>Journal=Le Figaro<br>year=%{x}<br>Cosine Similarity=%{y}<extra></extra>\",\"legendgroup\":\"PCF/PG/LFI\",\"line\":{\"color\":\"red\",\"dash\":\"solid\"},\"marker\":{\"symbol\":\"circle\"},\"mode\":\"lines\",\"name\":\"PCF/PG/LFI\",\"orientation\":\"v\",\"showlegend\":true,\"type\":\"scatter\",\"x\":[2016,2017,2018],\"xaxis\":\"x\",\"y\":[0.05188395082950592,0.04381252080202103,0.050988342612981796],\"yaxis\":\"y\"},{\"hovertemplate\":\"Party=PCF/PG/LFI<br>Journal=Le Monde<br>year=%{x}<br>Cosine Similarity=%{y}<extra></extra>\",\"legendgroup\":\"PCF/PG/LFI\",\"line\":{\"color\":\"red\",\"dash\":\"solid\"},\"marker\":{\"symbol\":\"circle\"},\"mode\":\"lines\",\"name\":\"PCF/PG/LFI\",\"orientation\":\"v\",\"showlegend\":false,\"type\":\"scatter\",\"x\":[2016,2017,2018],\"xaxis\":\"x2\",\"y\":[0.07332262396812439,0.07167358696460724,0.0735907107591629],\"yaxis\":\"y2\"},{\"hovertemplate\":\"Party=PS<br>Journal=Le Figaro<br>year=%{x}<br>Cosine Similarity=%{y}<extra></extra>\",\"legendgroup\":\"PS\",\"line\":{\"color\":\"pink\",\"dash\":\"solid\"},\"marker\":{\"symbol\":\"circle\"},\"mode\":\"lines\",\"name\":\"PS\",\"orientation\":\"v\",\"showlegend\":true,\"type\":\"scatter\",\"x\":[2016,2017,2018],\"xaxis\":\"x\",\"y\":[0.027844855561852455,0.02391112595796585,0.027931679040193558],\"yaxis\":\"y\"},{\"hovertemplate\":\"Party=PS<br>Journal=Le Monde<br>year=%{x}<br>Cosine Similarity=%{y}<extra></extra>\",\"legendgroup\":\"PS\",\"line\":{\"color\":\"pink\",\"dash\":\"solid\"},\"marker\":{\"symbol\":\"circle\"},\"mode\":\"lines\",\"name\":\"PS\",\"orientation\":\"v\",\"showlegend\":false,\"type\":\"scatter\",\"x\":[2016,2017,2018],\"xaxis\":\"x2\",\"y\":[0.04204640910029411,0.041825566440820694,0.04321742802858353],\"yaxis\":\"y2\"},{\"hovertemplate\":\"Party=MoDem/EM<br>Journal=Le Figaro<br>year=%{x}<br>Cosine Similarity=%{y}<extra></extra>\",\"legendgroup\":\"MoDem/EM\",\"line\":{\"color\":\"orange\",\"dash\":\"solid\"},\"marker\":{\"symbol\":\"circle\"},\"mode\":\"lines\",\"name\":\"MoDem/EM\",\"orientation\":\"v\",\"showlegend\":true,\"type\":\"scatter\",\"x\":[2016,2017,2018],\"xaxis\":\"x\",\"y\":[0.053748719394207,0.04596114158630371,0.052638646215200424],\"yaxis\":\"y\"},{\"hovertemplate\":\"Party=MoDem/EM<br>Journal=Le Monde<br>year=%{x}<br>Cosine Similarity=%{y}<extra></extra>\",\"legendgroup\":\"MoDem/EM\",\"line\":{\"color\":\"orange\",\"dash\":\"solid\"},\"marker\":{\"symbol\":\"circle\"},\"mode\":\"lines\",\"name\":\"MoDem/EM\",\"orientation\":\"v\",\"showlegend\":false,\"type\":\"scatter\",\"x\":[2016,2017,2018],\"xaxis\":\"x2\",\"y\":[0.0752105638384819,0.07422730326652527,0.07471296191215515],\"yaxis\":\"y2\"},{\"hovertemplate\":\"Party=RPR/UMP/LR<br>Journal=Le Figaro<br>year=%{x}<br>Cosine Similarity=%{y}<extra></extra>\",\"legendgroup\":\"RPR/UMP/LR\",\"line\":{\"color\":\"blue\",\"dash\":\"solid\"},\"marker\":{\"symbol\":\"circle\"},\"mode\":\"lines\",\"name\":\"RPR/UMP/LR\",\"orientation\":\"v\",\"showlegend\":true,\"type\":\"scatter\",\"x\":[2016,2017,2018],\"xaxis\":\"x\",\"y\":[0.04895201325416565,0.04137483239173889,0.04655148461461067],\"yaxis\":\"y\"},{\"hovertemplate\":\"Party=RPR/UMP/LR<br>Journal=Le Monde<br>year=%{x}<br>Cosine Similarity=%{y}<extra></extra>\",\"legendgroup\":\"RPR/UMP/LR\",\"line\":{\"color\":\"blue\",\"dash\":\"solid\"},\"marker\":{\"symbol\":\"circle\"},\"mode\":\"lines\",\"name\":\"RPR/UMP/LR\",\"orientation\":\"v\",\"showlegend\":false,\"type\":\"scatter\",\"x\":[2016,2017,2018],\"xaxis\":\"x2\",\"y\":[0.06811249256134033,0.06607886403799057,0.065226249396801],\"yaxis\":\"y2\"},{\"hovertemplate\":\"Party=FN<br>Journal=Le Figaro<br>year=%{x}<br>Cosine Similarity=%{y}<extra></extra>\",\"legendgroup\":\"FN\",\"line\":{\"color\":\"darkslateblue\",\"dash\":\"solid\"},\"marker\":{\"symbol\":\"circle\"},\"mode\":\"lines\",\"name\":\"FN\",\"orientation\":\"v\",\"showlegend\":true,\"type\":\"scatter\",\"x\":[2016,2017,2018],\"xaxis\":\"x\",\"y\":[0.04553314670920372,0.03637213259935379,0.04287521913647652],\"yaxis\":\"y\"},{\"hovertemplate\":\"Party=FN<br>Journal=Le Monde<br>year=%{x}<br>Cosine Similarity=%{y}<extra></extra>\",\"legendgroup\":\"FN\",\"line\":{\"color\":\"darkslateblue\",\"dash\":\"solid\"},\"marker\":{\"symbol\":\"circle\"},\"mode\":\"lines\",\"name\":\"FN\",\"orientation\":\"v\",\"showlegend\":false,\"type\":\"scatter\",\"x\":[2016,2017,2018],\"xaxis\":\"x2\",\"y\":[0.06323771923780441,0.05899572744965553,0.06013498082756996],\"yaxis\":\"y2\"}],                        {\"annotations\":[{\"font\":{},\"showarrow\":false,\"text\":\"Journal=Le Figaro\",\"x\":0.245,\"xanchor\":\"center\",\"xref\":\"paper\",\"y\":1.0,\"yanchor\":\"bottom\",\"yref\":\"paper\"},{\"font\":{},\"showarrow\":false,\"text\":\"Journal=Le Monde\",\"x\":0.755,\"xanchor\":\"center\",\"xref\":\"paper\",\"y\":1.0,\"yanchor\":\"bottom\",\"yref\":\"paper\"}],\"legend\":{\"title\":{\"text\":\"Party\"},\"tracegroupgap\":0},\"template\":{\"data\":{\"bar\":[{\"error_x\":{\"color\":\"#2a3f5f\"},\"error_y\":{\"color\":\"#2a3f5f\"},\"marker\":{\"line\":{\"color\":\"#E5ECF6\",\"width\":0.5},\"pattern\":{\"fillmode\":\"overlay\",\"size\":10,\"solidity\":0.2}},\"type\":\"bar\"}],\"barpolar\":[{\"marker\":{\"line\":{\"color\":\"#E5ECF6\",\"width\":0.5},\"pattern\":{\"fillmode\":\"overlay\",\"size\":10,\"solidity\":0.2}},\"type\":\"barpolar\"}],\"carpet\":[{\"aaxis\":{\"endlinecolor\":\"#2a3f5f\",\"gridcolor\":\"white\",\"linecolor\":\"white\",\"minorgridcolor\":\"white\",\"startlinecolor\":\"#2a3f5f\"},\"baxis\":{\"endlinecolor\":\"#2a3f5f\",\"gridcolor\":\"white\",\"linecolor\":\"white\",\"minorgridcolor\":\"white\",\"startlinecolor\":\"#2a3f5f\"},\"type\":\"carpet\"}],\"choropleth\":[{\"colorbar\":{\"outlinewidth\":0,\"ticks\":\"\"},\"type\":\"choropleth\"}],\"contour\":[{\"colorbar\":{\"outlinewidth\":0,\"ticks\":\"\"},\"colorscale\":[[0.0,\"#0d0887\"],[0.1111111111111111,\"#46039f\"],[0.2222222222222222,\"#7201a8\"],[0.3333333333333333,\"#9c179e\"],[0.4444444444444444,\"#bd3786\"],[0.5555555555555556,\"#d8576b\"],[0.6666666666666666,\"#ed7953\"],[0.7777777777777778,\"#fb9f3a\"],[0.8888888888888888,\"#fdca26\"],[1.0,\"#f0f921\"]],\"type\":\"contour\"}],\"contourcarpet\":[{\"colorbar\":{\"outlinewidth\":0,\"ticks\":\"\"},\"type\":\"contourcarpet\"}],\"heatmap\":[{\"colorbar\":{\"outlinewidth\":0,\"ticks\":\"\"},\"colorscale\":[[0.0,\"#0d0887\"],[0.1111111111111111,\"#46039f\"],[0.2222222222222222,\"#7201a8\"],[0.3333333333333333,\"#9c179e\"],[0.4444444444444444,\"#bd3786\"],[0.5555555555555556,\"#d8576b\"],[0.6666666666666666,\"#ed7953\"],[0.7777777777777778,\"#fb9f3a\"],[0.8888888888888888,\"#fdca26\"],[1.0,\"#f0f921\"]],\"type\":\"heatmap\"}],\"heatmapgl\":[{\"colorbar\":{\"outlinewidth\":0,\"ticks\":\"\"},\"colorscale\":[[0.0,\"#0d0887\"],[0.1111111111111111,\"#46039f\"],[0.2222222222222222,\"#7201a8\"],[0.3333333333333333,\"#9c179e\"],[0.4444444444444444,\"#bd3786\"],[0.5555555555555556,\"#d8576b\"],[0.6666666666666666,\"#ed7953\"],[0.7777777777777778,\"#fb9f3a\"],[0.8888888888888888,\"#fdca26\"],[1.0,\"#f0f921\"]],\"type\":\"heatmapgl\"}],\"histogram\":[{\"marker\":{\"pattern\":{\"fillmode\":\"overlay\",\"size\":10,\"solidity\":0.2}},\"type\":\"histogram\"}],\"histogram2d\":[{\"colorbar\":{\"outlinewidth\":0,\"ticks\":\"\"},\"colorscale\":[[0.0,\"#0d0887\"],[0.1111111111111111,\"#46039f\"],[0.2222222222222222,\"#7201a8\"],[0.3333333333333333,\"#9c179e\"],[0.4444444444444444,\"#bd3786\"],[0.5555555555555556,\"#d8576b\"],[0.6666666666666666,\"#ed7953\"],[0.7777777777777778,\"#fb9f3a\"],[0.8888888888888888,\"#fdca26\"],[1.0,\"#f0f921\"]],\"type\":\"histogram2d\"}],\"histogram2dcontour\":[{\"colorbar\":{\"outlinewidth\":0,\"ticks\":\"\"},\"colorscale\":[[0.0,\"#0d0887\"],[0.1111111111111111,\"#46039f\"],[0.2222222222222222,\"#7201a8\"],[0.3333333333333333,\"#9c179e\"],[0.4444444444444444,\"#bd3786\"],[0.5555555555555556,\"#d8576b\"],[0.6666666666666666,\"#ed7953\"],[0.7777777777777778,\"#fb9f3a\"],[0.8888888888888888,\"#fdca26\"],[1.0,\"#f0f921\"]],\"type\":\"histogram2dcontour\"}],\"mesh3d\":[{\"colorbar\":{\"outlinewidth\":0,\"ticks\":\"\"},\"type\":\"mesh3d\"}],\"parcoords\":[{\"line\":{\"colorbar\":{\"outlinewidth\":0,\"ticks\":\"\"}},\"type\":\"parcoords\"}],\"pie\":[{\"automargin\":true,\"type\":\"pie\"}],\"scatter\":[{\"marker\":{\"colorbar\":{\"outlinewidth\":0,\"ticks\":\"\"}},\"type\":\"scatter\"}],\"scatter3d\":[{\"line\":{\"colorbar\":{\"outlinewidth\":0,\"ticks\":\"\"}},\"marker\":{\"colorbar\":{\"outlinewidth\":0,\"ticks\":\"\"}},\"type\":\"scatter3d\"}],\"scattercarpet\":[{\"marker\":{\"colorbar\":{\"outlinewidth\":0,\"ticks\":\"\"}},\"type\":\"scattercarpet\"}],\"scattergeo\":[{\"marker\":{\"colorbar\":{\"outlinewidth\":0,\"ticks\":\"\"}},\"type\":\"scattergeo\"}],\"scattergl\":[{\"marker\":{\"colorbar\":{\"outlinewidth\":0,\"ticks\":\"\"}},\"type\":\"scattergl\"}],\"scattermapbox\":[{\"marker\":{\"colorbar\":{\"outlinewidth\":0,\"ticks\":\"\"}},\"type\":\"scattermapbox\"}],\"scatterpolar\":[{\"marker\":{\"colorbar\":{\"outlinewidth\":0,\"ticks\":\"\"}},\"type\":\"scatterpolar\"}],\"scatterpolargl\":[{\"marker\":{\"colorbar\":{\"outlinewidth\":0,\"ticks\":\"\"}},\"type\":\"scatterpolargl\"}],\"scatterternary\":[{\"marker\":{\"colorbar\":{\"outlinewidth\":0,\"ticks\":\"\"}},\"type\":\"scatterternary\"}],\"surface\":[{\"colorbar\":{\"outlinewidth\":0,\"ticks\":\"\"},\"colorscale\":[[0.0,\"#0d0887\"],[0.1111111111111111,\"#46039f\"],[0.2222222222222222,\"#7201a8\"],[0.3333333333333333,\"#9c179e\"],[0.4444444444444444,\"#bd3786\"],[0.5555555555555556,\"#d8576b\"],[0.6666666666666666,\"#ed7953\"],[0.7777777777777778,\"#fb9f3a\"],[0.8888888888888888,\"#fdca26\"],[1.0,\"#f0f921\"]],\"type\":\"surface\"}],\"table\":[{\"cells\":{\"fill\":{\"color\":\"#EBF0F8\"},\"line\":{\"color\":\"white\"}},\"header\":{\"fill\":{\"color\":\"#C8D4E3\"},\"line\":{\"color\":\"white\"}},\"type\":\"table\"}]},\"layout\":{\"annotationdefaults\":{\"arrowcolor\":\"#2a3f5f\",\"arrowhead\":0,\"arrowwidth\":1},\"autotypenumbers\":\"strict\",\"coloraxis\":{\"colorbar\":{\"outlinewidth\":0,\"ticks\":\"\"}},\"colorscale\":{\"diverging\":[[0,\"#8e0152\"],[0.1,\"#c51b7d\"],[0.2,\"#de77ae\"],[0.3,\"#f1b6da\"],[0.4,\"#fde0ef\"],[0.5,\"#f7f7f7\"],[0.6,\"#e6f5d0\"],[0.7,\"#b8e186\"],[0.8,\"#7fbc41\"],[0.9,\"#4d9221\"],[1,\"#276419\"]],\"sequential\":[[0.0,\"#0d0887\"],[0.1111111111111111,\"#46039f\"],[0.2222222222222222,\"#7201a8\"],[0.3333333333333333,\"#9c179e\"],[0.4444444444444444,\"#bd3786\"],[0.5555555555555556,\"#d8576b\"],[0.6666666666666666,\"#ed7953\"],[0.7777777777777778,\"#fb9f3a\"],[0.8888888888888888,\"#fdca26\"],[1.0,\"#f0f921\"]],\"sequentialminus\":[[0.0,\"#0d0887\"],[0.1111111111111111,\"#46039f\"],[0.2222222222222222,\"#7201a8\"],[0.3333333333333333,\"#9c179e\"],[0.4444444444444444,\"#bd3786\"],[0.5555555555555556,\"#d8576b\"],[0.6666666666666666,\"#ed7953\"],[0.7777777777777778,\"#fb9f3a\"],[0.8888888888888888,\"#fdca26\"],[1.0,\"#f0f921\"]]},\"colorway\":[\"#636efa\",\"#EF553B\",\"#00cc96\",\"#ab63fa\",\"#FFA15A\",\"#19d3f3\",\"#FF6692\",\"#B6E880\",\"#FF97FF\",\"#FECB52\"],\"font\":{\"color\":\"#2a3f5f\"},\"geo\":{\"bgcolor\":\"white\",\"lakecolor\":\"white\",\"landcolor\":\"#E5ECF6\",\"showlakes\":true,\"showland\":true,\"subunitcolor\":\"white\"},\"hoverlabel\":{\"align\":\"left\"},\"hovermode\":\"closest\",\"mapbox\":{\"style\":\"light\"},\"paper_bgcolor\":\"white\",\"plot_bgcolor\":\"#E5ECF6\",\"polar\":{\"angularaxis\":{\"gridcolor\":\"white\",\"linecolor\":\"white\",\"ticks\":\"\"},\"bgcolor\":\"#E5ECF6\",\"radialaxis\":{\"gridcolor\":\"white\",\"linecolor\":\"white\",\"ticks\":\"\"}},\"scene\":{\"xaxis\":{\"backgroundcolor\":\"#E5ECF6\",\"gridcolor\":\"white\",\"gridwidth\":2,\"linecolor\":\"white\",\"showbackground\":true,\"ticks\":\"\",\"zerolinecolor\":\"white\"},\"yaxis\":{\"backgroundcolor\":\"#E5ECF6\",\"gridcolor\":\"white\",\"gridwidth\":2,\"linecolor\":\"white\",\"showbackground\":true,\"ticks\":\"\",\"zerolinecolor\":\"white\"},\"zaxis\":{\"backgroundcolor\":\"#E5ECF6\",\"gridcolor\":\"white\",\"gridwidth\":2,\"linecolor\":\"white\",\"showbackground\":true,\"ticks\":\"\",\"zerolinecolor\":\"white\"}},\"shapedefaults\":{\"line\":{\"color\":\"#2a3f5f\"}},\"ternary\":{\"aaxis\":{\"gridcolor\":\"white\",\"linecolor\":\"white\",\"ticks\":\"\"},\"baxis\":{\"gridcolor\":\"white\",\"linecolor\":\"white\",\"ticks\":\"\"},\"bgcolor\":\"#E5ECF6\",\"caxis\":{\"gridcolor\":\"white\",\"linecolor\":\"white\",\"ticks\":\"\"}},\"title\":{\"x\":0.05},\"xaxis\":{\"automargin\":true,\"gridcolor\":\"white\",\"linecolor\":\"white\",\"ticks\":\"\",\"title\":{\"standoff\":15},\"zerolinecolor\":\"white\",\"zerolinewidth\":2},\"yaxis\":{\"automargin\":true,\"gridcolor\":\"white\",\"linecolor\":\"white\",\"ticks\":\"\",\"title\":{\"standoff\":15},\"zerolinecolor\":\"white\",\"zerolinewidth\":2}}},\"title\":{\"text\":\"TF-IDF - Manifesto 2017\"},\"xaxis\":{\"anchor\":\"y\",\"domain\":[0.0,0.49],\"title\":{\"text\":\"year\"}},\"xaxis2\":{\"anchor\":\"y2\",\"domain\":[0.51,1.0],\"matches\":\"x\",\"title\":{\"text\":\"year\"}},\"yaxis\":{\"anchor\":\"x\",\"domain\":[0.0,1.0],\"title\":{\"text\":\"Cosine Similarity\"}},\"yaxis2\":{\"anchor\":\"x2\",\"domain\":[0.0,1.0],\"matches\":\"y\",\"showticklabels\":false}},                        {\"responsive\": true}                    ).then(function(){\n",
       "                            \n",
       "var gd = document.getElementById('48c0702f-f12a-47bc-9c31-096472382b7c');\n",
       "var x = new MutationObserver(function (mutations, observer) {{\n",
       "        var display = window.getComputedStyle(gd).display;\n",
       "        if (!display || display === 'none') {{\n",
       "            console.log([gd, 'removed!']);\n",
       "            Plotly.purge(gd);\n",
       "            observer.disconnect();\n",
       "        }}\n",
       "}});\n",
       "\n",
       "// Listen for the removal of the full notebook cells\n",
       "var notebookContainer = gd.closest('#notebook-container');\n",
       "if (notebookContainer) {{\n",
       "    x.observe(notebookContainer, {childList: true});\n",
       "}}\n",
       "\n",
       "// Listen for the clearing of the current output cell\n",
       "var outputEl = gd.closest('.output');\n",
       "if (outputEl) {{\n",
       "    x.observe(outputEl, {childList: true});\n",
       "}}\n",
       "\n",
       "                        })                };                });            </script>        </div>"
      ]
     },
     "metadata": {},
     "output_type": "display_data"
    }
   ],
   "source": [
    "px.line(tmp2017,\n",
    "        x='annee',\n",
    "        y=tmp2017.columns[3:],\n",
    "        facet_col='partyname',\n",
    "        labels={'partyname':'Journal','variable':'Party','value':'Cosine Similarity','annee':'year'},\n",
    "        title='TF-IDF - Manifesto 2017',\n",
    "        color_discrete_map=dict_color\n",
    "       )"
   ]
  },
  {
   "cell_type": "code",
   "execution_count": 82,
   "id": "d0ba1285",
   "metadata": {},
   "outputs": [],
   "source": [
    "all_sims = pd.concat([tmp2002,tmp2007,tmp2012,tmp2017])"
   ]
  },
  {
   "cell_type": "code",
   "execution_count": 97,
   "id": "1b85a117",
   "metadata": {},
   "outputs": [],
   "source": [
    "all_sims.fichier = all_sims.fichier.replace({1:2002,2:2007,3:2012,4:2017})"
   ]
  },
  {
   "cell_type": "code",
   "execution_count": 101,
   "id": "3e7d682a",
   "metadata": {},
   "outputs": [
    {
     "data": {
      "application/vnd.plotly.v1+json": {
       "config": {
        "plotlyServerURL": "https://plot.ly"
       },
       "data": [
        {
         "hovertemplate": "Party=EELV<br>Journal=Le Figaro<br>manifesto=2002<br>year=%{x}<br>Cosine Similarity=%{y}<extra></extra>",
         "legendgroup": "EELV",
         "line": {
          "color": "green",
          "dash": "solid"
         },
         "marker": {
          "symbol": "circle"
         },
         "mode": "lines",
         "name": "EELV",
         "orientation": "v",
         "showlegend": true,
         "type": "scatter",
         "x": [
          2001,
          2002,
          2003,
          2004,
          2005,
          2006
         ],
         "xaxis": "x5",
         "y": [
          0.04497259110212326,
          0.05173114314675331,
          0.05335190147161484,
          0.04835408926010132,
          0.04637168347835541,
          0.04480404034256935
         ],
         "yaxis": "y5"
        },
        {
         "hovertemplate": "Party=EELV<br>Journal=Le Figaro<br>manifesto=2007<br>year=%{x}<br>Cosine Similarity=%{y}<extra></extra>",
         "legendgroup": "EELV",
         "line": {
          "color": "green",
          "dash": "solid"
         },
         "marker": {
          "symbol": "circle"
         },
         "mode": "lines",
         "name": "EELV",
         "orientation": "v",
         "showlegend": false,
         "type": "scatter",
         "x": [
          2006,
          2007,
          2008,
          2009,
          2010,
          2011
         ],
         "xaxis": "x6",
         "y": [
          0.06900808215141296,
          0.06144362688064575,
          0.06269937008619308,
          0.06118795648217201,
          0.05620528385043144,
          0.0666234940290451
         ],
         "yaxis": "y6"
        },
        {
         "hovertemplate": "Party=EELV<br>Journal=Le Figaro<br>manifesto=2012<br>year=%{x}<br>Cosine Similarity=%{y}<extra></extra>",
         "legendgroup": "EELV",
         "line": {
          "color": "green",
          "dash": "solid"
         },
         "marker": {
          "symbol": "circle"
         },
         "mode": "lines",
         "name": "EELV",
         "orientation": "v",
         "showlegend": false,
         "type": "scatter",
         "x": [
          2011,
          2012,
          2013,
          2014,
          2015,
          2016
         ],
         "xaxis": "x7",
         "y": [
          0.05579860508441925,
          0.054462332278490067,
          0.058709241449832916,
          0.05274366959929466,
          0.04805994778871536,
          0.04928824305534363
         ],
         "yaxis": "y7"
        },
        {
         "hovertemplate": "Party=EELV<br>Journal=Le Figaro<br>manifesto=2017<br>year=%{x}<br>Cosine Similarity=%{y}<extra></extra>",
         "legendgroup": "EELV",
         "line": {
          "color": "green",
          "dash": "solid"
         },
         "marker": {
          "symbol": "circle"
         },
         "mode": "lines",
         "name": "EELV",
         "orientation": "v",
         "showlegend": false,
         "type": "scatter",
         "x": [
          2016,
          2017,
          2018
         ],
         "xaxis": "x8",
         "y": [
          0.03445841744542122,
          0.02979547716677189,
          0.034435518085956573
         ],
         "yaxis": "y8"
        },
        {
         "hovertemplate": "Party=EELV<br>Journal=Le Monde<br>manifesto=2002<br>year=%{x}<br>Cosine Similarity=%{y}<extra></extra>",
         "legendgroup": "EELV",
         "line": {
          "color": "green",
          "dash": "solid"
         },
         "marker": {
          "symbol": "circle"
         },
         "mode": "lines",
         "name": "EELV",
         "orientation": "v",
         "showlegend": false,
         "type": "scatter",
         "x": [
          2001,
          2002,
          2003,
          2004,
          2005,
          2006
         ],
         "xaxis": "x",
         "y": [
          0.0510408841073513,
          0.04984688758850098,
          0.057535454630851746,
          0.05542204901576042,
          0.05567668005824089,
          0.04853653907775879
         ],
         "yaxis": "y"
        },
        {
         "hovertemplate": "Party=EELV<br>Journal=Le Monde<br>manifesto=2007<br>year=%{x}<br>Cosine Similarity=%{y}<extra></extra>",
         "legendgroup": "EELV",
         "line": {
          "color": "green",
          "dash": "solid"
         },
         "marker": {
          "symbol": "circle"
         },
         "mode": "lines",
         "name": "EELV",
         "orientation": "v",
         "showlegend": false,
         "type": "scatter",
         "x": [
          2006,
          2007,
          2008,
          2009,
          2010,
          2011
         ],
         "xaxis": "x2",
         "y": [
          0.07608085870742798,
          0.07713740319013596,
          0.07889814674854279,
          0.08330418914556503,
          0.08135049790143967,
          0.07858427613973618
         ],
         "yaxis": "y2"
        },
        {
         "hovertemplate": "Party=EELV<br>Journal=Le Monde<br>manifesto=2012<br>year=%{x}<br>Cosine Similarity=%{y}<extra></extra>",
         "legendgroup": "EELV",
         "line": {
          "color": "green",
          "dash": "solid"
         },
         "marker": {
          "symbol": "circle"
         },
         "mode": "lines",
         "name": "EELV",
         "orientation": "v",
         "showlegend": false,
         "type": "scatter",
         "x": [
          2011,
          2012,
          2013,
          2014,
          2015,
          2016
         ],
         "xaxis": "x3",
         "y": [
          0.06755222380161285,
          0.06492846459150314,
          0.07072073221206665,
          0.07025062292814255,
          0.06995382905006409,
          0.07166280597448349
         ],
         "yaxis": "y3"
        },
        {
         "hovertemplate": "Party=EELV<br>Journal=Le Monde<br>manifesto=2017<br>year=%{x}<br>Cosine Similarity=%{y}<extra></extra>",
         "legendgroup": "EELV",
         "line": {
          "color": "green",
          "dash": "solid"
         },
         "marker": {
          "symbol": "circle"
         },
         "mode": "lines",
         "name": "EELV",
         "orientation": "v",
         "showlegend": false,
         "type": "scatter",
         "x": [
          2016,
          2017,
          2018
         ],
         "xaxis": "x4",
         "y": [
          0.04975372925400734,
          0.048451852053403854,
          0.05015293136239052
         ],
         "yaxis": "y4"
        },
        {
         "hovertemplate": "Party=PS<br>Journal=Le Figaro<br>manifesto=2002<br>year=%{x}<br>Cosine Similarity=%{y}<extra></extra>",
         "legendgroup": "PS",
         "line": {
          "color": "pink",
          "dash": "solid"
         },
         "marker": {
          "symbol": "circle"
         },
         "mode": "lines",
         "name": "PS",
         "orientation": "v",
         "showlegend": true,
         "type": "scatter",
         "x": [
          2001,
          2002,
          2003,
          2004,
          2005,
          2006
         ],
         "xaxis": "x5",
         "y": [
          0.05540820211172104,
          0.06364943087100983,
          0.06611348688602448,
          0.06058014556765556,
          0.059810105711221695,
          0.05474719777703285
         ],
         "yaxis": "y5"
        },
        {
         "hovertemplate": "Party=PS<br>Journal=Le Figaro<br>manifesto=2007<br>year=%{x}<br>Cosine Similarity=%{y}<extra></extra>",
         "legendgroup": "PS",
         "line": {
          "color": "pink",
          "dash": "solid"
         },
         "marker": {
          "symbol": "circle"
         },
         "mode": "lines",
         "name": "PS",
         "orientation": "v",
         "showlegend": false,
         "type": "scatter",
         "x": [
          2006,
          2007,
          2008,
          2009,
          2010,
          2011
         ],
         "xaxis": "x6",
         "y": [
          0.06910564005374908,
          0.059906184673309326,
          0.06017562001943588,
          0.05859379842877388,
          0.054238349199295044,
          0.06394883990287781
         ],
         "yaxis": "y6"
        },
        {
         "hovertemplate": "Party=PS<br>Journal=Le Figaro<br>manifesto=2012<br>year=%{x}<br>Cosine Similarity=%{y}<extra></extra>",
         "legendgroup": "PS",
         "line": {
          "color": "pink",
          "dash": "solid"
         },
         "marker": {
          "symbol": "circle"
         },
         "mode": "lines",
         "name": "PS",
         "orientation": "v",
         "showlegend": false,
         "type": "scatter",
         "x": [
          2011,
          2012,
          2013,
          2014,
          2015,
          2016
         ],
         "xaxis": "x7",
         "y": [
          0.042642753571271896,
          0.04294116795063019,
          0.04584289342164993,
          0.04069541394710541,
          0.03626777231693268,
          0.03931473195552826
         ],
         "yaxis": "y7"
        },
        {
         "hovertemplate": "Party=PS<br>Journal=Le Figaro<br>manifesto=2017<br>year=%{x}<br>Cosine Similarity=%{y}<extra></extra>",
         "legendgroup": "PS",
         "line": {
          "color": "pink",
          "dash": "solid"
         },
         "marker": {
          "symbol": "circle"
         },
         "mode": "lines",
         "name": "PS",
         "orientation": "v",
         "showlegend": false,
         "type": "scatter",
         "x": [
          2016,
          2017,
          2018
         ],
         "xaxis": "x8",
         "y": [
          0.027844855561852455,
          0.02391112595796585,
          0.027931679040193558
         ],
         "yaxis": "y8"
        },
        {
         "hovertemplate": "Party=PS<br>Journal=Le Monde<br>manifesto=2002<br>year=%{x}<br>Cosine Similarity=%{y}<extra></extra>",
         "legendgroup": "PS",
         "line": {
          "color": "pink",
          "dash": "solid"
         },
         "marker": {
          "symbol": "circle"
         },
         "mode": "lines",
         "name": "PS",
         "orientation": "v",
         "showlegend": false,
         "type": "scatter",
         "x": [
          2001,
          2002,
          2003,
          2004,
          2005,
          2006
         ],
         "xaxis": "x",
         "y": [
          0.06330356001853943,
          0.0627002939581871,
          0.07187333703041077,
          0.06860587000846863,
          0.06905949860811234,
          0.05903321132063866
         ],
         "yaxis": "y"
        },
        {
         "hovertemplate": "Party=PS<br>Journal=Le Monde<br>manifesto=2007<br>year=%{x}<br>Cosine Similarity=%{y}<extra></extra>",
         "legendgroup": "PS",
         "line": {
          "color": "pink",
          "dash": "solid"
         },
         "marker": {
          "symbol": "circle"
         },
         "mode": "lines",
         "name": "PS",
         "orientation": "v",
         "showlegend": false,
         "type": "scatter",
         "x": [
          2006,
          2007,
          2008,
          2009,
          2010,
          2011
         ],
         "xaxis": "x2",
         "y": [
          0.07676224410533905,
          0.07716476172208786,
          0.07776309549808502,
          0.0814494714140892,
          0.08152969926595688,
          0.07767363637685776
         ],
         "yaxis": "y2"
        },
        {
         "hovertemplate": "Party=PS<br>Journal=Le Monde<br>manifesto=2012<br>year=%{x}<br>Cosine Similarity=%{y}<extra></extra>",
         "legendgroup": "PS",
         "line": {
          "color": "pink",
          "dash": "solid"
         },
         "marker": {
          "symbol": "circle"
         },
         "mode": "lines",
         "name": "PS",
         "orientation": "v",
         "showlegend": false,
         "type": "scatter",
         "x": [
          2011,
          2012,
          2013,
          2014,
          2015,
          2016
         ],
         "xaxis": "x3",
         "y": [
          0.050624556839466095,
          0.05049582198262215,
          0.05515505000948906,
          0.05440838262438774,
          0.05323528125882149,
          0.056882116943597794
         ],
         "yaxis": "y3"
        },
        {
         "hovertemplate": "Party=PS<br>Journal=Le Monde<br>manifesto=2017<br>year=%{x}<br>Cosine Similarity=%{y}<extra></extra>",
         "legendgroup": "PS",
         "line": {
          "color": "pink",
          "dash": "solid"
         },
         "marker": {
          "symbol": "circle"
         },
         "mode": "lines",
         "name": "PS",
         "orientation": "v",
         "showlegend": false,
         "type": "scatter",
         "x": [
          2016,
          2017,
          2018
         ],
         "xaxis": "x4",
         "y": [
          0.04204640910029411,
          0.041825566440820694,
          0.04321742802858353
         ],
         "yaxis": "y4"
        },
        {
         "hovertemplate": "Party=MoDem/EM<br>Journal=Le Figaro<br>manifesto=2002<br>year=%{x}<br>Cosine Similarity=%{y}<extra></extra>",
         "legendgroup": "MoDem/EM",
         "line": {
          "color": "orange",
          "dash": "solid"
         },
         "marker": {
          "symbol": "circle"
         },
         "mode": "lines",
         "name": "MoDem/EM",
         "orientation": "v",
         "showlegend": true,
         "type": "scatter",
         "x": [
          2001,
          2002,
          2003,
          2004,
          2005,
          2006
         ],
         "xaxis": "x5",
         "y": [
          0.07265587151050568,
          0.08375068008899689,
          0.08862125128507614,
          0.08033854514360428,
          0.07726839929819107,
          0.07020518183708191
         ],
         "yaxis": "y5"
        },
        {
         "hovertemplate": "Party=MoDem/EM<br>Journal=Le Figaro<br>manifesto=2007<br>year=%{x}<br>Cosine Similarity=%{y}<extra></extra>",
         "legendgroup": "MoDem/EM",
         "line": {
          "color": "orange",
          "dash": "solid"
         },
         "marker": {
          "symbol": "circle"
         },
         "mode": "lines",
         "name": "MoDem/EM",
         "orientation": "v",
         "showlegend": false,
         "type": "scatter",
         "x": [
          2006,
          2007,
          2008,
          2009,
          2010,
          2011
         ],
         "xaxis": "x6",
         "y": [
          0.07605558633804321,
          0.06843940168619156,
          0.06742987781763077,
          0.06571231782436371,
          0.06052793934941292,
          0.07183178514242172
         ],
         "yaxis": "y6"
        },
        {
         "hovertemplate": "Party=MoDem/EM<br>Journal=Le Figaro<br>manifesto=2012<br>year=%{x}<br>Cosine Similarity=%{y}<extra></extra>",
         "legendgroup": "MoDem/EM",
         "line": {
          "color": "orange",
          "dash": "solid"
         },
         "marker": {
          "symbol": "circle"
         },
         "mode": "lines",
         "name": "MoDem/EM",
         "orientation": "v",
         "showlegend": false,
         "type": "scatter",
         "x": [
          2011,
          2012,
          2013,
          2014,
          2015,
          2016
         ],
         "xaxis": "x7",
         "y": [
          0.06020336225628853,
          0.05831318348646164,
          0.061150845140218735,
          0.05626499652862549,
          0.050515253096818924,
          0.052333664149045944
         ],
         "yaxis": "y7"
        },
        {
         "hovertemplate": "Party=MoDem/EM<br>Journal=Le Figaro<br>manifesto=2017<br>year=%{x}<br>Cosine Similarity=%{y}<extra></extra>",
         "legendgroup": "MoDem/EM",
         "line": {
          "color": "orange",
          "dash": "solid"
         },
         "marker": {
          "symbol": "circle"
         },
         "mode": "lines",
         "name": "MoDem/EM",
         "orientation": "v",
         "showlegend": false,
         "type": "scatter",
         "x": [
          2016,
          2017,
          2018
         ],
         "xaxis": "x8",
         "y": [
          0.053748719394207,
          0.04596114158630371,
          0.052638646215200424
         ],
         "yaxis": "y8"
        },
        {
         "hovertemplate": "Party=MoDem/EM<br>Journal=Le Monde<br>manifesto=2002<br>year=%{x}<br>Cosine Similarity=%{y}<extra></extra>",
         "legendgroup": "MoDem/EM",
         "line": {
          "color": "orange",
          "dash": "solid"
         },
         "marker": {
          "symbol": "circle"
         },
         "mode": "lines",
         "name": "MoDem/EM",
         "orientation": "v",
         "showlegend": false,
         "type": "scatter",
         "x": [
          2001,
          2002,
          2003,
          2004,
          2005,
          2006
         ],
         "xaxis": "x",
         "y": [
          0.08187878131866455,
          0.07920490205287933,
          0.09476719051599503,
          0.08948659151792526,
          0.08866485208272934,
          0.07652387022972107
         ],
         "yaxis": "y"
        },
        {
         "hovertemplate": "Party=MoDem/EM<br>Journal=Le Monde<br>manifesto=2007<br>year=%{x}<br>Cosine Similarity=%{y}<extra></extra>",
         "legendgroup": "MoDem/EM",
         "line": {
          "color": "orange",
          "dash": "solid"
         },
         "marker": {
          "symbol": "circle"
         },
         "mode": "lines",
         "name": "MoDem/EM",
         "orientation": "v",
         "showlegend": false,
         "type": "scatter",
         "x": [
          2006,
          2007,
          2008,
          2009,
          2010,
          2011
         ],
         "xaxis": "x2",
         "y": [
          0.08414161205291748,
          0.08694484829902649,
          0.08635221421718597,
          0.09170717746019363,
          0.09097891300916672,
          0.08594198524951935
         ],
         "yaxis": "y2"
        },
        {
         "hovertemplate": "Party=MoDem/EM<br>Journal=Le Monde<br>manifesto=2012<br>year=%{x}<br>Cosine Similarity=%{y}<extra></extra>",
         "legendgroup": "MoDem/EM",
         "line": {
          "color": "orange",
          "dash": "solid"
         },
         "marker": {
          "symbol": "circle"
         },
         "mode": "lines",
         "name": "MoDem/EM",
         "orientation": "v",
         "showlegend": false,
         "type": "scatter",
         "x": [
          2011,
          2012,
          2013,
          2014,
          2015,
          2016
         ],
         "xaxis": "x3",
         "y": [
          0.0723264142870903,
          0.0706348642706871,
          0.07470107078552246,
          0.07567351311445236,
          0.07468200474977493,
          0.07803261280059814
         ],
         "yaxis": "y3"
        },
        {
         "hovertemplate": "Party=MoDem/EM<br>Journal=Le Monde<br>manifesto=2017<br>year=%{x}<br>Cosine Similarity=%{y}<extra></extra>",
         "legendgroup": "MoDem/EM",
         "line": {
          "color": "orange",
          "dash": "solid"
         },
         "marker": {
          "symbol": "circle"
         },
         "mode": "lines",
         "name": "MoDem/EM",
         "orientation": "v",
         "showlegend": false,
         "type": "scatter",
         "x": [
          2016,
          2017,
          2018
         ],
         "xaxis": "x4",
         "y": [
          0.0752105638384819,
          0.07422730326652527,
          0.07471296191215515
         ],
         "yaxis": "y4"
        },
        {
         "hovertemplate": "Party=RPR/UMP/LR<br>Journal=Le Figaro<br>manifesto=2002<br>year=%{x}<br>Cosine Similarity=%{y}<extra></extra>",
         "legendgroup": "RPR/UMP/LR",
         "line": {
          "color": "blue",
          "dash": "solid"
         },
         "marker": {
          "symbol": "circle"
         },
         "mode": "lines",
         "name": "RPR/UMP/LR",
         "orientation": "v",
         "showlegend": true,
         "type": "scatter",
         "x": [
          2001,
          2002,
          2003,
          2004,
          2005,
          2006
         ],
         "xaxis": "x5",
         "y": [
          0.044735852628946304,
          0.053476858884096146,
          0.05519210919737816,
          0.04899464175105095,
          0.04659273102879524,
          0.04380050301551819
         ],
         "yaxis": "y5"
        },
        {
         "hovertemplate": "Party=RPR/UMP/LR<br>Journal=Le Figaro<br>manifesto=2007<br>year=%{x}<br>Cosine Similarity=%{y}<extra></extra>",
         "legendgroup": "RPR/UMP/LR",
         "line": {
          "color": "blue",
          "dash": "solid"
         },
         "marker": {
          "symbol": "circle"
         },
         "mode": "lines",
         "name": "RPR/UMP/LR",
         "orientation": "v",
         "showlegend": false,
         "type": "scatter",
         "x": [
          2006,
          2007,
          2008,
          2009,
          2010,
          2011
         ],
         "xaxis": "x6",
         "y": [
          0.07205911725759506,
          0.06389005482196808,
          0.062117524445056915,
          0.06108427792787552,
          0.056240346282720566,
          0.06764284521341324
         ],
         "yaxis": "y6"
        },
        {
         "hovertemplate": "Party=RPR/UMP/LR<br>Journal=Le Figaro<br>manifesto=2012<br>year=%{x}<br>Cosine Similarity=%{y}<extra></extra>",
         "legendgroup": "RPR/UMP/LR",
         "line": {
          "color": "blue",
          "dash": "solid"
         },
         "marker": {
          "symbol": "circle"
         },
         "mode": "lines",
         "name": "RPR/UMP/LR",
         "orientation": "v",
         "showlegend": false,
         "type": "scatter",
         "x": [
          2011,
          2012,
          2013,
          2014,
          2015,
          2016
         ],
         "xaxis": "x7",
         "y": [
          0.05338536202907562,
          0.049701839685440063,
          0.053030259907245636,
          0.04942307621240616,
          0.04518376290798187,
          0.046720169484615326
         ],
         "yaxis": "y7"
        },
        {
         "hovertemplate": "Party=RPR/UMP/LR<br>Journal=Le Figaro<br>manifesto=2017<br>year=%{x}<br>Cosine Similarity=%{y}<extra></extra>",
         "legendgroup": "RPR/UMP/LR",
         "line": {
          "color": "blue",
          "dash": "solid"
         },
         "marker": {
          "symbol": "circle"
         },
         "mode": "lines",
         "name": "RPR/UMP/LR",
         "orientation": "v",
         "showlegend": false,
         "type": "scatter",
         "x": [
          2016,
          2017,
          2018
         ],
         "xaxis": "x8",
         "y": [
          0.04895201325416565,
          0.04137483239173889,
          0.04655148461461067
         ],
         "yaxis": "y8"
        },
        {
         "hovertemplate": "Party=RPR/UMP/LR<br>Journal=Le Monde<br>manifesto=2002<br>year=%{x}<br>Cosine Similarity=%{y}<extra></extra>",
         "legendgroup": "RPR/UMP/LR",
         "line": {
          "color": "blue",
          "dash": "solid"
         },
         "marker": {
          "symbol": "circle"
         },
         "mode": "lines",
         "name": "RPR/UMP/LR",
         "orientation": "v",
         "showlegend": false,
         "type": "scatter",
         "x": [
          2001,
          2002,
          2003,
          2004,
          2005,
          2006
         ],
         "xaxis": "x",
         "y": [
          0.05117468535900116,
          0.05150701478123665,
          0.06170172244310379,
          0.05748096480965614,
          0.055394381284713745,
          0.0476703904569149
         ],
         "yaxis": "y"
        },
        {
         "hovertemplate": "Party=RPR/UMP/LR<br>Journal=Le Monde<br>manifesto=2007<br>year=%{x}<br>Cosine Similarity=%{y}<extra></extra>",
         "legendgroup": "RPR/UMP/LR",
         "line": {
          "color": "blue",
          "dash": "solid"
         },
         "marker": {
          "symbol": "circle"
         },
         "mode": "lines",
         "name": "RPR/UMP/LR",
         "orientation": "v",
         "showlegend": false,
         "type": "scatter",
         "x": [
          2006,
          2007,
          2008,
          2009,
          2010,
          2011
         ],
         "xaxis": "x2",
         "y": [
          0.07908796519041061,
          0.08135200291872025,
          0.07943910360336304,
          0.08412790298461914,
          0.083590567111969,
          0.08030680567026138
         ],
         "yaxis": "y2"
        },
        {
         "hovertemplate": "Party=RPR/UMP/LR<br>Journal=Le Monde<br>manifesto=2012<br>year=%{x}<br>Cosine Similarity=%{y}<extra></extra>",
         "legendgroup": "RPR/UMP/LR",
         "line": {
          "color": "blue",
          "dash": "solid"
         },
         "marker": {
          "symbol": "circle"
         },
         "mode": "lines",
         "name": "RPR/UMP/LR",
         "orientation": "v",
         "showlegend": false,
         "type": "scatter",
         "x": [
          2011,
          2012,
          2013,
          2014,
          2015,
          2016
         ],
         "xaxis": "x3",
         "y": [
          0.06219853460788727,
          0.05894296616315842,
          0.06263889372348785,
          0.06443442404270172,
          0.06495367735624313,
          0.06681816279888153
         ],
         "yaxis": "y3"
        },
        {
         "hovertemplate": "Party=RPR/UMP/LR<br>Journal=Le Monde<br>manifesto=2017<br>year=%{x}<br>Cosine Similarity=%{y}<extra></extra>",
         "legendgroup": "RPR/UMP/LR",
         "line": {
          "color": "blue",
          "dash": "solid"
         },
         "marker": {
          "symbol": "circle"
         },
         "mode": "lines",
         "name": "RPR/UMP/LR",
         "orientation": "v",
         "showlegend": false,
         "type": "scatter",
         "x": [
          2016,
          2017,
          2018
         ],
         "xaxis": "x4",
         "y": [
          0.06811249256134033,
          0.06607886403799057,
          0.065226249396801
         ],
         "yaxis": "y4"
        },
        {
         "hovertemplate": "Party=FN<br>Journal=Le Figaro<br>manifesto=2002<br>year=%{x}<br>Cosine Similarity=%{y}<extra></extra>",
         "legendgroup": "FN",
         "line": {
          "color": "darkslateblue",
          "dash": "solid"
         },
         "marker": {
          "symbol": "circle"
         },
         "mode": "lines",
         "name": "FN",
         "orientation": "v",
         "showlegend": true,
         "type": "scatter",
         "x": [
          2001,
          2002,
          2003,
          2004,
          2005,
          2006
         ],
         "xaxis": "x5",
         "y": [
          0.06658316403627396,
          0.0752578154206276,
          0.07915641367435455,
          0.07193043828010559,
          0.06947740167379379,
          0.06533991545438766
         ],
         "yaxis": "y5"
        },
        {
         "hovertemplate": "Party=FN<br>Journal=Le Figaro<br>manifesto=2007<br>year=%{x}<br>Cosine Similarity=%{y}<extra></extra>",
         "legendgroup": "FN",
         "line": {
          "color": "darkslateblue",
          "dash": "solid"
         },
         "marker": {
          "symbol": "circle"
         },
         "mode": "lines",
         "name": "FN",
         "orientation": "v",
         "showlegend": false,
         "type": "scatter",
         "x": [
          2006,
          2007,
          2008,
          2009,
          2010,
          2011
         ],
         "xaxis": "x6",
         "y": [
          0.08437484502792358,
          0.07964807003736496,
          0.07897698879241943,
          0.07702036201953888,
          0.07212080806493759,
          0.08557872474193573
         ],
         "yaxis": "y6"
        },
        {
         "hovertemplate": "Party=FN<br>Journal=Le Figaro<br>manifesto=2012<br>year=%{x}<br>Cosine Similarity=%{y}<extra></extra>",
         "legendgroup": "FN",
         "line": {
          "color": "darkslateblue",
          "dash": "solid"
         },
         "marker": {
          "symbol": "circle"
         },
         "mode": "lines",
         "name": "FN",
         "orientation": "v",
         "showlegend": false,
         "type": "scatter",
         "x": [
          2011,
          2012,
          2013,
          2014,
          2015,
          2016
         ],
         "xaxis": "x7",
         "y": [
          0.047548990696668625,
          0.04561794921755791,
          0.04997395724058151,
          0.043126430362463,
          0.04032590240240097,
          0.041782815009355545
         ],
         "yaxis": "y7"
        },
        {
         "hovertemplate": "Party=FN<br>Journal=Le Figaro<br>manifesto=2017<br>year=%{x}<br>Cosine Similarity=%{y}<extra></extra>",
         "legendgroup": "FN",
         "line": {
          "color": "darkslateblue",
          "dash": "solid"
         },
         "marker": {
          "symbol": "circle"
         },
         "mode": "lines",
         "name": "FN",
         "orientation": "v",
         "showlegend": false,
         "type": "scatter",
         "x": [
          2016,
          2017,
          2018
         ],
         "xaxis": "x8",
         "y": [
          0.04553314670920372,
          0.03637213259935379,
          0.04287521913647652
         ],
         "yaxis": "y8"
        },
        {
         "hovertemplate": "Party=FN<br>Journal=Le Monde<br>manifesto=2002<br>year=%{x}<br>Cosine Similarity=%{y}<extra></extra>",
         "legendgroup": "FN",
         "line": {
          "color": "darkslateblue",
          "dash": "solid"
         },
         "marker": {
          "symbol": "circle"
         },
         "mode": "lines",
         "name": "FN",
         "orientation": "v",
         "showlegend": false,
         "type": "scatter",
         "x": [
          2001,
          2002,
          2003,
          2004,
          2005,
          2006
         ],
         "xaxis": "x",
         "y": [
          0.07792520523071289,
          0.07473455369472504,
          0.08760440349578857,
          0.08352351188659668,
          0.08214512467384338,
          0.07086478918790817
         ],
         "yaxis": "y"
        },
        {
         "hovertemplate": "Party=FN<br>Journal=Le Monde<br>manifesto=2007<br>year=%{x}<br>Cosine Similarity=%{y}<extra></extra>",
         "legendgroup": "FN",
         "line": {
          "color": "darkslateblue",
          "dash": "solid"
         },
         "marker": {
          "symbol": "circle"
         },
         "mode": "lines",
         "name": "FN",
         "orientation": "v",
         "showlegend": false,
         "type": "scatter",
         "x": [
          2006,
          2007,
          2008,
          2009,
          2010,
          2011
         ],
         "xaxis": "x2",
         "y": [
          0.09305603802204132,
          0.09539148956537247,
          0.0934656634926796,
          0.09962141513824463,
          0.09910427778959274,
          0.0982455387711525
         ],
         "yaxis": "y2"
        },
        {
         "hovertemplate": "Party=FN<br>Journal=Le Monde<br>manifesto=2012<br>year=%{x}<br>Cosine Similarity=%{y}<extra></extra>",
         "legendgroup": "FN",
         "line": {
          "color": "darkslateblue",
          "dash": "solid"
         },
         "marker": {
          "symbol": "circle"
         },
         "mode": "lines",
         "name": "FN",
         "orientation": "v",
         "showlegend": false,
         "type": "scatter",
         "x": [
          2011,
          2012,
          2013,
          2014,
          2015,
          2016
         ],
         "xaxis": "x3",
         "y": [
          0.05622820556163788,
          0.053208012133836746,
          0.05984627828001976,
          0.05706709995865822,
          0.05828890576958656,
          0.060646552592515945
         ],
         "yaxis": "y3"
        },
        {
         "hovertemplate": "Party=FN<br>Journal=Le Monde<br>manifesto=2017<br>year=%{x}<br>Cosine Similarity=%{y}<extra></extra>",
         "legendgroup": "FN",
         "line": {
          "color": "darkslateblue",
          "dash": "solid"
         },
         "marker": {
          "symbol": "circle"
         },
         "mode": "lines",
         "name": "FN",
         "orientation": "v",
         "showlegend": false,
         "type": "scatter",
         "x": [
          2016,
          2017,
          2018
         ],
         "xaxis": "x4",
         "y": [
          0.06323771923780441,
          0.05899572744965553,
          0.06013498082756996
         ],
         "yaxis": "y4"
        },
        {
         "hovertemplate": "Party=PCF/PG/LFI<br>Journal=Le Figaro<br>manifesto=2002<br>year=%{x}<br>Cosine Similarity=%{y}<extra></extra>",
         "legendgroup": "PCF/PG/LFI",
         "line": {
          "color": "red",
          "dash": "solid"
         },
         "marker": {
          "symbol": "circle"
         },
         "mode": "lines",
         "name": "PCF/PG/LFI",
         "orientation": "v",
         "showlegend": true,
         "type": "scatter",
         "x": [
          2001,
          2002,
          2003,
          2004,
          2005,
          2006
         ],
         "xaxis": "x5",
         "y": [
          null,
          null,
          null,
          null,
          null,
          null
         ],
         "yaxis": "y5"
        },
        {
         "hovertemplate": "Party=PCF/PG/LFI<br>Journal=Le Figaro<br>manifesto=2007<br>year=%{x}<br>Cosine Similarity=%{y}<extra></extra>",
         "legendgroup": "PCF/PG/LFI",
         "line": {
          "color": "red",
          "dash": "solid"
         },
         "marker": {
          "symbol": "circle"
         },
         "mode": "lines",
         "name": "PCF/PG/LFI",
         "orientation": "v",
         "showlegend": false,
         "type": "scatter",
         "x": [
          2006,
          2007,
          2008,
          2009,
          2010,
          2011
         ],
         "xaxis": "x6",
         "y": [
          0.06370265036821365,
          0.05625671148300171,
          0.05539215728640556,
          0.05349549651145935,
          0.050880685448646545,
          0.059030722826719284
         ],
         "yaxis": "y6"
        },
        {
         "hovertemplate": "Party=PCF/PG/LFI<br>Journal=Le Figaro<br>manifesto=2012<br>year=%{x}<br>Cosine Similarity=%{y}<extra></extra>",
         "legendgroup": "PCF/PG/LFI",
         "line": {
          "color": "red",
          "dash": "solid"
         },
         "marker": {
          "symbol": "circle"
         },
         "mode": "lines",
         "name": "PCF/PG/LFI",
         "orientation": "v",
         "showlegend": false,
         "type": "scatter",
         "x": [
          2011,
          2012,
          2013,
          2014,
          2015,
          2016
         ],
         "xaxis": "x7",
         "y": [
          0.053930383175611496,
          0.0529322475194931,
          0.05625103414058685,
          0.05057453364133835,
          0.045508451759815216,
          0.04799283668398857
         ],
         "yaxis": "y7"
        },
        {
         "hovertemplate": "Party=PCF/PG/LFI<br>Journal=Le Figaro<br>manifesto=2017<br>year=%{x}<br>Cosine Similarity=%{y}<extra></extra>",
         "legendgroup": "PCF/PG/LFI",
         "line": {
          "color": "red",
          "dash": "solid"
         },
         "marker": {
          "symbol": "circle"
         },
         "mode": "lines",
         "name": "PCF/PG/LFI",
         "orientation": "v",
         "showlegend": false,
         "type": "scatter",
         "x": [
          2016,
          2017,
          2018
         ],
         "xaxis": "x8",
         "y": [
          0.05188395082950592,
          0.04381252080202103,
          0.050988342612981796
         ],
         "yaxis": "y8"
        },
        {
         "hovertemplate": "Party=PCF/PG/LFI<br>Journal=Le Monde<br>manifesto=2002<br>year=%{x}<br>Cosine Similarity=%{y}<extra></extra>",
         "legendgroup": "PCF/PG/LFI",
         "line": {
          "color": "red",
          "dash": "solid"
         },
         "marker": {
          "symbol": "circle"
         },
         "mode": "lines",
         "name": "PCF/PG/LFI",
         "orientation": "v",
         "showlegend": false,
         "type": "scatter",
         "x": [
          2001,
          2002,
          2003,
          2004,
          2005,
          2006
         ],
         "xaxis": "x",
         "y": [
          null,
          null,
          null,
          null,
          null,
          null
         ],
         "yaxis": "y"
        },
        {
         "hovertemplate": "Party=PCF/PG/LFI<br>Journal=Le Monde<br>manifesto=2007<br>year=%{x}<br>Cosine Similarity=%{y}<extra></extra>",
         "legendgroup": "PCF/PG/LFI",
         "line": {
          "color": "red",
          "dash": "solid"
         },
         "marker": {
          "symbol": "circle"
         },
         "mode": "lines",
         "name": "PCF/PG/LFI",
         "orientation": "v",
         "showlegend": false,
         "type": "scatter",
         "x": [
          2006,
          2007,
          2008,
          2009,
          2010,
          2011
         ],
         "xaxis": "x2",
         "y": [
          0.07084072381258011,
          0.07008451968431473,
          0.06824282556772232,
          0.07185652107000351,
          0.07200438529253006,
          0.06887344270944595
         ],
         "yaxis": "y2"
        },
        {
         "hovertemplate": "Party=PCF/PG/LFI<br>Journal=Le Monde<br>manifesto=2012<br>year=%{x}<br>Cosine Similarity=%{y}<extra></extra>",
         "legendgroup": "PCF/PG/LFI",
         "line": {
          "color": "red",
          "dash": "solid"
         },
         "marker": {
          "symbol": "circle"
         },
         "mode": "lines",
         "name": "PCF/PG/LFI",
         "orientation": "v",
         "showlegend": false,
         "type": "scatter",
         "x": [
          2011,
          2012,
          2013,
          2014,
          2015,
          2016
         ],
         "xaxis": "x3",
         "y": [
          0.06548116356134415,
          0.06410153210163116,
          0.06744159758090973,
          0.0675889328122139,
          0.06655563414096832,
          0.0706007182598114
         ],
         "yaxis": "y3"
        },
        {
         "hovertemplate": "Party=PCF/PG/LFI<br>Journal=Le Monde<br>manifesto=2017<br>year=%{x}<br>Cosine Similarity=%{y}<extra></extra>",
         "legendgroup": "PCF/PG/LFI",
         "line": {
          "color": "red",
          "dash": "solid"
         },
         "marker": {
          "symbol": "circle"
         },
         "mode": "lines",
         "name": "PCF/PG/LFI",
         "orientation": "v",
         "showlegend": false,
         "type": "scatter",
         "x": [
          2016,
          2017,
          2018
         ],
         "xaxis": "x4",
         "y": [
          0.07332262396812439,
          0.07167358696460724,
          0.0735907107591629
         ],
         "yaxis": "y4"
        }
       ],
       "layout": {
        "annotations": [
         {
          "font": {},
          "showarrow": false,
          "text": "manifesto=2002",
          "x": 0.11499999999999999,
          "xanchor": "center",
          "xref": "paper",
          "y": 1,
          "yanchor": "bottom",
          "yref": "paper"
         },
         {
          "font": {},
          "showarrow": false,
          "text": "manifesto=2007",
          "x": 0.365,
          "xanchor": "center",
          "xref": "paper",
          "y": 1,
          "yanchor": "bottom",
          "yref": "paper"
         },
         {
          "font": {},
          "showarrow": false,
          "text": "manifesto=2012",
          "x": 0.615,
          "xanchor": "center",
          "xref": "paper",
          "y": 1,
          "yanchor": "bottom",
          "yref": "paper"
         },
         {
          "font": {},
          "showarrow": false,
          "text": "manifesto=2017",
          "x": 0.865,
          "xanchor": "center",
          "xref": "paper",
          "y": 1,
          "yanchor": "bottom",
          "yref": "paper"
         },
         {
          "font": {},
          "showarrow": false,
          "text": "Journal=Le Monde",
          "textangle": 90,
          "x": 0.98,
          "xanchor": "left",
          "xref": "paper",
          "y": 0.2425,
          "yanchor": "middle",
          "yref": "paper"
         },
         {
          "font": {},
          "showarrow": false,
          "text": "Journal=Le Figaro",
          "textangle": 90,
          "x": 0.98,
          "xanchor": "left",
          "xref": "paper",
          "y": 0.7575000000000001,
          "yanchor": "middle",
          "yref": "paper"
         }
        ],
        "legend": {
         "title": {
          "text": "Party"
         },
         "tracegroupgap": 0
        },
        "template": {
         "data": {
          "bar": [
           {
            "error_x": {
             "color": "#2a3f5f"
            },
            "error_y": {
             "color": "#2a3f5f"
            },
            "marker": {
             "line": {
              "color": "#E5ECF6",
              "width": 0.5
             },
             "pattern": {
              "fillmode": "overlay",
              "size": 10,
              "solidity": 0.2
             }
            },
            "type": "bar"
           }
          ],
          "barpolar": [
           {
            "marker": {
             "line": {
              "color": "#E5ECF6",
              "width": 0.5
             },
             "pattern": {
              "fillmode": "overlay",
              "size": 10,
              "solidity": 0.2
             }
            },
            "type": "barpolar"
           }
          ],
          "carpet": [
           {
            "aaxis": {
             "endlinecolor": "#2a3f5f",
             "gridcolor": "white",
             "linecolor": "white",
             "minorgridcolor": "white",
             "startlinecolor": "#2a3f5f"
            },
            "baxis": {
             "endlinecolor": "#2a3f5f",
             "gridcolor": "white",
             "linecolor": "white",
             "minorgridcolor": "white",
             "startlinecolor": "#2a3f5f"
            },
            "type": "carpet"
           }
          ],
          "choropleth": [
           {
            "colorbar": {
             "outlinewidth": 0,
             "ticks": ""
            },
            "type": "choropleth"
           }
          ],
          "contour": [
           {
            "colorbar": {
             "outlinewidth": 0,
             "ticks": ""
            },
            "colorscale": [
             [
              0,
              "#0d0887"
             ],
             [
              0.1111111111111111,
              "#46039f"
             ],
             [
              0.2222222222222222,
              "#7201a8"
             ],
             [
              0.3333333333333333,
              "#9c179e"
             ],
             [
              0.4444444444444444,
              "#bd3786"
             ],
             [
              0.5555555555555556,
              "#d8576b"
             ],
             [
              0.6666666666666666,
              "#ed7953"
             ],
             [
              0.7777777777777778,
              "#fb9f3a"
             ],
             [
              0.8888888888888888,
              "#fdca26"
             ],
             [
              1,
              "#f0f921"
             ]
            ],
            "type": "contour"
           }
          ],
          "contourcarpet": [
           {
            "colorbar": {
             "outlinewidth": 0,
             "ticks": ""
            },
            "type": "contourcarpet"
           }
          ],
          "heatmap": [
           {
            "colorbar": {
             "outlinewidth": 0,
             "ticks": ""
            },
            "colorscale": [
             [
              0,
              "#0d0887"
             ],
             [
              0.1111111111111111,
              "#46039f"
             ],
             [
              0.2222222222222222,
              "#7201a8"
             ],
             [
              0.3333333333333333,
              "#9c179e"
             ],
             [
              0.4444444444444444,
              "#bd3786"
             ],
             [
              0.5555555555555556,
              "#d8576b"
             ],
             [
              0.6666666666666666,
              "#ed7953"
             ],
             [
              0.7777777777777778,
              "#fb9f3a"
             ],
             [
              0.8888888888888888,
              "#fdca26"
             ],
             [
              1,
              "#f0f921"
             ]
            ],
            "type": "heatmap"
           }
          ],
          "heatmapgl": [
           {
            "colorbar": {
             "outlinewidth": 0,
             "ticks": ""
            },
            "colorscale": [
             [
              0,
              "#0d0887"
             ],
             [
              0.1111111111111111,
              "#46039f"
             ],
             [
              0.2222222222222222,
              "#7201a8"
             ],
             [
              0.3333333333333333,
              "#9c179e"
             ],
             [
              0.4444444444444444,
              "#bd3786"
             ],
             [
              0.5555555555555556,
              "#d8576b"
             ],
             [
              0.6666666666666666,
              "#ed7953"
             ],
             [
              0.7777777777777778,
              "#fb9f3a"
             ],
             [
              0.8888888888888888,
              "#fdca26"
             ],
             [
              1,
              "#f0f921"
             ]
            ],
            "type": "heatmapgl"
           }
          ],
          "histogram": [
           {
            "marker": {
             "pattern": {
              "fillmode": "overlay",
              "size": 10,
              "solidity": 0.2
             }
            },
            "type": "histogram"
           }
          ],
          "histogram2d": [
           {
            "colorbar": {
             "outlinewidth": 0,
             "ticks": ""
            },
            "colorscale": [
             [
              0,
              "#0d0887"
             ],
             [
              0.1111111111111111,
              "#46039f"
             ],
             [
              0.2222222222222222,
              "#7201a8"
             ],
             [
              0.3333333333333333,
              "#9c179e"
             ],
             [
              0.4444444444444444,
              "#bd3786"
             ],
             [
              0.5555555555555556,
              "#d8576b"
             ],
             [
              0.6666666666666666,
              "#ed7953"
             ],
             [
              0.7777777777777778,
              "#fb9f3a"
             ],
             [
              0.8888888888888888,
              "#fdca26"
             ],
             [
              1,
              "#f0f921"
             ]
            ],
            "type": "histogram2d"
           }
          ],
          "histogram2dcontour": [
           {
            "colorbar": {
             "outlinewidth": 0,
             "ticks": ""
            },
            "colorscale": [
             [
              0,
              "#0d0887"
             ],
             [
              0.1111111111111111,
              "#46039f"
             ],
             [
              0.2222222222222222,
              "#7201a8"
             ],
             [
              0.3333333333333333,
              "#9c179e"
             ],
             [
              0.4444444444444444,
              "#bd3786"
             ],
             [
              0.5555555555555556,
              "#d8576b"
             ],
             [
              0.6666666666666666,
              "#ed7953"
             ],
             [
              0.7777777777777778,
              "#fb9f3a"
             ],
             [
              0.8888888888888888,
              "#fdca26"
             ],
             [
              1,
              "#f0f921"
             ]
            ],
            "type": "histogram2dcontour"
           }
          ],
          "mesh3d": [
           {
            "colorbar": {
             "outlinewidth": 0,
             "ticks": ""
            },
            "type": "mesh3d"
           }
          ],
          "parcoords": [
           {
            "line": {
             "colorbar": {
              "outlinewidth": 0,
              "ticks": ""
             }
            },
            "type": "parcoords"
           }
          ],
          "pie": [
           {
            "automargin": true,
            "type": "pie"
           }
          ],
          "scatter": [
           {
            "marker": {
             "colorbar": {
              "outlinewidth": 0,
              "ticks": ""
             }
            },
            "type": "scatter"
           }
          ],
          "scatter3d": [
           {
            "line": {
             "colorbar": {
              "outlinewidth": 0,
              "ticks": ""
             }
            },
            "marker": {
             "colorbar": {
              "outlinewidth": 0,
              "ticks": ""
             }
            },
            "type": "scatter3d"
           }
          ],
          "scattercarpet": [
           {
            "marker": {
             "colorbar": {
              "outlinewidth": 0,
              "ticks": ""
             }
            },
            "type": "scattercarpet"
           }
          ],
          "scattergeo": [
           {
            "marker": {
             "colorbar": {
              "outlinewidth": 0,
              "ticks": ""
             }
            },
            "type": "scattergeo"
           }
          ],
          "scattergl": [
           {
            "marker": {
             "colorbar": {
              "outlinewidth": 0,
              "ticks": ""
             }
            },
            "type": "scattergl"
           }
          ],
          "scattermapbox": [
           {
            "marker": {
             "colorbar": {
              "outlinewidth": 0,
              "ticks": ""
             }
            },
            "type": "scattermapbox"
           }
          ],
          "scatterpolar": [
           {
            "marker": {
             "colorbar": {
              "outlinewidth": 0,
              "ticks": ""
             }
            },
            "type": "scatterpolar"
           }
          ],
          "scatterpolargl": [
           {
            "marker": {
             "colorbar": {
              "outlinewidth": 0,
              "ticks": ""
             }
            },
            "type": "scatterpolargl"
           }
          ],
          "scatterternary": [
           {
            "marker": {
             "colorbar": {
              "outlinewidth": 0,
              "ticks": ""
             }
            },
            "type": "scatterternary"
           }
          ],
          "surface": [
           {
            "colorbar": {
             "outlinewidth": 0,
             "ticks": ""
            },
            "colorscale": [
             [
              0,
              "#0d0887"
             ],
             [
              0.1111111111111111,
              "#46039f"
             ],
             [
              0.2222222222222222,
              "#7201a8"
             ],
             [
              0.3333333333333333,
              "#9c179e"
             ],
             [
              0.4444444444444444,
              "#bd3786"
             ],
             [
              0.5555555555555556,
              "#d8576b"
             ],
             [
              0.6666666666666666,
              "#ed7953"
             ],
             [
              0.7777777777777778,
              "#fb9f3a"
             ],
             [
              0.8888888888888888,
              "#fdca26"
             ],
             [
              1,
              "#f0f921"
             ]
            ],
            "type": "surface"
           }
          ],
          "table": [
           {
            "cells": {
             "fill": {
              "color": "#EBF0F8"
             },
             "line": {
              "color": "white"
             }
            },
            "header": {
             "fill": {
              "color": "#C8D4E3"
             },
             "line": {
              "color": "white"
             }
            },
            "type": "table"
           }
          ]
         },
         "layout": {
          "annotationdefaults": {
           "arrowcolor": "#2a3f5f",
           "arrowhead": 0,
           "arrowwidth": 1
          },
          "autotypenumbers": "strict",
          "coloraxis": {
           "colorbar": {
            "outlinewidth": 0,
            "ticks": ""
           }
          },
          "colorscale": {
           "diverging": [
            [
             0,
             "#8e0152"
            ],
            [
             0.1,
             "#c51b7d"
            ],
            [
             0.2,
             "#de77ae"
            ],
            [
             0.3,
             "#f1b6da"
            ],
            [
             0.4,
             "#fde0ef"
            ],
            [
             0.5,
             "#f7f7f7"
            ],
            [
             0.6,
             "#e6f5d0"
            ],
            [
             0.7,
             "#b8e186"
            ],
            [
             0.8,
             "#7fbc41"
            ],
            [
             0.9,
             "#4d9221"
            ],
            [
             1,
             "#276419"
            ]
           ],
           "sequential": [
            [
             0,
             "#0d0887"
            ],
            [
             0.1111111111111111,
             "#46039f"
            ],
            [
             0.2222222222222222,
             "#7201a8"
            ],
            [
             0.3333333333333333,
             "#9c179e"
            ],
            [
             0.4444444444444444,
             "#bd3786"
            ],
            [
             0.5555555555555556,
             "#d8576b"
            ],
            [
             0.6666666666666666,
             "#ed7953"
            ],
            [
             0.7777777777777778,
             "#fb9f3a"
            ],
            [
             0.8888888888888888,
             "#fdca26"
            ],
            [
             1,
             "#f0f921"
            ]
           ],
           "sequentialminus": [
            [
             0,
             "#0d0887"
            ],
            [
             0.1111111111111111,
             "#46039f"
            ],
            [
             0.2222222222222222,
             "#7201a8"
            ],
            [
             0.3333333333333333,
             "#9c179e"
            ],
            [
             0.4444444444444444,
             "#bd3786"
            ],
            [
             0.5555555555555556,
             "#d8576b"
            ],
            [
             0.6666666666666666,
             "#ed7953"
            ],
            [
             0.7777777777777778,
             "#fb9f3a"
            ],
            [
             0.8888888888888888,
             "#fdca26"
            ],
            [
             1,
             "#f0f921"
            ]
           ]
          },
          "colorway": [
           "#636efa",
           "#EF553B",
           "#00cc96",
           "#ab63fa",
           "#FFA15A",
           "#19d3f3",
           "#FF6692",
           "#B6E880",
           "#FF97FF",
           "#FECB52"
          ],
          "font": {
           "color": "#2a3f5f"
          },
          "geo": {
           "bgcolor": "white",
           "lakecolor": "white",
           "landcolor": "#E5ECF6",
           "showlakes": true,
           "showland": true,
           "subunitcolor": "white"
          },
          "hoverlabel": {
           "align": "left"
          },
          "hovermode": "closest",
          "mapbox": {
           "style": "light"
          },
          "paper_bgcolor": "white",
          "plot_bgcolor": "#E5ECF6",
          "polar": {
           "angularaxis": {
            "gridcolor": "white",
            "linecolor": "white",
            "ticks": ""
           },
           "bgcolor": "#E5ECF6",
           "radialaxis": {
            "gridcolor": "white",
            "linecolor": "white",
            "ticks": ""
           }
          },
          "scene": {
           "xaxis": {
            "backgroundcolor": "#E5ECF6",
            "gridcolor": "white",
            "gridwidth": 2,
            "linecolor": "white",
            "showbackground": true,
            "ticks": "",
            "zerolinecolor": "white"
           },
           "yaxis": {
            "backgroundcolor": "#E5ECF6",
            "gridcolor": "white",
            "gridwidth": 2,
            "linecolor": "white",
            "showbackground": true,
            "ticks": "",
            "zerolinecolor": "white"
           },
           "zaxis": {
            "backgroundcolor": "#E5ECF6",
            "gridcolor": "white",
            "gridwidth": 2,
            "linecolor": "white",
            "showbackground": true,
            "ticks": "",
            "zerolinecolor": "white"
           }
          },
          "shapedefaults": {
           "line": {
            "color": "#2a3f5f"
           }
          },
          "ternary": {
           "aaxis": {
            "gridcolor": "white",
            "linecolor": "white",
            "ticks": ""
           },
           "baxis": {
            "gridcolor": "white",
            "linecolor": "white",
            "ticks": ""
           },
           "bgcolor": "#E5ECF6",
           "caxis": {
            "gridcolor": "white",
            "linecolor": "white",
            "ticks": ""
           }
          },
          "title": {
           "x": 0.05
          },
          "xaxis": {
           "automargin": true,
           "gridcolor": "white",
           "linecolor": "white",
           "ticks": "",
           "title": {
            "standoff": 15
           },
           "zerolinecolor": "white",
           "zerolinewidth": 2
          },
          "yaxis": {
           "automargin": true,
           "gridcolor": "white",
           "linecolor": "white",
           "ticks": "",
           "title": {
            "standoff": 15
           },
           "zerolinecolor": "white",
           "zerolinewidth": 2
          }
         }
        },
        "title": {
         "text": "TF-IDF"
        },
        "xaxis": {
         "anchor": "y",
         "domain": [
          0,
          0.22999999999999998
         ],
         "title": {
          "text": "year"
         }
        },
        "xaxis2": {
         "anchor": "y2",
         "domain": [
          0.24999999999999997,
          0.48
         ],
         "title": {
          "text": "year"
         }
        },
        "xaxis3": {
         "anchor": "y3",
         "domain": [
          0.49999999999999994,
          0.73
         ],
         "title": {
          "text": "year"
         }
        },
        "xaxis4": {
         "anchor": "y4",
         "domain": [
          0.75,
          0.98
         ],
         "title": {
          "text": "year"
         }
        },
        "xaxis5": {
         "anchor": "y5",
         "domain": [
          0,
          0.22999999999999998
         ],
         "showticklabels": false
        },
        "xaxis6": {
         "anchor": "y6",
         "domain": [
          0.24999999999999997,
          0.48
         ],
         "showticklabels": false
        },
        "xaxis7": {
         "anchor": "y7",
         "domain": [
          0.49999999999999994,
          0.73
         ],
         "showticklabels": false
        },
        "xaxis8": {
         "anchor": "y8",
         "domain": [
          0.75,
          0.98
         ],
         "showticklabels": false
        },
        "yaxis": {
         "anchor": "x",
         "domain": [
          0,
          0.485
         ],
         "title": {
          "text": "Cosine Similarity"
         }
        },
        "yaxis2": {
         "anchor": "x2",
         "domain": [
          0,
          0.485
         ],
         "matches": "y",
         "showticklabels": false
        },
        "yaxis3": {
         "anchor": "x3",
         "domain": [
          0,
          0.485
         ],
         "matches": "y",
         "showticklabels": false
        },
        "yaxis4": {
         "anchor": "x4",
         "domain": [
          0,
          0.485
         ],
         "matches": "y",
         "showticklabels": false
        },
        "yaxis5": {
         "anchor": "x5",
         "domain": [
          0.515,
          1
         ],
         "matches": "y",
         "title": {
          "text": "Cosine Similarity"
         }
        },
        "yaxis6": {
         "anchor": "x6",
         "domain": [
          0.515,
          1
         ],
         "matches": "y",
         "showticklabels": false
        },
        "yaxis7": {
         "anchor": "x7",
         "domain": [
          0.515,
          1
         ],
         "matches": "y",
         "showticklabels": false
        },
        "yaxis8": {
         "anchor": "x8",
         "domain": [
          0.515,
          1
         ],
         "matches": "y",
         "showticklabels": false
        }
       }
      },
      "text/html": [
       "<div>                            <div id=\"0b57b84b-3677-40a1-bc6b-9fe85abd35bd\" class=\"plotly-graph-div\" style=\"height:525px; width:100%;\"></div>            <script type=\"text/javascript\">                require([\"plotly\"], function(Plotly) {                    window.PLOTLYENV=window.PLOTLYENV || {};                                    if (document.getElementById(\"0b57b84b-3677-40a1-bc6b-9fe85abd35bd\")) {                    Plotly.newPlot(                        \"0b57b84b-3677-40a1-bc6b-9fe85abd35bd\",                        [{\"hovertemplate\":\"Party=EELV<br>Journal=Le Figaro<br>manifesto=2002<br>year=%{x}<br>Cosine Similarity=%{y}<extra></extra>\",\"legendgroup\":\"EELV\",\"line\":{\"color\":\"green\",\"dash\":\"solid\"},\"marker\":{\"symbol\":\"circle\"},\"mode\":\"lines\",\"name\":\"EELV\",\"orientation\":\"v\",\"showlegend\":true,\"type\":\"scatter\",\"x\":[2001,2002,2003,2004,2005,2006],\"xaxis\":\"x5\",\"y\":[0.04497259110212326,0.05173114314675331,0.05335190147161484,0.04835408926010132,0.04637168347835541,0.04480404034256935],\"yaxis\":\"y5\"},{\"hovertemplate\":\"Party=EELV<br>Journal=Le Figaro<br>manifesto=2007<br>year=%{x}<br>Cosine Similarity=%{y}<extra></extra>\",\"legendgroup\":\"EELV\",\"line\":{\"color\":\"green\",\"dash\":\"solid\"},\"marker\":{\"symbol\":\"circle\"},\"mode\":\"lines\",\"name\":\"EELV\",\"orientation\":\"v\",\"showlegend\":false,\"type\":\"scatter\",\"x\":[2006,2007,2008,2009,2010,2011],\"xaxis\":\"x6\",\"y\":[0.06900808215141296,0.06144362688064575,0.06269937008619308,0.06118795648217201,0.05620528385043144,0.0666234940290451],\"yaxis\":\"y6\"},{\"hovertemplate\":\"Party=EELV<br>Journal=Le Figaro<br>manifesto=2012<br>year=%{x}<br>Cosine Similarity=%{y}<extra></extra>\",\"legendgroup\":\"EELV\",\"line\":{\"color\":\"green\",\"dash\":\"solid\"},\"marker\":{\"symbol\":\"circle\"},\"mode\":\"lines\",\"name\":\"EELV\",\"orientation\":\"v\",\"showlegend\":false,\"type\":\"scatter\",\"x\":[2011,2012,2013,2014,2015,2016],\"xaxis\":\"x7\",\"y\":[0.05579860508441925,0.054462332278490067,0.058709241449832916,0.05274366959929466,0.04805994778871536,0.04928824305534363],\"yaxis\":\"y7\"},{\"hovertemplate\":\"Party=EELV<br>Journal=Le Figaro<br>manifesto=2017<br>year=%{x}<br>Cosine Similarity=%{y}<extra></extra>\",\"legendgroup\":\"EELV\",\"line\":{\"color\":\"green\",\"dash\":\"solid\"},\"marker\":{\"symbol\":\"circle\"},\"mode\":\"lines\",\"name\":\"EELV\",\"orientation\":\"v\",\"showlegend\":false,\"type\":\"scatter\",\"x\":[2016,2017,2018],\"xaxis\":\"x8\",\"y\":[0.03445841744542122,0.02979547716677189,0.034435518085956573],\"yaxis\":\"y8\"},{\"hovertemplate\":\"Party=EELV<br>Journal=Le Monde<br>manifesto=2002<br>year=%{x}<br>Cosine Similarity=%{y}<extra></extra>\",\"legendgroup\":\"EELV\",\"line\":{\"color\":\"green\",\"dash\":\"solid\"},\"marker\":{\"symbol\":\"circle\"},\"mode\":\"lines\",\"name\":\"EELV\",\"orientation\":\"v\",\"showlegend\":false,\"type\":\"scatter\",\"x\":[2001,2002,2003,2004,2005,2006],\"xaxis\":\"x\",\"y\":[0.0510408841073513,0.04984688758850098,0.057535454630851746,0.05542204901576042,0.05567668005824089,0.04853653907775879],\"yaxis\":\"y\"},{\"hovertemplate\":\"Party=EELV<br>Journal=Le Monde<br>manifesto=2007<br>year=%{x}<br>Cosine Similarity=%{y}<extra></extra>\",\"legendgroup\":\"EELV\",\"line\":{\"color\":\"green\",\"dash\":\"solid\"},\"marker\":{\"symbol\":\"circle\"},\"mode\":\"lines\",\"name\":\"EELV\",\"orientation\":\"v\",\"showlegend\":false,\"type\":\"scatter\",\"x\":[2006,2007,2008,2009,2010,2011],\"xaxis\":\"x2\",\"y\":[0.07608085870742798,0.07713740319013596,0.07889814674854279,0.08330418914556503,0.08135049790143967,0.07858427613973618],\"yaxis\":\"y2\"},{\"hovertemplate\":\"Party=EELV<br>Journal=Le Monde<br>manifesto=2012<br>year=%{x}<br>Cosine Similarity=%{y}<extra></extra>\",\"legendgroup\":\"EELV\",\"line\":{\"color\":\"green\",\"dash\":\"solid\"},\"marker\":{\"symbol\":\"circle\"},\"mode\":\"lines\",\"name\":\"EELV\",\"orientation\":\"v\",\"showlegend\":false,\"type\":\"scatter\",\"x\":[2011,2012,2013,2014,2015,2016],\"xaxis\":\"x3\",\"y\":[0.06755222380161285,0.06492846459150314,0.07072073221206665,0.07025062292814255,0.06995382905006409,0.07166280597448349],\"yaxis\":\"y3\"},{\"hovertemplate\":\"Party=EELV<br>Journal=Le Monde<br>manifesto=2017<br>year=%{x}<br>Cosine Similarity=%{y}<extra></extra>\",\"legendgroup\":\"EELV\",\"line\":{\"color\":\"green\",\"dash\":\"solid\"},\"marker\":{\"symbol\":\"circle\"},\"mode\":\"lines\",\"name\":\"EELV\",\"orientation\":\"v\",\"showlegend\":false,\"type\":\"scatter\",\"x\":[2016,2017,2018],\"xaxis\":\"x4\",\"y\":[0.04975372925400734,0.048451852053403854,0.05015293136239052],\"yaxis\":\"y4\"},{\"hovertemplate\":\"Party=PS<br>Journal=Le Figaro<br>manifesto=2002<br>year=%{x}<br>Cosine Similarity=%{y}<extra></extra>\",\"legendgroup\":\"PS\",\"line\":{\"color\":\"pink\",\"dash\":\"solid\"},\"marker\":{\"symbol\":\"circle\"},\"mode\":\"lines\",\"name\":\"PS\",\"orientation\":\"v\",\"showlegend\":true,\"type\":\"scatter\",\"x\":[2001,2002,2003,2004,2005,2006],\"xaxis\":\"x5\",\"y\":[0.05540820211172104,0.06364943087100983,0.06611348688602448,0.06058014556765556,0.059810105711221695,0.05474719777703285],\"yaxis\":\"y5\"},{\"hovertemplate\":\"Party=PS<br>Journal=Le Figaro<br>manifesto=2007<br>year=%{x}<br>Cosine Similarity=%{y}<extra></extra>\",\"legendgroup\":\"PS\",\"line\":{\"color\":\"pink\",\"dash\":\"solid\"},\"marker\":{\"symbol\":\"circle\"},\"mode\":\"lines\",\"name\":\"PS\",\"orientation\":\"v\",\"showlegend\":false,\"type\":\"scatter\",\"x\":[2006,2007,2008,2009,2010,2011],\"xaxis\":\"x6\",\"y\":[0.06910564005374908,0.059906184673309326,0.06017562001943588,0.05859379842877388,0.054238349199295044,0.06394883990287781],\"yaxis\":\"y6\"},{\"hovertemplate\":\"Party=PS<br>Journal=Le Figaro<br>manifesto=2012<br>year=%{x}<br>Cosine Similarity=%{y}<extra></extra>\",\"legendgroup\":\"PS\",\"line\":{\"color\":\"pink\",\"dash\":\"solid\"},\"marker\":{\"symbol\":\"circle\"},\"mode\":\"lines\",\"name\":\"PS\",\"orientation\":\"v\",\"showlegend\":false,\"type\":\"scatter\",\"x\":[2011,2012,2013,2014,2015,2016],\"xaxis\":\"x7\",\"y\":[0.042642753571271896,0.04294116795063019,0.04584289342164993,0.04069541394710541,0.03626777231693268,0.03931473195552826],\"yaxis\":\"y7\"},{\"hovertemplate\":\"Party=PS<br>Journal=Le Figaro<br>manifesto=2017<br>year=%{x}<br>Cosine Similarity=%{y}<extra></extra>\",\"legendgroup\":\"PS\",\"line\":{\"color\":\"pink\",\"dash\":\"solid\"},\"marker\":{\"symbol\":\"circle\"},\"mode\":\"lines\",\"name\":\"PS\",\"orientation\":\"v\",\"showlegend\":false,\"type\":\"scatter\",\"x\":[2016,2017,2018],\"xaxis\":\"x8\",\"y\":[0.027844855561852455,0.02391112595796585,0.027931679040193558],\"yaxis\":\"y8\"},{\"hovertemplate\":\"Party=PS<br>Journal=Le Monde<br>manifesto=2002<br>year=%{x}<br>Cosine Similarity=%{y}<extra></extra>\",\"legendgroup\":\"PS\",\"line\":{\"color\":\"pink\",\"dash\":\"solid\"},\"marker\":{\"symbol\":\"circle\"},\"mode\":\"lines\",\"name\":\"PS\",\"orientation\":\"v\",\"showlegend\":false,\"type\":\"scatter\",\"x\":[2001,2002,2003,2004,2005,2006],\"xaxis\":\"x\",\"y\":[0.06330356001853943,0.0627002939581871,0.07187333703041077,0.06860587000846863,0.06905949860811234,0.05903321132063866],\"yaxis\":\"y\"},{\"hovertemplate\":\"Party=PS<br>Journal=Le Monde<br>manifesto=2007<br>year=%{x}<br>Cosine Similarity=%{y}<extra></extra>\",\"legendgroup\":\"PS\",\"line\":{\"color\":\"pink\",\"dash\":\"solid\"},\"marker\":{\"symbol\":\"circle\"},\"mode\":\"lines\",\"name\":\"PS\",\"orientation\":\"v\",\"showlegend\":false,\"type\":\"scatter\",\"x\":[2006,2007,2008,2009,2010,2011],\"xaxis\":\"x2\",\"y\":[0.07676224410533905,0.07716476172208786,0.07776309549808502,0.0814494714140892,0.08152969926595688,0.07767363637685776],\"yaxis\":\"y2\"},{\"hovertemplate\":\"Party=PS<br>Journal=Le Monde<br>manifesto=2012<br>year=%{x}<br>Cosine Similarity=%{y}<extra></extra>\",\"legendgroup\":\"PS\",\"line\":{\"color\":\"pink\",\"dash\":\"solid\"},\"marker\":{\"symbol\":\"circle\"},\"mode\":\"lines\",\"name\":\"PS\",\"orientation\":\"v\",\"showlegend\":false,\"type\":\"scatter\",\"x\":[2011,2012,2013,2014,2015,2016],\"xaxis\":\"x3\",\"y\":[0.050624556839466095,0.05049582198262215,0.05515505000948906,0.05440838262438774,0.05323528125882149,0.056882116943597794],\"yaxis\":\"y3\"},{\"hovertemplate\":\"Party=PS<br>Journal=Le Monde<br>manifesto=2017<br>year=%{x}<br>Cosine Similarity=%{y}<extra></extra>\",\"legendgroup\":\"PS\",\"line\":{\"color\":\"pink\",\"dash\":\"solid\"},\"marker\":{\"symbol\":\"circle\"},\"mode\":\"lines\",\"name\":\"PS\",\"orientation\":\"v\",\"showlegend\":false,\"type\":\"scatter\",\"x\":[2016,2017,2018],\"xaxis\":\"x4\",\"y\":[0.04204640910029411,0.041825566440820694,0.04321742802858353],\"yaxis\":\"y4\"},{\"hovertemplate\":\"Party=MoDem/EM<br>Journal=Le Figaro<br>manifesto=2002<br>year=%{x}<br>Cosine Similarity=%{y}<extra></extra>\",\"legendgroup\":\"MoDem/EM\",\"line\":{\"color\":\"orange\",\"dash\":\"solid\"},\"marker\":{\"symbol\":\"circle\"},\"mode\":\"lines\",\"name\":\"MoDem/EM\",\"orientation\":\"v\",\"showlegend\":true,\"type\":\"scatter\",\"x\":[2001,2002,2003,2004,2005,2006],\"xaxis\":\"x5\",\"y\":[0.07265587151050568,0.08375068008899689,0.08862125128507614,0.08033854514360428,0.07726839929819107,0.07020518183708191],\"yaxis\":\"y5\"},{\"hovertemplate\":\"Party=MoDem/EM<br>Journal=Le Figaro<br>manifesto=2007<br>year=%{x}<br>Cosine Similarity=%{y}<extra></extra>\",\"legendgroup\":\"MoDem/EM\",\"line\":{\"color\":\"orange\",\"dash\":\"solid\"},\"marker\":{\"symbol\":\"circle\"},\"mode\":\"lines\",\"name\":\"MoDem/EM\",\"orientation\":\"v\",\"showlegend\":false,\"type\":\"scatter\",\"x\":[2006,2007,2008,2009,2010,2011],\"xaxis\":\"x6\",\"y\":[0.07605558633804321,0.06843940168619156,0.06742987781763077,0.06571231782436371,0.06052793934941292,0.07183178514242172],\"yaxis\":\"y6\"},{\"hovertemplate\":\"Party=MoDem/EM<br>Journal=Le Figaro<br>manifesto=2012<br>year=%{x}<br>Cosine Similarity=%{y}<extra></extra>\",\"legendgroup\":\"MoDem/EM\",\"line\":{\"color\":\"orange\",\"dash\":\"solid\"},\"marker\":{\"symbol\":\"circle\"},\"mode\":\"lines\",\"name\":\"MoDem/EM\",\"orientation\":\"v\",\"showlegend\":false,\"type\":\"scatter\",\"x\":[2011,2012,2013,2014,2015,2016],\"xaxis\":\"x7\",\"y\":[0.06020336225628853,0.05831318348646164,0.061150845140218735,0.05626499652862549,0.050515253096818924,0.052333664149045944],\"yaxis\":\"y7\"},{\"hovertemplate\":\"Party=MoDem/EM<br>Journal=Le Figaro<br>manifesto=2017<br>year=%{x}<br>Cosine Similarity=%{y}<extra></extra>\",\"legendgroup\":\"MoDem/EM\",\"line\":{\"color\":\"orange\",\"dash\":\"solid\"},\"marker\":{\"symbol\":\"circle\"},\"mode\":\"lines\",\"name\":\"MoDem/EM\",\"orientation\":\"v\",\"showlegend\":false,\"type\":\"scatter\",\"x\":[2016,2017,2018],\"xaxis\":\"x8\",\"y\":[0.053748719394207,0.04596114158630371,0.052638646215200424],\"yaxis\":\"y8\"},{\"hovertemplate\":\"Party=MoDem/EM<br>Journal=Le Monde<br>manifesto=2002<br>year=%{x}<br>Cosine Similarity=%{y}<extra></extra>\",\"legendgroup\":\"MoDem/EM\",\"line\":{\"color\":\"orange\",\"dash\":\"solid\"},\"marker\":{\"symbol\":\"circle\"},\"mode\":\"lines\",\"name\":\"MoDem/EM\",\"orientation\":\"v\",\"showlegend\":false,\"type\":\"scatter\",\"x\":[2001,2002,2003,2004,2005,2006],\"xaxis\":\"x\",\"y\":[0.08187878131866455,0.07920490205287933,0.09476719051599503,0.08948659151792526,0.08866485208272934,0.07652387022972107],\"yaxis\":\"y\"},{\"hovertemplate\":\"Party=MoDem/EM<br>Journal=Le Monde<br>manifesto=2007<br>year=%{x}<br>Cosine Similarity=%{y}<extra></extra>\",\"legendgroup\":\"MoDem/EM\",\"line\":{\"color\":\"orange\",\"dash\":\"solid\"},\"marker\":{\"symbol\":\"circle\"},\"mode\":\"lines\",\"name\":\"MoDem/EM\",\"orientation\":\"v\",\"showlegend\":false,\"type\":\"scatter\",\"x\":[2006,2007,2008,2009,2010,2011],\"xaxis\":\"x2\",\"y\":[0.08414161205291748,0.08694484829902649,0.08635221421718597,0.09170717746019363,0.09097891300916672,0.08594198524951935],\"yaxis\":\"y2\"},{\"hovertemplate\":\"Party=MoDem/EM<br>Journal=Le Monde<br>manifesto=2012<br>year=%{x}<br>Cosine Similarity=%{y}<extra></extra>\",\"legendgroup\":\"MoDem/EM\",\"line\":{\"color\":\"orange\",\"dash\":\"solid\"},\"marker\":{\"symbol\":\"circle\"},\"mode\":\"lines\",\"name\":\"MoDem/EM\",\"orientation\":\"v\",\"showlegend\":false,\"type\":\"scatter\",\"x\":[2011,2012,2013,2014,2015,2016],\"xaxis\":\"x3\",\"y\":[0.0723264142870903,0.0706348642706871,0.07470107078552246,0.07567351311445236,0.07468200474977493,0.07803261280059814],\"yaxis\":\"y3\"},{\"hovertemplate\":\"Party=MoDem/EM<br>Journal=Le Monde<br>manifesto=2017<br>year=%{x}<br>Cosine Similarity=%{y}<extra></extra>\",\"legendgroup\":\"MoDem/EM\",\"line\":{\"color\":\"orange\",\"dash\":\"solid\"},\"marker\":{\"symbol\":\"circle\"},\"mode\":\"lines\",\"name\":\"MoDem/EM\",\"orientation\":\"v\",\"showlegend\":false,\"type\":\"scatter\",\"x\":[2016,2017,2018],\"xaxis\":\"x4\",\"y\":[0.0752105638384819,0.07422730326652527,0.07471296191215515],\"yaxis\":\"y4\"},{\"hovertemplate\":\"Party=RPR/UMP/LR<br>Journal=Le Figaro<br>manifesto=2002<br>year=%{x}<br>Cosine Similarity=%{y}<extra></extra>\",\"legendgroup\":\"RPR/UMP/LR\",\"line\":{\"color\":\"blue\",\"dash\":\"solid\"},\"marker\":{\"symbol\":\"circle\"},\"mode\":\"lines\",\"name\":\"RPR/UMP/LR\",\"orientation\":\"v\",\"showlegend\":true,\"type\":\"scatter\",\"x\":[2001,2002,2003,2004,2005,2006],\"xaxis\":\"x5\",\"y\":[0.044735852628946304,0.053476858884096146,0.05519210919737816,0.04899464175105095,0.04659273102879524,0.04380050301551819],\"yaxis\":\"y5\"},{\"hovertemplate\":\"Party=RPR/UMP/LR<br>Journal=Le Figaro<br>manifesto=2007<br>year=%{x}<br>Cosine Similarity=%{y}<extra></extra>\",\"legendgroup\":\"RPR/UMP/LR\",\"line\":{\"color\":\"blue\",\"dash\":\"solid\"},\"marker\":{\"symbol\":\"circle\"},\"mode\":\"lines\",\"name\":\"RPR/UMP/LR\",\"orientation\":\"v\",\"showlegend\":false,\"type\":\"scatter\",\"x\":[2006,2007,2008,2009,2010,2011],\"xaxis\":\"x6\",\"y\":[0.07205911725759506,0.06389005482196808,0.062117524445056915,0.06108427792787552,0.056240346282720566,0.06764284521341324],\"yaxis\":\"y6\"},{\"hovertemplate\":\"Party=RPR/UMP/LR<br>Journal=Le Figaro<br>manifesto=2012<br>year=%{x}<br>Cosine Similarity=%{y}<extra></extra>\",\"legendgroup\":\"RPR/UMP/LR\",\"line\":{\"color\":\"blue\",\"dash\":\"solid\"},\"marker\":{\"symbol\":\"circle\"},\"mode\":\"lines\",\"name\":\"RPR/UMP/LR\",\"orientation\":\"v\",\"showlegend\":false,\"type\":\"scatter\",\"x\":[2011,2012,2013,2014,2015,2016],\"xaxis\":\"x7\",\"y\":[0.05338536202907562,0.049701839685440063,0.053030259907245636,0.04942307621240616,0.04518376290798187,0.046720169484615326],\"yaxis\":\"y7\"},{\"hovertemplate\":\"Party=RPR/UMP/LR<br>Journal=Le Figaro<br>manifesto=2017<br>year=%{x}<br>Cosine Similarity=%{y}<extra></extra>\",\"legendgroup\":\"RPR/UMP/LR\",\"line\":{\"color\":\"blue\",\"dash\":\"solid\"},\"marker\":{\"symbol\":\"circle\"},\"mode\":\"lines\",\"name\":\"RPR/UMP/LR\",\"orientation\":\"v\",\"showlegend\":false,\"type\":\"scatter\",\"x\":[2016,2017,2018],\"xaxis\":\"x8\",\"y\":[0.04895201325416565,0.04137483239173889,0.04655148461461067],\"yaxis\":\"y8\"},{\"hovertemplate\":\"Party=RPR/UMP/LR<br>Journal=Le Monde<br>manifesto=2002<br>year=%{x}<br>Cosine Similarity=%{y}<extra></extra>\",\"legendgroup\":\"RPR/UMP/LR\",\"line\":{\"color\":\"blue\",\"dash\":\"solid\"},\"marker\":{\"symbol\":\"circle\"},\"mode\":\"lines\",\"name\":\"RPR/UMP/LR\",\"orientation\":\"v\",\"showlegend\":false,\"type\":\"scatter\",\"x\":[2001,2002,2003,2004,2005,2006],\"xaxis\":\"x\",\"y\":[0.05117468535900116,0.05150701478123665,0.06170172244310379,0.05748096480965614,0.055394381284713745,0.0476703904569149],\"yaxis\":\"y\"},{\"hovertemplate\":\"Party=RPR/UMP/LR<br>Journal=Le Monde<br>manifesto=2007<br>year=%{x}<br>Cosine Similarity=%{y}<extra></extra>\",\"legendgroup\":\"RPR/UMP/LR\",\"line\":{\"color\":\"blue\",\"dash\":\"solid\"},\"marker\":{\"symbol\":\"circle\"},\"mode\":\"lines\",\"name\":\"RPR/UMP/LR\",\"orientation\":\"v\",\"showlegend\":false,\"type\":\"scatter\",\"x\":[2006,2007,2008,2009,2010,2011],\"xaxis\":\"x2\",\"y\":[0.07908796519041061,0.08135200291872025,0.07943910360336304,0.08412790298461914,0.083590567111969,0.08030680567026138],\"yaxis\":\"y2\"},{\"hovertemplate\":\"Party=RPR/UMP/LR<br>Journal=Le Monde<br>manifesto=2012<br>year=%{x}<br>Cosine Similarity=%{y}<extra></extra>\",\"legendgroup\":\"RPR/UMP/LR\",\"line\":{\"color\":\"blue\",\"dash\":\"solid\"},\"marker\":{\"symbol\":\"circle\"},\"mode\":\"lines\",\"name\":\"RPR/UMP/LR\",\"orientation\":\"v\",\"showlegend\":false,\"type\":\"scatter\",\"x\":[2011,2012,2013,2014,2015,2016],\"xaxis\":\"x3\",\"y\":[0.06219853460788727,0.05894296616315842,0.06263889372348785,0.06443442404270172,0.06495367735624313,0.06681816279888153],\"yaxis\":\"y3\"},{\"hovertemplate\":\"Party=RPR/UMP/LR<br>Journal=Le Monde<br>manifesto=2017<br>year=%{x}<br>Cosine Similarity=%{y}<extra></extra>\",\"legendgroup\":\"RPR/UMP/LR\",\"line\":{\"color\":\"blue\",\"dash\":\"solid\"},\"marker\":{\"symbol\":\"circle\"},\"mode\":\"lines\",\"name\":\"RPR/UMP/LR\",\"orientation\":\"v\",\"showlegend\":false,\"type\":\"scatter\",\"x\":[2016,2017,2018],\"xaxis\":\"x4\",\"y\":[0.06811249256134033,0.06607886403799057,0.065226249396801],\"yaxis\":\"y4\"},{\"hovertemplate\":\"Party=FN<br>Journal=Le Figaro<br>manifesto=2002<br>year=%{x}<br>Cosine Similarity=%{y}<extra></extra>\",\"legendgroup\":\"FN\",\"line\":{\"color\":\"darkslateblue\",\"dash\":\"solid\"},\"marker\":{\"symbol\":\"circle\"},\"mode\":\"lines\",\"name\":\"FN\",\"orientation\":\"v\",\"showlegend\":true,\"type\":\"scatter\",\"x\":[2001,2002,2003,2004,2005,2006],\"xaxis\":\"x5\",\"y\":[0.06658316403627396,0.0752578154206276,0.07915641367435455,0.07193043828010559,0.06947740167379379,0.06533991545438766],\"yaxis\":\"y5\"},{\"hovertemplate\":\"Party=FN<br>Journal=Le Figaro<br>manifesto=2007<br>year=%{x}<br>Cosine Similarity=%{y}<extra></extra>\",\"legendgroup\":\"FN\",\"line\":{\"color\":\"darkslateblue\",\"dash\":\"solid\"},\"marker\":{\"symbol\":\"circle\"},\"mode\":\"lines\",\"name\":\"FN\",\"orientation\":\"v\",\"showlegend\":false,\"type\":\"scatter\",\"x\":[2006,2007,2008,2009,2010,2011],\"xaxis\":\"x6\",\"y\":[0.08437484502792358,0.07964807003736496,0.07897698879241943,0.07702036201953888,0.07212080806493759,0.08557872474193573],\"yaxis\":\"y6\"},{\"hovertemplate\":\"Party=FN<br>Journal=Le Figaro<br>manifesto=2012<br>year=%{x}<br>Cosine Similarity=%{y}<extra></extra>\",\"legendgroup\":\"FN\",\"line\":{\"color\":\"darkslateblue\",\"dash\":\"solid\"},\"marker\":{\"symbol\":\"circle\"},\"mode\":\"lines\",\"name\":\"FN\",\"orientation\":\"v\",\"showlegend\":false,\"type\":\"scatter\",\"x\":[2011,2012,2013,2014,2015,2016],\"xaxis\":\"x7\",\"y\":[0.047548990696668625,0.04561794921755791,0.04997395724058151,0.043126430362463,0.04032590240240097,0.041782815009355545],\"yaxis\":\"y7\"},{\"hovertemplate\":\"Party=FN<br>Journal=Le Figaro<br>manifesto=2017<br>year=%{x}<br>Cosine Similarity=%{y}<extra></extra>\",\"legendgroup\":\"FN\",\"line\":{\"color\":\"darkslateblue\",\"dash\":\"solid\"},\"marker\":{\"symbol\":\"circle\"},\"mode\":\"lines\",\"name\":\"FN\",\"orientation\":\"v\",\"showlegend\":false,\"type\":\"scatter\",\"x\":[2016,2017,2018],\"xaxis\":\"x8\",\"y\":[0.04553314670920372,0.03637213259935379,0.04287521913647652],\"yaxis\":\"y8\"},{\"hovertemplate\":\"Party=FN<br>Journal=Le Monde<br>manifesto=2002<br>year=%{x}<br>Cosine Similarity=%{y}<extra></extra>\",\"legendgroup\":\"FN\",\"line\":{\"color\":\"darkslateblue\",\"dash\":\"solid\"},\"marker\":{\"symbol\":\"circle\"},\"mode\":\"lines\",\"name\":\"FN\",\"orientation\":\"v\",\"showlegend\":false,\"type\":\"scatter\",\"x\":[2001,2002,2003,2004,2005,2006],\"xaxis\":\"x\",\"y\":[0.07792520523071289,0.07473455369472504,0.08760440349578857,0.08352351188659668,0.08214512467384338,0.07086478918790817],\"yaxis\":\"y\"},{\"hovertemplate\":\"Party=FN<br>Journal=Le Monde<br>manifesto=2007<br>year=%{x}<br>Cosine Similarity=%{y}<extra></extra>\",\"legendgroup\":\"FN\",\"line\":{\"color\":\"darkslateblue\",\"dash\":\"solid\"},\"marker\":{\"symbol\":\"circle\"},\"mode\":\"lines\",\"name\":\"FN\",\"orientation\":\"v\",\"showlegend\":false,\"type\":\"scatter\",\"x\":[2006,2007,2008,2009,2010,2011],\"xaxis\":\"x2\",\"y\":[0.09305603802204132,0.09539148956537247,0.0934656634926796,0.09962141513824463,0.09910427778959274,0.0982455387711525],\"yaxis\":\"y2\"},{\"hovertemplate\":\"Party=FN<br>Journal=Le Monde<br>manifesto=2012<br>year=%{x}<br>Cosine Similarity=%{y}<extra></extra>\",\"legendgroup\":\"FN\",\"line\":{\"color\":\"darkslateblue\",\"dash\":\"solid\"},\"marker\":{\"symbol\":\"circle\"},\"mode\":\"lines\",\"name\":\"FN\",\"orientation\":\"v\",\"showlegend\":false,\"type\":\"scatter\",\"x\":[2011,2012,2013,2014,2015,2016],\"xaxis\":\"x3\",\"y\":[0.05622820556163788,0.053208012133836746,0.05984627828001976,0.05706709995865822,0.05828890576958656,0.060646552592515945],\"yaxis\":\"y3\"},{\"hovertemplate\":\"Party=FN<br>Journal=Le Monde<br>manifesto=2017<br>year=%{x}<br>Cosine Similarity=%{y}<extra></extra>\",\"legendgroup\":\"FN\",\"line\":{\"color\":\"darkslateblue\",\"dash\":\"solid\"},\"marker\":{\"symbol\":\"circle\"},\"mode\":\"lines\",\"name\":\"FN\",\"orientation\":\"v\",\"showlegend\":false,\"type\":\"scatter\",\"x\":[2016,2017,2018],\"xaxis\":\"x4\",\"y\":[0.06323771923780441,0.05899572744965553,0.06013498082756996],\"yaxis\":\"y4\"},{\"hovertemplate\":\"Party=PCF/PG/LFI<br>Journal=Le Figaro<br>manifesto=2002<br>year=%{x}<br>Cosine Similarity=%{y}<extra></extra>\",\"legendgroup\":\"PCF/PG/LFI\",\"line\":{\"color\":\"red\",\"dash\":\"solid\"},\"marker\":{\"symbol\":\"circle\"},\"mode\":\"lines\",\"name\":\"PCF/PG/LFI\",\"orientation\":\"v\",\"showlegend\":true,\"type\":\"scatter\",\"x\":[2001,2002,2003,2004,2005,2006],\"xaxis\":\"x5\",\"y\":[null,null,null,null,null,null],\"yaxis\":\"y5\"},{\"hovertemplate\":\"Party=PCF/PG/LFI<br>Journal=Le Figaro<br>manifesto=2007<br>year=%{x}<br>Cosine Similarity=%{y}<extra></extra>\",\"legendgroup\":\"PCF/PG/LFI\",\"line\":{\"color\":\"red\",\"dash\":\"solid\"},\"marker\":{\"symbol\":\"circle\"},\"mode\":\"lines\",\"name\":\"PCF/PG/LFI\",\"orientation\":\"v\",\"showlegend\":false,\"type\":\"scatter\",\"x\":[2006,2007,2008,2009,2010,2011],\"xaxis\":\"x6\",\"y\":[0.06370265036821365,0.05625671148300171,0.05539215728640556,0.05349549651145935,0.050880685448646545,0.059030722826719284],\"yaxis\":\"y6\"},{\"hovertemplate\":\"Party=PCF/PG/LFI<br>Journal=Le Figaro<br>manifesto=2012<br>year=%{x}<br>Cosine Similarity=%{y}<extra></extra>\",\"legendgroup\":\"PCF/PG/LFI\",\"line\":{\"color\":\"red\",\"dash\":\"solid\"},\"marker\":{\"symbol\":\"circle\"},\"mode\":\"lines\",\"name\":\"PCF/PG/LFI\",\"orientation\":\"v\",\"showlegend\":false,\"type\":\"scatter\",\"x\":[2011,2012,2013,2014,2015,2016],\"xaxis\":\"x7\",\"y\":[0.053930383175611496,0.0529322475194931,0.05625103414058685,0.05057453364133835,0.045508451759815216,0.04799283668398857],\"yaxis\":\"y7\"},{\"hovertemplate\":\"Party=PCF/PG/LFI<br>Journal=Le Figaro<br>manifesto=2017<br>year=%{x}<br>Cosine Similarity=%{y}<extra></extra>\",\"legendgroup\":\"PCF/PG/LFI\",\"line\":{\"color\":\"red\",\"dash\":\"solid\"},\"marker\":{\"symbol\":\"circle\"},\"mode\":\"lines\",\"name\":\"PCF/PG/LFI\",\"orientation\":\"v\",\"showlegend\":false,\"type\":\"scatter\",\"x\":[2016,2017,2018],\"xaxis\":\"x8\",\"y\":[0.05188395082950592,0.04381252080202103,0.050988342612981796],\"yaxis\":\"y8\"},{\"hovertemplate\":\"Party=PCF/PG/LFI<br>Journal=Le Monde<br>manifesto=2002<br>year=%{x}<br>Cosine Similarity=%{y}<extra></extra>\",\"legendgroup\":\"PCF/PG/LFI\",\"line\":{\"color\":\"red\",\"dash\":\"solid\"},\"marker\":{\"symbol\":\"circle\"},\"mode\":\"lines\",\"name\":\"PCF/PG/LFI\",\"orientation\":\"v\",\"showlegend\":false,\"type\":\"scatter\",\"x\":[2001,2002,2003,2004,2005,2006],\"xaxis\":\"x\",\"y\":[null,null,null,null,null,null],\"yaxis\":\"y\"},{\"hovertemplate\":\"Party=PCF/PG/LFI<br>Journal=Le Monde<br>manifesto=2007<br>year=%{x}<br>Cosine Similarity=%{y}<extra></extra>\",\"legendgroup\":\"PCF/PG/LFI\",\"line\":{\"color\":\"red\",\"dash\":\"solid\"},\"marker\":{\"symbol\":\"circle\"},\"mode\":\"lines\",\"name\":\"PCF/PG/LFI\",\"orientation\":\"v\",\"showlegend\":false,\"type\":\"scatter\",\"x\":[2006,2007,2008,2009,2010,2011],\"xaxis\":\"x2\",\"y\":[0.07084072381258011,0.07008451968431473,0.06824282556772232,0.07185652107000351,0.07200438529253006,0.06887344270944595],\"yaxis\":\"y2\"},{\"hovertemplate\":\"Party=PCF/PG/LFI<br>Journal=Le Monde<br>manifesto=2012<br>year=%{x}<br>Cosine Similarity=%{y}<extra></extra>\",\"legendgroup\":\"PCF/PG/LFI\",\"line\":{\"color\":\"red\",\"dash\":\"solid\"},\"marker\":{\"symbol\":\"circle\"},\"mode\":\"lines\",\"name\":\"PCF/PG/LFI\",\"orientation\":\"v\",\"showlegend\":false,\"type\":\"scatter\",\"x\":[2011,2012,2013,2014,2015,2016],\"xaxis\":\"x3\",\"y\":[0.06548116356134415,0.06410153210163116,0.06744159758090973,0.0675889328122139,0.06655563414096832,0.0706007182598114],\"yaxis\":\"y3\"},{\"hovertemplate\":\"Party=PCF/PG/LFI<br>Journal=Le Monde<br>manifesto=2017<br>year=%{x}<br>Cosine Similarity=%{y}<extra></extra>\",\"legendgroup\":\"PCF/PG/LFI\",\"line\":{\"color\":\"red\",\"dash\":\"solid\"},\"marker\":{\"symbol\":\"circle\"},\"mode\":\"lines\",\"name\":\"PCF/PG/LFI\",\"orientation\":\"v\",\"showlegend\":false,\"type\":\"scatter\",\"x\":[2016,2017,2018],\"xaxis\":\"x4\",\"y\":[0.07332262396812439,0.07167358696460724,0.0735907107591629],\"yaxis\":\"y4\"}],                        {\"annotations\":[{\"font\":{},\"showarrow\":false,\"text\":\"manifesto=2002\",\"x\":0.11499999999999999,\"xanchor\":\"center\",\"xref\":\"paper\",\"y\":1.0,\"yanchor\":\"bottom\",\"yref\":\"paper\"},{\"font\":{},\"showarrow\":false,\"text\":\"manifesto=2007\",\"x\":0.365,\"xanchor\":\"center\",\"xref\":\"paper\",\"y\":1.0,\"yanchor\":\"bottom\",\"yref\":\"paper\"},{\"font\":{},\"showarrow\":false,\"text\":\"manifesto=2012\",\"x\":0.615,\"xanchor\":\"center\",\"xref\":\"paper\",\"y\":1.0,\"yanchor\":\"bottom\",\"yref\":\"paper\"},{\"font\":{},\"showarrow\":false,\"text\":\"manifesto=2017\",\"x\":0.865,\"xanchor\":\"center\",\"xref\":\"paper\",\"y\":1.0,\"yanchor\":\"bottom\",\"yref\":\"paper\"},{\"font\":{},\"showarrow\":false,\"text\":\"Journal=Le Monde\",\"textangle\":90,\"x\":0.98,\"xanchor\":\"left\",\"xref\":\"paper\",\"y\":0.2425,\"yanchor\":\"middle\",\"yref\":\"paper\"},{\"font\":{},\"showarrow\":false,\"text\":\"Journal=Le Figaro\",\"textangle\":90,\"x\":0.98,\"xanchor\":\"left\",\"xref\":\"paper\",\"y\":0.7575000000000001,\"yanchor\":\"middle\",\"yref\":\"paper\"}],\"legend\":{\"title\":{\"text\":\"Party\"},\"tracegroupgap\":0},\"template\":{\"data\":{\"bar\":[{\"error_x\":{\"color\":\"#2a3f5f\"},\"error_y\":{\"color\":\"#2a3f5f\"},\"marker\":{\"line\":{\"color\":\"#E5ECF6\",\"width\":0.5},\"pattern\":{\"fillmode\":\"overlay\",\"size\":10,\"solidity\":0.2}},\"type\":\"bar\"}],\"barpolar\":[{\"marker\":{\"line\":{\"color\":\"#E5ECF6\",\"width\":0.5},\"pattern\":{\"fillmode\":\"overlay\",\"size\":10,\"solidity\":0.2}},\"type\":\"barpolar\"}],\"carpet\":[{\"aaxis\":{\"endlinecolor\":\"#2a3f5f\",\"gridcolor\":\"white\",\"linecolor\":\"white\",\"minorgridcolor\":\"white\",\"startlinecolor\":\"#2a3f5f\"},\"baxis\":{\"endlinecolor\":\"#2a3f5f\",\"gridcolor\":\"white\",\"linecolor\":\"white\",\"minorgridcolor\":\"white\",\"startlinecolor\":\"#2a3f5f\"},\"type\":\"carpet\"}],\"choropleth\":[{\"colorbar\":{\"outlinewidth\":0,\"ticks\":\"\"},\"type\":\"choropleth\"}],\"contour\":[{\"colorbar\":{\"outlinewidth\":0,\"ticks\":\"\"},\"colorscale\":[[0.0,\"#0d0887\"],[0.1111111111111111,\"#46039f\"],[0.2222222222222222,\"#7201a8\"],[0.3333333333333333,\"#9c179e\"],[0.4444444444444444,\"#bd3786\"],[0.5555555555555556,\"#d8576b\"],[0.6666666666666666,\"#ed7953\"],[0.7777777777777778,\"#fb9f3a\"],[0.8888888888888888,\"#fdca26\"],[1.0,\"#f0f921\"]],\"type\":\"contour\"}],\"contourcarpet\":[{\"colorbar\":{\"outlinewidth\":0,\"ticks\":\"\"},\"type\":\"contourcarpet\"}],\"heatmap\":[{\"colorbar\":{\"outlinewidth\":0,\"ticks\":\"\"},\"colorscale\":[[0.0,\"#0d0887\"],[0.1111111111111111,\"#46039f\"],[0.2222222222222222,\"#7201a8\"],[0.3333333333333333,\"#9c179e\"],[0.4444444444444444,\"#bd3786\"],[0.5555555555555556,\"#d8576b\"],[0.6666666666666666,\"#ed7953\"],[0.7777777777777778,\"#fb9f3a\"],[0.8888888888888888,\"#fdca26\"],[1.0,\"#f0f921\"]],\"type\":\"heatmap\"}],\"heatmapgl\":[{\"colorbar\":{\"outlinewidth\":0,\"ticks\":\"\"},\"colorscale\":[[0.0,\"#0d0887\"],[0.1111111111111111,\"#46039f\"],[0.2222222222222222,\"#7201a8\"],[0.3333333333333333,\"#9c179e\"],[0.4444444444444444,\"#bd3786\"],[0.5555555555555556,\"#d8576b\"],[0.6666666666666666,\"#ed7953\"],[0.7777777777777778,\"#fb9f3a\"],[0.8888888888888888,\"#fdca26\"],[1.0,\"#f0f921\"]],\"type\":\"heatmapgl\"}],\"histogram\":[{\"marker\":{\"pattern\":{\"fillmode\":\"overlay\",\"size\":10,\"solidity\":0.2}},\"type\":\"histogram\"}],\"histogram2d\":[{\"colorbar\":{\"outlinewidth\":0,\"ticks\":\"\"},\"colorscale\":[[0.0,\"#0d0887\"],[0.1111111111111111,\"#46039f\"],[0.2222222222222222,\"#7201a8\"],[0.3333333333333333,\"#9c179e\"],[0.4444444444444444,\"#bd3786\"],[0.5555555555555556,\"#d8576b\"],[0.6666666666666666,\"#ed7953\"],[0.7777777777777778,\"#fb9f3a\"],[0.8888888888888888,\"#fdca26\"],[1.0,\"#f0f921\"]],\"type\":\"histogram2d\"}],\"histogram2dcontour\":[{\"colorbar\":{\"outlinewidth\":0,\"ticks\":\"\"},\"colorscale\":[[0.0,\"#0d0887\"],[0.1111111111111111,\"#46039f\"],[0.2222222222222222,\"#7201a8\"],[0.3333333333333333,\"#9c179e\"],[0.4444444444444444,\"#bd3786\"],[0.5555555555555556,\"#d8576b\"],[0.6666666666666666,\"#ed7953\"],[0.7777777777777778,\"#fb9f3a\"],[0.8888888888888888,\"#fdca26\"],[1.0,\"#f0f921\"]],\"type\":\"histogram2dcontour\"}],\"mesh3d\":[{\"colorbar\":{\"outlinewidth\":0,\"ticks\":\"\"},\"type\":\"mesh3d\"}],\"parcoords\":[{\"line\":{\"colorbar\":{\"outlinewidth\":0,\"ticks\":\"\"}},\"type\":\"parcoords\"}],\"pie\":[{\"automargin\":true,\"type\":\"pie\"}],\"scatter\":[{\"marker\":{\"colorbar\":{\"outlinewidth\":0,\"ticks\":\"\"}},\"type\":\"scatter\"}],\"scatter3d\":[{\"line\":{\"colorbar\":{\"outlinewidth\":0,\"ticks\":\"\"}},\"marker\":{\"colorbar\":{\"outlinewidth\":0,\"ticks\":\"\"}},\"type\":\"scatter3d\"}],\"scattercarpet\":[{\"marker\":{\"colorbar\":{\"outlinewidth\":0,\"ticks\":\"\"}},\"type\":\"scattercarpet\"}],\"scattergeo\":[{\"marker\":{\"colorbar\":{\"outlinewidth\":0,\"ticks\":\"\"}},\"type\":\"scattergeo\"}],\"scattergl\":[{\"marker\":{\"colorbar\":{\"outlinewidth\":0,\"ticks\":\"\"}},\"type\":\"scattergl\"}],\"scattermapbox\":[{\"marker\":{\"colorbar\":{\"outlinewidth\":0,\"ticks\":\"\"}},\"type\":\"scattermapbox\"}],\"scatterpolar\":[{\"marker\":{\"colorbar\":{\"outlinewidth\":0,\"ticks\":\"\"}},\"type\":\"scatterpolar\"}],\"scatterpolargl\":[{\"marker\":{\"colorbar\":{\"outlinewidth\":0,\"ticks\":\"\"}},\"type\":\"scatterpolargl\"}],\"scatterternary\":[{\"marker\":{\"colorbar\":{\"outlinewidth\":0,\"ticks\":\"\"}},\"type\":\"scatterternary\"}],\"surface\":[{\"colorbar\":{\"outlinewidth\":0,\"ticks\":\"\"},\"colorscale\":[[0.0,\"#0d0887\"],[0.1111111111111111,\"#46039f\"],[0.2222222222222222,\"#7201a8\"],[0.3333333333333333,\"#9c179e\"],[0.4444444444444444,\"#bd3786\"],[0.5555555555555556,\"#d8576b\"],[0.6666666666666666,\"#ed7953\"],[0.7777777777777778,\"#fb9f3a\"],[0.8888888888888888,\"#fdca26\"],[1.0,\"#f0f921\"]],\"type\":\"surface\"}],\"table\":[{\"cells\":{\"fill\":{\"color\":\"#EBF0F8\"},\"line\":{\"color\":\"white\"}},\"header\":{\"fill\":{\"color\":\"#C8D4E3\"},\"line\":{\"color\":\"white\"}},\"type\":\"table\"}]},\"layout\":{\"annotationdefaults\":{\"arrowcolor\":\"#2a3f5f\",\"arrowhead\":0,\"arrowwidth\":1},\"autotypenumbers\":\"strict\",\"coloraxis\":{\"colorbar\":{\"outlinewidth\":0,\"ticks\":\"\"}},\"colorscale\":{\"diverging\":[[0,\"#8e0152\"],[0.1,\"#c51b7d\"],[0.2,\"#de77ae\"],[0.3,\"#f1b6da\"],[0.4,\"#fde0ef\"],[0.5,\"#f7f7f7\"],[0.6,\"#e6f5d0\"],[0.7,\"#b8e186\"],[0.8,\"#7fbc41\"],[0.9,\"#4d9221\"],[1,\"#276419\"]],\"sequential\":[[0.0,\"#0d0887\"],[0.1111111111111111,\"#46039f\"],[0.2222222222222222,\"#7201a8\"],[0.3333333333333333,\"#9c179e\"],[0.4444444444444444,\"#bd3786\"],[0.5555555555555556,\"#d8576b\"],[0.6666666666666666,\"#ed7953\"],[0.7777777777777778,\"#fb9f3a\"],[0.8888888888888888,\"#fdca26\"],[1.0,\"#f0f921\"]],\"sequentialminus\":[[0.0,\"#0d0887\"],[0.1111111111111111,\"#46039f\"],[0.2222222222222222,\"#7201a8\"],[0.3333333333333333,\"#9c179e\"],[0.4444444444444444,\"#bd3786\"],[0.5555555555555556,\"#d8576b\"],[0.6666666666666666,\"#ed7953\"],[0.7777777777777778,\"#fb9f3a\"],[0.8888888888888888,\"#fdca26\"],[1.0,\"#f0f921\"]]},\"colorway\":[\"#636efa\",\"#EF553B\",\"#00cc96\",\"#ab63fa\",\"#FFA15A\",\"#19d3f3\",\"#FF6692\",\"#B6E880\",\"#FF97FF\",\"#FECB52\"],\"font\":{\"color\":\"#2a3f5f\"},\"geo\":{\"bgcolor\":\"white\",\"lakecolor\":\"white\",\"landcolor\":\"#E5ECF6\",\"showlakes\":true,\"showland\":true,\"subunitcolor\":\"white\"},\"hoverlabel\":{\"align\":\"left\"},\"hovermode\":\"closest\",\"mapbox\":{\"style\":\"light\"},\"paper_bgcolor\":\"white\",\"plot_bgcolor\":\"#E5ECF6\",\"polar\":{\"angularaxis\":{\"gridcolor\":\"white\",\"linecolor\":\"white\",\"ticks\":\"\"},\"bgcolor\":\"#E5ECF6\",\"radialaxis\":{\"gridcolor\":\"white\",\"linecolor\":\"white\",\"ticks\":\"\"}},\"scene\":{\"xaxis\":{\"backgroundcolor\":\"#E5ECF6\",\"gridcolor\":\"white\",\"gridwidth\":2,\"linecolor\":\"white\",\"showbackground\":true,\"ticks\":\"\",\"zerolinecolor\":\"white\"},\"yaxis\":{\"backgroundcolor\":\"#E5ECF6\",\"gridcolor\":\"white\",\"gridwidth\":2,\"linecolor\":\"white\",\"showbackground\":true,\"ticks\":\"\",\"zerolinecolor\":\"white\"},\"zaxis\":{\"backgroundcolor\":\"#E5ECF6\",\"gridcolor\":\"white\",\"gridwidth\":2,\"linecolor\":\"white\",\"showbackground\":true,\"ticks\":\"\",\"zerolinecolor\":\"white\"}},\"shapedefaults\":{\"line\":{\"color\":\"#2a3f5f\"}},\"ternary\":{\"aaxis\":{\"gridcolor\":\"white\",\"linecolor\":\"white\",\"ticks\":\"\"},\"baxis\":{\"gridcolor\":\"white\",\"linecolor\":\"white\",\"ticks\":\"\"},\"bgcolor\":\"#E5ECF6\",\"caxis\":{\"gridcolor\":\"white\",\"linecolor\":\"white\",\"ticks\":\"\"}},\"title\":{\"x\":0.05},\"xaxis\":{\"automargin\":true,\"gridcolor\":\"white\",\"linecolor\":\"white\",\"ticks\":\"\",\"title\":{\"standoff\":15},\"zerolinecolor\":\"white\",\"zerolinewidth\":2},\"yaxis\":{\"automargin\":true,\"gridcolor\":\"white\",\"linecolor\":\"white\",\"ticks\":\"\",\"title\":{\"standoff\":15},\"zerolinecolor\":\"white\",\"zerolinewidth\":2}}},\"title\":{\"text\":\"TF-IDF\"},\"xaxis\":{\"anchor\":\"y\",\"domain\":[0.0,0.22999999999999998],\"title\":{\"text\":\"year\"}},\"xaxis2\":{\"anchor\":\"y2\",\"domain\":[0.24999999999999997,0.48],\"title\":{\"text\":\"year\"}},\"xaxis3\":{\"anchor\":\"y3\",\"domain\":[0.49999999999999994,0.73],\"title\":{\"text\":\"year\"}},\"xaxis4\":{\"anchor\":\"y4\",\"domain\":[0.75,0.98],\"title\":{\"text\":\"year\"}},\"xaxis5\":{\"anchor\":\"y5\",\"domain\":[0.0,0.22999999999999998],\"showticklabels\":false},\"xaxis6\":{\"anchor\":\"y6\",\"domain\":[0.24999999999999997,0.48],\"showticklabels\":false},\"xaxis7\":{\"anchor\":\"y7\",\"domain\":[0.49999999999999994,0.73],\"showticklabels\":false},\"xaxis8\":{\"anchor\":\"y8\",\"domain\":[0.75,0.98],\"showticklabels\":false},\"yaxis\":{\"anchor\":\"x\",\"domain\":[0.0,0.485],\"title\":{\"text\":\"Cosine Similarity\"}},\"yaxis2\":{\"anchor\":\"x2\",\"domain\":[0.0,0.485],\"matches\":\"y\",\"showticklabels\":false},\"yaxis3\":{\"anchor\":\"x3\",\"domain\":[0.0,0.485],\"matches\":\"y\",\"showticklabels\":false},\"yaxis4\":{\"anchor\":\"x4\",\"domain\":[0.0,0.485],\"matches\":\"y\",\"showticklabels\":false},\"yaxis5\":{\"anchor\":\"x5\",\"domain\":[0.515,1.0],\"matches\":\"y\",\"title\":{\"text\":\"Cosine Similarity\"}},\"yaxis6\":{\"anchor\":\"x6\",\"domain\":[0.515,1.0],\"matches\":\"y\",\"showticklabels\":false},\"yaxis7\":{\"anchor\":\"x7\",\"domain\":[0.515,1.0],\"matches\":\"y\",\"showticklabels\":false},\"yaxis8\":{\"anchor\":\"x8\",\"domain\":[0.515,1.0],\"matches\":\"y\",\"showticklabels\":false}},                        {\"responsive\": true}                    ).then(function(){\n",
       "                            \n",
       "var gd = document.getElementById('0b57b84b-3677-40a1-bc6b-9fe85abd35bd');\n",
       "var x = new MutationObserver(function (mutations, observer) {{\n",
       "        var display = window.getComputedStyle(gd).display;\n",
       "        if (!display || display === 'none') {{\n",
       "            console.log([gd, 'removed!']);\n",
       "            Plotly.purge(gd);\n",
       "            observer.disconnect();\n",
       "        }}\n",
       "}});\n",
       "\n",
       "// Listen for the removal of the full notebook cells\n",
       "var notebookContainer = gd.closest('#notebook-container');\n",
       "if (notebookContainer) {{\n",
       "    x.observe(notebookContainer, {childList: true});\n",
       "}}\n",
       "\n",
       "// Listen for the clearing of the current output cell\n",
       "var outputEl = gd.closest('.output');\n",
       "if (outputEl) {{\n",
       "    x.observe(outputEl, {childList: true});\n",
       "}}\n",
       "\n",
       "                        })                };                });            </script>        </div>"
      ]
     },
     "metadata": {},
     "output_type": "display_data"
    }
   ],
   "source": [
    "fig = px.line(all_sims,\n",
    "              x='annee',\n",
    "              y=all_sims.columns[3:],\n",
    "              labels={'partyname':'Journal','variable':'Party','value':'Cosine Similarity','annee':'year', 'fichier':'manifesto'},\n",
    "              title='TF-IDF',\n",
    "              facet_row='partyname',\n",
    "              facet_col='fichier',\n",
    "              color_discrete_map=dict_color\n",
    "       )\n",
    "fig.update_xaxes(matches=None)\n",
    "fig.show()"
   ]
  }
 ],
 "metadata": {
  "kernelspec": {
   "display_name": "Python 3",
   "language": "python",
   "name": "python3"
  },
  "language_info": {
   "codemirror_mode": {
    "name": "ipython",
    "version": 3
   },
   "file_extension": ".py",
   "mimetype": "text/x-python",
   "name": "python",
   "nbconvert_exporter": "python",
   "pygments_lexer": "ipython3",
   "version": "3.8.8"
  }
 },
 "nbformat": 4,
 "nbformat_minor": 5
}
