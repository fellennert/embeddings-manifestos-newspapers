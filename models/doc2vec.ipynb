{
 "cells": [
  {
   "cell_type": "code",
   "execution_count": 220,
   "id": "5de8dd56",
   "metadata": {},
   "outputs": [],
   "source": [
    "import logging\n",
    "logging.basicConfig(level=logging.INFO)"
   ]
  },
  {
   "cell_type": "code",
   "execution_count": 2,
   "id": "c202df4a",
   "metadata": {},
   "outputs": [],
   "source": [
    "import gensim\n",
    "import pandas as pd\n",
    "from collections import defaultdict\n",
    "\n",
    "from tqdm.auto import tqdm\n",
    "tqdm.pandas()\n",
    "\n",
    "import plotly.express as px"
   ]
  },
  {
   "cell_type": "code",
   "execution_count": 236,
   "id": "62448a95",
   "metadata": {},
   "outputs": [],
   "source": [
    "all_data = pd.read_csv('./manifesto_articles_preprocessed.csv')"
   ]
  },
  {
   "cell_type": "code",
   "execution_count": 238,
   "id": "1d013d72",
   "metadata": {},
   "outputs": [
    {
     "data": {
      "application/vnd.jupyter.widget-view+json": {
       "model_id": "002ce0d375064be8b4bb5f55fde814ec",
       "version_major": 2,
       "version_minor": 0
      },
      "text/plain": [
       "  0%|          | 0/69935 [00:00<?, ?it/s]"
      ]
     },
     "metadata": {},
     "output_type": "display_data"
    }
   ],
   "source": [
    "all_data.words = all_data.words.progress_apply(eval)"
   ]
  },
  {
   "cell_type": "code",
   "execution_count": 239,
   "id": "ccc04e82",
   "metadata": {},
   "outputs": [],
   "source": [
    "#all_data.words = all_data.words.progress_apply(lambda x: [a for a in x if a not in [\"→\",\"”\",\"“\"]])"
   ]
  },
  {
   "cell_type": "code",
   "execution_count": 112,
   "id": "433a6d89",
   "metadata": {},
   "outputs": [],
   "source": [
    "dict_party = {'Socialist Party':'PS',\n",
    "              'Europe Ecology - The Greens':'EELV',\n",
    "              'The Republicans':'RPR/UMP/LR',\n",
    "              'National Front':'FN',\n",
    "              'Democratic Movement':'MoDem/EM',\n",
    "              'Republic Onwards!':'MoDem/EM',\n",
    "              'Left Front':'PCF/PG/LFI',\n",
    "              'Indomitable France':'PCF/PG/LFI',\n",
    "              'French Communist Party':'PCF/PG/LFI',\n",
    "              'Le Monde':'Le Monde',\n",
    "              'Le Figaro':'Le Figaro'}"
   ]
  },
  {
   "cell_type": "code",
   "execution_count": 114,
   "id": "8a32d3e1",
   "metadata": {},
   "outputs": [],
   "source": [
    "dict_color = {'PS': 'pink', \n",
    "              'MoDem/EM': 'orange', \n",
    "              'RPR/UMP/LR': 'blue',\n",
    "              'FN':'darkslateblue',\n",
    "              'EELV':'green',\n",
    "              'PCF/PG/LFI':'red',\n",
    "              'Le Monde':'black',\n",
    "              'Le Figaro':'cyan'}"
   ]
  },
  {
   "cell_type": "code",
   "execution_count": 115,
   "id": "0968c78e",
   "metadata": {},
   "outputs": [],
   "source": [
    "all_data.partyname = all_data.partyname.apply(lambda x: dict_party[x])"
   ]
  },
  {
   "cell_type": "code",
   "execution_count": 116,
   "id": "a9e52dd8",
   "metadata": {},
   "outputs": [],
   "source": [
    "df2002 = all_data[all_data['fichier']==1].reset_index(drop=True)\n",
    "df2007 = all_data[all_data['fichier']==2].reset_index(drop=True)\n",
    "df2012 = all_data[all_data['fichier']==3].reset_index(drop=True)\n",
    "df2017 = all_data[all_data['fichier']==4].reset_index(drop=True)"
   ]
  },
  {
   "cell_type": "markdown",
   "id": "ee3883a8",
   "metadata": {},
   "source": [
    "## Doc2Vec"
   ]
  },
  {
   "cell_type": "code",
   "execution_count": 226,
   "id": "1836a5c0",
   "metadata": {},
   "outputs": [],
   "source": [
    "def doc2vec(df):\n",
    "    corpus = df.apply(lambda row: gensim.models.doc2vec.TaggedDocument(row['words'], [row['index']]),axis=1)\n",
    "    model = gensim.models.doc2vec.Doc2Vec(vector_size=50, min_count=2, epochs=10)\n",
    "    model.build_vocab(corpus)\n",
    "    model.train(corpus, total_examples=model.corpus_count, epochs=model.epochs)\n",
    "    \n",
    "    manifesto_ids = df.loc[~df['partyname'].isin(['Le Monde','Le Figaro']),['index','partyname']].reset_index(drop=True)\n",
    "    for i in range(manifesto_ids.shape[0]):\n",
    "        df[manifesto_ids.loc[i,'partyname']] = model.dv.cosine_similarities(model.dv.vectors[manifesto_ids.loc[i,'index']],model.dv.vectors)\n",
    "    sims = df.loc[df['partyname'].isin(['Le Monde', 'Le Figaro'])].drop('index',axis=1).groupby(['partyname','annee']).mean().reset_index()\n",
    "    return sims"
   ]
  },
  {
   "cell_type": "code",
   "execution_count": 227,
   "id": "dc6024f4",
   "metadata": {
    "scrolled": true
   },
   "outputs": [
    {
     "name": "stderr",
     "output_type": "stream",
     "text": [
      "2021-12-01 14:35:53,941 : INFO : Doc2Vec lifecycle event {'params': 'Doc2Vec(dm/m,d50,n5,w5,mc2,s0.001,t3)', 'datetime': '2021-12-01T14:35:53.941802', 'gensim': '4.1.2', 'python': '3.8.8 (default, Apr 13 2021, 12:59:45) \\n[Clang 10.0.0 ]', 'platform': 'macOS-10.16-x86_64-i386-64bit', 'event': 'created'}\n",
      "2021-12-01 14:35:53,942 : INFO : collecting all words and their counts\n",
      "2021-12-01 14:35:53,942 : INFO : PROGRESS: at example #0, processed 0 words (0/s), 0 word types, 0 tags\n",
      "2021-12-01 14:35:54,228 : INFO : PROGRESS: at example #10000, processed 1952759 words (6854310/s), 33963 word types, 0 tags\n",
      "2021-12-01 14:35:54,428 : INFO : collected 42673 word types and 18842 unique tags from a corpus of 18842 examples and 3372991 words\n",
      "2021-12-01 14:35:54,429 : INFO : Creating a fresh vocabulary\n",
      "2021-12-01 14:35:54,530 : INFO : Doc2Vec lifecycle event {'msg': 'effective_min_count=2 retains 26897 unique words (63.03048766198767%% of original 42673, drops 15776)', 'datetime': '2021-12-01T14:35:54.530858', 'gensim': '4.1.2', 'python': '3.8.8 (default, Apr 13 2021, 12:59:45) \\n[Clang 10.0.0 ]', 'platform': 'macOS-10.16-x86_64-i386-64bit', 'event': 'prepare_vocab'}\n",
      "2021-12-01 14:35:54,531 : INFO : Doc2Vec lifecycle event {'msg': 'effective_min_count=2 leaves 3357215 word corpus (99.53228455101126%% of original 3372991, drops 15776)', 'datetime': '2021-12-01T14:35:54.531449', 'gensim': '4.1.2', 'python': '3.8.8 (default, Apr 13 2021, 12:59:45) \\n[Clang 10.0.0 ]', 'platform': 'macOS-10.16-x86_64-i386-64bit', 'event': 'prepare_vocab'}\n",
      "2021-12-01 14:35:54,676 : INFO : deleting the raw counts dictionary of 42673 items\n",
      "2021-12-01 14:35:54,677 : INFO : sample=0.001 downsamples 42 most-common words\n",
      "2021-12-01 14:35:54,678 : INFO : Doc2Vec lifecycle event {'msg': 'downsampling leaves estimated 3141832.2760316646 word corpus (93.6%% of prior 3357215)', 'datetime': '2021-12-01T14:35:54.678593', 'gensim': '4.1.2', 'python': '3.8.8 (default, Apr 13 2021, 12:59:45) \\n[Clang 10.0.0 ]', 'platform': 'macOS-10.16-x86_64-i386-64bit', 'event': 'prepare_vocab'}\n",
      "2021-12-01 14:35:54,927 : INFO : estimated required memory for 26897 words and 50 dimensions: 31744100 bytes\n",
      "2021-12-01 14:35:54,927 : INFO : resetting layer weights\n",
      "2021-12-01 14:35:54,938 : INFO : Doc2Vec lifecycle event {'msg': 'training model with 3 workers on 26897 vocabulary and 50 features, using sg=0 hs=0 sample=0.001 negative=5 window=5 shrink_windows=True', 'datetime': '2021-12-01T14:35:54.938027', 'gensim': '4.1.2', 'python': '3.8.8 (default, Apr 13 2021, 12:59:45) \\n[Clang 10.0.0 ]', 'platform': 'macOS-10.16-x86_64-i386-64bit', 'event': 'train'}\n",
      "2021-12-01 14:35:55,944 : INFO : EPOCH 1 - PROGRESS: at 30.46% examples, 1085263 words/s, in_qsize 5, out_qsize 0\n",
      "2021-12-01 14:35:56,944 : INFO : EPOCH 1 - PROGRESS: at 65.38% examples, 1090945 words/s, in_qsize 6, out_qsize 0\n",
      "2021-12-01 14:35:57,866 : INFO : worker thread finished; awaiting finish of 2 more threads\n",
      "2021-12-01 14:35:57,874 : INFO : worker thread finished; awaiting finish of 1 more threads\n",
      "2021-12-01 14:35:57,883 : INFO : worker thread finished; awaiting finish of 0 more threads\n",
      "2021-12-01 14:35:57,884 : INFO : EPOCH - 1 : training on 3372991 raw words (3158819 effective words) took 2.9s, 1073085 effective words/s\n",
      "2021-12-01 14:35:58,894 : INFO : EPOCH 2 - PROGRESS: at 30.43% examples, 1080917 words/s, in_qsize 5, out_qsize 0\n",
      "2021-12-01 14:35:59,896 : INFO : EPOCH 2 - PROGRESS: at 64.42% examples, 1073730 words/s, in_qsize 5, out_qsize 0\n",
      "2021-12-01 14:36:00,869 : INFO : worker thread finished; awaiting finish of 2 more threads\n",
      "2021-12-01 14:36:00,872 : INFO : worker thread finished; awaiting finish of 1 more threads\n",
      "2021-12-01 14:36:00,886 : INFO : worker thread finished; awaiting finish of 0 more threads\n",
      "2021-12-01 14:36:00,887 : INFO : EPOCH - 2 : training on 3372991 raw words (3158461 effective words) took 3.0s, 1052512 effective words/s\n",
      "2021-12-01 14:36:01,891 : INFO : EPOCH 3 - PROGRESS: at 28.97% examples, 1040242 words/s, in_qsize 6, out_qsize 0\n",
      "2021-12-01 14:36:02,891 : INFO : EPOCH 3 - PROGRESS: at 60.60% examples, 1026621 words/s, in_qsize 5, out_qsize 0\n",
      "2021-12-01 14:36:03,893 : INFO : EPOCH 3 - PROGRESS: at 92.90% examples, 995168 words/s, in_qsize 5, out_qsize 0\n",
      "2021-12-01 14:36:04,080 : INFO : worker thread finished; awaiting finish of 2 more threads\n",
      "2021-12-01 14:36:04,102 : INFO : worker thread finished; awaiting finish of 1 more threads\n",
      "2021-12-01 14:36:04,103 : INFO : worker thread finished; awaiting finish of 0 more threads\n",
      "2021-12-01 14:36:04,104 : INFO : EPOCH - 3 : training on 3372991 raw words (3158762 effective words) took 3.2s, 982625 effective words/s\n",
      "2021-12-01 14:36:05,118 : INFO : EPOCH 4 - PROGRESS: at 22.12% examples, 779024 words/s, in_qsize 5, out_qsize 0\n",
      "2021-12-01 14:36:06,149 : INFO : EPOCH 4 - PROGRESS: at 39.66% examples, 688546 words/s, in_qsize 5, out_qsize 1\n",
      "2021-12-01 14:36:07,185 : INFO : EPOCH 4 - PROGRESS: at 54.14% examples, 601556 words/s, in_qsize 6, out_qsize 0\n",
      "2021-12-01 14:36:08,192 : INFO : EPOCH 4 - PROGRESS: at 66.32% examples, 542493 words/s, in_qsize 5, out_qsize 0\n",
      "2021-12-01 14:36:09,208 : INFO : EPOCH 4 - PROGRESS: at 77.19% examples, 502099 words/s, in_qsize 6, out_qsize 0\n",
      "2021-12-01 14:36:10,157 : INFO : worker thread finished; awaiting finish of 2 more threads\n",
      "2021-12-01 14:36:10,167 : INFO : worker thread finished; awaiting finish of 1 more threads\n",
      "2021-12-01 14:36:10,185 : INFO : worker thread finished; awaiting finish of 0 more threads\n",
      "2021-12-01 14:36:10,186 : INFO : EPOCH - 4 : training on 3372991 raw words (3158766 effective words) took 6.1s, 519946 effective words/s\n",
      "2021-12-01 14:36:11,200 : INFO : EPOCH 5 - PROGRESS: at 27.30% examples, 977435 words/s, in_qsize 5, out_qsize 0\n",
      "2021-12-01 14:36:12,213 : INFO : EPOCH 5 - PROGRESS: at 59.77% examples, 1002406 words/s, in_qsize 5, out_qsize 0\n",
      "2021-12-01 14:36:13,214 : INFO : EPOCH 5 - PROGRESS: at 93.77% examples, 994787 words/s, in_qsize 6, out_qsize 0\n",
      "2021-12-01 14:36:13,369 : INFO : worker thread finished; awaiting finish of 2 more threads\n",
      "2021-12-01 14:36:13,372 : INFO : worker thread finished; awaiting finish of 1 more threads\n",
      "2021-12-01 14:36:13,380 : INFO : worker thread finished; awaiting finish of 0 more threads\n",
      "2021-12-01 14:36:13,381 : INFO : EPOCH - 5 : training on 3372991 raw words (3158949 effective words) took 3.2s, 990084 effective words/s\n",
      "2021-12-01 14:36:14,385 : INFO : EPOCH 6 - PROGRESS: at 28.97% examples, 1041615 words/s, in_qsize 5, out_qsize 0\n",
      "2021-12-01 14:36:15,390 : INFO : EPOCH 6 - PROGRESS: at 60.93% examples, 1029440 words/s, in_qsize 5, out_qsize 0\n",
      "2021-12-01 14:36:16,405 : INFO : EPOCH 6 - PROGRESS: at 96.33% examples, 1017390 words/s, in_qsize 6, out_qsize 0\n",
      "2021-12-01 14:36:16,486 : INFO : worker thread finished; awaiting finish of 2 more threads\n",
      "2021-12-01 14:36:16,489 : INFO : worker thread finished; awaiting finish of 1 more threads\n",
      "2021-12-01 14:36:16,505 : INFO : worker thread finished; awaiting finish of 0 more threads\n",
      "2021-12-01 14:36:16,505 : INFO : EPOCH - 6 : training on 3372991 raw words (3159055 effective words) took 3.1s, 1012274 effective words/s\n",
      "2021-12-01 14:36:17,511 : INFO : EPOCH 7 - PROGRESS: at 28.34% examples, 1020877 words/s, in_qsize 6, out_qsize 0\n",
      "2021-12-01 14:36:18,514 : INFO : EPOCH 7 - PROGRESS: at 60.01% examples, 1015159 words/s, in_qsize 5, out_qsize 0\n",
      "2021-12-01 14:36:19,518 : INFO : EPOCH 7 - PROGRESS: at 94.48% examples, 1005326 words/s, in_qsize 5, out_qsize 0\n",
      "2021-12-01 14:36:19,663 : INFO : worker thread finished; awaiting finish of 2 more threads\n",
      "2021-12-01 14:36:19,664 : INFO : worker thread finished; awaiting finish of 1 more threads\n",
      "2021-12-01 14:36:19,671 : INFO : worker thread finished; awaiting finish of 0 more threads\n",
      "2021-12-01 14:36:19,672 : INFO : EPOCH - 7 : training on 3372991 raw words (3158062 effective words) took 3.2s, 998156 effective words/s\n",
      "2021-12-01 14:36:20,680 : INFO : EPOCH 8 - PROGRESS: at 28.04% examples, 1013308 words/s, in_qsize 6, out_qsize 0\n",
      "2021-12-01 14:36:21,703 : INFO : EPOCH 8 - PROGRESS: at 60.31% examples, 1010527 words/s, in_qsize 5, out_qsize 0\n",
      "2021-12-01 14:36:22,722 : INFO : EPOCH 8 - PROGRESS: at 94.10% examples, 991259 words/s, in_qsize 5, out_qsize 0\n"
     ]
    },
    {
     "name": "stderr",
     "output_type": "stream",
     "text": [
      "2021-12-01 14:36:22,882 : INFO : worker thread finished; awaiting finish of 2 more threads\n",
      "2021-12-01 14:36:22,885 : INFO : worker thread finished; awaiting finish of 1 more threads\n",
      "2021-12-01 14:36:22,893 : INFO : worker thread finished; awaiting finish of 0 more threads\n",
      "2021-12-01 14:36:22,894 : INFO : EPOCH - 8 : training on 3372991 raw words (3158230 effective words) took 3.2s, 982355 effective words/s\n",
      "2021-12-01 14:36:23,908 : INFO : EPOCH 9 - PROGRESS: at 28.04% examples, 1003125 words/s, in_qsize 6, out_qsize 0\n",
      "2021-12-01 14:36:24,916 : INFO : EPOCH 9 - PROGRESS: at 59.53% examples, 999711 words/s, in_qsize 6, out_qsize 0\n",
      "2021-12-01 14:36:25,919 : INFO : EPOCH 9 - PROGRESS: at 92.96% examples, 989214 words/s, in_qsize 6, out_qsize 0\n",
      "2021-12-01 14:36:26,093 : INFO : worker thread finished; awaiting finish of 2 more threads\n",
      "2021-12-01 14:36:26,096 : INFO : worker thread finished; awaiting finish of 1 more threads\n",
      "2021-12-01 14:36:26,116 : INFO : worker thread finished; awaiting finish of 0 more threads\n",
      "2021-12-01 14:36:26,117 : INFO : EPOCH - 9 : training on 3372991 raw words (3158972 effective words) took 3.2s, 981109 effective words/s\n",
      "2021-12-01 14:36:27,126 : INFO : EPOCH 10 - PROGRESS: at 27.55% examples, 992176 words/s, in_qsize 5, out_qsize 0\n",
      "2021-12-01 14:36:28,128 : INFO : EPOCH 10 - PROGRESS: at 58.23% examples, 982124 words/s, in_qsize 5, out_qsize 0\n",
      "2021-12-01 14:36:29,135 : INFO : EPOCH 10 - PROGRESS: at 90.35% examples, 973034 words/s, in_qsize 6, out_qsize 0\n",
      "2021-12-01 14:36:29,377 : INFO : worker thread finished; awaiting finish of 2 more threads\n",
      "2021-12-01 14:36:29,379 : INFO : worker thread finished; awaiting finish of 1 more threads\n",
      "2021-12-01 14:36:29,400 : INFO : worker thread finished; awaiting finish of 0 more threads\n",
      "2021-12-01 14:36:29,401 : INFO : EPOCH - 10 : training on 3372991 raw words (3158647 effective words) took 3.3s, 962990 effective words/s\n",
      "2021-12-01 14:36:29,402 : INFO : Doc2Vec lifecycle event {'msg': 'training on 33729910 raw words (31586723 effective words) took 34.5s, 916566 effective words/s', 'datetime': '2021-12-01T14:36:29.402106', 'gensim': '4.1.2', 'python': '3.8.8 (default, Apr 13 2021, 12:59:45) \\n[Clang 10.0.0 ]', 'platform': 'macOS-10.16-x86_64-i386-64bit', 'event': 'train'}\n"
     ]
    }
   ],
   "source": [
    "sims2002 = doc2vec(df2002)"
   ]
  },
  {
   "cell_type": "code",
   "execution_count": 230,
   "id": "75f79403",
   "metadata": {},
   "outputs": [
    {
     "name": "stderr",
     "output_type": "stream",
     "text": [
      "2021-12-01 14:37:46,023 : INFO : Doc2Vec lifecycle event {'params': 'Doc2Vec(dm/m,d50,n5,w5,mc2,s0.001,t3)', 'datetime': '2021-12-01T14:37:46.023549', 'gensim': '4.1.2', 'python': '3.8.8 (default, Apr 13 2021, 12:59:45) \\n[Clang 10.0.0 ]', 'platform': 'macOS-10.16-x86_64-i386-64bit', 'event': 'created'}\n",
      "2021-12-01 14:37:46,024 : INFO : collecting all words and their counts\n",
      "2021-12-01 14:37:46,025 : INFO : PROGRESS: at example #0, processed 0 words (0/s), 0 word types, 0 tags\n",
      "2021-12-01 14:37:46,340 : INFO : PROGRESS: at example #10000, processed 1843854 words (5867980/s), 36533 word types, 0 tags\n",
      "2021-12-01 14:37:46,553 : INFO : PROGRESS: at example #20000, processed 3138074 words (6104579/s), 44189 word types, 0 tags\n",
      "2021-12-01 14:37:46,627 : INFO : collected 46137 word types and 23135 unique tags from a corpus of 23135 examples and 3519387 words\n",
      "2021-12-01 14:37:46,628 : INFO : Creating a fresh vocabulary\n",
      "2021-12-01 14:37:46,743 : INFO : Doc2Vec lifecycle event {'msg': 'effective_min_count=2 retains 28507 unique words (61.787719184168886%% of original 46137, drops 17630)', 'datetime': '2021-12-01T14:37:46.743602', 'gensim': '4.1.2', 'python': '3.8.8 (default, Apr 13 2021, 12:59:45) \\n[Clang 10.0.0 ]', 'platform': 'macOS-10.16-x86_64-i386-64bit', 'event': 'prepare_vocab'}\n",
      "2021-12-01 14:37:46,744 : INFO : Doc2Vec lifecycle event {'msg': 'effective_min_count=2 leaves 3501757 word corpus (99.49906048979553%% of original 3519387, drops 17630)', 'datetime': '2021-12-01T14:37:46.744252', 'gensim': '4.1.2', 'python': '3.8.8 (default, Apr 13 2021, 12:59:45) \\n[Clang 10.0.0 ]', 'platform': 'macOS-10.16-x86_64-i386-64bit', 'event': 'prepare_vocab'}\n",
      "2021-12-01 14:37:46,917 : INFO : deleting the raw counts dictionary of 46137 items\n",
      "2021-12-01 14:37:46,924 : INFO : sample=0.001 downsamples 44 most-common words\n",
      "2021-12-01 14:37:46,926 : INFO : Doc2Vec lifecycle event {'msg': 'downsampling leaves estimated 3292378.5833825096 word corpus (94.0%% of prior 3501757)', 'datetime': '2021-12-01T14:37:46.926441', 'gensim': '4.1.2', 'python': '3.8.8 (default, Apr 13 2021, 12:59:45) \\n[Clang 10.0.0 ]', 'platform': 'macOS-10.16-x86_64-i386-64bit', 'event': 'prepare_vocab'}\n",
      "2021-12-01 14:37:47,239 : INFO : estimated required memory for 28507 words and 50 dimensions: 34910300 bytes\n",
      "2021-12-01 14:37:47,240 : INFO : resetting layer weights\n",
      "2021-12-01 14:37:47,253 : INFO : Doc2Vec lifecycle event {'msg': 'training model with 3 workers on 28507 vocabulary and 50 features, using sg=0 hs=0 sample=0.001 negative=5 window=5 shrink_windows=True', 'datetime': '2021-12-01T14:37:47.253673', 'gensim': '4.1.2', 'python': '3.8.8 (default, Apr 13 2021, 12:59:45) \\n[Clang 10.0.0 ]', 'platform': 'macOS-10.16-x86_64-i386-64bit', 'event': 'train'}\n",
      "2021-12-01 14:37:48,277 : INFO : EPOCH 1 - PROGRESS: at 25.20% examples, 1069159 words/s, in_qsize 5, out_qsize 0\n",
      "2021-12-01 14:37:49,280 : INFO : EPOCH 1 - PROGRESS: at 52.27% examples, 977509 words/s, in_qsize 5, out_qsize 0\n",
      "2021-12-01 14:37:50,290 : INFO : EPOCH 1 - PROGRESS: at 77.23% examples, 882316 words/s, in_qsize 5, out_qsize 0\n",
      "2021-12-01 14:37:51,353 : INFO : EPOCH 1 - PROGRESS: at 91.33% examples, 748820 words/s, in_qsize 6, out_qsize 0\n",
      "2021-12-01 14:37:52,395 : INFO : EPOCH 1 - PROGRESS: at 98.85% examples, 633186 words/s, in_qsize 4, out_qsize 0\n",
      "2021-12-01 14:37:52,460 : INFO : worker thread finished; awaiting finish of 2 more threads\n",
      "2021-12-01 14:37:52,505 : INFO : worker thread finished; awaiting finish of 1 more threads\n",
      "2021-12-01 14:37:52,529 : INFO : worker thread finished; awaiting finish of 0 more threads\n",
      "2021-12-01 14:37:52,530 : INFO : EPOCH - 1 : training on 3519387 raw words (3283739 effective words) took 5.3s, 623869 effective words/s\n",
      "2021-12-01 14:37:53,540 : INFO : EPOCH 2 - PROGRESS: at 8.95% examples, 456607 words/s, in_qsize 6, out_qsize 0\n",
      "2021-12-01 14:37:54,546 : INFO : EPOCH 2 - PROGRESS: at 36.21% examples, 757549 words/s, in_qsize 6, out_qsize 0\n",
      "2021-12-01 14:37:55,548 : INFO : EPOCH 2 - PROGRESS: at 70.55% examples, 825040 words/s, in_qsize 5, out_qsize 0\n",
      "2021-12-01 14:37:56,395 : INFO : worker thread finished; awaiting finish of 2 more threads\n",
      "2021-12-01 14:37:56,405 : INFO : worker thread finished; awaiting finish of 1 more threads\n",
      "2021-12-01 14:37:56,414 : INFO : worker thread finished; awaiting finish of 0 more threads\n",
      "2021-12-01 14:37:56,416 : INFO : EPOCH - 2 : training on 3519387 raw words (3284119 effective words) took 3.9s, 847187 effective words/s\n",
      "2021-12-01 14:37:57,429 : INFO : EPOCH 3 - PROGRESS: at 23.08% examples, 991423 words/s, in_qsize 6, out_qsize 0\n",
      "2021-12-01 14:37:58,431 : INFO : EPOCH 3 - PROGRESS: at 36.76% examples, 766016 words/s, in_qsize 5, out_qsize 0\n",
      "2021-12-01 14:37:59,434 : INFO : EPOCH 3 - PROGRESS: at 52.11% examples, 650630 words/s, in_qsize 5, out_qsize 0\n",
      "2021-12-01 14:38:00,440 : INFO : EPOCH 3 - PROGRESS: at 66.77% examples, 587675 words/s, in_qsize 5, out_qsize 0\n",
      "2021-12-01 14:38:01,441 : INFO : EPOCH 3 - PROGRESS: at 85.62% examples, 576284 words/s, in_qsize 5, out_qsize 0\n",
      "2021-12-01 14:38:01,965 : INFO : worker thread finished; awaiting finish of 2 more threads\n",
      "2021-12-01 14:38:01,984 : INFO : worker thread finished; awaiting finish of 1 more threads\n",
      "2021-12-01 14:38:01,985 : INFO : worker thread finished; awaiting finish of 0 more threads\n",
      "2021-12-01 14:38:01,987 : INFO : EPOCH - 3 : training on 3519387 raw words (3283745 effective words) took 5.6s, 590231 effective words/s\n",
      "2021-12-01 14:38:03,004 : INFO : EPOCH 4 - PROGRESS: at 16.46% examples, 726353 words/s, in_qsize 5, out_qsize 0\n",
      "2021-12-01 14:38:04,050 : INFO : EPOCH 4 - PROGRESS: at 36.19% examples, 737844 words/s, in_qsize 6, out_qsize 0\n",
      "2021-12-01 14:38:05,063 : INFO : EPOCH 4 - PROGRESS: at 60.17% examples, 704624 words/s, in_qsize 5, out_qsize 0\n",
      "2021-12-01 14:38:06,072 : INFO : EPOCH 4 - PROGRESS: at 81.96% examples, 683226 words/s, in_qsize 6, out_qsize 0\n",
      "2021-12-01 14:38:07,048 : INFO : worker thread finished; awaiting finish of 2 more threads\n",
      "2021-12-01 14:38:07,064 : INFO : worker thread finished; awaiting finish of 1 more threads\n",
      "2021-12-01 14:38:07,070 : INFO : worker thread finished; awaiting finish of 0 more threads\n",
      "2021-12-01 14:38:07,071 : INFO : EPOCH - 4 : training on 3519387 raw words (3284054 effective words) took 5.1s, 646332 effective words/s\n",
      "2021-12-01 14:38:08,126 : INFO : EPOCH 5 - PROGRESS: at 14.48% examples, 631190 words/s, in_qsize 6, out_qsize 0\n",
      "2021-12-01 14:38:09,133 : INFO : EPOCH 5 - PROGRESS: at 33.86% examples, 703321 words/s, in_qsize 6, out_qsize 0\n",
      "2021-12-01 14:38:10,164 : INFO : EPOCH 5 - PROGRESS: at 57.02% examples, 674120 words/s, in_qsize 5, out_qsize 0\n",
      "2021-12-01 14:38:11,166 : INFO : EPOCH 5 - PROGRESS: at 76.91% examples, 650384 words/s, in_qsize 5, out_qsize 0\n",
      "2021-12-01 14:38:12,092 : INFO : worker thread finished; awaiting finish of 2 more threads\n",
      "2021-12-01 14:38:12,106 : INFO : worker thread finished; awaiting finish of 1 more threads\n",
      "2021-12-01 14:38:12,121 : INFO : worker thread finished; awaiting finish of 0 more threads\n",
      "2021-12-01 14:38:12,123 : INFO : EPOCH - 5 : training on 3519387 raw words (3283898 effective words) took 5.0s, 650822 effective words/s\n",
      "2021-12-01 14:38:13,139 : INFO : EPOCH 6 - PROGRESS: at 8.10% examples, 415452 words/s, in_qsize 5, out_qsize 0\n",
      "2021-12-01 14:38:14,156 : INFO : EPOCH 6 - PROGRESS: at 28.32% examples, 606472 words/s, in_qsize 5, out_qsize 0\n",
      "2021-12-01 14:38:15,167 : INFO : EPOCH 6 - PROGRESS: at 50.44% examples, 629533 words/s, in_qsize 5, out_qsize 0\n",
      "2021-12-01 14:38:16,172 : INFO : EPOCH 6 - PROGRESS: at 78.18% examples, 666784 words/s, in_qsize 6, out_qsize 0\n",
      "2021-12-01 14:38:16,958 : INFO : worker thread finished; awaiting finish of 2 more threads\n",
      "2021-12-01 14:38:16,976 : INFO : worker thread finished; awaiting finish of 1 more threads\n",
      "2021-12-01 14:38:16,981 : INFO : worker thread finished; awaiting finish of 0 more threads\n",
      "2021-12-01 14:38:16,983 : INFO : EPOCH - 6 : training on 3519387 raw words (3283850 effective words) took 4.9s, 676505 effective words/s\n",
      "2021-12-01 14:38:18,011 : INFO : EPOCH 7 - PROGRESS: at 17.36% examples, 760720 words/s, in_qsize 5, out_qsize 0\n",
      "2021-12-01 14:38:19,030 : INFO : EPOCH 7 - PROGRESS: at 44.66% examples, 861160 words/s, in_qsize 5, out_qsize 0\n"
     ]
    },
    {
     "name": "stderr",
     "output_type": "stream",
     "text": [
      "2021-12-01 14:38:20,032 : INFO : EPOCH 7 - PROGRESS: at 76.91% examples, 875012 words/s, in_qsize 6, out_qsize 0\n",
      "2021-12-01 14:38:20,757 : INFO : worker thread finished; awaiting finish of 2 more threads\n",
      "2021-12-01 14:38:20,769 : INFO : worker thread finished; awaiting finish of 1 more threads\n",
      "2021-12-01 14:38:20,773 : INFO : worker thread finished; awaiting finish of 0 more threads\n",
      "2021-12-01 14:38:20,773 : INFO : EPOCH - 7 : training on 3519387 raw words (3283879 effective words) took 3.8s, 868879 effective words/s\n",
      "2021-12-01 14:38:21,797 : INFO : EPOCH 8 - PROGRESS: at 19.47% examples, 843221 words/s, in_qsize 5, out_qsize 0\n",
      "2021-12-01 14:38:22,822 : INFO : EPOCH 8 - PROGRESS: at 42.10% examples, 826719 words/s, in_qsize 5, out_qsize 0\n",
      "2021-12-01 14:38:23,824 : INFO : EPOCH 8 - PROGRESS: at 73.41% examples, 840045 words/s, in_qsize 5, out_qsize 0\n",
      "2021-12-01 14:38:24,762 : INFO : worker thread finished; awaiting finish of 2 more threads\n",
      "2021-12-01 14:38:24,777 : INFO : worker thread finished; awaiting finish of 1 more threads\n",
      "2021-12-01 14:38:24,778 : INFO : worker thread finished; awaiting finish of 0 more threads\n",
      "2021-12-01 14:38:24,778 : INFO : EPOCH - 8 : training on 3519387 raw words (3284258 effective words) took 4.0s, 821564 effective words/s\n",
      "2021-12-01 14:38:25,793 : INFO : EPOCH 9 - PROGRESS: at 19.54% examples, 852158 words/s, in_qsize 5, out_qsize 0\n",
      "2021-12-01 14:38:26,797 : INFO : EPOCH 9 - PROGRESS: at 42.70% examples, 844223 words/s, in_qsize 6, out_qsize 0\n",
      "2021-12-01 14:38:27,806 : INFO : EPOCH 9 - PROGRESS: at 72.14% examples, 837470 words/s, in_qsize 5, out_qsize 0\n",
      "2021-12-01 14:38:28,721 : INFO : worker thread finished; awaiting finish of 2 more threads\n",
      "2021-12-01 14:38:28,727 : INFO : worker thread finished; awaiting finish of 1 more threads\n",
      "2021-12-01 14:38:28,737 : INFO : worker thread finished; awaiting finish of 0 more threads\n",
      "2021-12-01 14:38:28,737 : INFO : EPOCH - 9 : training on 3519387 raw words (3284076 effective words) took 4.0s, 831275 effective words/s\n",
      "2021-12-01 14:38:29,761 : INFO : EPOCH 10 - PROGRESS: at 21.31% examples, 913833 words/s, in_qsize 6, out_qsize 0\n",
      "2021-12-01 14:38:30,763 : INFO : EPOCH 10 - PROGRESS: at 49.10% examples, 927468 words/s, in_qsize 5, out_qsize 0\n",
      "2021-12-01 14:38:31,764 : INFO : EPOCH 10 - PROGRESS: at 80.95% examples, 913447 words/s, in_qsize 5, out_qsize 0\n",
      "2021-12-01 14:38:32,447 : INFO : worker thread finished; awaiting finish of 2 more threads\n",
      "2021-12-01 14:38:32,454 : INFO : worker thread finished; awaiting finish of 1 more threads\n",
      "2021-12-01 14:38:32,463 : INFO : worker thread finished; awaiting finish of 0 more threads\n",
      "2021-12-01 14:38:32,464 : INFO : EPOCH - 10 : training on 3519387 raw words (3283588 effective words) took 3.7s, 882265 effective words/s\n",
      "2021-12-01 14:38:32,466 : INFO : Doc2Vec lifecycle event {'msg': 'training on 35193870 raw words (32839206 effective words) took 45.2s, 726374 effective words/s', 'datetime': '2021-12-01T14:38:32.466136', 'gensim': '4.1.2', 'python': '3.8.8 (default, Apr 13 2021, 12:59:45) \\n[Clang 10.0.0 ]', 'platform': 'macOS-10.16-x86_64-i386-64bit', 'event': 'train'}\n"
     ]
    }
   ],
   "source": [
    "sims2007 = doc2vec(df2007)"
   ]
  },
  {
   "cell_type": "code",
   "execution_count": 231,
   "id": "f474cdf8",
   "metadata": {},
   "outputs": [
    {
     "name": "stderr",
     "output_type": "stream",
     "text": [
      "2021-12-01 14:38:32,879 : INFO : Doc2Vec lifecycle event {'params': 'Doc2Vec(dm/m,d50,n5,w5,mc2,s0.001,t3)', 'datetime': '2021-12-01T14:38:32.879440', 'gensim': '4.1.2', 'python': '3.8.8 (default, Apr 13 2021, 12:59:45) \\n[Clang 10.0.0 ]', 'platform': 'macOS-10.16-x86_64-i386-64bit', 'event': 'created'}\n",
      "2021-12-01 14:38:32,880 : INFO : collecting all words and their counts\n",
      "2021-12-01 14:38:32,880 : INFO : PROGRESS: at example #0, processed 0 words (0/s), 0 word types, 0 tags\n",
      "2021-12-01 14:38:33,256 : INFO : PROGRESS: at example #10000, processed 2154185 words (5738401/s), 37805 word types, 0 tags\n",
      "2021-12-01 14:38:33,547 : INFO : PROGRESS: at example #20000, processed 3635309 words (5104762/s), 46989 word types, 0 tags\n",
      "2021-12-01 14:38:33,561 : INFO : collected 47301 word types and 20555 unique tags from a corpus of 20555 examples and 3669554 words\n",
      "2021-12-01 14:38:33,562 : INFO : Creating a fresh vocabulary\n",
      "2021-12-01 14:38:33,721 : INFO : Doc2Vec lifecycle event {'msg': 'effective_min_count=2 retains 28681 unique words (60.63508171074607%% of original 47301, drops 18620)', 'datetime': '2021-12-01T14:38:33.721580', 'gensim': '4.1.2', 'python': '3.8.8 (default, Apr 13 2021, 12:59:45) \\n[Clang 10.0.0 ]', 'platform': 'macOS-10.16-x86_64-i386-64bit', 'event': 'prepare_vocab'}\n",
      "2021-12-01 14:38:33,722 : INFO : Doc2Vec lifecycle event {'msg': 'effective_min_count=2 leaves 3650934 word corpus (99.49258138727485%% of original 3669554, drops 18620)', 'datetime': '2021-12-01T14:38:33.722271', 'gensim': '4.1.2', 'python': '3.8.8 (default, Apr 13 2021, 12:59:45) \\n[Clang 10.0.0 ]', 'platform': 'macOS-10.16-x86_64-i386-64bit', 'event': 'prepare_vocab'}\n",
      "2021-12-01 14:38:33,887 : INFO : deleting the raw counts dictionary of 47301 items\n",
      "2021-12-01 14:38:33,888 : INFO : sample=0.001 downsamples 43 most-common words\n",
      "2021-12-01 14:38:33,888 : INFO : Doc2Vec lifecycle event {'msg': 'downsampling leaves estimated 3423983.626655663 word corpus (93.8%% of prior 3650934)', 'datetime': '2021-12-01T14:38:33.888840', 'gensim': '4.1.2', 'python': '3.8.8 (default, Apr 13 2021, 12:59:45) \\n[Clang 10.0.0 ]', 'platform': 'macOS-10.16-x86_64-i386-64bit', 'event': 'prepare_vocab'}\n",
      "2021-12-01 14:38:34,174 : INFO : estimated required memory for 28681 words and 50 dimensions: 34034900 bytes\n",
      "2021-12-01 14:38:34,174 : INFO : resetting layer weights\n",
      "2021-12-01 14:38:34,190 : INFO : Doc2Vec lifecycle event {'msg': 'training model with 3 workers on 28681 vocabulary and 50 features, using sg=0 hs=0 sample=0.001 negative=5 window=5 shrink_windows=True', 'datetime': '2021-12-01T14:38:34.190385', 'gensim': '4.1.2', 'python': '3.8.8 (default, Apr 13 2021, 12:59:45) \\n[Clang 10.0.0 ]', 'platform': 'macOS-10.16-x86_64-i386-64bit', 'event': 'train'}\n",
      "2021-12-01 14:38:35,207 : INFO : EPOCH 1 - PROGRESS: at 18.40% examples, 834769 words/s, in_qsize 5, out_qsize 0\n",
      "2021-12-01 14:38:36,215 : INFO : EPOCH 1 - PROGRESS: at 38.48% examples, 839780 words/s, in_qsize 5, out_qsize 0\n",
      "2021-12-01 14:38:37,223 : INFO : EPOCH 1 - PROGRESS: at 64.79% examples, 827415 words/s, in_qsize 6, out_qsize 0\n",
      "2021-12-01 14:38:38,203 : INFO : worker thread finished; awaiting finish of 2 more threads\n",
      "2021-12-01 14:38:38,219 : INFO : worker thread finished; awaiting finish of 1 more threads\n",
      "2021-12-01 14:38:38,238 : INFO : EPOCH 1 - PROGRESS: at 100.00% examples, 852818 words/s, in_qsize 0, out_qsize 1\n",
      "2021-12-01 14:38:38,238 : INFO : worker thread finished; awaiting finish of 0 more threads\n",
      "2021-12-01 14:38:38,239 : INFO : EPOCH - 1 : training on 3669554 raw words (3444534 effective words) took 4.0s, 852616 effective words/s\n",
      "2021-12-01 14:38:39,246 : INFO : EPOCH 2 - PROGRESS: at 21.88% examples, 986716 words/s, in_qsize 5, out_qsize 0\n",
      "2021-12-01 14:38:40,254 : INFO : EPOCH 2 - PROGRESS: at 47.13% examples, 984624 words/s, in_qsize 6, out_qsize 0\n",
      "2021-12-01 14:38:41,258 : INFO : EPOCH 2 - PROGRESS: at 78.32% examples, 956698 words/s, in_qsize 6, out_qsize 0\n",
      "2021-12-01 14:38:41,856 : INFO : worker thread finished; awaiting finish of 2 more threads\n",
      "2021-12-01 14:38:41,867 : INFO : worker thread finished; awaiting finish of 1 more threads\n",
      "2021-12-01 14:38:41,896 : INFO : worker thread finished; awaiting finish of 0 more threads\n",
      "2021-12-01 14:38:41,896 : INFO : EPOCH - 2 : training on 3669554 raw words (3444821 effective words) took 3.7s, 943042 effective words/s\n",
      "2021-12-01 14:38:42,908 : INFO : EPOCH 3 - PROGRESS: at 22.48% examples, 1009996 words/s, in_qsize 6, out_qsize 0\n",
      "2021-12-01 14:38:43,911 : INFO : EPOCH 3 - PROGRESS: at 48.46% examples, 1003872 words/s, in_qsize 6, out_qsize 0\n",
      "2021-12-01 14:38:44,922 : INFO : EPOCH 3 - PROGRESS: at 80.13% examples, 969913 words/s, in_qsize 5, out_qsize 0\n",
      "2021-12-01 14:38:45,479 : INFO : worker thread finished; awaiting finish of 2 more threads\n",
      "2021-12-01 14:38:45,491 : INFO : worker thread finished; awaiting finish of 1 more threads\n",
      "2021-12-01 14:38:45,506 : INFO : worker thread finished; awaiting finish of 0 more threads\n",
      "2021-12-01 14:38:45,507 : INFO : EPOCH - 3 : training on 3669554 raw words (3444398 effective words) took 3.6s, 955227 effective words/s\n",
      "2021-12-01 14:38:46,525 : INFO : EPOCH 4 - PROGRESS: at 22.48% examples, 1005530 words/s, in_qsize 5, out_qsize 0\n",
      "2021-12-01 14:38:47,528 : INFO : EPOCH 4 - PROGRESS: at 49.47% examples, 1015149 words/s, in_qsize 6, out_qsize 0\n",
      "2021-12-01 14:38:48,529 : INFO : EPOCH 4 - PROGRESS: at 82.24% examples, 989973 words/s, in_qsize 6, out_qsize 0\n",
      "2021-12-01 14:38:49,015 : INFO : worker thread finished; awaiting finish of 2 more threads\n",
      "2021-12-01 14:38:49,029 : INFO : worker thread finished; awaiting finish of 1 more threads\n",
      "2021-12-01 14:38:49,040 : INFO : worker thread finished; awaiting finish of 0 more threads\n",
      "2021-12-01 14:38:49,041 : INFO : EPOCH - 4 : training on 3669554 raw words (3444095 effective words) took 3.5s, 976076 effective words/s\n",
      "2021-12-01 14:38:50,054 : INFO : EPOCH 5 - PROGRESS: at 22.48% examples, 1011289 words/s, in_qsize 5, out_qsize 0\n",
      "2021-12-01 14:38:51,056 : INFO : EPOCH 5 - PROGRESS: at 49.13% examples, 1013923 words/s, in_qsize 5, out_qsize 0\n",
      "2021-12-01 14:38:52,067 : INFO : EPOCH 5 - PROGRESS: at 82.87% examples, 995242 words/s, in_qsize 6, out_qsize 0\n",
      "2021-12-01 14:38:52,535 : INFO : worker thread finished; awaiting finish of 2 more threads\n",
      "2021-12-01 14:38:52,546 : INFO : worker thread finished; awaiting finish of 1 more threads\n",
      "2021-12-01 14:38:52,556 : INFO : worker thread finished; awaiting finish of 0 more threads\n",
      "2021-12-01 14:38:52,557 : INFO : EPOCH - 5 : training on 3669554 raw words (3443973 effective words) took 3.5s, 981599 effective words/s\n",
      "2021-12-01 14:38:53,568 : INFO : EPOCH 6 - PROGRESS: at 21.46% examples, 965333 words/s, in_qsize 5, out_qsize 0\n",
      "2021-12-01 14:38:54,578 : INFO : EPOCH 6 - PROGRESS: at 48.14% examples, 996069 words/s, in_qsize 5, out_qsize 0\n",
      "2021-12-01 14:38:55,587 : INFO : EPOCH 6 - PROGRESS: at 80.50% examples, 971790 words/s, in_qsize 6, out_qsize 0\n",
      "2021-12-01 14:38:56,114 : INFO : worker thread finished; awaiting finish of 2 more threads\n",
      "2021-12-01 14:38:56,123 : INFO : worker thread finished; awaiting finish of 1 more threads\n",
      "2021-12-01 14:38:56,136 : INFO : worker thread finished; awaiting finish of 0 more threads\n",
      "2021-12-01 14:38:56,137 : INFO : EPOCH - 6 : training on 3669554 raw words (3444580 effective words) took 3.6s, 963473 effective words/s\n",
      "2021-12-01 14:38:57,147 : INFO : EPOCH 7 - PROGRESS: at 22.67% examples, 1019982 words/s, in_qsize 5, out_qsize 0\n",
      "2021-12-01 14:38:58,153 : INFO : EPOCH 7 - PROGRESS: at 49.79% examples, 1021010 words/s, in_qsize 6, out_qsize 0\n",
      "2021-12-01 14:38:59,158 : INFO : EPOCH 7 - PROGRESS: at 83.18% examples, 998334 words/s, in_qsize 6, out_qsize 0\n",
      "2021-12-01 14:38:59,612 : INFO : worker thread finished; awaiting finish of 2 more threads\n",
      "2021-12-01 14:38:59,628 : INFO : worker thread finished; awaiting finish of 1 more threads\n",
      "2021-12-01 14:38:59,647 : INFO : worker thread finished; awaiting finish of 0 more threads\n",
      "2021-12-01 14:38:59,648 : INFO : EPOCH - 7 : training on 3669554 raw words (3443635 effective words) took 3.5s, 981763 effective words/s\n",
      "2021-12-01 14:39:00,699 : INFO : EPOCH 8 - PROGRESS: at 21.67% examples, 976021 words/s, in_qsize 5, out_qsize 0\n"
     ]
    },
    {
     "name": "stderr",
     "output_type": "stream",
     "text": [
      "2021-12-01 14:39:01,701 : INFO : EPOCH 8 - PROGRESS: at 46.86% examples, 982116 words/s, in_qsize 5, out_qsize 0\n",
      "2021-12-01 14:39:02,706 : INFO : EPOCH 8 - PROGRESS: at 78.32% examples, 957541 words/s, in_qsize 6, out_qsize 0\n",
      "2021-12-01 14:39:03,313 : INFO : worker thread finished; awaiting finish of 2 more threads\n",
      "2021-12-01 14:39:03,320 : INFO : worker thread finished; awaiting finish of 1 more threads\n",
      "2021-12-01 14:39:03,332 : INFO : worker thread finished; awaiting finish of 0 more threads\n",
      "2021-12-01 14:39:03,333 : INFO : EPOCH - 8 : training on 3669554 raw words (3444468 effective words) took 3.6s, 946574 effective words/s\n",
      "2021-12-01 14:39:04,340 : INFO : EPOCH 9 - PROGRESS: at 20.10% examples, 915062 words/s, in_qsize 6, out_qsize 0\n",
      "2021-12-01 14:39:05,346 : INFO : EPOCH 9 - PROGRESS: at 44.39% examples, 944977 words/s, in_qsize 6, out_qsize 0\n",
      "2021-12-01 14:39:06,355 : INFO : EPOCH 9 - PROGRESS: at 76.03% examples, 931784 words/s, in_qsize 5, out_qsize 0\n",
      "2021-12-01 14:39:07,039 : INFO : worker thread finished; awaiting finish of 2 more threads\n",
      "2021-12-01 14:39:07,044 : INFO : worker thread finished; awaiting finish of 1 more threads\n",
      "2021-12-01 14:39:07,074 : INFO : worker thread finished; awaiting finish of 0 more threads\n",
      "2021-12-01 14:39:07,075 : INFO : EPOCH - 9 : training on 3669554 raw words (3443981 effective words) took 3.7s, 921898 effective words/s\n",
      "2021-12-01 14:39:08,120 : INFO : EPOCH 10 - PROGRESS: at 21.88% examples, 985068 words/s, in_qsize 5, out_qsize 0\n",
      "2021-12-01 14:39:09,125 : INFO : EPOCH 10 - PROGRESS: at 31.77% examples, 703672 words/s, in_qsize 5, out_qsize 0\n",
      "2021-12-01 14:39:10,132 : INFO : EPOCH 10 - PROGRESS: at 42.02% examples, 604020 words/s, in_qsize 5, out_qsize 0\n",
      "2021-12-01 14:39:11,166 : INFO : EPOCH 10 - PROGRESS: at 56.15% examples, 548557 words/s, in_qsize 6, out_qsize 0\n",
      "2021-12-01 14:39:12,174 : INFO : EPOCH 10 - PROGRESS: at 80.50% examples, 581010 words/s, in_qsize 6, out_qsize 0\n",
      "2021-12-01 14:39:12,936 : INFO : worker thread finished; awaiting finish of 2 more threads\n",
      "2021-12-01 14:39:12,949 : INFO : worker thread finished; awaiting finish of 1 more threads\n",
      "2021-12-01 14:39:12,970 : INFO : worker thread finished; awaiting finish of 0 more threads\n",
      "2021-12-01 14:39:12,971 : INFO : EPOCH - 10 : training on 3669554 raw words (3443876 effective words) took 5.9s, 588127 effective words/s\n",
      "2021-12-01 14:39:12,972 : INFO : Doc2Vec lifecycle event {'msg': 'training on 36695540 raw words (34442361 effective words) took 38.8s, 888140 effective words/s', 'datetime': '2021-12-01T14:39:12.972466', 'gensim': '4.1.2', 'python': '3.8.8 (default, Apr 13 2021, 12:59:45) \\n[Clang 10.0.0 ]', 'platform': 'macOS-10.16-x86_64-i386-64bit', 'event': 'train'}\n"
     ]
    }
   ],
   "source": [
    "sims2012 = doc2vec(df2012)"
   ]
  },
  {
   "cell_type": "code",
   "execution_count": 232,
   "id": "f64c7733",
   "metadata": {
    "scrolled": true
   },
   "outputs": [
    {
     "name": "stderr",
     "output_type": "stream",
     "text": [
      "2021-12-01 14:39:13,231 : INFO : Doc2Vec lifecycle event {'params': 'Doc2Vec(dm/m,d50,n5,w5,mc2,s0.001,t3)', 'datetime': '2021-12-01T14:39:13.231139', 'gensim': '4.1.2', 'python': '3.8.8 (default, Apr 13 2021, 12:59:45) \\n[Clang 10.0.0 ]', 'platform': 'macOS-10.16-x86_64-i386-64bit', 'event': 'created'}\n",
      "2021-12-01 14:39:13,231 : INFO : collecting all words and their counts\n",
      "2021-12-01 14:39:13,235 : INFO : PROGRESS: at example #0, processed 0 words (0/s), 0 word types, 0 tags\n",
      "2021-12-01 14:39:13,750 : INFO : collected 35558 word types and 7403 unique tags from a corpus of 7403 examples and 1447555 words\n",
      "2021-12-01 14:39:13,751 : INFO : Creating a fresh vocabulary\n",
      "2021-12-01 14:39:13,856 : INFO : Doc2Vec lifecycle event {'msg': 'effective_min_count=2 retains 21573 unique words (60.669891444963156%% of original 35558, drops 13985)', 'datetime': '2021-12-01T14:39:13.856454', 'gensim': '4.1.2', 'python': '3.8.8 (default, Apr 13 2021, 12:59:45) \\n[Clang 10.0.0 ]', 'platform': 'macOS-10.16-x86_64-i386-64bit', 'event': 'prepare_vocab'}\n",
      "2021-12-01 14:39:13,857 : INFO : Doc2Vec lifecycle event {'msg': 'effective_min_count=2 leaves 1433570 word corpus (99.03388817696046%% of original 1447555, drops 13985)', 'datetime': '2021-12-01T14:39:13.857220', 'gensim': '4.1.2', 'python': '3.8.8 (default, Apr 13 2021, 12:59:45) \\n[Clang 10.0.0 ]', 'platform': 'macOS-10.16-x86_64-i386-64bit', 'event': 'prepare_vocab'}\n",
      "2021-12-01 14:39:13,979 : INFO : deleting the raw counts dictionary of 35558 items\n",
      "2021-12-01 14:39:13,980 : INFO : sample=0.001 downsamples 40 most-common words\n",
      "2021-12-01 14:39:13,981 : INFO : Doc2Vec lifecycle event {'msg': 'downsampling leaves estimated 1349539.935911784 word corpus (94.1%% of prior 1433570)', 'datetime': '2021-12-01T14:39:13.981225', 'gensim': '4.1.2', 'python': '3.8.8 (default, Apr 13 2021, 12:59:45) \\n[Clang 10.0.0 ]', 'platform': 'macOS-10.16-x86_64-i386-64bit', 'event': 'prepare_vocab'}\n",
      "2021-12-01 14:39:14,192 : INFO : estimated required memory for 21573 words and 50 dimensions: 22376900 bytes\n",
      "2021-12-01 14:39:14,193 : INFO : resetting layer weights\n",
      "2021-12-01 14:39:14,200 : INFO : Doc2Vec lifecycle event {'msg': 'training model with 3 workers on 21573 vocabulary and 50 features, using sg=0 hs=0 sample=0.001 negative=5 window=5 shrink_windows=True', 'datetime': '2021-12-01T14:39:14.200401', 'gensim': '4.1.2', 'python': '3.8.8 (default, Apr 13 2021, 12:59:45) \\n[Clang 10.0.0 ]', 'platform': 'macOS-10.16-x86_64-i386-64bit', 'event': 'train'}\n",
      "2021-12-01 14:39:15,207 : INFO : EPOCH 1 - PROGRESS: at 61.12% examples, 1046529 words/s, in_qsize 6, out_qsize 0\n",
      "2021-12-01 14:39:15,559 : INFO : worker thread finished; awaiting finish of 2 more threads\n",
      "2021-12-01 14:39:15,570 : INFO : worker thread finished; awaiting finish of 1 more threads\n",
      "2021-12-01 14:39:15,575 : INFO : worker thread finished; awaiting finish of 0 more threads\n",
      "2021-12-01 14:39:15,575 : INFO : EPOCH - 1 : training on 1447555 raw words (1356652 effective words) took 1.4s, 988696 effective words/s\n",
      "2021-12-01 14:39:16,588 : INFO : EPOCH 2 - PROGRESS: at 63.83% examples, 1069533 words/s, in_qsize 5, out_qsize 0\n",
      "2021-12-01 14:39:16,919 : INFO : worker thread finished; awaiting finish of 2 more threads\n",
      "2021-12-01 14:39:16,923 : INFO : worker thread finished; awaiting finish of 1 more threads\n",
      "2021-12-01 14:39:16,927 : INFO : worker thread finished; awaiting finish of 0 more threads\n",
      "2021-12-01 14:39:16,928 : INFO : EPOCH - 2 : training on 1447555 raw words (1357134 effective words) took 1.3s, 1006576 effective words/s\n",
      "2021-12-01 14:39:17,940 : INFO : EPOCH 3 - PROGRESS: at 62.03% examples, 1051621 words/s, in_qsize 6, out_qsize 1\n",
      "2021-12-01 14:39:18,278 : INFO : worker thread finished; awaiting finish of 2 more threads\n",
      "2021-12-01 14:39:18,297 : INFO : worker thread finished; awaiting finish of 1 more threads\n",
      "2021-12-01 14:39:18,298 : INFO : worker thread finished; awaiting finish of 0 more threads\n",
      "2021-12-01 14:39:18,300 : INFO : EPOCH - 3 : training on 1447555 raw words (1357036 effective words) took 1.4s, 992141 effective words/s\n",
      "2021-12-01 14:39:19,311 : INFO : EPOCH 4 - PROGRESS: at 62.03% examples, 1051694 words/s, in_qsize 6, out_qsize 0\n",
      "2021-12-01 14:39:19,663 : INFO : worker thread finished; awaiting finish of 2 more threads\n",
      "2021-12-01 14:39:19,695 : INFO : worker thread finished; awaiting finish of 1 more threads\n",
      "2021-12-01 14:39:19,705 : INFO : worker thread finished; awaiting finish of 0 more threads\n",
      "2021-12-01 14:39:19,706 : INFO : EPOCH - 4 : training on 1447555 raw words (1356628 effective words) took 1.4s, 967456 effective words/s\n",
      "2021-12-01 14:39:20,729 : INFO : EPOCH 5 - PROGRESS: at 59.26% examples, 1011339 words/s, in_qsize 5, out_qsize 0\n",
      "2021-12-01 14:39:21,105 : INFO : worker thread finished; awaiting finish of 2 more threads\n",
      "2021-12-01 14:39:21,121 : INFO : worker thread finished; awaiting finish of 1 more threads\n",
      "2021-12-01 14:39:21,123 : INFO : worker thread finished; awaiting finish of 0 more threads\n",
      "2021-12-01 14:39:21,123 : INFO : EPOCH - 5 : training on 1447555 raw words (1357225 effective words) took 1.4s, 959584 effective words/s\n",
      "2021-12-01 14:39:22,135 : INFO : EPOCH 6 - PROGRESS: at 55.09% examples, 986770 words/s, in_qsize 6, out_qsize 0\n",
      "2021-12-01 14:39:22,566 : INFO : worker thread finished; awaiting finish of 2 more threads\n",
      "2021-12-01 14:39:22,587 : INFO : worker thread finished; awaiting finish of 1 more threads\n",
      "2021-12-01 14:39:22,589 : INFO : worker thread finished; awaiting finish of 0 more threads\n",
      "2021-12-01 14:39:22,590 : INFO : EPOCH - 6 : training on 1447555 raw words (1356922 effective words) took 1.5s, 927479 effective words/s\n",
      "2021-12-01 14:39:23,598 : INFO : EPOCH 7 - PROGRESS: at 59.26% examples, 1027123 words/s, in_qsize 5, out_qsize 0\n",
      "2021-12-01 14:39:23,986 : INFO : worker thread finished; awaiting finish of 2 more threads\n",
      "2021-12-01 14:39:23,993 : INFO : worker thread finished; awaiting finish of 1 more threads\n",
      "2021-12-01 14:39:23,997 : INFO : worker thread finished; awaiting finish of 0 more threads\n",
      "2021-12-01 14:39:23,997 : INFO : EPOCH - 7 : training on 1447555 raw words (1356921 effective words) took 1.4s, 966413 effective words/s\n",
      "2021-12-01 14:39:25,006 : INFO : EPOCH 8 - PROGRESS: at 61.12% examples, 1044055 words/s, in_qsize 5, out_qsize 0\n",
      "2021-12-01 14:39:25,369 : INFO : worker thread finished; awaiting finish of 2 more threads\n",
      "2021-12-01 14:39:25,370 : INFO : worker thread finished; awaiting finish of 1 more threads\n",
      "2021-12-01 14:39:25,376 : INFO : worker thread finished; awaiting finish of 0 more threads\n",
      "2021-12-01 14:39:25,377 : INFO : EPOCH - 8 : training on 1447555 raw words (1356997 effective words) took 1.4s, 985360 effective words/s\n",
      "2021-12-01 14:39:26,385 : INFO : EPOCH 9 - PROGRESS: at 59.26% examples, 1025386 words/s, in_qsize 6, out_qsize 0\n",
      "2021-12-01 14:39:26,762 : INFO : worker thread finished; awaiting finish of 2 more threads\n",
      "2021-12-01 14:39:26,771 : INFO : worker thread finished; awaiting finish of 1 more threads\n",
      "2021-12-01 14:39:26,777 : INFO : worker thread finished; awaiting finish of 0 more threads\n",
      "2021-12-01 14:39:26,778 : INFO : EPOCH - 9 : training on 1447555 raw words (1356774 effective words) took 1.4s, 970175 effective words/s\n",
      "2021-12-01 14:39:27,782 : INFO : EPOCH 10 - PROGRESS: at 60.35% examples, 1039041 words/s, in_qsize 6, out_qsize 0\n",
      "2021-12-01 14:39:28,158 : INFO : worker thread finished; awaiting finish of 2 more threads\n",
      "2021-12-01 14:39:28,167 : INFO : worker thread finished; awaiting finish of 1 more threads\n",
      "2021-12-01 14:39:28,172 : INFO : worker thread finished; awaiting finish of 0 more threads\n",
      "2021-12-01 14:39:28,173 : INFO : EPOCH - 10 : training on 1447555 raw words (1356851 effective words) took 1.4s, 974270 effective words/s\n",
      "2021-12-01 14:39:28,174 : INFO : Doc2Vec lifecycle event {'msg': 'training on 14475550 raw words (13569140 effective words) took 14.0s, 971128 effective words/s', 'datetime': '2021-12-01T14:39:28.174149', 'gensim': '4.1.2', 'python': '3.8.8 (default, Apr 13 2021, 12:59:45) \\n[Clang 10.0.0 ]', 'platform': 'macOS-10.16-x86_64-i386-64bit', 'event': 'train'}\n"
     ]
    }
   ],
   "source": [
    "sims2017 = doc2vec(df2017)"
   ]
  },
  {
   "cell_type": "code",
   "execution_count": 243,
   "id": "fa3f0801",
   "metadata": {},
   "outputs": [],
   "source": [
    "sims = pd.concat([sims2002,sims2007,sims2012,sims2017])"
   ]
  },
  {
   "cell_type": "code",
   "execution_count": 244,
   "id": "03ef39d1",
   "metadata": {},
   "outputs": [],
   "source": [
    "sims.fichier = sims.fichier.replace({1:2002,2:2007,3:2012,4:2017})"
   ]
  },
  {
   "cell_type": "code",
   "execution_count": 249,
   "id": "971ee617",
   "metadata": {},
   "outputs": [
    {
     "data": {
      "application/vnd.plotly.v1+json": {
       "config": {
        "plotlyServerURL": "https://plot.ly"
       },
       "data": [
        {
         "hovertemplate": "Party=EELV<br>Journal=Le Figaro<br>manifesto=2002<br>year=%{x}<br>Cosine Similarity=%{y}<extra></extra>",
         "legendgroup": "EELV",
         "line": {
          "color": "green",
          "dash": "solid"
         },
         "marker": {
          "symbol": "circle"
         },
         "mode": "lines",
         "name": "EELV",
         "orientation": "v",
         "showlegend": true,
         "type": "scatter",
         "x": [
          2001,
          2002,
          2003,
          2004,
          2005,
          2006
         ],
         "xaxis": "x5",
         "y": [
          0.14705948531627655,
          0.15552285313606262,
          0.18578408658504486,
          0.15051573514938354,
          0.15770937502384186,
          0.15508243441581726
         ],
         "yaxis": "y5"
        },
        {
         "hovertemplate": "Party=EELV<br>Journal=Le Figaro<br>manifesto=2007<br>year=%{x}<br>Cosine Similarity=%{y}<extra></extra>",
         "legendgroup": "EELV",
         "line": {
          "color": "green",
          "dash": "solid"
         },
         "marker": {
          "symbol": "circle"
         },
         "mode": "lines",
         "name": "EELV",
         "orientation": "v",
         "showlegend": false,
         "type": "scatter",
         "x": [
          2006,
          2007,
          2008,
          2009,
          2010,
          2011
         ],
         "xaxis": "x6",
         "y": [
          0.13489674031734467,
          0.1130288690328598,
          0.12472628802061081,
          0.12805022299289703,
          0.11821795254945755,
          0.09594523906707764
         ],
         "yaxis": "y6"
        },
        {
         "hovertemplate": "Party=EELV<br>Journal=Le Figaro<br>manifesto=2012<br>year=%{x}<br>Cosine Similarity=%{y}<extra></extra>",
         "legendgroup": "EELV",
         "line": {
          "color": "green",
          "dash": "solid"
         },
         "marker": {
          "symbol": "circle"
         },
         "mode": "lines",
         "name": "EELV",
         "orientation": "v",
         "showlegend": false,
         "type": "scatter",
         "x": [
          2011,
          2012,
          2013,
          2014,
          2015,
          2016
         ],
         "xaxis": "x7",
         "y": [
          0.10085219144821167,
          0.10320702195167542,
          0.14219820499420166,
          0.12444553524255753,
          0.12697747349739075,
          0.11452146619558334
         ],
         "yaxis": "y7"
        },
        {
         "hovertemplate": "Party=EELV<br>Journal=Le Figaro<br>manifesto=2017<br>year=%{x}<br>Cosine Similarity=%{y}<extra></extra>",
         "legendgroup": "EELV",
         "line": {
          "color": "green",
          "dash": "solid"
         },
         "marker": {
          "symbol": "circle"
         },
         "mode": "lines",
         "name": "EELV",
         "orientation": "v",
         "showlegend": false,
         "type": "scatter",
         "x": [
          2016,
          2017,
          2018
         ],
         "xaxis": "x8",
         "y": [
          0.1754915714263916,
          0.1622941493988037,
          0.2178737074136734
         ],
         "yaxis": "y8"
        },
        {
         "hovertemplate": "Party=EELV<br>Journal=Le Monde<br>manifesto=2002<br>year=%{x}<br>Cosine Similarity=%{y}<extra></extra>",
         "legendgroup": "EELV",
         "line": {
          "color": "green",
          "dash": "solid"
         },
         "marker": {
          "symbol": "circle"
         },
         "mode": "lines",
         "name": "EELV",
         "orientation": "v",
         "showlegend": false,
         "type": "scatter",
         "x": [
          2001,
          2002,
          2003,
          2004,
          2005,
          2006
         ],
         "xaxis": "x",
         "y": [
          0.20014317333698273,
          0.16680903732776642,
          0.19532480835914612,
          0.18212303519248962,
          0.18203970789909363,
          0.15450771152973175
         ],
         "yaxis": "y"
        },
        {
         "hovertemplate": "Party=EELV<br>Journal=Le Monde<br>manifesto=2007<br>year=%{x}<br>Cosine Similarity=%{y}<extra></extra>",
         "legendgroup": "EELV",
         "line": {
          "color": "green",
          "dash": "solid"
         },
         "marker": {
          "symbol": "circle"
         },
         "mode": "lines",
         "name": "EELV",
         "orientation": "v",
         "showlegend": false,
         "type": "scatter",
         "x": [
          2006,
          2007,
          2008,
          2009,
          2010,
          2011
         ],
         "xaxis": "x2",
         "y": [
          0.146428644657135,
          0.14447538554668427,
          0.15366612374782562,
          0.15094049274921417,
          0.12754103541374207,
          0.11046259105205536
         ],
         "yaxis": "y2"
        },
        {
         "hovertemplate": "Party=EELV<br>Journal=Le Monde<br>manifesto=2012<br>year=%{x}<br>Cosine Similarity=%{y}<extra></extra>",
         "legendgroup": "EELV",
         "line": {
          "color": "green",
          "dash": "solid"
         },
         "marker": {
          "symbol": "circle"
         },
         "mode": "lines",
         "name": "EELV",
         "orientation": "v",
         "showlegend": false,
         "type": "scatter",
         "x": [
          2011,
          2012,
          2013,
          2014,
          2015,
          2016
         ],
         "xaxis": "x3",
         "y": [
          0.1283058077096939,
          0.1195409968495369,
          0.1612863391637802,
          0.12889470160007477,
          0.12370569258928299,
          0.10638123750686646
         ],
         "yaxis": "y3"
        },
        {
         "hovertemplate": "Party=EELV<br>Journal=Le Monde<br>manifesto=2017<br>year=%{x}<br>Cosine Similarity=%{y}<extra></extra>",
         "legendgroup": "EELV",
         "line": {
          "color": "green",
          "dash": "solid"
         },
         "marker": {
          "symbol": "circle"
         },
         "mode": "lines",
         "name": "EELV",
         "orientation": "v",
         "showlegend": false,
         "type": "scatter",
         "x": [
          2016,
          2017,
          2018
         ],
         "xaxis": "x4",
         "y": [
          0.18575674295425415,
          0.18178018927574158,
          0.20116975903511047
         ],
         "yaxis": "y4"
        },
        {
         "hovertemplate": "Party=PS<br>Journal=Le Figaro<br>manifesto=2002<br>year=%{x}<br>Cosine Similarity=%{y}<extra></extra>",
         "legendgroup": "PS",
         "line": {
          "color": "pink",
          "dash": "solid"
         },
         "marker": {
          "symbol": "circle"
         },
         "mode": "lines",
         "name": "PS",
         "orientation": "v",
         "showlegend": true,
         "type": "scatter",
         "x": [
          2001,
          2002,
          2003,
          2004,
          2005,
          2006
         ],
         "xaxis": "x5",
         "y": [
          0.12490688264369965,
          0.14887559413909912,
          0.16159242391586304,
          0.1323613077402115,
          0.133529931306839,
          0.14934042096138
         ],
         "yaxis": "y5"
        },
        {
         "hovertemplate": "Party=PS<br>Journal=Le Figaro<br>manifesto=2007<br>year=%{x}<br>Cosine Similarity=%{y}<extra></extra>",
         "legendgroup": "PS",
         "line": {
          "color": "pink",
          "dash": "solid"
         },
         "marker": {
          "symbol": "circle"
         },
         "mode": "lines",
         "name": "PS",
         "orientation": "v",
         "showlegend": false,
         "type": "scatter",
         "x": [
          2006,
          2007,
          2008,
          2009,
          2010,
          2011
         ],
         "xaxis": "x6",
         "y": [
          0.13543199002742767,
          0.1113913282752037,
          0.1250491738319397,
          0.13000410795211792,
          0.11998514831066132,
          0.09512041509151459
         ],
         "yaxis": "y6"
        },
        {
         "hovertemplate": "Party=PS<br>Journal=Le Figaro<br>manifesto=2012<br>year=%{x}<br>Cosine Similarity=%{y}<extra></extra>",
         "legendgroup": "PS",
         "line": {
          "color": "pink",
          "dash": "solid"
         },
         "marker": {
          "symbol": "circle"
         },
         "mode": "lines",
         "name": "PS",
         "orientation": "v",
         "showlegend": false,
         "type": "scatter",
         "x": [
          2011,
          2012,
          2013,
          2014,
          2015,
          2016
         ],
         "xaxis": "x7",
         "y": [
          0.12281660735607147,
          0.12840399146080017,
          0.16338349878787994,
          0.14671306312084198,
          0.14411523938179016,
          0.1565638780593872
         ],
         "yaxis": "y7"
        },
        {
         "hovertemplate": "Party=PS<br>Journal=Le Figaro<br>manifesto=2017<br>year=%{x}<br>Cosine Similarity=%{y}<extra></extra>",
         "legendgroup": "PS",
         "line": {
          "color": "pink",
          "dash": "solid"
         },
         "marker": {
          "symbol": "circle"
         },
         "mode": "lines",
         "name": "PS",
         "orientation": "v",
         "showlegend": false,
         "type": "scatter",
         "x": [
          2016,
          2017,
          2018
         ],
         "xaxis": "x8",
         "y": [
          0.2430032342672348,
          0.23655889928340912,
          0.28062117099761963
         ],
         "yaxis": "y8"
        },
        {
         "hovertemplate": "Party=PS<br>Journal=Le Monde<br>manifesto=2002<br>year=%{x}<br>Cosine Similarity=%{y}<extra></extra>",
         "legendgroup": "PS",
         "line": {
          "color": "pink",
          "dash": "solid"
         },
         "marker": {
          "symbol": "circle"
         },
         "mode": "lines",
         "name": "PS",
         "orientation": "v",
         "showlegend": false,
         "type": "scatter",
         "x": [
          2001,
          2002,
          2003,
          2004,
          2005,
          2006
         ],
         "xaxis": "x",
         "y": [
          0.16625003516674042,
          0.1530979722738266,
          0.16750985383987427,
          0.15569934248924255,
          0.1587732881307602,
          0.14959688484668732
         ],
         "yaxis": "y"
        },
        {
         "hovertemplate": "Party=PS<br>Journal=Le Monde<br>manifesto=2007<br>year=%{x}<br>Cosine Similarity=%{y}<extra></extra>",
         "legendgroup": "PS",
         "line": {
          "color": "pink",
          "dash": "solid"
         },
         "marker": {
          "symbol": "circle"
         },
         "mode": "lines",
         "name": "PS",
         "orientation": "v",
         "showlegend": false,
         "type": "scatter",
         "x": [
          2006,
          2007,
          2008,
          2009,
          2010,
          2011
         ],
         "xaxis": "x2",
         "y": [
          0.1430804431438446,
          0.13862617313861847,
          0.15016117691993713,
          0.14367642998695374,
          0.12736138701438904,
          0.10373252630233765
         ],
         "yaxis": "y2"
        },
        {
         "hovertemplate": "Party=PS<br>Journal=Le Monde<br>manifesto=2012<br>year=%{x}<br>Cosine Similarity=%{y}<extra></extra>",
         "legendgroup": "PS",
         "line": {
          "color": "pink",
          "dash": "solid"
         },
         "marker": {
          "symbol": "circle"
         },
         "mode": "lines",
         "name": "PS",
         "orientation": "v",
         "showlegend": false,
         "type": "scatter",
         "x": [
          2011,
          2012,
          2013,
          2014,
          2015,
          2016
         ],
         "xaxis": "x3",
         "y": [
          0.14983271062374115,
          0.14133703708648682,
          0.17363546788692474,
          0.15097816288471222,
          0.1354498714208603,
          0.1391754001379013
         ],
         "yaxis": "y3"
        },
        {
         "hovertemplate": "Party=PS<br>Journal=Le Monde<br>manifesto=2017<br>year=%{x}<br>Cosine Similarity=%{y}<extra></extra>",
         "legendgroup": "PS",
         "line": {
          "color": "pink",
          "dash": "solid"
         },
         "marker": {
          "symbol": "circle"
         },
         "mode": "lines",
         "name": "PS",
         "orientation": "v",
         "showlegend": false,
         "type": "scatter",
         "x": [
          2016,
          2017,
          2018
         ],
         "xaxis": "x4",
         "y": [
          0.24161173403263092,
          0.2500627040863037,
          0.2769784927368164
         ],
         "yaxis": "y4"
        },
        {
         "hovertemplate": "Party=MoDem/EM<br>Journal=Le Figaro<br>manifesto=2002<br>year=%{x}<br>Cosine Similarity=%{y}<extra></extra>",
         "legendgroup": "MoDem/EM",
         "line": {
          "color": "orange",
          "dash": "solid"
         },
         "marker": {
          "symbol": "circle"
         },
         "mode": "lines",
         "name": "MoDem/EM",
         "orientation": "v",
         "showlegend": true,
         "type": "scatter",
         "x": [
          2001,
          2002,
          2003,
          2004,
          2005,
          2006
         ],
         "xaxis": "x5",
         "y": [
          0.10824791342020035,
          0.11575676500797272,
          0.15681014955043793,
          0.12187957763671875,
          0.12229990214109421,
          0.1178530752658844
         ],
         "yaxis": "y5"
        },
        {
         "hovertemplate": "Party=MoDem/EM<br>Journal=Le Figaro<br>manifesto=2007<br>year=%{x}<br>Cosine Similarity=%{y}<extra></extra>",
         "legendgroup": "MoDem/EM",
         "line": {
          "color": "orange",
          "dash": "solid"
         },
         "marker": {
          "symbol": "circle"
         },
         "mode": "lines",
         "name": "MoDem/EM",
         "orientation": "v",
         "showlegend": false,
         "type": "scatter",
         "x": [
          2006,
          2007,
          2008,
          2009,
          2010,
          2011
         ],
         "xaxis": "x6",
         "y": [
          0.13295511901378632,
          0.11620617657899857,
          0.11897333711385727,
          0.1294141709804535,
          0.12387853115797043,
          0.10596540570259094
         ],
         "yaxis": "y6"
        },
        {
         "hovertemplate": "Party=MoDem/EM<br>Journal=Le Figaro<br>manifesto=2012<br>year=%{x}<br>Cosine Similarity=%{y}<extra></extra>",
         "legendgroup": "MoDem/EM",
         "line": {
          "color": "orange",
          "dash": "solid"
         },
         "marker": {
          "symbol": "circle"
         },
         "mode": "lines",
         "name": "MoDem/EM",
         "orientation": "v",
         "showlegend": false,
         "type": "scatter",
         "x": [
          2011,
          2012,
          2013,
          2014,
          2015,
          2016
         ],
         "xaxis": "x7",
         "y": [
          0.10121007263660431,
          0.10863915085792542,
          0.1381881684064865,
          0.1275230199098587,
          0.11682172119617462,
          0.13039234280586243
         ],
         "yaxis": "y7"
        },
        {
         "hovertemplate": "Party=MoDem/EM<br>Journal=Le Figaro<br>manifesto=2017<br>year=%{x}<br>Cosine Similarity=%{y}<extra></extra>",
         "legendgroup": "MoDem/EM",
         "line": {
          "color": "orange",
          "dash": "solid"
         },
         "marker": {
          "symbol": "circle"
         },
         "mode": "lines",
         "name": "MoDem/EM",
         "orientation": "v",
         "showlegend": false,
         "type": "scatter",
         "x": [
          2016,
          2017,
          2018
         ],
         "xaxis": "x8",
         "y": [
          0.17924413084983826,
          0.162846639752388,
          0.20878049731254578
         ],
         "yaxis": "y8"
        },
        {
         "hovertemplate": "Party=MoDem/EM<br>Journal=Le Monde<br>manifesto=2002<br>year=%{x}<br>Cosine Similarity=%{y}<extra></extra>",
         "legendgroup": "MoDem/EM",
         "line": {
          "color": "orange",
          "dash": "solid"
         },
         "marker": {
          "symbol": "circle"
         },
         "mode": "lines",
         "name": "MoDem/EM",
         "orientation": "v",
         "showlegend": false,
         "type": "scatter",
         "x": [
          2001,
          2002,
          2003,
          2004,
          2005,
          2006
         ],
         "xaxis": "x",
         "y": [
          0.17891275882720947,
          0.12784402072429657,
          0.1684676855802536,
          0.15428069233894348,
          0.1524457484483719,
          0.12402250617742538
         ],
         "yaxis": "y"
        },
        {
         "hovertemplate": "Party=MoDem/EM<br>Journal=Le Monde<br>manifesto=2007<br>year=%{x}<br>Cosine Similarity=%{y}<extra></extra>",
         "legendgroup": "MoDem/EM",
         "line": {
          "color": "orange",
          "dash": "solid"
         },
         "marker": {
          "symbol": "circle"
         },
         "mode": "lines",
         "name": "MoDem/EM",
         "orientation": "v",
         "showlegend": false,
         "type": "scatter",
         "x": [
          2006,
          2007,
          2008,
          2009,
          2010,
          2011
         ],
         "xaxis": "x2",
         "y": [
          0.14595262706279755,
          0.14772869646549225,
          0.1560354381799698,
          0.15916934609413147,
          0.13861797749996185,
          0.11812607944011688
         ],
         "yaxis": "y2"
        },
        {
         "hovertemplate": "Party=MoDem/EM<br>Journal=Le Monde<br>manifesto=2012<br>year=%{x}<br>Cosine Similarity=%{y}<extra></extra>",
         "legendgroup": "MoDem/EM",
         "line": {
          "color": "orange",
          "dash": "solid"
         },
         "marker": {
          "symbol": "circle"
         },
         "mode": "lines",
         "name": "MoDem/EM",
         "orientation": "v",
         "showlegend": false,
         "type": "scatter",
         "x": [
          2011,
          2012,
          2013,
          2014,
          2015,
          2016
         ],
         "xaxis": "x3",
         "y": [
          0.1307830959558487,
          0.12495820969343185,
          0.15416404604911804,
          0.13386757671833038,
          0.11461422592401505,
          0.12136328220367432
         ],
         "yaxis": "y3"
        },
        {
         "hovertemplate": "Party=MoDem/EM<br>Journal=Le Monde<br>manifesto=2017<br>year=%{x}<br>Cosine Similarity=%{y}<extra></extra>",
         "legendgroup": "MoDem/EM",
         "line": {
          "color": "orange",
          "dash": "solid"
         },
         "marker": {
          "symbol": "circle"
         },
         "mode": "lines",
         "name": "MoDem/EM",
         "orientation": "v",
         "showlegend": false,
         "type": "scatter",
         "x": [
          2016,
          2017,
          2018
         ],
         "xaxis": "x4",
         "y": [
          0.19314347207546234,
          0.1918659657239914,
          0.2012011706829071
         ],
         "yaxis": "y4"
        },
        {
         "hovertemplate": "Party=RPR/UMP/LR<br>Journal=Le Figaro<br>manifesto=2002<br>year=%{x}<br>Cosine Similarity=%{y}<extra></extra>",
         "legendgroup": "RPR/UMP/LR",
         "line": {
          "color": "blue",
          "dash": "solid"
         },
         "marker": {
          "symbol": "circle"
         },
         "mode": "lines",
         "name": "RPR/UMP/LR",
         "orientation": "v",
         "showlegend": true,
         "type": "scatter",
         "x": [
          2001,
          2002,
          2003,
          2004,
          2005,
          2006
         ],
         "xaxis": "x5",
         "y": [
          0.16281351447105408,
          0.1744745820760727,
          0.1951708048582077,
          0.16684049367904663,
          0.17259280383586884,
          0.17608125507831573
         ],
         "yaxis": "y5"
        },
        {
         "hovertemplate": "Party=RPR/UMP/LR<br>Journal=Le Figaro<br>manifesto=2007<br>year=%{x}<br>Cosine Similarity=%{y}<extra></extra>",
         "legendgroup": "RPR/UMP/LR",
         "line": {
          "color": "blue",
          "dash": "solid"
         },
         "marker": {
          "symbol": "circle"
         },
         "mode": "lines",
         "name": "RPR/UMP/LR",
         "orientation": "v",
         "showlegend": false,
         "type": "scatter",
         "x": [
          2006,
          2007,
          2008,
          2009,
          2010,
          2011
         ],
         "xaxis": "x6",
         "y": [
          0.14534269273281097,
          0.13001683354377747,
          0.13073503971099854,
          0.1427851766347885,
          0.1399088352918625,
          0.12444230914115906
         ],
         "yaxis": "y6"
        },
        {
         "hovertemplate": "Party=RPR/UMP/LR<br>Journal=Le Figaro<br>manifesto=2012<br>year=%{x}<br>Cosine Similarity=%{y}<extra></extra>",
         "legendgroup": "RPR/UMP/LR",
         "line": {
          "color": "blue",
          "dash": "solid"
         },
         "marker": {
          "symbol": "circle"
         },
         "mode": "lines",
         "name": "RPR/UMP/LR",
         "orientation": "v",
         "showlegend": false,
         "type": "scatter",
         "x": [
          2011,
          2012,
          2013,
          2014,
          2015,
          2016
         ],
         "xaxis": "x7",
         "y": [
          0.1211535707116127,
          0.1192050352692604,
          0.14673516154289246,
          0.13440081477165222,
          0.13167248666286469,
          0.15451155602931976
         ],
         "yaxis": "y7"
        },
        {
         "hovertemplate": "Party=RPR/UMP/LR<br>Journal=Le Figaro<br>manifesto=2017<br>year=%{x}<br>Cosine Similarity=%{y}<extra></extra>",
         "legendgroup": "RPR/UMP/LR",
         "line": {
          "color": "blue",
          "dash": "solid"
         },
         "marker": {
          "symbol": "circle"
         },
         "mode": "lines",
         "name": "RPR/UMP/LR",
         "orientation": "v",
         "showlegend": false,
         "type": "scatter",
         "x": [
          2016,
          2017,
          2018
         ],
         "xaxis": "x8",
         "y": [
          0.19968627393245697,
          0.1872096061706543,
          0.22462153434753418
         ],
         "yaxis": "y8"
        },
        {
         "hovertemplate": "Party=RPR/UMP/LR<br>Journal=Le Monde<br>manifesto=2002<br>year=%{x}<br>Cosine Similarity=%{y}<extra></extra>",
         "legendgroup": "RPR/UMP/LR",
         "line": {
          "color": "blue",
          "dash": "solid"
         },
         "marker": {
          "symbol": "circle"
         },
         "mode": "lines",
         "name": "RPR/UMP/LR",
         "orientation": "v",
         "showlegend": false,
         "type": "scatter",
         "x": [
          2001,
          2002,
          2003,
          2004,
          2005,
          2006
         ],
         "xaxis": "x",
         "y": [
          0.2263951450586319,
          0.18478359282016754,
          0.21706917881965637,
          0.2019742876291275,
          0.19825947284698486,
          0.1732478141784668
         ],
         "yaxis": "y"
        },
        {
         "hovertemplate": "Party=RPR/UMP/LR<br>Journal=Le Monde<br>manifesto=2007<br>year=%{x}<br>Cosine Similarity=%{y}<extra></extra>",
         "legendgroup": "RPR/UMP/LR",
         "line": {
          "color": "blue",
          "dash": "solid"
         },
         "marker": {
          "symbol": "circle"
         },
         "mode": "lines",
         "name": "RPR/UMP/LR",
         "orientation": "v",
         "showlegend": false,
         "type": "scatter",
         "x": [
          2006,
          2007,
          2008,
          2009,
          2010,
          2011
         ],
         "xaxis": "x2",
         "y": [
          0.15759341418743134,
          0.16205008327960968,
          0.16015149652957916,
          0.1588975042104721,
          0.15413278341293335,
          0.13008832931518555
         ],
         "yaxis": "y2"
        },
        {
         "hovertemplate": "Party=RPR/UMP/LR<br>Journal=Le Monde<br>manifesto=2012<br>year=%{x}<br>Cosine Similarity=%{y}<extra></extra>",
         "legendgroup": "RPR/UMP/LR",
         "line": {
          "color": "blue",
          "dash": "solid"
         },
         "marker": {
          "symbol": "circle"
         },
         "mode": "lines",
         "name": "RPR/UMP/LR",
         "orientation": "v",
         "showlegend": false,
         "type": "scatter",
         "x": [
          2011,
          2012,
          2013,
          2014,
          2015,
          2016
         ],
         "xaxis": "x3",
         "y": [
          0.14730596542358398,
          0.13371782004833221,
          0.1517898291349411,
          0.13950134813785553,
          0.1298644095659256,
          0.14388294517993927
         ],
         "yaxis": "y3"
        },
        {
         "hovertemplate": "Party=RPR/UMP/LR<br>Journal=Le Monde<br>manifesto=2017<br>year=%{x}<br>Cosine Similarity=%{y}<extra></extra>",
         "legendgroup": "RPR/UMP/LR",
         "line": {
          "color": "blue",
          "dash": "solid"
         },
         "marker": {
          "symbol": "circle"
         },
         "mode": "lines",
         "name": "RPR/UMP/LR",
         "orientation": "v",
         "showlegend": false,
         "type": "scatter",
         "x": [
          2016,
          2017,
          2018
         ],
         "xaxis": "x4",
         "y": [
          0.21160908043384552,
          0.20229312777519226,
          0.21686170995235443
         ],
         "yaxis": "y4"
        },
        {
         "hovertemplate": "Party=FN<br>Journal=Le Figaro<br>manifesto=2002<br>year=%{x}<br>Cosine Similarity=%{y}<extra></extra>",
         "legendgroup": "FN",
         "line": {
          "color": "darkslateblue",
          "dash": "solid"
         },
         "marker": {
          "symbol": "circle"
         },
         "mode": "lines",
         "name": "FN",
         "orientation": "v",
         "showlegend": true,
         "type": "scatter",
         "x": [
          2001,
          2002,
          2003,
          2004,
          2005,
          2006
         ],
         "xaxis": "x5",
         "y": [
          0.10982715338468552,
          0.10397839546203613,
          0.13450320065021515,
          0.11737080663442612,
          0.11558076739311218,
          0.10933458805084229
         ],
         "yaxis": "y5"
        },
        {
         "hovertemplate": "Party=FN<br>Journal=Le Figaro<br>manifesto=2007<br>year=%{x}<br>Cosine Similarity=%{y}<extra></extra>",
         "legendgroup": "FN",
         "line": {
          "color": "darkslateblue",
          "dash": "solid"
         },
         "marker": {
          "symbol": "circle"
         },
         "mode": "lines",
         "name": "FN",
         "orientation": "v",
         "showlegend": false,
         "type": "scatter",
         "x": [
          2006,
          2007,
          2008,
          2009,
          2010,
          2011
         ],
         "xaxis": "x6",
         "y": [
          0.1205601692199707,
          0.11104895174503326,
          0.11491722613573074,
          0.12208409607410431,
          0.1121213287115097,
          0.10151152312755585
         ],
         "yaxis": "y6"
        },
        {
         "hovertemplate": "Party=FN<br>Journal=Le Figaro<br>manifesto=2012<br>year=%{x}<br>Cosine Similarity=%{y}<extra></extra>",
         "legendgroup": "FN",
         "line": {
          "color": "darkslateblue",
          "dash": "solid"
         },
         "marker": {
          "symbol": "circle"
         },
         "mode": "lines",
         "name": "FN",
         "orientation": "v",
         "showlegend": false,
         "type": "scatter",
         "x": [
          2011,
          2012,
          2013,
          2014,
          2015,
          2016
         ],
         "xaxis": "x7",
         "y": [
          0.12167440354824066,
          0.12266626209020615,
          0.16004768013954163,
          0.14352738857269287,
          0.1522883027791977,
          0.15800827741622925
         ],
         "yaxis": "y7"
        },
        {
         "hovertemplate": "Party=FN<br>Journal=Le Figaro<br>manifesto=2017<br>year=%{x}<br>Cosine Similarity=%{y}<extra></extra>",
         "legendgroup": "FN",
         "line": {
          "color": "darkslateblue",
          "dash": "solid"
         },
         "marker": {
          "symbol": "circle"
         },
         "mode": "lines",
         "name": "FN",
         "orientation": "v",
         "showlegend": false,
         "type": "scatter",
         "x": [
          2016,
          2017,
          2018
         ],
         "xaxis": "x8",
         "y": [
          0.18446952104568481,
          0.16352017223834991,
          0.2188459187746048
         ],
         "yaxis": "y8"
        },
        {
         "hovertemplate": "Party=FN<br>Journal=Le Monde<br>manifesto=2002<br>year=%{x}<br>Cosine Similarity=%{y}<extra></extra>",
         "legendgroup": "FN",
         "line": {
          "color": "darkslateblue",
          "dash": "solid"
         },
         "marker": {
          "symbol": "circle"
         },
         "mode": "lines",
         "name": "FN",
         "orientation": "v",
         "showlegend": false,
         "type": "scatter",
         "x": [
          2001,
          2002,
          2003,
          2004,
          2005,
          2006
         ],
         "xaxis": "x",
         "y": [
          0.1811365932226181,
          0.13429678976535797,
          0.148725226521492,
          0.15074554085731506,
          0.14200575649738312,
          0.12015682458877563
         ],
         "yaxis": "y"
        },
        {
         "hovertemplate": "Party=FN<br>Journal=Le Monde<br>manifesto=2007<br>year=%{x}<br>Cosine Similarity=%{y}<extra></extra>",
         "legendgroup": "FN",
         "line": {
          "color": "darkslateblue",
          "dash": "solid"
         },
         "marker": {
          "symbol": "circle"
         },
         "mode": "lines",
         "name": "FN",
         "orientation": "v",
         "showlegend": false,
         "type": "scatter",
         "x": [
          2006,
          2007,
          2008,
          2009,
          2010,
          2011
         ],
         "xaxis": "x2",
         "y": [
          0.13790860772132874,
          0.13782311975955963,
          0.15007621049880981,
          0.15228213369846344,
          0.12398411333560944,
          0.11804798245429993
         ],
         "yaxis": "y2"
        },
        {
         "hovertemplate": "Party=FN<br>Journal=Le Monde<br>manifesto=2012<br>year=%{x}<br>Cosine Similarity=%{y}<extra></extra>",
         "legendgroup": "FN",
         "line": {
          "color": "darkslateblue",
          "dash": "solid"
         },
         "marker": {
          "symbol": "circle"
         },
         "mode": "lines",
         "name": "FN",
         "orientation": "v",
         "showlegend": false,
         "type": "scatter",
         "x": [
          2011,
          2012,
          2013,
          2014,
          2015,
          2016
         ],
         "xaxis": "x3",
         "y": [
          0.15656279027462006,
          0.14249208569526672,
          0.1801319271326065,
          0.1521499752998352,
          0.15483984351158142,
          0.14910155534744263
         ],
         "yaxis": "y3"
        },
        {
         "hovertemplate": "Party=FN<br>Journal=Le Monde<br>manifesto=2017<br>year=%{x}<br>Cosine Similarity=%{y}<extra></extra>",
         "legendgroup": "FN",
         "line": {
          "color": "darkslateblue",
          "dash": "solid"
         },
         "marker": {
          "symbol": "circle"
         },
         "mode": "lines",
         "name": "FN",
         "orientation": "v",
         "showlegend": false,
         "type": "scatter",
         "x": [
          2016,
          2017,
          2018
         ],
         "xaxis": "x4",
         "y": [
          0.20152489840984344,
          0.1861923784017563,
          0.20619601011276245
         ],
         "yaxis": "y4"
        },
        {
         "hovertemplate": "Party=PCF/PG/LFI<br>Journal=Le Figaro<br>manifesto=2002<br>year=%{x}<br>Cosine Similarity=%{y}<extra></extra>",
         "legendgroup": "PCF/PG/LFI",
         "line": {
          "color": "red",
          "dash": "solid"
         },
         "marker": {
          "symbol": "circle"
         },
         "mode": "lines",
         "name": "PCF/PG/LFI",
         "orientation": "v",
         "showlegend": true,
         "type": "scatter",
         "x": [
          2001,
          2002,
          2003,
          2004,
          2005,
          2006
         ],
         "xaxis": "x5",
         "y": [
          null,
          null,
          null,
          null,
          null,
          null
         ],
         "yaxis": "y5"
        },
        {
         "hovertemplate": "Party=PCF/PG/LFI<br>Journal=Le Figaro<br>manifesto=2007<br>year=%{x}<br>Cosine Similarity=%{y}<extra></extra>",
         "legendgroup": "PCF/PG/LFI",
         "line": {
          "color": "red",
          "dash": "solid"
         },
         "marker": {
          "symbol": "circle"
         },
         "mode": "lines",
         "name": "PCF/PG/LFI",
         "orientation": "v",
         "showlegend": false,
         "type": "scatter",
         "x": [
          2006,
          2007,
          2008,
          2009,
          2010,
          2011
         ],
         "xaxis": "x6",
         "y": [
          0.13582222163677216,
          0.11487135291099548,
          0.12257484346628189,
          0.12965929508209229,
          0.11578532308340073,
          0.09405147284269333
         ],
         "yaxis": "y6"
        },
        {
         "hovertemplate": "Party=PCF/PG/LFI<br>Journal=Le Figaro<br>manifesto=2012<br>year=%{x}<br>Cosine Similarity=%{y}<extra></extra>",
         "legendgroup": "PCF/PG/LFI",
         "line": {
          "color": "red",
          "dash": "solid"
         },
         "marker": {
          "symbol": "circle"
         },
         "mode": "lines",
         "name": "PCF/PG/LFI",
         "orientation": "v",
         "showlegend": false,
         "type": "scatter",
         "x": [
          2011,
          2012,
          2013,
          2014,
          2015,
          2016
         ],
         "xaxis": "x7",
         "y": [
          0.09518180042505264,
          0.10546065866947174,
          0.1333765983581543,
          0.1198284775018692,
          0.12529975175857544,
          0.11942508071660995
         ],
         "yaxis": "y7"
        },
        {
         "hovertemplate": "Party=PCF/PG/LFI<br>Journal=Le Figaro<br>manifesto=2017<br>year=%{x}<br>Cosine Similarity=%{y}<extra></extra>",
         "legendgroup": "PCF/PG/LFI",
         "line": {
          "color": "red",
          "dash": "solid"
         },
         "marker": {
          "symbol": "circle"
         },
         "mode": "lines",
         "name": "PCF/PG/LFI",
         "orientation": "v",
         "showlegend": false,
         "type": "scatter",
         "x": [
          2016,
          2017,
          2018
         ],
         "xaxis": "x8",
         "y": [
          0.16090671718120575,
          0.14791740477085114,
          0.1924566775560379
         ],
         "yaxis": "y8"
        },
        {
         "hovertemplate": "Party=PCF/PG/LFI<br>Journal=Le Monde<br>manifesto=2002<br>year=%{x}<br>Cosine Similarity=%{y}<extra></extra>",
         "legendgroup": "PCF/PG/LFI",
         "line": {
          "color": "red",
          "dash": "solid"
         },
         "marker": {
          "symbol": "circle"
         },
         "mode": "lines",
         "name": "PCF/PG/LFI",
         "orientation": "v",
         "showlegend": false,
         "type": "scatter",
         "x": [
          2001,
          2002,
          2003,
          2004,
          2005,
          2006
         ],
         "xaxis": "x",
         "y": [
          null,
          null,
          null,
          null,
          null,
          null
         ],
         "yaxis": "y"
        },
        {
         "hovertemplate": "Party=PCF/PG/LFI<br>Journal=Le Monde<br>manifesto=2007<br>year=%{x}<br>Cosine Similarity=%{y}<extra></extra>",
         "legendgroup": "PCF/PG/LFI",
         "line": {
          "color": "red",
          "dash": "solid"
         },
         "marker": {
          "symbol": "circle"
         },
         "mode": "lines",
         "name": "PCF/PG/LFI",
         "orientation": "v",
         "showlegend": false,
         "type": "scatter",
         "x": [
          2006,
          2007,
          2008,
          2009,
          2010,
          2011
         ],
         "xaxis": "x2",
         "y": [
          0.1479402780532837,
          0.14147044718265533,
          0.15007193386554718,
          0.14763560891151428,
          0.12146212160587311,
          0.10558905452489853
         ],
         "yaxis": "y2"
        },
        {
         "hovertemplate": "Party=PCF/PG/LFI<br>Journal=Le Monde<br>manifesto=2012<br>year=%{x}<br>Cosine Similarity=%{y}<extra></extra>",
         "legendgroup": "PCF/PG/LFI",
         "line": {
          "color": "red",
          "dash": "solid"
         },
         "marker": {
          "symbol": "circle"
         },
         "mode": "lines",
         "name": "PCF/PG/LFI",
         "orientation": "v",
         "showlegend": false,
         "type": "scatter",
         "x": [
          2011,
          2012,
          2013,
          2014,
          2015,
          2016
         ],
         "xaxis": "x3",
         "y": [
          0.12298198789358139,
          0.11763721704483032,
          0.14678004384040833,
          0.11970876157283783,
          0.11855068802833557,
          0.10787500441074371
         ],
         "yaxis": "y3"
        },
        {
         "hovertemplate": "Party=PCF/PG/LFI<br>Journal=Le Monde<br>manifesto=2017<br>year=%{x}<br>Cosine Similarity=%{y}<extra></extra>",
         "legendgroup": "PCF/PG/LFI",
         "line": {
          "color": "red",
          "dash": "solid"
         },
         "marker": {
          "symbol": "circle"
         },
         "mode": "lines",
         "name": "PCF/PG/LFI",
         "orientation": "v",
         "showlegend": false,
         "type": "scatter",
         "x": [
          2016,
          2017,
          2018
         ],
         "xaxis": "x4",
         "y": [
          0.1749035120010376,
          0.17642377316951752,
          0.18274901807308197
         ],
         "yaxis": "y4"
        }
       ],
       "layout": {
        "annotations": [
         {
          "font": {},
          "showarrow": false,
          "text": "manifesto=2002",
          "x": 0.11499999999999999,
          "xanchor": "center",
          "xref": "paper",
          "y": 1,
          "yanchor": "bottom",
          "yref": "paper"
         },
         {
          "font": {},
          "showarrow": false,
          "text": "manifesto=2007",
          "x": 0.365,
          "xanchor": "center",
          "xref": "paper",
          "y": 1,
          "yanchor": "bottom",
          "yref": "paper"
         },
         {
          "font": {},
          "showarrow": false,
          "text": "manifesto=2012",
          "x": 0.615,
          "xanchor": "center",
          "xref": "paper",
          "y": 1,
          "yanchor": "bottom",
          "yref": "paper"
         },
         {
          "font": {},
          "showarrow": false,
          "text": "manifesto=2017",
          "x": 0.865,
          "xanchor": "center",
          "xref": "paper",
          "y": 1,
          "yanchor": "bottom",
          "yref": "paper"
         },
         {
          "font": {},
          "showarrow": false,
          "text": "Journal=Le Monde",
          "textangle": 90,
          "x": 0.98,
          "xanchor": "left",
          "xref": "paper",
          "y": 0.2425,
          "yanchor": "middle",
          "yref": "paper"
         },
         {
          "font": {},
          "showarrow": false,
          "text": "Journal=Le Figaro",
          "textangle": 90,
          "x": 0.98,
          "xanchor": "left",
          "xref": "paper",
          "y": 0.7575000000000001,
          "yanchor": "middle",
          "yref": "paper"
         }
        ],
        "legend": {
         "title": {
          "text": "Party"
         },
         "tracegroupgap": 0
        },
        "template": {
         "data": {
          "bar": [
           {
            "error_x": {
             "color": "#2a3f5f"
            },
            "error_y": {
             "color": "#2a3f5f"
            },
            "marker": {
             "line": {
              "color": "#E5ECF6",
              "width": 0.5
             },
             "pattern": {
              "fillmode": "overlay",
              "size": 10,
              "solidity": 0.2
             }
            },
            "type": "bar"
           }
          ],
          "barpolar": [
           {
            "marker": {
             "line": {
              "color": "#E5ECF6",
              "width": 0.5
             },
             "pattern": {
              "fillmode": "overlay",
              "size": 10,
              "solidity": 0.2
             }
            },
            "type": "barpolar"
           }
          ],
          "carpet": [
           {
            "aaxis": {
             "endlinecolor": "#2a3f5f",
             "gridcolor": "white",
             "linecolor": "white",
             "minorgridcolor": "white",
             "startlinecolor": "#2a3f5f"
            },
            "baxis": {
             "endlinecolor": "#2a3f5f",
             "gridcolor": "white",
             "linecolor": "white",
             "minorgridcolor": "white",
             "startlinecolor": "#2a3f5f"
            },
            "type": "carpet"
           }
          ],
          "choropleth": [
           {
            "colorbar": {
             "outlinewidth": 0,
             "ticks": ""
            },
            "type": "choropleth"
           }
          ],
          "contour": [
           {
            "colorbar": {
             "outlinewidth": 0,
             "ticks": ""
            },
            "colorscale": [
             [
              0,
              "#0d0887"
             ],
             [
              0.1111111111111111,
              "#46039f"
             ],
             [
              0.2222222222222222,
              "#7201a8"
             ],
             [
              0.3333333333333333,
              "#9c179e"
             ],
             [
              0.4444444444444444,
              "#bd3786"
             ],
             [
              0.5555555555555556,
              "#d8576b"
             ],
             [
              0.6666666666666666,
              "#ed7953"
             ],
             [
              0.7777777777777778,
              "#fb9f3a"
             ],
             [
              0.8888888888888888,
              "#fdca26"
             ],
             [
              1,
              "#f0f921"
             ]
            ],
            "type": "contour"
           }
          ],
          "contourcarpet": [
           {
            "colorbar": {
             "outlinewidth": 0,
             "ticks": ""
            },
            "type": "contourcarpet"
           }
          ],
          "heatmap": [
           {
            "colorbar": {
             "outlinewidth": 0,
             "ticks": ""
            },
            "colorscale": [
             [
              0,
              "#0d0887"
             ],
             [
              0.1111111111111111,
              "#46039f"
             ],
             [
              0.2222222222222222,
              "#7201a8"
             ],
             [
              0.3333333333333333,
              "#9c179e"
             ],
             [
              0.4444444444444444,
              "#bd3786"
             ],
             [
              0.5555555555555556,
              "#d8576b"
             ],
             [
              0.6666666666666666,
              "#ed7953"
             ],
             [
              0.7777777777777778,
              "#fb9f3a"
             ],
             [
              0.8888888888888888,
              "#fdca26"
             ],
             [
              1,
              "#f0f921"
             ]
            ],
            "type": "heatmap"
           }
          ],
          "heatmapgl": [
           {
            "colorbar": {
             "outlinewidth": 0,
             "ticks": ""
            },
            "colorscale": [
             [
              0,
              "#0d0887"
             ],
             [
              0.1111111111111111,
              "#46039f"
             ],
             [
              0.2222222222222222,
              "#7201a8"
             ],
             [
              0.3333333333333333,
              "#9c179e"
             ],
             [
              0.4444444444444444,
              "#bd3786"
             ],
             [
              0.5555555555555556,
              "#d8576b"
             ],
             [
              0.6666666666666666,
              "#ed7953"
             ],
             [
              0.7777777777777778,
              "#fb9f3a"
             ],
             [
              0.8888888888888888,
              "#fdca26"
             ],
             [
              1,
              "#f0f921"
             ]
            ],
            "type": "heatmapgl"
           }
          ],
          "histogram": [
           {
            "marker": {
             "pattern": {
              "fillmode": "overlay",
              "size": 10,
              "solidity": 0.2
             }
            },
            "type": "histogram"
           }
          ],
          "histogram2d": [
           {
            "colorbar": {
             "outlinewidth": 0,
             "ticks": ""
            },
            "colorscale": [
             [
              0,
              "#0d0887"
             ],
             [
              0.1111111111111111,
              "#46039f"
             ],
             [
              0.2222222222222222,
              "#7201a8"
             ],
             [
              0.3333333333333333,
              "#9c179e"
             ],
             [
              0.4444444444444444,
              "#bd3786"
             ],
             [
              0.5555555555555556,
              "#d8576b"
             ],
             [
              0.6666666666666666,
              "#ed7953"
             ],
             [
              0.7777777777777778,
              "#fb9f3a"
             ],
             [
              0.8888888888888888,
              "#fdca26"
             ],
             [
              1,
              "#f0f921"
             ]
            ],
            "type": "histogram2d"
           }
          ],
          "histogram2dcontour": [
           {
            "colorbar": {
             "outlinewidth": 0,
             "ticks": ""
            },
            "colorscale": [
             [
              0,
              "#0d0887"
             ],
             [
              0.1111111111111111,
              "#46039f"
             ],
             [
              0.2222222222222222,
              "#7201a8"
             ],
             [
              0.3333333333333333,
              "#9c179e"
             ],
             [
              0.4444444444444444,
              "#bd3786"
             ],
             [
              0.5555555555555556,
              "#d8576b"
             ],
             [
              0.6666666666666666,
              "#ed7953"
             ],
             [
              0.7777777777777778,
              "#fb9f3a"
             ],
             [
              0.8888888888888888,
              "#fdca26"
             ],
             [
              1,
              "#f0f921"
             ]
            ],
            "type": "histogram2dcontour"
           }
          ],
          "mesh3d": [
           {
            "colorbar": {
             "outlinewidth": 0,
             "ticks": ""
            },
            "type": "mesh3d"
           }
          ],
          "parcoords": [
           {
            "line": {
             "colorbar": {
              "outlinewidth": 0,
              "ticks": ""
             }
            },
            "type": "parcoords"
           }
          ],
          "pie": [
           {
            "automargin": true,
            "type": "pie"
           }
          ],
          "scatter": [
           {
            "marker": {
             "colorbar": {
              "outlinewidth": 0,
              "ticks": ""
             }
            },
            "type": "scatter"
           }
          ],
          "scatter3d": [
           {
            "line": {
             "colorbar": {
              "outlinewidth": 0,
              "ticks": ""
             }
            },
            "marker": {
             "colorbar": {
              "outlinewidth": 0,
              "ticks": ""
             }
            },
            "type": "scatter3d"
           }
          ],
          "scattercarpet": [
           {
            "marker": {
             "colorbar": {
              "outlinewidth": 0,
              "ticks": ""
             }
            },
            "type": "scattercarpet"
           }
          ],
          "scattergeo": [
           {
            "marker": {
             "colorbar": {
              "outlinewidth": 0,
              "ticks": ""
             }
            },
            "type": "scattergeo"
           }
          ],
          "scattergl": [
           {
            "marker": {
             "colorbar": {
              "outlinewidth": 0,
              "ticks": ""
             }
            },
            "type": "scattergl"
           }
          ],
          "scattermapbox": [
           {
            "marker": {
             "colorbar": {
              "outlinewidth": 0,
              "ticks": ""
             }
            },
            "type": "scattermapbox"
           }
          ],
          "scatterpolar": [
           {
            "marker": {
             "colorbar": {
              "outlinewidth": 0,
              "ticks": ""
             }
            },
            "type": "scatterpolar"
           }
          ],
          "scatterpolargl": [
           {
            "marker": {
             "colorbar": {
              "outlinewidth": 0,
              "ticks": ""
             }
            },
            "type": "scatterpolargl"
           }
          ],
          "scatterternary": [
           {
            "marker": {
             "colorbar": {
              "outlinewidth": 0,
              "ticks": ""
             }
            },
            "type": "scatterternary"
           }
          ],
          "surface": [
           {
            "colorbar": {
             "outlinewidth": 0,
             "ticks": ""
            },
            "colorscale": [
             [
              0,
              "#0d0887"
             ],
             [
              0.1111111111111111,
              "#46039f"
             ],
             [
              0.2222222222222222,
              "#7201a8"
             ],
             [
              0.3333333333333333,
              "#9c179e"
             ],
             [
              0.4444444444444444,
              "#bd3786"
             ],
             [
              0.5555555555555556,
              "#d8576b"
             ],
             [
              0.6666666666666666,
              "#ed7953"
             ],
             [
              0.7777777777777778,
              "#fb9f3a"
             ],
             [
              0.8888888888888888,
              "#fdca26"
             ],
             [
              1,
              "#f0f921"
             ]
            ],
            "type": "surface"
           }
          ],
          "table": [
           {
            "cells": {
             "fill": {
              "color": "#EBF0F8"
             },
             "line": {
              "color": "white"
             }
            },
            "header": {
             "fill": {
              "color": "#C8D4E3"
             },
             "line": {
              "color": "white"
             }
            },
            "type": "table"
           }
          ]
         },
         "layout": {
          "annotationdefaults": {
           "arrowcolor": "#2a3f5f",
           "arrowhead": 0,
           "arrowwidth": 1
          },
          "autotypenumbers": "strict",
          "coloraxis": {
           "colorbar": {
            "outlinewidth": 0,
            "ticks": ""
           }
          },
          "colorscale": {
           "diverging": [
            [
             0,
             "#8e0152"
            ],
            [
             0.1,
             "#c51b7d"
            ],
            [
             0.2,
             "#de77ae"
            ],
            [
             0.3,
             "#f1b6da"
            ],
            [
             0.4,
             "#fde0ef"
            ],
            [
             0.5,
             "#f7f7f7"
            ],
            [
             0.6,
             "#e6f5d0"
            ],
            [
             0.7,
             "#b8e186"
            ],
            [
             0.8,
             "#7fbc41"
            ],
            [
             0.9,
             "#4d9221"
            ],
            [
             1,
             "#276419"
            ]
           ],
           "sequential": [
            [
             0,
             "#0d0887"
            ],
            [
             0.1111111111111111,
             "#46039f"
            ],
            [
             0.2222222222222222,
             "#7201a8"
            ],
            [
             0.3333333333333333,
             "#9c179e"
            ],
            [
             0.4444444444444444,
             "#bd3786"
            ],
            [
             0.5555555555555556,
             "#d8576b"
            ],
            [
             0.6666666666666666,
             "#ed7953"
            ],
            [
             0.7777777777777778,
             "#fb9f3a"
            ],
            [
             0.8888888888888888,
             "#fdca26"
            ],
            [
             1,
             "#f0f921"
            ]
           ],
           "sequentialminus": [
            [
             0,
             "#0d0887"
            ],
            [
             0.1111111111111111,
             "#46039f"
            ],
            [
             0.2222222222222222,
             "#7201a8"
            ],
            [
             0.3333333333333333,
             "#9c179e"
            ],
            [
             0.4444444444444444,
             "#bd3786"
            ],
            [
             0.5555555555555556,
             "#d8576b"
            ],
            [
             0.6666666666666666,
             "#ed7953"
            ],
            [
             0.7777777777777778,
             "#fb9f3a"
            ],
            [
             0.8888888888888888,
             "#fdca26"
            ],
            [
             1,
             "#f0f921"
            ]
           ]
          },
          "colorway": [
           "#636efa",
           "#EF553B",
           "#00cc96",
           "#ab63fa",
           "#FFA15A",
           "#19d3f3",
           "#FF6692",
           "#B6E880",
           "#FF97FF",
           "#FECB52"
          ],
          "font": {
           "color": "#2a3f5f"
          },
          "geo": {
           "bgcolor": "white",
           "lakecolor": "white",
           "landcolor": "#E5ECF6",
           "showlakes": true,
           "showland": true,
           "subunitcolor": "white"
          },
          "hoverlabel": {
           "align": "left"
          },
          "hovermode": "closest",
          "mapbox": {
           "style": "light"
          },
          "paper_bgcolor": "white",
          "plot_bgcolor": "#E5ECF6",
          "polar": {
           "angularaxis": {
            "gridcolor": "white",
            "linecolor": "white",
            "ticks": ""
           },
           "bgcolor": "#E5ECF6",
           "radialaxis": {
            "gridcolor": "white",
            "linecolor": "white",
            "ticks": ""
           }
          },
          "scene": {
           "xaxis": {
            "backgroundcolor": "#E5ECF6",
            "gridcolor": "white",
            "gridwidth": 2,
            "linecolor": "white",
            "showbackground": true,
            "ticks": "",
            "zerolinecolor": "white"
           },
           "yaxis": {
            "backgroundcolor": "#E5ECF6",
            "gridcolor": "white",
            "gridwidth": 2,
            "linecolor": "white",
            "showbackground": true,
            "ticks": "",
            "zerolinecolor": "white"
           },
           "zaxis": {
            "backgroundcolor": "#E5ECF6",
            "gridcolor": "white",
            "gridwidth": 2,
            "linecolor": "white",
            "showbackground": true,
            "ticks": "",
            "zerolinecolor": "white"
           }
          },
          "shapedefaults": {
           "line": {
            "color": "#2a3f5f"
           }
          },
          "ternary": {
           "aaxis": {
            "gridcolor": "white",
            "linecolor": "white",
            "ticks": ""
           },
           "baxis": {
            "gridcolor": "white",
            "linecolor": "white",
            "ticks": ""
           },
           "bgcolor": "#E5ECF6",
           "caxis": {
            "gridcolor": "white",
            "linecolor": "white",
            "ticks": ""
           }
          },
          "title": {
           "x": 0.05
          },
          "xaxis": {
           "automargin": true,
           "gridcolor": "white",
           "linecolor": "white",
           "ticks": "",
           "title": {
            "standoff": 15
           },
           "zerolinecolor": "white",
           "zerolinewidth": 2
          },
          "yaxis": {
           "automargin": true,
           "gridcolor": "white",
           "linecolor": "white",
           "ticks": "",
           "title": {
            "standoff": 15
           },
           "zerolinecolor": "white",
           "zerolinewidth": 2
          }
         }
        },
        "title": {
         "text": "Doc2Vec"
        },
        "xaxis": {
         "anchor": "y",
         "domain": [
          0,
          0.22999999999999998
         ],
         "title": {
          "text": "year"
         }
        },
        "xaxis2": {
         "anchor": "y2",
         "domain": [
          0.24999999999999997,
          0.48
         ],
         "title": {
          "text": "year"
         }
        },
        "xaxis3": {
         "anchor": "y3",
         "domain": [
          0.49999999999999994,
          0.73
         ],
         "title": {
          "text": "year"
         }
        },
        "xaxis4": {
         "anchor": "y4",
         "domain": [
          0.75,
          0.98
         ],
         "title": {
          "text": "year"
         }
        },
        "xaxis5": {
         "anchor": "y5",
         "domain": [
          0,
          0.22999999999999998
         ],
         "showticklabels": false
        },
        "xaxis6": {
         "anchor": "y6",
         "domain": [
          0.24999999999999997,
          0.48
         ],
         "showticklabels": false
        },
        "xaxis7": {
         "anchor": "y7",
         "domain": [
          0.49999999999999994,
          0.73
         ],
         "showticklabels": false
        },
        "xaxis8": {
         "anchor": "y8",
         "domain": [
          0.75,
          0.98
         ],
         "showticklabels": false
        },
        "yaxis": {
         "anchor": "x",
         "domain": [
          0,
          0.485
         ],
         "title": {
          "text": "Cosine Similarity"
         }
        },
        "yaxis2": {
         "anchor": "x2",
         "domain": [
          0,
          0.485
         ],
         "matches": "y",
         "showticklabels": false
        },
        "yaxis3": {
         "anchor": "x3",
         "domain": [
          0,
          0.485
         ],
         "matches": "y",
         "showticklabels": false
        },
        "yaxis4": {
         "anchor": "x4",
         "domain": [
          0,
          0.485
         ],
         "matches": "y",
         "showticklabels": false
        },
        "yaxis5": {
         "anchor": "x5",
         "domain": [
          0.515,
          1
         ],
         "matches": "y",
         "title": {
          "text": "Cosine Similarity"
         }
        },
        "yaxis6": {
         "anchor": "x6",
         "domain": [
          0.515,
          1
         ],
         "matches": "y",
         "showticklabels": false
        },
        "yaxis7": {
         "anchor": "x7",
         "domain": [
          0.515,
          1
         ],
         "matches": "y",
         "showticklabels": false
        },
        "yaxis8": {
         "anchor": "x8",
         "domain": [
          0.515,
          1
         ],
         "matches": "y",
         "showticklabels": false
        }
       }
      },
      "text/html": [
       "<div>                            <div id=\"3fb09eba-e1d3-47f7-a106-3763dc7b5cfa\" class=\"plotly-graph-div\" style=\"height:525px; width:100%;\"></div>            <script type=\"text/javascript\">                require([\"plotly\"], function(Plotly) {                    window.PLOTLYENV=window.PLOTLYENV || {};                                    if (document.getElementById(\"3fb09eba-e1d3-47f7-a106-3763dc7b5cfa\")) {                    Plotly.newPlot(                        \"3fb09eba-e1d3-47f7-a106-3763dc7b5cfa\",                        [{\"hovertemplate\":\"Party=EELV<br>Journal=Le Figaro<br>manifesto=2002<br>year=%{x}<br>Cosine Similarity=%{y}<extra></extra>\",\"legendgroup\":\"EELV\",\"line\":{\"color\":\"green\",\"dash\":\"solid\"},\"marker\":{\"symbol\":\"circle\"},\"mode\":\"lines\",\"name\":\"EELV\",\"orientation\":\"v\",\"showlegend\":true,\"type\":\"scatter\",\"x\":[2001,2002,2003,2004,2005,2006],\"xaxis\":\"x5\",\"y\":[0.14705948531627655,0.15552285313606262,0.18578408658504486,0.15051573514938354,0.15770937502384186,0.15508243441581726],\"yaxis\":\"y5\"},{\"hovertemplate\":\"Party=EELV<br>Journal=Le Figaro<br>manifesto=2007<br>year=%{x}<br>Cosine Similarity=%{y}<extra></extra>\",\"legendgroup\":\"EELV\",\"line\":{\"color\":\"green\",\"dash\":\"solid\"},\"marker\":{\"symbol\":\"circle\"},\"mode\":\"lines\",\"name\":\"EELV\",\"orientation\":\"v\",\"showlegend\":false,\"type\":\"scatter\",\"x\":[2006,2007,2008,2009,2010,2011],\"xaxis\":\"x6\",\"y\":[0.13489674031734467,0.1130288690328598,0.12472628802061081,0.12805022299289703,0.11821795254945755,0.09594523906707764],\"yaxis\":\"y6\"},{\"hovertemplate\":\"Party=EELV<br>Journal=Le Figaro<br>manifesto=2012<br>year=%{x}<br>Cosine Similarity=%{y}<extra></extra>\",\"legendgroup\":\"EELV\",\"line\":{\"color\":\"green\",\"dash\":\"solid\"},\"marker\":{\"symbol\":\"circle\"},\"mode\":\"lines\",\"name\":\"EELV\",\"orientation\":\"v\",\"showlegend\":false,\"type\":\"scatter\",\"x\":[2011,2012,2013,2014,2015,2016],\"xaxis\":\"x7\",\"y\":[0.10085219144821167,0.10320702195167542,0.14219820499420166,0.12444553524255753,0.12697747349739075,0.11452146619558334],\"yaxis\":\"y7\"},{\"hovertemplate\":\"Party=EELV<br>Journal=Le Figaro<br>manifesto=2017<br>year=%{x}<br>Cosine Similarity=%{y}<extra></extra>\",\"legendgroup\":\"EELV\",\"line\":{\"color\":\"green\",\"dash\":\"solid\"},\"marker\":{\"symbol\":\"circle\"},\"mode\":\"lines\",\"name\":\"EELV\",\"orientation\":\"v\",\"showlegend\":false,\"type\":\"scatter\",\"x\":[2016,2017,2018],\"xaxis\":\"x8\",\"y\":[0.1754915714263916,0.1622941493988037,0.2178737074136734],\"yaxis\":\"y8\"},{\"hovertemplate\":\"Party=EELV<br>Journal=Le Monde<br>manifesto=2002<br>year=%{x}<br>Cosine Similarity=%{y}<extra></extra>\",\"legendgroup\":\"EELV\",\"line\":{\"color\":\"green\",\"dash\":\"solid\"},\"marker\":{\"symbol\":\"circle\"},\"mode\":\"lines\",\"name\":\"EELV\",\"orientation\":\"v\",\"showlegend\":false,\"type\":\"scatter\",\"x\":[2001,2002,2003,2004,2005,2006],\"xaxis\":\"x\",\"y\":[0.20014317333698273,0.16680903732776642,0.19532480835914612,0.18212303519248962,0.18203970789909363,0.15450771152973175],\"yaxis\":\"y\"},{\"hovertemplate\":\"Party=EELV<br>Journal=Le Monde<br>manifesto=2007<br>year=%{x}<br>Cosine Similarity=%{y}<extra></extra>\",\"legendgroup\":\"EELV\",\"line\":{\"color\":\"green\",\"dash\":\"solid\"},\"marker\":{\"symbol\":\"circle\"},\"mode\":\"lines\",\"name\":\"EELV\",\"orientation\":\"v\",\"showlegend\":false,\"type\":\"scatter\",\"x\":[2006,2007,2008,2009,2010,2011],\"xaxis\":\"x2\",\"y\":[0.146428644657135,0.14447538554668427,0.15366612374782562,0.15094049274921417,0.12754103541374207,0.11046259105205536],\"yaxis\":\"y2\"},{\"hovertemplate\":\"Party=EELV<br>Journal=Le Monde<br>manifesto=2012<br>year=%{x}<br>Cosine Similarity=%{y}<extra></extra>\",\"legendgroup\":\"EELV\",\"line\":{\"color\":\"green\",\"dash\":\"solid\"},\"marker\":{\"symbol\":\"circle\"},\"mode\":\"lines\",\"name\":\"EELV\",\"orientation\":\"v\",\"showlegend\":false,\"type\":\"scatter\",\"x\":[2011,2012,2013,2014,2015,2016],\"xaxis\":\"x3\",\"y\":[0.1283058077096939,0.1195409968495369,0.1612863391637802,0.12889470160007477,0.12370569258928299,0.10638123750686646],\"yaxis\":\"y3\"},{\"hovertemplate\":\"Party=EELV<br>Journal=Le Monde<br>manifesto=2017<br>year=%{x}<br>Cosine Similarity=%{y}<extra></extra>\",\"legendgroup\":\"EELV\",\"line\":{\"color\":\"green\",\"dash\":\"solid\"},\"marker\":{\"symbol\":\"circle\"},\"mode\":\"lines\",\"name\":\"EELV\",\"orientation\":\"v\",\"showlegend\":false,\"type\":\"scatter\",\"x\":[2016,2017,2018],\"xaxis\":\"x4\",\"y\":[0.18575674295425415,0.18178018927574158,0.20116975903511047],\"yaxis\":\"y4\"},{\"hovertemplate\":\"Party=PS<br>Journal=Le Figaro<br>manifesto=2002<br>year=%{x}<br>Cosine Similarity=%{y}<extra></extra>\",\"legendgroup\":\"PS\",\"line\":{\"color\":\"pink\",\"dash\":\"solid\"},\"marker\":{\"symbol\":\"circle\"},\"mode\":\"lines\",\"name\":\"PS\",\"orientation\":\"v\",\"showlegend\":true,\"type\":\"scatter\",\"x\":[2001,2002,2003,2004,2005,2006],\"xaxis\":\"x5\",\"y\":[0.12490688264369965,0.14887559413909912,0.16159242391586304,0.1323613077402115,0.133529931306839,0.14934042096138],\"yaxis\":\"y5\"},{\"hovertemplate\":\"Party=PS<br>Journal=Le Figaro<br>manifesto=2007<br>year=%{x}<br>Cosine Similarity=%{y}<extra></extra>\",\"legendgroup\":\"PS\",\"line\":{\"color\":\"pink\",\"dash\":\"solid\"},\"marker\":{\"symbol\":\"circle\"},\"mode\":\"lines\",\"name\":\"PS\",\"orientation\":\"v\",\"showlegend\":false,\"type\":\"scatter\",\"x\":[2006,2007,2008,2009,2010,2011],\"xaxis\":\"x6\",\"y\":[0.13543199002742767,0.1113913282752037,0.1250491738319397,0.13000410795211792,0.11998514831066132,0.09512041509151459],\"yaxis\":\"y6\"},{\"hovertemplate\":\"Party=PS<br>Journal=Le Figaro<br>manifesto=2012<br>year=%{x}<br>Cosine Similarity=%{y}<extra></extra>\",\"legendgroup\":\"PS\",\"line\":{\"color\":\"pink\",\"dash\":\"solid\"},\"marker\":{\"symbol\":\"circle\"},\"mode\":\"lines\",\"name\":\"PS\",\"orientation\":\"v\",\"showlegend\":false,\"type\":\"scatter\",\"x\":[2011,2012,2013,2014,2015,2016],\"xaxis\":\"x7\",\"y\":[0.12281660735607147,0.12840399146080017,0.16338349878787994,0.14671306312084198,0.14411523938179016,0.1565638780593872],\"yaxis\":\"y7\"},{\"hovertemplate\":\"Party=PS<br>Journal=Le Figaro<br>manifesto=2017<br>year=%{x}<br>Cosine Similarity=%{y}<extra></extra>\",\"legendgroup\":\"PS\",\"line\":{\"color\":\"pink\",\"dash\":\"solid\"},\"marker\":{\"symbol\":\"circle\"},\"mode\":\"lines\",\"name\":\"PS\",\"orientation\":\"v\",\"showlegend\":false,\"type\":\"scatter\",\"x\":[2016,2017,2018],\"xaxis\":\"x8\",\"y\":[0.2430032342672348,0.23655889928340912,0.28062117099761963],\"yaxis\":\"y8\"},{\"hovertemplate\":\"Party=PS<br>Journal=Le Monde<br>manifesto=2002<br>year=%{x}<br>Cosine Similarity=%{y}<extra></extra>\",\"legendgroup\":\"PS\",\"line\":{\"color\":\"pink\",\"dash\":\"solid\"},\"marker\":{\"symbol\":\"circle\"},\"mode\":\"lines\",\"name\":\"PS\",\"orientation\":\"v\",\"showlegend\":false,\"type\":\"scatter\",\"x\":[2001,2002,2003,2004,2005,2006],\"xaxis\":\"x\",\"y\":[0.16625003516674042,0.1530979722738266,0.16750985383987427,0.15569934248924255,0.1587732881307602,0.14959688484668732],\"yaxis\":\"y\"},{\"hovertemplate\":\"Party=PS<br>Journal=Le Monde<br>manifesto=2007<br>year=%{x}<br>Cosine Similarity=%{y}<extra></extra>\",\"legendgroup\":\"PS\",\"line\":{\"color\":\"pink\",\"dash\":\"solid\"},\"marker\":{\"symbol\":\"circle\"},\"mode\":\"lines\",\"name\":\"PS\",\"orientation\":\"v\",\"showlegend\":false,\"type\":\"scatter\",\"x\":[2006,2007,2008,2009,2010,2011],\"xaxis\":\"x2\",\"y\":[0.1430804431438446,0.13862617313861847,0.15016117691993713,0.14367642998695374,0.12736138701438904,0.10373252630233765],\"yaxis\":\"y2\"},{\"hovertemplate\":\"Party=PS<br>Journal=Le Monde<br>manifesto=2012<br>year=%{x}<br>Cosine Similarity=%{y}<extra></extra>\",\"legendgroup\":\"PS\",\"line\":{\"color\":\"pink\",\"dash\":\"solid\"},\"marker\":{\"symbol\":\"circle\"},\"mode\":\"lines\",\"name\":\"PS\",\"orientation\":\"v\",\"showlegend\":false,\"type\":\"scatter\",\"x\":[2011,2012,2013,2014,2015,2016],\"xaxis\":\"x3\",\"y\":[0.14983271062374115,0.14133703708648682,0.17363546788692474,0.15097816288471222,0.1354498714208603,0.1391754001379013],\"yaxis\":\"y3\"},{\"hovertemplate\":\"Party=PS<br>Journal=Le Monde<br>manifesto=2017<br>year=%{x}<br>Cosine Similarity=%{y}<extra></extra>\",\"legendgroup\":\"PS\",\"line\":{\"color\":\"pink\",\"dash\":\"solid\"},\"marker\":{\"symbol\":\"circle\"},\"mode\":\"lines\",\"name\":\"PS\",\"orientation\":\"v\",\"showlegend\":false,\"type\":\"scatter\",\"x\":[2016,2017,2018],\"xaxis\":\"x4\",\"y\":[0.24161173403263092,0.2500627040863037,0.2769784927368164],\"yaxis\":\"y4\"},{\"hovertemplate\":\"Party=MoDem/EM<br>Journal=Le Figaro<br>manifesto=2002<br>year=%{x}<br>Cosine Similarity=%{y}<extra></extra>\",\"legendgroup\":\"MoDem/EM\",\"line\":{\"color\":\"orange\",\"dash\":\"solid\"},\"marker\":{\"symbol\":\"circle\"},\"mode\":\"lines\",\"name\":\"MoDem/EM\",\"orientation\":\"v\",\"showlegend\":true,\"type\":\"scatter\",\"x\":[2001,2002,2003,2004,2005,2006],\"xaxis\":\"x5\",\"y\":[0.10824791342020035,0.11575676500797272,0.15681014955043793,0.12187957763671875,0.12229990214109421,0.1178530752658844],\"yaxis\":\"y5\"},{\"hovertemplate\":\"Party=MoDem/EM<br>Journal=Le Figaro<br>manifesto=2007<br>year=%{x}<br>Cosine Similarity=%{y}<extra></extra>\",\"legendgroup\":\"MoDem/EM\",\"line\":{\"color\":\"orange\",\"dash\":\"solid\"},\"marker\":{\"symbol\":\"circle\"},\"mode\":\"lines\",\"name\":\"MoDem/EM\",\"orientation\":\"v\",\"showlegend\":false,\"type\":\"scatter\",\"x\":[2006,2007,2008,2009,2010,2011],\"xaxis\":\"x6\",\"y\":[0.13295511901378632,0.11620617657899857,0.11897333711385727,0.1294141709804535,0.12387853115797043,0.10596540570259094],\"yaxis\":\"y6\"},{\"hovertemplate\":\"Party=MoDem/EM<br>Journal=Le Figaro<br>manifesto=2012<br>year=%{x}<br>Cosine Similarity=%{y}<extra></extra>\",\"legendgroup\":\"MoDem/EM\",\"line\":{\"color\":\"orange\",\"dash\":\"solid\"},\"marker\":{\"symbol\":\"circle\"},\"mode\":\"lines\",\"name\":\"MoDem/EM\",\"orientation\":\"v\",\"showlegend\":false,\"type\":\"scatter\",\"x\":[2011,2012,2013,2014,2015,2016],\"xaxis\":\"x7\",\"y\":[0.10121007263660431,0.10863915085792542,0.1381881684064865,0.1275230199098587,0.11682172119617462,0.13039234280586243],\"yaxis\":\"y7\"},{\"hovertemplate\":\"Party=MoDem/EM<br>Journal=Le Figaro<br>manifesto=2017<br>year=%{x}<br>Cosine Similarity=%{y}<extra></extra>\",\"legendgroup\":\"MoDem/EM\",\"line\":{\"color\":\"orange\",\"dash\":\"solid\"},\"marker\":{\"symbol\":\"circle\"},\"mode\":\"lines\",\"name\":\"MoDem/EM\",\"orientation\":\"v\",\"showlegend\":false,\"type\":\"scatter\",\"x\":[2016,2017,2018],\"xaxis\":\"x8\",\"y\":[0.17924413084983826,0.162846639752388,0.20878049731254578],\"yaxis\":\"y8\"},{\"hovertemplate\":\"Party=MoDem/EM<br>Journal=Le Monde<br>manifesto=2002<br>year=%{x}<br>Cosine Similarity=%{y}<extra></extra>\",\"legendgroup\":\"MoDem/EM\",\"line\":{\"color\":\"orange\",\"dash\":\"solid\"},\"marker\":{\"symbol\":\"circle\"},\"mode\":\"lines\",\"name\":\"MoDem/EM\",\"orientation\":\"v\",\"showlegend\":false,\"type\":\"scatter\",\"x\":[2001,2002,2003,2004,2005,2006],\"xaxis\":\"x\",\"y\":[0.17891275882720947,0.12784402072429657,0.1684676855802536,0.15428069233894348,0.1524457484483719,0.12402250617742538],\"yaxis\":\"y\"},{\"hovertemplate\":\"Party=MoDem/EM<br>Journal=Le Monde<br>manifesto=2007<br>year=%{x}<br>Cosine Similarity=%{y}<extra></extra>\",\"legendgroup\":\"MoDem/EM\",\"line\":{\"color\":\"orange\",\"dash\":\"solid\"},\"marker\":{\"symbol\":\"circle\"},\"mode\":\"lines\",\"name\":\"MoDem/EM\",\"orientation\":\"v\",\"showlegend\":false,\"type\":\"scatter\",\"x\":[2006,2007,2008,2009,2010,2011],\"xaxis\":\"x2\",\"y\":[0.14595262706279755,0.14772869646549225,0.1560354381799698,0.15916934609413147,0.13861797749996185,0.11812607944011688],\"yaxis\":\"y2\"},{\"hovertemplate\":\"Party=MoDem/EM<br>Journal=Le Monde<br>manifesto=2012<br>year=%{x}<br>Cosine Similarity=%{y}<extra></extra>\",\"legendgroup\":\"MoDem/EM\",\"line\":{\"color\":\"orange\",\"dash\":\"solid\"},\"marker\":{\"symbol\":\"circle\"},\"mode\":\"lines\",\"name\":\"MoDem/EM\",\"orientation\":\"v\",\"showlegend\":false,\"type\":\"scatter\",\"x\":[2011,2012,2013,2014,2015,2016],\"xaxis\":\"x3\",\"y\":[0.1307830959558487,0.12495820969343185,0.15416404604911804,0.13386757671833038,0.11461422592401505,0.12136328220367432],\"yaxis\":\"y3\"},{\"hovertemplate\":\"Party=MoDem/EM<br>Journal=Le Monde<br>manifesto=2017<br>year=%{x}<br>Cosine Similarity=%{y}<extra></extra>\",\"legendgroup\":\"MoDem/EM\",\"line\":{\"color\":\"orange\",\"dash\":\"solid\"},\"marker\":{\"symbol\":\"circle\"},\"mode\":\"lines\",\"name\":\"MoDem/EM\",\"orientation\":\"v\",\"showlegend\":false,\"type\":\"scatter\",\"x\":[2016,2017,2018],\"xaxis\":\"x4\",\"y\":[0.19314347207546234,0.1918659657239914,0.2012011706829071],\"yaxis\":\"y4\"},{\"hovertemplate\":\"Party=RPR/UMP/LR<br>Journal=Le Figaro<br>manifesto=2002<br>year=%{x}<br>Cosine Similarity=%{y}<extra></extra>\",\"legendgroup\":\"RPR/UMP/LR\",\"line\":{\"color\":\"blue\",\"dash\":\"solid\"},\"marker\":{\"symbol\":\"circle\"},\"mode\":\"lines\",\"name\":\"RPR/UMP/LR\",\"orientation\":\"v\",\"showlegend\":true,\"type\":\"scatter\",\"x\":[2001,2002,2003,2004,2005,2006],\"xaxis\":\"x5\",\"y\":[0.16281351447105408,0.1744745820760727,0.1951708048582077,0.16684049367904663,0.17259280383586884,0.17608125507831573],\"yaxis\":\"y5\"},{\"hovertemplate\":\"Party=RPR/UMP/LR<br>Journal=Le Figaro<br>manifesto=2007<br>year=%{x}<br>Cosine Similarity=%{y}<extra></extra>\",\"legendgroup\":\"RPR/UMP/LR\",\"line\":{\"color\":\"blue\",\"dash\":\"solid\"},\"marker\":{\"symbol\":\"circle\"},\"mode\":\"lines\",\"name\":\"RPR/UMP/LR\",\"orientation\":\"v\",\"showlegend\":false,\"type\":\"scatter\",\"x\":[2006,2007,2008,2009,2010,2011],\"xaxis\":\"x6\",\"y\":[0.14534269273281097,0.13001683354377747,0.13073503971099854,0.1427851766347885,0.1399088352918625,0.12444230914115906],\"yaxis\":\"y6\"},{\"hovertemplate\":\"Party=RPR/UMP/LR<br>Journal=Le Figaro<br>manifesto=2012<br>year=%{x}<br>Cosine Similarity=%{y}<extra></extra>\",\"legendgroup\":\"RPR/UMP/LR\",\"line\":{\"color\":\"blue\",\"dash\":\"solid\"},\"marker\":{\"symbol\":\"circle\"},\"mode\":\"lines\",\"name\":\"RPR/UMP/LR\",\"orientation\":\"v\",\"showlegend\":false,\"type\":\"scatter\",\"x\":[2011,2012,2013,2014,2015,2016],\"xaxis\":\"x7\",\"y\":[0.1211535707116127,0.1192050352692604,0.14673516154289246,0.13440081477165222,0.13167248666286469,0.15451155602931976],\"yaxis\":\"y7\"},{\"hovertemplate\":\"Party=RPR/UMP/LR<br>Journal=Le Figaro<br>manifesto=2017<br>year=%{x}<br>Cosine Similarity=%{y}<extra></extra>\",\"legendgroup\":\"RPR/UMP/LR\",\"line\":{\"color\":\"blue\",\"dash\":\"solid\"},\"marker\":{\"symbol\":\"circle\"},\"mode\":\"lines\",\"name\":\"RPR/UMP/LR\",\"orientation\":\"v\",\"showlegend\":false,\"type\":\"scatter\",\"x\":[2016,2017,2018],\"xaxis\":\"x8\",\"y\":[0.19968627393245697,0.1872096061706543,0.22462153434753418],\"yaxis\":\"y8\"},{\"hovertemplate\":\"Party=RPR/UMP/LR<br>Journal=Le Monde<br>manifesto=2002<br>year=%{x}<br>Cosine Similarity=%{y}<extra></extra>\",\"legendgroup\":\"RPR/UMP/LR\",\"line\":{\"color\":\"blue\",\"dash\":\"solid\"},\"marker\":{\"symbol\":\"circle\"},\"mode\":\"lines\",\"name\":\"RPR/UMP/LR\",\"orientation\":\"v\",\"showlegend\":false,\"type\":\"scatter\",\"x\":[2001,2002,2003,2004,2005,2006],\"xaxis\":\"x\",\"y\":[0.2263951450586319,0.18478359282016754,0.21706917881965637,0.2019742876291275,0.19825947284698486,0.1732478141784668],\"yaxis\":\"y\"},{\"hovertemplate\":\"Party=RPR/UMP/LR<br>Journal=Le Monde<br>manifesto=2007<br>year=%{x}<br>Cosine Similarity=%{y}<extra></extra>\",\"legendgroup\":\"RPR/UMP/LR\",\"line\":{\"color\":\"blue\",\"dash\":\"solid\"},\"marker\":{\"symbol\":\"circle\"},\"mode\":\"lines\",\"name\":\"RPR/UMP/LR\",\"orientation\":\"v\",\"showlegend\":false,\"type\":\"scatter\",\"x\":[2006,2007,2008,2009,2010,2011],\"xaxis\":\"x2\",\"y\":[0.15759341418743134,0.16205008327960968,0.16015149652957916,0.1588975042104721,0.15413278341293335,0.13008832931518555],\"yaxis\":\"y2\"},{\"hovertemplate\":\"Party=RPR/UMP/LR<br>Journal=Le Monde<br>manifesto=2012<br>year=%{x}<br>Cosine Similarity=%{y}<extra></extra>\",\"legendgroup\":\"RPR/UMP/LR\",\"line\":{\"color\":\"blue\",\"dash\":\"solid\"},\"marker\":{\"symbol\":\"circle\"},\"mode\":\"lines\",\"name\":\"RPR/UMP/LR\",\"orientation\":\"v\",\"showlegend\":false,\"type\":\"scatter\",\"x\":[2011,2012,2013,2014,2015,2016],\"xaxis\":\"x3\",\"y\":[0.14730596542358398,0.13371782004833221,0.1517898291349411,0.13950134813785553,0.1298644095659256,0.14388294517993927],\"yaxis\":\"y3\"},{\"hovertemplate\":\"Party=RPR/UMP/LR<br>Journal=Le Monde<br>manifesto=2017<br>year=%{x}<br>Cosine Similarity=%{y}<extra></extra>\",\"legendgroup\":\"RPR/UMP/LR\",\"line\":{\"color\":\"blue\",\"dash\":\"solid\"},\"marker\":{\"symbol\":\"circle\"},\"mode\":\"lines\",\"name\":\"RPR/UMP/LR\",\"orientation\":\"v\",\"showlegend\":false,\"type\":\"scatter\",\"x\":[2016,2017,2018],\"xaxis\":\"x4\",\"y\":[0.21160908043384552,0.20229312777519226,0.21686170995235443],\"yaxis\":\"y4\"},{\"hovertemplate\":\"Party=FN<br>Journal=Le Figaro<br>manifesto=2002<br>year=%{x}<br>Cosine Similarity=%{y}<extra></extra>\",\"legendgroup\":\"FN\",\"line\":{\"color\":\"darkslateblue\",\"dash\":\"solid\"},\"marker\":{\"symbol\":\"circle\"},\"mode\":\"lines\",\"name\":\"FN\",\"orientation\":\"v\",\"showlegend\":true,\"type\":\"scatter\",\"x\":[2001,2002,2003,2004,2005,2006],\"xaxis\":\"x5\",\"y\":[0.10982715338468552,0.10397839546203613,0.13450320065021515,0.11737080663442612,0.11558076739311218,0.10933458805084229],\"yaxis\":\"y5\"},{\"hovertemplate\":\"Party=FN<br>Journal=Le Figaro<br>manifesto=2007<br>year=%{x}<br>Cosine Similarity=%{y}<extra></extra>\",\"legendgroup\":\"FN\",\"line\":{\"color\":\"darkslateblue\",\"dash\":\"solid\"},\"marker\":{\"symbol\":\"circle\"},\"mode\":\"lines\",\"name\":\"FN\",\"orientation\":\"v\",\"showlegend\":false,\"type\":\"scatter\",\"x\":[2006,2007,2008,2009,2010,2011],\"xaxis\":\"x6\",\"y\":[0.1205601692199707,0.11104895174503326,0.11491722613573074,0.12208409607410431,0.1121213287115097,0.10151152312755585],\"yaxis\":\"y6\"},{\"hovertemplate\":\"Party=FN<br>Journal=Le Figaro<br>manifesto=2012<br>year=%{x}<br>Cosine Similarity=%{y}<extra></extra>\",\"legendgroup\":\"FN\",\"line\":{\"color\":\"darkslateblue\",\"dash\":\"solid\"},\"marker\":{\"symbol\":\"circle\"},\"mode\":\"lines\",\"name\":\"FN\",\"orientation\":\"v\",\"showlegend\":false,\"type\":\"scatter\",\"x\":[2011,2012,2013,2014,2015,2016],\"xaxis\":\"x7\",\"y\":[0.12167440354824066,0.12266626209020615,0.16004768013954163,0.14352738857269287,0.1522883027791977,0.15800827741622925],\"yaxis\":\"y7\"},{\"hovertemplate\":\"Party=FN<br>Journal=Le Figaro<br>manifesto=2017<br>year=%{x}<br>Cosine Similarity=%{y}<extra></extra>\",\"legendgroup\":\"FN\",\"line\":{\"color\":\"darkslateblue\",\"dash\":\"solid\"},\"marker\":{\"symbol\":\"circle\"},\"mode\":\"lines\",\"name\":\"FN\",\"orientation\":\"v\",\"showlegend\":false,\"type\":\"scatter\",\"x\":[2016,2017,2018],\"xaxis\":\"x8\",\"y\":[0.18446952104568481,0.16352017223834991,0.2188459187746048],\"yaxis\":\"y8\"},{\"hovertemplate\":\"Party=FN<br>Journal=Le Monde<br>manifesto=2002<br>year=%{x}<br>Cosine Similarity=%{y}<extra></extra>\",\"legendgroup\":\"FN\",\"line\":{\"color\":\"darkslateblue\",\"dash\":\"solid\"},\"marker\":{\"symbol\":\"circle\"},\"mode\":\"lines\",\"name\":\"FN\",\"orientation\":\"v\",\"showlegend\":false,\"type\":\"scatter\",\"x\":[2001,2002,2003,2004,2005,2006],\"xaxis\":\"x\",\"y\":[0.1811365932226181,0.13429678976535797,0.148725226521492,0.15074554085731506,0.14200575649738312,0.12015682458877563],\"yaxis\":\"y\"},{\"hovertemplate\":\"Party=FN<br>Journal=Le Monde<br>manifesto=2007<br>year=%{x}<br>Cosine Similarity=%{y}<extra></extra>\",\"legendgroup\":\"FN\",\"line\":{\"color\":\"darkslateblue\",\"dash\":\"solid\"},\"marker\":{\"symbol\":\"circle\"},\"mode\":\"lines\",\"name\":\"FN\",\"orientation\":\"v\",\"showlegend\":false,\"type\":\"scatter\",\"x\":[2006,2007,2008,2009,2010,2011],\"xaxis\":\"x2\",\"y\":[0.13790860772132874,0.13782311975955963,0.15007621049880981,0.15228213369846344,0.12398411333560944,0.11804798245429993],\"yaxis\":\"y2\"},{\"hovertemplate\":\"Party=FN<br>Journal=Le Monde<br>manifesto=2012<br>year=%{x}<br>Cosine Similarity=%{y}<extra></extra>\",\"legendgroup\":\"FN\",\"line\":{\"color\":\"darkslateblue\",\"dash\":\"solid\"},\"marker\":{\"symbol\":\"circle\"},\"mode\":\"lines\",\"name\":\"FN\",\"orientation\":\"v\",\"showlegend\":false,\"type\":\"scatter\",\"x\":[2011,2012,2013,2014,2015,2016],\"xaxis\":\"x3\",\"y\":[0.15656279027462006,0.14249208569526672,0.1801319271326065,0.1521499752998352,0.15483984351158142,0.14910155534744263],\"yaxis\":\"y3\"},{\"hovertemplate\":\"Party=FN<br>Journal=Le Monde<br>manifesto=2017<br>year=%{x}<br>Cosine Similarity=%{y}<extra></extra>\",\"legendgroup\":\"FN\",\"line\":{\"color\":\"darkslateblue\",\"dash\":\"solid\"},\"marker\":{\"symbol\":\"circle\"},\"mode\":\"lines\",\"name\":\"FN\",\"orientation\":\"v\",\"showlegend\":false,\"type\":\"scatter\",\"x\":[2016,2017,2018],\"xaxis\":\"x4\",\"y\":[0.20152489840984344,0.1861923784017563,0.20619601011276245],\"yaxis\":\"y4\"},{\"hovertemplate\":\"Party=PCF/PG/LFI<br>Journal=Le Figaro<br>manifesto=2002<br>year=%{x}<br>Cosine Similarity=%{y}<extra></extra>\",\"legendgroup\":\"PCF/PG/LFI\",\"line\":{\"color\":\"red\",\"dash\":\"solid\"},\"marker\":{\"symbol\":\"circle\"},\"mode\":\"lines\",\"name\":\"PCF/PG/LFI\",\"orientation\":\"v\",\"showlegend\":true,\"type\":\"scatter\",\"x\":[2001,2002,2003,2004,2005,2006],\"xaxis\":\"x5\",\"y\":[null,null,null,null,null,null],\"yaxis\":\"y5\"},{\"hovertemplate\":\"Party=PCF/PG/LFI<br>Journal=Le Figaro<br>manifesto=2007<br>year=%{x}<br>Cosine Similarity=%{y}<extra></extra>\",\"legendgroup\":\"PCF/PG/LFI\",\"line\":{\"color\":\"red\",\"dash\":\"solid\"},\"marker\":{\"symbol\":\"circle\"},\"mode\":\"lines\",\"name\":\"PCF/PG/LFI\",\"orientation\":\"v\",\"showlegend\":false,\"type\":\"scatter\",\"x\":[2006,2007,2008,2009,2010,2011],\"xaxis\":\"x6\",\"y\":[0.13582222163677216,0.11487135291099548,0.12257484346628189,0.12965929508209229,0.11578532308340073,0.09405147284269333],\"yaxis\":\"y6\"},{\"hovertemplate\":\"Party=PCF/PG/LFI<br>Journal=Le Figaro<br>manifesto=2012<br>year=%{x}<br>Cosine Similarity=%{y}<extra></extra>\",\"legendgroup\":\"PCF/PG/LFI\",\"line\":{\"color\":\"red\",\"dash\":\"solid\"},\"marker\":{\"symbol\":\"circle\"},\"mode\":\"lines\",\"name\":\"PCF/PG/LFI\",\"orientation\":\"v\",\"showlegend\":false,\"type\":\"scatter\",\"x\":[2011,2012,2013,2014,2015,2016],\"xaxis\":\"x7\",\"y\":[0.09518180042505264,0.10546065866947174,0.1333765983581543,0.1198284775018692,0.12529975175857544,0.11942508071660995],\"yaxis\":\"y7\"},{\"hovertemplate\":\"Party=PCF/PG/LFI<br>Journal=Le Figaro<br>manifesto=2017<br>year=%{x}<br>Cosine Similarity=%{y}<extra></extra>\",\"legendgroup\":\"PCF/PG/LFI\",\"line\":{\"color\":\"red\",\"dash\":\"solid\"},\"marker\":{\"symbol\":\"circle\"},\"mode\":\"lines\",\"name\":\"PCF/PG/LFI\",\"orientation\":\"v\",\"showlegend\":false,\"type\":\"scatter\",\"x\":[2016,2017,2018],\"xaxis\":\"x8\",\"y\":[0.16090671718120575,0.14791740477085114,0.1924566775560379],\"yaxis\":\"y8\"},{\"hovertemplate\":\"Party=PCF/PG/LFI<br>Journal=Le Monde<br>manifesto=2002<br>year=%{x}<br>Cosine Similarity=%{y}<extra></extra>\",\"legendgroup\":\"PCF/PG/LFI\",\"line\":{\"color\":\"red\",\"dash\":\"solid\"},\"marker\":{\"symbol\":\"circle\"},\"mode\":\"lines\",\"name\":\"PCF/PG/LFI\",\"orientation\":\"v\",\"showlegend\":false,\"type\":\"scatter\",\"x\":[2001,2002,2003,2004,2005,2006],\"xaxis\":\"x\",\"y\":[null,null,null,null,null,null],\"yaxis\":\"y\"},{\"hovertemplate\":\"Party=PCF/PG/LFI<br>Journal=Le Monde<br>manifesto=2007<br>year=%{x}<br>Cosine Similarity=%{y}<extra></extra>\",\"legendgroup\":\"PCF/PG/LFI\",\"line\":{\"color\":\"red\",\"dash\":\"solid\"},\"marker\":{\"symbol\":\"circle\"},\"mode\":\"lines\",\"name\":\"PCF/PG/LFI\",\"orientation\":\"v\",\"showlegend\":false,\"type\":\"scatter\",\"x\":[2006,2007,2008,2009,2010,2011],\"xaxis\":\"x2\",\"y\":[0.1479402780532837,0.14147044718265533,0.15007193386554718,0.14763560891151428,0.12146212160587311,0.10558905452489853],\"yaxis\":\"y2\"},{\"hovertemplate\":\"Party=PCF/PG/LFI<br>Journal=Le Monde<br>manifesto=2012<br>year=%{x}<br>Cosine Similarity=%{y}<extra></extra>\",\"legendgroup\":\"PCF/PG/LFI\",\"line\":{\"color\":\"red\",\"dash\":\"solid\"},\"marker\":{\"symbol\":\"circle\"},\"mode\":\"lines\",\"name\":\"PCF/PG/LFI\",\"orientation\":\"v\",\"showlegend\":false,\"type\":\"scatter\",\"x\":[2011,2012,2013,2014,2015,2016],\"xaxis\":\"x3\",\"y\":[0.12298198789358139,0.11763721704483032,0.14678004384040833,0.11970876157283783,0.11855068802833557,0.10787500441074371],\"yaxis\":\"y3\"},{\"hovertemplate\":\"Party=PCF/PG/LFI<br>Journal=Le Monde<br>manifesto=2017<br>year=%{x}<br>Cosine Similarity=%{y}<extra></extra>\",\"legendgroup\":\"PCF/PG/LFI\",\"line\":{\"color\":\"red\",\"dash\":\"solid\"},\"marker\":{\"symbol\":\"circle\"},\"mode\":\"lines\",\"name\":\"PCF/PG/LFI\",\"orientation\":\"v\",\"showlegend\":false,\"type\":\"scatter\",\"x\":[2016,2017,2018],\"xaxis\":\"x4\",\"y\":[0.1749035120010376,0.17642377316951752,0.18274901807308197],\"yaxis\":\"y4\"}],                        {\"annotations\":[{\"font\":{},\"showarrow\":false,\"text\":\"manifesto=2002\",\"x\":0.11499999999999999,\"xanchor\":\"center\",\"xref\":\"paper\",\"y\":1.0,\"yanchor\":\"bottom\",\"yref\":\"paper\"},{\"font\":{},\"showarrow\":false,\"text\":\"manifesto=2007\",\"x\":0.365,\"xanchor\":\"center\",\"xref\":\"paper\",\"y\":1.0,\"yanchor\":\"bottom\",\"yref\":\"paper\"},{\"font\":{},\"showarrow\":false,\"text\":\"manifesto=2012\",\"x\":0.615,\"xanchor\":\"center\",\"xref\":\"paper\",\"y\":1.0,\"yanchor\":\"bottom\",\"yref\":\"paper\"},{\"font\":{},\"showarrow\":false,\"text\":\"manifesto=2017\",\"x\":0.865,\"xanchor\":\"center\",\"xref\":\"paper\",\"y\":1.0,\"yanchor\":\"bottom\",\"yref\":\"paper\"},{\"font\":{},\"showarrow\":false,\"text\":\"Journal=Le Monde\",\"textangle\":90,\"x\":0.98,\"xanchor\":\"left\",\"xref\":\"paper\",\"y\":0.2425,\"yanchor\":\"middle\",\"yref\":\"paper\"},{\"font\":{},\"showarrow\":false,\"text\":\"Journal=Le Figaro\",\"textangle\":90,\"x\":0.98,\"xanchor\":\"left\",\"xref\":\"paper\",\"y\":0.7575000000000001,\"yanchor\":\"middle\",\"yref\":\"paper\"}],\"legend\":{\"title\":{\"text\":\"Party\"},\"tracegroupgap\":0},\"template\":{\"data\":{\"bar\":[{\"error_x\":{\"color\":\"#2a3f5f\"},\"error_y\":{\"color\":\"#2a3f5f\"},\"marker\":{\"line\":{\"color\":\"#E5ECF6\",\"width\":0.5},\"pattern\":{\"fillmode\":\"overlay\",\"size\":10,\"solidity\":0.2}},\"type\":\"bar\"}],\"barpolar\":[{\"marker\":{\"line\":{\"color\":\"#E5ECF6\",\"width\":0.5},\"pattern\":{\"fillmode\":\"overlay\",\"size\":10,\"solidity\":0.2}},\"type\":\"barpolar\"}],\"carpet\":[{\"aaxis\":{\"endlinecolor\":\"#2a3f5f\",\"gridcolor\":\"white\",\"linecolor\":\"white\",\"minorgridcolor\":\"white\",\"startlinecolor\":\"#2a3f5f\"},\"baxis\":{\"endlinecolor\":\"#2a3f5f\",\"gridcolor\":\"white\",\"linecolor\":\"white\",\"minorgridcolor\":\"white\",\"startlinecolor\":\"#2a3f5f\"},\"type\":\"carpet\"}],\"choropleth\":[{\"colorbar\":{\"outlinewidth\":0,\"ticks\":\"\"},\"type\":\"choropleth\"}],\"contour\":[{\"colorbar\":{\"outlinewidth\":0,\"ticks\":\"\"},\"colorscale\":[[0.0,\"#0d0887\"],[0.1111111111111111,\"#46039f\"],[0.2222222222222222,\"#7201a8\"],[0.3333333333333333,\"#9c179e\"],[0.4444444444444444,\"#bd3786\"],[0.5555555555555556,\"#d8576b\"],[0.6666666666666666,\"#ed7953\"],[0.7777777777777778,\"#fb9f3a\"],[0.8888888888888888,\"#fdca26\"],[1.0,\"#f0f921\"]],\"type\":\"contour\"}],\"contourcarpet\":[{\"colorbar\":{\"outlinewidth\":0,\"ticks\":\"\"},\"type\":\"contourcarpet\"}],\"heatmap\":[{\"colorbar\":{\"outlinewidth\":0,\"ticks\":\"\"},\"colorscale\":[[0.0,\"#0d0887\"],[0.1111111111111111,\"#46039f\"],[0.2222222222222222,\"#7201a8\"],[0.3333333333333333,\"#9c179e\"],[0.4444444444444444,\"#bd3786\"],[0.5555555555555556,\"#d8576b\"],[0.6666666666666666,\"#ed7953\"],[0.7777777777777778,\"#fb9f3a\"],[0.8888888888888888,\"#fdca26\"],[1.0,\"#f0f921\"]],\"type\":\"heatmap\"}],\"heatmapgl\":[{\"colorbar\":{\"outlinewidth\":0,\"ticks\":\"\"},\"colorscale\":[[0.0,\"#0d0887\"],[0.1111111111111111,\"#46039f\"],[0.2222222222222222,\"#7201a8\"],[0.3333333333333333,\"#9c179e\"],[0.4444444444444444,\"#bd3786\"],[0.5555555555555556,\"#d8576b\"],[0.6666666666666666,\"#ed7953\"],[0.7777777777777778,\"#fb9f3a\"],[0.8888888888888888,\"#fdca26\"],[1.0,\"#f0f921\"]],\"type\":\"heatmapgl\"}],\"histogram\":[{\"marker\":{\"pattern\":{\"fillmode\":\"overlay\",\"size\":10,\"solidity\":0.2}},\"type\":\"histogram\"}],\"histogram2d\":[{\"colorbar\":{\"outlinewidth\":0,\"ticks\":\"\"},\"colorscale\":[[0.0,\"#0d0887\"],[0.1111111111111111,\"#46039f\"],[0.2222222222222222,\"#7201a8\"],[0.3333333333333333,\"#9c179e\"],[0.4444444444444444,\"#bd3786\"],[0.5555555555555556,\"#d8576b\"],[0.6666666666666666,\"#ed7953\"],[0.7777777777777778,\"#fb9f3a\"],[0.8888888888888888,\"#fdca26\"],[1.0,\"#f0f921\"]],\"type\":\"histogram2d\"}],\"histogram2dcontour\":[{\"colorbar\":{\"outlinewidth\":0,\"ticks\":\"\"},\"colorscale\":[[0.0,\"#0d0887\"],[0.1111111111111111,\"#46039f\"],[0.2222222222222222,\"#7201a8\"],[0.3333333333333333,\"#9c179e\"],[0.4444444444444444,\"#bd3786\"],[0.5555555555555556,\"#d8576b\"],[0.6666666666666666,\"#ed7953\"],[0.7777777777777778,\"#fb9f3a\"],[0.8888888888888888,\"#fdca26\"],[1.0,\"#f0f921\"]],\"type\":\"histogram2dcontour\"}],\"mesh3d\":[{\"colorbar\":{\"outlinewidth\":0,\"ticks\":\"\"},\"type\":\"mesh3d\"}],\"parcoords\":[{\"line\":{\"colorbar\":{\"outlinewidth\":0,\"ticks\":\"\"}},\"type\":\"parcoords\"}],\"pie\":[{\"automargin\":true,\"type\":\"pie\"}],\"scatter\":[{\"marker\":{\"colorbar\":{\"outlinewidth\":0,\"ticks\":\"\"}},\"type\":\"scatter\"}],\"scatter3d\":[{\"line\":{\"colorbar\":{\"outlinewidth\":0,\"ticks\":\"\"}},\"marker\":{\"colorbar\":{\"outlinewidth\":0,\"ticks\":\"\"}},\"type\":\"scatter3d\"}],\"scattercarpet\":[{\"marker\":{\"colorbar\":{\"outlinewidth\":0,\"ticks\":\"\"}},\"type\":\"scattercarpet\"}],\"scattergeo\":[{\"marker\":{\"colorbar\":{\"outlinewidth\":0,\"ticks\":\"\"}},\"type\":\"scattergeo\"}],\"scattergl\":[{\"marker\":{\"colorbar\":{\"outlinewidth\":0,\"ticks\":\"\"}},\"type\":\"scattergl\"}],\"scattermapbox\":[{\"marker\":{\"colorbar\":{\"outlinewidth\":0,\"ticks\":\"\"}},\"type\":\"scattermapbox\"}],\"scatterpolar\":[{\"marker\":{\"colorbar\":{\"outlinewidth\":0,\"ticks\":\"\"}},\"type\":\"scatterpolar\"}],\"scatterpolargl\":[{\"marker\":{\"colorbar\":{\"outlinewidth\":0,\"ticks\":\"\"}},\"type\":\"scatterpolargl\"}],\"scatterternary\":[{\"marker\":{\"colorbar\":{\"outlinewidth\":0,\"ticks\":\"\"}},\"type\":\"scatterternary\"}],\"surface\":[{\"colorbar\":{\"outlinewidth\":0,\"ticks\":\"\"},\"colorscale\":[[0.0,\"#0d0887\"],[0.1111111111111111,\"#46039f\"],[0.2222222222222222,\"#7201a8\"],[0.3333333333333333,\"#9c179e\"],[0.4444444444444444,\"#bd3786\"],[0.5555555555555556,\"#d8576b\"],[0.6666666666666666,\"#ed7953\"],[0.7777777777777778,\"#fb9f3a\"],[0.8888888888888888,\"#fdca26\"],[1.0,\"#f0f921\"]],\"type\":\"surface\"}],\"table\":[{\"cells\":{\"fill\":{\"color\":\"#EBF0F8\"},\"line\":{\"color\":\"white\"}},\"header\":{\"fill\":{\"color\":\"#C8D4E3\"},\"line\":{\"color\":\"white\"}},\"type\":\"table\"}]},\"layout\":{\"annotationdefaults\":{\"arrowcolor\":\"#2a3f5f\",\"arrowhead\":0,\"arrowwidth\":1},\"autotypenumbers\":\"strict\",\"coloraxis\":{\"colorbar\":{\"outlinewidth\":0,\"ticks\":\"\"}},\"colorscale\":{\"diverging\":[[0,\"#8e0152\"],[0.1,\"#c51b7d\"],[0.2,\"#de77ae\"],[0.3,\"#f1b6da\"],[0.4,\"#fde0ef\"],[0.5,\"#f7f7f7\"],[0.6,\"#e6f5d0\"],[0.7,\"#b8e186\"],[0.8,\"#7fbc41\"],[0.9,\"#4d9221\"],[1,\"#276419\"]],\"sequential\":[[0.0,\"#0d0887\"],[0.1111111111111111,\"#46039f\"],[0.2222222222222222,\"#7201a8\"],[0.3333333333333333,\"#9c179e\"],[0.4444444444444444,\"#bd3786\"],[0.5555555555555556,\"#d8576b\"],[0.6666666666666666,\"#ed7953\"],[0.7777777777777778,\"#fb9f3a\"],[0.8888888888888888,\"#fdca26\"],[1.0,\"#f0f921\"]],\"sequentialminus\":[[0.0,\"#0d0887\"],[0.1111111111111111,\"#46039f\"],[0.2222222222222222,\"#7201a8\"],[0.3333333333333333,\"#9c179e\"],[0.4444444444444444,\"#bd3786\"],[0.5555555555555556,\"#d8576b\"],[0.6666666666666666,\"#ed7953\"],[0.7777777777777778,\"#fb9f3a\"],[0.8888888888888888,\"#fdca26\"],[1.0,\"#f0f921\"]]},\"colorway\":[\"#636efa\",\"#EF553B\",\"#00cc96\",\"#ab63fa\",\"#FFA15A\",\"#19d3f3\",\"#FF6692\",\"#B6E880\",\"#FF97FF\",\"#FECB52\"],\"font\":{\"color\":\"#2a3f5f\"},\"geo\":{\"bgcolor\":\"white\",\"lakecolor\":\"white\",\"landcolor\":\"#E5ECF6\",\"showlakes\":true,\"showland\":true,\"subunitcolor\":\"white\"},\"hoverlabel\":{\"align\":\"left\"},\"hovermode\":\"closest\",\"mapbox\":{\"style\":\"light\"},\"paper_bgcolor\":\"white\",\"plot_bgcolor\":\"#E5ECF6\",\"polar\":{\"angularaxis\":{\"gridcolor\":\"white\",\"linecolor\":\"white\",\"ticks\":\"\"},\"bgcolor\":\"#E5ECF6\",\"radialaxis\":{\"gridcolor\":\"white\",\"linecolor\":\"white\",\"ticks\":\"\"}},\"scene\":{\"xaxis\":{\"backgroundcolor\":\"#E5ECF6\",\"gridcolor\":\"white\",\"gridwidth\":2,\"linecolor\":\"white\",\"showbackground\":true,\"ticks\":\"\",\"zerolinecolor\":\"white\"},\"yaxis\":{\"backgroundcolor\":\"#E5ECF6\",\"gridcolor\":\"white\",\"gridwidth\":2,\"linecolor\":\"white\",\"showbackground\":true,\"ticks\":\"\",\"zerolinecolor\":\"white\"},\"zaxis\":{\"backgroundcolor\":\"#E5ECF6\",\"gridcolor\":\"white\",\"gridwidth\":2,\"linecolor\":\"white\",\"showbackground\":true,\"ticks\":\"\",\"zerolinecolor\":\"white\"}},\"shapedefaults\":{\"line\":{\"color\":\"#2a3f5f\"}},\"ternary\":{\"aaxis\":{\"gridcolor\":\"white\",\"linecolor\":\"white\",\"ticks\":\"\"},\"baxis\":{\"gridcolor\":\"white\",\"linecolor\":\"white\",\"ticks\":\"\"},\"bgcolor\":\"#E5ECF6\",\"caxis\":{\"gridcolor\":\"white\",\"linecolor\":\"white\",\"ticks\":\"\"}},\"title\":{\"x\":0.05},\"xaxis\":{\"automargin\":true,\"gridcolor\":\"white\",\"linecolor\":\"white\",\"ticks\":\"\",\"title\":{\"standoff\":15},\"zerolinecolor\":\"white\",\"zerolinewidth\":2},\"yaxis\":{\"automargin\":true,\"gridcolor\":\"white\",\"linecolor\":\"white\",\"ticks\":\"\",\"title\":{\"standoff\":15},\"zerolinecolor\":\"white\",\"zerolinewidth\":2}}},\"title\":{\"text\":\"Doc2Vec\"},\"xaxis\":{\"anchor\":\"y\",\"domain\":[0.0,0.22999999999999998],\"title\":{\"text\":\"year\"}},\"xaxis2\":{\"anchor\":\"y2\",\"domain\":[0.24999999999999997,0.48],\"title\":{\"text\":\"year\"}},\"xaxis3\":{\"anchor\":\"y3\",\"domain\":[0.49999999999999994,0.73],\"title\":{\"text\":\"year\"}},\"xaxis4\":{\"anchor\":\"y4\",\"domain\":[0.75,0.98],\"title\":{\"text\":\"year\"}},\"xaxis5\":{\"anchor\":\"y5\",\"domain\":[0.0,0.22999999999999998],\"showticklabels\":false},\"xaxis6\":{\"anchor\":\"y6\",\"domain\":[0.24999999999999997,0.48],\"showticklabels\":false},\"xaxis7\":{\"anchor\":\"y7\",\"domain\":[0.49999999999999994,0.73],\"showticklabels\":false},\"xaxis8\":{\"anchor\":\"y8\",\"domain\":[0.75,0.98],\"showticklabels\":false},\"yaxis\":{\"anchor\":\"x\",\"domain\":[0.0,0.485],\"title\":{\"text\":\"Cosine Similarity\"}},\"yaxis2\":{\"anchor\":\"x2\",\"domain\":[0.0,0.485],\"matches\":\"y\",\"showticklabels\":false},\"yaxis3\":{\"anchor\":\"x3\",\"domain\":[0.0,0.485],\"matches\":\"y\",\"showticklabels\":false},\"yaxis4\":{\"anchor\":\"x4\",\"domain\":[0.0,0.485],\"matches\":\"y\",\"showticklabels\":false},\"yaxis5\":{\"anchor\":\"x5\",\"domain\":[0.515,1.0],\"matches\":\"y\",\"title\":{\"text\":\"Cosine Similarity\"}},\"yaxis6\":{\"anchor\":\"x6\",\"domain\":[0.515,1.0],\"matches\":\"y\",\"showticklabels\":false},\"yaxis7\":{\"anchor\":\"x7\",\"domain\":[0.515,1.0],\"matches\":\"y\",\"showticklabels\":false},\"yaxis8\":{\"anchor\":\"x8\",\"domain\":[0.515,1.0],\"matches\":\"y\",\"showticklabels\":false}},                        {\"responsive\": true}                    ).then(function(){\n",
       "                            \n",
       "var gd = document.getElementById('3fb09eba-e1d3-47f7-a106-3763dc7b5cfa');\n",
       "var x = new MutationObserver(function (mutations, observer) {{\n",
       "        var display = window.getComputedStyle(gd).display;\n",
       "        if (!display || display === 'none') {{\n",
       "            console.log([gd, 'removed!']);\n",
       "            Plotly.purge(gd);\n",
       "            observer.disconnect();\n",
       "        }}\n",
       "}});\n",
       "\n",
       "// Listen for the removal of the full notebook cells\n",
       "var notebookContainer = gd.closest('#notebook-container');\n",
       "if (notebookContainer) {{\n",
       "    x.observe(notebookContainer, {childList: true});\n",
       "}}\n",
       "\n",
       "// Listen for the clearing of the current output cell\n",
       "var outputEl = gd.closest('.output');\n",
       "if (outputEl) {{\n",
       "    x.observe(outputEl, {childList: true});\n",
       "}}\n",
       "\n",
       "                        })                };                });            </script>        </div>"
      ]
     },
     "metadata": {},
     "output_type": "display_data"
    }
   ],
   "source": [
    "fig = px.line(sims,\n",
    "              x='annee',\n",
    "              y=sims.columns[3:],\n",
    "              labels={'partyname':'Journal','variable':'Party','value':'Cosine Similarity','annee':'year', 'fichier':'manifesto'},\n",
    "              title='Doc2Vec',\n",
    "              facet_row='partyname',\n",
    "              facet_col='fichier',\n",
    "              color_discrete_map=dict_color\n",
    "       )\n",
    "fig.update_xaxes(matches=None)\n",
    "fig.show()"
   ]
  },
  {
   "cell_type": "code",
   "execution_count": null,
   "id": "7b1abbb7",
   "metadata": {},
   "outputs": [],
   "source": []
  }
 ],
 "metadata": {
  "kernelspec": {
   "display_name": "Python 3",
   "language": "python",
   "name": "python3"
  },
  "language_info": {
   "codemirror_mode": {
    "name": "ipython",
    "version": 3
   },
   "file_extension": ".py",
   "mimetype": "text/x-python",
   "name": "python",
   "nbconvert_exporter": "python",
   "pygments_lexer": "ipython3",
   "version": "3.8.8"
  }
 },
 "nbformat": 4,
 "nbformat_minor": 5
}
