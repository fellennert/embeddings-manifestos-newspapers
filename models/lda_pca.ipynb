{
 "cells": [
  {
   "cell_type": "code",
   "execution_count": 22,
   "id": "b3611b6f",
   "metadata": {},
   "outputs": [],
   "source": [
    "import pandas as pd\n",
    "import numpy as np\n",
    "from tqdm.auto import tqdm"
   ]
  },
  {
   "cell_type": "code",
   "execution_count": 23,
   "id": "880242e4",
   "metadata": {},
   "outputs": [],
   "source": [
    "import gensim"
   ]
  },
  {
   "cell_type": "code",
   "execution_count": 24,
   "id": "da69a897",
   "metadata": {},
   "outputs": [],
   "source": [
    "# Plotting tools\n",
    "import pyLDAvis\n",
    "import pyLDAvis.gensim_models  # don't skip this\n",
    "import matplotlib.pyplot as plt\n"
   ]
  },
  {
   "cell_type": "code",
   "execution_count": 25,
   "id": "4528b0ca",
   "metadata": {},
   "outputs": [],
   "source": [
    "import plotly.express as px\n",
    "import plotly.graph_objects as go"
   ]
  },
  {
   "cell_type": "code",
   "execution_count": 26,
   "id": "3e78cc1d",
   "metadata": {},
   "outputs": [],
   "source": [
    "import warnings\n",
    "warnings.filterwarnings(\"ignore\")"
   ]
  },
  {
   "cell_type": "code",
   "execution_count": 27,
   "id": "23699af1",
   "metadata": {},
   "outputs": [],
   "source": [
    "tqdm.pandas()"
   ]
  },
  {
   "cell_type": "markdown",
   "id": "d4355972",
   "metadata": {},
   "source": [
    "# Loading Data"
   ]
  },
  {
   "cell_type": "code",
   "execution_count": 28,
   "id": "3eec74de",
   "metadata": {},
   "outputs": [],
   "source": [
    "df = pd.read_csv('./manifesto_articles_preprocessed.csv')"
   ]
  },
  {
   "cell_type": "code",
   "execution_count": 29,
   "id": "275a26d0",
   "metadata": {},
   "outputs": [],
   "source": [
    "df = df.rename({'index':'id_fichier'},axis=1)"
   ]
  },
  {
   "cell_type": "code",
   "execution_count": 30,
   "id": "3fc768cb",
   "metadata": {},
   "outputs": [
    {
     "data": {
      "application/vnd.jupyter.widget-view+json": {
       "model_id": "10a56d1f160b4f38be17e62efda1bb57",
       "version_major": 2,
       "version_minor": 0
      },
      "text/plain": [
       "  0%|          | 0/69935 [00:00<?, ?it/s]"
      ]
     },
     "metadata": {},
     "output_type": "display_data"
    }
   ],
   "source": [
    "df.words = df.words.progress_apply(eval)"
   ]
  },
  {
   "cell_type": "code",
   "execution_count": 31,
   "id": "6bd63315",
   "metadata": {},
   "outputs": [
    {
     "data": {
      "application/vnd.jupyter.widget-view+json": {
       "model_id": "3df08a53419c4e218ee613be81311f49",
       "version_major": 2,
       "version_minor": 0
      },
      "text/plain": [
       "  0%|          | 0/69935 [00:00<?, ?it/s]"
      ]
     },
     "metadata": {},
     "output_type": "display_data"
    }
   ],
   "source": [
    "df.words = df.words.progress_apply(lambda x: [a for a in x if a not in [\"→\",\"”\",\"“\"]])"
   ]
  },
  {
   "cell_type": "code",
   "execution_count": 32,
   "id": "0fda1391",
   "metadata": {},
   "outputs": [],
   "source": [
    "manifestos = df[~df.partyname.isin([\"Le Monde\", \"Le Figaro\"])].reset_index(drop=True)"
   ]
  },
  {
   "cell_type": "code",
   "execution_count": 33,
   "id": "c717f2b8",
   "metadata": {},
   "outputs": [],
   "source": [
    "articles = df[df.partyname.isin([\"Le Monde\", \"Le Figaro\"])].reset_index(drop=True)"
   ]
  },
  {
   "cell_type": "code",
   "execution_count": 34,
   "id": "6cad8b6e",
   "metadata": {},
   "outputs": [],
   "source": [
    "manifestos = manifestos.reset_index()"
   ]
  },
  {
   "cell_type": "code",
   "execution_count": 35,
   "id": "81403a2d",
   "metadata": {},
   "outputs": [],
   "source": [
    "manifestos = manifestos.rename({'index':'id_manifesto'},axis=1)"
   ]
  },
  {
   "cell_type": "code",
   "execution_count": 36,
   "id": "f1f0d751",
   "metadata": {},
   "outputs": [],
   "source": [
    "dict_party = {'Socialist Party':'PS',\n",
    "              'Europe Ecology - The Greens':'EELV',\n",
    "              'The Republicans':'RPR/UMP/LR',\n",
    "              'National Front':'FN',\n",
    "              'Democratic Movement':'MoDem/EM',\n",
    "              'Republic Onwards!':'MoDem/EM',\n",
    "              'Left Front':'PCF/PG/LFI',\n",
    "              'Indomitable France':'PCF/PG/LFI',\n",
    "              'French Communist Party':'PCF/PG/LFI'}"
   ]
  },
  {
   "cell_type": "code",
   "execution_count": 37,
   "id": "ba58f4c2",
   "metadata": {},
   "outputs": [],
   "source": [
    "manifestos.partyname = manifestos.partyname.apply(lambda x: dict_party[x])"
   ]
  },
  {
   "cell_type": "code",
   "execution_count": 38,
   "id": "21058684",
   "metadata": {},
   "outputs": [],
   "source": [
    "articles = articles.reset_index()"
   ]
  },
  {
   "cell_type": "code",
   "execution_count": 39,
   "id": "0e506376",
   "metadata": {},
   "outputs": [],
   "source": [
    "articles = articles.rename({'index':'id_article'},axis=1)"
   ]
  },
  {
   "cell_type": "markdown",
   "id": "d30ef477",
   "metadata": {},
   "source": [
    "# Processing"
   ]
  },
  {
   "cell_type": "markdown",
   "id": "fa381dac",
   "metadata": {},
   "source": [
    "Splitting each manifesto to 100-token-documents"
   ]
  },
  {
   "cell_type": "code",
   "execution_count": 40,
   "id": "7546d4da",
   "metadata": {},
   "outputs": [],
   "source": [
    "manifestos['chunks'] = manifestos.apply(lambda row: [[row['id_manifesto'], row['words'][x:x+100]] for x in range(0, len(row['words']), 100)], axis=1)"
   ]
  },
  {
   "cell_type": "code",
   "execution_count": 41,
   "id": "2de62634",
   "metadata": {},
   "outputs": [
    {
     "data": {
      "application/vnd.jupyter.widget-view+json": {
       "model_id": "ad0f3e0029754f0db414cdaa0f4cd575",
       "version_major": 2,
       "version_minor": 0
      },
      "text/plain": [
       "  0%|          | 0/69912 [00:00<?, ?it/s]"
      ]
     },
     "metadata": {},
     "output_type": "display_data"
    }
   ],
   "source": [
    "articles['chunks'] = articles.progress_apply(lambda row: [[row['id_article'], row['words'][x:x+100]] for x in range(0, len(row['words']), 100)], axis=1)"
   ]
  },
  {
   "cell_type": "code",
   "execution_count": 98,
   "id": "e7514f9b",
   "metadata": {},
   "outputs": [],
   "source": [
    "chunks_manifesto = pd.DataFrame([a for b in manifestos.chunks for a in b])\n",
    "chunks_manifesto.columns = ['id_manifesto','words']"
   ]
  },
  {
   "cell_type": "code",
   "execution_count": 99,
   "id": "f0d3dd40",
   "metadata": {},
   "outputs": [],
   "source": [
    "chunks_articles = pd.DataFrame([a for b in articles.chunks for a in b])\n",
    "chunks_articles.columns = ['id_article','words']"
   ]
  },
  {
   "cell_type": "markdown",
   "id": "2343fcf7",
   "metadata": {},
   "source": [
    "Creating bigrams"
   ]
  },
  {
   "cell_type": "code",
   "execution_count": 44,
   "id": "ff5a1bf3",
   "metadata": {},
   "outputs": [],
   "source": [
    "bigram = gensim.models.Phrases(chunked.words, min_count=5, threshold=100)"
   ]
  },
  {
   "cell_type": "markdown",
   "id": "b2810a6b",
   "metadata": {},
   "source": [
    "Splitting each manifesto to 100-token-documents"
   ]
  },
  {
   "cell_type": "code",
   "execution_count": 45,
   "id": "15152b1d",
   "metadata": {},
   "outputs": [],
   "source": [
    "bigram_mod = gensim.models.phrases.Phraser(bigram)"
   ]
  },
  {
   "cell_type": "code",
   "execution_count": 100,
   "id": "4343a85b",
   "metadata": {},
   "outputs": [],
   "source": [
    "chunks_manifesto['bigrams'] = chunks_manifesto.words.apply(lambda x: bigram_mod[x])"
   ]
  },
  {
   "cell_type": "code",
   "execution_count": 101,
   "id": "a06fe5fd",
   "metadata": {},
   "outputs": [
    {
     "data": {
      "application/vnd.jupyter.widget-view+json": {
       "model_id": "c214f044f80f4aa59a182e51c261c1b6",
       "version_major": 2,
       "version_minor": 0
      },
      "text/plain": [
       "  0%|          | 0/153836 [00:00<?, ?it/s]"
      ]
     },
     "metadata": {},
     "output_type": "display_data"
    }
   ],
   "source": [
    "chunks_articles['bigrams'] = chunks_articles.words.progress_apply(lambda x: bigram_mod[x])"
   ]
  },
  {
   "cell_type": "markdown",
   "id": "5c2c7dcd",
   "metadata": {},
   "source": [
    "# LDA"
   ]
  },
  {
   "cell_type": "code",
   "execution_count": 102,
   "id": "a8a1c262",
   "metadata": {},
   "outputs": [],
   "source": [
    "dictionary = gensim.corpora.Dictionary(chunks_manifesto.bigrams)"
   ]
  },
  {
   "cell_type": "code",
   "execution_count": 103,
   "id": "0c02956f",
   "metadata": {},
   "outputs": [
    {
     "data": {
      "text/plain": [
       "9776"
      ]
     },
     "execution_count": 103,
     "metadata": {},
     "output_type": "execute_result"
    }
   ],
   "source": [
    "len(dictionary)"
   ]
  },
  {
   "cell_type": "code",
   "execution_count": 104,
   "id": "beffba9c",
   "metadata": {
    "scrolled": true
   },
   "outputs": [
    {
     "data": {
      "text/plain": [
       "3205"
      ]
     },
     "execution_count": 104,
     "metadata": {},
     "output_type": "execute_result"
    }
   ],
   "source": [
    "dictionary.filter_extremes(no_above=0.5)\n",
    "len(dictionary)"
   ]
  },
  {
   "cell_type": "code",
   "execution_count": 105,
   "id": "a4a91248",
   "metadata": {},
   "outputs": [],
   "source": [
    "chunks_manifesto['corpus'] = chunks_manifesto.bigrams.apply(dictionary.doc2bow)"
   ]
  },
  {
   "cell_type": "code",
   "execution_count": 106,
   "id": "d0ac32d6",
   "metadata": {},
   "outputs": [
    {
     "data": {
      "application/vnd.jupyter.widget-view+json": {
       "model_id": "c628ab60e9ff47fb970952c7fcf6b587",
       "version_major": 2,
       "version_minor": 0
      },
      "text/plain": [
       "  0%|          | 0/153836 [00:00<?, ?it/s]"
      ]
     },
     "metadata": {},
     "output_type": "display_data"
    }
   ],
   "source": [
    "chunks_articles['corpus'] = chunks_articles.bigrams.progress_apply(dictionary.doc2bow)"
   ]
  },
  {
   "cell_type": "code",
   "execution_count": 120,
   "id": "c9d848fc",
   "metadata": {},
   "outputs": [],
   "source": [
    "def compute_coherence_values(start, limit, step):\n",
    "    coherence_values = []\n",
    "    model_list = []\n",
    "    for num_topics in tqdm(range(start, limit + step, step)):\n",
    "        model = gensim.models.ldamodel.LdaModel(corpus=chunked.corpus,\n",
    "                                                id2word=dictionary,\n",
    "                                                chunksize=100,\n",
    "                                                alpha='auto',\n",
    "                                                eta='auto',\n",
    "                                                iterations=400,\n",
    "                                                num_topics=num_topics,\n",
    "                                                passes=20,\n",
    "                                                eval_every=None,\n",
    "                                                random_state=42,\n",
    "                                                minimum_probability=0)\n",
    "        model_list.append(model)\n",
    "        coherencemodel = gensim.models.CoherenceModel(model=model, texts=chunked.bigrams, dictionary=dictionary, coherence='c_v')\n",
    "        coherence_values.append(coherencemodel.get_coherence())\n",
    "\n",
    "    return model_list, coherence_values"
   ]
  },
  {
   "cell_type": "code",
   "execution_count": 54,
   "id": "729f44a4",
   "metadata": {},
   "outputs": [
    {
     "data": {
      "application/vnd.jupyter.widget-view+json": {
       "model_id": "",
       "version_major": 2,
       "version_minor": 0
      },
      "text/plain": [
       "  0%|          | 0/8 [00:00<?, ?it/s]"
      ]
     },
     "metadata": {},
     "output_type": "display_data"
    }
   ],
   "source": [
    "model_list, coherence_values = compute_coherence_values(start=12, limit=26, step=2)"
   ]
  },
  {
   "cell_type": "code",
   "execution_count": 60,
   "id": "af511ee7",
   "metadata": {
    "scrolled": true
   },
   "outputs": [
    {
     "data": {
      "application/vnd.plotly.v1+json": {
       "config": {
        "plotlyServerURL": "https://plot.ly"
       },
       "data": [
        {
         "hovertemplate": "x=%{x}<br>y=%{y}<extra></extra>",
         "legendgroup": "",
         "line": {
          "color": "#636efa",
          "dash": "solid"
         },
         "marker": {
          "symbol": "circle"
         },
         "mode": "lines",
         "name": "",
         "orientation": "v",
         "showlegend": false,
         "type": "scatter",
         "x": [
          12,
          14,
          16,
          18,
          20,
          22,
          24,
          26
         ],
         "xaxis": "x",
         "y": [
          0.4337477125811225,
          0.4458793459725823,
          0.477047639167827,
          0.4459300585005565,
          0.49038449604083156,
          0.4608623579399778,
          0.4592131003733842,
          0.4814649006894095
         ],
         "yaxis": "y"
        }
       ],
       "layout": {
        "legend": {
         "tracegroupgap": 0
        },
        "margin": {
         "t": 60
        },
        "template": {
         "data": {
          "bar": [
           {
            "error_x": {
             "color": "#2a3f5f"
            },
            "error_y": {
             "color": "#2a3f5f"
            },
            "marker": {
             "line": {
              "color": "#E5ECF6",
              "width": 0.5
             },
             "pattern": {
              "fillmode": "overlay",
              "size": 10,
              "solidity": 0.2
             }
            },
            "type": "bar"
           }
          ],
          "barpolar": [
           {
            "marker": {
             "line": {
              "color": "#E5ECF6",
              "width": 0.5
             },
             "pattern": {
              "fillmode": "overlay",
              "size": 10,
              "solidity": 0.2
             }
            },
            "type": "barpolar"
           }
          ],
          "carpet": [
           {
            "aaxis": {
             "endlinecolor": "#2a3f5f",
             "gridcolor": "white",
             "linecolor": "white",
             "minorgridcolor": "white",
             "startlinecolor": "#2a3f5f"
            },
            "baxis": {
             "endlinecolor": "#2a3f5f",
             "gridcolor": "white",
             "linecolor": "white",
             "minorgridcolor": "white",
             "startlinecolor": "#2a3f5f"
            },
            "type": "carpet"
           }
          ],
          "choropleth": [
           {
            "colorbar": {
             "outlinewidth": 0,
             "ticks": ""
            },
            "type": "choropleth"
           }
          ],
          "contour": [
           {
            "colorbar": {
             "outlinewidth": 0,
             "ticks": ""
            },
            "colorscale": [
             [
              0,
              "#0d0887"
             ],
             [
              0.1111111111111111,
              "#46039f"
             ],
             [
              0.2222222222222222,
              "#7201a8"
             ],
             [
              0.3333333333333333,
              "#9c179e"
             ],
             [
              0.4444444444444444,
              "#bd3786"
             ],
             [
              0.5555555555555556,
              "#d8576b"
             ],
             [
              0.6666666666666666,
              "#ed7953"
             ],
             [
              0.7777777777777778,
              "#fb9f3a"
             ],
             [
              0.8888888888888888,
              "#fdca26"
             ],
             [
              1,
              "#f0f921"
             ]
            ],
            "type": "contour"
           }
          ],
          "contourcarpet": [
           {
            "colorbar": {
             "outlinewidth": 0,
             "ticks": ""
            },
            "type": "contourcarpet"
           }
          ],
          "heatmap": [
           {
            "colorbar": {
             "outlinewidth": 0,
             "ticks": ""
            },
            "colorscale": [
             [
              0,
              "#0d0887"
             ],
             [
              0.1111111111111111,
              "#46039f"
             ],
             [
              0.2222222222222222,
              "#7201a8"
             ],
             [
              0.3333333333333333,
              "#9c179e"
             ],
             [
              0.4444444444444444,
              "#bd3786"
             ],
             [
              0.5555555555555556,
              "#d8576b"
             ],
             [
              0.6666666666666666,
              "#ed7953"
             ],
             [
              0.7777777777777778,
              "#fb9f3a"
             ],
             [
              0.8888888888888888,
              "#fdca26"
             ],
             [
              1,
              "#f0f921"
             ]
            ],
            "type": "heatmap"
           }
          ],
          "heatmapgl": [
           {
            "colorbar": {
             "outlinewidth": 0,
             "ticks": ""
            },
            "colorscale": [
             [
              0,
              "#0d0887"
             ],
             [
              0.1111111111111111,
              "#46039f"
             ],
             [
              0.2222222222222222,
              "#7201a8"
             ],
             [
              0.3333333333333333,
              "#9c179e"
             ],
             [
              0.4444444444444444,
              "#bd3786"
             ],
             [
              0.5555555555555556,
              "#d8576b"
             ],
             [
              0.6666666666666666,
              "#ed7953"
             ],
             [
              0.7777777777777778,
              "#fb9f3a"
             ],
             [
              0.8888888888888888,
              "#fdca26"
             ],
             [
              1,
              "#f0f921"
             ]
            ],
            "type": "heatmapgl"
           }
          ],
          "histogram": [
           {
            "marker": {
             "pattern": {
              "fillmode": "overlay",
              "size": 10,
              "solidity": 0.2
             }
            },
            "type": "histogram"
           }
          ],
          "histogram2d": [
           {
            "colorbar": {
             "outlinewidth": 0,
             "ticks": ""
            },
            "colorscale": [
             [
              0,
              "#0d0887"
             ],
             [
              0.1111111111111111,
              "#46039f"
             ],
             [
              0.2222222222222222,
              "#7201a8"
             ],
             [
              0.3333333333333333,
              "#9c179e"
             ],
             [
              0.4444444444444444,
              "#bd3786"
             ],
             [
              0.5555555555555556,
              "#d8576b"
             ],
             [
              0.6666666666666666,
              "#ed7953"
             ],
             [
              0.7777777777777778,
              "#fb9f3a"
             ],
             [
              0.8888888888888888,
              "#fdca26"
             ],
             [
              1,
              "#f0f921"
             ]
            ],
            "type": "histogram2d"
           }
          ],
          "histogram2dcontour": [
           {
            "colorbar": {
             "outlinewidth": 0,
             "ticks": ""
            },
            "colorscale": [
             [
              0,
              "#0d0887"
             ],
             [
              0.1111111111111111,
              "#46039f"
             ],
             [
              0.2222222222222222,
              "#7201a8"
             ],
             [
              0.3333333333333333,
              "#9c179e"
             ],
             [
              0.4444444444444444,
              "#bd3786"
             ],
             [
              0.5555555555555556,
              "#d8576b"
             ],
             [
              0.6666666666666666,
              "#ed7953"
             ],
             [
              0.7777777777777778,
              "#fb9f3a"
             ],
             [
              0.8888888888888888,
              "#fdca26"
             ],
             [
              1,
              "#f0f921"
             ]
            ],
            "type": "histogram2dcontour"
           }
          ],
          "mesh3d": [
           {
            "colorbar": {
             "outlinewidth": 0,
             "ticks": ""
            },
            "type": "mesh3d"
           }
          ],
          "parcoords": [
           {
            "line": {
             "colorbar": {
              "outlinewidth": 0,
              "ticks": ""
             }
            },
            "type": "parcoords"
           }
          ],
          "pie": [
           {
            "automargin": true,
            "type": "pie"
           }
          ],
          "scatter": [
           {
            "marker": {
             "colorbar": {
              "outlinewidth": 0,
              "ticks": ""
             }
            },
            "type": "scatter"
           }
          ],
          "scatter3d": [
           {
            "line": {
             "colorbar": {
              "outlinewidth": 0,
              "ticks": ""
             }
            },
            "marker": {
             "colorbar": {
              "outlinewidth": 0,
              "ticks": ""
             }
            },
            "type": "scatter3d"
           }
          ],
          "scattercarpet": [
           {
            "marker": {
             "colorbar": {
              "outlinewidth": 0,
              "ticks": ""
             }
            },
            "type": "scattercarpet"
           }
          ],
          "scattergeo": [
           {
            "marker": {
             "colorbar": {
              "outlinewidth": 0,
              "ticks": ""
             }
            },
            "type": "scattergeo"
           }
          ],
          "scattergl": [
           {
            "marker": {
             "colorbar": {
              "outlinewidth": 0,
              "ticks": ""
             }
            },
            "type": "scattergl"
           }
          ],
          "scattermapbox": [
           {
            "marker": {
             "colorbar": {
              "outlinewidth": 0,
              "ticks": ""
             }
            },
            "type": "scattermapbox"
           }
          ],
          "scatterpolar": [
           {
            "marker": {
             "colorbar": {
              "outlinewidth": 0,
              "ticks": ""
             }
            },
            "type": "scatterpolar"
           }
          ],
          "scatterpolargl": [
           {
            "marker": {
             "colorbar": {
              "outlinewidth": 0,
              "ticks": ""
             }
            },
            "type": "scatterpolargl"
           }
          ],
          "scatterternary": [
           {
            "marker": {
             "colorbar": {
              "outlinewidth": 0,
              "ticks": ""
             }
            },
            "type": "scatterternary"
           }
          ],
          "surface": [
           {
            "colorbar": {
             "outlinewidth": 0,
             "ticks": ""
            },
            "colorscale": [
             [
              0,
              "#0d0887"
             ],
             [
              0.1111111111111111,
              "#46039f"
             ],
             [
              0.2222222222222222,
              "#7201a8"
             ],
             [
              0.3333333333333333,
              "#9c179e"
             ],
             [
              0.4444444444444444,
              "#bd3786"
             ],
             [
              0.5555555555555556,
              "#d8576b"
             ],
             [
              0.6666666666666666,
              "#ed7953"
             ],
             [
              0.7777777777777778,
              "#fb9f3a"
             ],
             [
              0.8888888888888888,
              "#fdca26"
             ],
             [
              1,
              "#f0f921"
             ]
            ],
            "type": "surface"
           }
          ],
          "table": [
           {
            "cells": {
             "fill": {
              "color": "#EBF0F8"
             },
             "line": {
              "color": "white"
             }
            },
            "header": {
             "fill": {
              "color": "#C8D4E3"
             },
             "line": {
              "color": "white"
             }
            },
            "type": "table"
           }
          ]
         },
         "layout": {
          "annotationdefaults": {
           "arrowcolor": "#2a3f5f",
           "arrowhead": 0,
           "arrowwidth": 1
          },
          "autotypenumbers": "strict",
          "coloraxis": {
           "colorbar": {
            "outlinewidth": 0,
            "ticks": ""
           }
          },
          "colorscale": {
           "diverging": [
            [
             0,
             "#8e0152"
            ],
            [
             0.1,
             "#c51b7d"
            ],
            [
             0.2,
             "#de77ae"
            ],
            [
             0.3,
             "#f1b6da"
            ],
            [
             0.4,
             "#fde0ef"
            ],
            [
             0.5,
             "#f7f7f7"
            ],
            [
             0.6,
             "#e6f5d0"
            ],
            [
             0.7,
             "#b8e186"
            ],
            [
             0.8,
             "#7fbc41"
            ],
            [
             0.9,
             "#4d9221"
            ],
            [
             1,
             "#276419"
            ]
           ],
           "sequential": [
            [
             0,
             "#0d0887"
            ],
            [
             0.1111111111111111,
             "#46039f"
            ],
            [
             0.2222222222222222,
             "#7201a8"
            ],
            [
             0.3333333333333333,
             "#9c179e"
            ],
            [
             0.4444444444444444,
             "#bd3786"
            ],
            [
             0.5555555555555556,
             "#d8576b"
            ],
            [
             0.6666666666666666,
             "#ed7953"
            ],
            [
             0.7777777777777778,
             "#fb9f3a"
            ],
            [
             0.8888888888888888,
             "#fdca26"
            ],
            [
             1,
             "#f0f921"
            ]
           ],
           "sequentialminus": [
            [
             0,
             "#0d0887"
            ],
            [
             0.1111111111111111,
             "#46039f"
            ],
            [
             0.2222222222222222,
             "#7201a8"
            ],
            [
             0.3333333333333333,
             "#9c179e"
            ],
            [
             0.4444444444444444,
             "#bd3786"
            ],
            [
             0.5555555555555556,
             "#d8576b"
            ],
            [
             0.6666666666666666,
             "#ed7953"
            ],
            [
             0.7777777777777778,
             "#fb9f3a"
            ],
            [
             0.8888888888888888,
             "#fdca26"
            ],
            [
             1,
             "#f0f921"
            ]
           ]
          },
          "colorway": [
           "#636efa",
           "#EF553B",
           "#00cc96",
           "#ab63fa",
           "#FFA15A",
           "#19d3f3",
           "#FF6692",
           "#B6E880",
           "#FF97FF",
           "#FECB52"
          ],
          "font": {
           "color": "#2a3f5f"
          },
          "geo": {
           "bgcolor": "white",
           "lakecolor": "white",
           "landcolor": "#E5ECF6",
           "showlakes": true,
           "showland": true,
           "subunitcolor": "white"
          },
          "hoverlabel": {
           "align": "left"
          },
          "hovermode": "closest",
          "mapbox": {
           "style": "light"
          },
          "paper_bgcolor": "white",
          "plot_bgcolor": "#E5ECF6",
          "polar": {
           "angularaxis": {
            "gridcolor": "white",
            "linecolor": "white",
            "ticks": ""
           },
           "bgcolor": "#E5ECF6",
           "radialaxis": {
            "gridcolor": "white",
            "linecolor": "white",
            "ticks": ""
           }
          },
          "scene": {
           "xaxis": {
            "backgroundcolor": "#E5ECF6",
            "gridcolor": "white",
            "gridwidth": 2,
            "linecolor": "white",
            "showbackground": true,
            "ticks": "",
            "zerolinecolor": "white"
           },
           "yaxis": {
            "backgroundcolor": "#E5ECF6",
            "gridcolor": "white",
            "gridwidth": 2,
            "linecolor": "white",
            "showbackground": true,
            "ticks": "",
            "zerolinecolor": "white"
           },
           "zaxis": {
            "backgroundcolor": "#E5ECF6",
            "gridcolor": "white",
            "gridwidth": 2,
            "linecolor": "white",
            "showbackground": true,
            "ticks": "",
            "zerolinecolor": "white"
           }
          },
          "shapedefaults": {
           "line": {
            "color": "#2a3f5f"
           }
          },
          "ternary": {
           "aaxis": {
            "gridcolor": "white",
            "linecolor": "white",
            "ticks": ""
           },
           "baxis": {
            "gridcolor": "white",
            "linecolor": "white",
            "ticks": ""
           },
           "bgcolor": "#E5ECF6",
           "caxis": {
            "gridcolor": "white",
            "linecolor": "white",
            "ticks": ""
           }
          },
          "title": {
           "x": 0.05
          },
          "xaxis": {
           "automargin": true,
           "gridcolor": "white",
           "linecolor": "white",
           "ticks": "",
           "title": {
            "standoff": 15
           },
           "zerolinecolor": "white",
           "zerolinewidth": 2
          },
          "yaxis": {
           "automargin": true,
           "gridcolor": "white",
           "linecolor": "white",
           "ticks": "",
           "title": {
            "standoff": 15
           },
           "zerolinecolor": "white",
           "zerolinewidth": 2
          }
         }
        },
        "xaxis": {
         "anchor": "y",
         "domain": [
          0,
          1
         ],
         "title": {
          "text": "x"
         }
        },
        "yaxis": {
         "anchor": "x",
         "domain": [
          0,
          1
         ],
         "title": {
          "text": "y"
         }
        }
       }
      },
      "text/html": [
       "<div>                            <div id=\"fbf9986f-19ca-4d47-a1cf-a7e0b97c95c9\" class=\"plotly-graph-div\" style=\"height:525px; width:100%;\"></div>            <script type=\"text/javascript\">                require([\"plotly\"], function(Plotly) {                    window.PLOTLYENV=window.PLOTLYENV || {};                                    if (document.getElementById(\"fbf9986f-19ca-4d47-a1cf-a7e0b97c95c9\")) {                    Plotly.newPlot(                        \"fbf9986f-19ca-4d47-a1cf-a7e0b97c95c9\",                        [{\"hovertemplate\":\"x=%{x}<br>y=%{y}<extra></extra>\",\"legendgroup\":\"\",\"line\":{\"color\":\"#636efa\",\"dash\":\"solid\"},\"marker\":{\"symbol\":\"circle\"},\"mode\":\"lines\",\"name\":\"\",\"orientation\":\"v\",\"showlegend\":false,\"type\":\"scatter\",\"x\":[12,14,16,18,20,22,24,26],\"xaxis\":\"x\",\"y\":[0.4337477125811225,0.4458793459725823,0.477047639167827,0.4459300585005565,0.49038449604083156,0.4608623579399778,0.4592131003733842,0.4814649006894095],\"yaxis\":\"y\"}],                        {\"legend\":{\"tracegroupgap\":0},\"margin\":{\"t\":60},\"template\":{\"data\":{\"bar\":[{\"error_x\":{\"color\":\"#2a3f5f\"},\"error_y\":{\"color\":\"#2a3f5f\"},\"marker\":{\"line\":{\"color\":\"#E5ECF6\",\"width\":0.5},\"pattern\":{\"fillmode\":\"overlay\",\"size\":10,\"solidity\":0.2}},\"type\":\"bar\"}],\"barpolar\":[{\"marker\":{\"line\":{\"color\":\"#E5ECF6\",\"width\":0.5},\"pattern\":{\"fillmode\":\"overlay\",\"size\":10,\"solidity\":0.2}},\"type\":\"barpolar\"}],\"carpet\":[{\"aaxis\":{\"endlinecolor\":\"#2a3f5f\",\"gridcolor\":\"white\",\"linecolor\":\"white\",\"minorgridcolor\":\"white\",\"startlinecolor\":\"#2a3f5f\"},\"baxis\":{\"endlinecolor\":\"#2a3f5f\",\"gridcolor\":\"white\",\"linecolor\":\"white\",\"minorgridcolor\":\"white\",\"startlinecolor\":\"#2a3f5f\"},\"type\":\"carpet\"}],\"choropleth\":[{\"colorbar\":{\"outlinewidth\":0,\"ticks\":\"\"},\"type\":\"choropleth\"}],\"contour\":[{\"colorbar\":{\"outlinewidth\":0,\"ticks\":\"\"},\"colorscale\":[[0.0,\"#0d0887\"],[0.1111111111111111,\"#46039f\"],[0.2222222222222222,\"#7201a8\"],[0.3333333333333333,\"#9c179e\"],[0.4444444444444444,\"#bd3786\"],[0.5555555555555556,\"#d8576b\"],[0.6666666666666666,\"#ed7953\"],[0.7777777777777778,\"#fb9f3a\"],[0.8888888888888888,\"#fdca26\"],[1.0,\"#f0f921\"]],\"type\":\"contour\"}],\"contourcarpet\":[{\"colorbar\":{\"outlinewidth\":0,\"ticks\":\"\"},\"type\":\"contourcarpet\"}],\"heatmap\":[{\"colorbar\":{\"outlinewidth\":0,\"ticks\":\"\"},\"colorscale\":[[0.0,\"#0d0887\"],[0.1111111111111111,\"#46039f\"],[0.2222222222222222,\"#7201a8\"],[0.3333333333333333,\"#9c179e\"],[0.4444444444444444,\"#bd3786\"],[0.5555555555555556,\"#d8576b\"],[0.6666666666666666,\"#ed7953\"],[0.7777777777777778,\"#fb9f3a\"],[0.8888888888888888,\"#fdca26\"],[1.0,\"#f0f921\"]],\"type\":\"heatmap\"}],\"heatmapgl\":[{\"colorbar\":{\"outlinewidth\":0,\"ticks\":\"\"},\"colorscale\":[[0.0,\"#0d0887\"],[0.1111111111111111,\"#46039f\"],[0.2222222222222222,\"#7201a8\"],[0.3333333333333333,\"#9c179e\"],[0.4444444444444444,\"#bd3786\"],[0.5555555555555556,\"#d8576b\"],[0.6666666666666666,\"#ed7953\"],[0.7777777777777778,\"#fb9f3a\"],[0.8888888888888888,\"#fdca26\"],[1.0,\"#f0f921\"]],\"type\":\"heatmapgl\"}],\"histogram\":[{\"marker\":{\"pattern\":{\"fillmode\":\"overlay\",\"size\":10,\"solidity\":0.2}},\"type\":\"histogram\"}],\"histogram2d\":[{\"colorbar\":{\"outlinewidth\":0,\"ticks\":\"\"},\"colorscale\":[[0.0,\"#0d0887\"],[0.1111111111111111,\"#46039f\"],[0.2222222222222222,\"#7201a8\"],[0.3333333333333333,\"#9c179e\"],[0.4444444444444444,\"#bd3786\"],[0.5555555555555556,\"#d8576b\"],[0.6666666666666666,\"#ed7953\"],[0.7777777777777778,\"#fb9f3a\"],[0.8888888888888888,\"#fdca26\"],[1.0,\"#f0f921\"]],\"type\":\"histogram2d\"}],\"histogram2dcontour\":[{\"colorbar\":{\"outlinewidth\":0,\"ticks\":\"\"},\"colorscale\":[[0.0,\"#0d0887\"],[0.1111111111111111,\"#46039f\"],[0.2222222222222222,\"#7201a8\"],[0.3333333333333333,\"#9c179e\"],[0.4444444444444444,\"#bd3786\"],[0.5555555555555556,\"#d8576b\"],[0.6666666666666666,\"#ed7953\"],[0.7777777777777778,\"#fb9f3a\"],[0.8888888888888888,\"#fdca26\"],[1.0,\"#f0f921\"]],\"type\":\"histogram2dcontour\"}],\"mesh3d\":[{\"colorbar\":{\"outlinewidth\":0,\"ticks\":\"\"},\"type\":\"mesh3d\"}],\"parcoords\":[{\"line\":{\"colorbar\":{\"outlinewidth\":0,\"ticks\":\"\"}},\"type\":\"parcoords\"}],\"pie\":[{\"automargin\":true,\"type\":\"pie\"}],\"scatter\":[{\"marker\":{\"colorbar\":{\"outlinewidth\":0,\"ticks\":\"\"}},\"type\":\"scatter\"}],\"scatter3d\":[{\"line\":{\"colorbar\":{\"outlinewidth\":0,\"ticks\":\"\"}},\"marker\":{\"colorbar\":{\"outlinewidth\":0,\"ticks\":\"\"}},\"type\":\"scatter3d\"}],\"scattercarpet\":[{\"marker\":{\"colorbar\":{\"outlinewidth\":0,\"ticks\":\"\"}},\"type\":\"scattercarpet\"}],\"scattergeo\":[{\"marker\":{\"colorbar\":{\"outlinewidth\":0,\"ticks\":\"\"}},\"type\":\"scattergeo\"}],\"scattergl\":[{\"marker\":{\"colorbar\":{\"outlinewidth\":0,\"ticks\":\"\"}},\"type\":\"scattergl\"}],\"scattermapbox\":[{\"marker\":{\"colorbar\":{\"outlinewidth\":0,\"ticks\":\"\"}},\"type\":\"scattermapbox\"}],\"scatterpolar\":[{\"marker\":{\"colorbar\":{\"outlinewidth\":0,\"ticks\":\"\"}},\"type\":\"scatterpolar\"}],\"scatterpolargl\":[{\"marker\":{\"colorbar\":{\"outlinewidth\":0,\"ticks\":\"\"}},\"type\":\"scatterpolargl\"}],\"scatterternary\":[{\"marker\":{\"colorbar\":{\"outlinewidth\":0,\"ticks\":\"\"}},\"type\":\"scatterternary\"}],\"surface\":[{\"colorbar\":{\"outlinewidth\":0,\"ticks\":\"\"},\"colorscale\":[[0.0,\"#0d0887\"],[0.1111111111111111,\"#46039f\"],[0.2222222222222222,\"#7201a8\"],[0.3333333333333333,\"#9c179e\"],[0.4444444444444444,\"#bd3786\"],[0.5555555555555556,\"#d8576b\"],[0.6666666666666666,\"#ed7953\"],[0.7777777777777778,\"#fb9f3a\"],[0.8888888888888888,\"#fdca26\"],[1.0,\"#f0f921\"]],\"type\":\"surface\"}],\"table\":[{\"cells\":{\"fill\":{\"color\":\"#EBF0F8\"},\"line\":{\"color\":\"white\"}},\"header\":{\"fill\":{\"color\":\"#C8D4E3\"},\"line\":{\"color\":\"white\"}},\"type\":\"table\"}]},\"layout\":{\"annotationdefaults\":{\"arrowcolor\":\"#2a3f5f\",\"arrowhead\":0,\"arrowwidth\":1},\"autotypenumbers\":\"strict\",\"coloraxis\":{\"colorbar\":{\"outlinewidth\":0,\"ticks\":\"\"}},\"colorscale\":{\"diverging\":[[0,\"#8e0152\"],[0.1,\"#c51b7d\"],[0.2,\"#de77ae\"],[0.3,\"#f1b6da\"],[0.4,\"#fde0ef\"],[0.5,\"#f7f7f7\"],[0.6,\"#e6f5d0\"],[0.7,\"#b8e186\"],[0.8,\"#7fbc41\"],[0.9,\"#4d9221\"],[1,\"#276419\"]],\"sequential\":[[0.0,\"#0d0887\"],[0.1111111111111111,\"#46039f\"],[0.2222222222222222,\"#7201a8\"],[0.3333333333333333,\"#9c179e\"],[0.4444444444444444,\"#bd3786\"],[0.5555555555555556,\"#d8576b\"],[0.6666666666666666,\"#ed7953\"],[0.7777777777777778,\"#fb9f3a\"],[0.8888888888888888,\"#fdca26\"],[1.0,\"#f0f921\"]],\"sequentialminus\":[[0.0,\"#0d0887\"],[0.1111111111111111,\"#46039f\"],[0.2222222222222222,\"#7201a8\"],[0.3333333333333333,\"#9c179e\"],[0.4444444444444444,\"#bd3786\"],[0.5555555555555556,\"#d8576b\"],[0.6666666666666666,\"#ed7953\"],[0.7777777777777778,\"#fb9f3a\"],[0.8888888888888888,\"#fdca26\"],[1.0,\"#f0f921\"]]},\"colorway\":[\"#636efa\",\"#EF553B\",\"#00cc96\",\"#ab63fa\",\"#FFA15A\",\"#19d3f3\",\"#FF6692\",\"#B6E880\",\"#FF97FF\",\"#FECB52\"],\"font\":{\"color\":\"#2a3f5f\"},\"geo\":{\"bgcolor\":\"white\",\"lakecolor\":\"white\",\"landcolor\":\"#E5ECF6\",\"showlakes\":true,\"showland\":true,\"subunitcolor\":\"white\"},\"hoverlabel\":{\"align\":\"left\"},\"hovermode\":\"closest\",\"mapbox\":{\"style\":\"light\"},\"paper_bgcolor\":\"white\",\"plot_bgcolor\":\"#E5ECF6\",\"polar\":{\"angularaxis\":{\"gridcolor\":\"white\",\"linecolor\":\"white\",\"ticks\":\"\"},\"bgcolor\":\"#E5ECF6\",\"radialaxis\":{\"gridcolor\":\"white\",\"linecolor\":\"white\",\"ticks\":\"\"}},\"scene\":{\"xaxis\":{\"backgroundcolor\":\"#E5ECF6\",\"gridcolor\":\"white\",\"gridwidth\":2,\"linecolor\":\"white\",\"showbackground\":true,\"ticks\":\"\",\"zerolinecolor\":\"white\"},\"yaxis\":{\"backgroundcolor\":\"#E5ECF6\",\"gridcolor\":\"white\",\"gridwidth\":2,\"linecolor\":\"white\",\"showbackground\":true,\"ticks\":\"\",\"zerolinecolor\":\"white\"},\"zaxis\":{\"backgroundcolor\":\"#E5ECF6\",\"gridcolor\":\"white\",\"gridwidth\":2,\"linecolor\":\"white\",\"showbackground\":true,\"ticks\":\"\",\"zerolinecolor\":\"white\"}},\"shapedefaults\":{\"line\":{\"color\":\"#2a3f5f\"}},\"ternary\":{\"aaxis\":{\"gridcolor\":\"white\",\"linecolor\":\"white\",\"ticks\":\"\"},\"baxis\":{\"gridcolor\":\"white\",\"linecolor\":\"white\",\"ticks\":\"\"},\"bgcolor\":\"#E5ECF6\",\"caxis\":{\"gridcolor\":\"white\",\"linecolor\":\"white\",\"ticks\":\"\"}},\"title\":{\"x\":0.05},\"xaxis\":{\"automargin\":true,\"gridcolor\":\"white\",\"linecolor\":\"white\",\"ticks\":\"\",\"title\":{\"standoff\":15},\"zerolinecolor\":\"white\",\"zerolinewidth\":2},\"yaxis\":{\"automargin\":true,\"gridcolor\":\"white\",\"linecolor\":\"white\",\"ticks\":\"\",\"title\":{\"standoff\":15},\"zerolinecolor\":\"white\",\"zerolinewidth\":2}}},\"xaxis\":{\"anchor\":\"y\",\"domain\":[0.0,1.0],\"title\":{\"text\":\"x\"}},\"yaxis\":{\"anchor\":\"x\",\"domain\":[0.0,1.0],\"title\":{\"text\":\"y\"}}},                        {\"responsive\": true}                    ).then(function(){\n",
       "                            \n",
       "var gd = document.getElementById('fbf9986f-19ca-4d47-a1cf-a7e0b97c95c9');\n",
       "var x = new MutationObserver(function (mutations, observer) {{\n",
       "        var display = window.getComputedStyle(gd).display;\n",
       "        if (!display || display === 'none') {{\n",
       "            console.log([gd, 'removed!']);\n",
       "            Plotly.purge(gd);\n",
       "            observer.disconnect();\n",
       "        }}\n",
       "}});\n",
       "\n",
       "// Listen for the removal of the full notebook cells\n",
       "var notebookContainer = gd.closest('#notebook-container');\n",
       "if (notebookContainer) {{\n",
       "    x.observe(notebookContainer, {childList: true});\n",
       "}}\n",
       "\n",
       "// Listen for the clearing of the current output cell\n",
       "var outputEl = gd.closest('.output');\n",
       "if (outputEl) {{\n",
       "    x.observe(outputEl, {childList: true});\n",
       "}}\n",
       "\n",
       "                        })                };                });            </script>        </div>"
      ]
     },
     "metadata": {},
     "output_type": "display_data"
    }
   ],
   "source": [
    "start=12; limit=26;step=2;\n",
    "x = range(start, limit+step, step)\n",
    "px.line(x=x,y=coherence_values)"
   ]
  },
  {
   "cell_type": "code",
   "execution_count": 61,
   "id": "38109821",
   "metadata": {},
   "outputs": [],
   "source": [
    "model = model_list[5] #22 topics"
   ]
  },
  {
   "cell_type": "code",
   "execution_count": 198,
   "id": "cefdccf6",
   "metadata": {
    "scrolled": true
   },
   "outputs": [],
   "source": [
    "model = gensim.models.ldamodel.LdaModel(corpus=chunked.corpus,\n",
    "                                        id2word=dictionary,\n",
    "                                        chunksize=100,\n",
    "                                        alpha='auto',\n",
    "                                        eta='auto',\n",
    "                                        iterations=400,\n",
    "                                        num_topics=22,\n",
    "                                        passes=20,\n",
    "                                        eval_every=None,\n",
    "                                        random_state=42,\n",
    "                                        minimum_probability=0)"
   ]
  },
  {
   "cell_type": "code",
   "execution_count": 199,
   "id": "69115b08",
   "metadata": {},
   "outputs": [],
   "source": [
    "coherencemodel = gensim.models.CoherenceModel(model=model, texts=chunked.bigrams, dictionary=dictionary, coherence='c_v')"
   ]
  },
  {
   "cell_type": "code",
   "execution_count": 200,
   "id": "e967e45d",
   "metadata": {},
   "outputs": [
    {
     "data": {
      "text/plain": [
       "0.4608623579399778"
      ]
     },
     "execution_count": 200,
     "metadata": {},
     "output_type": "execute_result"
    }
   ],
   "source": [
    "coherencemodel.get_coherence()"
   ]
  },
  {
   "cell_type": "code",
   "execution_count": 201,
   "id": "ad17e9a9",
   "metadata": {},
   "outputs": [],
   "source": [
    "pyLDAvis.enable_notebook()"
   ]
  },
  {
   "cell_type": "code",
   "execution_count": 202,
   "id": "e0819e73",
   "metadata": {},
   "outputs": [],
   "source": [
    "vis = pyLDAvis.gensim_models.prepare(model, chunks_manifesto.corpus, dictionary,sort_topics=False)"
   ]
  },
  {
   "cell_type": "code",
   "execution_count": 203,
   "id": "9076cb69",
   "metadata": {},
   "outputs": [
    {
     "data": {
      "text/html": [
       "\n",
       "<link rel=\"stylesheet\" type=\"text/css\" href=\"https://cdn.jsdelivr.net/gh/bmabey/pyLDAvis@3.3.1/pyLDAvis/js/ldavis.v1.0.0.css\">\n",
       "\n",
       "\n",
       "<div id=\"ldavis_el268461403147305361763374278428\"></div>\n",
       "<script type=\"text/javascript\">\n",
       "\n",
       "var ldavis_el268461403147305361763374278428_data = {\"mdsDat\": {\"x\": [0.05329761552137909, 0.09779320393442915, 0.1605845868342862, 0.09432973483707033, -0.09324548528361587, 0.171800462227462, -0.17483686395950188, -0.0889054686863386, -0.052084802115455776, 0.14942261376929145, -0.07445473132820467, -0.10156049737728608, 0.0538315815607202, 0.194067241454297, -0.10859391250786116, 0.08341545207831577, -0.04532242061323337, 0.22537304955960685, -0.135993543997128, -0.16506948346065028, -0.13507814077260405, -0.10877019167497798], \"y\": [0.0792463851131328, 0.14966990854031526, -0.19663205375419934, 0.2307112158268906, 0.12174490601426947, -0.09869971296767713, -0.04718270086792054, -0.006786488250173812, 0.07302407958165959, -0.16363854403478392, 0.012362255296355045, 0.033074426304937836, 0.0514902154443984, -0.08398112420961554, -0.1716138042349546, 0.21811836750850133, 0.0644090747436111, -0.053779370168382995, -0.016695917392265527, -0.16475769912932106, -0.07371008194139848, 0.0436266625766209], \"topics\": [1, 2, 3, 4, 5, 6, 7, 8, 9, 10, 11, 12, 13, 14, 15, 16, 17, 18, 19, 20, 21, 22], \"cluster\": [1, 1, 1, 1, 1, 1, 1, 1, 1, 1, 1, 1, 1, 1, 1, 1, 1, 1, 1, 1, 1, 1], \"Freq\": [4.212935654911726, 3.2044818279184284, 9.35811173154795, 3.915465979507435, 1.612803107663148, 22.80443788115096, 0.34441959768569536, 1.9881429608006398, 2.388429770046677, 12.466698471797006, 1.5039542682624116, 2.285584392831133, 5.925213723799025, 10.330909809103968, 1.614376524956242, 3.354905904880659, 2.809848587735234, 6.5861114888104355, 0.9260678670839961, 0.7114032914580825, 0.006624840288313242, 1.6490723177608297]}, \"tinfo\": {\"Term\": [\"fran\\u00e7ais\", \"entreprise\", \"europ\\u00e9en\", \"service\", \"travail\", \"emploi\", \"droit\", \"pays\", \"sant\\u00e9\", \"social\", \"politique\", \"local\", \"\\u00e9tranger\", \"logement\", \"formation\", \"cr\\u00e9ation\", \"culture\", \"pourcent\", \"jeune\", \"\\u00e9cole\", \"citoyen\", \"retraite\", \"professionnel\", \"enfant\", \"revenu\", \"an\", \"fonction\", \"territoire\", \"international\", \"transport\", \"\\u00e9cole\", \"\\u00e9tablissement\", \"\\u00e9l\\u00e8ve\", \"ville\", \"classe\", \"\\u00e2ge\", \"coll\\u00e8ge\", \"\\u00e9ducatif\", \"outre-mer\", \"urbain\", \"connaissance\", \"habitant\", \"foncier\", \"salarial\", \"lyc\\u00e9e\", \"second\", \"p\\u00e9dagogique\", \"parit\\u00e9\", \"analyse\", \"locatif\", \"d\\u00e9put\\u00e9\", \"alternatif\", \"proportionnelle\", \"modalit\\u00e9\", \"ruralit\\u00e9\", \"chambre\", \"examen\", \"pr\\u00e9c\\u00e9dent\", \"milieu_rural\", \"\\u00e9laboration\", \"scolaire\", \"enseignement\", \"enseignant\", \"quartier\", \"cours\", \"\\u00e9ducation\", \"entr\\u00e9e\", \"difficult\\u00e9\", \"nombre\", \"enfant\", \"parent\", \"national\", \"condition\", \"logement\", \"revenu\", \"famille\", \"femme\", \"patrimoine\", \"familial\", \"b\\u00e9n\\u00e9fice\", \"p\\u00e9riode\", \"garde\", \"cr\\u00e8che\", \"avantage\", \"asile\", \"couple\", \"horaire\", \"succession\", \"injuste\", \"tranche\", \"multiple\", \"minimum_vieilless\", \"cong\\u00e9_parental\", \"taxe_habitation\", \"esp\\u00e8ce\", \"temporaire\", \"progressivit\\u00e9\", \"smic\", \"donation\", \"additionnel\", \"pacs\", \"famill\", \"famille_monoparental\", \"enfant\", \"accueil\", \"\\u00e9galit\\u00e9\", \"suppression\", \"seuil\", \"parent\", \"imp\\u00f4t\", \"droit\", \"prestation\", \"in\\u00e9galit\\u00e9\", \"an\", \"social\", \"acc\\u00e8s\", \"homme\", \"europ\\u00e9en\", \"international\", \"monde\", \"d\\u00e9fense\", \"coop\\u00e9ration\", \"mondial\", \"force\", \"unique\", \"norme\", \"mondialisation\", \"crise\", \"militaire\", \"strat\\u00e9gique\", \"p\\u00f4le\", \"commission\", \"puissance\", \"processus\", \"transformation\", \"cour\", \"expression\", \"terrorisme\", \"arm\\u00e9e\", \"pr\\u00e9servation\", \"alliance\", \"int\\u00e9rieur\", \"c\\u00f4t\\u00e9\", \"incitation\", \"renseignement\", \"f\\u00e9d\\u00e9ration\", \"versement\", \"pays\", \"faveur\", \"d\\u00e9cision\", \"politique\", \"commun\", \"membre\", \"nation\", \"\\u00e9tat\", \"parlementaire\", \"int\\u00e9r\\u00eat\", \"organisation\", \"\\u00e9conomique\", \"peuple\", \"d\\u00e9veloppement\", \"s\\u00e9curit\\u00e9\", \"principe\", \"v\\u00e9ritable\", \"emploi\", \"entreprise\", \"salarier\", \"salaire\", \"salari\\u00e9\", \"m\\u00e9tier\", \"milliard_euro\", \"insertion\", \"travail\", \"contrepartie\", \"licenciement\", \"pr\\u00e9caire\", \"ch\\u00f4meur\", \"qualifi\\u00e9\", \"valorisation\", \"vif\", \"signe\", \"doute\", \"int\\u00e9rim\", \"d\\u00e9battre\", \"investissement\", \"paiement\", \"qualification\", \"court\", \"contrat\", \"profession\", \"plein\", \"pr\\u00e9carit\\u00e9\", \"activit\\u00e9\", \"n\\u00e9gociation\", \"professionnel\", \"formation\", \"social\", \"personnel\", \"capital\", \"long\", \"droit\", \"statut\", \"sant\\u00e9\", \"soin\", \"m\\u00e9dical\", \"h\\u00f4pital\", \"prison\", \"prise_charge\", \"terre\", \"physique\", \"hospitalier\", \"malade\", \"allocation_familial\", \"transparent\", \"performance\", \"digne\", \"opposable\", \"r\\u00e9insertion\", \"m\\u00e9diatique\", \"vuln\\u00e9rable\", \"ordonnance\", \"enfance\", \"sp\\u00e9cial\", \"internat\", \"suspension\", \"d\\u00e9l\\u00e9gation\", \"allongement_dur\\u00e9e\", \"\\u00e9vidence\", \"enveloppe\", \"ais\\u00e9\", \"cas_\\u00e9ch\\u00e9ant\", \"pathologie\", \"dossier\", \"pr\\u00e9vention\", \"d\\u00e9but\", \"syst\\u00e8me\", \"acc\\u00e8s\", \"proximit\\u00e9\", \"professionnel\", \"installation\", \"qualit\\u00e9\", \"pourcent\", \"aide\", \"financier\", \"part\", \"fonds\", \"euro\", \"charge\", \"durable\", \"banque\", \"petit\", \"dur\\u00e9e\", \"dispositif\", \"pme\", \"finance\", \"rapport\", \"ch\\u00f4mage\", \"concurrence\", \"important\", \"croissance\", \"augmentation\", \"garantie\", \"richesse\", \"propre\", \"partenaire\", \"cotisation\", \"crit\\u00e8re\", \"commercial\", \"argent\", \"commerce\", \"la\\u00efcit\\u00e9\", \"march\\u00e9\", \"\\u00e9conomie\", \"fiscal\", \"protection\", \"social\", \"mesure\", \"solidarit\\u00e9\", \"taux\", \"place\", \"taxe\", \"an\", \"cr\\u00e9ation\", \"besoin\", \"grand\", \"ann\\u00e9e\", \"situation\", \"industriel\", \"soci\\u00e9t\\u00e9\", \"\\u00e9conomique\", \"syst\\u00e8me\", \"objectif\", \"\\u00e9tat\", \"niveau\", \"local\", \"mise\", \"fronti\\u00e8re\", \"ext\\u00e9rieur\", \"pluralisme\", \"capable\", \"continent\", \"adh\\u00e9sion\", \"future\", \"central_oriental\", \"ind\\u00e9pendance\", \"r\\u00e9ciprocit\\u00e9\", \"syrie\", \"r\\u00e9fugi\\u00e9\", \"migrant\", \"naturalisation\", \"asil\", \"cod\\u00e9veloppement\", \"palestinien\", \"accord_bilat\\u00e9ral\", \"marine\", \"frontalier\", \"expulsion\", \"r\\u00e9solution\", \"visa\", \"ill\\u00e9gal\", \"minist\\u00e8re_int\\u00e9rieur\", \"solde\", \"incompressible\", \"filiation\", \"r\\u00e9tention\", \"administration_p\\u00e9nitentiaire\", \"outil\", \"rapprochement\", \"souverain\", \"suite\", \"travailleur\", \"permanent\", \"chef\", \"sol\", \"num\\u00e9rique\", \"paix\", \"urgence\", \"maladie\", \"assurance\", \"m\\u00e9decine\", \"m\\u00e9decin\", \"lib\\u00e9ral\", \"vision\", \"m\\u00e9dicament\", \"milliard\", \"marchandise\", \"assurance_maladie\", \"long_terme\", \"enjeu\", \"d\\u00e9finition\", \"faute\", \"rang\", \"banque_central\", \"mal\", \"chiffre\", \"vitesse\", \"r\\u00e8glement\", \"p\\u00e9rennit\\u00e9\", \"cesse\", \"officiel\", \"africain\", \"porteur\", \"nord\", \"s\\u00e9curitaire\", \"excessif\", \"conflit\", \"risque\", \"exigence\", \"s\\u00e9curit\\u00e9\", \"cause\", \"retraite\", \"r\\u00e9gime\", \"prix\", \"obligatoire\", \"g\\u00e9n\\u00e9ration\", \"agriculteur\", \"disposition\", \"pension\", \"global\", \"distribution\", \"paysan\", \"total\", \"pr\\u00e9sident_r\\u00e9publique\", \"transmission\", \"prise_compte\", \"chose\", \"nomination\", \"si\\u00e8ge\", \"fusion\", \"s\\u00fbret\\u00e9\", \"plu\", \"inf\\u00e9rieur\", \"\\u00e9panouissement\", \"d\\u00e9mant\\u00e8lement\", \"sorte\", \"lobby\", \"conjoint\", \"instruction\", \"profondeur\", \"d\\u00e9triment\", \"vrai\", \"installation\", \"regard\", \"moral\", \"adoption\", \"raison\", \"question\", \"vie\", \"an\", \"territoire\", \"r\\u00e9seau\", \"trait\\u00e9\", \"forme\", \"espace\", \"centre\", \"langue\", \"handicap\", \"structure\", \"diversit\\u00e9\", \"souverainet\\u00e9\", \"innovation\", \"collectivit\\u00e9_territorial\", \"orientation\", \"technologie\", \"scientifique\", \"identit\\u00e9\", \"sanitaire\", \"p\\u00eache\", \"m\\u00e9dia\", \"offre\", \"l\\u00e9gal\", \"recherche\", \"d\\u00e9fi\", \"devoir\", \"recrutement\", \"chercheur\", \"m\\u00e9tropole\", \"article\", \"arme\", \"mati\\u00e8re\", \"maritime\", \"plan\", \"r\\u00e9gional\", \"contribution\", \"pr\\u00e9sence\", \"ind\\u00e9pendant\", \"construction\", \"national\", \"projet\", \"cadre\", \"environnemental\", \"fran\\u00e7ais\", \"effort\", \"moyen\", \"contr\\u00f4le\", \"d\\u00e9veloppement\", \"domaine\", \"zone\", \"niveau\", \"personnel\", \"grand\", \"particulier\", \"ensemble\", \"\\u0153uvre\", \"mise\", \"\\u00e9nergie\", \"nucl\\u00e9aire\", \"\\u00e9nerg\\u00e9tique\", \"consommation\", \"\\u00e9nergie_renouvelable\", \"d\\u00e9chet\", \"primaire\", \"transport\", \"habitat\", \"existant\", \"acquisition\", \"\\u00e9galit\\u00e9_chance\", \"\\u00e9lectricit\\u00e9\", \"achat\", \"renouvelable\", \"pr\\u00e9coce\", \"appareil\", \"millier\", \"solaire\", \"r\\u00e9orientation\", \"lecture\", \"\\u00e9olien\", \"nocif\", \"\\u00e9crir_compter\", \"fluvial\", \"\\u00e9conome\", \"biomasse\", \"cadr\", \"facture\", \"inique\", \"production\", \"investissement\", \"source\", \"fili\\u00e8re\", \"programme\", \"am\\u00e9nagement\", \"faveur\", \"d\\u00e9veloppement\", \"objectif\", \"\\u00e9conomie\", \"agricole\", \"produit\", \"agriculture\", \"partie\", \"rural\", \"consommateur\", \"exploitation\", \"alimentaire\", \"guerre\", \"producteur\", \"coh\\u00e9rence\", \"subvention\", \"masse\", \"positif\", \"vaste\", \"urbanisme\", \"prosp\\u00e9rit\\u00e9\", \"aspect\", \"indicateur\", \"agriculture_biologique\", \"\\u00e9levage\", \"carence\", \"position\", \"mai\", \"hostile\", \"convergence\", \"forestier\", \"morale\", \"bref\", \"dirigeant\", \"dynamique\", \"\\u00e9cologique\", \"production\", \"maintien\", \"am\\u00e9nagement\", \"qualit\\u00e9\", \"environnement\", \"\\u00e9change\", \"fili\\u00e8re\", \"nature\", \"accord\", \"r\\u00e9duction\", \"million\", \"heure\", \"profit\", \"dette\", \"usage\", \"r\\u00e9mun\\u00e9ration\", \"interdiction\", \"m\\u00e9nage\", \"\\u00e9volution\", \"accompagnement\", \"utilisation\", \"baisse\", \"code\", \"point\", \"prime\", \"alimentation\", \"massif\", \"ancien\", \"usager\", \"modernisation\", \"progr\\u00e8s\", \"embauche\", \"faible\", \"clair\", \"coop\\u00e9rative\", \"garanti\", \"vocation\", \"syst\\u00e9matique\", \"service\", \"temps\", \"renforcement\", \"logique\", \"mois\", \"bon\", \"c\\u0153ur\", \"mode\", \"organisation\", \"g\\u00e9n\\u00e9ral\", \"vie\", \"cas\", \"secteur\", \"justice\", \"peine\", \"proc\\u00e9dure\", \"police\", \"application\", \"discrimination\", \"violence\", \"ministre\", \"victime\", \"sanction\", \"mineur\", \"p\\u00e9nal\", \"dignit\\u00e9\", \"affaire\", \"suppl\\u00e9mentaire\", \"judiciaire\", \"bancaire\", \"r\\u00e9publicain\", \"d\\u00e9lai\", \"futur\", \"mat\\u00e9riel\", \"menace\", \"magistrat\", \"d\\u00e9linquance\", \"texte\", \"tribunal\", \"corps\", \"volontaire\", \"renouvellement\", \"continuit\\u00e9\", \"respect\", \"ind\\u00e9pendance\", \"autorit\\u00e9\", \"fois\", \"humain\", \"lutte\", \"homme\", \"s\\u00e9curit\\u00e9\", \"libert\\u00e9\", \"effectif\", \"loi\", \"mission\", \"administratif\", \"action\", \"droit\", \"moyen\", \"vie\", \"lieu\", \"condition\", \"n\\u00e9cessaire\", \"r\\u00e9publique\", \"r\\u00e8gle\", \"principe\", \"\\u00e9tranger\", \"immigration\", \"vote\", \"savoir\", \"nationalit\\u00e9\", \"for\\u00eat\", \"r\\u00e9sidence\", \"si\\u00e8cle\", \"volet\", \"document\", \"esp\\u00e9rance\", \"r\\u00e9sident\", \"chasse\", \"appartenance\", \"centaine\", \"m\\u00e9moire\", \"h\\u00e9ritage\", \"militant\", \"envie\", \"municipal\", \"origin\", \"th\\u00e8me\", \"origine\", \"ecole\", \"vote_\\u00e9ligibilit\\u00e9\", \"consigne\", \"leader\", \"fruit\", \"mort\", \"secondaire\", \"histoire\", \"fran\\u00e7ais\", \"int\\u00e9gration\", \"pays\", \"valeur\", \"entr\\u00e9e\", \"droit\", \"jeune\", \"universit\\u00e9\", \"sport\", \"\\u00e9tudiant\", \"sportif\", \"\\u00e9tude\", \"apprentissage\", \"enseignement_sup\\u00e9rieur\", \"maison\", \"universitaire\", \"\\u00e9chec\", \"internet\", \"r\\u00e9ussite\", \"initial\", \"\\u00e9quit\\u00e9\", \"extension\", \"dipl\\u00f4me\", \"sensible\", \"abrogation\", \"chantier\", \"club\", \"jeu\", \"g\\u00e9n\\u00e9ralisation\", \"\\u00e9mergence\", \"reconversion\", \"encadrement\", \"r\\u00e9elle\", \"blanc\", \"demandeur\", \"reconstruction\", \"parcours\", \"formation\", \"rythme\", \"professionnel\", \"\\u00e9ducation\", \"jeunesse\", \"acc\\u00e8s\", \"autonomie\", \"soutien\", \"sup\\u00e9rieur\", \"long\", \"acteur\", \"contrat\", \"mission\", \"vie\", \"fonction\", \"administration\", \"priver\", \"obligation\", \"allocation\", \"organisme\", \"poste\", \"demande\", \"carte\", \"mobilit\\u00e9\", \"sortie\", \"fonctionnaire\", \"accessible\", \"levier\", \"utile\", \"handicap\\u00e9\", \"e\", \"comp\\u00e9titivit\\u00e9\", \"mettron\", \"feron\", \"b\\u00e9n\\u00e9ficiaire\", \"\\u2026\", \"revalorisation\", \"principal\", \"iii\", \"education\", \"scolarit\\u00e9\", \"office\", \"sain\", \"tva\", \"agence\", \"suivi\", \"comp\\u00e9tence\", \"autonomie\", \"conseil\", \"fonctionnement\", \"cr\\u00e9dit\", \"meilleur\", \"territorial\", \"budget\", \"sein\", \"gestion\", \"citoyen\", \"pouvoir\", \"parlement\", \"gouvernement\", \"d\\u00e9mocratique\", \"populaire\", \"d\\u00e9mocratie\", \"\\u00e9lection\", \"constitution\", \"\\u00e9lu\", \"repr\\u00e9sentant\", \"d\\u00e9bat\", \"fondamental\", \"mandat\", \"interdir\", \"r\\u00e9f\\u00e9rendum\", \"biodiversit\\u00e9\", \"l\\u00e9gislatif\", \"entier\", \"contraire\", \"citoyennet\\u00e9\", \"candidat\", \"grave\", \"atout\", \"parti\", \"sentiment\", \"tour\", \"z\\u00e9ro\", \"multinationale\", \"directive\", \"institution\", \"association\", \"initiative\", \"etat\", \"droit\", \"responsable\", \"engagement\", \"peuple\", \"politique\", \"r\\u00e9publique\", \"loi\", \"projet\", \"responsabilit\\u00e9\", \"national\", \"soci\\u00e9t\\u00e9\", \"contr\\u00f4le\", \"vie\", \"r\\u00e9gion\", \"commune\", \"assembl\\u00e9e\", \"liste\", \"ex\\u00e9cutif\", \"remplacement\", \"intercommunalit\\u00e9\", \"vacance\", \"r\\u00e9union\", \"pr\\u00e9occupation\", \"d\\u00e9partemental\", \"pr\\u00e9fet\", \"rue\", \"bien-\\u00eatre\", \"mod\\u00e9rer\", \"compl\\u00e9ment\", \"confrontation\", \"f\\u00e9d\\u00e9ralisme\", \"d\\u00e9partement\", \"collectivit\\u00e9\", \"comp\\u00e9tence\", \"local\", \"pr\\u00e9sident\", \"proximit\\u00e9\", \"exercice\", \"conseil\", \"municipal\", \"d\\u00e9cision\", \"s\", \"participatif\", \"attribution\", \"confiance\", \"m\\u00e9rite\", \"r\\u00e9serve\", \"inefficace\", \"illettrisme\", \"prestige\", \"mieux\", \"lettre\", \"langage\", \"fiabilit\\u00e9\", \"comparaison\", \"courage\", \"r\\u00e9galien\", \"v\\u00e9rit\\u00e9\", \"compatriote\", \"nation\", \"fran\\u00e7ais\", \"pr\\u00e9l\\u00e8vement_obligatoire\", \"cr\\u00e9ateur\", \"avenir\", \"drapeau\", \"clandestin\", \"m\\u00e9ritocratie\", \"immigr\\u00e9\", \"assimilation\", \"fondation\", \"alternance\", \"oral\", \"patriotisme\", \"ancien_combattant\", \"logique\", \"s\\u00e9lection\", \"pr\\u00e9f\\u00e9rence\", \"travailleur\", \"socle\", \"num\\u00e9rique\", \"sentiment\", \"choix\", \"maintenir\", \"proteger\", \"orphelin\", \"\\u00a7\", \"trahison\", \"ultra-libre-\\u00e9changisme\", \"all\\u00e9geance\", \"fiscalisme\", \"d\\u00e9lirant\", \"romain\", \"mensonge\", \"onde\", \"otage\", \"jacobinisme\", \"ob\\u00e9dience_ma\\u00e7onnique\", \"ao\\u00fbt\", \"r\\u00e9v\\u00e9lateur\", \"supra\", \"appuy\\u00e9e\", \"servitude\", \"impitoyable\", \"barbare\", \"assassinat\", \"grade\", \"g\\u00e9rant\", \"fr\\u00e9gate\", \"demi-si\\u00e8cle\", \"draconien\", \"enraciner\", \"pr\\u00e9tention\", \"acc\\u00e8s\", \"air\", \"alimentaire\", \"ann\\u00e9e\", \"bon\", \"bruit\", \"cause\", \"chose\", \"ch\\u00f4mage\", \"clair\", \"coh\\u00e9sion\", \"conf\\u00e9rence\", \"couvertur\", \"crainte\", \"crise\", \"cro\\u00eetre\", \"droite\", \"eau\", \"emploi\", \"environnement\", \"gauche\", \"gouvernement\", \"guerre\", \"haine\", \"heure\", \"hostile\", \"id\\u00e9e\", \"incapable\", \"international\", \"in\\u00e9galit\\u00e9\", \"culture\", \"culturel\", \"eau\", \"\\u00e9cologiste\", \"naturel\", \"artistique\", \"\\u00e9cologie\", \"pollution\", \"art\", \"audiovisuel\", \"ferroviaire\", \"gratuit\\u00e9\", \"auteur\", \"routier\", \"serre\", \"amateur\", \"p\\u00e9trolier\", \"sch\\u00e9ma\", \"paysage\", \"chimique\", \"air\", \"mus\\u00e9e\", \"s\\u00e9lectif\", \"autoroute\", \"vol\", \"cabotage\", \"ferroutage\", \"automobile\", \"camion\", \"quinquennal\", \"environnement\", \"cr\\u00e9ation\", \"nature\", \"\\u00e9quipement\", \"pratique\", \"industriel\"], \"Freq\": [1402.0, 918.0, 1186.0, 1036.0, 798.0, 742.0, 1279.0, 982.0, 529.0, 1568.0, 1455.0, 495.0, 372.0, 429.0, 496.0, 481.0, 310.0, 879.0, 360.0, 384.0, 449.0, 322.0, 488.0, 395.0, 331.0, 740.0, 317.0, 551.0, 469.0, 263.0, 383.55429009410875, 330.24048021608354, 193.61289210460964, 184.05874184722342, 138.23524959800662, 111.57327261197882, 98.78875022145333, 96.75621608875728, 83.00314144454518, 75.68312875239805, 74.89525512823916, 60.775568542518634, 58.40736091147576, 58.38327912446434, 53.36569921497895, 51.368523303039005, 50.65835844858197, 48.9582469034401, 45.158626201487, 44.00180812037136, 42.19166655119421, 40.92230590423483, 37.99079579241703, 37.62809746743268, 36.303189556608395, 35.92781111408607, 34.991026990264146, 33.304062587565454, 30.966621200557107, 30.93139604276283, 260.8945559016877, 153.87725473925835, 138.92732310781173, 87.7970712150686, 84.39179695039113, 172.352019011115, 55.80229599024104, 69.76482739082117, 70.90043888853174, 74.45916344804016, 55.113541227248334, 64.15746025300365, 55.45860740525292, 428.73866754215055, 330.2763663587926, 314.9351368988082, 285.7588649431533, 138.90925572467006, 131.98439167646598, 83.13536835414581, 51.353981961889815, 48.96330507962881, 47.3588912917857, 45.59308672091599, 39.14930707655548, 35.52483334009683, 30.48413583562743, 27.95828990581927, 27.87290107569181, 24.440989302095957, 22.923006228216433, 21.517020705368658, 19.94590949400936, 15.602944725996895, 14.838732854902991, 14.143323023265449, 12.500529211710484, 62.19604742915003, 10.800726493453762, 10.094154612985209, 8.67638191100475, 8.406248223596386, 8.002786150084688, 320.53401821099436, 93.0441797708471, 204.90224934824042, 97.01763497889134, 54.27702774721941, 109.6369399401903, 148.52372007361146, 306.22735360125296, 32.11158418668177, 41.64162022316556, 94.17589979267353, 54.14641718952287, 35.927159264092, 28.260281424125353, 1185.349560866949, 468.51189959656716, 394.339460543827, 309.09874197306067, 253.59117599828573, 252.12572755586214, 196.09563990281103, 144.45414320696042, 136.0871547191902, 111.51750849302474, 102.69305853505655, 102.49027422357825, 100.83076948262541, 98.26663459742365, 94.20284047269467, 92.34006459882414, 74.16280114733898, 72.41743617276079, 57.69118035917529, 54.06058197408815, 51.650711530239036, 50.50056110672558, 49.51098641679683, 47.996954353821025, 47.263198534797205, 46.27669255858459, 39.859748483188504, 38.38402463109785, 38.257897309843145, 34.96572096203704, 900.8024295448232, 127.28928289361528, 115.0885871616534, 736.5542541132111, 208.52189623502258, 101.81247968811071, 120.27142729721496, 338.37518651298643, 87.48801383583323, 177.16292230528933, 139.04319245408576, 177.85025622277155, 133.11755552991175, 181.11379124256032, 141.70188660839526, 122.5047786053394, 98.42206972842816, 741.9308296940346, 915.6414129279297, 179.29444059392043, 162.7044995983645, 161.50630152082968, 128.5534343840863, 85.03758207761524, 60.27231289270413, 782.6313680261592, 44.93713212478982, 43.17231835594669, 40.80569456129083, 35.37419564315478, 24.79069620651876, 20.11968250139168, 16.881712794950456, 11.456946484624218, 11.198552803905, 7.460824881170784, 5.8071391512845, 173.98849092914674, 22.055256930985536, 59.574168257466575, 37.65096646378133, 181.2932382482307, 44.072433950915716, 58.5479796406184, 53.33172533434812, 184.60083643187514, 52.12081132115524, 202.1574213234517, 81.69977021008457, 132.20134631181844, 48.49419931310665, 42.87936686496223, 30.507408905745127, 43.09584330278419, 26.590842526558248, 528.4236069902363, 166.46868509709785, 123.55887195147588, 95.12569689639491, 76.25534293625854, 72.90795802604963, 63.87667644644198, 40.83140626462427, 40.34567224482891, 36.051977359174536, 35.5322517862987, 31.67381697993165, 28.642987397088255, 24.977758692674552, 21.971467910844357, 19.931529256084943, 18.197998003817467, 17.24782862072324, 14.479600565459823, 13.600555550704453, 11.095411448977115, 10.25047984230563, 10.163586237952588, 9.430245847676373, 9.39245581444882, 9.212086437935955, 8.513182071859193, 7.767792519012854, 7.429887096358433, 7.373457242856199, 21.757552451181482, 65.82170603453432, 18.61645407837319, 58.55013056144976, 54.25639172808924, 32.221764970644884, 42.31579197788429, 18.112299976833885, 12.38607667235959, 878.8274262609617, 441.3878015078485, 404.5601928180731, 245.8539099220296, 231.8020387147055, 216.21973353183537, 209.05961697472242, 195.66365209527132, 177.9942900636459, 175.1564356307039, 160.99016954674025, 152.45398148342326, 148.06839261519653, 144.6572080079262, 135.18500152003634, 132.3161192421589, 131.4863609474423, 126.92676476130495, 124.00911637120078, 121.49840303979936, 121.19306757894167, 116.9222266579614, 116.90818150921844, 133.45139659444874, 113.30631052856691, 110.26935251897496, 109.11334992205936, 106.20826378414911, 105.787212962582, 86.34250599821983, 353.94054464201247, 426.31547150960245, 341.7818380289517, 370.59779447186327, 1381.5885592619609, 436.8386703345, 216.2195358122955, 205.49008726166406, 600.6868193387763, 140.3523169576153, 572.3765447419087, 384.3597523424396, 230.15969547959259, 550.7657425427279, 261.1918055079708, 225.12043168972855, 165.12791697173887, 315.21985609491935, 283.1604518286693, 221.75732117629533, 229.83875429790936, 313.70670845628774, 219.54303180363314, 216.7805932523276, 196.3893110522459, 126.08217791205321, 54.80326050057764, 35.19119509406432, 26.54381093177181, 25.25367086680906, 19.87911650446266, 11.119348196250074, 2.7684756459217272, 10.265934794250027, 0.04437386873114843, 0.04437382207186115, 0.04437391205762948, 0.04437358210981227, 0.04437345213036913, 0.04437344213195043, 0.04437342546791926, 0.04437337880863197, 0.04437328215725118, 0.0443733521461821, 0.0443731488450018, 0.044373455463175365, 0.04437326549322001, 0.04437331548531352, 0.044373295488476114, 0.044373232165157664, 0.04437311551693946, 0.044373098852908285, 0.0443731288481644, 0.044373182173064143, 0.044373098852908285, 4.379341093327236, 0.04437322549954519, 0.0443732454963826, 0.044373232165157664, 0.04437371542206165, 0.044373385474244444, 0.04437331548531352, 0.04437325882760754, 0.04437324216357637, 146.26243710128102, 144.29453876430603, 113.81967999153292, 92.75959713171153, 89.3191019067014, 86.47055712070748, 82.07107775629144, 61.988374061249736, 61.52441064348882, 54.839722448180275, 50.47594962565445, 49.184776445703385, 46.60759152799448, 44.96347026279933, 44.829046213923306, 40.55447079555933, 38.98886698472069, 38.08630903158181, 37.688971558467884, 35.8217927573447, 32.01188996253919, 29.393302693878567, 28.54294524246304, 27.62909170948621, 26.673759487433617, 24.48059719649379, 24.161373324434976, 22.079947884410185, 18.931207119404725, 17.897220773128403, 64.04582933032562, 89.21351889359214, 34.13306540250824, 50.706889688519766, 31.291681625053393, 321.20994931119907, 218.97320081086016, 184.01258401051345, 107.19562083890344, 103.4547584575309, 95.50938264561017, 93.49082854113553, 84.24163383978104, 81.7068061498722, 79.75699740730316, 78.819938780698, 73.36316400298696, 72.79103148289822, 62.39523467122662, 55.69302042450724, 46.869823318230154, 40.76508253187335, 40.24349285145057, 37.52268171149084, 34.0454940915714, 32.0960433053149, 30.455961439216832, 28.800235994766194, 27.366064799555396, 26.948817905076883, 25.44067104415424, 23.690937692914908, 23.112070565012328, 22.728336960504887, 22.56872394491596, 58.62228638765817, 77.81731794088375, 27.91127072165528, 29.385509357336417, 41.84882928870014, 43.0137492956056, 57.22940441768692, 57.432066856911725, 41.32008048202675, 549.9102369870305, 172.75282017281086, 168.95671751236625, 162.9466269672433, 152.69113848907696, 140.42559526934713, 140.295579590917, 136.4063504985707, 119.8053171277689, 120.67682364684217, 116.28667132217844, 113.3993813422189, 96.64671448422185, 96.20480786983313, 94.36184334873191, 93.95575281107939, 87.29380040458264, 85.73283247817625, 83.340984071883, 82.91048085161788, 80.02229527672378, 79.42785958020528, 515.092408894447, 77.0946340388954, 74.91660120258102, 71.93678700110682, 69.7501147619324, 65.60258373742704, 62.72020408831557, 60.899297452800745, 294.42529060555995, 88.99639586098444, 436.827232276089, 160.7121176055301, 121.45518829272179, 98.6924926547697, 121.66696561215996, 151.25773879632266, 546.3251395814253, 279.4508506520586, 225.09873820314985, 148.94225529949216, 519.9538834947119, 154.57335477437883, 291.36312799398263, 188.47759882725705, 295.68514561780637, 153.88831729719658, 171.00083574402677, 192.78289353187176, 147.78037528482758, 239.07106919005273, 154.01031894509165, 155.72604722031824, 149.69633079309497, 140.57369270068008, 193.35411493556185, 136.09752731640594, 126.76923834086871, 122.38212238841837, 92.87004056479755, 73.32012959971405, 53.38971514651731, 258.0387392575184, 49.20598742129328, 47.510840879680075, 41.05308583620527, 36.952372041210154, 36.43817521828564, 34.012009094953285, 32.13528029207866, 21.574829431757834, 17.825727058233596, 17.26142084828912, 15.388645843702596, 12.641150947601592, 12.08938884963453, 10.375811740170937, 9.11326475254808, 9.007280604797113, 8.431469726665451, 7.909072847173585, 7.375484250313095, 6.197893164516485, 5.850285371300351, 2.2258473289113225, 60.63330459782464, 47.033780887225085, 24.240842552679144, 33.71068216393657, 25.80101973977444, 15.750824012306218, 18.906273585435702, 23.530742242938953, 15.614112006057564, 12.544627973704694, 240.1556864194448, 212.72449864115447, 183.14099853956222, 161.40445700308115, 135.21395349384068, 96.93290166733301, 83.08859096089866, 79.98964893979394, 78.3040950268247, 45.92183927413983, 42.45767305069253, 41.74055267397863, 38.421194285447676, 37.81119920747223, 35.92245797937775, 30.145012637716416, 27.87102119413816, 27.53212182869124, 24.87267634252344, 22.740850058816676, 22.417035314662215, 21.354511506175147, 21.073265486872835, 18.332791648834274, 17.74969184055743, 16.017600236037705, 15.068568492412153, 13.065249537024762, 12.591583652552337, 70.20580631657991, 36.53949358529808, 240.19529682033138, 225.49775452544597, 57.95879238631953, 46.11452100052221, 71.55399239832748, 61.433772770100354, 43.79378520735569, 47.10977195584548, 33.38587211214048, 161.67086841013676, 158.61183127684757, 157.62190449127863, 149.32624962883924, 126.28115095328538, 122.50144717881388, 113.42553308961017, 109.74892742379096, 101.83290375186735, 93.52979981623021, 83.61800430738946, 81.2459111637124, 80.43861510378498, 77.83306140100073, 77.79475188169799, 76.14875623059862, 67.84279008949633, 64.99413239688384, 61.91054634748972, 59.13570053043036, 54.17118680366106, 52.099364699737286, 111.99466520466432, 50.195143073268824, 47.833750174638396, 44.53904344674197, 43.77706564001272, 40.92230557856877, 40.51164881470964, 38.294323927319155, 994.8167828772773, 337.6515018400111, 98.29947441020087, 109.04665962645771, 108.55353098076628, 118.13193092583596, 62.32616059799426, 73.61020015266394, 125.96045183939815, 127.76625396230158, 159.13689186094632, 102.53862821272389, 88.15137081476452, 372.23477987861213, 161.08161524255254, 157.52488039338465, 150.4826326600526, 145.0850928048714, 136.910075457109, 112.95145940462662, 110.96165896913017, 103.11643668335543, 101.41034048736311, 98.64137226656189, 95.63633253437841, 93.4080805505808, 92.39961028362553, 91.25168392870889, 86.19859683600258, 75.85745158638527, 75.7664215721854, 74.47451577957169, 73.39351836607652, 70.26477429564773, 70.02311097709575, 69.93364206238034, 69.76038561140112, 64.40565443101691, 62.1067562975992, 59.806405829825046, 57.359983795126716, 56.30092494774705, 55.63610130172959, 229.00748503151917, 191.3909375485501, 154.95916220709998, 149.00392595904742, 226.2009608518092, 230.96425925579126, 166.79507300897643, 316.6038481194376, 194.46883712060622, 120.54325254417765, 389.9292795153767, 173.25513300178764, 104.69543123033914, 189.100382340246, 306.2284738442391, 165.1666287164381, 149.50237734689415, 112.64966816412847, 118.85096951944324, 111.36284874073664, 106.02656284647404, 105.88739466620446, 104.99153469443698, 371.46100575640304, 178.38700328836083, 126.25779733610551, 86.9945644866015, 81.88396278257595, 56.23520276501993, 56.22712049561749, 46.10547177064613, 34.92704932494588, 33.85312327692008, 32.008462260767594, 27.30827467775117, 24.145655866316137, 20.118376198421778, 16.58911489347736, 15.294237156229832, 15.07661575391799, 13.473542008440257, 12.291152184973859, 27.14637534407803, 11.04362230947305, 10.844126026161296, 119.96452086962547, 7.210358098459948, 7.173036589843156, 6.645871967769712, 5.5969010762777405, 23.8406771691865, 25.588101006029, 7.481756985790037, 30.43195782619655, 230.44476853769427, 26.368919814976188, 66.72545656326774, 23.69777176848063, 12.588236572454605, 14.816099536360971, 359.0378043011791, 167.71800678710187, 138.90012071290928, 138.29530267726446, 137.90857649859512, 110.95995421797501, 87.02678720058033, 83.99683791256392, 66.619561814401, 63.2186893225662, 55.895425391829825, 52.67124453650244, 50.07942784363742, 44.100418225913494, 38.601863921946546, 36.260019291961974, 32.65595827454872, 32.60738999422845, 31.97582990108864, 31.9640909045191, 30.869638283109463, 30.483639298917883, 29.62978832011815, 26.93889865160321, 26.590599506837172, 24.248623981846606, 19.320009388672656, 19.14912076409776, 18.9897592108446, 16.67253842472621, 78.93348664885224, 413.4008023815345, 34.71461883100432, 241.61727150532298, 140.56283634241606, 44.37834779991603, 125.96388777677386, 72.6331734230752, 55.96341184240479, 48.92321771177945, 48.46861312285756, 45.95764383433129, 44.8634945569038, 41.55401171163676, 42.378974370382885, 316.5596665857267, 166.017514298602, 160.56727300697497, 153.44176061735146, 110.99888428726464, 93.22312893231988, 89.39055302318731, 88.08248703893027, 77.64314252382587, 61.068274225238234, 58.23492360475816, 55.21428828343779, 52.209690126027105, 48.693305279291025, 47.81260813544588, 47.20982933448445, 40.802696969004714, 40.71851577962808, 38.83633116038103, 37.64824112045096, 36.03583097178974, 33.075181882489204, 30.524392308160106, 94.54429471799968, 25.482797651378085, 23.61271051080944, 22.33433485756662, 20.827323469847887, 20.50093342549885, 19.225228892763994, 113.90283601605026, 50.40173655474658, 110.98415571138231, 110.82540588617039, 125.29762380548775, 61.300896628824084, 103.61962415010308, 99.32649486108836, 53.959707354511494, 61.37337709227529, 42.117744409599176, 42.28844554142262, 448.269180348499, 314.31348714773094, 225.24028466907225, 198.8801304752768, 169.28541486035593, 166.30807820211405, 166.0374750106143, 164.64399746412963, 163.99073858389025, 159.49682652073696, 122.35148078877148, 108.28267631040922, 102.0432627190159, 100.05406985049875, 92.15645713516513, 81.598870192619, 75.23116236534251, 68.02853046510073, 65.82147722838786, 57.48381618130857, 52.744046940806456, 46.56360856263356, 44.600144696467495, 43.22746081738706, 42.57285185791841, 39.83109790699961, 39.656660328757866, 36.83643047339473, 36.55800824297502, 36.54783166389037, 184.1782815960112, 173.24965535640203, 143.80577336655145, 192.00794168306817, 598.3192863262337, 89.58903879275778, 100.3508996566335, 148.63458665434692, 413.97726581608464, 104.97497404112919, 180.44021811936466, 127.39167324870436, 96.48014500933296, 135.7602311240667, 110.06915335507585, 100.09227179026101, 105.44553579497195, 151.52957534368167, 120.64600650081069, 100.84720349721219, 63.741200247022185, 45.83526380431584, 32.361386978091716, 25.238402807413188, 24.018175622624074, 19.316006364007745, 18.50006157590712, 17.7958421539957, 15.088411829816005, 15.031230061559423, 14.780303358772247, 9.016910014307264, 8.781652322698557, 6.571228052880576, 6.278402043711298, 42.20744008781815, 67.73219219625528, 50.8008325761988, 138.99233845084882, 19.01871439129223, 17.58559718463459, 8.383008154804601, 21.263758337944044, 1.439441789872873, 6.752085525378617, 0.050158692707257216, 0.050158208803733124, 2.7630148523597056, 106.17148153541922, 58.78338466571427, 24.71618878209535, 16.917424962735502, 12.30579130562128, 12.234973572953075, 9.662877399487822, 8.111334628677477, 7.618446028975108, 4.468351769810776, 4.114623495329539, 12.327473674014543, 3.9106332675054847, 6.042125422621277, 12.33733193945055, 49.7383362512495, 396.0184145156277, 3.5146557875249926, 5.9562140934401935, 21.80773613456635, 0.05175188363471927, 0.05175213489910997, 0.05175172530373334, 0.05175192149647677, 0.05175167711604197, 0.0517516599061522, 0.051751897402631086, 0.051751487807254457, 0.051751649580218335, 0.05175154976285764, 4.5866276046644145, 0.051751670232086065, 0.05175179414329244, 0.051751873308785404, 0.05175167367406402, 0.051751728745711295, 0.0558434764149794, 0.051754743918399786, 0.0027490296269740725, 0.0027490296269740725, 0.0027490296269740725, 0.0027490296269740725, 0.0027490296269740725, 0.0027490296269740725, 0.0027490296269740725, 0.0027490296269740725, 0.0027490296269740725, 0.0027490296269740725, 0.0027490296269740725, 0.0027490296269740725, 0.0027490296269740725, 0.0027490296269740725, 0.0027490296269740725, 0.0027490296269740725, 0.0027490296269740725, 0.0027490296269740725, 0.0027490296269740725, 0.0027490296269740725, 0.0027490296269740725, 0.0027490296269740725, 0.0027490296269740725, 0.0027490296269740725, 0.0027490296269740725, 0.0027490296269740725, 0.0027490296269740725, 0.0027490296269740725, 0.0027490296269740725, 0.0027490296269740725, 0.0027490296269740725, 0.0027490296269740725, 0.0027490296269740725, 0.0027490296269740725, 0.0027490296269740725, 0.0027490296269740725, 0.0027490296269740725, 0.0027490296269740725, 0.0027490296269740725, 0.0027490296269740725, 0.0027490296269740725, 0.0027490296269740725, 0.0027490296269740725, 0.0027490296269740725, 0.0027490296269740725, 0.0027490296269740725, 0.0027490296269740725, 0.0027490296269740725, 0.0027490296269740725, 0.0027490296269740725, 0.0027490296269740725, 0.0027490296269740725, 0.0027490296269740725, 0.0027490296269740725, 0.0027490296269740725, 0.0027490296269740725, 0.0027490296269740725, 0.0027490296269740725, 0.0027490296269740725, 0.0027490296269740725, 309.23851534609724, 259.7871327951853, 183.61932811549548, 112.64692751925719, 106.90855747401004, 73.9120412062574, 67.27124975501516, 66.61970203911889, 59.20920974655329, 48.65318819059497, 43.590288161921784, 37.2688569736714, 32.934798692848496, 29.54420882574089, 29.139733621531455, 28.415697984806055, 28.368829720517255, 23.170363860365295, 21.11311136356064, 20.94760384785762, 20.400295432916405, 18.698709457176186, 18.601433196095645, 17.541627480493432, 13.497650584668495, 13.057596268821015, 12.816279652225518, 9.006235568611697, 6.759920403099382, 6.4434197047377175, 78.30383409696383, 92.65655271862457, 31.58285372698767, 21.337773058731454, 16.089418008513515, 15.885113349690405], \"Total\": [1402.0, 918.0, 1186.0, 1036.0, 798.0, 742.0, 1279.0, 982.0, 529.0, 1568.0, 1455.0, 495.0, 372.0, 429.0, 496.0, 481.0, 310.0, 879.0, 360.0, 384.0, 449.0, 322.0, 488.0, 395.0, 331.0, 740.0, 317.0, 551.0, 469.0, 263.0, 384.5630139600248, 331.2492040819996, 194.62161597052577, 185.06746571313954, 139.24397346392274, 112.58199647789498, 99.79747408736948, 97.76493995467344, 84.01186531046133, 76.69185265279376, 75.90397899415531, 61.78429240843478, 59.41608477739191, 59.39200299038048, 54.3744230808951, 52.37724716895515, 51.66708231449812, 49.966970769356244, 46.16735006740315, 45.0105319862875, 43.200390417110356, 41.93102977015098, 38.99951965833318, 38.63682133334883, 37.31191342252454, 36.936534980002214, 35.99975085618029, 34.3127864534816, 31.97534506647325, 31.940119908678973, 270.4975453782551, 160.4433969687632, 169.02924654384725, 103.92574185151615, 108.64698048596792, 337.7305599188226, 69.34413882429354, 114.06805174242119, 268.91816668264175, 395.9539498484581, 165.71124935686223, 974.5897119525818, 375.0057491059459, 429.75014836430125, 331.2878471809433, 315.9466177209589, 286.770345765304, 139.92230359954306, 132.9958724986167, 84.14684917629658, 52.36546278404058, 49.974785901779576, 48.37037211393647, 46.60456754306676, 40.160787898706246, 36.5363141622476, 31.49561665777819, 28.96977072797003, 28.88438189784257, 25.452470124246716, 23.934487050367192, 22.528501527519417, 20.95739031616012, 16.614425548147658, 15.850213677053752, 15.15480384541621, 13.512010033861245, 67.7223980730766, 11.812207315604523, 11.10563543513597, 9.68786273315551, 9.417729045747146, 9.014266972235449, 395.9539498484581, 117.79743793583732, 271.5592378499919, 125.45617153911671, 71.00652869746638, 165.71124935686223, 325.945518343145, 1279.517350483891, 54.432549599564474, 99.33561044165053, 740.1307846672441, 1568.850502463442, 408.8010711785254, 214.39861896228572, 1186.3591640634938, 469.5215027931114, 395.3490637403712, 310.1083451696049, 254.60077919483, 253.13533075240642, 197.1052430993553, 145.4637464035047, 137.09675793447846, 112.52711168956907, 103.70266173956726, 103.49987742012259, 101.84037267916975, 99.27623779396798, 95.21244366923901, 93.34966779536848, 75.17240434388331, 73.42703989417817, 58.70078355571961, 55.07018517063247, 52.660314726783355, 51.510164303269896, 50.52058961334115, 49.00655755036534, 48.272801731341524, 47.28629575512891, 40.86935167973282, 39.39362782764217, 39.26987272364094, 35.97532415858136, 982.375950111381, 147.1603008047798, 139.58211031544158, 1455.6232399631922, 314.10097801682383, 134.72435117063102, 170.9676158011859, 739.1857674868916, 118.6351046644931, 360.02310119560116, 294.25313260796236, 461.96913111892223, 282.7103996503503, 632.6736750683672, 509.9139400766671, 329.4845758400075, 238.14439161670325, 742.9498949097394, 918.8290823140464, 180.3077560996152, 163.71781510405927, 162.51961702652446, 129.56674988978108, 86.05089758331003, 61.28562841724815, 798.0874934210323, 45.950447630484604, 44.18563386164148, 41.81901006698561, 36.38751114884956, 25.804011712213544, 21.132998007086464, 17.89502830064524, 12.470261990319003, 12.211868309599785, 8.474140386865567, 6.820454656979285, 231.48141169015915, 30.06949417387996, 82.05830353685694, 52.03953519434336, 268.1390721570911, 65.98721608101089, 95.73808462374458, 101.25136363461522, 361.85868182474803, 125.10147933752665, 488.9682709969195, 496.0685628487101, 1568.850502463442, 221.54514164624624, 182.9020609539361, 128.9980705064504, 1279.517350483891, 223.9189501635548, 529.4354847438568, 167.4805570214715, 124.57074387584954, 96.13756882076858, 77.26721486063221, 73.91982995042329, 64.88854837081564, 41.843278188997935, 41.357544169202576, 37.0638492835482, 36.544123710672366, 32.685688904305316, 29.654859321461913, 25.98963061704821, 22.983339835218015, 20.9434011804586, 19.209869928191125, 18.259700545096898, 15.49147248983348, 14.61242747507811, 12.107283373350773, 11.262351766679288, 11.175458162326246, 10.44211777205003, 10.404327738822477, 10.223958362309613, 9.52505399623285, 8.779664443386512, 8.441759020732091, 8.385329167229857, 25.13955892919165, 162.68424586115293, 30.70980851571562, 316.02328337285877, 408.8010711785254, 143.64475892840764, 488.9682709969195, 96.88654294143186, 224.69362349787653, 879.8357029497471, 442.3960578774289, 405.5684491876535, 246.86216629161004, 232.81029508428594, 217.2279899014158, 210.06787334430285, 196.67190846485175, 179.00254643322634, 176.16474079907843, 161.99842591632068, 153.4622378530037, 149.07664898477697, 145.66546437750662, 136.19325788961677, 133.32437561173933, 132.49461731702274, 127.93502113478702, 125.01737274078124, 122.50665940937982, 122.20132394852213, 117.93048302754187, 117.91643792878287, 134.61219767594326, 114.31456689814738, 111.27760888855542, 110.12160629163982, 107.21652015372958, 106.79546933593231, 87.3507623678003, 358.4810469488921, 439.823496982072, 352.0151449929625, 383.35371945602725, 1568.850502463442, 468.21816965853975, 229.47583016697686, 219.75242690841785, 756.1583617344703, 144.5402971272027, 740.1307846672441, 481.40829472662494, 262.97743962062856, 793.2182992875089, 327.09970746154556, 276.7838819322476, 181.96955692748872, 479.4486906006281, 461.96913111892223, 316.02328337285877, 345.29088980617917, 739.1857674868916, 423.9379065023607, 495.3883031162257, 350.56029449887694, 127.09724166178823, 55.81832425031268, 36.206258843799354, 27.558874681506836, 26.268734616544087, 20.89418025419769, 12.134411945985102, 3.7835393956567565, 202.61900355112525, 1.0594427559408828, 1.059441861444609, 1.059446119789917, 1.0594450942980025, 1.0594425254558713, 1.0594423856297261, 1.0594420707687693, 1.0594414198813435, 1.0594403550780276, 1.0594422617494597, 1.0594379236790148, 1.0594453266826978, 1.0594410635728233, 1.0594423117957974, 1.059442033505944, 1.059440709879219, 1.0594380785812005, 1.059438229601783, 1.059439213408185, 1.0594406445036118, 1.0594388021708556, 109.24412265209217, 1.0594421428123169, 1.0594433481892218, 1.0594429398873348, 1.05946356313656, 1.059453511401564, 1.0594489524134936, 1.0594521014917215, 1.0594641551319965, 147.26651860510435, 145.29862029936933, 114.82376149535625, 93.76367863553486, 90.32318341052473, 87.47463862453081, 83.07515938079321, 62.99245556507308, 62.528492147312164, 55.84380395200362, 51.480031129477794, 50.18885794952673, 47.61167303181782, 45.96755176662268, 45.83312771774665, 41.558552299382676, 39.99294848854403, 39.090390535405156, 38.69305306229123, 36.825874261168046, 33.01597146636254, 30.397384197701903, 29.547026746286377, 28.633173213309547, 27.677840991256954, 25.484678700317126, 25.165454828258312, 23.08402938823352, 19.93528862322806, 18.90130227695174, 73.5241487160018, 189.9301286330057, 103.27227886389066, 509.9139400766671, 156.57752765628985, 322.21443890918283, 219.97769041229196, 185.0170736084973, 108.20011043688729, 104.4592480760967, 96.51387224359402, 94.49531813911938, 85.2461234377649, 82.711295822832, 80.76148700528701, 79.82442837868184, 74.36765360097081, 73.81584113332319, 63.39972426921047, 56.697510022491095, 47.87431291621401, 41.7695721298572, 41.247982449434424, 38.527171309474696, 35.049983689555255, 33.100532903298756, 31.460451037200684, 29.804725592750046, 28.370554397539248, 27.953307503060735, 26.44516064213809, 24.69542729089876, 24.11656016299618, 23.73282655848874, 23.57321354289981, 65.25098701556321, 96.88654294143186, 31.234421734018433, 35.29435742050209, 64.58161648459196, 70.48819475341662, 175.75929002935172, 664.7246963257309, 740.1307846672441, 551.1643704320292, 173.76055020090863, 169.96444754046402, 163.95435699534107, 153.6989009944566, 141.4333266203545, 141.30330961901475, 137.41408052666847, 120.81304715586668, 121.70805450440655, 117.29440135027622, 114.40711137031668, 97.65444451231963, 97.21253789793091, 95.36957337682969, 94.96348283917717, 88.30153044287212, 86.74056250627403, 84.34871409998078, 83.91821087971566, 81.03003423356144, 80.43558960830306, 521.6901127440535, 78.10236406699319, 75.9243312306788, 72.9445170292046, 70.75784479003018, 66.61051786470323, 63.727934116413365, 61.90702748089854, 305.22168069580147, 91.28719800146406, 474.7445366620148, 168.56704323472397, 126.33635927282933, 104.58695719859291, 134.02132002931324, 174.42415676616932, 974.5897119525818, 418.4416192100869, 330.34803390311384, 186.95220960283504, 1402.1577127325295, 218.29922501944824, 608.2258627076476, 301.95577021010155, 632.6736750683672, 222.00852866763222, 274.8120766434531, 423.9379065023607, 221.54514164624624, 793.2182992875089, 249.3205162515492, 289.2891280311618, 257.68309142148473, 350.56029449887694, 194.3686925633896, 137.1121049442337, 127.78381596869647, 123.39670001624613, 93.88461819262531, 74.33470722754181, 54.40429277434509, 263.0555973949723, 50.220565049121056, 48.52541850750785, 42.067663464033046, 37.96694966903793, 37.45275284611342, 35.02658672278106, 33.14985791990644, 22.589407059585607, 18.84030468606137, 18.275998476116893, 16.40322347153037, 13.655728575429364, 13.103966477462302, 11.39038936799871, 10.127842380375853, 10.021858232624886, 9.446047354493224, 8.923650475001358, 8.390061878140866, 7.212470792344258, 6.864862999128124, 3.240424956739096, 287.0939504567449, 231.48141169015915, 94.38638472778747, 204.68365207497465, 251.58367323797268, 64.85367042066083, 147.1603008047798, 632.6736750683672, 345.29088980617917, 439.823496982072, 241.16343662373467, 213.73224884544433, 184.14874874385208, 162.412207207371, 136.22170369813054, 97.94065187162289, 84.09634116518853, 80.99739914408381, 79.31184523111457, 46.929589478429705, 43.465423254982404, 42.748302878268504, 39.42894448973755, 38.818949411762105, 36.930208183667624, 31.152762842006293, 28.878771398428036, 28.539872032981116, 25.880426546813318, 23.748600263106553, 23.424785518952092, 22.362261710465024, 22.081015691162712, 19.34054185312415, 18.757442044847306, 17.025350440327582, 16.076318696702025, 14.072999741314637, 13.599333856842213, 76.08956307594221, 41.60457582370781, 305.44571275044825, 287.0939504567449, 67.85981935158149, 64.85367042066083, 224.69362349787653, 245.0746320131725, 132.05951901380286, 204.68365207497465, 106.56311064836605, 162.67794549888086, 159.618908343475, 158.62898155790606, 150.33332669546667, 127.28822801991284, 123.50852424544134, 114.43261015623763, 110.75600462833663, 102.83998081849481, 94.53687688285767, 84.62508137401691, 82.25298823033987, 81.44569217041244, 78.8401384676282, 78.80182894832545, 77.15583329722608, 68.88915771698323, 66.0012094635113, 62.91762341411719, 60.14277759705783, 55.178263870288525, 53.10644176636475, 114.2078600780844, 51.20222013989629, 48.84082724126586, 45.54612058232854, 44.78414270664019, 41.929382645196235, 41.518725881337105, 39.30140099394662, 1036.5085771149697, 356.2734668383411, 114.40762282417411, 129.12538161753528, 129.8820128493922, 144.24442963607865, 69.79012911838599, 98.3284238211294, 294.25313260796236, 337.2746309624592, 664.7246963257309, 241.7217330339233, 257.7935236554692, 373.2412838358455, 162.08811919978592, 158.53138435061803, 151.48913661728596, 146.0954353567766, 137.91657941434238, 113.95796336186001, 111.96816292636356, 104.12294064058882, 102.4168444445965, 99.64787622379528, 96.6428364916118, 94.4145845078142, 93.40611424085893, 92.25818788594228, 87.20510079323597, 76.86395554361866, 76.77292552941879, 75.48101973680508, 74.40002232330991, 71.27142992747257, 71.02961493432915, 70.94014601961374, 70.76688956863451, 65.4121583882503, 63.113260254832596, 60.812909787058445, 58.366487752360115, 57.30742890498045, 56.64260525896299, 240.10515775080898, 202.61900355112525, 168.12614498734382, 174.3579428798184, 285.7682085051401, 301.9785314865992, 214.39861896228572, 509.9139400766671, 284.21289755799285, 148.7999713319432, 775.725785875959, 254.46581767146807, 123.46535104082265, 356.5020119063267, 1279.517350483891, 608.2258627076476, 664.7246963257309, 215.28933660724255, 375.0057491059459, 274.94369807271465, 211.95669511438396, 235.87509533643725, 329.4845758400075, 372.47072074740515, 179.39132218268583, 127.26213068425852, 87.99888338092654, 82.88828167690099, 57.239521659344966, 57.23143938994253, 47.10979066497117, 35.931368219270915, 34.85744217124512, 33.01278115509263, 28.312593572076207, 25.14997476064117, 21.122695092746813, 17.593433787802393, 16.298556050554865, 16.080934648243023, 14.477860902765292, 13.295471079298894, 29.539978966502783, 12.047941203798086, 11.848444920486331, 135.0287942639523, 8.214676992784984, 8.177355484168192, 7.650190862094749, 6.601219970602777, 29.548350209383848, 42.32338610312968, 15.0827937936026, 64.41364225245874, 1402.1577127325295, 80.69908237263866, 982.375950111381, 215.43305995636226, 69.34413882429354, 1279.517350483891, 360.0519155512186, 168.73211803714136, 139.91423196294878, 139.30941392730395, 138.92268774863462, 111.9740778713252, 88.04089845061982, 85.01094916260341, 67.63367306444049, 64.2328005726057, 56.90953664186933, 53.68535578654195, 51.093539093676924, 45.114529475953, 39.61597517198605, 37.27413054200148, 33.67006952458823, 33.621501244267954, 32.98994115112814, 32.9782021545586, 31.88374953314896, 31.49775054895738, 30.643899570157647, 27.95300990164271, 27.60471075687667, 25.262735231886104, 20.334120638712154, 20.163232014137257, 20.003870460884098, 17.686649674765707, 88.26006042375741, 496.0685628487101, 38.29999892510452, 488.9682709969195, 337.7305599188226, 64.27571763749889, 408.8010711785254, 184.4230150556693, 164.98475764872381, 118.47093208160125, 128.9980705064504, 117.17845515679153, 268.1390721570911, 254.46581767146807, 664.7246963257309, 317.56942758075417, 167.02727529362951, 161.57703400200248, 154.48374246764462, 112.00864528229216, 94.2328899273474, 90.40031401821483, 89.09230895545144, 78.65290351885339, 62.078035524616126, 59.244684599785685, 56.224049278465316, 53.21945112105463, 49.70306627431855, 48.822649476136355, 48.21959032951198, 41.81245796403224, 41.728276774655605, 39.846092155408556, 38.65800211547849, 37.04559196681727, 34.08494287751673, 31.534153303187622, 97.67306862048216, 26.4925586464056, 24.622471505836955, 23.344095852594137, 21.837084464875403, 21.510694420526367, 20.23498988779151, 127.84646101562926, 61.67346138047628, 162.7445922415232, 184.4230150556693, 240.22479538538428, 91.51258858346904, 201.139073753916, 217.28492144474265, 124.11773767186877, 196.90650039892506, 125.3043493080597, 220.30942724478172, 449.27727111668963, 315.321928672213, 226.2483754372629, 199.8882264498797, 170.29350562854657, 167.3161689703047, 167.04556577880493, 165.65208823232027, 164.9988293520809, 160.5049172889276, 123.35957155696212, 109.29076707859986, 103.05137947887316, 101.06216061868939, 93.16454790335577, 82.60696096080964, 76.23925313353315, 69.03662123329137, 66.8295679965785, 58.49190694949922, 53.752137708997104, 47.57169933082421, 45.608235464658144, 44.23555158557771, 43.58094262610906, 40.84328115600083, 40.664751096948514, 37.844521241585376, 37.56609901116567, 37.55592243208102, 209.71743144306757, 200.26133160283183, 164.06607975945377, 238.11797633699234, 1279.517350483891, 118.32569274068749, 155.84731921000176, 282.7103996503503, 1455.6232399631922, 211.95669511438396, 775.725785875959, 418.4416192100869, 205.62107347246985, 974.5897119525818, 479.4486906006281, 301.95577021010155, 664.7246963257309, 152.53885478055182, 121.6552859376808, 101.85648293408231, 64.75047968389231, 46.84454324118597, 33.370666414961846, 26.24768224428331, 25.027455059494198, 20.325285800877868, 19.509341012777245, 18.805121590865824, 16.097691266686127, 16.040509498429547, 15.789582795642373, 10.02618945117739, 9.790931759568682, 7.580507489750701, 7.287681480581424, 65.05381393098592, 215.39331007588711, 162.7445922415232, 495.3883031162257, 78.95467698607544, 143.64475892840764, 76.94043235792745, 240.22479538538428, 29.539978966502783, 139.58211031544158, 1.0594481106205844, 1.0594448212926428, 71.4438120900331, 107.17916703845809, 59.79107016875315, 25.723874285134226, 17.925110465774377, 13.313476808660157, 13.242659075991952, 10.670562902526699, 9.119020131716354, 8.626131532013986, 5.476037272849652, 5.122308998368415, 22.071504017351266, 8.214587217254863, 13.943871812092688, 37.8236595230474, 170.9676158011859, 1402.1577127325295, 23.26881341709917, 40.62020436614153, 149.34390160972148, 1.059438784776571, 1.0594451225105481, 1.0594401546571168, 1.0594445377028088, 1.0594398007212908, 1.0594411221334052, 1.0594460902746963, 1.0594380384435502, 1.0594414234948968, 1.0594399220024417, 129.12538161753528, 1.059442946433266, 1.059446348585237, 1.05946356313656, 1.0594439369951598, 1.0594641551319965, 40.84328115600083, 200.71337724277382, 1.0594367724633607, 1.0594368015615276, 1.0594368098442208, 1.059436842252829, 1.0594368519142143, 1.0594368680129786, 1.0594368685671796, 1.0594368694242915, 1.0594368698949483, 1.059436877200306, 1.059436877812472, 1.0594368853552867, 1.0594368901050633, 1.0594369001516288, 1.0594369082280948, 1.059436910288707, 1.0594369131313686, 1.0594369141419628, 1.0594369257790972, 1.0594369307994576, 1.0594369308044926, 1.0594369376357997, 1.059436940088836, 1.0594369495203948, 1.0594369551821932, 1.0594369585568482, 1.059436964196904, 1.0594369648607407, 1.0594369685438916, 1.0594369696202235, 408.8010711785254, 21.40800216803869, 80.99739914408381, 327.09970746154556, 144.24442963607865, 9.381778063316341, 156.57752765628985, 47.87431291621401, 133.32437561173933, 45.54612058232854, 44.7609529191329, 73.86536470361833, 26.534617902550245, 1.0594373530025134, 103.70266173956726, 5.305101478789846, 78.93246837075569, 184.62703485061775, 742.9498949097394, 245.0746320131725, 68.38463752381305, 199.8882264498797, 79.31184523111457, 12.532281264848974, 150.33332669546667, 18.757442044847306, 34.567505733725696, 11.156054801398897, 469.5215027931114, 99.33561044165053, 310.2462220812195, 260.7963737597104, 184.62703485061775, 113.65463425437947, 107.91626420913232, 74.91974794137968, 68.27895649013745, 67.62740877424118, 60.216916481675575, 49.66089492571725, 44.59799489704407, 38.27656370879368, 33.94250542797078, 30.551915560863172, 30.14744035665374, 29.42340471992834, 29.37653645563954, 24.17807059548758, 22.120818098682925, 21.955310582979905, 21.40800216803869, 19.70641619229847, 19.60913993121793, 18.549334215615715, 14.505357319790777, 14.065303003943297, 13.8239863873478, 10.013942303733979, 7.767627138221664, 7.45112643986, 245.0746320131725, 481.40829472662494, 106.56311064836605, 65.33498227390432, 127.53119745927276, 181.96955692748872], \"Category\": [\"Default\", \"Default\", \"Default\", \"Default\", \"Default\", \"Default\", \"Default\", \"Default\", \"Default\", \"Default\", \"Default\", \"Default\", \"Default\", \"Default\", \"Default\", \"Default\", \"Default\", \"Default\", \"Default\", \"Default\", \"Default\", \"Default\", \"Default\", \"Default\", \"Default\", \"Default\", \"Default\", \"Default\", \"Default\", \"Default\", \"Topic1\", \"Topic1\", \"Topic1\", \"Topic1\", \"Topic1\", \"Topic1\", \"Topic1\", \"Topic1\", \"Topic1\", \"Topic1\", \"Topic1\", \"Topic1\", \"Topic1\", \"Topic1\", \"Topic1\", \"Topic1\", \"Topic1\", \"Topic1\", \"Topic1\", \"Topic1\", \"Topic1\", \"Topic1\", \"Topic1\", \"Topic1\", \"Topic1\", \"Topic1\", \"Topic1\", \"Topic1\", \"Topic1\", \"Topic1\", \"Topic1\", \"Topic1\", \"Topic1\", \"Topic1\", \"Topic1\", \"Topic1\", \"Topic1\", \"Topic1\", \"Topic1\", \"Topic1\", \"Topic1\", \"Topic1\", \"Topic1\", \"Topic2\", \"Topic2\", \"Topic2\", \"Topic2\", \"Topic2\", \"Topic2\", \"Topic2\", \"Topic2\", \"Topic2\", \"Topic2\", \"Topic2\", \"Topic2\", \"Topic2\", \"Topic2\", \"Topic2\", \"Topic2\", \"Topic2\", \"Topic2\", \"Topic2\", \"Topic2\", \"Topic2\", \"Topic2\", \"Topic2\", \"Topic2\", \"Topic2\", \"Topic2\", \"Topic2\", \"Topic2\", \"Topic2\", \"Topic2\", \"Topic2\", \"Topic2\", \"Topic2\", \"Topic2\", \"Topic2\", \"Topic2\", \"Topic2\", \"Topic2\", \"Topic2\", \"Topic2\", \"Topic2\", \"Topic2\", \"Topic2\", \"Topic2\", \"Topic3\", \"Topic3\", \"Topic3\", \"Topic3\", \"Topic3\", \"Topic3\", \"Topic3\", \"Topic3\", \"Topic3\", \"Topic3\", \"Topic3\", \"Topic3\", \"Topic3\", \"Topic3\", \"Topic3\", \"Topic3\", \"Topic3\", \"Topic3\", \"Topic3\", \"Topic3\", \"Topic3\", \"Topic3\", \"Topic3\", \"Topic3\", \"Topic3\", \"Topic3\", \"Topic3\", \"Topic3\", \"Topic3\", \"Topic3\", \"Topic3\", \"Topic3\", \"Topic3\", \"Topic3\", \"Topic3\", \"Topic3\", \"Topic3\", \"Topic3\", \"Topic3\", \"Topic3\", \"Topic3\", \"Topic3\", \"Topic3\", \"Topic3\", \"Topic3\", \"Topic3\", \"Topic3\", \"Topic4\", \"Topic4\", \"Topic4\", \"Topic4\", \"Topic4\", \"Topic4\", \"Topic4\", \"Topic4\", \"Topic4\", \"Topic4\", \"Topic4\", \"Topic4\", \"Topic4\", \"Topic4\", \"Topic4\", \"Topic4\", \"Topic4\", \"Topic4\", \"Topic4\", \"Topic4\", \"Topic4\", \"Topic4\", \"Topic4\", \"Topic4\", \"Topic4\", \"Topic4\", \"Topic4\", \"Topic4\", \"Topic4\", \"Topic4\", \"Topic4\", \"Topic4\", \"Topic4\", \"Topic4\", \"Topic4\", \"Topic4\", \"Topic4\", \"Topic4\", \"Topic5\", \"Topic5\", \"Topic5\", \"Topic5\", \"Topic5\", \"Topic5\", \"Topic5\", \"Topic5\", \"Topic5\", \"Topic5\", \"Topic5\", \"Topic5\", \"Topic5\", \"Topic5\", \"Topic5\", \"Topic5\", \"Topic5\", \"Topic5\", \"Topic5\", \"Topic5\", \"Topic5\", \"Topic5\", \"Topic5\", \"Topic5\", \"Topic5\", \"Topic5\", \"Topic5\", \"Topic5\", \"Topic5\", \"Topic5\", \"Topic5\", \"Topic5\", \"Topic5\", \"Topic5\", \"Topic5\", \"Topic5\", \"Topic5\", \"Topic5\", \"Topic5\", \"Topic6\", \"Topic6\", \"Topic6\", \"Topic6\", \"Topic6\", \"Topic6\", \"Topic6\", \"Topic6\", \"Topic6\", \"Topic6\", \"Topic6\", \"Topic6\", \"Topic6\", \"Topic6\", \"Topic6\", \"Topic6\", \"Topic6\", \"Topic6\", \"Topic6\", \"Topic6\", \"Topic6\", \"Topic6\", \"Topic6\", \"Topic6\", \"Topic6\", \"Topic6\", \"Topic6\", \"Topic6\", \"Topic6\", \"Topic6\", \"Topic6\", \"Topic6\", \"Topic6\", \"Topic6\", \"Topic6\", \"Topic6\", \"Topic6\", \"Topic6\", \"Topic6\", \"Topic6\", \"Topic6\", \"Topic6\", \"Topic6\", \"Topic6\", \"Topic6\", \"Topic6\", \"Topic6\", \"Topic6\", \"Topic6\", \"Topic6\", \"Topic6\", \"Topic6\", \"Topic6\", \"Topic6\", \"Topic6\", \"Topic7\", \"Topic7\", \"Topic7\", \"Topic7\", \"Topic7\", \"Topic7\", \"Topic7\", \"Topic7\", \"Topic7\", \"Topic7\", \"Topic7\", \"Topic7\", \"Topic7\", \"Topic7\", \"Topic7\", \"Topic7\", \"Topic7\", \"Topic7\", \"Topic7\", \"Topic7\", \"Topic7\", \"Topic7\", \"Topic7\", \"Topic7\", \"Topic7\", \"Topic7\", \"Topic7\", \"Topic7\", \"Topic7\", \"Topic7\", \"Topic7\", \"Topic7\", \"Topic7\", \"Topic7\", \"Topic7\", \"Topic7\", \"Topic7\", \"Topic7\", \"Topic7\", \"Topic8\", \"Topic8\", \"Topic8\", \"Topic8\", \"Topic8\", \"Topic8\", \"Topic8\", \"Topic8\", \"Topic8\", \"Topic8\", \"Topic8\", \"Topic8\", \"Topic8\", \"Topic8\", \"Topic8\", \"Topic8\", \"Topic8\", \"Topic8\", \"Topic8\", \"Topic8\", \"Topic8\", \"Topic8\", \"Topic8\", \"Topic8\", \"Topic8\", \"Topic8\", \"Topic8\", \"Topic8\", \"Topic8\", \"Topic8\", \"Topic8\", \"Topic8\", \"Topic8\", \"Topic8\", \"Topic8\", \"Topic9\", \"Topic9\", \"Topic9\", \"Topic9\", \"Topic9\", \"Topic9\", \"Topic9\", \"Topic9\", \"Topic9\", \"Topic9\", \"Topic9\", \"Topic9\", \"Topic9\", \"Topic9\", \"Topic9\", \"Topic9\", \"Topic9\", \"Topic9\", \"Topic9\", \"Topic9\", \"Topic9\", \"Topic9\", \"Topic9\", \"Topic9\", \"Topic9\", \"Topic9\", \"Topic9\", \"Topic9\", \"Topic9\", \"Topic9\", \"Topic9\", \"Topic9\", \"Topic9\", \"Topic9\", \"Topic9\", \"Topic9\", \"Topic9\", \"Topic9\", \"Topic9\", \"Topic10\", \"Topic10\", \"Topic10\", \"Topic10\", \"Topic10\", \"Topic10\", \"Topic10\", \"Topic10\", \"Topic10\", \"Topic10\", \"Topic10\", \"Topic10\", \"Topic10\", \"Topic10\", \"Topic10\", \"Topic10\", \"Topic10\", \"Topic10\", \"Topic10\", \"Topic10\", \"Topic10\", \"Topic10\", \"Topic10\", \"Topic10\", \"Topic10\", \"Topic10\", \"Topic10\", \"Topic10\", \"Topic10\", \"Topic10\", \"Topic10\", \"Topic10\", \"Topic10\", \"Topic10\", \"Topic10\", \"Topic10\", \"Topic10\", \"Topic10\", \"Topic10\", \"Topic10\", \"Topic10\", \"Topic10\", \"Topic10\", \"Topic10\", \"Topic10\", \"Topic10\", \"Topic10\", \"Topic10\", \"Topic10\", \"Topic10\", \"Topic10\", \"Topic10\", \"Topic10\", \"Topic10\", \"Topic10\", \"Topic10\", \"Topic11\", \"Topic11\", \"Topic11\", \"Topic11\", \"Topic11\", \"Topic11\", \"Topic11\", \"Topic11\", \"Topic11\", \"Topic11\", \"Topic11\", \"Topic11\", \"Topic11\", \"Topic11\", \"Topic11\", \"Topic11\", \"Topic11\", \"Topic11\", \"Topic11\", \"Topic11\", \"Topic11\", \"Topic11\", \"Topic11\", \"Topic11\", \"Topic11\", \"Topic11\", \"Topic11\", \"Topic11\", \"Topic11\", \"Topic11\", \"Topic11\", \"Topic11\", \"Topic11\", \"Topic11\", \"Topic11\", \"Topic11\", \"Topic11\", \"Topic11\", \"Topic11\", \"Topic11\", \"Topic12\", \"Topic12\", \"Topic12\", \"Topic12\", \"Topic12\", \"Topic12\", \"Topic12\", \"Topic12\", \"Topic12\", \"Topic12\", \"Topic12\", \"Topic12\", \"Topic12\", \"Topic12\", \"Topic12\", \"Topic12\", \"Topic12\", \"Topic12\", \"Topic12\", \"Topic12\", \"Topic12\", \"Topic12\", \"Topic12\", \"Topic12\", \"Topic12\", \"Topic12\", \"Topic12\", \"Topic12\", \"Topic12\", \"Topic12\", \"Topic12\", \"Topic12\", \"Topic12\", \"Topic12\", \"Topic12\", \"Topic12\", \"Topic12\", \"Topic12\", \"Topic12\", \"Topic12\", \"Topic13\", \"Topic13\", \"Topic13\", \"Topic13\", \"Topic13\", \"Topic13\", \"Topic13\", \"Topic13\", \"Topic13\", \"Topic13\", \"Topic13\", \"Topic13\", \"Topic13\", \"Topic13\", \"Topic13\", \"Topic13\", \"Topic13\", \"Topic13\", \"Topic13\", \"Topic13\", \"Topic13\", \"Topic13\", \"Topic13\", \"Topic13\", \"Topic13\", \"Topic13\", \"Topic13\", \"Topic13\", \"Topic13\", \"Topic13\", \"Topic13\", \"Topic13\", \"Topic13\", \"Topic13\", \"Topic13\", \"Topic13\", \"Topic13\", \"Topic13\", \"Topic13\", \"Topic13\", \"Topic13\", \"Topic13\", \"Topic13\", \"Topic14\", \"Topic14\", \"Topic14\", \"Topic14\", \"Topic14\", \"Topic14\", \"Topic14\", \"Topic14\", \"Topic14\", \"Topic14\", \"Topic14\", \"Topic14\", \"Topic14\", \"Topic14\", \"Topic14\", \"Topic14\", \"Topic14\", \"Topic14\", \"Topic14\", \"Topic14\", \"Topic14\", \"Topic14\", \"Topic14\", \"Topic14\", \"Topic14\", \"Topic14\", \"Topic14\", \"Topic14\", \"Topic14\", \"Topic14\", \"Topic14\", \"Topic14\", \"Topic14\", \"Topic14\", \"Topic14\", \"Topic14\", \"Topic14\", \"Topic14\", \"Topic14\", \"Topic14\", \"Topic14\", \"Topic14\", \"Topic14\", \"Topic14\", \"Topic14\", \"Topic14\", \"Topic14\", \"Topic14\", \"Topic14\", \"Topic14\", \"Topic14\", \"Topic14\", \"Topic14\", \"Topic15\", \"Topic15\", \"Topic15\", \"Topic15\", \"Topic15\", \"Topic15\", \"Topic15\", \"Topic15\", \"Topic15\", \"Topic15\", \"Topic15\", \"Topic15\", \"Topic15\", \"Topic15\", \"Topic15\", \"Topic15\", \"Topic15\", \"Topic15\", \"Topic15\", \"Topic15\", \"Topic15\", \"Topic15\", \"Topic15\", \"Topic15\", \"Topic15\", \"Topic15\", \"Topic15\", \"Topic15\", \"Topic15\", \"Topic15\", \"Topic15\", \"Topic15\", \"Topic15\", \"Topic15\", \"Topic15\", \"Topic15\", \"Topic15\", \"Topic16\", \"Topic16\", \"Topic16\", \"Topic16\", \"Topic16\", \"Topic16\", \"Topic16\", \"Topic16\", \"Topic16\", \"Topic16\", \"Topic16\", \"Topic16\", \"Topic16\", \"Topic16\", \"Topic16\", \"Topic16\", \"Topic16\", \"Topic16\", \"Topic16\", \"Topic16\", \"Topic16\", \"Topic16\", \"Topic16\", \"Topic16\", \"Topic16\", \"Topic16\", \"Topic16\", \"Topic16\", \"Topic16\", \"Topic16\", \"Topic16\", \"Topic16\", \"Topic16\", \"Topic16\", \"Topic16\", \"Topic16\", \"Topic16\", \"Topic16\", \"Topic16\", \"Topic16\", \"Topic16\", \"Topic16\", \"Topic16\", \"Topic16\", \"Topic16\", \"Topic17\", \"Topic17\", \"Topic17\", \"Topic17\", \"Topic17\", \"Topic17\", \"Topic17\", \"Topic17\", \"Topic17\", \"Topic17\", \"Topic17\", \"Topic17\", \"Topic17\", \"Topic17\", \"Topic17\", \"Topic17\", \"Topic17\", \"Topic17\", \"Topic17\", \"Topic17\", \"Topic17\", \"Topic17\", \"Topic17\", \"Topic17\", \"Topic17\", \"Topic17\", \"Topic17\", \"Topic17\", \"Topic17\", \"Topic17\", \"Topic17\", \"Topic17\", \"Topic17\", \"Topic17\", \"Topic17\", \"Topic17\", \"Topic17\", \"Topic17\", \"Topic17\", \"Topic17\", \"Topic17\", \"Topic17\", \"Topic18\", \"Topic18\", \"Topic18\", \"Topic18\", \"Topic18\", \"Topic18\", \"Topic18\", \"Topic18\", \"Topic18\", \"Topic18\", \"Topic18\", \"Topic18\", \"Topic18\", \"Topic18\", \"Topic18\", \"Topic18\", \"Topic18\", \"Topic18\", \"Topic18\", \"Topic18\", \"Topic18\", \"Topic18\", \"Topic18\", \"Topic18\", \"Topic18\", \"Topic18\", \"Topic18\", \"Topic18\", \"Topic18\", \"Topic18\", \"Topic18\", \"Topic18\", \"Topic18\", \"Topic18\", \"Topic18\", \"Topic18\", \"Topic18\", \"Topic18\", \"Topic18\", \"Topic18\", \"Topic18\", \"Topic18\", \"Topic18\", \"Topic18\", \"Topic18\", \"Topic18\", \"Topic18\", \"Topic19\", \"Topic19\", \"Topic19\", \"Topic19\", \"Topic19\", \"Topic19\", \"Topic19\", \"Topic19\", \"Topic19\", \"Topic19\", \"Topic19\", \"Topic19\", \"Topic19\", \"Topic19\", \"Topic19\", \"Topic19\", \"Topic19\", \"Topic19\", \"Topic19\", \"Topic19\", \"Topic19\", \"Topic19\", \"Topic19\", \"Topic19\", \"Topic19\", \"Topic19\", \"Topic19\", \"Topic19\", \"Topic19\", \"Topic19\", \"Topic19\", \"Topic20\", \"Topic20\", \"Topic20\", \"Topic20\", \"Topic20\", \"Topic20\", \"Topic20\", \"Topic20\", \"Topic20\", \"Topic20\", \"Topic20\", \"Topic20\", \"Topic20\", \"Topic20\", \"Topic20\", \"Topic20\", \"Topic20\", \"Topic20\", \"Topic20\", \"Topic20\", \"Topic20\", \"Topic20\", \"Topic20\", \"Topic20\", \"Topic20\", \"Topic20\", \"Topic20\", \"Topic20\", \"Topic20\", \"Topic20\", \"Topic20\", \"Topic20\", \"Topic20\", \"Topic20\", \"Topic20\", \"Topic20\", \"Topic20\", \"Topic20\", \"Topic21\", \"Topic21\", \"Topic21\", \"Topic21\", \"Topic21\", \"Topic21\", \"Topic21\", \"Topic21\", \"Topic21\", \"Topic21\", \"Topic21\", \"Topic21\", \"Topic21\", \"Topic21\", \"Topic21\", \"Topic21\", \"Topic21\", \"Topic21\", \"Topic21\", \"Topic21\", \"Topic21\", \"Topic21\", \"Topic21\", \"Topic21\", \"Topic21\", \"Topic21\", \"Topic21\", \"Topic21\", \"Topic21\", \"Topic21\", \"Topic21\", \"Topic21\", \"Topic21\", \"Topic21\", \"Topic21\", \"Topic21\", \"Topic21\", \"Topic21\", \"Topic21\", \"Topic21\", \"Topic21\", \"Topic21\", \"Topic21\", \"Topic21\", \"Topic21\", \"Topic21\", \"Topic21\", \"Topic21\", \"Topic21\", \"Topic21\", \"Topic21\", \"Topic21\", \"Topic21\", \"Topic21\", \"Topic21\", \"Topic21\", \"Topic21\", \"Topic21\", \"Topic21\", \"Topic21\", \"Topic22\", \"Topic22\", \"Topic22\", \"Topic22\", \"Topic22\", \"Topic22\", \"Topic22\", \"Topic22\", \"Topic22\", \"Topic22\", \"Topic22\", \"Topic22\", \"Topic22\", \"Topic22\", \"Topic22\", \"Topic22\", \"Topic22\", \"Topic22\", \"Topic22\", \"Topic22\", \"Topic22\", \"Topic22\", \"Topic22\", \"Topic22\", \"Topic22\", \"Topic22\", \"Topic22\", \"Topic22\", \"Topic22\", \"Topic22\", \"Topic22\", \"Topic22\", \"Topic22\", \"Topic22\", \"Topic22\", \"Topic22\"], \"logprob\": [30.0, 29.0, 28.0, 27.0, 26.0, 25.0, 24.0, 23.0, 22.0, 21.0, 20.0, 19.0, 18.0, 17.0, 16.0, 15.0, 14.0, 13.0, 12.0, 11.0, 10.0, 9.0, 8.0, 7.0, 6.0, 5.0, 4.0, 3.0, 2.0, 1.0, -2.6816, -2.8312, -3.3652, -3.4158, -3.7021, -3.9164, -4.0381, -4.0589, -4.2122, -4.3045, -4.315, -4.5239, -4.5636, -4.564, -4.6539, -4.692, -4.7059, -4.7401, -4.8209, -4.8468, -4.8888, -4.9194, -4.9937, -5.0033, -5.0391, -5.0495, -5.076, -5.1254, -5.1981, -5.1993, -3.0669, -3.5949, -3.6971, -4.156, -4.1956, -3.4815, -4.6092, -4.3859, -4.3698, -4.3208, -4.6217, -4.4697, -4.6154, -2.2966, -2.5575, -2.6051, -2.7023, -3.4236, -3.4748, -3.937, -4.4187, -4.4664, -4.4997, -4.5377, -4.6901, -4.7872, -4.9402, -5.0267, -5.0298, -5.1612, -5.2253, -5.2886, -5.3644, -5.61, -5.6602, -5.7082, -5.8317, -4.2271, -5.9778, -6.0455, -6.1968, -6.2285, -6.2776, -2.5875, -3.8244, -3.0349, -3.7825, -4.3633, -3.6603, -3.3567, -2.6331, -4.8882, -4.6283, -3.8123, -4.3657, -4.7759, -5.016, -2.3513, -3.2796, -3.4519, -3.6955, -3.8934, -3.8992, -4.1505, -4.4562, -4.5158, -4.715, -4.7974, -4.7994, -4.8157, -4.8414, -4.8837, -4.9037, -5.1229, -5.1467, -5.374, -5.439, -5.4846, -5.5071, -5.5269, -5.558, -5.5734, -5.5945, -5.7438, -5.7815, -5.7848, -5.8748, -2.6258, -4.5827, -4.6834, -2.8271, -4.0891, -4.806, -4.6394, -3.605, -4.9576, -4.2521, -4.4943, -4.2482, -4.5379, -4.23, -4.4754, -4.621, -4.8399, -1.9486, -1.7382, -3.3688, -3.4659, -3.4733, -3.7015, -4.1147, -4.459, -1.8952, -4.7526, -4.7926, -4.849, -4.9918, -5.3474, -5.5561, -5.7316, -6.1192, -6.142, -6.5482, -6.7987, -3.3988, -5.4643, -4.4706, -4.9295, -3.3577, -4.772, -4.488, -4.5813, -3.3396, -4.6043, -3.2488, -4.1548, -3.6735, -4.6764, -4.7994, -5.1399, -4.7944, -5.2773, -1.401, -2.5561, -2.8541, -3.1157, -3.3368, -3.3817, -3.5139, -3.9614, -3.9734, -4.0859, -4.1004, -4.2154, -4.316, -4.4529, -4.5811, -4.6786, -4.7696, -4.8232, -4.9981, -5.0608, -5.2643, -5.3435, -5.3521, -5.4269, -5.431, -5.4503, -5.5292, -5.6209, -5.6654, -5.673, -4.5909, -3.4839, -4.7468, -3.601, -3.6771, -4.1982, -3.9257, -4.7743, -5.1543, -3.5413, -4.2299, -4.317, -4.8151, -4.874, -4.9435, -4.9772, -5.0434, -5.1381, -5.1542, -5.2385, -5.293, -5.3222, -5.3455, -5.4132, -5.4347, -5.4409, -5.4762, -5.4995, -5.5199, -5.5225, -5.5583, -5.5585, -5.4261, -5.5897, -5.6169, -5.6275, -5.6544, -5.6584, -5.8615, -4.4507, -4.2647, -4.4857, -4.4047, -3.0889, -4.2403, -4.9436, -4.9944, -3.9218, -5.3757, -3.97, -4.3683, -4.8811, -4.0085, -4.7546, -4.9032, -5.2131, -4.5666, -4.6738, -4.9183, -4.8825, -4.5714, -4.9283, -4.941, -5.0397, -1.2901, -2.1232, -2.5662, -2.8482, -2.898, -3.1373, -3.7183, -5.1087, -3.7982, -9.2421, -9.2421, -9.2421, -9.2421, -9.2421, -9.2421, -9.2421, -9.2421, -9.2421, -9.2421, -9.2421, -9.2421, -9.2421, -9.2421, -9.2421, -9.2421, -9.2421, -9.2421, -9.2421, -9.2421, -9.2421, -4.6501, -9.2421, -9.2421, -9.2421, -9.2421, -9.2421, -9.2421, -9.2421, -9.2421, -2.8947, -2.9082, -3.1455, -3.3501, -3.3879, -3.4203, -3.4725, -3.7531, -3.7607, -3.8757, -3.9586, -3.9845, -4.0383, -4.0742, -4.0772, -4.1774, -4.2168, -4.2402, -4.2507, -4.3015, -4.414, -4.4993, -4.5287, -4.5612, -4.5964, -4.6822, -4.6953, -4.7854, -4.9393, -4.9954, -3.7205, -3.3891, -4.3498, -3.954, -4.4367, -2.2914, -2.6746, -2.8485, -3.3889, -3.4244, -3.5043, -3.5257, -3.6298, -3.6604, -3.6845, -3.6964, -3.7681, -3.7759, -3.93, -4.0437, -4.2162, -4.3557, -4.3686, -4.4386, -4.5358, -4.5948, -4.6472, -4.7031, -4.7542, -4.7696, -4.8272, -4.8984, -4.9232, -4.9399, -4.947, -3.9924, -3.7092, -4.7345, -4.683, -4.3295, -4.302, -4.0165, -4.0129, -4.3422, -3.4062, -4.5641, -4.5863, -4.6225, -4.6875, -4.7713, -4.7722, -4.8003, -4.9301, -4.9228, -4.9599, -4.985, -5.1449, -5.1495, -5.1688, -5.1731, -5.2467, -5.2647, -5.293, -5.2982, -5.3336, -5.3411, -3.4716, -5.3709, -5.3996, -5.4402, -5.471, -5.5323, -5.5773, -5.6067, -4.0309, -5.2274, -3.6364, -4.6363, -4.9164, -5.1239, -4.9147, -4.697, -3.4127, -4.0831, -4.2994, -4.7124, -3.4622, -4.6753, -4.0414, -4.477, -4.0267, -4.6797, -4.5743, -4.4544, -4.7202, -4.2392, -4.6789, -4.6679, -4.7073, -4.7702, -2.3365, -2.6876, -2.7586, -2.7938, -3.0698, -3.3062, -3.6234, -2.0479, -3.705, -3.74, -3.8861, -3.9914, -4.0054, -4.0743, -4.131, -4.5295, -4.7203, -4.7525, -4.8674, -5.064, -5.1087, -5.2615, -5.3913, -5.403, -5.469, -5.533, -5.6028, -5.7768, -5.8345, -6.8008, -3.4961, -3.7501, -4.4129, -4.0832, -4.3506, -4.8441, -4.6615, -4.4427, -4.8528, -5.0717, -2.5382, -2.6595, -2.8093, -2.9356, -3.1127, -3.4455, -3.5996, -3.6376, -3.6589, -4.1926, -4.271, -4.288, -4.3709, -4.3869, -4.4381, -4.6135, -4.6919, -4.7042, -4.8057, -4.8953, -4.9097, -4.9582, -4.9715, -5.1108, -5.1431, -5.2458, -5.3069, -5.4496, -5.4865, -3.7681, -4.4211, -2.5381, -2.6012, -3.9598, -4.1884, -3.7491, -3.9016, -4.24, -4.167, -4.5114, -3.8865, -3.9056, -3.9119, -3.966, -4.1336, -4.164, -4.241, -4.2739, -4.3488, -4.4338, -4.5458, -4.5746, -4.5846, -4.6175, -4.618, -4.6394, -4.7549, -4.7978, -4.8464, -4.8923, -4.98, -5.019, -4.2537, -5.0562, -5.1044, -5.1757, -5.193, -5.2604, -5.2705, -5.3268, -2.0695, -3.1501, -4.3841, -4.2803, -4.2849, -4.2003, -4.8397, -4.6733, -4.1361, -4.1219, -3.9023, -4.3419, -4.4931, -3.6085, -4.4461, -4.4684, -4.5142, -4.5507, -4.6087, -4.8011, -4.8188, -4.8922, -4.9089, -4.9365, -4.9675, -4.9911, -5.0019, -5.0144, -5.0714, -5.1992, -5.2004, -5.2176, -5.2322, -5.2758, -5.2792, -5.2805, -5.283, -5.3628, -5.3992, -5.4369, -5.4787, -5.4973, -5.5092, -4.0943, -4.2737, -4.4849, -4.5241, -4.1066, -4.0858, -4.4113, -3.7704, -4.2578, -4.736, -3.5621, -4.3733, -4.877, -4.2858, -3.8037, -4.4211, -4.5207, -4.8037, -4.7502, -4.8152, -4.8643, -4.8657, -4.8741, -1.7544, -2.4879, -2.8335, -3.206, -3.2665, -3.6423, -3.6424, -3.8409, -4.1186, -4.1498, -4.2058, -4.3646, -4.4877, -4.6702, -4.8631, -4.9444, -4.9587, -5.0711, -5.163, -4.3706, -5.27, -5.2882, -2.8846, -5.6963, -5.7015, -5.7778, -5.9496, -4.5004, -4.4297, -5.6594, -4.2563, -2.2318, -4.3997, -3.4713, -4.5065, -5.1391, -4.9761, -2.5199, -3.281, -3.4696, -3.4739, -3.4767, -3.6941, -3.9371, -3.9725, -4.2043, -4.2567, -4.3798, -4.4392, -4.4897, -4.6168, -4.75, -4.8126, -4.9173, -4.9188, -4.9383, -4.9387, -4.9735, -4.9861, -5.0145, -5.1097, -5.1228, -5.215, -5.4422, -5.4511, -5.4594, -5.5895, -4.0347, -2.3789, -4.8562, -2.916, -3.4577, -4.6106, -3.5673, -4.1179, -4.3786, -4.5131, -4.5224, -4.5756, -4.5997, -4.6763, -4.6567, -2.4685, -3.1139, -3.1473, -3.1927, -3.5165, -3.691, -3.733, -3.7477, -3.8739, -4.114, -4.1615, -4.2148, -4.2708, -4.3405, -4.3587, -4.3714, -4.5173, -4.5193, -4.5667, -4.5977, -4.6415, -4.7272, -4.8075, -3.677, -4.988, -5.0642, -5.1199, -5.1898, -5.2055, -5.2698, -3.4907, -4.306, -3.5166, -3.5181, -3.3953, -4.1102, -3.5853, -3.6276, -4.2378, -4.109, -4.4856, -4.4815, -2.9725, -3.3275, -3.6607, -3.7851, -3.9463, -3.964, -3.9656, -3.9741, -3.978, -4.0058, -4.271, -4.3931, -4.4525, -4.4721, -4.5544, -4.676, -4.7573, -4.8579, -4.8909, -5.0263, -5.1124, -5.237, -5.2801, -5.3114, -5.3266, -5.3932, -5.3976, -5.4714, -5.479, -5.4792, -3.8619, -3.9231, -4.1094, -3.8203, -2.6837, -4.5826, -4.4692, -4.0764, -3.052, -4.4241, -3.8825, -4.2306, -4.5085, -4.167, -4.3767, -4.4718, -4.4197, -2.0953, -2.3232, -2.5025, -2.9613, -3.291, -3.6391, -3.8877, -3.9373, -4.1551, -4.1983, -4.2371, -4.4022, -4.406, -4.4228, -4.917, -4.9434, -5.2334, -5.279, -3.3735, -2.9005, -3.1882, -2.1817, -4.1707, -4.249, -4.9899, -4.0591, -6.7518, -5.2062, -10.1086, -10.1087, -6.0998, -2.1873, -2.7785, -3.6449, -4.024, -4.3423, -4.3481, -4.5841, -4.7591, -4.8218, -5.3554, -5.4378, -4.3405, -5.4887, -5.0536, -4.3397, -2.9456, -0.8709, -5.5954, -5.0679, -3.7701, -9.8137, -9.8137, -9.8137, -9.8137, -9.8137, -9.8137, -9.8137, -9.8137, -9.8137, -9.8137, -5.3292, -9.8137, -9.8137, -9.8137, -9.8137, -9.8137, -9.7376, -9.8136, -8.0725, -8.0725, -8.0725, -8.0725, -8.0725, -8.0725, -8.0725, -8.0725, -8.0725, -8.0725, -8.0725, -8.0725, -8.0725, -8.0725, -8.0725, -8.0725, -8.0725, -8.0725, -8.0725, -8.0725, -8.0725, -8.0725, -8.0725, -8.0725, -8.0725, -8.0725, -8.0725, -8.0725, -8.0725, -8.0725, -8.0725, -8.0725, -8.0725, -8.0725, -8.0725, -8.0725, -8.0725, -8.0725, -8.0725, -8.0725, -8.0725, -8.0725, -8.0725, -8.0725, -8.0725, -8.0725, -8.0725, -8.0725, -8.0725, -8.0725, -8.0725, -8.0725, -8.0725, -8.0725, -8.0725, -8.0725, -8.0725, -8.0725, -8.0725, -8.0725, -1.959, -2.1332, -2.4802, -2.9688, -3.0211, -3.3902, -3.4844, -3.4941, -3.612, -3.8084, -3.9183, -4.0749, -4.1986, -4.3072, -4.321, -4.3462, -4.3478, -4.5502, -4.6432, -4.6511, -4.6776, -4.7646, -4.7699, -4.8285, -5.0906, -5.1237, -5.1424, -5.4952, -5.7821, -5.83, -3.3325, -3.1642, -4.2405, -4.6326, -4.9149, -4.9277], \"loglift\": [30.0, 29.0, 28.0, 27.0, 26.0, 25.0, 24.0, 23.0, 22.0, 21.0, 20.0, 19.0, 18.0, 17.0, 16.0, 15.0, 14.0, 13.0, 12.0, 11.0, 10.0, 9.0, 8.0, 7.0, 6.0, 5.0, 4.0, 3.0, 2.0, 1.0, 3.1644, 3.164, 3.1618, 3.1615, 3.1597, 3.158, 3.1569, 3.1566, 3.1549, 3.1538, 3.1536, 3.1505, 3.1499, 3.1499, 3.1483, 3.1476, 3.1473, 3.1466, 3.1449, 3.1443, 3.1434, 3.1427, 3.1408, 3.1406, 3.1396, 3.1393, 3.1386, 3.1372, 3.135, 3.1349, 3.1309, 3.1252, 2.9709, 2.9984, 2.9144, 2.4943, 2.9497, 2.6753, 1.8339, 1.496, 2.0662, 0.4463, 1.2557, 3.4383, 3.4376, 3.4374, 3.4371, 3.4334, 3.433, 3.4285, 3.4211, 3.4202, 3.4195, 3.4187, 3.4151, 3.4125, 3.408, 3.4051, 3.405, 3.4001, 3.3974, 3.3947, 3.3912, 3.3778, 3.3747, 3.3715, 3.3628, 3.3555, 3.3511, 3.3451, 3.3304, 3.327, 3.3216, 3.2293, 3.2047, 3.159, 3.1836, 3.1719, 3.0275, 2.6546, 2.0107, 2.9129, 2.5712, 1.379, 0.0742, 1.0089, 1.4142, 2.3681, 2.3668, 2.3664, 2.3657, 2.365, 2.3649, 2.3638, 2.362, 2.3615, 2.3599, 2.3591, 2.3591, 2.359, 2.3587, 2.3583, 2.3581, 2.3554, 2.3551, 2.3516, 2.3504, 2.3496, 2.3491, 2.3487, 2.3481, 2.3478, 2.3473, 2.3439, 2.343, 2.3428, 2.3405, 2.2822, 2.2239, 2.176, 1.6877, 1.9593, 2.0888, 2.0172, 1.5875, 2.0644, 1.6598, 1.6193, 1.4144, 1.6157, 1.1181, 1.0884, 1.3795, 1.4853, 3.2389, 3.2368, 3.2346, 3.234, 3.234, 3.2324, 3.2284, 3.2236, 3.2207, 3.2179, 3.217, 3.2157, 3.212, 3.2002, 3.1911, 3.1819, 3.1555, 3.1536, 3.1129, 3.0794, 2.9547, 2.9303, 2.92, 2.9166, 2.8488, 2.8366, 2.7485, 2.5992, 2.5672, 2.3647, 2.357, 1.4366, 0.7665, 1.7211, 1.7897, 1.7984, -0.1506, 1.1095, 4.1253, 4.1211, 4.119, 4.1166, 4.114, 4.1134, 4.1115, 4.1027, 4.1024, 4.0995, 4.0991, 4.0957, 4.0925, 4.0875, 4.0822, 4.0777, 4.0731, 4.0702, 4.0596, 4.0554, 4.0399, 4.0331, 4.0323, 4.0253, 4.0249, 4.023, 4.0149, 4.0047, 3.9995, 3.9986, 3.9827, 3.2223, 3.6267, 2.4413, 2.1077, 2.6325, 1.6801, 2.4502, 1.229, 1.4771, 1.4759, 1.4757, 1.4741, 1.4739, 1.4736, 1.4734, 1.4731, 1.4726, 1.4725, 1.472, 1.4716, 1.4714, 1.4713, 1.4708, 1.4706, 1.4706, 1.4703, 1.4701, 1.47, 1.4699, 1.4696, 1.4696, 1.4696, 1.4694, 1.4691, 1.469, 1.4688, 1.4687, 1.4666, 1.4655, 1.447, 1.4487, 1.4444, 1.3511, 1.4088, 1.4187, 1.4111, 1.248, 1.4488, 1.2212, 1.2531, 1.3449, 1.1134, 1.2532, 1.2716, 1.3811, 1.0588, 0.9887, 1.124, 1.0712, 0.6211, 0.8202, 0.6518, 0.8988, 5.663, 5.6527, 5.6426, 5.6335, 5.6317, 5.6213, 5.5837, 5.3587, 2.6886, 2.4982, 2.4982, 2.4982, 2.4982, 2.4982, 2.4982, 2.4982, 2.4982, 2.4982, 2.4982, 2.4982, 2.4982, 2.4982, 2.4982, 2.4982, 2.4982, 2.4982, 2.4982, 2.4982, 2.4982, 2.4982, 2.4544, 2.4982, 2.4982, 2.4982, 2.4982, 2.4982, 2.4982, 2.4982, 2.4982, 3.9111, 3.911, 3.9092, 3.9072, 3.9068, 3.9064, 3.9058, 3.9019, 3.9018, 3.8998, 3.8983, 3.8978, 3.8967, 3.8959, 3.8958, 3.8935, 3.8925, 3.8919, 3.8917, 3.8903, 3.8871, 3.8844, 3.8834, 3.8823, 3.881, 3.8778, 3.8773, 3.8735, 3.8663, 3.8634, 3.78, 3.1623, 2.8109, 1.6098, 2.3078, 3.7314, 3.73, 3.7291, 3.7252, 3.7249, 3.7241, 3.7238, 3.7227, 3.7223, 3.722, 3.7219, 3.7209, 3.7206, 3.7186, 3.7167, 3.7133, 3.7102, 3.7099, 3.7081, 3.7055, 3.7037, 3.7021, 3.7003, 3.6985, 3.6979, 3.6958, 3.693, 3.692, 3.6913, 3.691, 3.6274, 3.5154, 3.622, 3.5513, 3.3007, 3.2406, 2.6125, 1.2858, 0.8491, 2.0798, 2.0763, 2.0762, 2.0759, 2.0755, 2.075, 2.075, 2.0747, 2.0737, 2.0736, 2.0735, 2.0733, 2.0717, 2.0717, 2.0715, 2.0714, 2.0706, 2.0704, 2.0701, 2.07, 2.0696, 2.0695, 2.0694, 2.0691, 2.0687, 2.0682, 2.0678, 2.0669, 2.0662, 2.0657, 2.0461, 2.0567, 1.9989, 2.0344, 2.0427, 2.0241, 1.9854, 1.9396, 1.5033, 1.6784, 1.6985, 1.8548, 1.0901, 1.7369, 1.3461, 1.6108, 1.3214, 1.7156, 1.6077, 1.2941, 1.6772, 0.8828, 1.6004, 1.4628, 1.539, 1.1683, 4.1918, 4.1896, 4.1891, 4.1888, 4.1862, 4.1833, 4.1782, 4.1778, 4.1767, 4.1759, 4.1727, 4.17, 4.1696, 4.1677, 4.166, 4.1511, 4.1417, 4.14, 4.1332, 4.1199, 4.1165, 4.1038, 4.0915, 4.0903, 4.0834, 4.0764, 4.0682, 4.0455, 4.0371, 3.8215, 2.6421, 2.6034, 2.8377, 2.3934, 1.9197, 2.7818, 2.145, 0.9054, 1.1009, 0.64, 3.7744, 3.7738, 3.7731, 3.7723, 3.7711, 3.7682, 3.7665, 3.766, 3.7658, 3.7568, 3.7551, 3.7547, 3.7527, 3.7522, 3.7509, 3.7457, 3.743, 3.7426, 3.7388, 3.7352, 3.7346, 3.7324, 3.7318, 3.725, 3.7233, 3.7175, 3.7138, 3.7042, 3.7016, 3.6981, 3.6487, 3.5382, 3.537, 3.6208, 3.4375, 2.6343, 2.3949, 2.6748, 2.3096, 2.6179, 2.8197, 2.8196, 2.8196, 2.8192, 2.818, 2.8178, 2.8171, 2.8168, 2.8161, 2.8152, 2.814, 2.8136, 2.8135, 2.8131, 2.8131, 2.8128, 2.8106, 2.8106, 2.8098, 2.8091, 2.8075, 2.8068, 2.8064, 2.8061, 2.8051, 2.8036, 2.8032, 2.8016, 2.8014, 2.8, 2.7849, 2.7723, 2.6742, 2.6569, 2.6466, 2.6262, 2.7128, 2.5364, 1.9775, 1.8553, 1.3963, 1.9684, 1.7528, 2.2673, 2.2638, 2.2637, 2.2634, 2.2631, 2.2627, 2.2612, 2.261, 2.2603, 2.2602, 2.2599, 2.2596, 2.2593, 2.2592, 2.2591, 2.2584, 2.2568, 2.2568, 2.2566, 2.2564, 2.2558, 2.2558, 2.2557, 2.2557, 2.2545, 2.254, 2.2533, 2.2526, 2.2523, 2.2521, 2.2227, 2.213, 2.1885, 2.1129, 2.0363, 2.0019, 2.019, 1.7934, 1.8906, 2.0594, 1.5822, 1.8856, 2.1051, 1.636, 0.8401, 0.9664, 0.778, 1.6223, 1.121, 1.3663, 1.5773, 1.4691, 1.1264, 4.1235, 4.1206, 4.1183, 4.1147, 4.114, 4.1085, 4.1085, 4.1047, 4.0979, 4.097, 4.0953, 4.0901, 4.0855, 4.0775, 4.0674, 4.0626, 4.0617, 4.0543, 4.0477, 4.0417, 4.0392, 4.0376, 4.0079, 3.9958, 3.9952, 3.9855, 3.9612, 3.9116, 3.623, 3.4251, 3.3764, 2.3205, 3.0077, 1.4368, 1.919, 2.4199, -0.3323, 3.3919, 3.3887, 3.3875, 3.3874, 3.3874, 3.3856, 3.3832, 3.3827, 3.3796, 3.3788, 3.3768, 3.3757, 3.3747, 3.372, 3.3688, 3.3672, 3.3642, 3.3641, 3.3635, 3.3635, 3.3624, 3.362, 3.3611, 3.3578, 3.3573, 3.3538, 3.3436, 3.3431, 3.3427, 3.3357, 3.2831, 3.2124, 3.2965, 2.6898, 2.5182, 3.0243, 2.2175, 2.4629, 2.3136, 2.5103, 2.4159, 2.4588, 1.6069, 1.5826, 0.642, 3.5689, 3.566, 3.5658, 3.5653, 3.563, 3.5613, 3.5608, 3.5606, 3.5591, 3.5556, 3.5548, 3.5539, 3.5529, 3.5515, 3.5511, 3.5509, 3.5476, 3.5475, 3.5464, 3.5456, 3.5444, 3.542, 3.5395, 3.5395, 3.5332, 3.5302, 3.5278, 3.5247, 3.524, 3.5208, 3.4566, 3.3702, 3.1892, 3.0628, 2.9212, 3.1714, 2.9088, 2.7892, 2.739, 2.4063, 2.4818, 1.9215, 2.718, 2.717, 2.7157, 2.7152, 2.7143, 2.7142, 2.7142, 2.7141, 2.7141, 2.7139, 2.712, 2.7109, 2.7104, 2.7102, 2.7093, 2.7079, 2.7069, 2.7055, 2.705, 2.7028, 2.7013, 2.6988, 2.6979, 2.6972, 2.6968, 2.6951, 2.6951, 2.6932, 2.693, 2.693, 2.5904, 2.5753, 2.5884, 2.505, 1.9601, 2.442, 2.28, 2.0773, 1.4628, 2.0175, 1.2618, 1.5309, 1.9635, 0.7491, 1.2487, 1.616, 0.879, 4.6753, 4.6736, 4.672, 4.6663, 4.6602, 4.6513, 4.6428, 4.6408, 4.631, 4.6289, 4.6268, 4.6172, 4.617, 4.6159, 4.5759, 4.5732, 4.5391, 4.5329, 4.2494, 3.5251, 3.5177, 3.4111, 3.2585, 2.5817, 2.4652, 2.2574, 1.6605, 1.6532, 1.6317, 1.6317, 1.4294, 4.9362, 4.9287, 4.9057, 4.8878, 4.867, 4.8665, 4.8465, 4.8286, 4.8215, 4.7423, 4.7266, 4.3632, 4.2035, 4.1094, 3.8254, 3.711, 3.6814, 3.0555, 3.0259, 3.0217, 1.9267, 1.9267, 1.9266, 1.9266, 1.9266, 1.9266, 1.9266, 1.9266, 1.9266, 1.9266, 1.608, 1.9266, 1.9266, 1.9266, 1.9266, 1.9266, -1.6493, -3.3174, 3.6679, 3.6679, 3.6679, 3.6679, 3.6679, 3.6679, 3.6679, 3.6679, 3.6679, 3.6679, 3.6679, 3.6679, 3.6679, 3.6679, 3.6679, 3.6679, 3.6679, 3.6679, 3.6679, 3.6679, 3.6679, 3.6679, 3.6679, 3.6679, 3.6679, 3.6679, 3.6679, 3.6679, 3.6679, 3.6679, -2.2876, 0.6618, -0.6688, -2.0647, -1.2459, 1.4868, -1.328, -0.143, -1.1672, -0.0931, -0.0757, -0.5767, 0.4471, 3.6679, -0.9159, 2.0569, -0.643, -1.4927, -2.885, -1.776, -0.4996, -1.5722, -0.6478, 1.1973, -1.2873, 0.794, 0.1827, 1.3136, -2.4261, -0.8729, 4.1017, 4.1011, 4.0995, 4.0961, 4.0956, 4.0914, 4.0901, 4.0899, 4.0881, 4.0845, 4.0821, 4.0783, 4.0748, 4.0714, 4.071, 4.0701, 4.0701, 4.0624, 4.0583, 4.058, 4.0567, 4.0525, 4.0522, 4.0491, 4.033, 4.0306, 4.0293, 3.9989, 3.966, 3.9597, 2.964, 2.4571, 2.8888, 2.9859, 2.0348, 1.6665]}, \"token.table\": {\"Topic\": [16, 17, 13, 13, 2, 17, 1, 2, 5, 6, 16, 22, 11, 11, 6, 16, 3, 6, 14, 18, 4, 6, 10, 2, 7, 10, 14, 17, 9, 13, 14, 8, 3, 17, 12, 9, 12, 12, 6, 22, 5, 12, 13, 3, 17, 5, 5, 1, 22, 2, 11, 12, 1, 2, 4, 6, 9, 14, 1, 13, 1, 6, 9, 15, 11, 15, 14, 16, 6, 10, 3, 22, 10, 22, 2, 12, 19, 6, 14, 16, 18, 8, 8, 18, 1, 6, 19, 22, 6, 22, 22, 16, 17, 10, 14, 22, 2, 6, 9, 10, 13, 20, 13, 14, 6, 8, 6, 16, 19, 18, 11, 16, 1, 8, 13, 12, 12, 6, 17, 2, 17, 22, 11, 3, 6, 10, 16, 22, 18, 7, 4, 6, 12, 17, 6, 10, 13, 18, 5, 6, 8, 14, 15, 7, 10, 8, 1, 16, 6, 15, 10, 8, 22, 1, 2, 6, 8, 9, 10, 9, 6, 4, 18, 18, 13, 1, 16, 13, 12, 6, 18, 6, 10, 13, 19, 10, 1, 6, 6, 3, 3, 11, 13, 14, 19, 20, 6, 9, 20, 19, 17, 19, 17, 6, 1, 4, 6, 10, 13, 14, 20, 8, 18, 19, 6, 2, 9, 1, 3, 17, 19, 15, 12, 11, 18, 3, 6, 10, 11, 7, 14, 18, 4, 6, 14, 16, 4, 10, 15, 6, 10, 18, 12, 3, 13, 14, 6, 2, 3, 8, 20, 1, 14, 4, 8, 11, 6, 8, 3, 6, 6, 12, 2, 6, 20, 6, 16, 22, 14, 17, 22, 22, 3, 13, 16, 17, 16, 13, 10, 1, 6, 5, 14, 16, 18, 8, 12, 14, 6, 9, 9, 10, 15, 3, 10, 2, 5, 18, 4, 2, 4, 13, 14, 15, 18, 8, 14, 18, 6, 6, 1, 12, 18, 4, 5, 11, 11, 3, 14, 19, 3, 10, 8, 14, 14, 5, 9, 18, 18, 17, 19, 19, 1, 9, 3, 6, 10, 11, 17, 22, 15, 17, 13, 14, 10, 13, 13, 4, 16, 5, 1, 2, 3, 16, 18, 8, 1, 16, 1, 16, 16, 6, 10, 14, 18, 18, 4, 6, 1, 15, 5, 15, 3, 10, 12, 18, 22, 6, 10, 10, 2, 15, 6, 18, 6, 3, 1, 8, 14, 19, 1, 6, 8, 11, 12, 3, 16, 7, 19, 11, 13, 2, 2, 2, 2, 8, 3, 11, 2, 17, 22, 22, 20, 10, 11, 12, 6, 6, 2, 6, 11, 3, 14, 1, 17, 17, 9, 14, 17, 18, 6, 3, 12, 4, 16, 10, 15, 3, 6, 10, 15, 20, 7, 12, 15, 9, 14, 7, 19, 3, 13, 6, 2, 8, 14, 6, 10, 17, 9, 18, 3, 6, 10, 22, 18, 12, 6, 13, 14, 16, 16, 9, 1, 11, 12, 10, 17, 13, 8, 10, 15, 2, 14, 18, 2, 5, 12, 3, 10, 14, 15, 5, 10, 3, 15, 17, 20, 15, 6, 2, 6, 12, 3, 12, 6, 22, 7, 14, 10, 17, 20, 9, 11, 16, 6, 18, 2, 10, 4, 5, 9, 3, 18, 9, 19, 13, 18, 5, 3, 16, 6, 10, 15, 3, 4, 3, 6, 14, 18, 3, 4, 11, 2, 6, 16, 16, 16, 14, 16, 14, 14, 20, 10, 6, 15, 11, 20, 17, 6, 8, 14, 18, 8, 4, 1, 10, 14, 19, 9, 6, 10, 14, 19, 1, 2, 8, 13, 20, 6, 10, 13, 14, 18, 4, 16, 18, 8, 3, 8, 14, 1, 10, 18, 14, 12, 1, 12, 16, 8, 5, 8, 18, 8, 3, 6, 10, 22, 12, 13, 3, 10, 14, 14, 1, 10, 17, 3, 18, 14, 6, 10, 18, 17, 20, 1, 3, 15, 8, 4, 11, 13, 14, 2, 14, 6, 10, 14, 3, 14, 16, 17, 17, 1, 10, 13, 22, 13, 19, 6, 13, 14, 3, 3, 3, 9, 14, 12, 13, 15, 1, 6, 10, 14, 16, 18, 2, 15, 19, 22, 8, 8, 10, 5, 5, 8, 15, 13, 20, 4, 10, 3, 20, 1, 3, 6, 10, 14, 18, 15, 12, 13, 22, 22, 1, 6, 10, 18, 11, 1, 6, 14, 9, 8, 3, 11, 6, 10, 11, 14, 4, 6, 13, 1, 6, 10, 11, 17, 9, 17, 8, 10, 5, 5, 3, 6, 13, 18, 17, 10, 15, 3, 15, 6, 7, 1, 2, 4, 16, 8, 4, 16, 1, 2, 1, 18, 1, 3, 6, 6, 18, 6, 10, 14, 17, 12, 5, 2, 3, 6, 15, 22, 9, 14, 9, 5, 4, 10, 16, 6, 3, 18, 5, 6, 10, 14, 6, 10, 14, 4, 10, 13, 9, 7, 6, 13, 14, 3, 6, 10, 14, 18, 22, 18, 8, 12, 12, 17, 6, 18, 8, 13, 16, 22, 2, 17, 20, 11, 13, 3, 11, 17, 3, 6, 10, 14, 5, 9, 5, 17, 9, 3, 14, 12, 11, 12, 12, 4, 10, 4, 5, 16, 17, 13, 9, 6, 11, 14, 16, 2, 8, 13, 1, 10, 18, 1, 6, 12, 6, 10, 5, 6, 14, 19, 4, 4, 13, 11, 1, 19, 13, 20, 19, 10, 14, 3, 3, 19, 9, 5, 14, 3, 1, 14, 8, 2, 22, 10, 3, 4, 16, 4, 5, 10, 12, 17, 1, 14, 3, 9, 14, 18, 22, 3, 9, 8, 6, 10, 16, 16, 16, 10, 9, 16, 19, 3, 13, 11, 14, 3, 18, 12, 14, 10, 14, 18, 6, 14, 17, 18, 9, 17, 2, 6, 6, 8, 22, 19, 12, 1, 2, 16, 3, 6, 14, 8, 13, 16, 18, 14, 20, 9, 19, 3, 6, 10, 5, 13, 11, 14, 14, 18, 10, 20, 15, 15, 19, 16, 17, 4, 1, 4, 4, 14, 10, 5, 15, 22, 10, 1, 16, 17, 1, 15, 17, 6, 10, 13, 1, 9, 13, 17, 18, 16, 18, 22, 6, 13, 14, 17, 2, 4, 4, 6, 10, 15, 9, 2, 9, 2, 4, 6, 6, 14, 18, 5, 11, 2, 6, 9, 17, 6, 11, 10, 16, 10, 16, 16, 5, 4, 10, 14, 16, 3, 10, 12, 2, 10, 17, 14, 2, 16, 1, 2, 9, 10, 16, 17, 5, 1, 5, 6, 16, 13, 8, 3, 8, 14, 22, 9, 6, 9, 6, 22, 2, 10, 2, 2, 6, 13, 5, 10, 6, 14, 17, 3, 14, 15, 9, 18, 10, 2, 3, 9, 5, 11, 13, 22, 4, 6, 13, 14, 17, 3, 16, 16, 1, 12, 8, 13, 13, 17, 13, 19, 3, 6, 10, 15, 4, 12, 3, 14, 2, 4, 9, 10, 13, 14, 16, 18, 4, 1, 14, 8, 8, 13, 22, 15, 14, 15, 15, 6, 9, 12, 5, 1, 3, 6, 16, 8, 20, 3, 6, 10, 12, 18, 1, 6, 10, 12, 16, 1, 22, 12, 18, 22, 11, 6, 11, 3, 6, 11, 1, 1, 2, 16, 2, 6, 11, 1, 18, 11, 12, 18, 1, 16, 11, 11, 11, 11, 9, 3, 22, 16, 1, 3, 6, 10, 14, 15, 16, 16, 5, 13, 6, 10, 14, 17], \"Freq\": [0.9699926366466316, 0.9770863641888972, 0.9847666539867096, 0.9958325912169482, 0.7894908550613456, 0.2037395754997021, 0.009784710173259749, 0.08806239155933775, 0.1320935873390066, 0.4354196027100588, 0.3082183704576821, 0.024461775433149372, 0.9706912143365264, 0.9746203288674239, 0.5973794406688154, 0.3925636324395073, 0.22159762739503916, 0.1711070287480682, 0.530151285793195, 0.07293086471229138, 0.5112493061299478, 0.2791144860493229, 0.2100267419777083, 0.900443748438026, 0.9572043390399082, 0.1457898904288416, 0.850441027501576, 0.9938496554420613, 0.6503398689319035, 0.34065421705956855, 0.9849462291383507, 0.9417423025898831, 0.1016844728960526, 0.8916946084730767, 0.9951757337678436, 0.9946756644236898, 0.9937618433375838, 0.968478131139817, 0.9968443256838068, 0.9342300997081932, 0.9111965555843297, 0.9876860349267564, 0.984830437629104, 0.9794607578928416, 0.9909949336522185, 0.9851105005286127, 0.8650246537714879, 0.9777961625255924, 0.9516233850746623, 0.03083865549979493, 0.24670924399835945, 0.7092890764952834, 0.03783115171001641, 0.12700458074076937, 0.0013511125610720146, 0.7728363849331924, 0.0553956150039526, 0.004053337683216044, 0.9747148132674098, 0.9809989221862322, 0.15285858977993153, 0.7979218386512426, 0.009171515386795892, 0.03668606154718357, 0.955398561750275, 0.9468488709505479, 0.9925019193508582, 0.9881771032674815, 0.9886536127829433, 0.9853485538264876, 0.990095851757213, 0.9797911192937637, 0.9885774719280304, 0.9877235579850144, 0.9710964859147189, 0.9810835860666358, 0.9915912771636088, 0.019973900942259776, 0.04993475235564944, 0.059921702826779326, 0.8638712157527353, 0.9918552829128716, 0.9763123131687451, 0.972068810237679, 0.05598805387035089, 0.8818118484580266, 0.04199104040276317, 0.9866918442225856, 0.9877014080977833, 0.9722322964646536, 0.8987469397186459, 0.39582912131636316, 0.6018771570700865, 0.07137497859659683, 0.921926806872709, 0.970385232740415, 0.9870277190640577, 0.3816694179381852, 0.013391909401339832, 0.3414936897341657, 0.10713527521071865, 0.14731100341473816, 0.9893437722972398, 0.9887599390701617, 0.9943992616127373, 0.9721059186037663, 0.8745997387905143, 0.12168344191868026, 0.9499934351742161, 0.9837452088970153, 0.8343204259598516, 0.9423092481740195, 0.14558621121787463, 0.034663383623303484, 0.8180558535099621, 0.9559291754176128, 0.8527168246796173, 0.6856045875910401, 0.30979170254113664, 0.9863708601388769, 0.9717755362701767, 0.9242602165310884, 0.8318924502777542, 0.07567776234240318, 0.13621997221632573, 0.6810998610816287, 0.10292175678566834, 0.9011761089246353, 0.9879823647490815, 0.9797207002112512, 0.23509849903129063, 0.7599695666360324, 0.9390821139604355, 0.9916989266811125, 0.318548105019559, 0.22339737235137902, 0.42610980281837113, 0.028958918638141727, 0.8292110664150352, 0.14689208818323088, 0.19798498842087642, 0.6450478655002747, 0.9662695869970634, 0.7929083554525147, 0.9898657080717479, 0.9778867257012496, 0.9746447526680762, 0.9703379174530475, 0.994916531846102, 0.9542753115426246, 0.9892896004354141, 0.9775735328016663, 0.9564884049638325, 0.06476897643088228, 0.01494668686866514, 0.5829207878779404, 0.009964457912443428, 0.01494668686866514, 0.30889819528574625, 0.9817373271185288, 0.9900665155515439, 0.9618684789082248, 0.9971570537865961, 0.9860072968061471, 0.9880095038754974, 0.9910662312129074, 0.9722821328705351, 0.989824741899693, 0.9662853103630039, 0.46915891263395404, 0.5138407138371878, 0.42712561484656447, 0.046426697265930926, 0.20892013769668916, 0.3157015414083303, 0.9932983642927069, 0.9920090754333991, 0.9925514692628944, 0.9898148389820121, 0.9872659116548783, 0.665391115047103, 0.028653205911119268, 0.01910213727407951, 0.28653205911119267, 0.9946135843368411, 0.7808978336281746, 0.42301565215419173, 0.21150782607709587, 0.3172617391156438, 0.9192179274668415, 0.6820503125244802, 0.3133744679166531, 0.9825471639150473, 0.9887194110425894, 0.146664418161924, 0.03999938677143382, 0.19199705650288232, 0.14399779237716173, 0.157330921300973, 0.31732846838670825, 0.9889981694107123, 0.8704623054829199, 0.12240876170853562, 0.9234210255005246, 0.9882845673734832, 0.9543172932451479, 0.9718398356624082, 0.9880904926706817, 0.38713738875624115, 0.5203459526293563, 0.08741812004173187, 0.9150098508892998, 0.9903956952128942, 0.9886812206804376, 0.993946445826294, 0.08599726252430046, 0.005733150834953364, 0.8657057760779578, 0.040132055844673546, 0.9517017231676993, 0.988655089997625, 0.9744937885033002, 0.6750228474496992, 0.022376447981757985, 0.13052927989358826, 0.1678233598631849, 0.979315813457842, 0.9577607008501392, 0.031661510771905425, 0.03974091964412659, 0.6226077410913167, 0.3311743303677216, 0.9397750757659087, 0.997640308891709, 0.9824906170075257, 0.9866326115638124, 0.9885004428235411, 0.9853210655057876, 0.9880617682887586, 0.40776559644167204, 0.5436874619222294, 0.7731461990409283, 0.21169479259453988, 0.7302140547198923, 0.2498100713515421, 0.019216159334734008, 0.5652992650992102, 0.3768661767328068, 0.9932242651463288, 0.9885187244647309, 0.9918621490879453, 0.7539912320230386, 0.9716691839643375, 0.8370218843197225, 0.14770974429171574, 0.7976597084145803, 0.006231716471988909, 0.19318321063165617, 0.4822533891086465, 0.5170551800752499, 0.9959831192371675, 0.9969463771745379, 0.9727977052423399, 0.8883777803996968, 0.10030071714190127, 0.9877395819206164, 0.9498161886797316, 0.9958826789604354, 0.9878256256499589, 0.6136687611538073, 0.3769679532801959, 0.9619220976384694, 0.9850173093999358, 0.9800989563119584, 0.9851974762945473, 0.0657120345796924, 0.9199684841156935, 0.993354102760998, 0.9904716764628161, 0.9841757436392995, 0.9905711616573236, 0.9941823529487039, 0.9754014604102981, 0.3017902078001037, 0.6936670447942681, 0.9312400050300882, 0.8751147966424325, 0.0795558906038575, 0.9007630709015154, 0.23915267728434958, 0.033606421971330167, 0.007815446970076783, 0.23915267728434958, 0.011723170455115174, 0.4673637288105916, 0.20270492397179316, 0.684129118404802, 0.11402151973413366, 0.9965836073382497, 0.9938368171747767, 0.09614327080149326, 0.8893252549138128, 0.9881896054616255, 0.8797067500273279, 0.618694837848853, 0.3581917482282833, 0.9820446292543238, 0.823887815853418, 0.12179211190876613, 0.050149693138903696, 0.9964259421364533, 0.9858856504516608, 0.9818225864296828, 0.980378911917602, 0.9891631584585793, 0.8618941288030589, 0.9516909547013249, 0.993740834879811, 0.9924042574391061, 0.33818155570923614, 0.6456193336267236, 0.957186047057686, 0.9722134359083264, 0.9756836910734871, 0.28608745255670864, 0.20705776952999355, 0.46785572351815335, 0.03793424785282325, 0.9805689977678153, 0.9966037755460619, 0.8521333226063734, 0.9747193734922429, 0.18145164786200368, 0.8131721996778684, 0.710034586637635, 0.288594702955942, 0.9765201560281654, 0.9987214549510707, 0.9500158941501985, 0.9580885875312215, 0.18689042003071754, 0.8107003355386532, 0.2823276025730716, 0.0705819006432679, 0.6416536422115263, 0.978951418349732, 0.8223428953399643, 0.17156794219322996, 0.9598400614141965, 0.03739636602912454, 0.9881080122906317, 0.20740495990411673, 0.5392528957507035, 0.1624672185915581, 0.08987548262511724, 0.9875868119240128, 0.9969209917616871, 0.002176683388125954, 0.8075664497311682, 0.1874707829733069, 0.9448765333571327, 0.9025629801627753, 0.2407429912893996, 0.17545675636346073, 0.24890377065514196, 0.012241169048613538, 0.318270395263952, 0.19791154155708313, 0.7969951268109563, 0.9954527912045265, 0.9463594816841744, 0.9693215439700572, 0.18898195210728033, 0.8063229956577295, 0.994346999657028, 0.9988543401486962, 0.9722289506898446, 0.9523153344809057, 0.8708035287391617, 0.10397654074497453, 0.09683140635619805, 0.5616221568659487, 0.3292267816110734, 0.9891723034304886, 0.9869632715288408, 0.9805668862867166, 0.9658172967826639, 0.9853395052376891, 0.9819713635195947, 0.8740159855720404, 0.9827843366142774, 0.9925120044712135, 0.8494616866910857, 0.9970038681604279, 0.8874820353824155, 0.9865598711100682, 0.8630044876605404, 0.129110907602758, 0.9973137188810504, 0.982978889764843, 0.9403944445357715, 0.9865914398522947, 0.7304552180154276, 0.6009273273810147, 0.16610999293458945, 0.22962263729193244, 0.9954315569558615, 0.9985983890295408, 0.025567081780472622, 0.9715491076579597, 0.846915085196415, 0.13764787312581878, 0.8545638789894582, 0.9761666427079905, 0.9982069193968321, 0.978229080008043, 0.17483933355689452, 0.1420569585149768, 0.6665749591856603, 0.9897975215451754, 0.9965195049300007, 0.9943926245594685, 0.9330494302204381, 0.16529973100715956, 0.832546206170206, 0.9941791300162387, 0.9783450031829083, 0.05348899008931011, 0.12837357621434425, 0.37085699795255006, 0.164032902940551, 0.28242186767155736, 0.9913669120789573, 0.16921418504144167, 0.81222808819892, 0.9863168955426257, 0.9811825013005234, 0.9065128206430767, 0.8233071129669226, 0.9676629274411562, 0.9778345735957857, 0.9901693049657285, 0.9804944456651516, 0.04386950210791617, 0.9358827116355449, 0.4720633215774626, 0.3313521391841805, 0.19064095679089837, 0.9914002577791116, 0.9955563843571226, 0.0025213740048564896, 0.694638538337963, 0.30130419358035054, 0.9666489468985325, 0.986663911496215, 0.9834596556505292, 0.27573968351729217, 0.3795126826904666, 0.27870462635081145, 0.06226379950390468, 0.9789876752244449, 0.9860304558670223, 0.9873059579083614, 0.9756959116663221, 0.9575271849075127, 0.9897093476793011, 0.9747075758798898, 0.9911308641618262, 0.20182060112434916, 0.31049323249899874, 0.46573984874849805, 0.13059785615935054, 0.7789229278075551, 0.08395576467386821, 0.9525134981788385, 0.9671754163243211, 0.9596191184791438, 0.09098282883182347, 0.11547820582500672, 0.7908507429227732, 0.9327816030667643, 0.9881672811709086, 0.9852603863563365, 0.7521514627141052, 0.23143121929664776, 0.9436612119528853, 0.9013423144429286, 0.9922442057633705, 0.9926914372116926, 0.45713161131161056, 0.539967540878144, 0.8963742270920061, 0.9787285179724557, 0.9659809877854688, 0.9067450775062844, 0.0879267953945488, 0.049353712261627915, 0.9426559041970932, 0.910302927723112, 0.08207649348323141, 0.9483902502279831, 0.9535781913783193, 0.6172029985883826, 0.9752955535855236, 0.11580699696035242, 0.8776951348574078, 0.9693820037080791, 0.9877008399787134, 0.9790223507459977, 0.18578431486487285, 0.805065364414449, 0.11920802113574809, 0.877371035559106, 0.9537015164911702, 0.9524650507168093, 0.9918321569898256, 0.9875000960175988, 0.8879140171758733, 0.9988892887971924, 0.9872338410260894, 0.024783429268312323, 0.6319774463419643, 0.3221845804880602, 0.9736331498133214, 0.826042486958276, 0.4916351184471232, 0.3110911483959198, 0.13887997696246418, 0.055551990784985676, 0.043200013024739664, 0.7516802266304702, 0.20304006121627644, 0.42280909950888845, 0.4731435161170895, 0.09060194989476182, 0.9524489678515484, 0.9970784336764098, 0.2956015226022972, 0.6845508944474251, 0.9861808451309141, 0.9966743125972329, 0.927414562403757, 0.990776510312966, 0.9845363413989134, 0.908922900118434, 0.9157532584228577, 0.8772872396866026, 0.9858546700028883, 0.045740359117050225, 0.0035184891628500174, 0.6825868975929034, 0.2603681980509013, 0.9870579919580414, 0.9731669830661691, 0.10683297353439965, 0.3669480395311988, 0.5248750438863983, 0.9884096660355861, 0.9453525481771756, 0.43804021741120613, 0.19378737728790688, 0.08680059607687496, 0.2805879733647818, 0.9775489881658062, 0.9982544546705652, 0.10842175120509998, 0.8441407772397069, 0.03872205400182142, 0.23590810481226193, 0.010312922614743692, 0.01804761457580146, 0.502754977468755, 0.23204075883173306, 0.24031367196651116, 0.3720985888513721, 0.3798506427857757, 0.9871528767449727, 0.2152470895199531, 0.01655746842461178, 0.7649550412170641, 0.9747229854953989, 0.9821523082593918, 0.9849844732437241, 0.9867473345860636, 0.9306874717727928, 0.13262634775626253, 0.8547031299848029, 0.990630805104482, 0.9820884368784367, 0.9712968484355342, 0.9928258621331651, 0.9894900266114738, 0.9712503839448862, 0.011158191023053645, 0.9874999055402477, 0.9749450300640471, 0.010954438540045472, 0.9637589971471472, 0.9854154787748818, 0.0032763072325672953, 0.9632343263747849, 0.02948676509310566, 0.9821607349709919, 0.20249909523146348, 0.3359644079976553, 0.4556229642707928, 0.7571014379636166, 0.23752201975329149, 0.9855044274802689, 0.9333255911847539, 0.03417210402507108, 0.029900591021937196, 0.9787659941128327, 0.9371576824341745, 0.9694969651009047, 0.9855084135603915, 0.8979227033129584, 0.9848899270413447, 0.987787488418786, 0.9301817365664388, 0.9960348887591108, 0.9934983438850193, 0.9765407598515227, 0.9913532302302729, 0.5591049616163187, 0.40221326320357625, 0.03708349235210277, 0.11396422617925402, 0.6798555561727911, 0.16505163791478167, 0.03929800902732897, 0.9826341875108363, 0.9835177607429324, 0.1830599871380431, 0.7525799471230661, 0.06101999571268103, 0.9791655827511019, 0.8976491062557288, 0.11548943283927705, 0.8392232119654133, 0.038496477613092356, 0.9965876642590024, 0.9955149257552005, 0.995315691643955, 0.8216610846456219, 0.14166570424924516, 0.9237547245762684, 0.37804158582710495, 0.6143175769690455, 0.024661891115948752, 0.20058338107638318, 0.4784406876494058, 0.2712808022754363, 0.02301776504155217, 0.984930588321204, 0.9609564621794201, 0.9140155458680921, 0.03385242762474415, 0.9641529852305389, 0.9831421009824295, 0.9853505671460805, 0.9890582643494178, 0.9370183175256381, 0.9954183152633466, 0.9915479787027796, 0.9203269267211768, 0.9943209792775054, 0.9867694261614577, 0.9956258076222241, 0.9908345125623661, 0.7018873102818787, 0.2924530459507828, 0.06566865955497989, 0.05951222272170052, 0.14878055680425128, 0.5602357518284221, 0.024625747333117457, 0.13954590155433225, 0.9892833865182111, 0.3096756447819215, 0.3847485283654176, 0.3002915343339845, 0.9915094891780475, 0.014153016061956207, 0.5189439222717276, 0.45525534999292466, 0.011794180051630174, 0.8886394220983129, 0.2640208390375842, 0.7176904497782218, 0.014874413466906152, 0.9815757717731778, 0.9530398540912413, 0.9920001176468183, 0.991889082698526, 0.39280769392807513, 0.18185541385559034, 0.014548433108447228, 0.4037190187594106, 0.4156625507177482, 0.07194159531653334, 0.5035911672157334, 0.034753306137720326, 0.6661050343063063, 0.25196146949847237, 0.046337741516960435, 0.9903954782299802, 0.9889084176343119, 0.9616668394436153, 0.9755096146599341, 0.9872882414119133, 0.9572151026670538, 0.9037230004563942, 0.4723823966393985, 0.054374952131153786, 0.42820274803283603, 0.04078121409836534, 0.9869165646060739, 0.9875269391772897, 0.9130190639154411, 0.10368158936999027, 0.8886993374570594, 0.9519962948597881, 0.03661524210999185, 0.9879556857031797, 0.9289974732196209, 0.7316385128656546, 0.23279407227543555, 0.9913998197478917, 0.09064122505230689, 0.8950820973915306, 0.3319026331251446, 0.6638052662502892, 0.9806478008478899, 0.994482278889958, 0.2528762467470461, 0.7333411155664338, 0.9965074992877135, 0.9880233908681562, 0.9866698012685706, 0.3128503067966647, 0.6176788108549534, 0.03609811232269208, 0.028076309584316065, 0.9913047964087583, 0.8347913195055277, 0.993408459010347, 0.9171641466770897, 0.01425116321140872, 0.06820199536888458, 0.9493319779728373, 0.9896719789239102, 0.9932868663961438, 0.9853820515524716, 0.9779173013649073, 0.21666013365639197, 0.6680354121072085, 0.10833006682819599, 0.9933883432416998, 0.47044608250878395, 0.5270410999534497, 0.9798467465864168, 0.7948070542014913, 0.10844289258655955, 0.09521814958819863, 0.06951106848332983, 0.9204950584004586, 0.008425584058585433, 0.6162646791177505, 0.05222582026421615, 0.3238000856381401, 0.9667518070928375, 0.9666836927559022, 0.9927778831083941, 0.9850194956384765, 0.9901700105331774, 0.5063123339653716, 0.10991855282830319, 0.04534140304167507, 0.05358529450379781, 0.2844142554432345, 0.9907225666987236, 0.9921336414860282, 0.9536883066007763, 0.9789033597206532, 0.9510432080533615, 0.9845098544908519, 0.9990501602208852, 0.9958076855682715, 0.10193584204485781, 0.5175204288431243, 0.2509189958027269, 0.12545949790136346, 0.58788354092192, 0.38579857373001, 0.9061624203371051, 0.9741878314608421, 0.987092922218092, 0.010238236743493681, 0.020476473486987362, 0.9726324906318996, 0.3733103429391695, 0.2458385185209165, 0.0637359122091265, 0.3186795610456325, 0.9875563843823747, 0.9876976956798561, 0.9835995789039647, 0.9964287375024143, 0.9945028121531667, 0.9844037934649524, 0.9966480810547722, 0.9801918259085354, 0.21247399989778115, 0.7837155733934551, 0.9965739898896875, 0.666795822178379, 0.3182434605851354, 0.41311473971134743, 0.08589514390037917, 0.4949196386640895, 0.004090244947637103, 0.9898794410138909, 0.9691218171302641, 0.4769784877355382, 0.10334533900936661, 0.31401083775922933, 0.10334533900936661, 0.962107041618668, 0.008755964776122203, 0.9806680549256866, 0.02628801604573954, 0.6667596797055757, 0.3035070943462656, 0.97437097515329, 0.9922280731602802, 0.9695703329513571, 0.9677746195509542, 0.031302683112160244, 0.22277178950851076, 0.29934959215206136, 0.3480809211070481, 0.12530913159853732, 0.9804153645513435, 0.5234497403043437, 0.46419127913781416, 0.973907811832737, 0.9617406049123592, 0.9318106398923317, 0.8165435709771853, 0.17190390967940744, 0.9738924542636441, 0.9465807463163478, 0.04780710839981554, 0.9896954960873283, 0.747264155236875, 0.24064438897458687, 0.9889476144849497, 0.40569386206166147, 0.5901001629987803, 0.9855418039802019, 0.9870888332645227, 0.9933483275641687, 0.9814862337593704, 0.9739243632836425, 0.9531416354096679, 0.9840102589070638, 0.9871445793844786, 0.7311874291070455, 0.26810205733925, 0.9688416002449344, 0.05340605493468045, 0.5296100447689145, 0.3204363296080827, 0.09346059613569078, 0.8467584491793184, 0.14433382656465654, 0.27310078455587766, 0.32430718166010475, 0.14223999195618628, 0.26172158519938277, 0.8052473741289423, 0.38304286404910787, 0.6100312279300606, 0.9751719108975309, 0.9912384951494155, 0.9871760790925018, 0.011501080533116527, 0.9611769505591904, 0.9780939288876255, 0.9870515692245045, 0.896446882815323, 0.0640319202010945, 0.9589260101096662, 0.13111014484631464, 0.8565862796625889, 0.9653133379128014, 0.9771856994815061, 0.9646230138097545, 0.9889787915132768, 0.04164841810844568, 0.9537487746834061, 0.48146816047653257, 0.04376983277059387, 0.4668782162196679, 0.05915874936258014, 0.05070749945364012, 0.12676874863410031, 0.7606124918046019, 0.996230960619598, 0.9830611179551275, 0.9961126036107207, 0.9921099023453965, 0.5265094101695995, 0.4685933750509436, 0.981935156904853, 0.9351323909922301, 0.9910315047825429, 0.9648392885224546, 0.07832898392155277, 0.913838145751449, 0.22893472463880865, 0.31796489533167865, 0.44939038540210585, 0.9540294589622107, 0.9961225875436812, 0.9343900499846425, 0.9926524235518409, 0.36520398659818903, 0.4869386487975854, 0.9955555019672243, 0.9964674260775916, 0.011864715436783612, 0.02966178859195903, 0.9551095926610808, 0.9549547290657427, 0.9931741431909399, 0.9519814287602925, 0.9899323163199948, 0.5001021550312262, 0.49538421017244105, 0.9956229984307183, 0.9718598265132811, 0.9784831658426026, 0.9536392323530977, 0.9347962034157165, 0.9785973116547674, 0.9762585804743225, 0.9956155345488636, 0.976562450830191, 0.9927470890442854, 0.9968027427332686, 0.9861659041314931, 0.9914623276022626, 0.997288650297871, 0.9886489084571379, 0.9512752437861007, 0.9898541754117333, 0.9648886078985521, 0.03327202096201904, 0.9424224497242727, 0.9737052395191271, 0.46410499909964065, 0.46410499909964065, 0.407302706876098, 0.24826069752447877, 0.3413584590961583, 0.14365024118793474, 0.07182512059396737, 0.1276891032781642, 0.33518389610518107, 0.31922275819541057, 0.981514768190968, 0.9793532465528438, 0.9619390454685652, 0.01061255086824031, 0.959953464899919, 0.015436437626531359, 0.01254210557155673, 0.7604934502582831, 0.22533139266912092, 0.8820985484137859, 0.812908607355527, 0.18425928433391944, 0.9764424623988753, 0.9697444002027417, 0.9155021346571073, 0.07383081731105703, 0.03442010562205135, 0.0841380359650144, 0.880899740179166, 0.6570046100352982, 0.11054363279958986, 0.22943018128216763, 0.9911598274581707, 0.9144544074543749, 0.05229308895524319, 0.9412756011943775, 0.9658964327224479, 0.9789907802160839, 0.7310376406406243, 0.25427396196195623, 0.6546059256573717, 0.33942529478530387, 0.9889645086604709, 0.993465768634667, 0.9933582644880574, 0.9085440276562781, 0.12057934346458248, 0.47785147224853053, 0.34387442395455003, 0.053590819317592214, 0.9917481382180602, 0.9932702040466066, 0.9824951441838663, 0.9665247358332137, 0.16214429636611347, 0.8107214818305674, 0.9863623173750414, 0.773178384211699, 0.2152146017908853, 0.03376355642449788, 0.18569956033473836, 0.0844088910612447, 0.21102222765311177, 0.413603566200099, 0.06752711284899576, 0.8948178996106978, 0.05379350476509865, 0.18669510477298945, 0.7024798857559942, 0.05379350476509865, 0.9668866513398067, 0.9530837681407688, 0.2784783643660534, 0.10001687734273748, 0.621673531718584, 0.9689359179773014, 0.9700432474133177, 0.9328679682133115, 0.059157480911088044, 0.9685880185841391, 0.020755457541088696, 0.9630185499723064, 0.9856393047768165, 0.9237994858135036, 0.005613665305329905, 0.04490932244263924, 0.948709436600754, 0.9863065457137692, 0.9978874352289564, 0.3383883785493722, 0.2255922523662481, 0.43507077242062137, 0.9874608663049347, 0.9784113775933135, 0.9283918753743503, 0.9816095636375846, 0.9836528915334146, 0.994325592472894, 0.9429340210534988, 0.9805651991931748, 0.9779222341209733, 0.9790217392598692, 0.9807812589998552, 0.015205910992245818, 0.0038014777480614545, 0.9810954393529472, 0.003758986357674127, 0.013782949978138467, 0.9823609135332642, 0.9389676053884948, 0.9899373800022695, 0.9808073046540732, 0.9956610629579118, 0.9909787985442734, 0.9629964492121414, 0.9910624044695422, 0.98748075260818, 0.9786462315476552, 0.9831502492190956, 0.9822496177282457, 0.95894688225184, 0.39455411354792735, 0.4409722445535659, 0.05105994410620237, 0.11140351441353244, 0.9463872562375419, 0.9748117265128495, 0.972889079351111, 0.9892152427344039, 0.02256573297624201, 0.018052586380993607, 0.08574978530971963, 0.18503901040518447, 0.2391967695481653, 0.2256573297624201, 0.06318405233347762, 0.15796013083369406, 0.9499845272324622, 0.9942320185288853, 0.9915937128604334, 0.9842448503369131, 0.969227879076718, 0.9875062186922678, 0.8962205972177671, 0.9740792442528977, 0.9765878022649246, 0.9900824331836003, 0.8560224651542155, 0.015325438675149648, 0.9042008818338293, 0.07662719337574825, 0.9310119822619352, 0.05038959733015325, 0.41151504486291823, 0.4996968401906864, 0.03359306488676883, 0.502012647156532, 0.4302965547055989, 0.22196986662686832, 0.10916550817714835, 0.6222433966097456, 0.04366620327085934, 0.9776844517018919, 0.9948304658284396, 0.16659155026681993, 0.4922023076065134, 0.33318310053363986, 0.9840178519183344, 0.9985359643554194, 0.9812686579309076, 0.7857370065497762, 0.20952986841327365, 0.9942401446392913, 0.8964940998542172, 0.9685703536147467, 0.029557311260543916, 0.38530712987006577, 0.6125950435574641, 0.898037049726132, 0.9921757231679569, 0.5092817186615927, 0.07106256539464084, 0.41749257169351495, 0.7548997471897497, 0.2430408942171877, 0.9745318052288389, 0.9705661747242371, 0.9960635073226137, 0.9612110529743296, 0.9391761551968383, 0.9906238555531693, 0.9968060281103621, 0.9659067161283872, 0.9929582663476361, 0.990577602490641, 0.9938660779320561, 0.8779331133398295, 0.9730000670448785, 0.658146654417549, 0.3214204591341519, 0.9844513439512242, 0.9962288088043515, 0.45725988630590614, 0.42479172869838616, 0.04599655661065328, 0.07034767481629325, 0.9960514460184844, 0.9913008627546407, 0.9906006788027459, 0.8802852751414063, 0.9926135211468307, 0.349266222721574, 0.5821103712026233, 0.06597250873629731, 0.9681694382937521], \"Term\": [\"abrogation\", \"accessible\", \"accompagnement\", \"accord\", \"accueil\", \"accueil\", \"acc\\u00e8s\", \"acc\\u00e8s\", \"acc\\u00e8s\", \"acc\\u00e8s\", \"acc\\u00e8s\", \"acc\\u00e8s\", \"achat\", \"acquisition\", \"acteur\", \"acteur\", \"action\", \"action\", \"action\", \"action\", \"activit\\u00e9\", \"activit\\u00e9\", \"activit\\u00e9\", \"additionnel\", \"adh\\u00e9sion\", \"administratif\", \"administratif\", \"administration\", \"adoption\", \"adoption\", \"affaire\", \"africain\", \"agence\", \"agence\", \"agricole\", \"agriculteur\", \"agriculture\", \"agriculture_biologique\", \"aide\", \"air\", \"ais\\u00e9\", \"alimentaire\", \"alimentation\", \"alliance\", \"allocation\", \"allocation_familial\", \"allongement_dur\\u00e9e\", \"alternatif\", \"amateur\", \"am\\u00e9nagement\", \"am\\u00e9nagement\", \"am\\u00e9nagement\", \"an\", \"an\", \"an\", \"an\", \"an\", \"an\", \"analyse\", \"ancien\", \"ann\\u00e9e\", \"ann\\u00e9e\", \"ann\\u00e9e\", \"ann\\u00e9e\", \"appareil\", \"appartenance\", \"application\", \"apprentissage\", \"argent\", \"arme\", \"arm\\u00e9e\", \"art\", \"article\", \"artistique\", \"asile\", \"aspect\", \"assembl\\u00e9e\", \"association\", \"association\", \"association\", \"association\", \"assurance\", \"assurance_maladie\", \"atout\", \"attribution\", \"attribution\", \"attribution\", \"audiovisuel\", \"augmentation\", \"auteur\", \"automobile\", \"autonomie\", \"autonomie\", \"autorit\\u00e9\", \"autorit\\u00e9\", \"autoroute\", \"avantage\", \"avenir\", \"avenir\", \"avenir\", \"avenir\", \"avenir\", \"baisse\", \"bancaire\", \"banque\", \"banque_central\", \"besoin\", \"besoin\", \"bien-\\u00eatre\", \"biodiversit\\u00e9\", \"biomasse\", \"blanc\", \"bon\", \"bon\", \"bon\", \"bref\", \"bruit\", \"budget\", \"budget\", \"b\\u00e9n\\u00e9fice\", \"b\\u00e9n\\u00e9ficiaire\", \"cabotage\", \"cadr\", \"cadre\", \"cadre\", \"cadre\", \"cadre\", \"camion\", \"candidat\", \"capable\", \"capital\", \"capital\", \"carence\", \"carte\", \"cas\", \"cas\", \"cas\", \"cas\", \"cas_\\u00e9ch\\u00e9ant\", \"cause\", \"cause\", \"cause\", \"centaine\", \"central_oriental\", \"centre\", \"cesse\", \"chambre\", \"chantier\", \"charge\", \"chasse\", \"chercheur\", \"chiffre\", \"chimique\", \"choix\", \"choix\", \"choix\", \"choix\", \"choix\", \"choix\", \"chose\", \"ch\\u00f4mage\", \"ch\\u00f4meur\", \"citoyen\", \"citoyennet\\u00e9\", \"clair\", \"classe\", \"club\", \"code\", \"coh\\u00e9rence\", \"coh\\u00e9sion\", \"coh\\u00e9sion\", \"collectivit\\u00e9\", \"collectivit\\u00e9\", \"collectivit\\u00e9\", \"collectivit\\u00e9\", \"collectivit\\u00e9_territorial\", \"coll\\u00e8ge\", \"commerce\", \"commercial\", \"commission\", \"commun\", \"commun\", \"commun\", \"commun\", \"commune\", \"comparaison\", \"compatriote\", \"compatriote\", \"compatriote\", \"compl\\u00e9ment\", \"comp\\u00e9tence\", \"comp\\u00e9tence\", \"comp\\u00e9titivit\\u00e9\", \"concurrence\", \"condition\", \"condition\", \"condition\", \"condition\", \"condition\", \"condition\", \"confiance\", \"conflit\", \"conflit\", \"confrontation\", \"conf\\u00e9rence\", \"cong\\u00e9_parental\", \"conjoint\", \"connaissance\", \"conseil\", \"conseil\", \"conseil\", \"consigne\", \"consommateur\", \"consommation\", \"constitution\", \"construction\", \"construction\", \"construction\", \"construction\", \"continent\", \"continuit\\u00e9\", \"contraire\", \"contrat\", \"contrat\", \"contrat\", \"contrat\", \"contrepartie\", \"contribution\", \"contribution\", \"contr\\u00f4le\", \"contr\\u00f4le\", \"contr\\u00f4le\", \"convergence\", \"coop\\u00e9ration\", \"coop\\u00e9rative\", \"corps\", \"cotisation\", \"couple\", \"cour\", \"courage\", \"courage\", \"cours\", \"cours\", \"court\", \"court\", \"court\", \"couvertur\", \"couvertur\", \"crise\", \"crit\\u00e8re\", \"croissance\", \"cro\\u00eetre\", \"cr\\u00e8che\", \"cr\\u00e9ateur\", \"cr\\u00e9ateur\", \"cr\\u00e9ation\", \"cr\\u00e9ation\", \"cr\\u00e9ation\", \"cr\\u00e9dit\", \"cr\\u00e9dit\", \"culture\", \"culturel\", \"c\\u00f4t\\u00e9\", \"c\\u0153ur\", \"c\\u0153ur\", \"demande\", \"demandeur\", \"dette\", \"devoir\", \"difficult\\u00e9\", \"difficult\\u00e9\", \"digne\", \"dignit\\u00e9\", \"dipl\\u00f4me\", \"directive\", \"dirigeant\", \"dirigeant\", \"discrimination\", \"dispositif\", \"disposition\", \"distribution\", \"diversit\\u00e9\", \"document\", \"domaine\", \"domaine\", \"donation\", \"dossier\", \"dossier\", \"doute\", \"droit\", \"droit\", \"droit\", \"droit\", \"droit\", \"droit\", \"droite\", \"droite\", \"droite\", \"durable\", \"dur\\u00e9e\", \"dynamique\", \"dynamique\", \"d\\u00e9bat\", \"d\\u00e9battre\", \"d\\u00e9but\", \"d\\u00e9but\", \"d\\u00e9chet\", \"d\\u00e9cision\", \"d\\u00e9cision\", \"d\\u00e9cision\", \"d\\u00e9fense\", \"d\\u00e9fi\", \"d\\u00e9finition\", \"d\\u00e9lai\", \"d\\u00e9linquance\", \"d\\u00e9l\\u00e9gation\", \"d\\u00e9mant\\u00e8lement\", \"d\\u00e9mocratie\", \"d\\u00e9mocratique\", \"d\\u00e9partement\", \"d\\u00e9partement\", \"d\\u00e9partemental\", \"d\\u00e9put\\u00e9\", \"d\\u00e9triment\", \"d\\u00e9veloppement\", \"d\\u00e9veloppement\", \"d\\u00e9veloppement\", \"d\\u00e9veloppement\", \"e\", \"eau\", \"ecole\", \"education\", \"effectif\", \"effectif\", \"effort\", \"effort\", \"embauche\", \"emploi\", \"encadrement\", \"enfance\", \"enfant\", \"enfant\", \"engagement\", \"engagement\", \"engagement\", \"enjeu\", \"enseignant\", \"enseignant\", \"enseignement\", \"enseignement\", \"enseignement_sup\\u00e9rieur\", \"ensemble\", \"ensemble\", \"ensemble\", \"ensemble\", \"entier\", \"entreprise\", \"entreprise\", \"entr\\u00e9e\", \"entr\\u00e9e\", \"enveloppe\", \"envie\", \"environnement\", \"environnement\", \"environnement\", \"environnement\", \"environnement\", \"environnemental\", \"environnemental\", \"espace\", \"esp\\u00e8ce\", \"esp\\u00e9rance\", \"etat\", \"etat\", \"euro\", \"europ\\u00e9en\", \"examen\", \"excessif\", \"exercice\", \"exercice\", \"exigence\", \"exigence\", \"exigence\", \"existant\", \"exploitation\", \"expression\", \"extension\", \"ext\\u00e9rieur\", \"ex\\u00e9cutif\", \"facture\", \"faible\", \"familial\", \"famill\", \"famille\", \"famille_monoparental\", \"faute\", \"faveur\", \"faveur\", \"femme\", \"feron\", \"ferroutage\", \"ferroviaire\", \"fiabilit\\u00e9\", \"fili\\u00e8re\", \"fili\\u00e8re\", \"fili\\u00e8re\", \"finance\", \"financier\", \"fiscal\", \"fiscal\", \"fluvial\", \"fois\", \"fois\", \"foncier\", \"fonction\", \"fonctionnaire\", \"fonctionnement\", \"fonctionnement\", \"fonctionnement\", \"fondamental\", \"fonds\", \"force\", \"forestier\", \"formation\", \"formation\", \"forme\", \"for\\u00eat\", \"fran\\u00e7ais\", \"fran\\u00e7ais\", \"fran\\u00e7ais\", \"fran\\u00e7ais\", \"fran\\u00e7ais\", \"fronti\\u00e8re\", \"fruit\", \"fruit\", \"fusion\", \"futur\", \"future\", \"f\\u00e9d\\u00e9ralisme\", \"f\\u00e9d\\u00e9ration\", \"garanti\", \"garantie\", \"garde\", \"gauche\", \"gauche\", \"gestion\", \"gestion\", \"gestion\", \"global\", \"gouvernement\", \"grand\", \"grand\", \"grand\", \"gratuit\\u00e9\", \"grave\", \"guerre\", \"g\\u00e9n\\u00e9ral\", \"g\\u00e9n\\u00e9ral\", \"g\\u00e9n\\u00e9ral\", \"g\\u00e9n\\u00e9ral\", \"g\\u00e9n\\u00e9ralisation\", \"g\\u00e9n\\u00e9ration\", \"habitant\", \"habitat\", \"haine\", \"handicap\", \"handicap\\u00e9\", \"heure\", \"histoire\", \"histoire\", \"histoire\", \"homme\", \"homme\", \"homme\", \"horaire\", \"hospitalier\", \"hostile\", \"humain\", \"humain\", \"humain\", \"h\\u00e9ritage\", \"h\\u00f4pital\", \"identit\\u00e9\", \"id\\u00e9e\", \"id\\u00e9e\", \"iii\", \"illettrisme\", \"immigration\", \"important\", \"imp\\u00f4t\", \"imp\\u00f4t\", \"incapable\", \"incitation\", \"indicateur\", \"industriel\", \"industriel\", \"ind\\u00e9pendance\", \"ind\\u00e9pendance\", \"ind\\u00e9pendant\", \"ind\\u00e9pendant\", \"inefficace\", \"inf\\u00e9rieur\", \"inique\", \"initial\", \"initiative\", \"initiative\", \"injuste\", \"innovation\", \"insertion\", \"installation\", \"installation\", \"institution\", \"institution\", \"instruction\", \"intercommunalit\\u00e9\", \"interdiction\", \"interdir\", \"internat\", \"international\", \"internet\", \"int\\u00e9gration\", \"int\\u00e9gration\", \"int\\u00e9gration\", \"int\\u00e9rieur\", \"int\\u00e9rim\", \"int\\u00e9r\\u00eat\", \"int\\u00e9r\\u00eat\", \"int\\u00e9r\\u00eat\", \"int\\u00e9r\\u00eat\", \"investissement\", \"investissement\", \"investissement\", \"in\\u00e9galit\\u00e9\", \"in\\u00e9galit\\u00e9\", \"in\\u00e9galit\\u00e9\", \"jeu\", \"jeune\", \"jeunesse\", \"jeunesse\", \"judiciaire\", \"justice\", \"langage\", \"langue\", \"la\\u00efcit\\u00e9\", \"leader\", \"lecture\", \"lettre\", \"levier\", \"libert\\u00e9\", \"libert\\u00e9\", \"libert\\u00e9\", \"libert\\u00e9\", \"lib\\u00e9ral\", \"licenciement\", \"lieu\", \"lieu\", \"lieu\", \"liste\", \"lobby\", \"local\", \"local\", \"local\", \"local\", \"locatif\", \"logement\", \"logique\", \"logique\", \"logique\", \"loi\", \"loi\", \"loi\", \"loi\", \"loi\", \"long\", \"long\", \"long\", \"long_terme\", \"lutte\", \"lutte\", \"lutte\", \"lyc\\u00e9e\", \"l\\u00e9gal\", \"l\\u00e9gislatif\", \"magistrat\", \"mai\", \"maintien\", \"maintien\", \"maison\", \"mal\", \"malade\", \"maladie\", \"mandat\", \"marchandise\", \"march\\u00e9\", \"march\\u00e9\", \"maritime\", \"maritime\", \"masse\", \"massif\", \"mati\\u00e8re\", \"mati\\u00e8re\", \"mati\\u00e8re\", \"mat\\u00e9riel\", \"meilleur\", \"meilleur\", \"meilleur\", \"membre\", \"membre\", \"menace\", \"mesure\", \"mesure\", \"mesure\", \"mettron\", \"mieux\", \"milieu_rural\", \"militaire\", \"militant\", \"milliard\", \"milliard_euro\", \"millier\", \"million\", \"mineur\", \"minimum_vieilless\", \"ministre\", \"mise\", \"mise\", \"mise\", \"mission\", \"mission\", \"mission\", \"mission\", \"mobilit\\u00e9\", \"modalit\\u00e9\", \"mode\", \"mode\", \"mode\", \"modernisation\", \"mod\\u00e9rer\", \"mois\", \"mois\", \"mois\", \"monde\", \"mondial\", \"mondialisation\", \"moral\", \"moral\", \"morale\", \"mort\", \"mort\", \"moyen\", \"moyen\", \"moyen\", \"moyen\", \"moyen\", \"multinationale\", \"multiple\", \"municipal\", \"municipal\", \"mus\\u00e9e\", \"m\\u00e9decin\", \"m\\u00e9decine\", \"m\\u00e9dia\", \"m\\u00e9diatique\", \"m\\u00e9dical\", \"m\\u00e9dicament\", \"m\\u00e9moire\", \"m\\u00e9nage\", \"m\\u00e9rite\", \"m\\u00e9tier\", \"m\\u00e9tropole\", \"nation\", \"nation\", \"national\", \"national\", \"national\", \"national\", \"national\", \"national\", \"nationalit\\u00e9\", \"nature\", \"nature\", \"nature\", \"naturel\", \"niveau\", \"niveau\", \"niveau\", \"niveau\", \"nocif\", \"nombre\", \"nombre\", \"nombre\", \"nomination\", \"nord\", \"norme\", \"nucl\\u00e9aire\", \"n\\u00e9cessaire\", \"n\\u00e9cessaire\", \"n\\u00e9cessaire\", \"n\\u00e9cessaire\", \"n\\u00e9gociation\", \"n\\u00e9gociation\", \"n\\u00e9gociation\", \"objectif\", \"objectif\", \"objectif\", \"objectif\", \"obligation\", \"obligatoire\", \"office\", \"officiel\", \"offre\", \"opposable\", \"ordonnance\", \"organisation\", \"organisation\", \"organisation\", \"organisation\", \"organisme\", \"orientation\", \"origin\", \"origine\", \"origine\", \"outil\", \"outil\", \"outre-mer\", \"pacs\", \"paiement\", \"paiement\", \"paix\", \"parcours\", \"parcours\", \"parent\", \"parent\", \"parit\\u00e9\", \"parlement\", \"parlementaire\", \"parlementaire\", \"part\", \"partenaire\", \"parti\", \"particulier\", \"particulier\", \"particulier\", \"particulier\", \"partie\", \"pathologie\", \"patrimoine\", \"pays\", \"pays\", \"pays\", \"paysage\", \"paysan\", \"peine\", \"pension\", \"performance\", \"personnel\", \"personnel\", \"personnel\", \"petit\", \"peuple\", \"peuple\", \"physique\", \"place\", \"place\", \"place\", \"plan\", \"plan\", \"plan\", \"plein\", \"plein\", \"plein\", \"plu\", \"pluralisme\", \"pme\", \"point\", \"police\", \"politique\", \"politique\", \"politique\", \"politique\", \"politique\", \"pollution\", \"populaire\", \"porteur\", \"positif\", \"position\", \"poste\", \"pourcent\", \"pouvoir\", \"pratique\", \"pratique\", \"pratique\", \"pratique\", \"prestation\", \"prestation\", \"prestige\", \"primaire\", \"prime\", \"principal\", \"principal\", \"principal\", \"principe\", \"principe\", \"principe\", \"principe\", \"prise_charge\", \"prise_compte\", \"prison\", \"priver\", \"prix\", \"processus\", \"proc\\u00e9dure\", \"producteur\", \"production\", \"production\", \"produit\", \"profession\", \"profession\", \"professionnel\", \"professionnel\", \"professionnel\", \"professionnel\", \"profit\", \"profondeur\", \"programme\", \"programme\", \"programme\", \"programme\", \"progressivit\\u00e9\", \"progr\\u00e8s\", \"progr\\u00e8s\", \"projet\", \"projet\", \"projet\", \"proportionnelle\", \"propre\", \"prosp\\u00e9rit\\u00e9\", \"protection\", \"protection\", \"proximit\\u00e9\", \"proximit\\u00e9\", \"proximit\\u00e9\", \"proximit\\u00e9\", \"pr\\u00e9caire\", \"pr\\u00e9carit\\u00e9\", \"pr\\u00e9carit\\u00e9\", \"pr\\u00e9coce\", \"pr\\u00e9c\\u00e9dent\", \"pr\\u00e9fet\", \"pr\\u00e9l\\u00e8vement_obligatoire\", \"pr\\u00e9l\\u00e8vement_obligatoire\", \"pr\\u00e9occupation\", \"pr\\u00e9sence\", \"pr\\u00e9sence\", \"pr\\u00e9servation\", \"pr\\u00e9sident\", \"pr\\u00e9sident\", \"pr\\u00e9sident_r\\u00e9publique\", \"pr\\u00e9vention\", \"pr\\u00e9vention\", \"puissance\", \"p\\u00e9dagogique\", \"p\\u00e9nal\", \"p\\u00e9rennit\\u00e9\", \"p\\u00e9riode\", \"p\\u00e9trolier\", \"p\\u00eache\", \"p\\u00f4le\", \"qualification\", \"qualification\", \"qualifi\\u00e9\", \"qualit\\u00e9\", \"qualit\\u00e9\", \"qualit\\u00e9\", \"qualit\\u00e9\", \"quartier\", \"quartier\", \"question\", \"question\", \"question\", \"question\", \"quinquennal\", \"raison\", \"raison\", \"rang\", \"rapport\", \"recherche\", \"recherche\", \"reconstruction\", \"reconversion\", \"recrutement\", \"regard\", \"regard\", \"remplacement\", \"renforcement\", \"renforcement\", \"renouvelable\", \"renouvellement\", \"renseignement\", \"repr\\u00e9sentant\", \"respect\", \"respect\", \"responsabilit\\u00e9\", \"responsabilit\\u00e9\", \"responsabilit\\u00e9\", \"responsable\", \"responsable\", \"responsable\", \"responsable\", \"retraite\", \"revalorisation\", \"revenu\", \"richesse\", \"risque\", \"risque\", \"routier\", \"rue\", \"rural\", \"ruralit\\u00e9\", \"rythme\", \"rythme\", \"r\\u00e8gle\", \"r\\u00e8gle\", \"r\\u00e8gle\", \"r\\u00e8glement\", \"r\\u00e9duction\", \"r\\u00e9elle\", \"r\\u00e9f\\u00e9rendum\", \"r\\u00e9galien\", \"r\\u00e9galien\", \"r\\u00e9gime\", \"r\\u00e9gion\", \"r\\u00e9gional\", \"r\\u00e9gional\", \"r\\u00e9gional\", \"r\\u00e9insertion\", \"r\\u00e9mun\\u00e9ration\", \"r\\u00e9orientation\", \"r\\u00e9publicain\", \"r\\u00e9publique\", \"r\\u00e9publique\", \"r\\u00e9seau\", \"r\\u00e9serve\", \"r\\u00e9sidence\", \"r\\u00e9sident\", \"r\\u00e9union\", \"r\\u00e9ussite\", \"sain\", \"salaire\", \"salarial\", \"salarier\", \"salari\\u00e9\", \"sanction\", \"sanitaire\", \"sant\\u00e9\", \"savoir\", \"sch\\u00e9ma\", \"scientifique\", \"scolaire\", \"scolaire\", \"scolarit\\u00e9\", \"second\", \"secondaire\", \"secondaire\", \"secteur\", \"secteur\", \"secteur\", \"sein\", \"sein\", \"sein\", \"sein\", \"sein\", \"sensible\", \"sentiment\", \"serre\", \"service\", \"service\", \"service\", \"service\", \"seuil\", \"seuil\", \"signe\", \"situation\", \"situation\", \"si\\u00e8cle\", \"si\\u00e8ge\", \"smic\", \"smic\", \"social\", \"social\", \"social\", \"soci\\u00e9t\\u00e9\", \"soci\\u00e9t\\u00e9\", \"soci\\u00e9t\\u00e9\", \"soin\", \"solaire\", \"solidarit\\u00e9\", \"solidarit\\u00e9\", \"sorte\", \"sortie\", \"source\", \"source\", \"soutien\", \"soutien\", \"souverainet\\u00e9\", \"sport\", \"sportif\", \"sp\\u00e9cial\", \"statut\", \"statut\", \"statut\", \"statut\", \"strat\\u00e9gique\", \"structure\", \"subvention\", \"succession\", \"suivi\", \"suivi\", \"suppl\\u00e9mentaire\", \"suppression\", \"suppression\", \"sup\\u00e9rieur\", \"sup\\u00e9rieur\", \"sup\\u00e9rieur\", \"sup\\u00e9rieur\", \"sup\\u00e9rieur\", \"sup\\u00e9rieur\", \"suspension\", \"syst\\u00e8me\", \"syst\\u00e8me\", \"syst\\u00e8me\", \"syst\\u00e8me\", \"syst\\u00e9matique\", \"s\\u00e9curitaire\", \"s\\u00e9curit\\u00e9\", \"s\\u00e9curit\\u00e9\", \"s\\u00e9curit\\u00e9\", \"s\\u00e9lectif\", \"s\\u00fbret\\u00e9\", \"taux\", \"taux\", \"taxe\", \"taxe\", \"taxe_habitation\", \"technologie\", \"temporaire\", \"temps\", \"temps\", \"temps\", \"terre\", \"territoire\", \"territorial\", \"territorial\", \"territorial\", \"terrorisme\", \"texte\", \"th\\u00e8me\", \"total\", \"tour\", \"trait\\u00e9\", \"tranche\", \"transformation\", \"transmission\", \"transparent\", \"transport\", \"transport\", \"transport\", \"travail\", \"travail\", \"travail\", \"tribunal\", \"tva\", \"unique\", \"universitaire\", \"universit\\u00e9\", \"urbain\", \"urbanisme\", \"urgence\", \"usage\", \"usager\", \"utile\", \"utilisation\", \"vacance\", \"valeur\", \"valeur\", \"valeur\", \"valeur\", \"valorisation\", \"vaste\", \"versement\", \"victime\", \"vie\", \"vie\", \"vie\", \"vie\", \"vie\", \"vie\", \"vie\", \"vie\", \"vif\", \"ville\", \"violence\", \"vision\", \"vitesse\", \"vocation\", \"vol\", \"volet\", \"volontaire\", \"vote\", \"vote_\\u00e9ligibilit\\u00e9\", \"vrai\", \"vrai\", \"vrai\", \"vuln\\u00e9rable\", \"v\\u00e9ritable\", \"v\\u00e9ritable\", \"v\\u00e9ritable\", \"v\\u00e9ritable\", \"v\\u00e9rit\\u00e9\", \"v\\u00e9rit\\u00e9\", \"zone\", \"zone\", \"zone\", \"zone\", \"z\\u00e9ro\", \"\\u00e2ge\", \"\\u00e9change\", \"\\u00e9change\", \"\\u00e9change\", \"\\u00e9chec\", \"\\u00e9cole\", \"\\u00e9cologie\", \"\\u00e9cologique\", \"\\u00e9cologique\", \"\\u00e9cologiste\", \"\\u00e9conome\", \"\\u00e9conomie\", \"\\u00e9conomie\", \"\\u00e9conomique\", \"\\u00e9conomique\", \"\\u00e9crir_compter\", \"\\u00e9ducatif\", \"\\u00e9ducation\", \"\\u00e9ducation\", \"\\u00e9ducation\", \"\\u00e9galit\\u00e9\", \"\\u00e9galit\\u00e9\", \"\\u00e9galit\\u00e9_chance\", \"\\u00e9laboration\", \"\\u00e9lection\", \"\\u00e9lectricit\\u00e9\", \"\\u00e9levage\", \"\\u00e9lu\", \"\\u00e9l\\u00e8ve\", \"\\u00e9mergence\", \"\\u00e9nergie\", \"\\u00e9nergie_renouvelable\", \"\\u00e9nerg\\u00e9tique\", \"\\u00e9olien\", \"\\u00e9panouissement\", \"\\u00e9quipement\", \"\\u00e9quipement\", \"\\u00e9quit\\u00e9\", \"\\u00e9tablissement\", \"\\u00e9tat\", \"\\u00e9tat\", \"\\u00e9tat\", \"\\u00e9tat\", \"\\u00e9tranger\", \"\\u00e9tude\", \"\\u00e9tudiant\", \"\\u00e9vidence\", \"\\u00e9volution\", \"\\u0153uvre\", \"\\u0153uvre\", \"\\u0153uvre\", \"\\u2026\"]}, \"R\": 30, \"lambda.step\": 0.01, \"plot.opts\": {\"xlab\": \"PC1\", \"ylab\": \"PC2\"}, \"topic.order\": [1, 2, 3, 4, 5, 6, 7, 8, 9, 10, 11, 12, 13, 14, 15, 16, 17, 18, 19, 20, 21, 22]};\n",
       "\n",
       "function LDAvis_load_lib(url, callback){\n",
       "  var s = document.createElement('script');\n",
       "  s.src = url;\n",
       "  s.async = true;\n",
       "  s.onreadystatechange = s.onload = callback;\n",
       "  s.onerror = function(){console.warn(\"failed to load library \" + url);};\n",
       "  document.getElementsByTagName(\"head\")[0].appendChild(s);\n",
       "}\n",
       "\n",
       "if(typeof(LDAvis) !== \"undefined\"){\n",
       "   // already loaded: just create the visualization\n",
       "   !function(LDAvis){\n",
       "       new LDAvis(\"#\" + \"ldavis_el268461403147305361763374278428\", ldavis_el268461403147305361763374278428_data);\n",
       "   }(LDAvis);\n",
       "}else if(typeof define === \"function\" && define.amd){\n",
       "   // require.js is available: use it to load d3/LDAvis\n",
       "   require.config({paths: {d3: \"https://d3js.org/d3.v5\"}});\n",
       "   require([\"d3\"], function(d3){\n",
       "      window.d3 = d3;\n",
       "      LDAvis_load_lib(\"https://cdn.jsdelivr.net/gh/bmabey/pyLDAvis@3.3.1/pyLDAvis/js/ldavis.v3.0.0.js\", function(){\n",
       "        new LDAvis(\"#\" + \"ldavis_el268461403147305361763374278428\", ldavis_el268461403147305361763374278428_data);\n",
       "      });\n",
       "    });\n",
       "}else{\n",
       "    // require.js not available: dynamically load d3 & LDAvis\n",
       "    LDAvis_load_lib(\"https://d3js.org/d3.v5.js\", function(){\n",
       "         LDAvis_load_lib(\"https://cdn.jsdelivr.net/gh/bmabey/pyLDAvis@3.3.1/pyLDAvis/js/ldavis.v3.0.0.js\", function(){\n",
       "                 new LDAvis(\"#\" + \"ldavis_el268461403147305361763374278428\", ldavis_el268461403147305361763374278428_data);\n",
       "            })\n",
       "         });\n",
       "}\n",
       "</script>"
      ],
      "text/plain": [
       "PreparedData(topic_coordinates=              x         y  topics  cluster       Freq\n",
       "topic                                                \n",
       "0      0.053298  0.079246       1        1   4.212936\n",
       "1      0.097793  0.149670       2        1   3.204482\n",
       "2      0.160585 -0.196632       3        1   9.358112\n",
       "3      0.094330  0.230711       4        1   3.915466\n",
       "4     -0.093245  0.121745       5        1   1.612803\n",
       "5      0.171800 -0.098700       6        1  22.804438\n",
       "6     -0.174837 -0.047183       7        1   0.344420\n",
       "7     -0.088905 -0.006786       8        1   1.988143\n",
       "8     -0.052085  0.073024       9        1   2.388430\n",
       "9      0.149423 -0.163639      10        1  12.466698\n",
       "10    -0.074455  0.012362      11        1   1.503954\n",
       "11    -0.101560  0.033074      12        1   2.285584\n",
       "12     0.053832  0.051490      13        1   5.925214\n",
       "13     0.194067 -0.083981      14        1  10.330910\n",
       "14    -0.108594 -0.171614      15        1   1.614377\n",
       "15     0.083415  0.218118      16        1   3.354906\n",
       "16    -0.045322  0.064409      17        1   2.809849\n",
       "17     0.225373 -0.053779      18        1   6.586111\n",
       "18    -0.135994 -0.016696      19        1   0.926068\n",
       "19    -0.165069 -0.164758      20        1   0.711403\n",
       "20    -0.135078 -0.073710      21        1   0.006625\n",
       "21    -0.108770  0.043627      22        1   1.649072, topic_info=           Term         Freq        Total Category  logprob  loglift\n",
       "217    français  1402.000000  1402.000000  Default  30.0000  30.0000\n",
       "260  entreprise   918.000000   918.000000  Default  29.0000  29.0000\n",
       "163    européen  1186.000000  1186.000000  Default  28.0000  28.0000\n",
       "131     service  1036.000000  1036.000000  Default  27.0000  27.0000\n",
       "74      travail   798.000000   798.000000  Default  26.0000  26.0000\n",
       "..          ...          ...          ...      ...      ...      ...\n",
       "254    création    92.656553   481.408295  Topic22  -3.1642   2.4571\n",
       "445      nature    31.582854   106.563111  Topic22  -4.2405   2.8888\n",
       "736  équipement    21.337773    65.334982  Topic22  -4.6326   2.9859\n",
       "832    pratique    16.089418   127.531197  Topic22  -4.9149   2.0348\n",
       "487  industriel    15.885113   181.969557  Topic22  -4.9277   1.6665\n",
       "\n",
       "[977 rows x 6 columns], token_table=      Topic      Freq            Term\n",
       "term                                 \n",
       "376      16  0.969993      abrogation\n",
       "335      17  0.977086      accessible\n",
       "245      13  0.984767  accompagnement\n",
       "672      13  0.995833          accord\n",
       "643       2  0.789491         accueil\n",
       "...     ...       ...             ...\n",
       "1006     13  0.992614       évolution\n",
       "953       6  0.349266           œuvre\n",
       "953      10  0.582110           œuvre\n",
       "953      14  0.065973           œuvre\n",
       "1607     17  0.968169               …\n",
       "\n",
       "[1177 rows x 3 columns], R=30, lambda_step=0.01, plot_opts={'xlab': 'PC1', 'ylab': 'PC2'}, topic_order=[1, 2, 3, 4, 5, 6, 7, 8, 9, 10, 11, 12, 13, 14, 15, 16, 17, 18, 19, 20, 21, 22])"
      ]
     },
     "execution_count": 203,
     "metadata": {},
     "output_type": "execute_result"
    }
   ],
   "source": [
    "vis"
   ]
  },
  {
   "cell_type": "code",
   "execution_count": 204,
   "id": "15029d0b",
   "metadata": {},
   "outputs": [],
   "source": [
    "topics = pd.DataFrame([{'id_topic':i,'keywords':', '.join([x[0] for x in model.show_topic(i,topn=20)])} for i in range(model.num_topics)])"
   ]
  },
  {
   "cell_type": "code",
   "execution_count": 205,
   "id": "fb8e48c6",
   "metadata": {
    "scrolled": true
   },
   "outputs": [
    {
     "data": {
      "text/html": [
       "<div>\n",
       "<style scoped>\n",
       "    .dataframe tbody tr th:only-of-type {\n",
       "        vertical-align: middle;\n",
       "    }\n",
       "\n",
       "    .dataframe tbody tr th {\n",
       "        vertical-align: top;\n",
       "    }\n",
       "\n",
       "    .dataframe thead th {\n",
       "        text-align: right;\n",
       "    }\n",
       "</style>\n",
       "<table border=\"1\" class=\"dataframe\">\n",
       "  <thead>\n",
       "    <tr style=\"text-align: right;\">\n",
       "      <th></th>\n",
       "      <th>id_topic</th>\n",
       "      <th>keywords</th>\n",
       "    </tr>\n",
       "  </thead>\n",
       "  <tbody>\n",
       "    <tr>\n",
       "      <th>0</th>\n",
       "      <td>0</td>\n",
       "      <td>école, établissement, scolaire, élève, ville, ...</td>\n",
       "    </tr>\n",
       "    <tr>\n",
       "      <th>1</th>\n",
       "      <td>1</td>\n",
       "      <td>logement, revenu, enfant, famille, droit, femm...</td>\n",
       "    </tr>\n",
       "    <tr>\n",
       "      <th>2</th>\n",
       "      <td>2</td>\n",
       "      <td>européen, pays, politique, international, mond...</td>\n",
       "    </tr>\n",
       "    <tr>\n",
       "      <th>3</th>\n",
       "      <td>3</td>\n",
       "      <td>entreprise, travail, emploi, professionnel, ac...</td>\n",
       "    </tr>\n",
       "    <tr>\n",
       "      <th>4</th>\n",
       "      <td>4</td>\n",
       "      <td>santé, soin, médical, hôpital, prison, prise_c...</td>\n",
       "    </tr>\n",
       "    <tr>\n",
       "      <th>5</th>\n",
       "      <td>5</td>\n",
       "      <td>social, pourcent, place, an, grand, aide, mesu...</td>\n",
       "    </tr>\n",
       "    <tr>\n",
       "      <th>6</th>\n",
       "      <td>6</td>\n",
       "      <td>frontière, extérieur, pluralisme, capable, con...</td>\n",
       "    </tr>\n",
       "    <tr>\n",
       "      <th>7</th>\n",
       "      <td>7</td>\n",
       "      <td>paix, urgence, maladie, assurance, médecine, r...</td>\n",
       "    </tr>\n",
       "    <tr>\n",
       "      <th>8</th>\n",
       "      <td>8</td>\n",
       "      <td>retraite, régime, prix, obligatoire, génératio...</td>\n",
       "    </tr>\n",
       "    <tr>\n",
       "      <th>9</th>\n",
       "      <td>9</td>\n",
       "      <td>territoire, national, français, recherche, pla...</td>\n",
       "    </tr>\n",
       "    <tr>\n",
       "      <th>10</th>\n",
       "      <td>10</td>\n",
       "      <td>transport, énergie, nucléaire, énergétique, co...</td>\n",
       "    </tr>\n",
       "    <tr>\n",
       "      <th>11</th>\n",
       "      <td>11</td>\n",
       "      <td>écologique, agricole, production, produit, agr...</td>\n",
       "    </tr>\n",
       "    <tr>\n",
       "      <th>12</th>\n",
       "      <td>12</td>\n",
       "      <td>service, temps, accord, vie, réduction, millio...</td>\n",
       "    </tr>\n",
       "    <tr>\n",
       "      <th>13</th>\n",
       "      <td>13</td>\n",
       "      <td>loi, justice, sécurité, droit, lutte, respect,...</td>\n",
       "    </tr>\n",
       "    <tr>\n",
       "      <th>14</th>\n",
       "      <td>14</td>\n",
       "      <td>étranger, français, immigration, vote, origine...</td>\n",
       "    </tr>\n",
       "    <tr>\n",
       "      <th>15</th>\n",
       "      <td>15</td>\n",
       "      <td>formation, jeune, professionnel, université, é...</td>\n",
       "    </tr>\n",
       "    <tr>\n",
       "      <th>16</th>\n",
       "      <td>16</td>\n",
       "      <td>fonction, administration, priver, obligation, ...</td>\n",
       "    </tr>\n",
       "    <tr>\n",
       "      <th>17</th>\n",
       "      <td>17</td>\n",
       "      <td>droit, citoyen, politique, pouvoir, parlement,...</td>\n",
       "    </tr>\n",
       "    <tr>\n",
       "      <th>18</th>\n",
       "      <td>18</td>\n",
       "      <td>région, local, commune, assemblée, collectivit...</td>\n",
       "    </tr>\n",
       "    <tr>\n",
       "      <th>19</th>\n",
       "      <td>19</td>\n",
       "      <td>français, confiance, mérite, nation, réserve, ...</td>\n",
       "    </tr>\n",
       "    <tr>\n",
       "      <th>20</th>\n",
       "      <td>20</td>\n",
       "      <td>isolation, sauvegarde, terroir, train, récupér...</td>\n",
       "    </tr>\n",
       "    <tr>\n",
       "      <th>21</th>\n",
       "      <td>21</td>\n",
       "      <td>culture, culturel, eau, écologiste, naturel, c...</td>\n",
       "    </tr>\n",
       "  </tbody>\n",
       "</table>\n",
       "</div>"
      ],
      "text/plain": [
       "    id_topic                                           keywords\n",
       "0          0  école, établissement, scolaire, élève, ville, ...\n",
       "1          1  logement, revenu, enfant, famille, droit, femm...\n",
       "2          2  européen, pays, politique, international, mond...\n",
       "3          3  entreprise, travail, emploi, professionnel, ac...\n",
       "4          4  santé, soin, médical, hôpital, prison, prise_c...\n",
       "5          5  social, pourcent, place, an, grand, aide, mesu...\n",
       "6          6  frontière, extérieur, pluralisme, capable, con...\n",
       "7          7  paix, urgence, maladie, assurance, médecine, r...\n",
       "8          8  retraite, régime, prix, obligatoire, génératio...\n",
       "9          9  territoire, national, français, recherche, pla...\n",
       "10        10  transport, énergie, nucléaire, énergétique, co...\n",
       "11        11  écologique, agricole, production, produit, agr...\n",
       "12        12  service, temps, accord, vie, réduction, millio...\n",
       "13        13  loi, justice, sécurité, droit, lutte, respect,...\n",
       "14        14  étranger, français, immigration, vote, origine...\n",
       "15        15  formation, jeune, professionnel, université, é...\n",
       "16        16  fonction, administration, priver, obligation, ...\n",
       "17        17  droit, citoyen, politique, pouvoir, parlement,...\n",
       "18        18  région, local, commune, assemblée, collectivit...\n",
       "19        19  français, confiance, mérite, nation, réserve, ...\n",
       "20        20  isolation, sauvegarde, terroir, train, récupér...\n",
       "21        21  culture, culturel, eau, écologiste, naturel, c..."
      ]
     },
     "execution_count": 205,
     "metadata": {},
     "output_type": "execute_result"
    }
   ],
   "source": [
    "topics"
   ]
  },
  {
   "cell_type": "code",
   "execution_count": null,
   "id": "55fd646d",
   "metadata": {},
   "outputs": [],
   "source": [
    "pd.options.display.max_colwidth=50"
   ]
  },
  {
   "cell_type": "markdown",
   "id": "c7346aec",
   "metadata": {},
   "source": [
    "Interperting topics"
   ]
  },
  {
   "cell_type": "code",
   "execution_count": 206,
   "id": "0062fdde",
   "metadata": {},
   "outputs": [],
   "source": [
    "dict_topics = {\n",
    "0 : 'éducation',\n",
    "1 : 'famille',\n",
    "2 : 'international/europe',\n",
    "3 : 'emploie/salaire',\n",
    "4 : 'santé',\n",
    "5 : 'cotisation',\n",
    "6 : 'frontière/indentité',\n",
    "7 : 'protection sociale/médecine',\n",
    "8 : 'retraite',\n",
    "9 : 'plan',\n",
    "10 : 'énergie',\n",
    "11 : 'écologie/agriculture',\n",
    "12 : 'service public',\n",
    "13 : 'loi/justice',\n",
    "14 : 'immigration',\n",
    "15 : 'enseignement supérieur',\n",
    "16 : 'administration',\n",
    "17 : 'institutions',\n",
    "18 : 'régions/territoire',\n",
    "19 : 'valeurs conservatrices',\n",
    "20 : 'infrastructure',\n",
    "21 : 'environnement/pollution'\n",
    "}"
   ]
  },
  {
   "cell_type": "code",
   "execution_count": 208,
   "id": "181cd27f",
   "metadata": {},
   "outputs": [],
   "source": [
    "#topics['topic_name'] = topics['id_topic'].apply(str)\n",
    "topics['topic_name'] = topics['id_topic'].apply(lambda x: dict_topics[x])"
   ]
  },
  {
   "cell_type": "markdown",
   "id": "e10ba8a8",
   "metadata": {},
   "source": [
    "Inferring topic distribution for each 100-token-document"
   ]
  },
  {
   "cell_type": "code",
   "execution_count": 209,
   "id": "06490530",
   "metadata": {
    "scrolled": true
   },
   "outputs": [
    {
     "data": {
      "application/vnd.jupyter.widget-view+json": {
       "model_id": "4617a400a9f34e698609fa1d16c21d0b",
       "version_major": 2,
       "version_minor": 0
      },
      "text/plain": [
       "  0%|          | 0/1499 [00:00<?, ?it/s]"
      ]
     },
     "metadata": {},
     "output_type": "display_data"
    }
   ],
   "source": [
    "chunks_manifesto['topic_distribution'] = chunks_manifesto.corpus.progress_apply(lambda x: [y[1] for y in model[x]])"
   ]
  },
  {
   "cell_type": "code",
   "execution_count": 210,
   "id": "39f99735",
   "metadata": {},
   "outputs": [
    {
     "data": {
      "application/vnd.jupyter.widget-view+json": {
       "model_id": "396e858d004a430e8a1ba0c99b01ced7",
       "version_major": 2,
       "version_minor": 0
      },
      "text/plain": [
       "  0%|          | 0/153836 [00:00<?, ?it/s]"
      ]
     },
     "metadata": {},
     "output_type": "display_data"
    }
   ],
   "source": [
    "chunks_articles['topic_distribution'] = chunks_articles.corpus.progress_apply(lambda x: [y[1] for y in model[x]])"
   ]
  },
  {
   "cell_type": "markdown",
   "id": "3dfa4e30",
   "metadata": {},
   "source": [
    "The topic distribution of a manifesto is the average of its splitted documents"
   ]
  },
  {
   "cell_type": "code",
   "execution_count": 211,
   "id": "d36a788e",
   "metadata": {},
   "outputs": [],
   "source": [
    "manifesto_topic = pd.DataFrame(chunks_manifesto.groupby('id_manifesto').apply(lambda df: np.mean(df['topic_distribution'].tolist(), axis=0).tolist())).reset_index().rename({0:'topic_distribution'},axis=1)"
   ]
  },
  {
   "cell_type": "code",
   "execution_count": 212,
   "id": "51e20a38",
   "metadata": {},
   "outputs": [],
   "source": [
    "manifesto_topic = pd.merge(manifesto_topic, manifestos[['id_manifesto','partyname','annee']], on='id_manifesto', how='left')"
   ]
  },
  {
   "cell_type": "code",
   "execution_count": 213,
   "id": "e1f138da",
   "metadata": {},
   "outputs": [],
   "source": [
    "article_topic = pd.DataFrame(chunks_articles.groupby('id_article').apply(lambda df: np.mean(df['topic_distribution'].tolist(), axis=0).tolist())).reset_index().rename({0:'topic_distribution'},axis=1)"
   ]
  },
  {
   "cell_type": "code",
   "execution_count": 214,
   "id": "e71a7ac0",
   "metadata": {},
   "outputs": [],
   "source": [
    "article_topic = pd.merge(article_topic, articles[['id_article','partyname','annee']], on='id_article', how='left')"
   ]
  },
  {
   "cell_type": "code",
   "execution_count": 215,
   "id": "60d59cbb",
   "metadata": {},
   "outputs": [],
   "source": [
    "journal_year_topic = pd.DataFrame(article_topic.groupby(['partyname','annee']).apply(lambda df: np.mean(df['topic_distribution'].tolist(), axis=0).tolist())).reset_index().rename({0:'topic_distribution'},axis=1)"
   ]
  },
  {
   "cell_type": "markdown",
   "id": "8121a033",
   "metadata": {},
   "source": [
    "# PCA"
   ]
  },
  {
   "cell_type": "code",
   "execution_count": 216,
   "id": "ab075e27",
   "metadata": {},
   "outputs": [],
   "source": [
    "from sklearn import datasets\n",
    "from sklearn.preprocessing import StandardScaler\n",
    "from sklearn.decomposition import PCA"
   ]
  },
  {
   "cell_type": "code",
   "execution_count": 217,
   "id": "e8053c5c",
   "metadata": {},
   "outputs": [],
   "source": [
    "from sklearn.preprocessing import normalize\n",
    "\n",
    "def add_correlation_circle(figure, coeffs, texts, normalization=True, add_circle=True):\n",
    "    if add_circle:\n",
    "        figure.add_shape(type=\"circle\",\n",
    "                         xref=\"x\", yref=\"y\",\n",
    "                         x0=-1, y0=-1, x1=1, y1=1,\n",
    "                         line_color=\"blue\"\n",
    "                        )\n",
    "    if normalization:\n",
    "        coeffs = normalize(coeffs,axis=0)\n",
    "    for i in range(coeffs.shape[1]):\n",
    "        figure.add_annotation(\n",
    "            x=coeffs[0,i],  # arrows' head\n",
    "            y=coeffs[1,i],  # arrows' head\n",
    "            ax=0,  # arrows' tail\n",
    "            ay=0,  # arrows' tail\n",
    "            xref='x',\n",
    "            yref='y',\n",
    "            axref='x',\n",
    "            ayref='y',\n",
    "            text='',  # if you want only the arrow\n",
    "            showarrow=True,\n",
    "            arrowhead=2,\n",
    "            arrowsize=1,\n",
    "            arrowwidth=2,\n",
    "            arrowcolor='red'\n",
    "        )\n",
    "\n",
    "        figure.add_annotation(\n",
    "            x=coeffs[0,i]*1.25, \n",
    "            y=coeffs[1,i]*1.25,\n",
    "            text=texts[i],\n",
    "            showarrow=False,\n",
    "            font=dict(size=10,color=\"red\")\n",
    "        )\n",
    "    return figure"
   ]
  },
  {
   "cell_type": "code",
   "execution_count": 218,
   "id": "91f989d5",
   "metadata": {},
   "outputs": [],
   "source": [
    "data = manifesto_topic.topic_distribution.to_list()"
   ]
  },
  {
   "cell_type": "code",
   "execution_count": 219,
   "id": "ce024f20",
   "metadata": {},
   "outputs": [],
   "source": [
    "scaler = StandardScaler()\n",
    "scaler.fit(data)\n",
    "data = scaler.transform(data)"
   ]
  },
  {
   "cell_type": "code",
   "execution_count": 220,
   "id": "ef982301",
   "metadata": {},
   "outputs": [
    {
     "data": {
      "text/plain": [
       "PCA()"
      ]
     },
     "execution_count": 220,
     "metadata": {},
     "output_type": "execute_result"
    }
   ],
   "source": [
    "pca = PCA()\n",
    "pca.fit(data)"
   ]
  },
  {
   "cell_type": "code",
   "execution_count": 221,
   "id": "9b621efb",
   "metadata": {},
   "outputs": [
    {
     "data": {
      "application/vnd.plotly.v1+json": {
       "config": {
        "plotlyServerURL": "https://plot.ly"
       },
       "data": [
        {
         "hovertemplate": "variable=0<br>Principal Component=%{x}<br>Explained Variance Ratio=%{y}<extra></extra>",
         "legendgroup": "0",
         "line": {
          "color": "#636efa",
          "dash": "solid"
         },
         "marker": {
          "symbol": "circle"
         },
         "mode": "lines",
         "name": "0",
         "orientation": "v",
         "showlegend": true,
         "type": "scatter",
         "x": [
          0,
          1,
          2,
          3,
          4,
          5,
          6,
          7,
          8,
          9,
          10,
          11,
          12,
          13,
          14,
          15,
          16,
          17,
          18,
          19,
          20,
          21
         ],
         "xaxis": "x",
         "y": [
          0.2528553740514949,
          0.17995082602962859,
          0.12829336183950893,
          0.09928449310629159,
          0.07328795086906735,
          0.060391144028771764,
          0.045197945493851865,
          0.035845658514574844,
          0.029518683415172886,
          0.022035619640536307,
          0.017319225643670885,
          0.012855508656840856,
          0.012694956048324386,
          0.010447723482608898,
          0.0077000995255530605,
          0.004727152639644178,
          0.003099982054978071,
          0.002727143614352337,
          0.0011240515221040699,
          0.0004233679296036876,
          0.00021973189341702775,
          3.83172643352396e-15
         ],
         "yaxis": "y"
        }
       ],
       "layout": {
        "legend": {
         "title": {
          "text": "variable"
         },
         "tracegroupgap": 0
        },
        "margin": {
         "t": 60
        },
        "template": {
         "data": {
          "bar": [
           {
            "error_x": {
             "color": "#2a3f5f"
            },
            "error_y": {
             "color": "#2a3f5f"
            },
            "marker": {
             "line": {
              "color": "#E5ECF6",
              "width": 0.5
             },
             "pattern": {
              "fillmode": "overlay",
              "size": 10,
              "solidity": 0.2
             }
            },
            "type": "bar"
           }
          ],
          "barpolar": [
           {
            "marker": {
             "line": {
              "color": "#E5ECF6",
              "width": 0.5
             },
             "pattern": {
              "fillmode": "overlay",
              "size": 10,
              "solidity": 0.2
             }
            },
            "type": "barpolar"
           }
          ],
          "carpet": [
           {
            "aaxis": {
             "endlinecolor": "#2a3f5f",
             "gridcolor": "white",
             "linecolor": "white",
             "minorgridcolor": "white",
             "startlinecolor": "#2a3f5f"
            },
            "baxis": {
             "endlinecolor": "#2a3f5f",
             "gridcolor": "white",
             "linecolor": "white",
             "minorgridcolor": "white",
             "startlinecolor": "#2a3f5f"
            },
            "type": "carpet"
           }
          ],
          "choropleth": [
           {
            "colorbar": {
             "outlinewidth": 0,
             "ticks": ""
            },
            "type": "choropleth"
           }
          ],
          "contour": [
           {
            "colorbar": {
             "outlinewidth": 0,
             "ticks": ""
            },
            "colorscale": [
             [
              0,
              "#0d0887"
             ],
             [
              0.1111111111111111,
              "#46039f"
             ],
             [
              0.2222222222222222,
              "#7201a8"
             ],
             [
              0.3333333333333333,
              "#9c179e"
             ],
             [
              0.4444444444444444,
              "#bd3786"
             ],
             [
              0.5555555555555556,
              "#d8576b"
             ],
             [
              0.6666666666666666,
              "#ed7953"
             ],
             [
              0.7777777777777778,
              "#fb9f3a"
             ],
             [
              0.8888888888888888,
              "#fdca26"
             ],
             [
              1,
              "#f0f921"
             ]
            ],
            "type": "contour"
           }
          ],
          "contourcarpet": [
           {
            "colorbar": {
             "outlinewidth": 0,
             "ticks": ""
            },
            "type": "contourcarpet"
           }
          ],
          "heatmap": [
           {
            "colorbar": {
             "outlinewidth": 0,
             "ticks": ""
            },
            "colorscale": [
             [
              0,
              "#0d0887"
             ],
             [
              0.1111111111111111,
              "#46039f"
             ],
             [
              0.2222222222222222,
              "#7201a8"
             ],
             [
              0.3333333333333333,
              "#9c179e"
             ],
             [
              0.4444444444444444,
              "#bd3786"
             ],
             [
              0.5555555555555556,
              "#d8576b"
             ],
             [
              0.6666666666666666,
              "#ed7953"
             ],
             [
              0.7777777777777778,
              "#fb9f3a"
             ],
             [
              0.8888888888888888,
              "#fdca26"
             ],
             [
              1,
              "#f0f921"
             ]
            ],
            "type": "heatmap"
           }
          ],
          "heatmapgl": [
           {
            "colorbar": {
             "outlinewidth": 0,
             "ticks": ""
            },
            "colorscale": [
             [
              0,
              "#0d0887"
             ],
             [
              0.1111111111111111,
              "#46039f"
             ],
             [
              0.2222222222222222,
              "#7201a8"
             ],
             [
              0.3333333333333333,
              "#9c179e"
             ],
             [
              0.4444444444444444,
              "#bd3786"
             ],
             [
              0.5555555555555556,
              "#d8576b"
             ],
             [
              0.6666666666666666,
              "#ed7953"
             ],
             [
              0.7777777777777778,
              "#fb9f3a"
             ],
             [
              0.8888888888888888,
              "#fdca26"
             ],
             [
              1,
              "#f0f921"
             ]
            ],
            "type": "heatmapgl"
           }
          ],
          "histogram": [
           {
            "marker": {
             "pattern": {
              "fillmode": "overlay",
              "size": 10,
              "solidity": 0.2
             }
            },
            "type": "histogram"
           }
          ],
          "histogram2d": [
           {
            "colorbar": {
             "outlinewidth": 0,
             "ticks": ""
            },
            "colorscale": [
             [
              0,
              "#0d0887"
             ],
             [
              0.1111111111111111,
              "#46039f"
             ],
             [
              0.2222222222222222,
              "#7201a8"
             ],
             [
              0.3333333333333333,
              "#9c179e"
             ],
             [
              0.4444444444444444,
              "#bd3786"
             ],
             [
              0.5555555555555556,
              "#d8576b"
             ],
             [
              0.6666666666666666,
              "#ed7953"
             ],
             [
              0.7777777777777778,
              "#fb9f3a"
             ],
             [
              0.8888888888888888,
              "#fdca26"
             ],
             [
              1,
              "#f0f921"
             ]
            ],
            "type": "histogram2d"
           }
          ],
          "histogram2dcontour": [
           {
            "colorbar": {
             "outlinewidth": 0,
             "ticks": ""
            },
            "colorscale": [
             [
              0,
              "#0d0887"
             ],
             [
              0.1111111111111111,
              "#46039f"
             ],
             [
              0.2222222222222222,
              "#7201a8"
             ],
             [
              0.3333333333333333,
              "#9c179e"
             ],
             [
              0.4444444444444444,
              "#bd3786"
             ],
             [
              0.5555555555555556,
              "#d8576b"
             ],
             [
              0.6666666666666666,
              "#ed7953"
             ],
             [
              0.7777777777777778,
              "#fb9f3a"
             ],
             [
              0.8888888888888888,
              "#fdca26"
             ],
             [
              1,
              "#f0f921"
             ]
            ],
            "type": "histogram2dcontour"
           }
          ],
          "mesh3d": [
           {
            "colorbar": {
             "outlinewidth": 0,
             "ticks": ""
            },
            "type": "mesh3d"
           }
          ],
          "parcoords": [
           {
            "line": {
             "colorbar": {
              "outlinewidth": 0,
              "ticks": ""
             }
            },
            "type": "parcoords"
           }
          ],
          "pie": [
           {
            "automargin": true,
            "type": "pie"
           }
          ],
          "scatter": [
           {
            "marker": {
             "colorbar": {
              "outlinewidth": 0,
              "ticks": ""
             }
            },
            "type": "scatter"
           }
          ],
          "scatter3d": [
           {
            "line": {
             "colorbar": {
              "outlinewidth": 0,
              "ticks": ""
             }
            },
            "marker": {
             "colorbar": {
              "outlinewidth": 0,
              "ticks": ""
             }
            },
            "type": "scatter3d"
           }
          ],
          "scattercarpet": [
           {
            "marker": {
             "colorbar": {
              "outlinewidth": 0,
              "ticks": ""
             }
            },
            "type": "scattercarpet"
           }
          ],
          "scattergeo": [
           {
            "marker": {
             "colorbar": {
              "outlinewidth": 0,
              "ticks": ""
             }
            },
            "type": "scattergeo"
           }
          ],
          "scattergl": [
           {
            "marker": {
             "colorbar": {
              "outlinewidth": 0,
              "ticks": ""
             }
            },
            "type": "scattergl"
           }
          ],
          "scattermapbox": [
           {
            "marker": {
             "colorbar": {
              "outlinewidth": 0,
              "ticks": ""
             }
            },
            "type": "scattermapbox"
           }
          ],
          "scatterpolar": [
           {
            "marker": {
             "colorbar": {
              "outlinewidth": 0,
              "ticks": ""
             }
            },
            "type": "scatterpolar"
           }
          ],
          "scatterpolargl": [
           {
            "marker": {
             "colorbar": {
              "outlinewidth": 0,
              "ticks": ""
             }
            },
            "type": "scatterpolargl"
           }
          ],
          "scatterternary": [
           {
            "marker": {
             "colorbar": {
              "outlinewidth": 0,
              "ticks": ""
             }
            },
            "type": "scatterternary"
           }
          ],
          "surface": [
           {
            "colorbar": {
             "outlinewidth": 0,
             "ticks": ""
            },
            "colorscale": [
             [
              0,
              "#0d0887"
             ],
             [
              0.1111111111111111,
              "#46039f"
             ],
             [
              0.2222222222222222,
              "#7201a8"
             ],
             [
              0.3333333333333333,
              "#9c179e"
             ],
             [
              0.4444444444444444,
              "#bd3786"
             ],
             [
              0.5555555555555556,
              "#d8576b"
             ],
             [
              0.6666666666666666,
              "#ed7953"
             ],
             [
              0.7777777777777778,
              "#fb9f3a"
             ],
             [
              0.8888888888888888,
              "#fdca26"
             ],
             [
              1,
              "#f0f921"
             ]
            ],
            "type": "surface"
           }
          ],
          "table": [
           {
            "cells": {
             "fill": {
              "color": "#EBF0F8"
             },
             "line": {
              "color": "white"
             }
            },
            "header": {
             "fill": {
              "color": "#C8D4E3"
             },
             "line": {
              "color": "white"
             }
            },
            "type": "table"
           }
          ]
         },
         "layout": {
          "annotationdefaults": {
           "arrowcolor": "#2a3f5f",
           "arrowhead": 0,
           "arrowwidth": 1
          },
          "autotypenumbers": "strict",
          "coloraxis": {
           "colorbar": {
            "outlinewidth": 0,
            "ticks": ""
           }
          },
          "colorscale": {
           "diverging": [
            [
             0,
             "#8e0152"
            ],
            [
             0.1,
             "#c51b7d"
            ],
            [
             0.2,
             "#de77ae"
            ],
            [
             0.3,
             "#f1b6da"
            ],
            [
             0.4,
             "#fde0ef"
            ],
            [
             0.5,
             "#f7f7f7"
            ],
            [
             0.6,
             "#e6f5d0"
            ],
            [
             0.7,
             "#b8e186"
            ],
            [
             0.8,
             "#7fbc41"
            ],
            [
             0.9,
             "#4d9221"
            ],
            [
             1,
             "#276419"
            ]
           ],
           "sequential": [
            [
             0,
             "#0d0887"
            ],
            [
             0.1111111111111111,
             "#46039f"
            ],
            [
             0.2222222222222222,
             "#7201a8"
            ],
            [
             0.3333333333333333,
             "#9c179e"
            ],
            [
             0.4444444444444444,
             "#bd3786"
            ],
            [
             0.5555555555555556,
             "#d8576b"
            ],
            [
             0.6666666666666666,
             "#ed7953"
            ],
            [
             0.7777777777777778,
             "#fb9f3a"
            ],
            [
             0.8888888888888888,
             "#fdca26"
            ],
            [
             1,
             "#f0f921"
            ]
           ],
           "sequentialminus": [
            [
             0,
             "#0d0887"
            ],
            [
             0.1111111111111111,
             "#46039f"
            ],
            [
             0.2222222222222222,
             "#7201a8"
            ],
            [
             0.3333333333333333,
             "#9c179e"
            ],
            [
             0.4444444444444444,
             "#bd3786"
            ],
            [
             0.5555555555555556,
             "#d8576b"
            ],
            [
             0.6666666666666666,
             "#ed7953"
            ],
            [
             0.7777777777777778,
             "#fb9f3a"
            ],
            [
             0.8888888888888888,
             "#fdca26"
            ],
            [
             1,
             "#f0f921"
            ]
           ]
          },
          "colorway": [
           "#636efa",
           "#EF553B",
           "#00cc96",
           "#ab63fa",
           "#FFA15A",
           "#19d3f3",
           "#FF6692",
           "#B6E880",
           "#FF97FF",
           "#FECB52"
          ],
          "font": {
           "color": "#2a3f5f"
          },
          "geo": {
           "bgcolor": "white",
           "lakecolor": "white",
           "landcolor": "#E5ECF6",
           "showlakes": true,
           "showland": true,
           "subunitcolor": "white"
          },
          "hoverlabel": {
           "align": "left"
          },
          "hovermode": "closest",
          "mapbox": {
           "style": "light"
          },
          "paper_bgcolor": "white",
          "plot_bgcolor": "#E5ECF6",
          "polar": {
           "angularaxis": {
            "gridcolor": "white",
            "linecolor": "white",
            "ticks": ""
           },
           "bgcolor": "#E5ECF6",
           "radialaxis": {
            "gridcolor": "white",
            "linecolor": "white",
            "ticks": ""
           }
          },
          "scene": {
           "xaxis": {
            "backgroundcolor": "#E5ECF6",
            "gridcolor": "white",
            "gridwidth": 2,
            "linecolor": "white",
            "showbackground": true,
            "ticks": "",
            "zerolinecolor": "white"
           },
           "yaxis": {
            "backgroundcolor": "#E5ECF6",
            "gridcolor": "white",
            "gridwidth": 2,
            "linecolor": "white",
            "showbackground": true,
            "ticks": "",
            "zerolinecolor": "white"
           },
           "zaxis": {
            "backgroundcolor": "#E5ECF6",
            "gridcolor": "white",
            "gridwidth": 2,
            "linecolor": "white",
            "showbackground": true,
            "ticks": "",
            "zerolinecolor": "white"
           }
          },
          "shapedefaults": {
           "line": {
            "color": "#2a3f5f"
           }
          },
          "ternary": {
           "aaxis": {
            "gridcolor": "white",
            "linecolor": "white",
            "ticks": ""
           },
           "baxis": {
            "gridcolor": "white",
            "linecolor": "white",
            "ticks": ""
           },
           "bgcolor": "#E5ECF6",
           "caxis": {
            "gridcolor": "white",
            "linecolor": "white",
            "ticks": ""
           }
          },
          "title": {
           "x": 0.05
          },
          "xaxis": {
           "automargin": true,
           "gridcolor": "white",
           "linecolor": "white",
           "ticks": "",
           "title": {
            "standoff": 15
           },
           "zerolinecolor": "white",
           "zerolinewidth": 2
          },
          "yaxis": {
           "automargin": true,
           "gridcolor": "white",
           "linecolor": "white",
           "ticks": "",
           "title": {
            "standoff": 15
           },
           "zerolinecolor": "white",
           "zerolinewidth": 2
          }
         }
        },
        "xaxis": {
         "anchor": "y",
         "domain": [
          0,
          1
         ],
         "title": {
          "text": "Principal Component"
         }
        },
        "yaxis": {
         "anchor": "x",
         "domain": [
          0,
          1
         ],
         "title": {
          "text": "Explained Variance Ratio"
         }
        }
       }
      },
      "text/html": [
       "<div>                            <div id=\"ff9dddc3-779a-4163-8957-bbb909a5d98f\" class=\"plotly-graph-div\" style=\"height:525px; width:100%;\"></div>            <script type=\"text/javascript\">                require([\"plotly\"], function(Plotly) {                    window.PLOTLYENV=window.PLOTLYENV || {};                                    if (document.getElementById(\"ff9dddc3-779a-4163-8957-bbb909a5d98f\")) {                    Plotly.newPlot(                        \"ff9dddc3-779a-4163-8957-bbb909a5d98f\",                        [{\"hovertemplate\":\"variable=0<br>Principal Component=%{x}<br>Explained Variance Ratio=%{y}<extra></extra>\",\"legendgroup\":\"0\",\"line\":{\"color\":\"#636efa\",\"dash\":\"solid\"},\"marker\":{\"symbol\":\"circle\"},\"mode\":\"lines\",\"name\":\"0\",\"orientation\":\"v\",\"showlegend\":true,\"type\":\"scatter\",\"x\":[0,1,2,3,4,5,6,7,8,9,10,11,12,13,14,15,16,17,18,19,20,21],\"xaxis\":\"x\",\"y\":[0.2528553740514949,0.17995082602962859,0.12829336183950893,0.09928449310629159,0.07328795086906735,0.060391144028771764,0.045197945493851865,0.035845658514574844,0.029518683415172886,0.022035619640536307,0.017319225643670885,0.012855508656840856,0.012694956048324386,0.010447723482608898,0.0077000995255530605,0.004727152639644178,0.003099982054978071,0.002727143614352337,0.0011240515221040699,0.0004233679296036876,0.00021973189341702775,3.83172643352396e-15],\"yaxis\":\"y\"}],                        {\"legend\":{\"title\":{\"text\":\"variable\"},\"tracegroupgap\":0},\"margin\":{\"t\":60},\"template\":{\"data\":{\"bar\":[{\"error_x\":{\"color\":\"#2a3f5f\"},\"error_y\":{\"color\":\"#2a3f5f\"},\"marker\":{\"line\":{\"color\":\"#E5ECF6\",\"width\":0.5},\"pattern\":{\"fillmode\":\"overlay\",\"size\":10,\"solidity\":0.2}},\"type\":\"bar\"}],\"barpolar\":[{\"marker\":{\"line\":{\"color\":\"#E5ECF6\",\"width\":0.5},\"pattern\":{\"fillmode\":\"overlay\",\"size\":10,\"solidity\":0.2}},\"type\":\"barpolar\"}],\"carpet\":[{\"aaxis\":{\"endlinecolor\":\"#2a3f5f\",\"gridcolor\":\"white\",\"linecolor\":\"white\",\"minorgridcolor\":\"white\",\"startlinecolor\":\"#2a3f5f\"},\"baxis\":{\"endlinecolor\":\"#2a3f5f\",\"gridcolor\":\"white\",\"linecolor\":\"white\",\"minorgridcolor\":\"white\",\"startlinecolor\":\"#2a3f5f\"},\"type\":\"carpet\"}],\"choropleth\":[{\"colorbar\":{\"outlinewidth\":0,\"ticks\":\"\"},\"type\":\"choropleth\"}],\"contour\":[{\"colorbar\":{\"outlinewidth\":0,\"ticks\":\"\"},\"colorscale\":[[0.0,\"#0d0887\"],[0.1111111111111111,\"#46039f\"],[0.2222222222222222,\"#7201a8\"],[0.3333333333333333,\"#9c179e\"],[0.4444444444444444,\"#bd3786\"],[0.5555555555555556,\"#d8576b\"],[0.6666666666666666,\"#ed7953\"],[0.7777777777777778,\"#fb9f3a\"],[0.8888888888888888,\"#fdca26\"],[1.0,\"#f0f921\"]],\"type\":\"contour\"}],\"contourcarpet\":[{\"colorbar\":{\"outlinewidth\":0,\"ticks\":\"\"},\"type\":\"contourcarpet\"}],\"heatmap\":[{\"colorbar\":{\"outlinewidth\":0,\"ticks\":\"\"},\"colorscale\":[[0.0,\"#0d0887\"],[0.1111111111111111,\"#46039f\"],[0.2222222222222222,\"#7201a8\"],[0.3333333333333333,\"#9c179e\"],[0.4444444444444444,\"#bd3786\"],[0.5555555555555556,\"#d8576b\"],[0.6666666666666666,\"#ed7953\"],[0.7777777777777778,\"#fb9f3a\"],[0.8888888888888888,\"#fdca26\"],[1.0,\"#f0f921\"]],\"type\":\"heatmap\"}],\"heatmapgl\":[{\"colorbar\":{\"outlinewidth\":0,\"ticks\":\"\"},\"colorscale\":[[0.0,\"#0d0887\"],[0.1111111111111111,\"#46039f\"],[0.2222222222222222,\"#7201a8\"],[0.3333333333333333,\"#9c179e\"],[0.4444444444444444,\"#bd3786\"],[0.5555555555555556,\"#d8576b\"],[0.6666666666666666,\"#ed7953\"],[0.7777777777777778,\"#fb9f3a\"],[0.8888888888888888,\"#fdca26\"],[1.0,\"#f0f921\"]],\"type\":\"heatmapgl\"}],\"histogram\":[{\"marker\":{\"pattern\":{\"fillmode\":\"overlay\",\"size\":10,\"solidity\":0.2}},\"type\":\"histogram\"}],\"histogram2d\":[{\"colorbar\":{\"outlinewidth\":0,\"ticks\":\"\"},\"colorscale\":[[0.0,\"#0d0887\"],[0.1111111111111111,\"#46039f\"],[0.2222222222222222,\"#7201a8\"],[0.3333333333333333,\"#9c179e\"],[0.4444444444444444,\"#bd3786\"],[0.5555555555555556,\"#d8576b\"],[0.6666666666666666,\"#ed7953\"],[0.7777777777777778,\"#fb9f3a\"],[0.8888888888888888,\"#fdca26\"],[1.0,\"#f0f921\"]],\"type\":\"histogram2d\"}],\"histogram2dcontour\":[{\"colorbar\":{\"outlinewidth\":0,\"ticks\":\"\"},\"colorscale\":[[0.0,\"#0d0887\"],[0.1111111111111111,\"#46039f\"],[0.2222222222222222,\"#7201a8\"],[0.3333333333333333,\"#9c179e\"],[0.4444444444444444,\"#bd3786\"],[0.5555555555555556,\"#d8576b\"],[0.6666666666666666,\"#ed7953\"],[0.7777777777777778,\"#fb9f3a\"],[0.8888888888888888,\"#fdca26\"],[1.0,\"#f0f921\"]],\"type\":\"histogram2dcontour\"}],\"mesh3d\":[{\"colorbar\":{\"outlinewidth\":0,\"ticks\":\"\"},\"type\":\"mesh3d\"}],\"parcoords\":[{\"line\":{\"colorbar\":{\"outlinewidth\":0,\"ticks\":\"\"}},\"type\":\"parcoords\"}],\"pie\":[{\"automargin\":true,\"type\":\"pie\"}],\"scatter\":[{\"marker\":{\"colorbar\":{\"outlinewidth\":0,\"ticks\":\"\"}},\"type\":\"scatter\"}],\"scatter3d\":[{\"line\":{\"colorbar\":{\"outlinewidth\":0,\"ticks\":\"\"}},\"marker\":{\"colorbar\":{\"outlinewidth\":0,\"ticks\":\"\"}},\"type\":\"scatter3d\"}],\"scattercarpet\":[{\"marker\":{\"colorbar\":{\"outlinewidth\":0,\"ticks\":\"\"}},\"type\":\"scattercarpet\"}],\"scattergeo\":[{\"marker\":{\"colorbar\":{\"outlinewidth\":0,\"ticks\":\"\"}},\"type\":\"scattergeo\"}],\"scattergl\":[{\"marker\":{\"colorbar\":{\"outlinewidth\":0,\"ticks\":\"\"}},\"type\":\"scattergl\"}],\"scattermapbox\":[{\"marker\":{\"colorbar\":{\"outlinewidth\":0,\"ticks\":\"\"}},\"type\":\"scattermapbox\"}],\"scatterpolar\":[{\"marker\":{\"colorbar\":{\"outlinewidth\":0,\"ticks\":\"\"}},\"type\":\"scatterpolar\"}],\"scatterpolargl\":[{\"marker\":{\"colorbar\":{\"outlinewidth\":0,\"ticks\":\"\"}},\"type\":\"scatterpolargl\"}],\"scatterternary\":[{\"marker\":{\"colorbar\":{\"outlinewidth\":0,\"ticks\":\"\"}},\"type\":\"scatterternary\"}],\"surface\":[{\"colorbar\":{\"outlinewidth\":0,\"ticks\":\"\"},\"colorscale\":[[0.0,\"#0d0887\"],[0.1111111111111111,\"#46039f\"],[0.2222222222222222,\"#7201a8\"],[0.3333333333333333,\"#9c179e\"],[0.4444444444444444,\"#bd3786\"],[0.5555555555555556,\"#d8576b\"],[0.6666666666666666,\"#ed7953\"],[0.7777777777777778,\"#fb9f3a\"],[0.8888888888888888,\"#fdca26\"],[1.0,\"#f0f921\"]],\"type\":\"surface\"}],\"table\":[{\"cells\":{\"fill\":{\"color\":\"#EBF0F8\"},\"line\":{\"color\":\"white\"}},\"header\":{\"fill\":{\"color\":\"#C8D4E3\"},\"line\":{\"color\":\"white\"}},\"type\":\"table\"}]},\"layout\":{\"annotationdefaults\":{\"arrowcolor\":\"#2a3f5f\",\"arrowhead\":0,\"arrowwidth\":1},\"autotypenumbers\":\"strict\",\"coloraxis\":{\"colorbar\":{\"outlinewidth\":0,\"ticks\":\"\"}},\"colorscale\":{\"diverging\":[[0,\"#8e0152\"],[0.1,\"#c51b7d\"],[0.2,\"#de77ae\"],[0.3,\"#f1b6da\"],[0.4,\"#fde0ef\"],[0.5,\"#f7f7f7\"],[0.6,\"#e6f5d0\"],[0.7,\"#b8e186\"],[0.8,\"#7fbc41\"],[0.9,\"#4d9221\"],[1,\"#276419\"]],\"sequential\":[[0.0,\"#0d0887\"],[0.1111111111111111,\"#46039f\"],[0.2222222222222222,\"#7201a8\"],[0.3333333333333333,\"#9c179e\"],[0.4444444444444444,\"#bd3786\"],[0.5555555555555556,\"#d8576b\"],[0.6666666666666666,\"#ed7953\"],[0.7777777777777778,\"#fb9f3a\"],[0.8888888888888888,\"#fdca26\"],[1.0,\"#f0f921\"]],\"sequentialminus\":[[0.0,\"#0d0887\"],[0.1111111111111111,\"#46039f\"],[0.2222222222222222,\"#7201a8\"],[0.3333333333333333,\"#9c179e\"],[0.4444444444444444,\"#bd3786\"],[0.5555555555555556,\"#d8576b\"],[0.6666666666666666,\"#ed7953\"],[0.7777777777777778,\"#fb9f3a\"],[0.8888888888888888,\"#fdca26\"],[1.0,\"#f0f921\"]]},\"colorway\":[\"#636efa\",\"#EF553B\",\"#00cc96\",\"#ab63fa\",\"#FFA15A\",\"#19d3f3\",\"#FF6692\",\"#B6E880\",\"#FF97FF\",\"#FECB52\"],\"font\":{\"color\":\"#2a3f5f\"},\"geo\":{\"bgcolor\":\"white\",\"lakecolor\":\"white\",\"landcolor\":\"#E5ECF6\",\"showlakes\":true,\"showland\":true,\"subunitcolor\":\"white\"},\"hoverlabel\":{\"align\":\"left\"},\"hovermode\":\"closest\",\"mapbox\":{\"style\":\"light\"},\"paper_bgcolor\":\"white\",\"plot_bgcolor\":\"#E5ECF6\",\"polar\":{\"angularaxis\":{\"gridcolor\":\"white\",\"linecolor\":\"white\",\"ticks\":\"\"},\"bgcolor\":\"#E5ECF6\",\"radialaxis\":{\"gridcolor\":\"white\",\"linecolor\":\"white\",\"ticks\":\"\"}},\"scene\":{\"xaxis\":{\"backgroundcolor\":\"#E5ECF6\",\"gridcolor\":\"white\",\"gridwidth\":2,\"linecolor\":\"white\",\"showbackground\":true,\"ticks\":\"\",\"zerolinecolor\":\"white\"},\"yaxis\":{\"backgroundcolor\":\"#E5ECF6\",\"gridcolor\":\"white\",\"gridwidth\":2,\"linecolor\":\"white\",\"showbackground\":true,\"ticks\":\"\",\"zerolinecolor\":\"white\"},\"zaxis\":{\"backgroundcolor\":\"#E5ECF6\",\"gridcolor\":\"white\",\"gridwidth\":2,\"linecolor\":\"white\",\"showbackground\":true,\"ticks\":\"\",\"zerolinecolor\":\"white\"}},\"shapedefaults\":{\"line\":{\"color\":\"#2a3f5f\"}},\"ternary\":{\"aaxis\":{\"gridcolor\":\"white\",\"linecolor\":\"white\",\"ticks\":\"\"},\"baxis\":{\"gridcolor\":\"white\",\"linecolor\":\"white\",\"ticks\":\"\"},\"bgcolor\":\"#E5ECF6\",\"caxis\":{\"gridcolor\":\"white\",\"linecolor\":\"white\",\"ticks\":\"\"}},\"title\":{\"x\":0.05},\"xaxis\":{\"automargin\":true,\"gridcolor\":\"white\",\"linecolor\":\"white\",\"ticks\":\"\",\"title\":{\"standoff\":15},\"zerolinecolor\":\"white\",\"zerolinewidth\":2},\"yaxis\":{\"automargin\":true,\"gridcolor\":\"white\",\"linecolor\":\"white\",\"ticks\":\"\",\"title\":{\"standoff\":15},\"zerolinecolor\":\"white\",\"zerolinewidth\":2}}},\"xaxis\":{\"anchor\":\"y\",\"domain\":[0.0,1.0],\"title\":{\"text\":\"Principal Component\"}},\"yaxis\":{\"anchor\":\"x\",\"domain\":[0.0,1.0],\"title\":{\"text\":\"Explained Variance Ratio\"}}},                        {\"responsive\": true}                    ).then(function(){\n",
       "                            \n",
       "var gd = document.getElementById('ff9dddc3-779a-4163-8957-bbb909a5d98f');\n",
       "var x = new MutationObserver(function (mutations, observer) {{\n",
       "        var display = window.getComputedStyle(gd).display;\n",
       "        if (!display || display === 'none') {{\n",
       "            console.log([gd, 'removed!']);\n",
       "            Plotly.purge(gd);\n",
       "            observer.disconnect();\n",
       "        }}\n",
       "}});\n",
       "\n",
       "// Listen for the removal of the full notebook cells\n",
       "var notebookContainer = gd.closest('#notebook-container');\n",
       "if (notebookContainer) {{\n",
       "    x.observe(notebookContainer, {childList: true});\n",
       "}}\n",
       "\n",
       "// Listen for the clearing of the current output cell\n",
       "var outputEl = gd.closest('.output');\n",
       "if (outputEl) {{\n",
       "    x.observe(outputEl, {childList: true});\n",
       "}}\n",
       "\n",
       "                        })                };                });            </script>        </div>"
      ]
     },
     "metadata": {},
     "output_type": "display_data"
    }
   ],
   "source": [
    "px.line(pca.explained_variance_ratio_, labels={'index':'Principal Component','value':'Explained Variance Ratio'})"
   ]
  },
  {
   "cell_type": "code",
   "execution_count": 222,
   "id": "bbfd1086",
   "metadata": {},
   "outputs": [],
   "source": [
    "comp = pca.components_[[0,1],:]"
   ]
  },
  {
   "cell_type": "code",
   "execution_count": 223,
   "id": "02d534a2",
   "metadata": {},
   "outputs": [
    {
     "data": {
      "application/vnd.plotly.v1+json": {
       "config": {
        "plotlyServerURL": "https://plot.ly"
       },
       "data": [],
       "layout": {
        "annotations": [
         {
          "arrowcolor": "red",
          "arrowhead": 2,
          "arrowsize": 1,
          "arrowwidth": 2,
          "ax": 0,
          "axref": "x",
          "ay": 0,
          "ayref": "y",
          "showarrow": true,
          "text": "",
          "x": -0.25942034110803036,
          "xref": "x",
          "y": 0.9657645088837099,
          "yref": "y"
         },
         {
          "font": {
           "color": "red",
           "size": 10
          },
          "showarrow": false,
          "text": "éducation",
          "x": -0.3242754263850379,
          "y": 1.2072056361046375
         },
         {
          "arrowcolor": "red",
          "arrowhead": 2,
          "arrowsize": 1,
          "arrowwidth": 2,
          "ax": 0,
          "axref": "x",
          "ay": 0,
          "ayref": "y",
          "showarrow": true,
          "text": "",
          "x": 0.30233640367913556,
          "xref": "x",
          "y": -0.9532012898702807,
          "yref": "y"
         },
         {
          "font": {
           "color": "red",
           "size": 10
          },
          "showarrow": false,
          "text": "famille",
          "x": 0.37792050459891946,
          "y": -1.191501612337851
         },
         {
          "arrowcolor": "red",
          "arrowhead": 2,
          "arrowsize": 1,
          "arrowwidth": 2,
          "ax": 0,
          "axref": "x",
          "ay": 0,
          "ayref": "y",
          "showarrow": true,
          "text": "",
          "x": -0.8885858335071227,
          "xref": "x",
          "y": -0.45871038411011805,
          "yref": "y"
         },
         {
          "font": {
           "color": "red",
           "size": 10
          },
          "showarrow": false,
          "text": "international/europe",
          "x": -1.1107322918839033,
          "y": -0.5733879801376476
         },
         {
          "arrowcolor": "red",
          "arrowhead": 2,
          "arrowsize": 1,
          "arrowwidth": 2,
          "ax": 0,
          "axref": "x",
          "ay": 0,
          "ayref": "y",
          "showarrow": true,
          "text": "",
          "x": 0.13470282961644217,
          "xref": "x",
          "y": 0.9908860417289788,
          "yref": "y"
         },
         {
          "font": {
           "color": "red",
           "size": 10
          },
          "showarrow": false,
          "text": "emploie/salaire",
          "x": 0.16837853702055272,
          "y": 1.2386075521612234
         },
         {
          "arrowcolor": "red",
          "arrowhead": 2,
          "arrowsize": 1,
          "arrowwidth": 2,
          "ax": 0,
          "axref": "x",
          "ay": 0,
          "ayref": "y",
          "showarrow": true,
          "text": "",
          "x": -0.9999891022130123,
          "xref": "x",
          "y": -0.004668560293472722,
          "yref": "y"
         },
         {
          "font": {
           "color": "red",
           "size": 10
          },
          "showarrow": false,
          "text": "santé",
          "x": -1.2499863777662654,
          "y": -0.005835700366840902
         },
         {
          "arrowcolor": "red",
          "arrowhead": 2,
          "arrowsize": 1,
          "arrowwidth": 2,
          "ax": 0,
          "axref": "x",
          "ay": 0,
          "ayref": "y",
          "showarrow": true,
          "text": "",
          "x": -0.9822975120685828,
          "xref": "x",
          "y": 0.18732751475389914,
          "yref": "y"
         },
         {
          "font": {
           "color": "red",
           "size": 10
          },
          "showarrow": false,
          "text": "cotisation",
          "x": -1.2278718900857286,
          "y": 0.2341593934423739
         },
         {
          "arrowcolor": "red",
          "arrowhead": 2,
          "arrowsize": 1,
          "arrowwidth": 2,
          "ax": 0,
          "axref": "x",
          "ay": 0,
          "ayref": "y",
          "showarrow": true,
          "text": "",
          "x": -0.7829885047816303,
          "xref": "x",
          "y": -0.6220361736907483,
          "yref": "y"
         },
         {
          "font": {
           "color": "red",
           "size": 10
          },
          "showarrow": false,
          "text": "frontière/indentité",
          "x": -0.9787356309770379,
          "y": -0.7775452171134354
         },
         {
          "arrowcolor": "red",
          "arrowhead": 2,
          "arrowsize": 1,
          "arrowwidth": 2,
          "ax": 0,
          "axref": "x",
          "ay": 0,
          "ayref": "y",
          "showarrow": true,
          "text": "",
          "x": 0.552766244862001,
          "xref": "x",
          "y": -0.8333363537858901,
          "yref": "y"
         },
         {
          "font": {
           "color": "red",
           "size": 10
          },
          "showarrow": false,
          "text": "protection sociale/médecine",
          "x": 0.6909578060775012,
          "y": -1.0416704422323626
         },
         {
          "arrowcolor": "red",
          "arrowhead": 2,
          "arrowsize": 1,
          "arrowwidth": 2,
          "ax": 0,
          "axref": "x",
          "ay": 0,
          "ayref": "y",
          "showarrow": true,
          "text": "",
          "x": -0.43970049076458506,
          "xref": "x",
          "y": -0.8981444641155357,
          "yref": "y"
         },
         {
          "font": {
           "color": "red",
           "size": 10
          },
          "showarrow": false,
          "text": "retraite",
          "x": -0.5496256134557314,
          "y": -1.1226805801444197
         },
         {
          "arrowcolor": "red",
          "arrowhead": 2,
          "arrowsize": 1,
          "arrowwidth": 2,
          "ax": 0,
          "axref": "x",
          "ay": 0,
          "ayref": "y",
          "showarrow": true,
          "text": "",
          "x": -0.9812997683923226,
          "xref": "x",
          "y": -0.19248575155884626,
          "yref": "y"
         },
         {
          "font": {
           "color": "red",
           "size": 10
          },
          "showarrow": false,
          "text": "plan",
          "x": -1.2266247104904031,
          "y": -0.24060718944855783
         },
         {
          "arrowcolor": "red",
          "arrowhead": 2,
          "arrowsize": 1,
          "arrowwidth": 2,
          "ax": 0,
          "axref": "x",
          "ay": 0,
          "ayref": "y",
          "showarrow": true,
          "text": "",
          "x": 0.7897687169837938,
          "xref": "x",
          "y": -0.6134047388745641,
          "yref": "y"
         },
         {
          "font": {
           "color": "red",
           "size": 10
          },
          "showarrow": false,
          "text": "énergie",
          "x": 0.9872108962297422,
          "y": -0.7667559235932052
         },
         {
          "arrowcolor": "red",
          "arrowhead": 2,
          "arrowsize": 1,
          "arrowwidth": 2,
          "ax": 0,
          "axref": "x",
          "ay": 0,
          "ayref": "y",
          "showarrow": true,
          "text": "",
          "x": 0.12278382108753906,
          "xref": "x",
          "y": -0.9924334402261661,
          "yref": "y"
         },
         {
          "font": {
           "color": "red",
           "size": 10
          },
          "showarrow": false,
          "text": "écologie/agriculture",
          "x": 0.15347977635942384,
          "y": -1.2405418002827076
         },
         {
          "arrowcolor": "red",
          "arrowhead": 2,
          "arrowsize": 1,
          "arrowwidth": 2,
          "ax": 0,
          "axref": "x",
          "ay": 0,
          "ayref": "y",
          "showarrow": true,
          "text": "",
          "x": 0.9998887665072754,
          "xref": "x",
          "y": 0.014914912422114382,
          "yref": "y"
         },
         {
          "font": {
           "color": "red",
           "size": 10
          },
          "showarrow": false,
          "text": "service public",
          "x": 1.2498609581340943,
          "y": 0.018643640527642977
         },
         {
          "arrowcolor": "red",
          "arrowhead": 2,
          "arrowsize": 1,
          "arrowwidth": 2,
          "ax": 0,
          "axref": "x",
          "ay": 0,
          "ayref": "y",
          "showarrow": true,
          "text": "",
          "x": -0.11402710005514459,
          "xref": "x",
          "y": 0.9934776396341358,
          "yref": "y"
         },
         {
          "font": {
           "color": "red",
           "size": 10
          },
          "showarrow": false,
          "text": "loi/justice",
          "x": -0.14253387506893073,
          "y": 1.24184704954267
         },
         {
          "arrowcolor": "red",
          "arrowhead": 2,
          "arrowsize": 1,
          "arrowwidth": 2,
          "ax": 0,
          "axref": "x",
          "ay": 0,
          "ayref": "y",
          "showarrow": true,
          "text": "",
          "x": -0.7386906181689917,
          "xref": "x",
          "y": -0.6740446354872301,
          "yref": "y"
         },
         {
          "font": {
           "color": "red",
           "size": 10
          },
          "showarrow": false,
          "text": "immigration",
          "x": -0.9233632727112396,
          "y": -0.8425557943590377
         },
         {
          "arrowcolor": "red",
          "arrowhead": 2,
          "arrowsize": 1,
          "arrowwidth": 2,
          "ax": 0,
          "axref": "x",
          "ay": 0,
          "ayref": "y",
          "showarrow": true,
          "text": "",
          "x": 0.2162165272097109,
          "xref": "x",
          "y": 0.9763454375175686,
          "yref": "y"
         },
         {
          "font": {
           "color": "red",
           "size": 10
          },
          "showarrow": false,
          "text": "enseignement supérieur",
          "x": 0.27027065901213865,
          "y": 1.220431796896961
         },
         {
          "arrowcolor": "red",
          "arrowhead": 2,
          "arrowsize": 1,
          "arrowwidth": 2,
          "ax": 0,
          "axref": "x",
          "ay": 0,
          "ayref": "y",
          "showarrow": true,
          "text": "",
          "x": -0.9948268618490974,
          "xref": "x",
          "y": 0.10158501338030479,
          "yref": "y"
         },
         {
          "font": {
           "color": "red",
           "size": 10
          },
          "showarrow": false,
          "text": "administration",
          "x": -1.2435335773113718,
          "y": 0.126981266725381
         },
         {
          "arrowcolor": "red",
          "arrowhead": 2,
          "arrowsize": 1,
          "arrowwidth": 2,
          "ax": 0,
          "axref": "x",
          "ay": 0,
          "ayref": "y",
          "showarrow": true,
          "text": "",
          "x": 0.9011485768425855,
          "xref": "x",
          "y": -0.4335103717958574,
          "yref": "y"
         },
         {
          "font": {
           "color": "red",
           "size": 10
          },
          "showarrow": false,
          "text": "institutions",
          "x": 1.1264357210532319,
          "y": -0.5418879647448217
         },
         {
          "arrowcolor": "red",
          "arrowhead": 2,
          "arrowsize": 1,
          "arrowwidth": 2,
          "ax": 0,
          "axref": "x",
          "ay": 0,
          "ayref": "y",
          "showarrow": true,
          "text": "",
          "x": 0.8259024861459475,
          "xref": "x",
          "y": -0.5638129861735567,
          "yref": "y"
         },
         {
          "font": {
           "color": "red",
           "size": 10
          },
          "showarrow": false,
          "text": "régions/territoire",
          "x": 1.0323781076824343,
          "y": -0.7047662327169458
         },
         {
          "arrowcolor": "red",
          "arrowhead": 2,
          "arrowsize": 1,
          "arrowwidth": 2,
          "ax": 0,
          "axref": "x",
          "ay": 0,
          "ayref": "y",
          "showarrow": true,
          "text": "",
          "x": -0.9986138308735328,
          "xref": "x",
          "y": 0.052634748865051546,
          "yref": "y"
         },
         {
          "font": {
           "color": "red",
           "size": 10
          },
          "showarrow": false,
          "text": "valeurs conservatrices",
          "x": -1.248267288591916,
          "y": 0.06579343608131444
         },
         {
          "arrowcolor": "red",
          "arrowhead": 2,
          "arrowsize": 1,
          "arrowwidth": 2,
          "ax": 0,
          "axref": "x",
          "ay": 0,
          "ayref": "y",
          "showarrow": true,
          "text": "",
          "x": -0.9917371915100346,
          "xref": "x",
          "y": -0.12828617608997836,
          "yref": "y"
         },
         {
          "font": {
           "color": "red",
           "size": 10
          },
          "showarrow": false,
          "text": "infrastructure",
          "x": -1.2396714893875433,
          "y": -0.16035772011247296
         },
         {
          "arrowcolor": "red",
          "arrowhead": 2,
          "arrowsize": 1,
          "arrowwidth": 2,
          "ax": 0,
          "axref": "x",
          "ay": 0,
          "ayref": "y",
          "showarrow": true,
          "text": "",
          "x": 0.9278028294849764,
          "xref": "x",
          "y": -0.37307091765463535,
          "yref": "y"
         },
         {
          "font": {
           "color": "red",
           "size": 10
          },
          "showarrow": false,
          "text": "environnement/pollution",
          "x": 1.1597535368562204,
          "y": -0.4663386470682942
         }
        ],
        "height": 600,
        "shapes": [
         {
          "line": {
           "color": "blue"
          },
          "type": "circle",
          "x0": -1,
          "x1": 1,
          "xref": "x",
          "y0": -1,
          "y1": 1,
          "yref": "y"
         }
        ],
        "template": {
         "data": {
          "bar": [
           {
            "error_x": {
             "color": "#2a3f5f"
            },
            "error_y": {
             "color": "#2a3f5f"
            },
            "marker": {
             "line": {
              "color": "#E5ECF6",
              "width": 0.5
             },
             "pattern": {
              "fillmode": "overlay",
              "size": 10,
              "solidity": 0.2
             }
            },
            "type": "bar"
           }
          ],
          "barpolar": [
           {
            "marker": {
             "line": {
              "color": "#E5ECF6",
              "width": 0.5
             },
             "pattern": {
              "fillmode": "overlay",
              "size": 10,
              "solidity": 0.2
             }
            },
            "type": "barpolar"
           }
          ],
          "carpet": [
           {
            "aaxis": {
             "endlinecolor": "#2a3f5f",
             "gridcolor": "white",
             "linecolor": "white",
             "minorgridcolor": "white",
             "startlinecolor": "#2a3f5f"
            },
            "baxis": {
             "endlinecolor": "#2a3f5f",
             "gridcolor": "white",
             "linecolor": "white",
             "minorgridcolor": "white",
             "startlinecolor": "#2a3f5f"
            },
            "type": "carpet"
           }
          ],
          "choropleth": [
           {
            "colorbar": {
             "outlinewidth": 0,
             "ticks": ""
            },
            "type": "choropleth"
           }
          ],
          "contour": [
           {
            "colorbar": {
             "outlinewidth": 0,
             "ticks": ""
            },
            "colorscale": [
             [
              0,
              "#0d0887"
             ],
             [
              0.1111111111111111,
              "#46039f"
             ],
             [
              0.2222222222222222,
              "#7201a8"
             ],
             [
              0.3333333333333333,
              "#9c179e"
             ],
             [
              0.4444444444444444,
              "#bd3786"
             ],
             [
              0.5555555555555556,
              "#d8576b"
             ],
             [
              0.6666666666666666,
              "#ed7953"
             ],
             [
              0.7777777777777778,
              "#fb9f3a"
             ],
             [
              0.8888888888888888,
              "#fdca26"
             ],
             [
              1,
              "#f0f921"
             ]
            ],
            "type": "contour"
           }
          ],
          "contourcarpet": [
           {
            "colorbar": {
             "outlinewidth": 0,
             "ticks": ""
            },
            "type": "contourcarpet"
           }
          ],
          "heatmap": [
           {
            "colorbar": {
             "outlinewidth": 0,
             "ticks": ""
            },
            "colorscale": [
             [
              0,
              "#0d0887"
             ],
             [
              0.1111111111111111,
              "#46039f"
             ],
             [
              0.2222222222222222,
              "#7201a8"
             ],
             [
              0.3333333333333333,
              "#9c179e"
             ],
             [
              0.4444444444444444,
              "#bd3786"
             ],
             [
              0.5555555555555556,
              "#d8576b"
             ],
             [
              0.6666666666666666,
              "#ed7953"
             ],
             [
              0.7777777777777778,
              "#fb9f3a"
             ],
             [
              0.8888888888888888,
              "#fdca26"
             ],
             [
              1,
              "#f0f921"
             ]
            ],
            "type": "heatmap"
           }
          ],
          "heatmapgl": [
           {
            "colorbar": {
             "outlinewidth": 0,
             "ticks": ""
            },
            "colorscale": [
             [
              0,
              "#0d0887"
             ],
             [
              0.1111111111111111,
              "#46039f"
             ],
             [
              0.2222222222222222,
              "#7201a8"
             ],
             [
              0.3333333333333333,
              "#9c179e"
             ],
             [
              0.4444444444444444,
              "#bd3786"
             ],
             [
              0.5555555555555556,
              "#d8576b"
             ],
             [
              0.6666666666666666,
              "#ed7953"
             ],
             [
              0.7777777777777778,
              "#fb9f3a"
             ],
             [
              0.8888888888888888,
              "#fdca26"
             ],
             [
              1,
              "#f0f921"
             ]
            ],
            "type": "heatmapgl"
           }
          ],
          "histogram": [
           {
            "marker": {
             "pattern": {
              "fillmode": "overlay",
              "size": 10,
              "solidity": 0.2
             }
            },
            "type": "histogram"
           }
          ],
          "histogram2d": [
           {
            "colorbar": {
             "outlinewidth": 0,
             "ticks": ""
            },
            "colorscale": [
             [
              0,
              "#0d0887"
             ],
             [
              0.1111111111111111,
              "#46039f"
             ],
             [
              0.2222222222222222,
              "#7201a8"
             ],
             [
              0.3333333333333333,
              "#9c179e"
             ],
             [
              0.4444444444444444,
              "#bd3786"
             ],
             [
              0.5555555555555556,
              "#d8576b"
             ],
             [
              0.6666666666666666,
              "#ed7953"
             ],
             [
              0.7777777777777778,
              "#fb9f3a"
             ],
             [
              0.8888888888888888,
              "#fdca26"
             ],
             [
              1,
              "#f0f921"
             ]
            ],
            "type": "histogram2d"
           }
          ],
          "histogram2dcontour": [
           {
            "colorbar": {
             "outlinewidth": 0,
             "ticks": ""
            },
            "colorscale": [
             [
              0,
              "#0d0887"
             ],
             [
              0.1111111111111111,
              "#46039f"
             ],
             [
              0.2222222222222222,
              "#7201a8"
             ],
             [
              0.3333333333333333,
              "#9c179e"
             ],
             [
              0.4444444444444444,
              "#bd3786"
             ],
             [
              0.5555555555555556,
              "#d8576b"
             ],
             [
              0.6666666666666666,
              "#ed7953"
             ],
             [
              0.7777777777777778,
              "#fb9f3a"
             ],
             [
              0.8888888888888888,
              "#fdca26"
             ],
             [
              1,
              "#f0f921"
             ]
            ],
            "type": "histogram2dcontour"
           }
          ],
          "mesh3d": [
           {
            "colorbar": {
             "outlinewidth": 0,
             "ticks": ""
            },
            "type": "mesh3d"
           }
          ],
          "parcoords": [
           {
            "line": {
             "colorbar": {
              "outlinewidth": 0,
              "ticks": ""
             }
            },
            "type": "parcoords"
           }
          ],
          "pie": [
           {
            "automargin": true,
            "type": "pie"
           }
          ],
          "scatter": [
           {
            "marker": {
             "colorbar": {
              "outlinewidth": 0,
              "ticks": ""
             }
            },
            "type": "scatter"
           }
          ],
          "scatter3d": [
           {
            "line": {
             "colorbar": {
              "outlinewidth": 0,
              "ticks": ""
             }
            },
            "marker": {
             "colorbar": {
              "outlinewidth": 0,
              "ticks": ""
             }
            },
            "type": "scatter3d"
           }
          ],
          "scattercarpet": [
           {
            "marker": {
             "colorbar": {
              "outlinewidth": 0,
              "ticks": ""
             }
            },
            "type": "scattercarpet"
           }
          ],
          "scattergeo": [
           {
            "marker": {
             "colorbar": {
              "outlinewidth": 0,
              "ticks": ""
             }
            },
            "type": "scattergeo"
           }
          ],
          "scattergl": [
           {
            "marker": {
             "colorbar": {
              "outlinewidth": 0,
              "ticks": ""
             }
            },
            "type": "scattergl"
           }
          ],
          "scattermapbox": [
           {
            "marker": {
             "colorbar": {
              "outlinewidth": 0,
              "ticks": ""
             }
            },
            "type": "scattermapbox"
           }
          ],
          "scatterpolar": [
           {
            "marker": {
             "colorbar": {
              "outlinewidth": 0,
              "ticks": ""
             }
            },
            "type": "scatterpolar"
           }
          ],
          "scatterpolargl": [
           {
            "marker": {
             "colorbar": {
              "outlinewidth": 0,
              "ticks": ""
             }
            },
            "type": "scatterpolargl"
           }
          ],
          "scatterternary": [
           {
            "marker": {
             "colorbar": {
              "outlinewidth": 0,
              "ticks": ""
             }
            },
            "type": "scatterternary"
           }
          ],
          "surface": [
           {
            "colorbar": {
             "outlinewidth": 0,
             "ticks": ""
            },
            "colorscale": [
             [
              0,
              "#0d0887"
             ],
             [
              0.1111111111111111,
              "#46039f"
             ],
             [
              0.2222222222222222,
              "#7201a8"
             ],
             [
              0.3333333333333333,
              "#9c179e"
             ],
             [
              0.4444444444444444,
              "#bd3786"
             ],
             [
              0.5555555555555556,
              "#d8576b"
             ],
             [
              0.6666666666666666,
              "#ed7953"
             ],
             [
              0.7777777777777778,
              "#fb9f3a"
             ],
             [
              0.8888888888888888,
              "#fdca26"
             ],
             [
              1,
              "#f0f921"
             ]
            ],
            "type": "surface"
           }
          ],
          "table": [
           {
            "cells": {
             "fill": {
              "color": "#EBF0F8"
             },
             "line": {
              "color": "white"
             }
            },
            "header": {
             "fill": {
              "color": "#C8D4E3"
             },
             "line": {
              "color": "white"
             }
            },
            "type": "table"
           }
          ]
         },
         "layout": {
          "annotationdefaults": {
           "arrowcolor": "#2a3f5f",
           "arrowhead": 0,
           "arrowwidth": 1
          },
          "autotypenumbers": "strict",
          "coloraxis": {
           "colorbar": {
            "outlinewidth": 0,
            "ticks": ""
           }
          },
          "colorscale": {
           "diverging": [
            [
             0,
             "#8e0152"
            ],
            [
             0.1,
             "#c51b7d"
            ],
            [
             0.2,
             "#de77ae"
            ],
            [
             0.3,
             "#f1b6da"
            ],
            [
             0.4,
             "#fde0ef"
            ],
            [
             0.5,
             "#f7f7f7"
            ],
            [
             0.6,
             "#e6f5d0"
            ],
            [
             0.7,
             "#b8e186"
            ],
            [
             0.8,
             "#7fbc41"
            ],
            [
             0.9,
             "#4d9221"
            ],
            [
             1,
             "#276419"
            ]
           ],
           "sequential": [
            [
             0,
             "#0d0887"
            ],
            [
             0.1111111111111111,
             "#46039f"
            ],
            [
             0.2222222222222222,
             "#7201a8"
            ],
            [
             0.3333333333333333,
             "#9c179e"
            ],
            [
             0.4444444444444444,
             "#bd3786"
            ],
            [
             0.5555555555555556,
             "#d8576b"
            ],
            [
             0.6666666666666666,
             "#ed7953"
            ],
            [
             0.7777777777777778,
             "#fb9f3a"
            ],
            [
             0.8888888888888888,
             "#fdca26"
            ],
            [
             1,
             "#f0f921"
            ]
           ],
           "sequentialminus": [
            [
             0,
             "#0d0887"
            ],
            [
             0.1111111111111111,
             "#46039f"
            ],
            [
             0.2222222222222222,
             "#7201a8"
            ],
            [
             0.3333333333333333,
             "#9c179e"
            ],
            [
             0.4444444444444444,
             "#bd3786"
            ],
            [
             0.5555555555555556,
             "#d8576b"
            ],
            [
             0.6666666666666666,
             "#ed7953"
            ],
            [
             0.7777777777777778,
             "#fb9f3a"
            ],
            [
             0.8888888888888888,
             "#fdca26"
            ],
            [
             1,
             "#f0f921"
            ]
           ]
          },
          "colorway": [
           "#636efa",
           "#EF553B",
           "#00cc96",
           "#ab63fa",
           "#FFA15A",
           "#19d3f3",
           "#FF6692",
           "#B6E880",
           "#FF97FF",
           "#FECB52"
          ],
          "font": {
           "color": "#2a3f5f"
          },
          "geo": {
           "bgcolor": "white",
           "lakecolor": "white",
           "landcolor": "#E5ECF6",
           "showlakes": true,
           "showland": true,
           "subunitcolor": "white"
          },
          "hoverlabel": {
           "align": "left"
          },
          "hovermode": "closest",
          "mapbox": {
           "style": "light"
          },
          "paper_bgcolor": "white",
          "plot_bgcolor": "#E5ECF6",
          "polar": {
           "angularaxis": {
            "gridcolor": "white",
            "linecolor": "white",
            "ticks": ""
           },
           "bgcolor": "#E5ECF6",
           "radialaxis": {
            "gridcolor": "white",
            "linecolor": "white",
            "ticks": ""
           }
          },
          "scene": {
           "xaxis": {
            "backgroundcolor": "#E5ECF6",
            "gridcolor": "white",
            "gridwidth": 2,
            "linecolor": "white",
            "showbackground": true,
            "ticks": "",
            "zerolinecolor": "white"
           },
           "yaxis": {
            "backgroundcolor": "#E5ECF6",
            "gridcolor": "white",
            "gridwidth": 2,
            "linecolor": "white",
            "showbackground": true,
            "ticks": "",
            "zerolinecolor": "white"
           },
           "zaxis": {
            "backgroundcolor": "#E5ECF6",
            "gridcolor": "white",
            "gridwidth": 2,
            "linecolor": "white",
            "showbackground": true,
            "ticks": "",
            "zerolinecolor": "white"
           }
          },
          "shapedefaults": {
           "line": {
            "color": "#2a3f5f"
           }
          },
          "ternary": {
           "aaxis": {
            "gridcolor": "white",
            "linecolor": "white",
            "ticks": ""
           },
           "baxis": {
            "gridcolor": "white",
            "linecolor": "white",
            "ticks": ""
           },
           "bgcolor": "#E5ECF6",
           "caxis": {
            "gridcolor": "white",
            "linecolor": "white",
            "ticks": ""
           }
          },
          "title": {
           "x": 0.05
          },
          "xaxis": {
           "automargin": true,
           "gridcolor": "white",
           "linecolor": "white",
           "ticks": "",
           "title": {
            "standoff": 15
           },
           "zerolinecolor": "white",
           "zerolinewidth": 2
          },
          "yaxis": {
           "automargin": true,
           "gridcolor": "white",
           "linecolor": "white",
           "ticks": "",
           "title": {
            "standoff": 15
           },
           "zerolinecolor": "white",
           "zerolinewidth": 2
          }
         }
        },
        "width": 600,
        "xaxis": {
         "range": [
          -1.5,
          1.5
         ]
        },
        "yaxis": {
         "range": [
          -1.5,
          1.5
         ]
        }
       }
      },
      "text/html": [
       "<div>                            <div id=\"30cf6a1b-cda4-4cf2-8e07-93a8ebbe423c\" class=\"plotly-graph-div\" style=\"height:600px; width:600px;\"></div>            <script type=\"text/javascript\">                require([\"plotly\"], function(Plotly) {                    window.PLOTLYENV=window.PLOTLYENV || {};                                    if (document.getElementById(\"30cf6a1b-cda4-4cf2-8e07-93a8ebbe423c\")) {                    Plotly.newPlot(                        \"30cf6a1b-cda4-4cf2-8e07-93a8ebbe423c\",                        [],                        {\"annotations\":[{\"arrowcolor\":\"red\",\"arrowhead\":2,\"arrowsize\":1,\"arrowwidth\":2,\"ax\":0,\"axref\":\"x\",\"ay\":0,\"ayref\":\"y\",\"showarrow\":true,\"text\":\"\",\"x\":-0.25942034110803036,\"xref\":\"x\",\"y\":0.9657645088837099,\"yref\":\"y\"},{\"font\":{\"color\":\"red\",\"size\":10},\"showarrow\":false,\"text\":\"\\u00e9ducation\",\"x\":-0.3242754263850379,\"y\":1.2072056361046375},{\"arrowcolor\":\"red\",\"arrowhead\":2,\"arrowsize\":1,\"arrowwidth\":2,\"ax\":0,\"axref\":\"x\",\"ay\":0,\"ayref\":\"y\",\"showarrow\":true,\"text\":\"\",\"x\":0.30233640367913556,\"xref\":\"x\",\"y\":-0.9532012898702807,\"yref\":\"y\"},{\"font\":{\"color\":\"red\",\"size\":10},\"showarrow\":false,\"text\":\"famille\",\"x\":0.37792050459891946,\"y\":-1.191501612337851},{\"arrowcolor\":\"red\",\"arrowhead\":2,\"arrowsize\":1,\"arrowwidth\":2,\"ax\":0,\"axref\":\"x\",\"ay\":0,\"ayref\":\"y\",\"showarrow\":true,\"text\":\"\",\"x\":-0.8885858335071227,\"xref\":\"x\",\"y\":-0.45871038411011805,\"yref\":\"y\"},{\"font\":{\"color\":\"red\",\"size\":10},\"showarrow\":false,\"text\":\"international/europe\",\"x\":-1.1107322918839033,\"y\":-0.5733879801376476},{\"arrowcolor\":\"red\",\"arrowhead\":2,\"arrowsize\":1,\"arrowwidth\":2,\"ax\":0,\"axref\":\"x\",\"ay\":0,\"ayref\":\"y\",\"showarrow\":true,\"text\":\"\",\"x\":0.13470282961644217,\"xref\":\"x\",\"y\":0.9908860417289788,\"yref\":\"y\"},{\"font\":{\"color\":\"red\",\"size\":10},\"showarrow\":false,\"text\":\"emploie/salaire\",\"x\":0.16837853702055272,\"y\":1.2386075521612234},{\"arrowcolor\":\"red\",\"arrowhead\":2,\"arrowsize\":1,\"arrowwidth\":2,\"ax\":0,\"axref\":\"x\",\"ay\":0,\"ayref\":\"y\",\"showarrow\":true,\"text\":\"\",\"x\":-0.9999891022130123,\"xref\":\"x\",\"y\":-0.004668560293472722,\"yref\":\"y\"},{\"font\":{\"color\":\"red\",\"size\":10},\"showarrow\":false,\"text\":\"sant\\u00e9\",\"x\":-1.2499863777662654,\"y\":-0.005835700366840902},{\"arrowcolor\":\"red\",\"arrowhead\":2,\"arrowsize\":1,\"arrowwidth\":2,\"ax\":0,\"axref\":\"x\",\"ay\":0,\"ayref\":\"y\",\"showarrow\":true,\"text\":\"\",\"x\":-0.9822975120685828,\"xref\":\"x\",\"y\":0.18732751475389914,\"yref\":\"y\"},{\"font\":{\"color\":\"red\",\"size\":10},\"showarrow\":false,\"text\":\"cotisation\",\"x\":-1.2278718900857286,\"y\":0.2341593934423739},{\"arrowcolor\":\"red\",\"arrowhead\":2,\"arrowsize\":1,\"arrowwidth\":2,\"ax\":0,\"axref\":\"x\",\"ay\":0,\"ayref\":\"y\",\"showarrow\":true,\"text\":\"\",\"x\":-0.7829885047816303,\"xref\":\"x\",\"y\":-0.6220361736907483,\"yref\":\"y\"},{\"font\":{\"color\":\"red\",\"size\":10},\"showarrow\":false,\"text\":\"fronti\\u00e8re/indentit\\u00e9\",\"x\":-0.9787356309770379,\"y\":-0.7775452171134354},{\"arrowcolor\":\"red\",\"arrowhead\":2,\"arrowsize\":1,\"arrowwidth\":2,\"ax\":0,\"axref\":\"x\",\"ay\":0,\"ayref\":\"y\",\"showarrow\":true,\"text\":\"\",\"x\":0.552766244862001,\"xref\":\"x\",\"y\":-0.8333363537858901,\"yref\":\"y\"},{\"font\":{\"color\":\"red\",\"size\":10},\"showarrow\":false,\"text\":\"protection sociale/m\\u00e9decine\",\"x\":0.6909578060775012,\"y\":-1.0416704422323626},{\"arrowcolor\":\"red\",\"arrowhead\":2,\"arrowsize\":1,\"arrowwidth\":2,\"ax\":0,\"axref\":\"x\",\"ay\":0,\"ayref\":\"y\",\"showarrow\":true,\"text\":\"\",\"x\":-0.43970049076458506,\"xref\":\"x\",\"y\":-0.8981444641155357,\"yref\":\"y\"},{\"font\":{\"color\":\"red\",\"size\":10},\"showarrow\":false,\"text\":\"retraite\",\"x\":-0.5496256134557314,\"y\":-1.1226805801444197},{\"arrowcolor\":\"red\",\"arrowhead\":2,\"arrowsize\":1,\"arrowwidth\":2,\"ax\":0,\"axref\":\"x\",\"ay\":0,\"ayref\":\"y\",\"showarrow\":true,\"text\":\"\",\"x\":-0.9812997683923226,\"xref\":\"x\",\"y\":-0.19248575155884626,\"yref\":\"y\"},{\"font\":{\"color\":\"red\",\"size\":10},\"showarrow\":false,\"text\":\"plan\",\"x\":-1.2266247104904031,\"y\":-0.24060718944855783},{\"arrowcolor\":\"red\",\"arrowhead\":2,\"arrowsize\":1,\"arrowwidth\":2,\"ax\":0,\"axref\":\"x\",\"ay\":0,\"ayref\":\"y\",\"showarrow\":true,\"text\":\"\",\"x\":0.7897687169837938,\"xref\":\"x\",\"y\":-0.6134047388745641,\"yref\":\"y\"},{\"font\":{\"color\":\"red\",\"size\":10},\"showarrow\":false,\"text\":\"\\u00e9nergie\",\"x\":0.9872108962297422,\"y\":-0.7667559235932052},{\"arrowcolor\":\"red\",\"arrowhead\":2,\"arrowsize\":1,\"arrowwidth\":2,\"ax\":0,\"axref\":\"x\",\"ay\":0,\"ayref\":\"y\",\"showarrow\":true,\"text\":\"\",\"x\":0.12278382108753906,\"xref\":\"x\",\"y\":-0.9924334402261661,\"yref\":\"y\"},{\"font\":{\"color\":\"red\",\"size\":10},\"showarrow\":false,\"text\":\"\\u00e9cologie/agriculture\",\"x\":0.15347977635942384,\"y\":-1.2405418002827076},{\"arrowcolor\":\"red\",\"arrowhead\":2,\"arrowsize\":1,\"arrowwidth\":2,\"ax\":0,\"axref\":\"x\",\"ay\":0,\"ayref\":\"y\",\"showarrow\":true,\"text\":\"\",\"x\":0.9998887665072754,\"xref\":\"x\",\"y\":0.014914912422114382,\"yref\":\"y\"},{\"font\":{\"color\":\"red\",\"size\":10},\"showarrow\":false,\"text\":\"service public\",\"x\":1.2498609581340943,\"y\":0.018643640527642977},{\"arrowcolor\":\"red\",\"arrowhead\":2,\"arrowsize\":1,\"arrowwidth\":2,\"ax\":0,\"axref\":\"x\",\"ay\":0,\"ayref\":\"y\",\"showarrow\":true,\"text\":\"\",\"x\":-0.11402710005514459,\"xref\":\"x\",\"y\":0.9934776396341358,\"yref\":\"y\"},{\"font\":{\"color\":\"red\",\"size\":10},\"showarrow\":false,\"text\":\"loi/justice\",\"x\":-0.14253387506893073,\"y\":1.24184704954267},{\"arrowcolor\":\"red\",\"arrowhead\":2,\"arrowsize\":1,\"arrowwidth\":2,\"ax\":0,\"axref\":\"x\",\"ay\":0,\"ayref\":\"y\",\"showarrow\":true,\"text\":\"\",\"x\":-0.7386906181689917,\"xref\":\"x\",\"y\":-0.6740446354872301,\"yref\":\"y\"},{\"font\":{\"color\":\"red\",\"size\":10},\"showarrow\":false,\"text\":\"immigration\",\"x\":-0.9233632727112396,\"y\":-0.8425557943590377},{\"arrowcolor\":\"red\",\"arrowhead\":2,\"arrowsize\":1,\"arrowwidth\":2,\"ax\":0,\"axref\":\"x\",\"ay\":0,\"ayref\":\"y\",\"showarrow\":true,\"text\":\"\",\"x\":0.2162165272097109,\"xref\":\"x\",\"y\":0.9763454375175686,\"yref\":\"y\"},{\"font\":{\"color\":\"red\",\"size\":10},\"showarrow\":false,\"text\":\"enseignement sup\\u00e9rieur\",\"x\":0.27027065901213865,\"y\":1.220431796896961},{\"arrowcolor\":\"red\",\"arrowhead\":2,\"arrowsize\":1,\"arrowwidth\":2,\"ax\":0,\"axref\":\"x\",\"ay\":0,\"ayref\":\"y\",\"showarrow\":true,\"text\":\"\",\"x\":-0.9948268618490974,\"xref\":\"x\",\"y\":0.10158501338030479,\"yref\":\"y\"},{\"font\":{\"color\":\"red\",\"size\":10},\"showarrow\":false,\"text\":\"administration\",\"x\":-1.2435335773113718,\"y\":0.126981266725381},{\"arrowcolor\":\"red\",\"arrowhead\":2,\"arrowsize\":1,\"arrowwidth\":2,\"ax\":0,\"axref\":\"x\",\"ay\":0,\"ayref\":\"y\",\"showarrow\":true,\"text\":\"\",\"x\":0.9011485768425855,\"xref\":\"x\",\"y\":-0.4335103717958574,\"yref\":\"y\"},{\"font\":{\"color\":\"red\",\"size\":10},\"showarrow\":false,\"text\":\"institutions\",\"x\":1.1264357210532319,\"y\":-0.5418879647448217},{\"arrowcolor\":\"red\",\"arrowhead\":2,\"arrowsize\":1,\"arrowwidth\":2,\"ax\":0,\"axref\":\"x\",\"ay\":0,\"ayref\":\"y\",\"showarrow\":true,\"text\":\"\",\"x\":0.8259024861459475,\"xref\":\"x\",\"y\":-0.5638129861735567,\"yref\":\"y\"},{\"font\":{\"color\":\"red\",\"size\":10},\"showarrow\":false,\"text\":\"r\\u00e9gions/territoire\",\"x\":1.0323781076824343,\"y\":-0.7047662327169458},{\"arrowcolor\":\"red\",\"arrowhead\":2,\"arrowsize\":1,\"arrowwidth\":2,\"ax\":0,\"axref\":\"x\",\"ay\":0,\"ayref\":\"y\",\"showarrow\":true,\"text\":\"\",\"x\":-0.9986138308735328,\"xref\":\"x\",\"y\":0.052634748865051546,\"yref\":\"y\"},{\"font\":{\"color\":\"red\",\"size\":10},\"showarrow\":false,\"text\":\"valeurs conservatrices\",\"x\":-1.248267288591916,\"y\":0.06579343608131444},{\"arrowcolor\":\"red\",\"arrowhead\":2,\"arrowsize\":1,\"arrowwidth\":2,\"ax\":0,\"axref\":\"x\",\"ay\":0,\"ayref\":\"y\",\"showarrow\":true,\"text\":\"\",\"x\":-0.9917371915100346,\"xref\":\"x\",\"y\":-0.12828617608997836,\"yref\":\"y\"},{\"font\":{\"color\":\"red\",\"size\":10},\"showarrow\":false,\"text\":\"infrastructure\",\"x\":-1.2396714893875433,\"y\":-0.16035772011247296},{\"arrowcolor\":\"red\",\"arrowhead\":2,\"arrowsize\":1,\"arrowwidth\":2,\"ax\":0,\"axref\":\"x\",\"ay\":0,\"ayref\":\"y\",\"showarrow\":true,\"text\":\"\",\"x\":0.9278028294849764,\"xref\":\"x\",\"y\":-0.37307091765463535,\"yref\":\"y\"},{\"font\":{\"color\":\"red\",\"size\":10},\"showarrow\":false,\"text\":\"environnement/pollution\",\"x\":1.1597535368562204,\"y\":-0.4663386470682942}],\"height\":600,\"shapes\":[{\"line\":{\"color\":\"blue\"},\"type\":\"circle\",\"x0\":-1,\"x1\":1,\"xref\":\"x\",\"y0\":-1,\"y1\":1,\"yref\":\"y\"}],\"template\":{\"data\":{\"bar\":[{\"error_x\":{\"color\":\"#2a3f5f\"},\"error_y\":{\"color\":\"#2a3f5f\"},\"marker\":{\"line\":{\"color\":\"#E5ECF6\",\"width\":0.5},\"pattern\":{\"fillmode\":\"overlay\",\"size\":10,\"solidity\":0.2}},\"type\":\"bar\"}],\"barpolar\":[{\"marker\":{\"line\":{\"color\":\"#E5ECF6\",\"width\":0.5},\"pattern\":{\"fillmode\":\"overlay\",\"size\":10,\"solidity\":0.2}},\"type\":\"barpolar\"}],\"carpet\":[{\"aaxis\":{\"endlinecolor\":\"#2a3f5f\",\"gridcolor\":\"white\",\"linecolor\":\"white\",\"minorgridcolor\":\"white\",\"startlinecolor\":\"#2a3f5f\"},\"baxis\":{\"endlinecolor\":\"#2a3f5f\",\"gridcolor\":\"white\",\"linecolor\":\"white\",\"minorgridcolor\":\"white\",\"startlinecolor\":\"#2a3f5f\"},\"type\":\"carpet\"}],\"choropleth\":[{\"colorbar\":{\"outlinewidth\":0,\"ticks\":\"\"},\"type\":\"choropleth\"}],\"contour\":[{\"colorbar\":{\"outlinewidth\":0,\"ticks\":\"\"},\"colorscale\":[[0.0,\"#0d0887\"],[0.1111111111111111,\"#46039f\"],[0.2222222222222222,\"#7201a8\"],[0.3333333333333333,\"#9c179e\"],[0.4444444444444444,\"#bd3786\"],[0.5555555555555556,\"#d8576b\"],[0.6666666666666666,\"#ed7953\"],[0.7777777777777778,\"#fb9f3a\"],[0.8888888888888888,\"#fdca26\"],[1.0,\"#f0f921\"]],\"type\":\"contour\"}],\"contourcarpet\":[{\"colorbar\":{\"outlinewidth\":0,\"ticks\":\"\"},\"type\":\"contourcarpet\"}],\"heatmap\":[{\"colorbar\":{\"outlinewidth\":0,\"ticks\":\"\"},\"colorscale\":[[0.0,\"#0d0887\"],[0.1111111111111111,\"#46039f\"],[0.2222222222222222,\"#7201a8\"],[0.3333333333333333,\"#9c179e\"],[0.4444444444444444,\"#bd3786\"],[0.5555555555555556,\"#d8576b\"],[0.6666666666666666,\"#ed7953\"],[0.7777777777777778,\"#fb9f3a\"],[0.8888888888888888,\"#fdca26\"],[1.0,\"#f0f921\"]],\"type\":\"heatmap\"}],\"heatmapgl\":[{\"colorbar\":{\"outlinewidth\":0,\"ticks\":\"\"},\"colorscale\":[[0.0,\"#0d0887\"],[0.1111111111111111,\"#46039f\"],[0.2222222222222222,\"#7201a8\"],[0.3333333333333333,\"#9c179e\"],[0.4444444444444444,\"#bd3786\"],[0.5555555555555556,\"#d8576b\"],[0.6666666666666666,\"#ed7953\"],[0.7777777777777778,\"#fb9f3a\"],[0.8888888888888888,\"#fdca26\"],[1.0,\"#f0f921\"]],\"type\":\"heatmapgl\"}],\"histogram\":[{\"marker\":{\"pattern\":{\"fillmode\":\"overlay\",\"size\":10,\"solidity\":0.2}},\"type\":\"histogram\"}],\"histogram2d\":[{\"colorbar\":{\"outlinewidth\":0,\"ticks\":\"\"},\"colorscale\":[[0.0,\"#0d0887\"],[0.1111111111111111,\"#46039f\"],[0.2222222222222222,\"#7201a8\"],[0.3333333333333333,\"#9c179e\"],[0.4444444444444444,\"#bd3786\"],[0.5555555555555556,\"#d8576b\"],[0.6666666666666666,\"#ed7953\"],[0.7777777777777778,\"#fb9f3a\"],[0.8888888888888888,\"#fdca26\"],[1.0,\"#f0f921\"]],\"type\":\"histogram2d\"}],\"histogram2dcontour\":[{\"colorbar\":{\"outlinewidth\":0,\"ticks\":\"\"},\"colorscale\":[[0.0,\"#0d0887\"],[0.1111111111111111,\"#46039f\"],[0.2222222222222222,\"#7201a8\"],[0.3333333333333333,\"#9c179e\"],[0.4444444444444444,\"#bd3786\"],[0.5555555555555556,\"#d8576b\"],[0.6666666666666666,\"#ed7953\"],[0.7777777777777778,\"#fb9f3a\"],[0.8888888888888888,\"#fdca26\"],[1.0,\"#f0f921\"]],\"type\":\"histogram2dcontour\"}],\"mesh3d\":[{\"colorbar\":{\"outlinewidth\":0,\"ticks\":\"\"},\"type\":\"mesh3d\"}],\"parcoords\":[{\"line\":{\"colorbar\":{\"outlinewidth\":0,\"ticks\":\"\"}},\"type\":\"parcoords\"}],\"pie\":[{\"automargin\":true,\"type\":\"pie\"}],\"scatter\":[{\"marker\":{\"colorbar\":{\"outlinewidth\":0,\"ticks\":\"\"}},\"type\":\"scatter\"}],\"scatter3d\":[{\"line\":{\"colorbar\":{\"outlinewidth\":0,\"ticks\":\"\"}},\"marker\":{\"colorbar\":{\"outlinewidth\":0,\"ticks\":\"\"}},\"type\":\"scatter3d\"}],\"scattercarpet\":[{\"marker\":{\"colorbar\":{\"outlinewidth\":0,\"ticks\":\"\"}},\"type\":\"scattercarpet\"}],\"scattergeo\":[{\"marker\":{\"colorbar\":{\"outlinewidth\":0,\"ticks\":\"\"}},\"type\":\"scattergeo\"}],\"scattergl\":[{\"marker\":{\"colorbar\":{\"outlinewidth\":0,\"ticks\":\"\"}},\"type\":\"scattergl\"}],\"scattermapbox\":[{\"marker\":{\"colorbar\":{\"outlinewidth\":0,\"ticks\":\"\"}},\"type\":\"scattermapbox\"}],\"scatterpolar\":[{\"marker\":{\"colorbar\":{\"outlinewidth\":0,\"ticks\":\"\"}},\"type\":\"scatterpolar\"}],\"scatterpolargl\":[{\"marker\":{\"colorbar\":{\"outlinewidth\":0,\"ticks\":\"\"}},\"type\":\"scatterpolargl\"}],\"scatterternary\":[{\"marker\":{\"colorbar\":{\"outlinewidth\":0,\"ticks\":\"\"}},\"type\":\"scatterternary\"}],\"surface\":[{\"colorbar\":{\"outlinewidth\":0,\"ticks\":\"\"},\"colorscale\":[[0.0,\"#0d0887\"],[0.1111111111111111,\"#46039f\"],[0.2222222222222222,\"#7201a8\"],[0.3333333333333333,\"#9c179e\"],[0.4444444444444444,\"#bd3786\"],[0.5555555555555556,\"#d8576b\"],[0.6666666666666666,\"#ed7953\"],[0.7777777777777778,\"#fb9f3a\"],[0.8888888888888888,\"#fdca26\"],[1.0,\"#f0f921\"]],\"type\":\"surface\"}],\"table\":[{\"cells\":{\"fill\":{\"color\":\"#EBF0F8\"},\"line\":{\"color\":\"white\"}},\"header\":{\"fill\":{\"color\":\"#C8D4E3\"},\"line\":{\"color\":\"white\"}},\"type\":\"table\"}]},\"layout\":{\"annotationdefaults\":{\"arrowcolor\":\"#2a3f5f\",\"arrowhead\":0,\"arrowwidth\":1},\"autotypenumbers\":\"strict\",\"coloraxis\":{\"colorbar\":{\"outlinewidth\":0,\"ticks\":\"\"}},\"colorscale\":{\"diverging\":[[0,\"#8e0152\"],[0.1,\"#c51b7d\"],[0.2,\"#de77ae\"],[0.3,\"#f1b6da\"],[0.4,\"#fde0ef\"],[0.5,\"#f7f7f7\"],[0.6,\"#e6f5d0\"],[0.7,\"#b8e186\"],[0.8,\"#7fbc41\"],[0.9,\"#4d9221\"],[1,\"#276419\"]],\"sequential\":[[0.0,\"#0d0887\"],[0.1111111111111111,\"#46039f\"],[0.2222222222222222,\"#7201a8\"],[0.3333333333333333,\"#9c179e\"],[0.4444444444444444,\"#bd3786\"],[0.5555555555555556,\"#d8576b\"],[0.6666666666666666,\"#ed7953\"],[0.7777777777777778,\"#fb9f3a\"],[0.8888888888888888,\"#fdca26\"],[1.0,\"#f0f921\"]],\"sequentialminus\":[[0.0,\"#0d0887\"],[0.1111111111111111,\"#46039f\"],[0.2222222222222222,\"#7201a8\"],[0.3333333333333333,\"#9c179e\"],[0.4444444444444444,\"#bd3786\"],[0.5555555555555556,\"#d8576b\"],[0.6666666666666666,\"#ed7953\"],[0.7777777777777778,\"#fb9f3a\"],[0.8888888888888888,\"#fdca26\"],[1.0,\"#f0f921\"]]},\"colorway\":[\"#636efa\",\"#EF553B\",\"#00cc96\",\"#ab63fa\",\"#FFA15A\",\"#19d3f3\",\"#FF6692\",\"#B6E880\",\"#FF97FF\",\"#FECB52\"],\"font\":{\"color\":\"#2a3f5f\"},\"geo\":{\"bgcolor\":\"white\",\"lakecolor\":\"white\",\"landcolor\":\"#E5ECF6\",\"showlakes\":true,\"showland\":true,\"subunitcolor\":\"white\"},\"hoverlabel\":{\"align\":\"left\"},\"hovermode\":\"closest\",\"mapbox\":{\"style\":\"light\"},\"paper_bgcolor\":\"white\",\"plot_bgcolor\":\"#E5ECF6\",\"polar\":{\"angularaxis\":{\"gridcolor\":\"white\",\"linecolor\":\"white\",\"ticks\":\"\"},\"bgcolor\":\"#E5ECF6\",\"radialaxis\":{\"gridcolor\":\"white\",\"linecolor\":\"white\",\"ticks\":\"\"}},\"scene\":{\"xaxis\":{\"backgroundcolor\":\"#E5ECF6\",\"gridcolor\":\"white\",\"gridwidth\":2,\"linecolor\":\"white\",\"showbackground\":true,\"ticks\":\"\",\"zerolinecolor\":\"white\"},\"yaxis\":{\"backgroundcolor\":\"#E5ECF6\",\"gridcolor\":\"white\",\"gridwidth\":2,\"linecolor\":\"white\",\"showbackground\":true,\"ticks\":\"\",\"zerolinecolor\":\"white\"},\"zaxis\":{\"backgroundcolor\":\"#E5ECF6\",\"gridcolor\":\"white\",\"gridwidth\":2,\"linecolor\":\"white\",\"showbackground\":true,\"ticks\":\"\",\"zerolinecolor\":\"white\"}},\"shapedefaults\":{\"line\":{\"color\":\"#2a3f5f\"}},\"ternary\":{\"aaxis\":{\"gridcolor\":\"white\",\"linecolor\":\"white\",\"ticks\":\"\"},\"baxis\":{\"gridcolor\":\"white\",\"linecolor\":\"white\",\"ticks\":\"\"},\"bgcolor\":\"#E5ECF6\",\"caxis\":{\"gridcolor\":\"white\",\"linecolor\":\"white\",\"ticks\":\"\"}},\"title\":{\"x\":0.05},\"xaxis\":{\"automargin\":true,\"gridcolor\":\"white\",\"linecolor\":\"white\",\"ticks\":\"\",\"title\":{\"standoff\":15},\"zerolinecolor\":\"white\",\"zerolinewidth\":2},\"yaxis\":{\"automargin\":true,\"gridcolor\":\"white\",\"linecolor\":\"white\",\"ticks\":\"\",\"title\":{\"standoff\":15},\"zerolinecolor\":\"white\",\"zerolinewidth\":2}}},\"width\":600,\"xaxis\":{\"range\":[-1.5,1.5]},\"yaxis\":{\"range\":[-1.5,1.5]}},                        {\"responsive\": true}                    ).then(function(){\n",
       "                            \n",
       "var gd = document.getElementById('30cf6a1b-cda4-4cf2-8e07-93a8ebbe423c');\n",
       "var x = new MutationObserver(function (mutations, observer) {{\n",
       "        var display = window.getComputedStyle(gd).display;\n",
       "        if (!display || display === 'none') {{\n",
       "            console.log([gd, 'removed!']);\n",
       "            Plotly.purge(gd);\n",
       "            observer.disconnect();\n",
       "        }}\n",
       "}});\n",
       "\n",
       "// Listen for the removal of the full notebook cells\n",
       "var notebookContainer = gd.closest('#notebook-container');\n",
       "if (notebookContainer) {{\n",
       "    x.observe(notebookContainer, {childList: true});\n",
       "}}\n",
       "\n",
       "// Listen for the clearing of the current output cell\n",
       "var outputEl = gd.closest('.output');\n",
       "if (outputEl) {{\n",
       "    x.observe(outputEl, {childList: true});\n",
       "}}\n",
       "\n",
       "                        })                };                });            </script>        </div>"
      ]
     },
     "metadata": {},
     "output_type": "display_data"
    }
   ],
   "source": [
    "cir_corr = go.Figure()\n",
    "cir_corr.update_layout(xaxis=dict(range=[-1.5,1.5]),yaxis=dict(range=[-1.5,1.5]), width=600, height=600)\n",
    "\n",
    "cir_corr = add_correlation_circle(cir_corr, \n",
    "                                  coeffs=comp, \n",
    "                                  texts=topics['topic_name'], \n",
    "                                  normalization=True,\n",
    "                                  add_circle=True)\n",
    "cir_corr.show()"
   ]
  },
  {
   "cell_type": "code",
   "execution_count": 224,
   "id": "68c0882e",
   "metadata": {},
   "outputs": [],
   "source": [
    "pca_manifesto = pd.DataFrame(pca.transform(data)[:, [0,1]])"
   ]
  },
  {
   "cell_type": "code",
   "execution_count": 225,
   "id": "f920fcf8",
   "metadata": {},
   "outputs": [],
   "source": [
    "pca_manifesto = pd.concat([pca_manifesto,manifesto_topic[['partyname','annee']]],axis=1)"
   ]
  },
  {
   "cell_type": "code",
   "execution_count": 226,
   "id": "822324b5",
   "metadata": {},
   "outputs": [],
   "source": [
    "pca_manifesto['annee'] = pca_manifesto['annee'].astype('object')"
   ]
  },
  {
   "cell_type": "code",
   "execution_count": 227,
   "id": "edff65cc",
   "metadata": {},
   "outputs": [],
   "source": [
    "pca_manifesto = pca_manifesto.drop(0)"
   ]
  },
  {
   "cell_type": "code",
   "execution_count": 228,
   "id": "74cd014c",
   "metadata": {},
   "outputs": [],
   "source": [
    "pca_manifesto['name_year'] = pca_manifesto['partyname'] + '_' +pca_manifesto['annee'].apply(str)"
   ]
  },
  {
   "cell_type": "code",
   "execution_count": 229,
   "id": "f58e7f01",
   "metadata": {},
   "outputs": [],
   "source": [
    "dict_color = {'PS': 'pink', \n",
    "              'MoDem/EM': 'orange', \n",
    "              'RPR/UMP/LR': 'blue',\n",
    "              'FN':'darkslateblue',\n",
    "              'EELV':'green',\n",
    "              'PCF/PG/LFI':'red',\n",
    "              'Le Monde':'black',\n",
    "              'Le Figaro':'cyan'}"
   ]
  },
  {
   "cell_type": "code",
   "execution_count": 230,
   "id": "b4a03e32",
   "metadata": {},
   "outputs": [
    {
     "data": {
      "application/vnd.plotly.v1+json": {
       "config": {
        "plotlyServerURL": "https://plot.ly"
       },
       "data": [
        {
         "marker": {
          "color": "pink",
          "size": 12
         },
         "mode": "lines+markers+text",
         "name": "PS",
         "text": [
          "PS_2002",
          "PS_2007",
          "PS_2012",
          "PS_2017"
         ],
         "type": "scatter",
         "x": [
          2.53255404645464,
          -0.8828295222052431,
          0.15903156866464366,
          0.39308329708381784
         ],
         "y": [
          3.8874020801898848,
          1.3373577326853863,
          1.8198009700402082,
          4.033570807709671
         ]
        },
        {
         "marker": {
          "color": "orange",
          "size": 12
         },
         "mode": "lines+markers+text",
         "name": "MoDem/EM",
         "text": [
          "MoDem/EM_2002",
          "MoDem/EM_2007",
          "MoDem/EM_2012",
          "MoDem/EM_2017"
         ],
         "type": "scatter",
         "x": [
          -1.1267116427395685,
          -0.7960358985363536,
          -0.9558714222576593,
          -0.19722005346218624
         ],
         "y": [
          -0.8739310835403263,
          -0.4581167226400047,
          0.3867483944889244,
          1.8091436800649763
         ]
        },
        {
         "marker": {
          "color": "blue",
          "size": 12
         },
         "mode": "lines+markers+text",
         "name": "RPR/UMP/LR",
         "text": [
          "RPR/UMP/LR_2002",
          "RPR/UMP/LR_2007",
          "RPR/UMP/LR_2012",
          "RPR/UMP/LR_2017"
         ],
         "type": "scatter",
         "x": [
          1.1439593292143657,
          -1.2167538108826257,
          -3.47001482625345,
          -1.5471583922867065
         ],
         "y": [
          2.7488484859890314,
          0.5242341263750758,
          0.7916318673482533,
          0.8927555695720054
         ]
        },
        {
         "marker": {
          "color": "darkslateblue",
          "size": 12
         },
         "mode": "lines+markers+text",
         "name": "FN",
         "text": [
          "FN_2002",
          "FN_2007",
          "FN_2012",
          "FN_2017"
         ],
         "type": "scatter",
         "x": [
          -1.9659238177262697,
          -1.6540131138583107,
          -3.499541366688576,
          -2.4593025914244646
         ],
         "y": [
          -1.4743338486302036,
          -2.474160640288574,
          -3.333566195092899,
          -1.8478143582982485
         ]
        },
        {
         "marker": {
          "color": "green",
          "size": 12
         },
         "mode": "lines+markers+text",
         "name": "EELV",
         "text": [
          "EELV_2007",
          "EELV_2012",
          "EELV_2017"
         ],
         "type": "scatter",
         "x": [
          1.2678193910673476,
          0.5755408328101592,
          1.4133528610909365
         ],
         "y": [
          -1.0646024679783892,
          -1.2162314093960125,
          -1.510514387211731
         ]
        },
        {
         "marker": {
          "color": "red",
          "size": 12
         },
         "mode": "lines+markers+text",
         "name": "PCF/PG/LFI",
         "text": [
          "PCF/PG/LFI_2007",
          "PCF/PG/LFI_2012",
          "PCF/PG/LFI_2017"
         ],
         "type": "scatter",
         "x": [
          1.8185558846080128,
          1.565752883639707,
          0.8258545837883567
         ],
         "y": [
          -0.024372460071695978,
          0.3806229844679932,
          -0.813227038635992
         ]
        }
       ],
       "layout": {
        "height": 1000,
        "template": {
         "data": {
          "bar": [
           {
            "error_x": {
             "color": "#2a3f5f"
            },
            "error_y": {
             "color": "#2a3f5f"
            },
            "marker": {
             "line": {
              "color": "#E5ECF6",
              "width": 0.5
             },
             "pattern": {
              "fillmode": "overlay",
              "size": 10,
              "solidity": 0.2
             }
            },
            "type": "bar"
           }
          ],
          "barpolar": [
           {
            "marker": {
             "line": {
              "color": "#E5ECF6",
              "width": 0.5
             },
             "pattern": {
              "fillmode": "overlay",
              "size": 10,
              "solidity": 0.2
             }
            },
            "type": "barpolar"
           }
          ],
          "carpet": [
           {
            "aaxis": {
             "endlinecolor": "#2a3f5f",
             "gridcolor": "white",
             "linecolor": "white",
             "minorgridcolor": "white",
             "startlinecolor": "#2a3f5f"
            },
            "baxis": {
             "endlinecolor": "#2a3f5f",
             "gridcolor": "white",
             "linecolor": "white",
             "minorgridcolor": "white",
             "startlinecolor": "#2a3f5f"
            },
            "type": "carpet"
           }
          ],
          "choropleth": [
           {
            "colorbar": {
             "outlinewidth": 0,
             "ticks": ""
            },
            "type": "choropleth"
           }
          ],
          "contour": [
           {
            "colorbar": {
             "outlinewidth": 0,
             "ticks": ""
            },
            "colorscale": [
             [
              0,
              "#0d0887"
             ],
             [
              0.1111111111111111,
              "#46039f"
             ],
             [
              0.2222222222222222,
              "#7201a8"
             ],
             [
              0.3333333333333333,
              "#9c179e"
             ],
             [
              0.4444444444444444,
              "#bd3786"
             ],
             [
              0.5555555555555556,
              "#d8576b"
             ],
             [
              0.6666666666666666,
              "#ed7953"
             ],
             [
              0.7777777777777778,
              "#fb9f3a"
             ],
             [
              0.8888888888888888,
              "#fdca26"
             ],
             [
              1,
              "#f0f921"
             ]
            ],
            "type": "contour"
           }
          ],
          "contourcarpet": [
           {
            "colorbar": {
             "outlinewidth": 0,
             "ticks": ""
            },
            "type": "contourcarpet"
           }
          ],
          "heatmap": [
           {
            "colorbar": {
             "outlinewidth": 0,
             "ticks": ""
            },
            "colorscale": [
             [
              0,
              "#0d0887"
             ],
             [
              0.1111111111111111,
              "#46039f"
             ],
             [
              0.2222222222222222,
              "#7201a8"
             ],
             [
              0.3333333333333333,
              "#9c179e"
             ],
             [
              0.4444444444444444,
              "#bd3786"
             ],
             [
              0.5555555555555556,
              "#d8576b"
             ],
             [
              0.6666666666666666,
              "#ed7953"
             ],
             [
              0.7777777777777778,
              "#fb9f3a"
             ],
             [
              0.8888888888888888,
              "#fdca26"
             ],
             [
              1,
              "#f0f921"
             ]
            ],
            "type": "heatmap"
           }
          ],
          "heatmapgl": [
           {
            "colorbar": {
             "outlinewidth": 0,
             "ticks": ""
            },
            "colorscale": [
             [
              0,
              "#0d0887"
             ],
             [
              0.1111111111111111,
              "#46039f"
             ],
             [
              0.2222222222222222,
              "#7201a8"
             ],
             [
              0.3333333333333333,
              "#9c179e"
             ],
             [
              0.4444444444444444,
              "#bd3786"
             ],
             [
              0.5555555555555556,
              "#d8576b"
             ],
             [
              0.6666666666666666,
              "#ed7953"
             ],
             [
              0.7777777777777778,
              "#fb9f3a"
             ],
             [
              0.8888888888888888,
              "#fdca26"
             ],
             [
              1,
              "#f0f921"
             ]
            ],
            "type": "heatmapgl"
           }
          ],
          "histogram": [
           {
            "marker": {
             "pattern": {
              "fillmode": "overlay",
              "size": 10,
              "solidity": 0.2
             }
            },
            "type": "histogram"
           }
          ],
          "histogram2d": [
           {
            "colorbar": {
             "outlinewidth": 0,
             "ticks": ""
            },
            "colorscale": [
             [
              0,
              "#0d0887"
             ],
             [
              0.1111111111111111,
              "#46039f"
             ],
             [
              0.2222222222222222,
              "#7201a8"
             ],
             [
              0.3333333333333333,
              "#9c179e"
             ],
             [
              0.4444444444444444,
              "#bd3786"
             ],
             [
              0.5555555555555556,
              "#d8576b"
             ],
             [
              0.6666666666666666,
              "#ed7953"
             ],
             [
              0.7777777777777778,
              "#fb9f3a"
             ],
             [
              0.8888888888888888,
              "#fdca26"
             ],
             [
              1,
              "#f0f921"
             ]
            ],
            "type": "histogram2d"
           }
          ],
          "histogram2dcontour": [
           {
            "colorbar": {
             "outlinewidth": 0,
             "ticks": ""
            },
            "colorscale": [
             [
              0,
              "#0d0887"
             ],
             [
              0.1111111111111111,
              "#46039f"
             ],
             [
              0.2222222222222222,
              "#7201a8"
             ],
             [
              0.3333333333333333,
              "#9c179e"
             ],
             [
              0.4444444444444444,
              "#bd3786"
             ],
             [
              0.5555555555555556,
              "#d8576b"
             ],
             [
              0.6666666666666666,
              "#ed7953"
             ],
             [
              0.7777777777777778,
              "#fb9f3a"
             ],
             [
              0.8888888888888888,
              "#fdca26"
             ],
             [
              1,
              "#f0f921"
             ]
            ],
            "type": "histogram2dcontour"
           }
          ],
          "mesh3d": [
           {
            "colorbar": {
             "outlinewidth": 0,
             "ticks": ""
            },
            "type": "mesh3d"
           }
          ],
          "parcoords": [
           {
            "line": {
             "colorbar": {
              "outlinewidth": 0,
              "ticks": ""
             }
            },
            "type": "parcoords"
           }
          ],
          "pie": [
           {
            "automargin": true,
            "type": "pie"
           }
          ],
          "scatter": [
           {
            "marker": {
             "colorbar": {
              "outlinewidth": 0,
              "ticks": ""
             }
            },
            "type": "scatter"
           }
          ],
          "scatter3d": [
           {
            "line": {
             "colorbar": {
              "outlinewidth": 0,
              "ticks": ""
             }
            },
            "marker": {
             "colorbar": {
              "outlinewidth": 0,
              "ticks": ""
             }
            },
            "type": "scatter3d"
           }
          ],
          "scattercarpet": [
           {
            "marker": {
             "colorbar": {
              "outlinewidth": 0,
              "ticks": ""
             }
            },
            "type": "scattercarpet"
           }
          ],
          "scattergeo": [
           {
            "marker": {
             "colorbar": {
              "outlinewidth": 0,
              "ticks": ""
             }
            },
            "type": "scattergeo"
           }
          ],
          "scattergl": [
           {
            "marker": {
             "colorbar": {
              "outlinewidth": 0,
              "ticks": ""
             }
            },
            "type": "scattergl"
           }
          ],
          "scattermapbox": [
           {
            "marker": {
             "colorbar": {
              "outlinewidth": 0,
              "ticks": ""
             }
            },
            "type": "scattermapbox"
           }
          ],
          "scatterpolar": [
           {
            "marker": {
             "colorbar": {
              "outlinewidth": 0,
              "ticks": ""
             }
            },
            "type": "scatterpolar"
           }
          ],
          "scatterpolargl": [
           {
            "marker": {
             "colorbar": {
              "outlinewidth": 0,
              "ticks": ""
             }
            },
            "type": "scatterpolargl"
           }
          ],
          "scatterternary": [
           {
            "marker": {
             "colorbar": {
              "outlinewidth": 0,
              "ticks": ""
             }
            },
            "type": "scatterternary"
           }
          ],
          "surface": [
           {
            "colorbar": {
             "outlinewidth": 0,
             "ticks": ""
            },
            "colorscale": [
             [
              0,
              "#0d0887"
             ],
             [
              0.1111111111111111,
              "#46039f"
             ],
             [
              0.2222222222222222,
              "#7201a8"
             ],
             [
              0.3333333333333333,
              "#9c179e"
             ],
             [
              0.4444444444444444,
              "#bd3786"
             ],
             [
              0.5555555555555556,
              "#d8576b"
             ],
             [
              0.6666666666666666,
              "#ed7953"
             ],
             [
              0.7777777777777778,
              "#fb9f3a"
             ],
             [
              0.8888888888888888,
              "#fdca26"
             ],
             [
              1,
              "#f0f921"
             ]
            ],
            "type": "surface"
           }
          ],
          "table": [
           {
            "cells": {
             "fill": {
              "color": "#EBF0F8"
             },
             "line": {
              "color": "white"
             }
            },
            "header": {
             "fill": {
              "color": "#C8D4E3"
             },
             "line": {
              "color": "white"
             }
            },
            "type": "table"
           }
          ]
         },
         "layout": {
          "annotationdefaults": {
           "arrowcolor": "#2a3f5f",
           "arrowhead": 0,
           "arrowwidth": 1
          },
          "autotypenumbers": "strict",
          "coloraxis": {
           "colorbar": {
            "outlinewidth": 0,
            "ticks": ""
           }
          },
          "colorscale": {
           "diverging": [
            [
             0,
             "#8e0152"
            ],
            [
             0.1,
             "#c51b7d"
            ],
            [
             0.2,
             "#de77ae"
            ],
            [
             0.3,
             "#f1b6da"
            ],
            [
             0.4,
             "#fde0ef"
            ],
            [
             0.5,
             "#f7f7f7"
            ],
            [
             0.6,
             "#e6f5d0"
            ],
            [
             0.7,
             "#b8e186"
            ],
            [
             0.8,
             "#7fbc41"
            ],
            [
             0.9,
             "#4d9221"
            ],
            [
             1,
             "#276419"
            ]
           ],
           "sequential": [
            [
             0,
             "#0d0887"
            ],
            [
             0.1111111111111111,
             "#46039f"
            ],
            [
             0.2222222222222222,
             "#7201a8"
            ],
            [
             0.3333333333333333,
             "#9c179e"
            ],
            [
             0.4444444444444444,
             "#bd3786"
            ],
            [
             0.5555555555555556,
             "#d8576b"
            ],
            [
             0.6666666666666666,
             "#ed7953"
            ],
            [
             0.7777777777777778,
             "#fb9f3a"
            ],
            [
             0.8888888888888888,
             "#fdca26"
            ],
            [
             1,
             "#f0f921"
            ]
           ],
           "sequentialminus": [
            [
             0,
             "#0d0887"
            ],
            [
             0.1111111111111111,
             "#46039f"
            ],
            [
             0.2222222222222222,
             "#7201a8"
            ],
            [
             0.3333333333333333,
             "#9c179e"
            ],
            [
             0.4444444444444444,
             "#bd3786"
            ],
            [
             0.5555555555555556,
             "#d8576b"
            ],
            [
             0.6666666666666666,
             "#ed7953"
            ],
            [
             0.7777777777777778,
             "#fb9f3a"
            ],
            [
             0.8888888888888888,
             "#fdca26"
            ],
            [
             1,
             "#f0f921"
            ]
           ]
          },
          "colorway": [
           "#636efa",
           "#EF553B",
           "#00cc96",
           "#ab63fa",
           "#FFA15A",
           "#19d3f3",
           "#FF6692",
           "#B6E880",
           "#FF97FF",
           "#FECB52"
          ],
          "font": {
           "color": "#2a3f5f"
          },
          "geo": {
           "bgcolor": "white",
           "lakecolor": "white",
           "landcolor": "#E5ECF6",
           "showlakes": true,
           "showland": true,
           "subunitcolor": "white"
          },
          "hoverlabel": {
           "align": "left"
          },
          "hovermode": "closest",
          "mapbox": {
           "style": "light"
          },
          "paper_bgcolor": "white",
          "plot_bgcolor": "#E5ECF6",
          "polar": {
           "angularaxis": {
            "gridcolor": "white",
            "linecolor": "white",
            "ticks": ""
           },
           "bgcolor": "#E5ECF6",
           "radialaxis": {
            "gridcolor": "white",
            "linecolor": "white",
            "ticks": ""
           }
          },
          "scene": {
           "xaxis": {
            "backgroundcolor": "#E5ECF6",
            "gridcolor": "white",
            "gridwidth": 2,
            "linecolor": "white",
            "showbackground": true,
            "ticks": "",
            "zerolinecolor": "white"
           },
           "yaxis": {
            "backgroundcolor": "#E5ECF6",
            "gridcolor": "white",
            "gridwidth": 2,
            "linecolor": "white",
            "showbackground": true,
            "ticks": "",
            "zerolinecolor": "white"
           },
           "zaxis": {
            "backgroundcolor": "#E5ECF6",
            "gridcolor": "white",
            "gridwidth": 2,
            "linecolor": "white",
            "showbackground": true,
            "ticks": "",
            "zerolinecolor": "white"
           }
          },
          "shapedefaults": {
           "line": {
            "color": "#2a3f5f"
           }
          },
          "ternary": {
           "aaxis": {
            "gridcolor": "white",
            "linecolor": "white",
            "ticks": ""
           },
           "baxis": {
            "gridcolor": "white",
            "linecolor": "white",
            "ticks": ""
           },
           "bgcolor": "#E5ECF6",
           "caxis": {
            "gridcolor": "white",
            "linecolor": "white",
            "ticks": ""
           }
          },
          "title": {
           "x": 0.05
          },
          "xaxis": {
           "automargin": true,
           "gridcolor": "white",
           "linecolor": "white",
           "ticks": "",
           "title": {
            "standoff": 15
           },
           "zerolinecolor": "white",
           "zerolinewidth": 2
          },
          "yaxis": {
           "automargin": true,
           "gridcolor": "white",
           "linecolor": "white",
           "ticks": "",
           "title": {
            "standoff": 15
           },
           "zerolinecolor": "white",
           "zerolinewidth": 2
          }
         }
        },
        "width": 1200
       }
      },
      "text/html": [
       "<div>                            <div id=\"12526d69-2768-4f15-b4ba-567a1459dfee\" class=\"plotly-graph-div\" style=\"height:1000px; width:1200px;\"></div>            <script type=\"text/javascript\">                require([\"plotly\"], function(Plotly) {                    window.PLOTLYENV=window.PLOTLYENV || {};                                    if (document.getElementById(\"12526d69-2768-4f15-b4ba-567a1459dfee\")) {                    Plotly.newPlot(                        \"12526d69-2768-4f15-b4ba-567a1459dfee\",                        [{\"marker\":{\"color\":\"pink\",\"size\":12},\"mode\":\"lines+markers+text\",\"name\":\"PS\",\"text\":[\"PS_2002\",\"PS_2007\",\"PS_2012\",\"PS_2017\"],\"type\":\"scatter\",\"x\":[2.53255404645464,-0.8828295222052431,0.15903156866464366,0.39308329708381784],\"y\":[3.8874020801898848,1.3373577326853863,1.8198009700402082,4.033570807709671]},{\"marker\":{\"color\":\"orange\",\"size\":12},\"mode\":\"lines+markers+text\",\"name\":\"MoDem/EM\",\"text\":[\"MoDem/EM_2002\",\"MoDem/EM_2007\",\"MoDem/EM_2012\",\"MoDem/EM_2017\"],\"type\":\"scatter\",\"x\":[-1.1267116427395685,-0.7960358985363536,-0.9558714222576593,-0.19722005346218624],\"y\":[-0.8739310835403263,-0.4581167226400047,0.3867483944889244,1.8091436800649763]},{\"marker\":{\"color\":\"blue\",\"size\":12},\"mode\":\"lines+markers+text\",\"name\":\"RPR/UMP/LR\",\"text\":[\"RPR/UMP/LR_2002\",\"RPR/UMP/LR_2007\",\"RPR/UMP/LR_2012\",\"RPR/UMP/LR_2017\"],\"type\":\"scatter\",\"x\":[1.1439593292143657,-1.2167538108826257,-3.47001482625345,-1.5471583922867065],\"y\":[2.7488484859890314,0.5242341263750758,0.7916318673482533,0.8927555695720054]},{\"marker\":{\"color\":\"darkslateblue\",\"size\":12},\"mode\":\"lines+markers+text\",\"name\":\"FN\",\"text\":[\"FN_2002\",\"FN_2007\",\"FN_2012\",\"FN_2017\"],\"type\":\"scatter\",\"x\":[-1.9659238177262697,-1.6540131138583107,-3.499541366688576,-2.4593025914244646],\"y\":[-1.4743338486302036,-2.474160640288574,-3.333566195092899,-1.8478143582982485]},{\"marker\":{\"color\":\"green\",\"size\":12},\"mode\":\"lines+markers+text\",\"name\":\"EELV\",\"text\":[\"EELV_2007\",\"EELV_2012\",\"EELV_2017\"],\"type\":\"scatter\",\"x\":[1.2678193910673476,0.5755408328101592,1.4133528610909365],\"y\":[-1.0646024679783892,-1.2162314093960125,-1.510514387211731]},{\"marker\":{\"color\":\"red\",\"size\":12},\"mode\":\"lines+markers+text\",\"name\":\"PCF/PG/LFI\",\"text\":[\"PCF/PG/LFI_2007\",\"PCF/PG/LFI_2012\",\"PCF/PG/LFI_2017\"],\"type\":\"scatter\",\"x\":[1.8185558846080128,1.565752883639707,0.8258545837883567],\"y\":[-0.024372460071695978,0.3806229844679932,-0.813227038635992]}],                        {\"height\":1000,\"template\":{\"data\":{\"bar\":[{\"error_x\":{\"color\":\"#2a3f5f\"},\"error_y\":{\"color\":\"#2a3f5f\"},\"marker\":{\"line\":{\"color\":\"#E5ECF6\",\"width\":0.5},\"pattern\":{\"fillmode\":\"overlay\",\"size\":10,\"solidity\":0.2}},\"type\":\"bar\"}],\"barpolar\":[{\"marker\":{\"line\":{\"color\":\"#E5ECF6\",\"width\":0.5},\"pattern\":{\"fillmode\":\"overlay\",\"size\":10,\"solidity\":0.2}},\"type\":\"barpolar\"}],\"carpet\":[{\"aaxis\":{\"endlinecolor\":\"#2a3f5f\",\"gridcolor\":\"white\",\"linecolor\":\"white\",\"minorgridcolor\":\"white\",\"startlinecolor\":\"#2a3f5f\"},\"baxis\":{\"endlinecolor\":\"#2a3f5f\",\"gridcolor\":\"white\",\"linecolor\":\"white\",\"minorgridcolor\":\"white\",\"startlinecolor\":\"#2a3f5f\"},\"type\":\"carpet\"}],\"choropleth\":[{\"colorbar\":{\"outlinewidth\":0,\"ticks\":\"\"},\"type\":\"choropleth\"}],\"contour\":[{\"colorbar\":{\"outlinewidth\":0,\"ticks\":\"\"},\"colorscale\":[[0.0,\"#0d0887\"],[0.1111111111111111,\"#46039f\"],[0.2222222222222222,\"#7201a8\"],[0.3333333333333333,\"#9c179e\"],[0.4444444444444444,\"#bd3786\"],[0.5555555555555556,\"#d8576b\"],[0.6666666666666666,\"#ed7953\"],[0.7777777777777778,\"#fb9f3a\"],[0.8888888888888888,\"#fdca26\"],[1.0,\"#f0f921\"]],\"type\":\"contour\"}],\"contourcarpet\":[{\"colorbar\":{\"outlinewidth\":0,\"ticks\":\"\"},\"type\":\"contourcarpet\"}],\"heatmap\":[{\"colorbar\":{\"outlinewidth\":0,\"ticks\":\"\"},\"colorscale\":[[0.0,\"#0d0887\"],[0.1111111111111111,\"#46039f\"],[0.2222222222222222,\"#7201a8\"],[0.3333333333333333,\"#9c179e\"],[0.4444444444444444,\"#bd3786\"],[0.5555555555555556,\"#d8576b\"],[0.6666666666666666,\"#ed7953\"],[0.7777777777777778,\"#fb9f3a\"],[0.8888888888888888,\"#fdca26\"],[1.0,\"#f0f921\"]],\"type\":\"heatmap\"}],\"heatmapgl\":[{\"colorbar\":{\"outlinewidth\":0,\"ticks\":\"\"},\"colorscale\":[[0.0,\"#0d0887\"],[0.1111111111111111,\"#46039f\"],[0.2222222222222222,\"#7201a8\"],[0.3333333333333333,\"#9c179e\"],[0.4444444444444444,\"#bd3786\"],[0.5555555555555556,\"#d8576b\"],[0.6666666666666666,\"#ed7953\"],[0.7777777777777778,\"#fb9f3a\"],[0.8888888888888888,\"#fdca26\"],[1.0,\"#f0f921\"]],\"type\":\"heatmapgl\"}],\"histogram\":[{\"marker\":{\"pattern\":{\"fillmode\":\"overlay\",\"size\":10,\"solidity\":0.2}},\"type\":\"histogram\"}],\"histogram2d\":[{\"colorbar\":{\"outlinewidth\":0,\"ticks\":\"\"},\"colorscale\":[[0.0,\"#0d0887\"],[0.1111111111111111,\"#46039f\"],[0.2222222222222222,\"#7201a8\"],[0.3333333333333333,\"#9c179e\"],[0.4444444444444444,\"#bd3786\"],[0.5555555555555556,\"#d8576b\"],[0.6666666666666666,\"#ed7953\"],[0.7777777777777778,\"#fb9f3a\"],[0.8888888888888888,\"#fdca26\"],[1.0,\"#f0f921\"]],\"type\":\"histogram2d\"}],\"histogram2dcontour\":[{\"colorbar\":{\"outlinewidth\":0,\"ticks\":\"\"},\"colorscale\":[[0.0,\"#0d0887\"],[0.1111111111111111,\"#46039f\"],[0.2222222222222222,\"#7201a8\"],[0.3333333333333333,\"#9c179e\"],[0.4444444444444444,\"#bd3786\"],[0.5555555555555556,\"#d8576b\"],[0.6666666666666666,\"#ed7953\"],[0.7777777777777778,\"#fb9f3a\"],[0.8888888888888888,\"#fdca26\"],[1.0,\"#f0f921\"]],\"type\":\"histogram2dcontour\"}],\"mesh3d\":[{\"colorbar\":{\"outlinewidth\":0,\"ticks\":\"\"},\"type\":\"mesh3d\"}],\"parcoords\":[{\"line\":{\"colorbar\":{\"outlinewidth\":0,\"ticks\":\"\"}},\"type\":\"parcoords\"}],\"pie\":[{\"automargin\":true,\"type\":\"pie\"}],\"scatter\":[{\"marker\":{\"colorbar\":{\"outlinewidth\":0,\"ticks\":\"\"}},\"type\":\"scatter\"}],\"scatter3d\":[{\"line\":{\"colorbar\":{\"outlinewidth\":0,\"ticks\":\"\"}},\"marker\":{\"colorbar\":{\"outlinewidth\":0,\"ticks\":\"\"}},\"type\":\"scatter3d\"}],\"scattercarpet\":[{\"marker\":{\"colorbar\":{\"outlinewidth\":0,\"ticks\":\"\"}},\"type\":\"scattercarpet\"}],\"scattergeo\":[{\"marker\":{\"colorbar\":{\"outlinewidth\":0,\"ticks\":\"\"}},\"type\":\"scattergeo\"}],\"scattergl\":[{\"marker\":{\"colorbar\":{\"outlinewidth\":0,\"ticks\":\"\"}},\"type\":\"scattergl\"}],\"scattermapbox\":[{\"marker\":{\"colorbar\":{\"outlinewidth\":0,\"ticks\":\"\"}},\"type\":\"scattermapbox\"}],\"scatterpolar\":[{\"marker\":{\"colorbar\":{\"outlinewidth\":0,\"ticks\":\"\"}},\"type\":\"scatterpolar\"}],\"scatterpolargl\":[{\"marker\":{\"colorbar\":{\"outlinewidth\":0,\"ticks\":\"\"}},\"type\":\"scatterpolargl\"}],\"scatterternary\":[{\"marker\":{\"colorbar\":{\"outlinewidth\":0,\"ticks\":\"\"}},\"type\":\"scatterternary\"}],\"surface\":[{\"colorbar\":{\"outlinewidth\":0,\"ticks\":\"\"},\"colorscale\":[[0.0,\"#0d0887\"],[0.1111111111111111,\"#46039f\"],[0.2222222222222222,\"#7201a8\"],[0.3333333333333333,\"#9c179e\"],[0.4444444444444444,\"#bd3786\"],[0.5555555555555556,\"#d8576b\"],[0.6666666666666666,\"#ed7953\"],[0.7777777777777778,\"#fb9f3a\"],[0.8888888888888888,\"#fdca26\"],[1.0,\"#f0f921\"]],\"type\":\"surface\"}],\"table\":[{\"cells\":{\"fill\":{\"color\":\"#EBF0F8\"},\"line\":{\"color\":\"white\"}},\"header\":{\"fill\":{\"color\":\"#C8D4E3\"},\"line\":{\"color\":\"white\"}},\"type\":\"table\"}]},\"layout\":{\"annotationdefaults\":{\"arrowcolor\":\"#2a3f5f\",\"arrowhead\":0,\"arrowwidth\":1},\"autotypenumbers\":\"strict\",\"coloraxis\":{\"colorbar\":{\"outlinewidth\":0,\"ticks\":\"\"}},\"colorscale\":{\"diverging\":[[0,\"#8e0152\"],[0.1,\"#c51b7d\"],[0.2,\"#de77ae\"],[0.3,\"#f1b6da\"],[0.4,\"#fde0ef\"],[0.5,\"#f7f7f7\"],[0.6,\"#e6f5d0\"],[0.7,\"#b8e186\"],[0.8,\"#7fbc41\"],[0.9,\"#4d9221\"],[1,\"#276419\"]],\"sequential\":[[0.0,\"#0d0887\"],[0.1111111111111111,\"#46039f\"],[0.2222222222222222,\"#7201a8\"],[0.3333333333333333,\"#9c179e\"],[0.4444444444444444,\"#bd3786\"],[0.5555555555555556,\"#d8576b\"],[0.6666666666666666,\"#ed7953\"],[0.7777777777777778,\"#fb9f3a\"],[0.8888888888888888,\"#fdca26\"],[1.0,\"#f0f921\"]],\"sequentialminus\":[[0.0,\"#0d0887\"],[0.1111111111111111,\"#46039f\"],[0.2222222222222222,\"#7201a8\"],[0.3333333333333333,\"#9c179e\"],[0.4444444444444444,\"#bd3786\"],[0.5555555555555556,\"#d8576b\"],[0.6666666666666666,\"#ed7953\"],[0.7777777777777778,\"#fb9f3a\"],[0.8888888888888888,\"#fdca26\"],[1.0,\"#f0f921\"]]},\"colorway\":[\"#636efa\",\"#EF553B\",\"#00cc96\",\"#ab63fa\",\"#FFA15A\",\"#19d3f3\",\"#FF6692\",\"#B6E880\",\"#FF97FF\",\"#FECB52\"],\"font\":{\"color\":\"#2a3f5f\"},\"geo\":{\"bgcolor\":\"white\",\"lakecolor\":\"white\",\"landcolor\":\"#E5ECF6\",\"showlakes\":true,\"showland\":true,\"subunitcolor\":\"white\"},\"hoverlabel\":{\"align\":\"left\"},\"hovermode\":\"closest\",\"mapbox\":{\"style\":\"light\"},\"paper_bgcolor\":\"white\",\"plot_bgcolor\":\"#E5ECF6\",\"polar\":{\"angularaxis\":{\"gridcolor\":\"white\",\"linecolor\":\"white\",\"ticks\":\"\"},\"bgcolor\":\"#E5ECF6\",\"radialaxis\":{\"gridcolor\":\"white\",\"linecolor\":\"white\",\"ticks\":\"\"}},\"scene\":{\"xaxis\":{\"backgroundcolor\":\"#E5ECF6\",\"gridcolor\":\"white\",\"gridwidth\":2,\"linecolor\":\"white\",\"showbackground\":true,\"ticks\":\"\",\"zerolinecolor\":\"white\"},\"yaxis\":{\"backgroundcolor\":\"#E5ECF6\",\"gridcolor\":\"white\",\"gridwidth\":2,\"linecolor\":\"white\",\"showbackground\":true,\"ticks\":\"\",\"zerolinecolor\":\"white\"},\"zaxis\":{\"backgroundcolor\":\"#E5ECF6\",\"gridcolor\":\"white\",\"gridwidth\":2,\"linecolor\":\"white\",\"showbackground\":true,\"ticks\":\"\",\"zerolinecolor\":\"white\"}},\"shapedefaults\":{\"line\":{\"color\":\"#2a3f5f\"}},\"ternary\":{\"aaxis\":{\"gridcolor\":\"white\",\"linecolor\":\"white\",\"ticks\":\"\"},\"baxis\":{\"gridcolor\":\"white\",\"linecolor\":\"white\",\"ticks\":\"\"},\"bgcolor\":\"#E5ECF6\",\"caxis\":{\"gridcolor\":\"white\",\"linecolor\":\"white\",\"ticks\":\"\"}},\"title\":{\"x\":0.05},\"xaxis\":{\"automargin\":true,\"gridcolor\":\"white\",\"linecolor\":\"white\",\"ticks\":\"\",\"title\":{\"standoff\":15},\"zerolinecolor\":\"white\",\"zerolinewidth\":2},\"yaxis\":{\"automargin\":true,\"gridcolor\":\"white\",\"linecolor\":\"white\",\"ticks\":\"\",\"title\":{\"standoff\":15},\"zerolinecolor\":\"white\",\"zerolinewidth\":2}}},\"width\":1200},                        {\"responsive\": true}                    ).then(function(){\n",
       "                            \n",
       "var gd = document.getElementById('12526d69-2768-4f15-b4ba-567a1459dfee');\n",
       "var x = new MutationObserver(function (mutations, observer) {{\n",
       "        var display = window.getComputedStyle(gd).display;\n",
       "        if (!display || display === 'none') {{\n",
       "            console.log([gd, 'removed!']);\n",
       "            Plotly.purge(gd);\n",
       "            observer.disconnect();\n",
       "        }}\n",
       "}});\n",
       "\n",
       "// Listen for the removal of the full notebook cells\n",
       "var notebookContainer = gd.closest('#notebook-container');\n",
       "if (notebookContainer) {{\n",
       "    x.observe(notebookContainer, {childList: true});\n",
       "}}\n",
       "\n",
       "// Listen for the clearing of the current output cell\n",
       "var outputEl = gd.closest('.output');\n",
       "if (outputEl) {{\n",
       "    x.observe(outputEl, {childList: true});\n",
       "}}\n",
       "\n",
       "                        })                };                });            </script>        </div>"
      ]
     },
     "metadata": {},
     "output_type": "display_data"
    }
   ],
   "source": [
    "fig = go.Figure()\n",
    "\n",
    "for partname in pca_manifesto.partyname.unique():\n",
    "    tmp = pca_manifesto[pca_manifesto['partyname']==partname]\n",
    "    fig.add_trace(go.Scatter(\n",
    "        x=tmp[0],\n",
    "        y=tmp[1],\n",
    "        mode=\"lines+markers+text\",\n",
    "        name=partname,\n",
    "        text=tmp['name_year'],\n",
    "        marker=dict(color=dict_color[partname],size=12),\n",
    "    ))\n",
    "    \n",
    "fig.update_layout(height=1000, width=1200, \n",
    "                  #xaxis=dict(range=[-5,5],title='PC 1'), yaxis=dict(range=[-5,5], title='PC 2')\n",
    "                 )"
   ]
  },
  {
   "cell_type": "code",
   "execution_count": 243,
   "id": "36120eb3",
   "metadata": {
    "scrolled": false
   },
   "outputs": [
    {
     "data": {
      "application/vnd.plotly.v1+json": {
       "config": {
        "plotlyServerURL": "https://plot.ly"
       },
       "data": [
        {
         "hovertemplate": "partyname=PS<br>PC 1=%{x}<br>PC 2=%{y}<br>name_year=%{text}<extra></extra>",
         "legendgroup": "PS",
         "marker": {
          "color": "pink",
          "size": 12,
          "symbol": "circle"
         },
         "mode": "markers+text",
         "name": "PS",
         "orientation": "v",
         "showlegend": true,
         "text": [
          "PS_2002",
          "PS_2007",
          "PS_2012",
          "PS_2017"
         ],
         "type": "scatter",
         "x": [
          2.53255404645464,
          -0.8828295222052431,
          0.15903156866464366,
          0.39308329708381784
         ],
         "xaxis": "x",
         "y": [
          3.8874020801898848,
          1.3373577326853863,
          1.8198009700402082,
          4.033570807709671
         ],
         "yaxis": "y"
        },
        {
         "hovertemplate": "partyname=MoDem/EM<br>PC 1=%{x}<br>PC 2=%{y}<br>name_year=%{text}<extra></extra>",
         "legendgroup": "MoDem/EM",
         "marker": {
          "color": "orange",
          "size": 12,
          "symbol": "circle"
         },
         "mode": "markers+text",
         "name": "MoDem/EM",
         "orientation": "v",
         "showlegend": true,
         "text": [
          "MoDem/EM_2002",
          "MoDem/EM_2007",
          "MoDem/EM_2012",
          "MoDem/EM_2017"
         ],
         "type": "scatter",
         "x": [
          -1.1267116427395685,
          -0.7960358985363536,
          -0.9558714222576593,
          -0.19722005346218624
         ],
         "xaxis": "x",
         "y": [
          -0.8739310835403263,
          -0.4581167226400047,
          0.3867483944889244,
          1.8091436800649763
         ],
         "yaxis": "y"
        },
        {
         "hovertemplate": "partyname=RPR/UMP/LR<br>PC 1=%{x}<br>PC 2=%{y}<br>name_year=%{text}<extra></extra>",
         "legendgroup": "RPR/UMP/LR",
         "marker": {
          "color": "blue",
          "size": 12,
          "symbol": "circle"
         },
         "mode": "markers+text",
         "name": "RPR/UMP/LR",
         "orientation": "v",
         "showlegend": true,
         "text": [
          "RPR/UMP/LR_2002",
          "RPR/UMP/LR_2007",
          "RPR/UMP/LR_2012",
          "RPR/UMP/LR_2017"
         ],
         "type": "scatter",
         "x": [
          1.1439593292143657,
          -1.2167538108826257,
          -3.47001482625345,
          -1.5471583922867065
         ],
         "xaxis": "x",
         "y": [
          2.7488484859890314,
          0.5242341263750758,
          0.7916318673482533,
          0.8927555695720054
         ],
         "yaxis": "y"
        },
        {
         "hovertemplate": "partyname=FN<br>PC 1=%{x}<br>PC 2=%{y}<br>name_year=%{text}<extra></extra>",
         "legendgroup": "FN",
         "marker": {
          "color": "darkslateblue",
          "size": 12,
          "symbol": "circle"
         },
         "mode": "markers+text",
         "name": "FN",
         "orientation": "v",
         "showlegend": true,
         "text": [
          "FN_2002",
          "FN_2007",
          "FN_2012",
          "FN_2017"
         ],
         "type": "scatter",
         "x": [
          -1.9659238177262697,
          -1.6540131138583107,
          -3.499541366688576,
          -2.4593025914244646
         ],
         "xaxis": "x",
         "y": [
          -1.4743338486302036,
          -2.474160640288574,
          -3.333566195092899,
          -1.8478143582982485
         ],
         "yaxis": "y"
        },
        {
         "hovertemplate": "partyname=EELV<br>PC 1=%{x}<br>PC 2=%{y}<br>name_year=%{text}<extra></extra>",
         "legendgroup": "EELV",
         "marker": {
          "color": "green",
          "size": 12,
          "symbol": "circle"
         },
         "mode": "markers+text",
         "name": "EELV",
         "orientation": "v",
         "showlegend": true,
         "text": [
          "EELV_2007",
          "EELV_2012",
          "EELV_2017"
         ],
         "type": "scatter",
         "x": [
          1.2678193910673476,
          0.5755408328101592,
          1.4133528610909365
         ],
         "xaxis": "x",
         "y": [
          -1.0646024679783892,
          -1.2162314093960125,
          -1.510514387211731
         ],
         "yaxis": "y"
        },
        {
         "hovertemplate": "partyname=PCF/PG/LFI<br>PC 1=%{x}<br>PC 2=%{y}<br>name_year=%{text}<extra></extra>",
         "legendgroup": "PCF/PG/LFI",
         "marker": {
          "color": "red",
          "size": 12,
          "symbol": "circle"
         },
         "mode": "markers+text",
         "name": "PCF/PG/LFI",
         "orientation": "v",
         "showlegend": true,
         "text": [
          "PCF/PG/LFI_2007",
          "PCF/PG/LFI_2012",
          "PCF/PG/LFI_2017"
         ],
         "type": "scatter",
         "x": [
          1.8185558846080128,
          1.565752883639707,
          0.8258545837883567
         ],
         "xaxis": "x",
         "y": [
          -0.024372460071695978,
          0.3806229844679932,
          -0.813227038635992
         ],
         "yaxis": "y"
        }
       ],
       "layout": {
        "height": 1000,
        "legend": {
         "title": {
          "text": "partyname"
         },
         "tracegroupgap": 0
        },
        "margin": {
         "t": 60
        },
        "template": {
         "data": {
          "bar": [
           {
            "error_x": {
             "color": "#2a3f5f"
            },
            "error_y": {
             "color": "#2a3f5f"
            },
            "marker": {
             "line": {
              "color": "#E5ECF6",
              "width": 0.5
             },
             "pattern": {
              "fillmode": "overlay",
              "size": 10,
              "solidity": 0.2
             }
            },
            "type": "bar"
           }
          ],
          "barpolar": [
           {
            "marker": {
             "line": {
              "color": "#E5ECF6",
              "width": 0.5
             },
             "pattern": {
              "fillmode": "overlay",
              "size": 10,
              "solidity": 0.2
             }
            },
            "type": "barpolar"
           }
          ],
          "carpet": [
           {
            "aaxis": {
             "endlinecolor": "#2a3f5f",
             "gridcolor": "white",
             "linecolor": "white",
             "minorgridcolor": "white",
             "startlinecolor": "#2a3f5f"
            },
            "baxis": {
             "endlinecolor": "#2a3f5f",
             "gridcolor": "white",
             "linecolor": "white",
             "minorgridcolor": "white",
             "startlinecolor": "#2a3f5f"
            },
            "type": "carpet"
           }
          ],
          "choropleth": [
           {
            "colorbar": {
             "outlinewidth": 0,
             "ticks": ""
            },
            "type": "choropleth"
           }
          ],
          "contour": [
           {
            "colorbar": {
             "outlinewidth": 0,
             "ticks": ""
            },
            "colorscale": [
             [
              0,
              "#0d0887"
             ],
             [
              0.1111111111111111,
              "#46039f"
             ],
             [
              0.2222222222222222,
              "#7201a8"
             ],
             [
              0.3333333333333333,
              "#9c179e"
             ],
             [
              0.4444444444444444,
              "#bd3786"
             ],
             [
              0.5555555555555556,
              "#d8576b"
             ],
             [
              0.6666666666666666,
              "#ed7953"
             ],
             [
              0.7777777777777778,
              "#fb9f3a"
             ],
             [
              0.8888888888888888,
              "#fdca26"
             ],
             [
              1,
              "#f0f921"
             ]
            ],
            "type": "contour"
           }
          ],
          "contourcarpet": [
           {
            "colorbar": {
             "outlinewidth": 0,
             "ticks": ""
            },
            "type": "contourcarpet"
           }
          ],
          "heatmap": [
           {
            "colorbar": {
             "outlinewidth": 0,
             "ticks": ""
            },
            "colorscale": [
             [
              0,
              "#0d0887"
             ],
             [
              0.1111111111111111,
              "#46039f"
             ],
             [
              0.2222222222222222,
              "#7201a8"
             ],
             [
              0.3333333333333333,
              "#9c179e"
             ],
             [
              0.4444444444444444,
              "#bd3786"
             ],
             [
              0.5555555555555556,
              "#d8576b"
             ],
             [
              0.6666666666666666,
              "#ed7953"
             ],
             [
              0.7777777777777778,
              "#fb9f3a"
             ],
             [
              0.8888888888888888,
              "#fdca26"
             ],
             [
              1,
              "#f0f921"
             ]
            ],
            "type": "heatmap"
           }
          ],
          "heatmapgl": [
           {
            "colorbar": {
             "outlinewidth": 0,
             "ticks": ""
            },
            "colorscale": [
             [
              0,
              "#0d0887"
             ],
             [
              0.1111111111111111,
              "#46039f"
             ],
             [
              0.2222222222222222,
              "#7201a8"
             ],
             [
              0.3333333333333333,
              "#9c179e"
             ],
             [
              0.4444444444444444,
              "#bd3786"
             ],
             [
              0.5555555555555556,
              "#d8576b"
             ],
             [
              0.6666666666666666,
              "#ed7953"
             ],
             [
              0.7777777777777778,
              "#fb9f3a"
             ],
             [
              0.8888888888888888,
              "#fdca26"
             ],
             [
              1,
              "#f0f921"
             ]
            ],
            "type": "heatmapgl"
           }
          ],
          "histogram": [
           {
            "marker": {
             "pattern": {
              "fillmode": "overlay",
              "size": 10,
              "solidity": 0.2
             }
            },
            "type": "histogram"
           }
          ],
          "histogram2d": [
           {
            "colorbar": {
             "outlinewidth": 0,
             "ticks": ""
            },
            "colorscale": [
             [
              0,
              "#0d0887"
             ],
             [
              0.1111111111111111,
              "#46039f"
             ],
             [
              0.2222222222222222,
              "#7201a8"
             ],
             [
              0.3333333333333333,
              "#9c179e"
             ],
             [
              0.4444444444444444,
              "#bd3786"
             ],
             [
              0.5555555555555556,
              "#d8576b"
             ],
             [
              0.6666666666666666,
              "#ed7953"
             ],
             [
              0.7777777777777778,
              "#fb9f3a"
             ],
             [
              0.8888888888888888,
              "#fdca26"
             ],
             [
              1,
              "#f0f921"
             ]
            ],
            "type": "histogram2d"
           }
          ],
          "histogram2dcontour": [
           {
            "colorbar": {
             "outlinewidth": 0,
             "ticks": ""
            },
            "colorscale": [
             [
              0,
              "#0d0887"
             ],
             [
              0.1111111111111111,
              "#46039f"
             ],
             [
              0.2222222222222222,
              "#7201a8"
             ],
             [
              0.3333333333333333,
              "#9c179e"
             ],
             [
              0.4444444444444444,
              "#bd3786"
             ],
             [
              0.5555555555555556,
              "#d8576b"
             ],
             [
              0.6666666666666666,
              "#ed7953"
             ],
             [
              0.7777777777777778,
              "#fb9f3a"
             ],
             [
              0.8888888888888888,
              "#fdca26"
             ],
             [
              1,
              "#f0f921"
             ]
            ],
            "type": "histogram2dcontour"
           }
          ],
          "mesh3d": [
           {
            "colorbar": {
             "outlinewidth": 0,
             "ticks": ""
            },
            "type": "mesh3d"
           }
          ],
          "parcoords": [
           {
            "line": {
             "colorbar": {
              "outlinewidth": 0,
              "ticks": ""
             }
            },
            "type": "parcoords"
           }
          ],
          "pie": [
           {
            "automargin": true,
            "type": "pie"
           }
          ],
          "scatter": [
           {
            "marker": {
             "colorbar": {
              "outlinewidth": 0,
              "ticks": ""
             }
            },
            "type": "scatter"
           }
          ],
          "scatter3d": [
           {
            "line": {
             "colorbar": {
              "outlinewidth": 0,
              "ticks": ""
             }
            },
            "marker": {
             "colorbar": {
              "outlinewidth": 0,
              "ticks": ""
             }
            },
            "type": "scatter3d"
           }
          ],
          "scattercarpet": [
           {
            "marker": {
             "colorbar": {
              "outlinewidth": 0,
              "ticks": ""
             }
            },
            "type": "scattercarpet"
           }
          ],
          "scattergeo": [
           {
            "marker": {
             "colorbar": {
              "outlinewidth": 0,
              "ticks": ""
             }
            },
            "type": "scattergeo"
           }
          ],
          "scattergl": [
           {
            "marker": {
             "colorbar": {
              "outlinewidth": 0,
              "ticks": ""
             }
            },
            "type": "scattergl"
           }
          ],
          "scattermapbox": [
           {
            "marker": {
             "colorbar": {
              "outlinewidth": 0,
              "ticks": ""
             }
            },
            "type": "scattermapbox"
           }
          ],
          "scatterpolar": [
           {
            "marker": {
             "colorbar": {
              "outlinewidth": 0,
              "ticks": ""
             }
            },
            "type": "scatterpolar"
           }
          ],
          "scatterpolargl": [
           {
            "marker": {
             "colorbar": {
              "outlinewidth": 0,
              "ticks": ""
             }
            },
            "type": "scatterpolargl"
           }
          ],
          "scatterternary": [
           {
            "marker": {
             "colorbar": {
              "outlinewidth": 0,
              "ticks": ""
             }
            },
            "type": "scatterternary"
           }
          ],
          "surface": [
           {
            "colorbar": {
             "outlinewidth": 0,
             "ticks": ""
            },
            "colorscale": [
             [
              0,
              "#0d0887"
             ],
             [
              0.1111111111111111,
              "#46039f"
             ],
             [
              0.2222222222222222,
              "#7201a8"
             ],
             [
              0.3333333333333333,
              "#9c179e"
             ],
             [
              0.4444444444444444,
              "#bd3786"
             ],
             [
              0.5555555555555556,
              "#d8576b"
             ],
             [
              0.6666666666666666,
              "#ed7953"
             ],
             [
              0.7777777777777778,
              "#fb9f3a"
             ],
             [
              0.8888888888888888,
              "#fdca26"
             ],
             [
              1,
              "#f0f921"
             ]
            ],
            "type": "surface"
           }
          ],
          "table": [
           {
            "cells": {
             "fill": {
              "color": "#EBF0F8"
             },
             "line": {
              "color": "white"
             }
            },
            "header": {
             "fill": {
              "color": "#C8D4E3"
             },
             "line": {
              "color": "white"
             }
            },
            "type": "table"
           }
          ]
         },
         "layout": {
          "annotationdefaults": {
           "arrowcolor": "#2a3f5f",
           "arrowhead": 0,
           "arrowwidth": 1
          },
          "autotypenumbers": "strict",
          "coloraxis": {
           "colorbar": {
            "outlinewidth": 0,
            "ticks": ""
           }
          },
          "colorscale": {
           "diverging": [
            [
             0,
             "#8e0152"
            ],
            [
             0.1,
             "#c51b7d"
            ],
            [
             0.2,
             "#de77ae"
            ],
            [
             0.3,
             "#f1b6da"
            ],
            [
             0.4,
             "#fde0ef"
            ],
            [
             0.5,
             "#f7f7f7"
            ],
            [
             0.6,
             "#e6f5d0"
            ],
            [
             0.7,
             "#b8e186"
            ],
            [
             0.8,
             "#7fbc41"
            ],
            [
             0.9,
             "#4d9221"
            ],
            [
             1,
             "#276419"
            ]
           ],
           "sequential": [
            [
             0,
             "#0d0887"
            ],
            [
             0.1111111111111111,
             "#46039f"
            ],
            [
             0.2222222222222222,
             "#7201a8"
            ],
            [
             0.3333333333333333,
             "#9c179e"
            ],
            [
             0.4444444444444444,
             "#bd3786"
            ],
            [
             0.5555555555555556,
             "#d8576b"
            ],
            [
             0.6666666666666666,
             "#ed7953"
            ],
            [
             0.7777777777777778,
             "#fb9f3a"
            ],
            [
             0.8888888888888888,
             "#fdca26"
            ],
            [
             1,
             "#f0f921"
            ]
           ],
           "sequentialminus": [
            [
             0,
             "#0d0887"
            ],
            [
             0.1111111111111111,
             "#46039f"
            ],
            [
             0.2222222222222222,
             "#7201a8"
            ],
            [
             0.3333333333333333,
             "#9c179e"
            ],
            [
             0.4444444444444444,
             "#bd3786"
            ],
            [
             0.5555555555555556,
             "#d8576b"
            ],
            [
             0.6666666666666666,
             "#ed7953"
            ],
            [
             0.7777777777777778,
             "#fb9f3a"
            ],
            [
             0.8888888888888888,
             "#fdca26"
            ],
            [
             1,
             "#f0f921"
            ]
           ]
          },
          "colorway": [
           "#636efa",
           "#EF553B",
           "#00cc96",
           "#ab63fa",
           "#FFA15A",
           "#19d3f3",
           "#FF6692",
           "#B6E880",
           "#FF97FF",
           "#FECB52"
          ],
          "font": {
           "color": "#2a3f5f"
          },
          "geo": {
           "bgcolor": "white",
           "lakecolor": "white",
           "landcolor": "#E5ECF6",
           "showlakes": true,
           "showland": true,
           "subunitcolor": "white"
          },
          "hoverlabel": {
           "align": "left"
          },
          "hovermode": "closest",
          "mapbox": {
           "style": "light"
          },
          "paper_bgcolor": "white",
          "plot_bgcolor": "#E5ECF6",
          "polar": {
           "angularaxis": {
            "gridcolor": "white",
            "linecolor": "white",
            "ticks": ""
           },
           "bgcolor": "#E5ECF6",
           "radialaxis": {
            "gridcolor": "white",
            "linecolor": "white",
            "ticks": ""
           }
          },
          "scene": {
           "xaxis": {
            "backgroundcolor": "#E5ECF6",
            "gridcolor": "white",
            "gridwidth": 2,
            "linecolor": "white",
            "showbackground": true,
            "ticks": "",
            "zerolinecolor": "white"
           },
           "yaxis": {
            "backgroundcolor": "#E5ECF6",
            "gridcolor": "white",
            "gridwidth": 2,
            "linecolor": "white",
            "showbackground": true,
            "ticks": "",
            "zerolinecolor": "white"
           },
           "zaxis": {
            "backgroundcolor": "#E5ECF6",
            "gridcolor": "white",
            "gridwidth": 2,
            "linecolor": "white",
            "showbackground": true,
            "ticks": "",
            "zerolinecolor": "white"
           }
          },
          "shapedefaults": {
           "line": {
            "color": "#2a3f5f"
           }
          },
          "ternary": {
           "aaxis": {
            "gridcolor": "white",
            "linecolor": "white",
            "ticks": ""
           },
           "baxis": {
            "gridcolor": "white",
            "linecolor": "white",
            "ticks": ""
           },
           "bgcolor": "#E5ECF6",
           "caxis": {
            "gridcolor": "white",
            "linecolor": "white",
            "ticks": ""
           }
          },
          "title": {
           "x": 0.05
          },
          "xaxis": {
           "automargin": true,
           "gridcolor": "white",
           "linecolor": "white",
           "ticks": "",
           "title": {
            "standoff": 15
           },
           "zerolinecolor": "white",
           "zerolinewidth": 2
          },
          "yaxis": {
           "automargin": true,
           "gridcolor": "white",
           "linecolor": "white",
           "ticks": "",
           "title": {
            "standoff": 15
           },
           "zerolinecolor": "white",
           "zerolinewidth": 2
          }
         }
        },
        "width": 1200,
        "xaxis": {
         "anchor": "y",
         "domain": [
          0,
          1
         ],
         "range": [
          -5,
          5
         ],
         "title": {
          "text": "PC 1"
         }
        },
        "yaxis": {
         "anchor": "x",
         "domain": [
          0,
          1
         ],
         "range": [
          -5,
          5
         ],
         "title": {
          "text": "PC 2"
         }
        }
       }
      },
      "text/html": [
       "<div>                            <div id=\"2b49edf9-35bf-47e5-acf6-319b1c1f8b42\" class=\"plotly-graph-div\" style=\"height:1000px; width:1200px;\"></div>            <script type=\"text/javascript\">                require([\"plotly\"], function(Plotly) {                    window.PLOTLYENV=window.PLOTLYENV || {};                                    if (document.getElementById(\"2b49edf9-35bf-47e5-acf6-319b1c1f8b42\")) {                    Plotly.newPlot(                        \"2b49edf9-35bf-47e5-acf6-319b1c1f8b42\",                        [{\"hovertemplate\":\"partyname=PS<br>PC 1=%{x}<br>PC 2=%{y}<br>name_year=%{text}<extra></extra>\",\"legendgroup\":\"PS\",\"marker\":{\"color\":\"pink\",\"size\":12,\"symbol\":\"circle\"},\"mode\":\"markers+text\",\"name\":\"PS\",\"orientation\":\"v\",\"showlegend\":true,\"text\":[\"PS_2002\",\"PS_2007\",\"PS_2012\",\"PS_2017\"],\"type\":\"scatter\",\"x\":[2.53255404645464,-0.8828295222052431,0.15903156866464366,0.39308329708381784],\"xaxis\":\"x\",\"y\":[3.8874020801898848,1.3373577326853863,1.8198009700402082,4.033570807709671],\"yaxis\":\"y\"},{\"hovertemplate\":\"partyname=MoDem/EM<br>PC 1=%{x}<br>PC 2=%{y}<br>name_year=%{text}<extra></extra>\",\"legendgroup\":\"MoDem/EM\",\"marker\":{\"color\":\"orange\",\"size\":12,\"symbol\":\"circle\"},\"mode\":\"markers+text\",\"name\":\"MoDem/EM\",\"orientation\":\"v\",\"showlegend\":true,\"text\":[\"MoDem/EM_2002\",\"MoDem/EM_2007\",\"MoDem/EM_2012\",\"MoDem/EM_2017\"],\"type\":\"scatter\",\"x\":[-1.1267116427395685,-0.7960358985363536,-0.9558714222576593,-0.19722005346218624],\"xaxis\":\"x\",\"y\":[-0.8739310835403263,-0.4581167226400047,0.3867483944889244,1.8091436800649763],\"yaxis\":\"y\"},{\"hovertemplate\":\"partyname=RPR/UMP/LR<br>PC 1=%{x}<br>PC 2=%{y}<br>name_year=%{text}<extra></extra>\",\"legendgroup\":\"RPR/UMP/LR\",\"marker\":{\"color\":\"blue\",\"size\":12,\"symbol\":\"circle\"},\"mode\":\"markers+text\",\"name\":\"RPR/UMP/LR\",\"orientation\":\"v\",\"showlegend\":true,\"text\":[\"RPR/UMP/LR_2002\",\"RPR/UMP/LR_2007\",\"RPR/UMP/LR_2012\",\"RPR/UMP/LR_2017\"],\"type\":\"scatter\",\"x\":[1.1439593292143657,-1.2167538108826257,-3.47001482625345,-1.5471583922867065],\"xaxis\":\"x\",\"y\":[2.7488484859890314,0.5242341263750758,0.7916318673482533,0.8927555695720054],\"yaxis\":\"y\"},{\"hovertemplate\":\"partyname=FN<br>PC 1=%{x}<br>PC 2=%{y}<br>name_year=%{text}<extra></extra>\",\"legendgroup\":\"FN\",\"marker\":{\"color\":\"darkslateblue\",\"size\":12,\"symbol\":\"circle\"},\"mode\":\"markers+text\",\"name\":\"FN\",\"orientation\":\"v\",\"showlegend\":true,\"text\":[\"FN_2002\",\"FN_2007\",\"FN_2012\",\"FN_2017\"],\"type\":\"scatter\",\"x\":[-1.9659238177262697,-1.6540131138583107,-3.499541366688576,-2.4593025914244646],\"xaxis\":\"x\",\"y\":[-1.4743338486302036,-2.474160640288574,-3.333566195092899,-1.8478143582982485],\"yaxis\":\"y\"},{\"hovertemplate\":\"partyname=EELV<br>PC 1=%{x}<br>PC 2=%{y}<br>name_year=%{text}<extra></extra>\",\"legendgroup\":\"EELV\",\"marker\":{\"color\":\"green\",\"size\":12,\"symbol\":\"circle\"},\"mode\":\"markers+text\",\"name\":\"EELV\",\"orientation\":\"v\",\"showlegend\":true,\"text\":[\"EELV_2007\",\"EELV_2012\",\"EELV_2017\"],\"type\":\"scatter\",\"x\":[1.2678193910673476,0.5755408328101592,1.4133528610909365],\"xaxis\":\"x\",\"y\":[-1.0646024679783892,-1.2162314093960125,-1.510514387211731],\"yaxis\":\"y\"},{\"hovertemplate\":\"partyname=PCF/PG/LFI<br>PC 1=%{x}<br>PC 2=%{y}<br>name_year=%{text}<extra></extra>\",\"legendgroup\":\"PCF/PG/LFI\",\"marker\":{\"color\":\"red\",\"size\":12,\"symbol\":\"circle\"},\"mode\":\"markers+text\",\"name\":\"PCF/PG/LFI\",\"orientation\":\"v\",\"showlegend\":true,\"text\":[\"PCF/PG/LFI_2007\",\"PCF/PG/LFI_2012\",\"PCF/PG/LFI_2017\"],\"type\":\"scatter\",\"x\":[1.8185558846080128,1.565752883639707,0.8258545837883567],\"xaxis\":\"x\",\"y\":[-0.024372460071695978,0.3806229844679932,-0.813227038635992],\"yaxis\":\"y\"}],                        {\"height\":1000,\"legend\":{\"title\":{\"text\":\"partyname\"},\"tracegroupgap\":0},\"margin\":{\"t\":60},\"template\":{\"data\":{\"bar\":[{\"error_x\":{\"color\":\"#2a3f5f\"},\"error_y\":{\"color\":\"#2a3f5f\"},\"marker\":{\"line\":{\"color\":\"#E5ECF6\",\"width\":0.5},\"pattern\":{\"fillmode\":\"overlay\",\"size\":10,\"solidity\":0.2}},\"type\":\"bar\"}],\"barpolar\":[{\"marker\":{\"line\":{\"color\":\"#E5ECF6\",\"width\":0.5},\"pattern\":{\"fillmode\":\"overlay\",\"size\":10,\"solidity\":0.2}},\"type\":\"barpolar\"}],\"carpet\":[{\"aaxis\":{\"endlinecolor\":\"#2a3f5f\",\"gridcolor\":\"white\",\"linecolor\":\"white\",\"minorgridcolor\":\"white\",\"startlinecolor\":\"#2a3f5f\"},\"baxis\":{\"endlinecolor\":\"#2a3f5f\",\"gridcolor\":\"white\",\"linecolor\":\"white\",\"minorgridcolor\":\"white\",\"startlinecolor\":\"#2a3f5f\"},\"type\":\"carpet\"}],\"choropleth\":[{\"colorbar\":{\"outlinewidth\":0,\"ticks\":\"\"},\"type\":\"choropleth\"}],\"contour\":[{\"colorbar\":{\"outlinewidth\":0,\"ticks\":\"\"},\"colorscale\":[[0.0,\"#0d0887\"],[0.1111111111111111,\"#46039f\"],[0.2222222222222222,\"#7201a8\"],[0.3333333333333333,\"#9c179e\"],[0.4444444444444444,\"#bd3786\"],[0.5555555555555556,\"#d8576b\"],[0.6666666666666666,\"#ed7953\"],[0.7777777777777778,\"#fb9f3a\"],[0.8888888888888888,\"#fdca26\"],[1.0,\"#f0f921\"]],\"type\":\"contour\"}],\"contourcarpet\":[{\"colorbar\":{\"outlinewidth\":0,\"ticks\":\"\"},\"type\":\"contourcarpet\"}],\"heatmap\":[{\"colorbar\":{\"outlinewidth\":0,\"ticks\":\"\"},\"colorscale\":[[0.0,\"#0d0887\"],[0.1111111111111111,\"#46039f\"],[0.2222222222222222,\"#7201a8\"],[0.3333333333333333,\"#9c179e\"],[0.4444444444444444,\"#bd3786\"],[0.5555555555555556,\"#d8576b\"],[0.6666666666666666,\"#ed7953\"],[0.7777777777777778,\"#fb9f3a\"],[0.8888888888888888,\"#fdca26\"],[1.0,\"#f0f921\"]],\"type\":\"heatmap\"}],\"heatmapgl\":[{\"colorbar\":{\"outlinewidth\":0,\"ticks\":\"\"},\"colorscale\":[[0.0,\"#0d0887\"],[0.1111111111111111,\"#46039f\"],[0.2222222222222222,\"#7201a8\"],[0.3333333333333333,\"#9c179e\"],[0.4444444444444444,\"#bd3786\"],[0.5555555555555556,\"#d8576b\"],[0.6666666666666666,\"#ed7953\"],[0.7777777777777778,\"#fb9f3a\"],[0.8888888888888888,\"#fdca26\"],[1.0,\"#f0f921\"]],\"type\":\"heatmapgl\"}],\"histogram\":[{\"marker\":{\"pattern\":{\"fillmode\":\"overlay\",\"size\":10,\"solidity\":0.2}},\"type\":\"histogram\"}],\"histogram2d\":[{\"colorbar\":{\"outlinewidth\":0,\"ticks\":\"\"},\"colorscale\":[[0.0,\"#0d0887\"],[0.1111111111111111,\"#46039f\"],[0.2222222222222222,\"#7201a8\"],[0.3333333333333333,\"#9c179e\"],[0.4444444444444444,\"#bd3786\"],[0.5555555555555556,\"#d8576b\"],[0.6666666666666666,\"#ed7953\"],[0.7777777777777778,\"#fb9f3a\"],[0.8888888888888888,\"#fdca26\"],[1.0,\"#f0f921\"]],\"type\":\"histogram2d\"}],\"histogram2dcontour\":[{\"colorbar\":{\"outlinewidth\":0,\"ticks\":\"\"},\"colorscale\":[[0.0,\"#0d0887\"],[0.1111111111111111,\"#46039f\"],[0.2222222222222222,\"#7201a8\"],[0.3333333333333333,\"#9c179e\"],[0.4444444444444444,\"#bd3786\"],[0.5555555555555556,\"#d8576b\"],[0.6666666666666666,\"#ed7953\"],[0.7777777777777778,\"#fb9f3a\"],[0.8888888888888888,\"#fdca26\"],[1.0,\"#f0f921\"]],\"type\":\"histogram2dcontour\"}],\"mesh3d\":[{\"colorbar\":{\"outlinewidth\":0,\"ticks\":\"\"},\"type\":\"mesh3d\"}],\"parcoords\":[{\"line\":{\"colorbar\":{\"outlinewidth\":0,\"ticks\":\"\"}},\"type\":\"parcoords\"}],\"pie\":[{\"automargin\":true,\"type\":\"pie\"}],\"scatter\":[{\"marker\":{\"colorbar\":{\"outlinewidth\":0,\"ticks\":\"\"}},\"type\":\"scatter\"}],\"scatter3d\":[{\"line\":{\"colorbar\":{\"outlinewidth\":0,\"ticks\":\"\"}},\"marker\":{\"colorbar\":{\"outlinewidth\":0,\"ticks\":\"\"}},\"type\":\"scatter3d\"}],\"scattercarpet\":[{\"marker\":{\"colorbar\":{\"outlinewidth\":0,\"ticks\":\"\"}},\"type\":\"scattercarpet\"}],\"scattergeo\":[{\"marker\":{\"colorbar\":{\"outlinewidth\":0,\"ticks\":\"\"}},\"type\":\"scattergeo\"}],\"scattergl\":[{\"marker\":{\"colorbar\":{\"outlinewidth\":0,\"ticks\":\"\"}},\"type\":\"scattergl\"}],\"scattermapbox\":[{\"marker\":{\"colorbar\":{\"outlinewidth\":0,\"ticks\":\"\"}},\"type\":\"scattermapbox\"}],\"scatterpolar\":[{\"marker\":{\"colorbar\":{\"outlinewidth\":0,\"ticks\":\"\"}},\"type\":\"scatterpolar\"}],\"scatterpolargl\":[{\"marker\":{\"colorbar\":{\"outlinewidth\":0,\"ticks\":\"\"}},\"type\":\"scatterpolargl\"}],\"scatterternary\":[{\"marker\":{\"colorbar\":{\"outlinewidth\":0,\"ticks\":\"\"}},\"type\":\"scatterternary\"}],\"surface\":[{\"colorbar\":{\"outlinewidth\":0,\"ticks\":\"\"},\"colorscale\":[[0.0,\"#0d0887\"],[0.1111111111111111,\"#46039f\"],[0.2222222222222222,\"#7201a8\"],[0.3333333333333333,\"#9c179e\"],[0.4444444444444444,\"#bd3786\"],[0.5555555555555556,\"#d8576b\"],[0.6666666666666666,\"#ed7953\"],[0.7777777777777778,\"#fb9f3a\"],[0.8888888888888888,\"#fdca26\"],[1.0,\"#f0f921\"]],\"type\":\"surface\"}],\"table\":[{\"cells\":{\"fill\":{\"color\":\"#EBF0F8\"},\"line\":{\"color\":\"white\"}},\"header\":{\"fill\":{\"color\":\"#C8D4E3\"},\"line\":{\"color\":\"white\"}},\"type\":\"table\"}]},\"layout\":{\"annotationdefaults\":{\"arrowcolor\":\"#2a3f5f\",\"arrowhead\":0,\"arrowwidth\":1},\"autotypenumbers\":\"strict\",\"coloraxis\":{\"colorbar\":{\"outlinewidth\":0,\"ticks\":\"\"}},\"colorscale\":{\"diverging\":[[0,\"#8e0152\"],[0.1,\"#c51b7d\"],[0.2,\"#de77ae\"],[0.3,\"#f1b6da\"],[0.4,\"#fde0ef\"],[0.5,\"#f7f7f7\"],[0.6,\"#e6f5d0\"],[0.7,\"#b8e186\"],[0.8,\"#7fbc41\"],[0.9,\"#4d9221\"],[1,\"#276419\"]],\"sequential\":[[0.0,\"#0d0887\"],[0.1111111111111111,\"#46039f\"],[0.2222222222222222,\"#7201a8\"],[0.3333333333333333,\"#9c179e\"],[0.4444444444444444,\"#bd3786\"],[0.5555555555555556,\"#d8576b\"],[0.6666666666666666,\"#ed7953\"],[0.7777777777777778,\"#fb9f3a\"],[0.8888888888888888,\"#fdca26\"],[1.0,\"#f0f921\"]],\"sequentialminus\":[[0.0,\"#0d0887\"],[0.1111111111111111,\"#46039f\"],[0.2222222222222222,\"#7201a8\"],[0.3333333333333333,\"#9c179e\"],[0.4444444444444444,\"#bd3786\"],[0.5555555555555556,\"#d8576b\"],[0.6666666666666666,\"#ed7953\"],[0.7777777777777778,\"#fb9f3a\"],[0.8888888888888888,\"#fdca26\"],[1.0,\"#f0f921\"]]},\"colorway\":[\"#636efa\",\"#EF553B\",\"#00cc96\",\"#ab63fa\",\"#FFA15A\",\"#19d3f3\",\"#FF6692\",\"#B6E880\",\"#FF97FF\",\"#FECB52\"],\"font\":{\"color\":\"#2a3f5f\"},\"geo\":{\"bgcolor\":\"white\",\"lakecolor\":\"white\",\"landcolor\":\"#E5ECF6\",\"showlakes\":true,\"showland\":true,\"subunitcolor\":\"white\"},\"hoverlabel\":{\"align\":\"left\"},\"hovermode\":\"closest\",\"mapbox\":{\"style\":\"light\"},\"paper_bgcolor\":\"white\",\"plot_bgcolor\":\"#E5ECF6\",\"polar\":{\"angularaxis\":{\"gridcolor\":\"white\",\"linecolor\":\"white\",\"ticks\":\"\"},\"bgcolor\":\"#E5ECF6\",\"radialaxis\":{\"gridcolor\":\"white\",\"linecolor\":\"white\",\"ticks\":\"\"}},\"scene\":{\"xaxis\":{\"backgroundcolor\":\"#E5ECF6\",\"gridcolor\":\"white\",\"gridwidth\":2,\"linecolor\":\"white\",\"showbackground\":true,\"ticks\":\"\",\"zerolinecolor\":\"white\"},\"yaxis\":{\"backgroundcolor\":\"#E5ECF6\",\"gridcolor\":\"white\",\"gridwidth\":2,\"linecolor\":\"white\",\"showbackground\":true,\"ticks\":\"\",\"zerolinecolor\":\"white\"},\"zaxis\":{\"backgroundcolor\":\"#E5ECF6\",\"gridcolor\":\"white\",\"gridwidth\":2,\"linecolor\":\"white\",\"showbackground\":true,\"ticks\":\"\",\"zerolinecolor\":\"white\"}},\"shapedefaults\":{\"line\":{\"color\":\"#2a3f5f\"}},\"ternary\":{\"aaxis\":{\"gridcolor\":\"white\",\"linecolor\":\"white\",\"ticks\":\"\"},\"baxis\":{\"gridcolor\":\"white\",\"linecolor\":\"white\",\"ticks\":\"\"},\"bgcolor\":\"#E5ECF6\",\"caxis\":{\"gridcolor\":\"white\",\"linecolor\":\"white\",\"ticks\":\"\"}},\"title\":{\"x\":0.05},\"xaxis\":{\"automargin\":true,\"gridcolor\":\"white\",\"linecolor\":\"white\",\"ticks\":\"\",\"title\":{\"standoff\":15},\"zerolinecolor\":\"white\",\"zerolinewidth\":2},\"yaxis\":{\"automargin\":true,\"gridcolor\":\"white\",\"linecolor\":\"white\",\"ticks\":\"\",\"title\":{\"standoff\":15},\"zerolinecolor\":\"white\",\"zerolinewidth\":2}}},\"width\":1200,\"xaxis\":{\"anchor\":\"y\",\"domain\":[0.0,1.0],\"range\":[-5,5],\"title\":{\"text\":\"PC 1\"}},\"yaxis\":{\"anchor\":\"x\",\"domain\":[0.0,1.0],\"range\":[-5,5],\"title\":{\"text\":\"PC 2\"}}},                        {\"responsive\": true}                    ).then(function(){\n",
       "                            \n",
       "var gd = document.getElementById('2b49edf9-35bf-47e5-acf6-319b1c1f8b42');\n",
       "var x = new MutationObserver(function (mutations, observer) {{\n",
       "        var display = window.getComputedStyle(gd).display;\n",
       "        if (!display || display === 'none') {{\n",
       "            console.log([gd, 'removed!']);\n",
       "            Plotly.purge(gd);\n",
       "            observer.disconnect();\n",
       "        }}\n",
       "}});\n",
       "\n",
       "// Listen for the removal of the full notebook cells\n",
       "var notebookContainer = gd.closest('#notebook-container');\n",
       "if (notebookContainer) {{\n",
       "    x.observe(notebookContainer, {childList: true});\n",
       "}}\n",
       "\n",
       "// Listen for the clearing of the current output cell\n",
       "var outputEl = gd.closest('.output');\n",
       "if (outputEl) {{\n",
       "    x.observe(outputEl, {childList: true});\n",
       "}}\n",
       "\n",
       "                        })                };                });            </script>        </div>"
      ]
     },
     "metadata": {},
     "output_type": "display_data"
    }
   ],
   "source": [
    "fig = px.scatter(pca_manifesto, x=0, y=1, color='partyname', text='name_year', \n",
    "                 color_discrete_map=dict_color,\n",
    "                 labels={\"0\":\"PC 1\", \"1\":\"PC 2\"},\n",
    "                 range_x=[-5,5], range_y=[-5,5],\n",
    "                 height=1000, width=1200)\n",
    "\n",
    "#add_correlation_circle(fig, coeffs=comp, texts=topics['topic_name'], normalization=True, add_circle=True)\n",
    "fig.update_traces(marker=dict(size=12))"
   ]
  },
  {
   "cell_type": "code",
   "execution_count": 232,
   "id": "66ae945c",
   "metadata": {},
   "outputs": [],
   "source": [
    "all_docs = pd.concat([manifesto_topic.drop('id_manifesto',axis=1),journal_year_topic], ignore_index=True)"
   ]
  },
  {
   "cell_type": "code",
   "execution_count": 233,
   "id": "b69de548",
   "metadata": {},
   "outputs": [],
   "source": [
    "all_docs['name_year'] = all_docs['partyname'] + '_' + all_docs['annee'].apply(str)"
   ]
  },
  {
   "cell_type": "code",
   "execution_count": 234,
   "id": "a1511bc3",
   "metadata": {},
   "outputs": [],
   "source": [
    "all_vectors = all_docs.topic_distribution.to_list()"
   ]
  },
  {
   "cell_type": "code",
   "execution_count": 235,
   "id": "4d551efb",
   "metadata": {},
   "outputs": [],
   "source": [
    "scaler = StandardScaler()\n",
    "\n",
    "\n",
    "all_vectors = scaler.fit_transform(all_vectors)"
   ]
  },
  {
   "cell_type": "code",
   "execution_count": 236,
   "id": "6933364a",
   "metadata": {},
   "outputs": [],
   "source": [
    "pca_all = pd.DataFrame(pca.transform(all_vectors)[:, [0,1]])"
   ]
  },
  {
   "cell_type": "code",
   "execution_count": 237,
   "id": "49ff1d42",
   "metadata": {},
   "outputs": [],
   "source": [
    "pca_all = pd.concat([pca_all,all_docs[['partyname','annee','name_year']]],axis=1)"
   ]
  },
  {
   "cell_type": "code",
   "execution_count": 238,
   "id": "cb5fdece",
   "metadata": {},
   "outputs": [],
   "source": [
    "pca_all = pca_all.drop(0)"
   ]
  },
  {
   "cell_type": "code",
   "execution_count": 247,
   "id": "b17e6cd4",
   "metadata": {
    "scrolled": true
   },
   "outputs": [
    {
     "data": {
      "application/vnd.plotly.v1+json": {
       "config": {
        "plotlyServerURL": "https://plot.ly"
       },
       "data": [
        {
         "hovertext": [
          "PS_2002",
          "PS_2007",
          "PS_2012",
          "PS_2017"
         ],
         "marker": {
          "color": "pink"
         },
         "mode": "markers+text",
         "name": "PS",
         "text": [
          "PS_2002",
          "PS_2007",
          "PS_2012",
          "PS_2017"
         ],
         "type": "scatter",
         "x": [
          2.752449859049856,
          -1.4158231901096152,
          0.37576813390140323,
          0.6454849046048204
         ],
         "y": [
          4.953420173223142,
          1.9406772111172532,
          2.4337920703022493,
          5.504098581327888
         ]
        },
        {
         "hovertext": [
          "MoDem/EM_2002",
          "MoDem/EM_2007",
          "MoDem/EM_2012",
          "MoDem/EM_2017"
         ],
         "marker": {
          "color": "orange"
         },
         "mode": "markers+text",
         "name": "MoDem/EM",
         "text": [
          "MoDem/EM_2002",
          "MoDem/EM_2007",
          "MoDem/EM_2012",
          "MoDem/EM_2017"
         ],
         "type": "scatter",
         "x": [
          -2.1449519799046204,
          -1.37485336370124,
          -1.658079495665437,
          -0.4992807660274949
         ],
         "y": [
          -0.33362864261894554,
          -0.15757304845259124,
          0.9519212321136695,
          2.7573256277244393
         ]
        },
        {
         "hovertext": [
          "RPR/UMP/LR_2002",
          "RPR/UMP/LR_2007",
          "RPR/UMP/LR_2012",
          "RPR/UMP/LR_2017"
         ],
         "marker": {
          "color": "blue"
         },
         "mode": "markers+text",
         "name": "RPR/UMP/LR",
         "text": [
          "RPR/UMP/LR_2002",
          "RPR/UMP/LR_2007",
          "RPR/UMP/LR_2012",
          "RPR/UMP/LR_2017"
         ],
         "type": "scatter",
         "x": [
          1.2046583380141345,
          -1.8252517123079008,
          -4.388546472342706,
          -2.2596914531446846
         ],
         "y": [
          3.6507076988177634,
          1.343269282755495,
          1.2223379342699658,
          1.2051034630646362
         ]
        },
        {
         "hovertext": [
          "FN_2002",
          "FN_2007",
          "FN_2012",
          "FN_2017"
         ],
         "marker": {
          "color": "darkslateblue"
         },
         "mode": "markers+text",
         "name": "FN",
         "text": [
          "FN_2002",
          "FN_2007",
          "FN_2012",
          "FN_2017"
         ],
         "type": "scatter",
         "x": [
          -2.7219929999033607,
          -2.3949437780461564,
          -4.285293984429515,
          -3.183611448291461
         ],
         "y": [
          -1.412536991081558,
          -2.659112418836344,
          -3.4071658531979487,
          -1.9649524515813916
         ]
        },
        {
         "hovertext": [
          "EELV_2007",
          "EELV_2012",
          "EELV_2017"
         ],
         "marker": {
          "color": "green"
         },
         "mode": "markers+text",
         "name": "EELV",
         "text": [
          "EELV_2007",
          "EELV_2012",
          "EELV_2017"
         ],
         "type": "scatter",
         "x": [
          1.5132787095825193,
          0.780096769724563,
          1.5472221746937085
         ],
         "y": [
          -0.6355776929757996,
          -1.1770105093209011,
          -1.1369481618322939
         ]
        },
        {
         "hovertext": [
          "PCF/PG/LFI_2007",
          "PCF/PG/LFI_2012",
          "PCF/PG/LFI_2017"
         ],
         "marker": {
          "color": "red"
         },
         "mode": "markers+text",
         "name": "PCF/PG/LFI",
         "text": [
          "PCF/PG/LFI_2007",
          "PCF/PG/LFI_2012",
          "PCF/PG/LFI_2017"
         ],
         "type": "scatter",
         "x": [
          1.852655899433533,
          1.9100987893205712,
          0.8144529746360549
         ],
         "y": [
          0.8063673328426774,
          0.7516587875746538,
          -0.8288234804093301
         ]
        },
        {
         "hovertext": [
          "Le Figaro_2001",
          "Le Figaro_2002",
          "Le Figaro_2003",
          "Le Figaro_2004",
          "Le Figaro_2005",
          "Le Figaro_2006",
          "Le Figaro_2007",
          "Le Figaro_2008",
          "Le Figaro_2009",
          "Le Figaro_2010",
          "Le Figaro_2011",
          "Le Figaro_2012",
          "Le Figaro_2013",
          "Le Figaro_2014",
          "Le Figaro_2015",
          "Le Figaro_2016",
          "Le Figaro_2017",
          "Le Figaro_2018"
         ],
         "marker": {
          "color": "cyan"
         },
         "mode": "markers+text",
         "name": "Le Figaro",
         "type": "scatter",
         "x": [
          0.22492085423029734,
          0.596398332958922,
          0.17914429748713892,
          -0.05214548606452544,
          -0.34790866104249696,
          -0.09772630267309391,
          -0.05105698100229995,
          -0.3583402368825068,
          -0.15819860156441737,
          0.0694470376113394,
          0.33691563113921197,
          0.02376754718268441,
          -0.11645375168937813,
          -0.2428505311425968,
          -0.0019626855398622296,
          0.30659623294581173,
          0.11288573236982563,
          -0.8489212846900657
         ],
         "y": [
          0.12493046269542842,
          0.4019662498526433,
          -0.1228545189456642,
          -0.3179238145151898,
          -0.42471865118092594,
          0.1535362543215599,
          -0.18326001979996384,
          -0.05978685051611466,
          -0.1320904360914527,
          0.05006839174807855,
          -0.2178915946689219,
          -0.23478298821382892,
          -0.03766352477167032,
          -0.30588689589349766,
          -0.15318990670251115,
          -0.3450221930200938,
          -0.23588669087635988,
          -0.4071170606532354
         ]
        },
        {
         "hovertext": [
          "Le Monde_2001",
          "Le Monde_2002",
          "Le Monde_2003",
          "Le Monde_2004",
          "Le Monde_2005",
          "Le Monde_2006",
          "Le Monde_2007",
          "Le Monde_2008",
          "Le Monde_2009",
          "Le Monde_2010",
          "Le Monde_2011",
          "Le Monde_2012",
          "Le Monde_2013",
          "Le Monde_2014",
          "Le Monde_2015",
          "Le Monde_2016",
          "Le Monde_2017",
          "Le Monde_2018"
         ],
         "marker": {
          "color": "black"
         },
         "mode": "markers+text",
         "name": "Le Monde",
         "type": "scatter",
         "x": [
          0.39866667234117575,
          0.5212287409989125,
          0.3828641015554705,
          0.25201721074030353,
          0.02265830610418051,
          0.14716605198489824,
          0.19751074757997475,
          -0.18592429939492908,
          0.09365313572207598,
          0.1288939342929212,
          0.4650947955766326,
          0.46387178401389734,
          0.09078845740774845,
          0.3474039789412265,
          0.5438435758295754,
          0.5849263523010614,
          0.9095460475727664,
          0.3953745378055424
         ],
         "y": [
          0.1385326312144943,
          -0.06252019259652783,
          -0.21104203379474687,
          -0.4015245342911225,
          -0.8989190252871722,
          -0.4862141436165264,
          -0.49296672530811386,
          -0.6761480616368142,
          -0.5703642486254028,
          -0.6301040251296501,
          -0.8038399055611283,
          -0.65062066304193,
          -0.4525933686071944,
          -0.24397727993221952,
          -0.5183090124552093,
          -0.5165642556201002,
          0.09255977573057166,
          -0.39670800468705575
         ]
        }
       ],
       "layout": {
        "height": 1000,
        "template": {
         "data": {
          "bar": [
           {
            "error_x": {
             "color": "#2a3f5f"
            },
            "error_y": {
             "color": "#2a3f5f"
            },
            "marker": {
             "line": {
              "color": "#E5ECF6",
              "width": 0.5
             },
             "pattern": {
              "fillmode": "overlay",
              "size": 10,
              "solidity": 0.2
             }
            },
            "type": "bar"
           }
          ],
          "barpolar": [
           {
            "marker": {
             "line": {
              "color": "#E5ECF6",
              "width": 0.5
             },
             "pattern": {
              "fillmode": "overlay",
              "size": 10,
              "solidity": 0.2
             }
            },
            "type": "barpolar"
           }
          ],
          "carpet": [
           {
            "aaxis": {
             "endlinecolor": "#2a3f5f",
             "gridcolor": "white",
             "linecolor": "white",
             "minorgridcolor": "white",
             "startlinecolor": "#2a3f5f"
            },
            "baxis": {
             "endlinecolor": "#2a3f5f",
             "gridcolor": "white",
             "linecolor": "white",
             "minorgridcolor": "white",
             "startlinecolor": "#2a3f5f"
            },
            "type": "carpet"
           }
          ],
          "choropleth": [
           {
            "colorbar": {
             "outlinewidth": 0,
             "ticks": ""
            },
            "type": "choropleth"
           }
          ],
          "contour": [
           {
            "colorbar": {
             "outlinewidth": 0,
             "ticks": ""
            },
            "colorscale": [
             [
              0,
              "#0d0887"
             ],
             [
              0.1111111111111111,
              "#46039f"
             ],
             [
              0.2222222222222222,
              "#7201a8"
             ],
             [
              0.3333333333333333,
              "#9c179e"
             ],
             [
              0.4444444444444444,
              "#bd3786"
             ],
             [
              0.5555555555555556,
              "#d8576b"
             ],
             [
              0.6666666666666666,
              "#ed7953"
             ],
             [
              0.7777777777777778,
              "#fb9f3a"
             ],
             [
              0.8888888888888888,
              "#fdca26"
             ],
             [
              1,
              "#f0f921"
             ]
            ],
            "type": "contour"
           }
          ],
          "contourcarpet": [
           {
            "colorbar": {
             "outlinewidth": 0,
             "ticks": ""
            },
            "type": "contourcarpet"
           }
          ],
          "heatmap": [
           {
            "colorbar": {
             "outlinewidth": 0,
             "ticks": ""
            },
            "colorscale": [
             [
              0,
              "#0d0887"
             ],
             [
              0.1111111111111111,
              "#46039f"
             ],
             [
              0.2222222222222222,
              "#7201a8"
             ],
             [
              0.3333333333333333,
              "#9c179e"
             ],
             [
              0.4444444444444444,
              "#bd3786"
             ],
             [
              0.5555555555555556,
              "#d8576b"
             ],
             [
              0.6666666666666666,
              "#ed7953"
             ],
             [
              0.7777777777777778,
              "#fb9f3a"
             ],
             [
              0.8888888888888888,
              "#fdca26"
             ],
             [
              1,
              "#f0f921"
             ]
            ],
            "type": "heatmap"
           }
          ],
          "heatmapgl": [
           {
            "colorbar": {
             "outlinewidth": 0,
             "ticks": ""
            },
            "colorscale": [
             [
              0,
              "#0d0887"
             ],
             [
              0.1111111111111111,
              "#46039f"
             ],
             [
              0.2222222222222222,
              "#7201a8"
             ],
             [
              0.3333333333333333,
              "#9c179e"
             ],
             [
              0.4444444444444444,
              "#bd3786"
             ],
             [
              0.5555555555555556,
              "#d8576b"
             ],
             [
              0.6666666666666666,
              "#ed7953"
             ],
             [
              0.7777777777777778,
              "#fb9f3a"
             ],
             [
              0.8888888888888888,
              "#fdca26"
             ],
             [
              1,
              "#f0f921"
             ]
            ],
            "type": "heatmapgl"
           }
          ],
          "histogram": [
           {
            "marker": {
             "pattern": {
              "fillmode": "overlay",
              "size": 10,
              "solidity": 0.2
             }
            },
            "type": "histogram"
           }
          ],
          "histogram2d": [
           {
            "colorbar": {
             "outlinewidth": 0,
             "ticks": ""
            },
            "colorscale": [
             [
              0,
              "#0d0887"
             ],
             [
              0.1111111111111111,
              "#46039f"
             ],
             [
              0.2222222222222222,
              "#7201a8"
             ],
             [
              0.3333333333333333,
              "#9c179e"
             ],
             [
              0.4444444444444444,
              "#bd3786"
             ],
             [
              0.5555555555555556,
              "#d8576b"
             ],
             [
              0.6666666666666666,
              "#ed7953"
             ],
             [
              0.7777777777777778,
              "#fb9f3a"
             ],
             [
              0.8888888888888888,
              "#fdca26"
             ],
             [
              1,
              "#f0f921"
             ]
            ],
            "type": "histogram2d"
           }
          ],
          "histogram2dcontour": [
           {
            "colorbar": {
             "outlinewidth": 0,
             "ticks": ""
            },
            "colorscale": [
             [
              0,
              "#0d0887"
             ],
             [
              0.1111111111111111,
              "#46039f"
             ],
             [
              0.2222222222222222,
              "#7201a8"
             ],
             [
              0.3333333333333333,
              "#9c179e"
             ],
             [
              0.4444444444444444,
              "#bd3786"
             ],
             [
              0.5555555555555556,
              "#d8576b"
             ],
             [
              0.6666666666666666,
              "#ed7953"
             ],
             [
              0.7777777777777778,
              "#fb9f3a"
             ],
             [
              0.8888888888888888,
              "#fdca26"
             ],
             [
              1,
              "#f0f921"
             ]
            ],
            "type": "histogram2dcontour"
           }
          ],
          "mesh3d": [
           {
            "colorbar": {
             "outlinewidth": 0,
             "ticks": ""
            },
            "type": "mesh3d"
           }
          ],
          "parcoords": [
           {
            "line": {
             "colorbar": {
              "outlinewidth": 0,
              "ticks": ""
             }
            },
            "type": "parcoords"
           }
          ],
          "pie": [
           {
            "automargin": true,
            "type": "pie"
           }
          ],
          "scatter": [
           {
            "marker": {
             "colorbar": {
              "outlinewidth": 0,
              "ticks": ""
             }
            },
            "type": "scatter"
           }
          ],
          "scatter3d": [
           {
            "line": {
             "colorbar": {
              "outlinewidth": 0,
              "ticks": ""
             }
            },
            "marker": {
             "colorbar": {
              "outlinewidth": 0,
              "ticks": ""
             }
            },
            "type": "scatter3d"
           }
          ],
          "scattercarpet": [
           {
            "marker": {
             "colorbar": {
              "outlinewidth": 0,
              "ticks": ""
             }
            },
            "type": "scattercarpet"
           }
          ],
          "scattergeo": [
           {
            "marker": {
             "colorbar": {
              "outlinewidth": 0,
              "ticks": ""
             }
            },
            "type": "scattergeo"
           }
          ],
          "scattergl": [
           {
            "marker": {
             "colorbar": {
              "outlinewidth": 0,
              "ticks": ""
             }
            },
            "type": "scattergl"
           }
          ],
          "scattermapbox": [
           {
            "marker": {
             "colorbar": {
              "outlinewidth": 0,
              "ticks": ""
             }
            },
            "type": "scattermapbox"
           }
          ],
          "scatterpolar": [
           {
            "marker": {
             "colorbar": {
              "outlinewidth": 0,
              "ticks": ""
             }
            },
            "type": "scatterpolar"
           }
          ],
          "scatterpolargl": [
           {
            "marker": {
             "colorbar": {
              "outlinewidth": 0,
              "ticks": ""
             }
            },
            "type": "scatterpolargl"
           }
          ],
          "scatterternary": [
           {
            "marker": {
             "colorbar": {
              "outlinewidth": 0,
              "ticks": ""
             }
            },
            "type": "scatterternary"
           }
          ],
          "surface": [
           {
            "colorbar": {
             "outlinewidth": 0,
             "ticks": ""
            },
            "colorscale": [
             [
              0,
              "#0d0887"
             ],
             [
              0.1111111111111111,
              "#46039f"
             ],
             [
              0.2222222222222222,
              "#7201a8"
             ],
             [
              0.3333333333333333,
              "#9c179e"
             ],
             [
              0.4444444444444444,
              "#bd3786"
             ],
             [
              0.5555555555555556,
              "#d8576b"
             ],
             [
              0.6666666666666666,
              "#ed7953"
             ],
             [
              0.7777777777777778,
              "#fb9f3a"
             ],
             [
              0.8888888888888888,
              "#fdca26"
             ],
             [
              1,
              "#f0f921"
             ]
            ],
            "type": "surface"
           }
          ],
          "table": [
           {
            "cells": {
             "fill": {
              "color": "#EBF0F8"
             },
             "line": {
              "color": "white"
             }
            },
            "header": {
             "fill": {
              "color": "#C8D4E3"
             },
             "line": {
              "color": "white"
             }
            },
            "type": "table"
           }
          ]
         },
         "layout": {
          "annotationdefaults": {
           "arrowcolor": "#2a3f5f",
           "arrowhead": 0,
           "arrowwidth": 1
          },
          "autotypenumbers": "strict",
          "coloraxis": {
           "colorbar": {
            "outlinewidth": 0,
            "ticks": ""
           }
          },
          "colorscale": {
           "diverging": [
            [
             0,
             "#8e0152"
            ],
            [
             0.1,
             "#c51b7d"
            ],
            [
             0.2,
             "#de77ae"
            ],
            [
             0.3,
             "#f1b6da"
            ],
            [
             0.4,
             "#fde0ef"
            ],
            [
             0.5,
             "#f7f7f7"
            ],
            [
             0.6,
             "#e6f5d0"
            ],
            [
             0.7,
             "#b8e186"
            ],
            [
             0.8,
             "#7fbc41"
            ],
            [
             0.9,
             "#4d9221"
            ],
            [
             1,
             "#276419"
            ]
           ],
           "sequential": [
            [
             0,
             "#0d0887"
            ],
            [
             0.1111111111111111,
             "#46039f"
            ],
            [
             0.2222222222222222,
             "#7201a8"
            ],
            [
             0.3333333333333333,
             "#9c179e"
            ],
            [
             0.4444444444444444,
             "#bd3786"
            ],
            [
             0.5555555555555556,
             "#d8576b"
            ],
            [
             0.6666666666666666,
             "#ed7953"
            ],
            [
             0.7777777777777778,
             "#fb9f3a"
            ],
            [
             0.8888888888888888,
             "#fdca26"
            ],
            [
             1,
             "#f0f921"
            ]
           ],
           "sequentialminus": [
            [
             0,
             "#0d0887"
            ],
            [
             0.1111111111111111,
             "#46039f"
            ],
            [
             0.2222222222222222,
             "#7201a8"
            ],
            [
             0.3333333333333333,
             "#9c179e"
            ],
            [
             0.4444444444444444,
             "#bd3786"
            ],
            [
             0.5555555555555556,
             "#d8576b"
            ],
            [
             0.6666666666666666,
             "#ed7953"
            ],
            [
             0.7777777777777778,
             "#fb9f3a"
            ],
            [
             0.8888888888888888,
             "#fdca26"
            ],
            [
             1,
             "#f0f921"
            ]
           ]
          },
          "colorway": [
           "#636efa",
           "#EF553B",
           "#00cc96",
           "#ab63fa",
           "#FFA15A",
           "#19d3f3",
           "#FF6692",
           "#B6E880",
           "#FF97FF",
           "#FECB52"
          ],
          "font": {
           "color": "#2a3f5f"
          },
          "geo": {
           "bgcolor": "white",
           "lakecolor": "white",
           "landcolor": "#E5ECF6",
           "showlakes": true,
           "showland": true,
           "subunitcolor": "white"
          },
          "hoverlabel": {
           "align": "left"
          },
          "hovermode": "closest",
          "mapbox": {
           "style": "light"
          },
          "paper_bgcolor": "white",
          "plot_bgcolor": "#E5ECF6",
          "polar": {
           "angularaxis": {
            "gridcolor": "white",
            "linecolor": "white",
            "ticks": ""
           },
           "bgcolor": "#E5ECF6",
           "radialaxis": {
            "gridcolor": "white",
            "linecolor": "white",
            "ticks": ""
           }
          },
          "scene": {
           "xaxis": {
            "backgroundcolor": "#E5ECF6",
            "gridcolor": "white",
            "gridwidth": 2,
            "linecolor": "white",
            "showbackground": true,
            "ticks": "",
            "zerolinecolor": "white"
           },
           "yaxis": {
            "backgroundcolor": "#E5ECF6",
            "gridcolor": "white",
            "gridwidth": 2,
            "linecolor": "white",
            "showbackground": true,
            "ticks": "",
            "zerolinecolor": "white"
           },
           "zaxis": {
            "backgroundcolor": "#E5ECF6",
            "gridcolor": "white",
            "gridwidth": 2,
            "linecolor": "white",
            "showbackground": true,
            "ticks": "",
            "zerolinecolor": "white"
           }
          },
          "shapedefaults": {
           "line": {
            "color": "#2a3f5f"
           }
          },
          "ternary": {
           "aaxis": {
            "gridcolor": "white",
            "linecolor": "white",
            "ticks": ""
           },
           "baxis": {
            "gridcolor": "white",
            "linecolor": "white",
            "ticks": ""
           },
           "bgcolor": "#E5ECF6",
           "caxis": {
            "gridcolor": "white",
            "linecolor": "white",
            "ticks": ""
           }
          },
          "title": {
           "x": 0.05
          },
          "xaxis": {
           "automargin": true,
           "gridcolor": "white",
           "linecolor": "white",
           "ticks": "",
           "title": {
            "standoff": 15
           },
           "zerolinecolor": "white",
           "zerolinewidth": 2
          },
          "yaxis": {
           "automargin": true,
           "gridcolor": "white",
           "linecolor": "white",
           "ticks": "",
           "title": {
            "standoff": 15
           },
           "zerolinecolor": "white",
           "zerolinewidth": 2
          }
         }
        },
        "width": 1200,
        "xaxis": {
         "range": [
          -5,
          5
         ],
         "title": {
          "text": "PC 1"
         }
        },
        "yaxis": {
         "range": [
          -6,
          6
         ],
         "title": {
          "text": "PC 2"
         }
        }
       }
      },
      "text/html": [
       "<div>                            <div id=\"94466020-3252-4dbf-a1e1-961eb5131eca\" class=\"plotly-graph-div\" style=\"height:1000px; width:1200px;\"></div>            <script type=\"text/javascript\">                require([\"plotly\"], function(Plotly) {                    window.PLOTLYENV=window.PLOTLYENV || {};                                    if (document.getElementById(\"94466020-3252-4dbf-a1e1-961eb5131eca\")) {                    Plotly.newPlot(                        \"94466020-3252-4dbf-a1e1-961eb5131eca\",                        [{\"hovertext\":[\"PS_2002\",\"PS_2007\",\"PS_2012\",\"PS_2017\"],\"marker\":{\"color\":\"pink\"},\"mode\":\"markers+text\",\"name\":\"PS\",\"text\":[\"PS_2002\",\"PS_2007\",\"PS_2012\",\"PS_2017\"],\"type\":\"scatter\",\"x\":[2.752449859049856,-1.4158231901096152,0.37576813390140323,0.6454849046048204],\"y\":[4.953420173223142,1.9406772111172532,2.4337920703022493,5.504098581327888]},{\"hovertext\":[\"MoDem/EM_2002\",\"MoDem/EM_2007\",\"MoDem/EM_2012\",\"MoDem/EM_2017\"],\"marker\":{\"color\":\"orange\"},\"mode\":\"markers+text\",\"name\":\"MoDem/EM\",\"text\":[\"MoDem/EM_2002\",\"MoDem/EM_2007\",\"MoDem/EM_2012\",\"MoDem/EM_2017\"],\"type\":\"scatter\",\"x\":[-2.1449519799046204,-1.37485336370124,-1.658079495665437,-0.4992807660274949],\"y\":[-0.33362864261894554,-0.15757304845259124,0.9519212321136695,2.7573256277244393]},{\"hovertext\":[\"RPR/UMP/LR_2002\",\"RPR/UMP/LR_2007\",\"RPR/UMP/LR_2012\",\"RPR/UMP/LR_2017\"],\"marker\":{\"color\":\"blue\"},\"mode\":\"markers+text\",\"name\":\"RPR/UMP/LR\",\"text\":[\"RPR/UMP/LR_2002\",\"RPR/UMP/LR_2007\",\"RPR/UMP/LR_2012\",\"RPR/UMP/LR_2017\"],\"type\":\"scatter\",\"x\":[1.2046583380141345,-1.8252517123079008,-4.388546472342706,-2.2596914531446846],\"y\":[3.6507076988177634,1.343269282755495,1.2223379342699658,1.2051034630646362]},{\"hovertext\":[\"FN_2002\",\"FN_2007\",\"FN_2012\",\"FN_2017\"],\"marker\":{\"color\":\"darkslateblue\"},\"mode\":\"markers+text\",\"name\":\"FN\",\"text\":[\"FN_2002\",\"FN_2007\",\"FN_2012\",\"FN_2017\"],\"type\":\"scatter\",\"x\":[-2.7219929999033607,-2.3949437780461564,-4.285293984429515,-3.183611448291461],\"y\":[-1.412536991081558,-2.659112418836344,-3.4071658531979487,-1.9649524515813916]},{\"hovertext\":[\"EELV_2007\",\"EELV_2012\",\"EELV_2017\"],\"marker\":{\"color\":\"green\"},\"mode\":\"markers+text\",\"name\":\"EELV\",\"text\":[\"EELV_2007\",\"EELV_2012\",\"EELV_2017\"],\"type\":\"scatter\",\"x\":[1.5132787095825193,0.780096769724563,1.5472221746937085],\"y\":[-0.6355776929757996,-1.1770105093209011,-1.1369481618322939]},{\"hovertext\":[\"PCF/PG/LFI_2007\",\"PCF/PG/LFI_2012\",\"PCF/PG/LFI_2017\"],\"marker\":{\"color\":\"red\"},\"mode\":\"markers+text\",\"name\":\"PCF/PG/LFI\",\"text\":[\"PCF/PG/LFI_2007\",\"PCF/PG/LFI_2012\",\"PCF/PG/LFI_2017\"],\"type\":\"scatter\",\"x\":[1.852655899433533,1.9100987893205712,0.8144529746360549],\"y\":[0.8063673328426774,0.7516587875746538,-0.8288234804093301]},{\"hovertext\":[\"Le Figaro_2001\",\"Le Figaro_2002\",\"Le Figaro_2003\",\"Le Figaro_2004\",\"Le Figaro_2005\",\"Le Figaro_2006\",\"Le Figaro_2007\",\"Le Figaro_2008\",\"Le Figaro_2009\",\"Le Figaro_2010\",\"Le Figaro_2011\",\"Le Figaro_2012\",\"Le Figaro_2013\",\"Le Figaro_2014\",\"Le Figaro_2015\",\"Le Figaro_2016\",\"Le Figaro_2017\",\"Le Figaro_2018\"],\"marker\":{\"color\":\"cyan\"},\"mode\":\"markers+text\",\"name\":\"Le Figaro\",\"type\":\"scatter\",\"x\":[0.22492085423029734,0.596398332958922,0.17914429748713892,-0.05214548606452544,-0.34790866104249696,-0.09772630267309391,-0.05105698100229995,-0.3583402368825068,-0.15819860156441737,0.0694470376113394,0.33691563113921197,0.02376754718268441,-0.11645375168937813,-0.2428505311425968,-0.0019626855398622296,0.30659623294581173,0.11288573236982563,-0.8489212846900657],\"y\":[0.12493046269542842,0.4019662498526433,-0.1228545189456642,-0.3179238145151898,-0.42471865118092594,0.1535362543215599,-0.18326001979996384,-0.05978685051611466,-0.1320904360914527,0.05006839174807855,-0.2178915946689219,-0.23478298821382892,-0.03766352477167032,-0.30588689589349766,-0.15318990670251115,-0.3450221930200938,-0.23588669087635988,-0.4071170606532354]},{\"hovertext\":[\"Le Monde_2001\",\"Le Monde_2002\",\"Le Monde_2003\",\"Le Monde_2004\",\"Le Monde_2005\",\"Le Monde_2006\",\"Le Monde_2007\",\"Le Monde_2008\",\"Le Monde_2009\",\"Le Monde_2010\",\"Le Monde_2011\",\"Le Monde_2012\",\"Le Monde_2013\",\"Le Monde_2014\",\"Le Monde_2015\",\"Le Monde_2016\",\"Le Monde_2017\",\"Le Monde_2018\"],\"marker\":{\"color\":\"black\"},\"mode\":\"markers+text\",\"name\":\"Le Monde\",\"type\":\"scatter\",\"x\":[0.39866667234117575,0.5212287409989125,0.3828641015554705,0.25201721074030353,0.02265830610418051,0.14716605198489824,0.19751074757997475,-0.18592429939492908,0.09365313572207598,0.1288939342929212,0.4650947955766326,0.46387178401389734,0.09078845740774845,0.3474039789412265,0.5438435758295754,0.5849263523010614,0.9095460475727664,0.3953745378055424],\"y\":[0.1385326312144943,-0.06252019259652783,-0.21104203379474687,-0.4015245342911225,-0.8989190252871722,-0.4862141436165264,-0.49296672530811386,-0.6761480616368142,-0.5703642486254028,-0.6301040251296501,-0.8038399055611283,-0.65062066304193,-0.4525933686071944,-0.24397727993221952,-0.5183090124552093,-0.5165642556201002,0.09255977573057166,-0.39670800468705575]}],                        {\"height\":1000,\"template\":{\"data\":{\"bar\":[{\"error_x\":{\"color\":\"#2a3f5f\"},\"error_y\":{\"color\":\"#2a3f5f\"},\"marker\":{\"line\":{\"color\":\"#E5ECF6\",\"width\":0.5},\"pattern\":{\"fillmode\":\"overlay\",\"size\":10,\"solidity\":0.2}},\"type\":\"bar\"}],\"barpolar\":[{\"marker\":{\"line\":{\"color\":\"#E5ECF6\",\"width\":0.5},\"pattern\":{\"fillmode\":\"overlay\",\"size\":10,\"solidity\":0.2}},\"type\":\"barpolar\"}],\"carpet\":[{\"aaxis\":{\"endlinecolor\":\"#2a3f5f\",\"gridcolor\":\"white\",\"linecolor\":\"white\",\"minorgridcolor\":\"white\",\"startlinecolor\":\"#2a3f5f\"},\"baxis\":{\"endlinecolor\":\"#2a3f5f\",\"gridcolor\":\"white\",\"linecolor\":\"white\",\"minorgridcolor\":\"white\",\"startlinecolor\":\"#2a3f5f\"},\"type\":\"carpet\"}],\"choropleth\":[{\"colorbar\":{\"outlinewidth\":0,\"ticks\":\"\"},\"type\":\"choropleth\"}],\"contour\":[{\"colorbar\":{\"outlinewidth\":0,\"ticks\":\"\"},\"colorscale\":[[0.0,\"#0d0887\"],[0.1111111111111111,\"#46039f\"],[0.2222222222222222,\"#7201a8\"],[0.3333333333333333,\"#9c179e\"],[0.4444444444444444,\"#bd3786\"],[0.5555555555555556,\"#d8576b\"],[0.6666666666666666,\"#ed7953\"],[0.7777777777777778,\"#fb9f3a\"],[0.8888888888888888,\"#fdca26\"],[1.0,\"#f0f921\"]],\"type\":\"contour\"}],\"contourcarpet\":[{\"colorbar\":{\"outlinewidth\":0,\"ticks\":\"\"},\"type\":\"contourcarpet\"}],\"heatmap\":[{\"colorbar\":{\"outlinewidth\":0,\"ticks\":\"\"},\"colorscale\":[[0.0,\"#0d0887\"],[0.1111111111111111,\"#46039f\"],[0.2222222222222222,\"#7201a8\"],[0.3333333333333333,\"#9c179e\"],[0.4444444444444444,\"#bd3786\"],[0.5555555555555556,\"#d8576b\"],[0.6666666666666666,\"#ed7953\"],[0.7777777777777778,\"#fb9f3a\"],[0.8888888888888888,\"#fdca26\"],[1.0,\"#f0f921\"]],\"type\":\"heatmap\"}],\"heatmapgl\":[{\"colorbar\":{\"outlinewidth\":0,\"ticks\":\"\"},\"colorscale\":[[0.0,\"#0d0887\"],[0.1111111111111111,\"#46039f\"],[0.2222222222222222,\"#7201a8\"],[0.3333333333333333,\"#9c179e\"],[0.4444444444444444,\"#bd3786\"],[0.5555555555555556,\"#d8576b\"],[0.6666666666666666,\"#ed7953\"],[0.7777777777777778,\"#fb9f3a\"],[0.8888888888888888,\"#fdca26\"],[1.0,\"#f0f921\"]],\"type\":\"heatmapgl\"}],\"histogram\":[{\"marker\":{\"pattern\":{\"fillmode\":\"overlay\",\"size\":10,\"solidity\":0.2}},\"type\":\"histogram\"}],\"histogram2d\":[{\"colorbar\":{\"outlinewidth\":0,\"ticks\":\"\"},\"colorscale\":[[0.0,\"#0d0887\"],[0.1111111111111111,\"#46039f\"],[0.2222222222222222,\"#7201a8\"],[0.3333333333333333,\"#9c179e\"],[0.4444444444444444,\"#bd3786\"],[0.5555555555555556,\"#d8576b\"],[0.6666666666666666,\"#ed7953\"],[0.7777777777777778,\"#fb9f3a\"],[0.8888888888888888,\"#fdca26\"],[1.0,\"#f0f921\"]],\"type\":\"histogram2d\"}],\"histogram2dcontour\":[{\"colorbar\":{\"outlinewidth\":0,\"ticks\":\"\"},\"colorscale\":[[0.0,\"#0d0887\"],[0.1111111111111111,\"#46039f\"],[0.2222222222222222,\"#7201a8\"],[0.3333333333333333,\"#9c179e\"],[0.4444444444444444,\"#bd3786\"],[0.5555555555555556,\"#d8576b\"],[0.6666666666666666,\"#ed7953\"],[0.7777777777777778,\"#fb9f3a\"],[0.8888888888888888,\"#fdca26\"],[1.0,\"#f0f921\"]],\"type\":\"histogram2dcontour\"}],\"mesh3d\":[{\"colorbar\":{\"outlinewidth\":0,\"ticks\":\"\"},\"type\":\"mesh3d\"}],\"parcoords\":[{\"line\":{\"colorbar\":{\"outlinewidth\":0,\"ticks\":\"\"}},\"type\":\"parcoords\"}],\"pie\":[{\"automargin\":true,\"type\":\"pie\"}],\"scatter\":[{\"marker\":{\"colorbar\":{\"outlinewidth\":0,\"ticks\":\"\"}},\"type\":\"scatter\"}],\"scatter3d\":[{\"line\":{\"colorbar\":{\"outlinewidth\":0,\"ticks\":\"\"}},\"marker\":{\"colorbar\":{\"outlinewidth\":0,\"ticks\":\"\"}},\"type\":\"scatter3d\"}],\"scattercarpet\":[{\"marker\":{\"colorbar\":{\"outlinewidth\":0,\"ticks\":\"\"}},\"type\":\"scattercarpet\"}],\"scattergeo\":[{\"marker\":{\"colorbar\":{\"outlinewidth\":0,\"ticks\":\"\"}},\"type\":\"scattergeo\"}],\"scattergl\":[{\"marker\":{\"colorbar\":{\"outlinewidth\":0,\"ticks\":\"\"}},\"type\":\"scattergl\"}],\"scattermapbox\":[{\"marker\":{\"colorbar\":{\"outlinewidth\":0,\"ticks\":\"\"}},\"type\":\"scattermapbox\"}],\"scatterpolar\":[{\"marker\":{\"colorbar\":{\"outlinewidth\":0,\"ticks\":\"\"}},\"type\":\"scatterpolar\"}],\"scatterpolargl\":[{\"marker\":{\"colorbar\":{\"outlinewidth\":0,\"ticks\":\"\"}},\"type\":\"scatterpolargl\"}],\"scatterternary\":[{\"marker\":{\"colorbar\":{\"outlinewidth\":0,\"ticks\":\"\"}},\"type\":\"scatterternary\"}],\"surface\":[{\"colorbar\":{\"outlinewidth\":0,\"ticks\":\"\"},\"colorscale\":[[0.0,\"#0d0887\"],[0.1111111111111111,\"#46039f\"],[0.2222222222222222,\"#7201a8\"],[0.3333333333333333,\"#9c179e\"],[0.4444444444444444,\"#bd3786\"],[0.5555555555555556,\"#d8576b\"],[0.6666666666666666,\"#ed7953\"],[0.7777777777777778,\"#fb9f3a\"],[0.8888888888888888,\"#fdca26\"],[1.0,\"#f0f921\"]],\"type\":\"surface\"}],\"table\":[{\"cells\":{\"fill\":{\"color\":\"#EBF0F8\"},\"line\":{\"color\":\"white\"}},\"header\":{\"fill\":{\"color\":\"#C8D4E3\"},\"line\":{\"color\":\"white\"}},\"type\":\"table\"}]},\"layout\":{\"annotationdefaults\":{\"arrowcolor\":\"#2a3f5f\",\"arrowhead\":0,\"arrowwidth\":1},\"autotypenumbers\":\"strict\",\"coloraxis\":{\"colorbar\":{\"outlinewidth\":0,\"ticks\":\"\"}},\"colorscale\":{\"diverging\":[[0,\"#8e0152\"],[0.1,\"#c51b7d\"],[0.2,\"#de77ae\"],[0.3,\"#f1b6da\"],[0.4,\"#fde0ef\"],[0.5,\"#f7f7f7\"],[0.6,\"#e6f5d0\"],[0.7,\"#b8e186\"],[0.8,\"#7fbc41\"],[0.9,\"#4d9221\"],[1,\"#276419\"]],\"sequential\":[[0.0,\"#0d0887\"],[0.1111111111111111,\"#46039f\"],[0.2222222222222222,\"#7201a8\"],[0.3333333333333333,\"#9c179e\"],[0.4444444444444444,\"#bd3786\"],[0.5555555555555556,\"#d8576b\"],[0.6666666666666666,\"#ed7953\"],[0.7777777777777778,\"#fb9f3a\"],[0.8888888888888888,\"#fdca26\"],[1.0,\"#f0f921\"]],\"sequentialminus\":[[0.0,\"#0d0887\"],[0.1111111111111111,\"#46039f\"],[0.2222222222222222,\"#7201a8\"],[0.3333333333333333,\"#9c179e\"],[0.4444444444444444,\"#bd3786\"],[0.5555555555555556,\"#d8576b\"],[0.6666666666666666,\"#ed7953\"],[0.7777777777777778,\"#fb9f3a\"],[0.8888888888888888,\"#fdca26\"],[1.0,\"#f0f921\"]]},\"colorway\":[\"#636efa\",\"#EF553B\",\"#00cc96\",\"#ab63fa\",\"#FFA15A\",\"#19d3f3\",\"#FF6692\",\"#B6E880\",\"#FF97FF\",\"#FECB52\"],\"font\":{\"color\":\"#2a3f5f\"},\"geo\":{\"bgcolor\":\"white\",\"lakecolor\":\"white\",\"landcolor\":\"#E5ECF6\",\"showlakes\":true,\"showland\":true,\"subunitcolor\":\"white\"},\"hoverlabel\":{\"align\":\"left\"},\"hovermode\":\"closest\",\"mapbox\":{\"style\":\"light\"},\"paper_bgcolor\":\"white\",\"plot_bgcolor\":\"#E5ECF6\",\"polar\":{\"angularaxis\":{\"gridcolor\":\"white\",\"linecolor\":\"white\",\"ticks\":\"\"},\"bgcolor\":\"#E5ECF6\",\"radialaxis\":{\"gridcolor\":\"white\",\"linecolor\":\"white\",\"ticks\":\"\"}},\"scene\":{\"xaxis\":{\"backgroundcolor\":\"#E5ECF6\",\"gridcolor\":\"white\",\"gridwidth\":2,\"linecolor\":\"white\",\"showbackground\":true,\"ticks\":\"\",\"zerolinecolor\":\"white\"},\"yaxis\":{\"backgroundcolor\":\"#E5ECF6\",\"gridcolor\":\"white\",\"gridwidth\":2,\"linecolor\":\"white\",\"showbackground\":true,\"ticks\":\"\",\"zerolinecolor\":\"white\"},\"zaxis\":{\"backgroundcolor\":\"#E5ECF6\",\"gridcolor\":\"white\",\"gridwidth\":2,\"linecolor\":\"white\",\"showbackground\":true,\"ticks\":\"\",\"zerolinecolor\":\"white\"}},\"shapedefaults\":{\"line\":{\"color\":\"#2a3f5f\"}},\"ternary\":{\"aaxis\":{\"gridcolor\":\"white\",\"linecolor\":\"white\",\"ticks\":\"\"},\"baxis\":{\"gridcolor\":\"white\",\"linecolor\":\"white\",\"ticks\":\"\"},\"bgcolor\":\"#E5ECF6\",\"caxis\":{\"gridcolor\":\"white\",\"linecolor\":\"white\",\"ticks\":\"\"}},\"title\":{\"x\":0.05},\"xaxis\":{\"automargin\":true,\"gridcolor\":\"white\",\"linecolor\":\"white\",\"ticks\":\"\",\"title\":{\"standoff\":15},\"zerolinecolor\":\"white\",\"zerolinewidth\":2},\"yaxis\":{\"automargin\":true,\"gridcolor\":\"white\",\"linecolor\":\"white\",\"ticks\":\"\",\"title\":{\"standoff\":15},\"zerolinecolor\":\"white\",\"zerolinewidth\":2}}},\"width\":1200,\"xaxis\":{\"range\":[-5,5],\"title\":{\"text\":\"PC 1\"}},\"yaxis\":{\"range\":[-6,6],\"title\":{\"text\":\"PC 2\"}}},                        {\"responsive\": true}                    ).then(function(){\n",
       "                            \n",
       "var gd = document.getElementById('94466020-3252-4dbf-a1e1-961eb5131eca');\n",
       "var x = new MutationObserver(function (mutations, observer) {{\n",
       "        var display = window.getComputedStyle(gd).display;\n",
       "        if (!display || display === 'none') {{\n",
       "            console.log([gd, 'removed!']);\n",
       "            Plotly.purge(gd);\n",
       "            observer.disconnect();\n",
       "        }}\n",
       "}});\n",
       "\n",
       "// Listen for the removal of the full notebook cells\n",
       "var notebookContainer = gd.closest('#notebook-container');\n",
       "if (notebookContainer) {{\n",
       "    x.observe(notebookContainer, {childList: true});\n",
       "}}\n",
       "\n",
       "// Listen for the clearing of the current output cell\n",
       "var outputEl = gd.closest('.output');\n",
       "if (outputEl) {{\n",
       "    x.observe(outputEl, {childList: true});\n",
       "}}\n",
       "\n",
       "                        })                };                });            </script>        </div>"
      ]
     },
     "metadata": {},
     "output_type": "display_data"
    }
   ],
   "source": [
    "fig_all = go.Figure()\n",
    "\n",
    "for partname in pca_all.partyname.unique():\n",
    "    tmp = pca_all[pca_all['partyname']==partname]\n",
    "\n",
    "    \n",
    "    if partname in ['Le Monde', 'Le Figaro']:\n",
    "        fig_all.add_trace(go.Scatter(\n",
    "            x=tmp[0],\n",
    "            y=tmp[1],\n",
    "            mode=\"markers+text\",\n",
    "            #mode=\"lines+markers+text\",\n",
    "            name=partname,\n",
    "            #text=tmp['annee'],\n",
    "            marker=dict(color=dict_color[partname]),\n",
    "            hovertext=tmp['name_year'],\n",
    "        ))        \n",
    "        \n",
    "    else:    \n",
    "        fig_all.add_trace(go.Scatter(\n",
    "            x=tmp[0],\n",
    "            y=tmp[1],\n",
    "            mode=\"markers+text\",\n",
    "            #mode=\"lines+markers+text\",\n",
    "            name=partname,\n",
    "            text=tmp['name_year'],\n",
    "            marker=dict(color=dict_color[partname]),\n",
    "            hovertext=tmp['name_year'],\n",
    "        ))\n",
    "    \n",
    "fig_all.update_layout(height=1000, width=1200, \n",
    "                      xaxis=dict(range=[-5,5],title='PC 1'), yaxis=dict(range=[-6,6], title='PC 2')\n",
    "                     )\n",
    "#fig_all.write_html('/Users/rubing/Downloads/pca_all.html')"
   ]
  },
  {
   "cell_type": "code",
   "execution_count": null,
   "id": "dff08a8e",
   "metadata": {},
   "outputs": [],
   "source": []
  }
 ],
 "metadata": {
  "kernelspec": {
   "display_name": "Python 3",
   "language": "python",
   "name": "python3"
  },
  "language_info": {
   "codemirror_mode": {
    "name": "ipython",
    "version": 3
   },
   "file_extension": ".py",
   "mimetype": "text/x-python",
   "name": "python",
   "nbconvert_exporter": "python",
   "pygments_lexer": "ipython3",
   "version": "3.8.8"
  }
 },
 "nbformat": 4,
 "nbformat_minor": 5
}
